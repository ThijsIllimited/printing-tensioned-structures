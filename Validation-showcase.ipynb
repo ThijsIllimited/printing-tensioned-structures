{
 "cells": [
  {
   "cell_type": "markdown",
   "metadata": {},
   "source": [
    "## Network validation\n",
    "This scripts is meant to validate that the designed vertex location match the real locations.\n",
    "\n",
    "The theoratical vertices are found in a network model as net.vertices.\n",
    "The real vertices are retrieved from a picture of the network suspended in a frame. The following steps are required to enable the comparison:\n",
    "- Conventional cameras have some distortion. (straight lines appear to be curved). The camera distortion can be found from a set of images of a checkerboard with known dimensions. The image is then undistorted.\n",
    "- Ideally, a picture of the network is taken exaclty orthogonal to the subject. The homography of the camera angle with respect to the frame is determined. The frame contains markers on a straight plane with known world coordinates. With the homography known an image can be warped such that it appears to take the frame exactly orthogonal to the frame.\n",
    "\n",
    "Finally, the vertices are selected in the image and they can be compared to their theoratical locations."
   ]
  },
  {
   "cell_type": "code",
   "execution_count": 23,
   "metadata": {},
   "outputs": [],
   "source": [
    "import numpy as np\n",
    "import matplotlib.pyplot as plt\n",
    "import cv2\n",
    "import os\n",
    "import glob\n",
    "from src.network import Network_custom"
   ]
  },
  {
   "cell_type": "markdown",
   "metadata": {},
   "source": [
    "### Open the network model"
   ]
  },
  {
   "cell_type": "code",
   "execution_count": 24,
   "metadata": {},
   "outputs": [
    {
     "data": {
      "application/vnd.plotly.v1+json": {
       "config": {
        "plotlyServerURL": "https://plot.ly"
       },
       "data": [
        {
         "line": {
          "color": [
           0.7205371317463646,
           0.7205371317463646,
           0,
           0.1245750233339202,
           0.1245750233339202,
           0,
           0.23472790519123893,
           0.23472790519123893,
           0,
           0.6719347140064936,
           0.6719347140064936,
           0,
           0.6183492873288027,
           0.6183492873288027,
           0,
           0.10264092170020961,
           0.10264092170020961,
           0,
           0.10550647213352225,
           0.10550647213352225,
           0,
           0.6956781027007982,
           0.6956781027007982,
           0,
           0.3551781400605174,
           0.3551781400605174,
           0,
           0.29503267539884603,
           0.29503267539884603,
           0,
           0.32292706326805853,
           0.32292706326805853,
           0,
           0.5693042659907914,
           0.5693042659907914,
           0
          ],
          "colorbar": {
           "title": {
            "text": "Force"
           }
          },
          "colorscale": [
           [
            0,
            "#440154"
           ],
           [
            0.1111111111111111,
            "#482878"
           ],
           [
            0.2222222222222222,
            "#3e4989"
           ],
           [
            0.3333333333333333,
            "#31688e"
           ],
           [
            0.4444444444444444,
            "#26828e"
           ],
           [
            0.5555555555555556,
            "#1f9e89"
           ],
           [
            0.6666666666666666,
            "#35b779"
           ],
           [
            0.7777777777777778,
            "#6ece58"
           ],
           [
            0.8888888888888888,
            "#b5de2b"
           ],
           [
            1,
            "#fde725"
           ]
          ],
          "showscale": true,
          "width": 3
         },
         "mode": "lines",
         "type": "scatter3d",
         "x": [
          -100,
          -28.507629326386294,
          null,
          -28.507629326386294,
          20.32005954596205,
          null,
          20.32005954596205,
          32.82471157424638,
          null,
          32.82471157424638,
          100,
          null,
          0,
          3.1112765165612273,
          null,
          3.1112765165612273,
          20.32005954596205,
          null,
          20.32005954596205,
          -7.428358764421276,
          null,
          -7.428358764421276,
          0,
          null,
          -28.507629326386294,
          3.1112765165612273,
          null,
          3.1112765165612273,
          32.82471157424638,
          null,
          32.82471157424638,
          -7.428358764421276,
          null,
          -7.428358764421276,
          -28.507629326386294,
          null
         ],
         "y": [
          0,
          8.97655377744696,
          null,
          8.97655377744696,
          -0.9676218831410554,
          null,
          -0.9676218831410554,
          -1.563081503535547,
          null,
          -1.563081503535547,
          0,
          null,
          -100,
          -38.243394119836246,
          null,
          -38.243394119836246,
          -0.9676218831410554,
          null,
          -0.9676218831410554,
          30.82992184592481,
          null,
          30.82992184592481,
          100,
          null,
          8.97655377744696,
          -38.243394119836246,
          null,
          -38.243394119836246,
          -1.563081503535547,
          null,
          -1.563081503535547,
          30.82992184592481,
          null,
          30.82992184592481,
          8.97655377744696,
          null
         ],
         "z": [
          0,
          0,
          null,
          0,
          0,
          null,
          0,
          0,
          null,
          0,
          0,
          null,
          0,
          0,
          null,
          0,
          0,
          null,
          0,
          0,
          null,
          0,
          0,
          null,
          0,
          0,
          null,
          0,
          0,
          null,
          0,
          0,
          null,
          0,
          0,
          null
         ]
        },
        {
         "mode": "text",
         "text": [
          "0"
         ],
         "type": "scatter3d",
         "x": [
          -64.25381466319314
         ],
         "y": [
          4.48827688872348
         ],
         "z": [
          0
         ]
        },
        {
         "mode": "text",
         "text": [
          "1"
         ],
         "type": "scatter3d",
         "x": [
          -4.093784890212122
         ],
         "y": [
          4.004465947152952
         ],
         "z": [
          0
         ]
        },
        {
         "mode": "text",
         "text": [
          "2"
         ],
         "type": "scatter3d",
         "x": [
          26.572385560104216
         ],
         "y": [
          -1.265351693338301
         ],
         "z": [
          0
         ]
        },
        {
         "mode": "text",
         "text": [
          "3"
         ],
         "type": "scatter3d",
         "x": [
          66.41235578712319
         ],
         "y": [
          -0.7815407517677735
         ],
         "z": [
          0
         ]
        },
        {
         "mode": "text",
         "text": [
          "4"
         ],
         "type": "scatter3d",
         "x": [
          1.5556382582806136
         ],
         "y": [
          -69.12169705991812
         ],
         "z": [
          0
         ]
        },
        {
         "mode": "text",
         "text": [
          "5"
         ],
         "type": "scatter3d",
         "x": [
          11.715668031261638
         ],
         "y": [
          -19.60550800148865
         ],
         "z": [
          0
         ]
        },
        {
         "mode": "text",
         "text": [
          "6"
         ],
         "type": "scatter3d",
         "x": [
          6.445850390770387
         ],
         "y": [
          14.931149981391878
         ],
         "z": [
          0
         ]
        },
        {
         "mode": "text",
         "text": [
          "7"
         ],
         "type": "scatter3d",
         "x": [
          -3.714179382210638
         ],
         "y": [
          65.41496092296241
         ],
         "z": [
          0
         ]
        },
        {
         "mode": "text",
         "text": [
          "8"
         ],
         "type": "scatter3d",
         "x": [
          -12.698176404912534
         ],
         "y": [
          -14.633420171194643
         ],
         "z": [
          0
         ]
        },
        {
         "mode": "text",
         "text": [
          "9"
         ],
         "type": "scatter3d",
         "x": [
          17.967994045403803
         ],
         "y": [
          -19.903237811685898
         ],
         "z": [
          0
         ]
        },
        {
         "mode": "text",
         "text": [
          "10"
         ],
         "type": "scatter3d",
         "x": [
          12.698176404912552
         ],
         "y": [
          14.633420171194633
         ],
         "z": [
          0
         ]
        },
        {
         "mode": "text",
         "text": [
          "11"
         ],
         "type": "scatter3d",
         "x": [
          -17.967994045403785
         ],
         "y": [
          19.903237811685884
         ],
         "z": [
          0
         ]
        }
       ],
       "layout": {
        "scene": {
         "aspectmode": "data"
        },
        "template": {
         "data": {
          "bar": [
           {
            "error_x": {
             "color": "#2a3f5f"
            },
            "error_y": {
             "color": "#2a3f5f"
            },
            "marker": {
             "line": {
              "color": "#E5ECF6",
              "width": 0.5
             },
             "pattern": {
              "fillmode": "overlay",
              "size": 10,
              "solidity": 0.2
             }
            },
            "type": "bar"
           }
          ],
          "barpolar": [
           {
            "marker": {
             "line": {
              "color": "#E5ECF6",
              "width": 0.5
             },
             "pattern": {
              "fillmode": "overlay",
              "size": 10,
              "solidity": 0.2
             }
            },
            "type": "barpolar"
           }
          ],
          "carpet": [
           {
            "aaxis": {
             "endlinecolor": "#2a3f5f",
             "gridcolor": "white",
             "linecolor": "white",
             "minorgridcolor": "white",
             "startlinecolor": "#2a3f5f"
            },
            "baxis": {
             "endlinecolor": "#2a3f5f",
             "gridcolor": "white",
             "linecolor": "white",
             "minorgridcolor": "white",
             "startlinecolor": "#2a3f5f"
            },
            "type": "carpet"
           }
          ],
          "choropleth": [
           {
            "colorbar": {
             "outlinewidth": 0,
             "ticks": ""
            },
            "type": "choropleth"
           }
          ],
          "contour": [
           {
            "colorbar": {
             "outlinewidth": 0,
             "ticks": ""
            },
            "colorscale": [
             [
              0,
              "#0d0887"
             ],
             [
              0.1111111111111111,
              "#46039f"
             ],
             [
              0.2222222222222222,
              "#7201a8"
             ],
             [
              0.3333333333333333,
              "#9c179e"
             ],
             [
              0.4444444444444444,
              "#bd3786"
             ],
             [
              0.5555555555555556,
              "#d8576b"
             ],
             [
              0.6666666666666666,
              "#ed7953"
             ],
             [
              0.7777777777777778,
              "#fb9f3a"
             ],
             [
              0.8888888888888888,
              "#fdca26"
             ],
             [
              1,
              "#f0f921"
             ]
            ],
            "type": "contour"
           }
          ],
          "contourcarpet": [
           {
            "colorbar": {
             "outlinewidth": 0,
             "ticks": ""
            },
            "type": "contourcarpet"
           }
          ],
          "heatmap": [
           {
            "colorbar": {
             "outlinewidth": 0,
             "ticks": ""
            },
            "colorscale": [
             [
              0,
              "#0d0887"
             ],
             [
              0.1111111111111111,
              "#46039f"
             ],
             [
              0.2222222222222222,
              "#7201a8"
             ],
             [
              0.3333333333333333,
              "#9c179e"
             ],
             [
              0.4444444444444444,
              "#bd3786"
             ],
             [
              0.5555555555555556,
              "#d8576b"
             ],
             [
              0.6666666666666666,
              "#ed7953"
             ],
             [
              0.7777777777777778,
              "#fb9f3a"
             ],
             [
              0.8888888888888888,
              "#fdca26"
             ],
             [
              1,
              "#f0f921"
             ]
            ],
            "type": "heatmap"
           }
          ],
          "heatmapgl": [
           {
            "colorbar": {
             "outlinewidth": 0,
             "ticks": ""
            },
            "colorscale": [
             [
              0,
              "#0d0887"
             ],
             [
              0.1111111111111111,
              "#46039f"
             ],
             [
              0.2222222222222222,
              "#7201a8"
             ],
             [
              0.3333333333333333,
              "#9c179e"
             ],
             [
              0.4444444444444444,
              "#bd3786"
             ],
             [
              0.5555555555555556,
              "#d8576b"
             ],
             [
              0.6666666666666666,
              "#ed7953"
             ],
             [
              0.7777777777777778,
              "#fb9f3a"
             ],
             [
              0.8888888888888888,
              "#fdca26"
             ],
             [
              1,
              "#f0f921"
             ]
            ],
            "type": "heatmapgl"
           }
          ],
          "histogram": [
           {
            "marker": {
             "pattern": {
              "fillmode": "overlay",
              "size": 10,
              "solidity": 0.2
             }
            },
            "type": "histogram"
           }
          ],
          "histogram2d": [
           {
            "colorbar": {
             "outlinewidth": 0,
             "ticks": ""
            },
            "colorscale": [
             [
              0,
              "#0d0887"
             ],
             [
              0.1111111111111111,
              "#46039f"
             ],
             [
              0.2222222222222222,
              "#7201a8"
             ],
             [
              0.3333333333333333,
              "#9c179e"
             ],
             [
              0.4444444444444444,
              "#bd3786"
             ],
             [
              0.5555555555555556,
              "#d8576b"
             ],
             [
              0.6666666666666666,
              "#ed7953"
             ],
             [
              0.7777777777777778,
              "#fb9f3a"
             ],
             [
              0.8888888888888888,
              "#fdca26"
             ],
             [
              1,
              "#f0f921"
             ]
            ],
            "type": "histogram2d"
           }
          ],
          "histogram2dcontour": [
           {
            "colorbar": {
             "outlinewidth": 0,
             "ticks": ""
            },
            "colorscale": [
             [
              0,
              "#0d0887"
             ],
             [
              0.1111111111111111,
              "#46039f"
             ],
             [
              0.2222222222222222,
              "#7201a8"
             ],
             [
              0.3333333333333333,
              "#9c179e"
             ],
             [
              0.4444444444444444,
              "#bd3786"
             ],
             [
              0.5555555555555556,
              "#d8576b"
             ],
             [
              0.6666666666666666,
              "#ed7953"
             ],
             [
              0.7777777777777778,
              "#fb9f3a"
             ],
             [
              0.8888888888888888,
              "#fdca26"
             ],
             [
              1,
              "#f0f921"
             ]
            ],
            "type": "histogram2dcontour"
           }
          ],
          "mesh3d": [
           {
            "colorbar": {
             "outlinewidth": 0,
             "ticks": ""
            },
            "type": "mesh3d"
           }
          ],
          "parcoords": [
           {
            "line": {
             "colorbar": {
              "outlinewidth": 0,
              "ticks": ""
             }
            },
            "type": "parcoords"
           }
          ],
          "pie": [
           {
            "automargin": true,
            "type": "pie"
           }
          ],
          "scatter": [
           {
            "fillpattern": {
             "fillmode": "overlay",
             "size": 10,
             "solidity": 0.2
            },
            "type": "scatter"
           }
          ],
          "scatter3d": [
           {
            "line": {
             "colorbar": {
              "outlinewidth": 0,
              "ticks": ""
             }
            },
            "marker": {
             "colorbar": {
              "outlinewidth": 0,
              "ticks": ""
             }
            },
            "type": "scatter3d"
           }
          ],
          "scattercarpet": [
           {
            "marker": {
             "colorbar": {
              "outlinewidth": 0,
              "ticks": ""
             }
            },
            "type": "scattercarpet"
           }
          ],
          "scattergeo": [
           {
            "marker": {
             "colorbar": {
              "outlinewidth": 0,
              "ticks": ""
             }
            },
            "type": "scattergeo"
           }
          ],
          "scattergl": [
           {
            "marker": {
             "colorbar": {
              "outlinewidth": 0,
              "ticks": ""
             }
            },
            "type": "scattergl"
           }
          ],
          "scattermapbox": [
           {
            "marker": {
             "colorbar": {
              "outlinewidth": 0,
              "ticks": ""
             }
            },
            "type": "scattermapbox"
           }
          ],
          "scatterpolar": [
           {
            "marker": {
             "colorbar": {
              "outlinewidth": 0,
              "ticks": ""
             }
            },
            "type": "scatterpolar"
           }
          ],
          "scatterpolargl": [
           {
            "marker": {
             "colorbar": {
              "outlinewidth": 0,
              "ticks": ""
             }
            },
            "type": "scatterpolargl"
           }
          ],
          "scatterternary": [
           {
            "marker": {
             "colorbar": {
              "outlinewidth": 0,
              "ticks": ""
             }
            },
            "type": "scatterternary"
           }
          ],
          "surface": [
           {
            "colorbar": {
             "outlinewidth": 0,
             "ticks": ""
            },
            "colorscale": [
             [
              0,
              "#0d0887"
             ],
             [
              0.1111111111111111,
              "#46039f"
             ],
             [
              0.2222222222222222,
              "#7201a8"
             ],
             [
              0.3333333333333333,
              "#9c179e"
             ],
             [
              0.4444444444444444,
              "#bd3786"
             ],
             [
              0.5555555555555556,
              "#d8576b"
             ],
             [
              0.6666666666666666,
              "#ed7953"
             ],
             [
              0.7777777777777778,
              "#fb9f3a"
             ],
             [
              0.8888888888888888,
              "#fdca26"
             ],
             [
              1,
              "#f0f921"
             ]
            ],
            "type": "surface"
           }
          ],
          "table": [
           {
            "cells": {
             "fill": {
              "color": "#EBF0F8"
             },
             "line": {
              "color": "white"
             }
            },
            "header": {
             "fill": {
              "color": "#C8D4E3"
             },
             "line": {
              "color": "white"
             }
            },
            "type": "table"
           }
          ]
         },
         "layout": {
          "annotationdefaults": {
           "arrowcolor": "#2a3f5f",
           "arrowhead": 0,
           "arrowwidth": 1
          },
          "autotypenumbers": "strict",
          "coloraxis": {
           "colorbar": {
            "outlinewidth": 0,
            "ticks": ""
           }
          },
          "colorscale": {
           "diverging": [
            [
             0,
             "#8e0152"
            ],
            [
             0.1,
             "#c51b7d"
            ],
            [
             0.2,
             "#de77ae"
            ],
            [
             0.3,
             "#f1b6da"
            ],
            [
             0.4,
             "#fde0ef"
            ],
            [
             0.5,
             "#f7f7f7"
            ],
            [
             0.6,
             "#e6f5d0"
            ],
            [
             0.7,
             "#b8e186"
            ],
            [
             0.8,
             "#7fbc41"
            ],
            [
             0.9,
             "#4d9221"
            ],
            [
             1,
             "#276419"
            ]
           ],
           "sequential": [
            [
             0,
             "#0d0887"
            ],
            [
             0.1111111111111111,
             "#46039f"
            ],
            [
             0.2222222222222222,
             "#7201a8"
            ],
            [
             0.3333333333333333,
             "#9c179e"
            ],
            [
             0.4444444444444444,
             "#bd3786"
            ],
            [
             0.5555555555555556,
             "#d8576b"
            ],
            [
             0.6666666666666666,
             "#ed7953"
            ],
            [
             0.7777777777777778,
             "#fb9f3a"
            ],
            [
             0.8888888888888888,
             "#fdca26"
            ],
            [
             1,
             "#f0f921"
            ]
           ],
           "sequentialminus": [
            [
             0,
             "#0d0887"
            ],
            [
             0.1111111111111111,
             "#46039f"
            ],
            [
             0.2222222222222222,
             "#7201a8"
            ],
            [
             0.3333333333333333,
             "#9c179e"
            ],
            [
             0.4444444444444444,
             "#bd3786"
            ],
            [
             0.5555555555555556,
             "#d8576b"
            ],
            [
             0.6666666666666666,
             "#ed7953"
            ],
            [
             0.7777777777777778,
             "#fb9f3a"
            ],
            [
             0.8888888888888888,
             "#fdca26"
            ],
            [
             1,
             "#f0f921"
            ]
           ]
          },
          "colorway": [
           "#636efa",
           "#EF553B",
           "#00cc96",
           "#ab63fa",
           "#FFA15A",
           "#19d3f3",
           "#FF6692",
           "#B6E880",
           "#FF97FF",
           "#FECB52"
          ],
          "font": {
           "color": "#2a3f5f"
          },
          "geo": {
           "bgcolor": "white",
           "lakecolor": "white",
           "landcolor": "#E5ECF6",
           "showlakes": true,
           "showland": true,
           "subunitcolor": "white"
          },
          "hoverlabel": {
           "align": "left"
          },
          "hovermode": "closest",
          "mapbox": {
           "style": "light"
          },
          "paper_bgcolor": "white",
          "plot_bgcolor": "#E5ECF6",
          "polar": {
           "angularaxis": {
            "gridcolor": "white",
            "linecolor": "white",
            "ticks": ""
           },
           "bgcolor": "#E5ECF6",
           "radialaxis": {
            "gridcolor": "white",
            "linecolor": "white",
            "ticks": ""
           }
          },
          "scene": {
           "xaxis": {
            "backgroundcolor": "#E5ECF6",
            "gridcolor": "white",
            "gridwidth": 2,
            "linecolor": "white",
            "showbackground": true,
            "ticks": "",
            "zerolinecolor": "white"
           },
           "yaxis": {
            "backgroundcolor": "#E5ECF6",
            "gridcolor": "white",
            "gridwidth": 2,
            "linecolor": "white",
            "showbackground": true,
            "ticks": "",
            "zerolinecolor": "white"
           },
           "zaxis": {
            "backgroundcolor": "#E5ECF6",
            "gridcolor": "white",
            "gridwidth": 2,
            "linecolor": "white",
            "showbackground": true,
            "ticks": "",
            "zerolinecolor": "white"
           }
          },
          "shapedefaults": {
           "line": {
            "color": "#2a3f5f"
           }
          },
          "ternary": {
           "aaxis": {
            "gridcolor": "white",
            "linecolor": "white",
            "ticks": ""
           },
           "baxis": {
            "gridcolor": "white",
            "linecolor": "white",
            "ticks": ""
           },
           "bgcolor": "#E5ECF6",
           "caxis": {
            "gridcolor": "white",
            "linecolor": "white",
            "ticks": ""
           }
          },
          "title": {
           "x": 0.05
          },
          "xaxis": {
           "automargin": true,
           "gridcolor": "white",
           "linecolor": "white",
           "ticks": "",
           "title": {
            "standoff": 15
           },
           "zerolinecolor": "white",
           "zerolinewidth": 2
          },
          "yaxis": {
           "automargin": true,
           "gridcolor": "white",
           "linecolor": "white",
           "ticks": "",
           "title": {
            "standoff": 15
           },
           "zerolinecolor": "white",
           "zerolinewidth": 2
          }
         }
        },
        "title": {
         "text": "Plotly Plot"
        }
       }
      }
     },
     "metadata": {},
     "output_type": "display_data"
    }
   ],
   "source": [
    "BYU_UW_root = r\"G:\\.shortcut-targets-by-id\\1k1B8zPb3T8H7y6x0irFZnzzmfQPHMRPx\\Illimited Lab Projects\\Research Projects\\Spiders\\BYU-UW\"\n",
    "# model_name  = 'Validation_structure_1'\n",
    "model_name = 'VS_ring0.5_connectors0.8_center0.2_as1.5_asr1.5_s80'\n",
    "net = Network_custom.load_network(os.path.join(BYU_UW_root, 'networks', model_name + '_net.pkl'))\n",
    "\n",
    "net.net_plot(color=True, elables = True, vlabels = False)"
   ]
  },
  {
   "cell_type": "markdown",
   "metadata": {},
   "source": [
    "### Load a set of images of checker boards\n",
    "Internal camera and distortion parameters are determined of the camera. The process needs to be repeated when changing anything on the camera set up (lens/zoom/aperture/etc..). Make sure that auto-focus is off"
   ]
  },
  {
   "cell_type": "code",
   "execution_count": 25,
   "metadata": {},
   "outputs": [
    {
     "name": "stdout",
     "output_type": "stream",
     "text": [
      "Camera matrix:\n",
      " [[3.09473475e+03 0.00000000e+00 1.54226693e+03]\n",
      " [0.00000000e+00 3.08609475e+03 1.99357855e+03]\n",
      " [0.00000000e+00 0.00000000e+00 1.00000000e+00]]\n",
      "Distortion coefficients:\n",
      " [[ 0.26708744 -1.39979314  0.00452838  0.00322974  2.26933337]]\n",
      "Mean reprojection error: 0.10328747476442024\n"
     ]
    }
   ],
   "source": [
    "checkerboard_size = (8, 12)  # Number of inner corners per a chessboard row and column\n",
    "square_size = 6.85/(checkerboard_size[0]+1) * 0.0254\n",
    "\n",
    "# Termination criteria for corner sub-pixel accuracy\n",
    "criteria = (cv2.TERM_CRITERIA_EPS + cv2.TERM_CRITERIA_MAX_ITER, 30, 0.001)\n",
    "\n",
    "# Prepare object points based on the real-world dimensions of the checkerboard\n",
    "objp = np.zeros((checkerboard_size[0] * checkerboard_size[1], 3), np.float32)\n",
    "objp[:, :2] = np.mgrid[0:checkerboard_size[1], 0:checkerboard_size[0]].T.reshape(-1, 2)\n",
    "objp *= square_size\n",
    "\n",
    "# Arrays to store object points and image points from all the images\n",
    "objpoints = []  # 3d points in real-world space\n",
    "imgpoints = []  # 2d points in image plane\n",
    "\n",
    "# Load images\n",
    "images = glob.glob(os.path.join(BYU_UW_root,'Calibration images/*.jpg' ))\n",
    "\n",
    "for fname in images:\n",
    "    img = cv2.imread(fname)\n",
    "    img_shape = img.shape[:2]\n",
    "    img_aspect_ratio = img_shape[1] / img_shape[0]\n",
    "    gray = cv2.cvtColor(img, cv2.COLOR_BGR2GRAY)\n",
    "\n",
    "    # Find the chessboard corners\n",
    "    ret, corners = cv2.findChessboardCorners( \n",
    "                    gray, (12,8),  \n",
    "                    cv2.CALIB_CB_ADAPTIVE_THRESH  \n",
    "                    + cv2.CALIB_CB_FAST_CHECK + \n",
    "                    cv2.CALIB_CB_NORMALIZE_IMAGE) \n",
    "    # If found, add object points, image points (after refining them)\n",
    "    if ret:\n",
    "        objpoints.append(objp)\n",
    "        corners2 = cv2.cornerSubPix(gray, corners, (11, 11), (-1, -1), criteria)\n",
    "        imgpoints.append(corners2)\n",
    "\n",
    "        # Draw and display the corners\n",
    "        cv2.drawChessboardCorners(img, checkerboard_size, corners2, ret)\n",
    "        resized_image = cv2.resize(img, (800, int(800 / img_aspect_ratio)))\n",
    "        cv2.imshow('img', resized_image)\n",
    "        cv2.waitKey(1)\n",
    "        \n",
    "cv2.destroyAllWindows()\n",
    "\n",
    "# Calibrate the camera\n",
    "ret, mtx, dist, rvecs, tvecs = cv2.calibrateCamera(objpoints, imgpoints, gray.shape[::-1], None, None)\n",
    "# Print the camera matrix and distortion coefficients\n",
    "print(\"Camera matrix:\\n\", mtx)\n",
    "print(\"Distortion coefficients:\\n\", dist)\n",
    "\n",
    "# Check calibration results. A good mean projection error is <1.0\n",
    "mean_error = 0\n",
    "for i in range(len(objpoints)):\n",
    "    imgpoints2, _ = cv2.projectPoints(objpoints[i], rvecs[i], tvecs[i], mtx, dist)\n",
    "    error = cv2.norm(imgpoints[i], imgpoints2, cv2.NORM_L2) / len(imgpoints2)\n",
    "    mean_error += error\n",
    "print(\"Mean reprojection error:\", mean_error / len(objpoints))\n",
    "\n",
    "img = cv2.imread(images[-1])\n",
    "fig, ax = plt.subplots(1, 2, figsize=(10, 5))\n",
    "ax[0].imshow(img)\n",
    "ax[0].set_title('Original Image')\n",
    "ax[1].imshow(cv2.undistort(img, mtx, dist))\n",
    "ax[1].set_title('Undistorted Image')\n",
    "plt.show()\n"
   ]
  },
  {
   "cell_type": "markdown",
   "metadata": {},
   "source": [
    "### Load an image of the frame and click on the markers"
   ]
  },
  {
   "cell_type": "code",
   "execution_count": null,
   "metadata": {},
   "outputs": [],
   "source": [
    "import os\n",
    "import matplotlib.pyplot as plt\n",
    "\n",
    "# Load image\n",
    "image_name = model_name + \"_pic0.jpg\"\n",
    "image = plt.imread(os.path.join(BYU_UW_root,'measuerement images', image_name))\n",
    "height, width, _ = image.shape\n",
    "points = []\n",
    "\n",
    "# Initial axis limits\n",
    "xlim_init, ylim_init = (0, width), (height, 0)\n",
    "\n",
    "def on_click(event):\n",
    "    \"\"\"Reset view when clicking anywhere in the figure.\"\"\"\n",
    "    if event.button == 1:  # Left mouse button\n",
    "        points.append((event.xdata, event.ydata))\n",
    "        ax.plot(event.xdata, event.ydata, 'r.', label='real vertices')\n",
    "        ax.set_xlim(xlim_init)\n",
    "        ax.set_ylim(ylim_init)\n",
    "        ax.figure.canvas.draw()\n",
    "\n",
    "def on_scroll(event):\n",
    "    \"\"\"Zoom in/out at mouse position using the scroll wheel.\"\"\"\n",
    "    scale_factor = 1.2  # Zoom speed\n",
    "    xlim, ylim = ax.get_xlim(), ax.get_ylim()\n",
    "    \n",
    "    # Zoom in\n",
    "    if event.step > 0:\n",
    "        xlim_new = (event.xdata - (event.xdata - xlim[0]) / scale_factor,\n",
    "                    event.xdata + (xlim[1] - event.xdata) / scale_factor)\n",
    "        ylim_new = (event.ydata - (event.ydata - ylim[0]) / scale_factor,\n",
    "                    event.ydata + (ylim[1] - event.ydata) / scale_factor)\n",
    "    # Zoom out\n",
    "    else:\n",
    "        xlim_new = (event.xdata - (event.xdata - xlim[0]) * scale_factor,\n",
    "                    event.xdata + (xlim[1] - event.xdata) * scale_factor)\n",
    "        ylim_new = (event.ydata - (event.ydata - ylim[0]) * scale_factor,\n",
    "                    event.ydata + (ylim[1] - event.ydata) * scale_factor)\n",
    "    \n",
    "    ax.set_xlim(xlim_new)\n",
    "    ax.set_ylim(ylim_new)\n",
    "    fig.canvas.draw()\n",
    "\n",
    "def on_close(event):\n",
    "    \"\"\"Callback function to stop the event loop when the figure is closed.\"\"\"\n",
    "    plt.close()\n",
    "\n",
    "# Display image\n",
    "fig, ax = plt.subplots(figsize=(10, 10))\n",
    "ax.imshow(image)\n",
    "ax.set_xlim(xlim_init)\n",
    "ax.set_ylim(ylim_init)\n",
    "ax.axis(\"off\")\n",
    "ax.text(width/2, height*.9, '0', color='r')\n",
    "ax.text(width*.9, height/2, '1', color='r')\n",
    "ax.text(width/2, height*.1, '2', color='r')\n",
    "ax.text(width*.1, height/2, '3', color='r')\n",
    "ax.set_title(\"Click on markers (in order). Zoom with scroll wheel.\")\n",
    "\n",
    "# Connect events\n",
    "fig.canvas.mpl_connect(\"button_press_event\", on_click)\n",
    "fig.canvas.mpl_connect(\"scroll_event\", on_scroll)\n",
    "\n",
    "plt.show()\n"
   ]
  },
  {
   "cell_type": "markdown",
   "metadata": {},
   "source": [
    "Use this points if you don't want to reassign the points everytime you run the script"
   ]
  },
  {
   "cell_type": "code",
   "execution_count": 5,
   "metadata": {},
   "outputs": [],
   "source": [
    "# \"Sample_image_frame_calibration.png\"\n",
    "# points = np.array([[ 663.99333333,  154.77333333],\n",
    "#        [1132.98      ,  558.4       ],\n",
    "#        [ 684.63333333,  994.13333333],\n",
    "#        [ 215.64666667,  581.33333333]])\n",
    "\n",
    "# 'Validation_structure_1_pic0.jpg'\n",
    "# points = np.array([(966.0077922077921, 190.50259740259753),\n",
    "#         (1851.3844155844151, 1141.5363636363636),\n",
    "#         (969.9870129870128, 2100.5285714285715),\n",
    "#         (90.5792207792208, 1143.525974025974)])"
   ]
  },
  {
   "cell_type": "markdown",
   "metadata": {},
   "source": [
    "### Calibrate the camera angle with the known coordinates of the markers.\n",
    "This will break if the order of the coordinates are misaligned. Also notice that the y-axis is inverted when working with images, ensure your know cordinate list is set up accordingly"
   ]
  },
  {
   "cell_type": "code",
   "execution_count": 40,
   "metadata": {},
   "outputs": [
    {
     "name": "stdout",
     "output_type": "stream",
     "text": [
      "Pixel locations: [[1077.35232912 1961.96419717]\n",
      " [2064.62144801 1144.92350572]\n",
      " [1232.67793201  161.22004498]\n",
      " [ 258.19679809  985.22954216]]\n",
      "cordinate list: [[ 700.30243443  633.80243443]\n",
      " [1601.69756557  633.80243443]\n",
      " [1601.69756557 1535.19756557]\n",
      " [ 700.30243443 1535.19756557]]\n"
     ]
    }
   ],
   "source": [
    "points_nonaligned    = np.array(points)\n",
    "distance_between_markers_mm = 155.669\n",
    "distance_between_markers_px = np.sqrt((points_nonaligned[3, 0] - points_nonaligned[0, 0])**2 + (points_nonaligned[3, 1] - points_nonaligned[0, 1])**2)\n",
    "\n",
    "mm_to_px = distance_between_markers_px/distance_between_markers_mm\n",
    "\n",
    "R_45 = np.array([[0.70710678, -0.70710678], [0.70710678, 0.70710678]])\n",
    "points_aligned  = np.array([(0, -distance_between_markers_mm/2), (distance_between_markers_mm/2, 0), (0, distance_between_markers_mm/2), (-distance_between_markers_mm/2, 0)]) @ R_45 * mm_to_px + np.array([width/2, height/2]) \n",
    "\n",
    "print(\"Pixel locations:\", points_nonaligned)\n",
    "print(\"cordinate list:\", points_aligned)"
   ]
  },
  {
   "cell_type": "code",
   "execution_count": 41,
   "metadata": {},
   "outputs": [
    {
     "data": {
      "text/plain": [
       "<matplotlib.legend.Legend at 0x168873439b0>"
      ]
     },
     "execution_count": 41,
     "metadata": {},
     "output_type": "execute_result"
    }
   ],
   "source": [
    "homography_matrix, _ = cv2.findHomography(points_nonaligned, points_aligned, method=cv2.RANSAC)\n",
    "aligned_image = cv2.warpPerspective(image, homography_matrix, (width, height))\n",
    "\n",
    "points_aligned_validate = np.array([points_nonaligned[:, 0], points_nonaligned[:, 1], np.ones_like(points_nonaligned[:, 0])])\n",
    "points_aligned_validate = np.dot(homography_matrix, points_aligned_validate)\n",
    "points_aligned_validate = np.array([points_aligned_validate[0, :]/points_aligned_validate[2, :], points_aligned_validate[1, :]/points_aligned_validate[2, :]]).T\n",
    "\n",
    "fig, ax = plt.subplots(1, 2, figsize=(15, 10), sharex=True, sharey=True)\n",
    "ax[0].imshow(image)\n",
    "ax[0].plot(points_nonaligned[:, 0], points_nonaligned[:, 1], 'r*', markersize=10)\n",
    "ax[0].set_title('Unaligned Image')\n",
    "ax[0].axis('off')\n",
    "ax[1].imshow(aligned_image)\n",
    "ax[1].plot(points_aligned[:, 0], points_aligned[:, 1], 'r*', markersize=10, label='known points')\n",
    "ax[1].plot(points_aligned_validate[:, 0], points_aligned_validate[:, 1], 'g.', markersize=10, label='known points - validate')\n",
    "ax[1].set_title('Orthogonal Image')\n",
    "ax[1].axis('off')\n",
    "plt.legend()"
   ]
  },
  {
   "cell_type": "code",
   "execution_count": 29,
   "metadata": {},
   "outputs": [],
   "source": [
    "net.vertices *= mm_to_px # Scale the network vertices to match the image scale\n",
    "net.vertices += np.array([width/2, height/2,0]) # Shift the network vertices to match the image origin"
   ]
  },
  {
   "cell_type": "code",
   "execution_count": null,
   "metadata": {},
   "outputs": [],
   "source": [
    "points = []\n",
    "fig, ax = plt.subplots(figsize=(15, 10))\n",
    "ax.axis('off')\n",
    "ax.set_aspect('equal')\n",
    "ax.imshow(aligned_image)\n",
    "ax = net.net_plot_mat(ax, vlabels=True)\n",
    "fig.canvas.mpl_connect('button_press_event', on_click)\n",
    "fig.canvas.mpl_connect('scroll_event', on_scroll)\n",
    "fig.canvas.mpl_connect('close_event', on_close)\n",
    "ax.set_title('Click on the vertices of the network (in order). (Scroll to zoom)')\n",
    "plt.show()"
   ]
  },
  {
   "cell_type": "code",
   "execution_count": null,
   "metadata": {},
   "outputs": [],
   "source": [
    "plt.legend()\n",
    "plt.show()"
   ]
  },
  {
   "cell_type": "code",
   "execution_count": null,
   "metadata": {},
   "outputs": [],
   "source": [
    "vertices_real = np.array(points)\n",
    "error_pixels = np.sqrt(np.sum((vertices_real - net.vertices[:, :2])**2, axis=1))\n",
    "error_mm = error_pixels / mm_to_px\n",
    "error_mm"
   ]
  }
 ],
 "metadata": {
  "kernelspec": {
   "display_name": "base",
   "language": "python",
   "name": "python3"
  },
  "language_info": {
   "codemirror_mode": {
    "name": "ipython",
    "version": 3
   },
   "file_extension": ".py",
   "mimetype": "text/x-python",
   "name": "python",
   "nbconvert_exporter": "python",
   "pygments_lexer": "ipython3",
   "version": "3.12.3"
  }
 },
 "nbformat": 4,
 "nbformat_minor": 2
}
