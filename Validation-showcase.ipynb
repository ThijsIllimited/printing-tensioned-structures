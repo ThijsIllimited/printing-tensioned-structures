{
 "cells": [
  {
   "cell_type": "markdown",
   "metadata": {},
   "source": [
    "## Network validation\n",
    "This scripts is meant to validate that the designed vertex location match the real locations.\n",
    "\n",
    "The theoratical vertices are found in a network model as net.vertices.\n",
    "The real vertices are retrieved from a picture of the network suspended in a frame. The following steps are required to enable the comparison:\n",
    "- Conventional cameras have some distortion. (straight lines appear to be curved). The camera distortion can be found from a set of images of a checkerboard with known dimensions. The image is then undistorted.\n",
    "- Ideally, a picture of the network is taken exaclty orthogonal to the subject. The homography of the camera angle with respect to the frame is determined. The frame contains markers on a straight plane with known world coordinates. With the homography known an image can be warped such that it appears to take the frame exactly orthogonal to the frame.\n",
    "\n",
    "Finally, the vertices are selected in the image and they can be compared to their theoratical locations."
   ]
  },
  {
   "cell_type": "code",
   "execution_count": 1,
   "metadata": {},
   "outputs": [],
   "source": [
    "import numpy as np\n",
    "import matplotlib.pyplot as plt\n",
    "import cv2\n",
    "import os\n",
    "import glob\n",
    "from src.network import Network_custom"
   ]
  },
  {
   "cell_type": "markdown",
   "metadata": {},
   "source": [
    "### Open the network model"
   ]
  },
  {
   "cell_type": "code",
   "execution_count": 2,
   "metadata": {},
   "outputs": [
    {
     "data": {
      "application/vnd.plotly.v1+json": {
       "config": {
        "plotlyServerURL": "https://plot.ly"
       },
       "data": [
        {
         "line": {
          "color": [
           0.5248331858990112,
           0.5248331858990112,
           0,
           0.17876134214762854,
           0.17876134214762854,
           0,
           0.17917671680801353,
           0.17917671680801353,
           0,
           0.5471772485491662,
           0.5471772485491662,
           0,
           0.5315010417183497,
           0.5315010417183497,
           0,
           0.16770394269237182,
           0.16770394269237182,
           0,
           0.18722658814767656,
           0.18722658814767656,
           0,
           0.5395965014414704,
           0.5395965014414704,
           0,
           0.24157457872752827,
           0.24157457872752827,
           0,
           0.2680492993560748,
           0.2680492993560748,
           0,
           0.253595392249549,
           0.253595392249549,
           0,
           0.24827605880322257,
           0.24827605880322257,
           0
          ],
          "colorbar": {
           "title": {
            "text": "Force"
           }
          },
          "colorscale": [
           [
            0,
            "#440154"
           ],
           [
            0.1111111111111111,
            "#482878"
           ],
           [
            0.2222222222222222,
            "#3e4989"
           ],
           [
            0.3333333333333333,
            "#31688e"
           ],
           [
            0.4444444444444444,
            "#26828e"
           ],
           [
            0.5555555555555556,
            "#1f9e89"
           ],
           [
            0.6666666666666666,
            "#35b779"
           ],
           [
            0.7777777777777778,
            "#6ece58"
           ],
           [
            0.8888888888888888,
            "#b5de2b"
           ],
           [
            1,
            "#fde725"
           ]
          ],
          "showscale": true,
          "width": 3
         },
         "mode": "lines",
         "type": "scatter3d",
         "x": [
          -77.78174593052023,
          -37.332344618959134,
          null,
          -37.332344618959134,
          3.2283932552718433,
          null,
          3.2283932552718433,
          39.58655044017717,
          null,
          39.58655044017717,
          77.78174593052023,
          null,
          -77.78174593052023,
          -38.035533094601504,
          null,
          -38.035533094601504,
          3.2283932552718433,
          null,
          3.2283932552718433,
          39.0581854734628,
          null,
          39.0581854734628,
          77.78174593052023,
          null,
          -37.332344618959134,
          -38.035533094601504,
          null,
          -38.035533094601504,
          39.58655044017717,
          null,
          39.58655044017717,
          39.0581854734628,
          null,
          39.0581854734628,
          -37.332344618959134,
          null
         ],
         "y": [
          77.78174593052023,
          38.80929804998811,
          null,
          38.80929804998811,
          1.6581144436634223,
          null,
          1.6581144436634223,
          -39.78515241451966,
          null,
          -39.78515241451966,
          -77.78174593052023,
          null,
          -77.78174593052023,
          -40.473599178198896,
          null,
          -40.473599178198896,
          1.6581144436634223,
          null,
          1.6581144436634223,
          38.242410151208254,
          null,
          38.242410151208254,
          77.78174593052023,
          null,
          38.80929804998811,
          -40.473599178198896,
          null,
          -40.473599178198896,
          -39.78515241451966,
          null,
          -39.78515241451966,
          38.242410151208254,
          null,
          38.242410151208254,
          38.80929804998811,
          null
         ],
         "z": [
          0,
          0,
          null,
          0,
          0,
          null,
          0,
          0,
          null,
          0,
          0,
          null,
          0,
          0,
          null,
          0,
          0,
          null,
          0,
          0,
          null,
          0,
          0,
          null,
          0,
          0,
          null,
          0,
          0,
          null,
          0,
          0,
          null,
          0,
          0,
          null
         ]
        },
        {
         "mode": "text",
         "text": [
          "0"
         ],
         "type": "scatter3d",
         "x": [
          -57.55704527473968
         ],
         "y": [
          58.29552199025417
         ],
         "z": [
          0
         ]
        },
        {
         "mode": "text",
         "text": [
          "1"
         ],
         "type": "scatter3d",
         "x": [
          -17.051975681843643
         ],
         "y": [
          20.233706246825765
         ],
         "z": [
          0
         ]
        },
        {
         "mode": "text",
         "text": [
          "2"
         ],
         "type": "scatter3d",
         "x": [
          21.40747184772451
         ],
         "y": [
          -19.063518985428118
         ],
         "z": [
          0
         ]
        },
        {
         "mode": "text",
         "text": [
          "3"
         ],
         "type": "scatter3d",
         "x": [
          58.684148185348704
         ],
         "y": [
          -58.783449172519944
         ],
         "z": [
          0
         ]
        },
        {
         "mode": "text",
         "text": [
          "4"
         ],
         "type": "scatter3d",
         "x": [
          -57.90863951256087
         ],
         "y": [
          -59.12767255435956
         ],
         "z": [
          0
         ]
        },
        {
         "mode": "text",
         "text": [
          "5"
         ],
         "type": "scatter3d",
         "x": [
          -17.403569919664832
         ],
         "y": [
          -19.407742367267737
         ],
         "z": [
          0
         ]
        },
        {
         "mode": "text",
         "text": [
          "6"
         ],
         "type": "scatter3d",
         "x": [
          21.14328936436732
         ],
         "y": [
          19.950262297435838
         ],
         "z": [
          0
         ]
        },
        {
         "mode": "text",
         "text": [
          "7"
         ],
         "type": "scatter3d",
         "x": [
          58.419965701991515
         ],
         "y": [
          58.01207804086424
         ],
         "z": [
          0
         ]
        },
        {
         "mode": "text",
         "text": [
          "8"
         ],
         "type": "scatter3d",
         "x": [
          -37.683938856780316
         ],
         "y": [
          -0.8321505641053939
         ],
         "z": [
          0
         ]
        },
        {
         "mode": "text",
         "text": [
          "9"
         ],
         "type": "scatter3d",
         "x": [
          0.7755086727878329
         ],
         "y": [
          -40.12937579635928
         ],
         "z": [
          0
         ]
        },
        {
         "mode": "text",
         "text": [
          "10"
         ],
         "type": "scatter3d",
         "x": [
          39.32236795681999
         ],
         "y": [
          -0.7713711316557017
         ],
         "z": [
          0
         ]
        },
        {
         "mode": "text",
         "text": [
          "11"
         ],
         "type": "scatter3d",
         "x": [
          0.8629204272518329
         ],
         "y": [
          38.52585410059818
         ],
         "z": [
          0
         ]
        }
       ],
       "layout": {
        "scene": {
         "aspectmode": "data",
         "camera": {
          "eye": {
           "x": 0,
           "y": 0,
           "z": 3.8890872965260117
          }
         }
        },
        "template": {
         "data": {
          "bar": [
           {
            "error_x": {
             "color": "#2a3f5f"
            },
            "error_y": {
             "color": "#2a3f5f"
            },
            "marker": {
             "line": {
              "color": "#E5ECF6",
              "width": 0.5
             },
             "pattern": {
              "fillmode": "overlay",
              "size": 10,
              "solidity": 0.2
             }
            },
            "type": "bar"
           }
          ],
          "barpolar": [
           {
            "marker": {
             "line": {
              "color": "#E5ECF6",
              "width": 0.5
             },
             "pattern": {
              "fillmode": "overlay",
              "size": 10,
              "solidity": 0.2
             }
            },
            "type": "barpolar"
           }
          ],
          "carpet": [
           {
            "aaxis": {
             "endlinecolor": "#2a3f5f",
             "gridcolor": "white",
             "linecolor": "white",
             "minorgridcolor": "white",
             "startlinecolor": "#2a3f5f"
            },
            "baxis": {
             "endlinecolor": "#2a3f5f",
             "gridcolor": "white",
             "linecolor": "white",
             "minorgridcolor": "white",
             "startlinecolor": "#2a3f5f"
            },
            "type": "carpet"
           }
          ],
          "choropleth": [
           {
            "colorbar": {
             "outlinewidth": 0,
             "ticks": ""
            },
            "type": "choropleth"
           }
          ],
          "contour": [
           {
            "colorbar": {
             "outlinewidth": 0,
             "ticks": ""
            },
            "colorscale": [
             [
              0,
              "#0d0887"
             ],
             [
              0.1111111111111111,
              "#46039f"
             ],
             [
              0.2222222222222222,
              "#7201a8"
             ],
             [
              0.3333333333333333,
              "#9c179e"
             ],
             [
              0.4444444444444444,
              "#bd3786"
             ],
             [
              0.5555555555555556,
              "#d8576b"
             ],
             [
              0.6666666666666666,
              "#ed7953"
             ],
             [
              0.7777777777777778,
              "#fb9f3a"
             ],
             [
              0.8888888888888888,
              "#fdca26"
             ],
             [
              1,
              "#f0f921"
             ]
            ],
            "type": "contour"
           }
          ],
          "contourcarpet": [
           {
            "colorbar": {
             "outlinewidth": 0,
             "ticks": ""
            },
            "type": "contourcarpet"
           }
          ],
          "heatmap": [
           {
            "colorbar": {
             "outlinewidth": 0,
             "ticks": ""
            },
            "colorscale": [
             [
              0,
              "#0d0887"
             ],
             [
              0.1111111111111111,
              "#46039f"
             ],
             [
              0.2222222222222222,
              "#7201a8"
             ],
             [
              0.3333333333333333,
              "#9c179e"
             ],
             [
              0.4444444444444444,
              "#bd3786"
             ],
             [
              0.5555555555555556,
              "#d8576b"
             ],
             [
              0.6666666666666666,
              "#ed7953"
             ],
             [
              0.7777777777777778,
              "#fb9f3a"
             ],
             [
              0.8888888888888888,
              "#fdca26"
             ],
             [
              1,
              "#f0f921"
             ]
            ],
            "type": "heatmap"
           }
          ],
          "heatmapgl": [
           {
            "colorbar": {
             "outlinewidth": 0,
             "ticks": ""
            },
            "colorscale": [
             [
              0,
              "#0d0887"
             ],
             [
              0.1111111111111111,
              "#46039f"
             ],
             [
              0.2222222222222222,
              "#7201a8"
             ],
             [
              0.3333333333333333,
              "#9c179e"
             ],
             [
              0.4444444444444444,
              "#bd3786"
             ],
             [
              0.5555555555555556,
              "#d8576b"
             ],
             [
              0.6666666666666666,
              "#ed7953"
             ],
             [
              0.7777777777777778,
              "#fb9f3a"
             ],
             [
              0.8888888888888888,
              "#fdca26"
             ],
             [
              1,
              "#f0f921"
             ]
            ],
            "type": "heatmapgl"
           }
          ],
          "histogram": [
           {
            "marker": {
             "pattern": {
              "fillmode": "overlay",
              "size": 10,
              "solidity": 0.2
             }
            },
            "type": "histogram"
           }
          ],
          "histogram2d": [
           {
            "colorbar": {
             "outlinewidth": 0,
             "ticks": ""
            },
            "colorscale": [
             [
              0,
              "#0d0887"
             ],
             [
              0.1111111111111111,
              "#46039f"
             ],
             [
              0.2222222222222222,
              "#7201a8"
             ],
             [
              0.3333333333333333,
              "#9c179e"
             ],
             [
              0.4444444444444444,
              "#bd3786"
             ],
             [
              0.5555555555555556,
              "#d8576b"
             ],
             [
              0.6666666666666666,
              "#ed7953"
             ],
             [
              0.7777777777777778,
              "#fb9f3a"
             ],
             [
              0.8888888888888888,
              "#fdca26"
             ],
             [
              1,
              "#f0f921"
             ]
            ],
            "type": "histogram2d"
           }
          ],
          "histogram2dcontour": [
           {
            "colorbar": {
             "outlinewidth": 0,
             "ticks": ""
            },
            "colorscale": [
             [
              0,
              "#0d0887"
             ],
             [
              0.1111111111111111,
              "#46039f"
             ],
             [
              0.2222222222222222,
              "#7201a8"
             ],
             [
              0.3333333333333333,
              "#9c179e"
             ],
             [
              0.4444444444444444,
              "#bd3786"
             ],
             [
              0.5555555555555556,
              "#d8576b"
             ],
             [
              0.6666666666666666,
              "#ed7953"
             ],
             [
              0.7777777777777778,
              "#fb9f3a"
             ],
             [
              0.8888888888888888,
              "#fdca26"
             ],
             [
              1,
              "#f0f921"
             ]
            ],
            "type": "histogram2dcontour"
           }
          ],
          "mesh3d": [
           {
            "colorbar": {
             "outlinewidth": 0,
             "ticks": ""
            },
            "type": "mesh3d"
           }
          ],
          "parcoords": [
           {
            "line": {
             "colorbar": {
              "outlinewidth": 0,
              "ticks": ""
             }
            },
            "type": "parcoords"
           }
          ],
          "pie": [
           {
            "automargin": true,
            "type": "pie"
           }
          ],
          "scatter": [
           {
            "fillpattern": {
             "fillmode": "overlay",
             "size": 10,
             "solidity": 0.2
            },
            "type": "scatter"
           }
          ],
          "scatter3d": [
           {
            "line": {
             "colorbar": {
              "outlinewidth": 0,
              "ticks": ""
             }
            },
            "marker": {
             "colorbar": {
              "outlinewidth": 0,
              "ticks": ""
             }
            },
            "type": "scatter3d"
           }
          ],
          "scattercarpet": [
           {
            "marker": {
             "colorbar": {
              "outlinewidth": 0,
              "ticks": ""
             }
            },
            "type": "scattercarpet"
           }
          ],
          "scattergeo": [
           {
            "marker": {
             "colorbar": {
              "outlinewidth": 0,
              "ticks": ""
             }
            },
            "type": "scattergeo"
           }
          ],
          "scattergl": [
           {
            "marker": {
             "colorbar": {
              "outlinewidth": 0,
              "ticks": ""
             }
            },
            "type": "scattergl"
           }
          ],
          "scattermapbox": [
           {
            "marker": {
             "colorbar": {
              "outlinewidth": 0,
              "ticks": ""
             }
            },
            "type": "scattermapbox"
           }
          ],
          "scatterpolar": [
           {
            "marker": {
             "colorbar": {
              "outlinewidth": 0,
              "ticks": ""
             }
            },
            "type": "scatterpolar"
           }
          ],
          "scatterpolargl": [
           {
            "marker": {
             "colorbar": {
              "outlinewidth": 0,
              "ticks": ""
             }
            },
            "type": "scatterpolargl"
           }
          ],
          "scatterternary": [
           {
            "marker": {
             "colorbar": {
              "outlinewidth": 0,
              "ticks": ""
             }
            },
            "type": "scatterternary"
           }
          ],
          "surface": [
           {
            "colorbar": {
             "outlinewidth": 0,
             "ticks": ""
            },
            "colorscale": [
             [
              0,
              "#0d0887"
             ],
             [
              0.1111111111111111,
              "#46039f"
             ],
             [
              0.2222222222222222,
              "#7201a8"
             ],
             [
              0.3333333333333333,
              "#9c179e"
             ],
             [
              0.4444444444444444,
              "#bd3786"
             ],
             [
              0.5555555555555556,
              "#d8576b"
             ],
             [
              0.6666666666666666,
              "#ed7953"
             ],
             [
              0.7777777777777778,
              "#fb9f3a"
             ],
             [
              0.8888888888888888,
              "#fdca26"
             ],
             [
              1,
              "#f0f921"
             ]
            ],
            "type": "surface"
           }
          ],
          "table": [
           {
            "cells": {
             "fill": {
              "color": "#EBF0F8"
             },
             "line": {
              "color": "white"
             }
            },
            "header": {
             "fill": {
              "color": "#C8D4E3"
             },
             "line": {
              "color": "white"
             }
            },
            "type": "table"
           }
          ]
         },
         "layout": {
          "annotationdefaults": {
           "arrowcolor": "#2a3f5f",
           "arrowhead": 0,
           "arrowwidth": 1
          },
          "autotypenumbers": "strict",
          "coloraxis": {
           "colorbar": {
            "outlinewidth": 0,
            "ticks": ""
           }
          },
          "colorscale": {
           "diverging": [
            [
             0,
             "#8e0152"
            ],
            [
             0.1,
             "#c51b7d"
            ],
            [
             0.2,
             "#de77ae"
            ],
            [
             0.3,
             "#f1b6da"
            ],
            [
             0.4,
             "#fde0ef"
            ],
            [
             0.5,
             "#f7f7f7"
            ],
            [
             0.6,
             "#e6f5d0"
            ],
            [
             0.7,
             "#b8e186"
            ],
            [
             0.8,
             "#7fbc41"
            ],
            [
             0.9,
             "#4d9221"
            ],
            [
             1,
             "#276419"
            ]
           ],
           "sequential": [
            [
             0,
             "#0d0887"
            ],
            [
             0.1111111111111111,
             "#46039f"
            ],
            [
             0.2222222222222222,
             "#7201a8"
            ],
            [
             0.3333333333333333,
             "#9c179e"
            ],
            [
             0.4444444444444444,
             "#bd3786"
            ],
            [
             0.5555555555555556,
             "#d8576b"
            ],
            [
             0.6666666666666666,
             "#ed7953"
            ],
            [
             0.7777777777777778,
             "#fb9f3a"
            ],
            [
             0.8888888888888888,
             "#fdca26"
            ],
            [
             1,
             "#f0f921"
            ]
           ],
           "sequentialminus": [
            [
             0,
             "#0d0887"
            ],
            [
             0.1111111111111111,
             "#46039f"
            ],
            [
             0.2222222222222222,
             "#7201a8"
            ],
            [
             0.3333333333333333,
             "#9c179e"
            ],
            [
             0.4444444444444444,
             "#bd3786"
            ],
            [
             0.5555555555555556,
             "#d8576b"
            ],
            [
             0.6666666666666666,
             "#ed7953"
            ],
            [
             0.7777777777777778,
             "#fb9f3a"
            ],
            [
             0.8888888888888888,
             "#fdca26"
            ],
            [
             1,
             "#f0f921"
            ]
           ]
          },
          "colorway": [
           "#636efa",
           "#EF553B",
           "#00cc96",
           "#ab63fa",
           "#FFA15A",
           "#19d3f3",
           "#FF6692",
           "#B6E880",
           "#FF97FF",
           "#FECB52"
          ],
          "font": {
           "color": "#2a3f5f"
          },
          "geo": {
           "bgcolor": "white",
           "lakecolor": "white",
           "landcolor": "#E5ECF6",
           "showlakes": true,
           "showland": true,
           "subunitcolor": "white"
          },
          "hoverlabel": {
           "align": "left"
          },
          "hovermode": "closest",
          "mapbox": {
           "style": "light"
          },
          "paper_bgcolor": "white",
          "plot_bgcolor": "#E5ECF6",
          "polar": {
           "angularaxis": {
            "gridcolor": "white",
            "linecolor": "white",
            "ticks": ""
           },
           "bgcolor": "#E5ECF6",
           "radialaxis": {
            "gridcolor": "white",
            "linecolor": "white",
            "ticks": ""
           }
          },
          "scene": {
           "xaxis": {
            "backgroundcolor": "#E5ECF6",
            "gridcolor": "white",
            "gridwidth": 2,
            "linecolor": "white",
            "showbackground": true,
            "ticks": "",
            "zerolinecolor": "white"
           },
           "yaxis": {
            "backgroundcolor": "#E5ECF6",
            "gridcolor": "white",
            "gridwidth": 2,
            "linecolor": "white",
            "showbackground": true,
            "ticks": "",
            "zerolinecolor": "white"
           },
           "zaxis": {
            "backgroundcolor": "#E5ECF6",
            "gridcolor": "white",
            "gridwidth": 2,
            "linecolor": "white",
            "showbackground": true,
            "ticks": "",
            "zerolinecolor": "white"
           }
          },
          "shapedefaults": {
           "line": {
            "color": "#2a3f5f"
           }
          },
          "ternary": {
           "aaxis": {
            "gridcolor": "white",
            "linecolor": "white",
            "ticks": ""
           },
           "baxis": {
            "gridcolor": "white",
            "linecolor": "white",
            "ticks": ""
           },
           "bgcolor": "#E5ECF6",
           "caxis": {
            "gridcolor": "white",
            "linecolor": "white",
            "ticks": ""
           }
          },
          "title": {
           "x": 0.05
          },
          "xaxis": {
           "automargin": true,
           "gridcolor": "white",
           "linecolor": "white",
           "ticks": "",
           "title": {
            "standoff": 15
           },
           "zerolinecolor": "white",
           "zerolinewidth": 2
          },
          "yaxis": {
           "automargin": true,
           "gridcolor": "white",
           "linecolor": "white",
           "ticks": "",
           "title": {
            "standoff": 15
           },
           "zerolinecolor": "white",
           "zerolinewidth": 2
          }
         }
        },
        "title": {
         "text": "Plotly Plot"
        }
       }
      }
     },
     "metadata": {},
     "output_type": "display_data"
    }
   ],
   "source": [
    "BYU_UW_root = r\"G:\\.shortcut-targets-by-id\\1k1B8zPb3T8H7y6x0irFZnzzmfQPHMRPx\\Illimited Lab Projects\\Research Projects\\Spiders\\BYU-UW\"\n",
    "# model_name  = 'Validation_structure_1'\n",
    "# model_name = 'VS_ring0.5_connectors0.8_center0.2_as1.5_asr1.5_s110'\n",
    "model_name = 'unit_cell_even_q_1.0'\n",
    "net = Network_custom.load_network(os.path.join(BYU_UW_root, 'networks', model_name + '.pkl'))\n",
    "net.net_plot(color=True, elables = True, vlabels = False)\n",
    "\n",
    "picture_number = 0\n",
    "model_name_im = model_name + f\"_{picture_number}\"\n"
   ]
  },
  {
   "cell_type": "markdown",
   "metadata": {},
   "source": [
    "### Load a set of images of checker boards\n",
    "Internal camera and distortion parameters are determined of the camera. The process needs to be repeated when changing anything on the camera set up (lens/zoom/aperture/etc..). Make sure that auto-focus is off"
   ]
  },
  {
   "cell_type": "code",
   "execution_count": 3,
   "metadata": {},
   "outputs": [],
   "source": [
    "# checkerboard_size = (8, 12)  # Number of inner corners per a chessboard row and column\n",
    "# square_size = 10 #6.85/(checkerboard_size[0]+1) * 0.0254\n",
    "\n",
    "# # Termination criteria for corner sub-pixel accuracy\n",
    "# criteria = (cv2.TERM_CRITERIA_EPS + cv2.TERM_CRITERIA_MAX_ITER, 30, 0.001)\n",
    "\n",
    "# # Prepare object points based on the real-world dimensions of the checkerboard\n",
    "# objp = np.zeros((checkerboard_size[0] * checkerboard_size[1], 3), np.float32)\n",
    "# objp[:, :2] = np.mgrid[0:checkerboard_size[1], 0:checkerboard_size[0]].T.reshape(-1, 2)\n",
    "# objp *= square_size\n",
    "\n",
    "# # Arrays to store object points and image points from all the images\n",
    "# objpoints = []  # 3d points in real-world space\n",
    "# imgpoints = []  # 2d points in image plane\n",
    "\n",
    "# # Load images\n",
    "# # images = glob.glob(os.path.join(BYU_UW_root,'Calibration images/*.jpg' ))\n",
    "# images = glob.glob(os.path.join(BYU_UW_root,'Calibration images/new/*.jpg' ))\n",
    "\n",
    "# for fname in images:\n",
    "#     img = cv2.imread(fname)\n",
    "#     img_shape = img.shape[:2]\n",
    "#     img_aspect_ratio = img_shape[1] / img_shape[0]\n",
    "#     gray = cv2.cvtColor(img, cv2.COLOR_BGR2GRAY)\n",
    "\n",
    "#     # Find the chessboard corners\n",
    "#     ret, corners = cv2.findChessboardCorners( \n",
    "#                     gray, (12,8),  \n",
    "#                     cv2.CALIB_CB_ADAPTIVE_THRESH  \n",
    "#                     + cv2.CALIB_CB_FAST_CHECK + \n",
    "#                     cv2.CALIB_CB_NORMALIZE_IMAGE) \n",
    "#     # If found, add object points, image points (after refining them)\n",
    "#     if ret:\n",
    "#         objpoints.append(objp)\n",
    "#         corners2 = cv2.cornerSubPix(gray, corners, (11, 11), (-1, -1), criteria)\n",
    "#         imgpoints.append(corners2)\n",
    "\n",
    "#         # Draw and display the corners\n",
    "#         cv2.drawChessboardCorners(img, checkerboard_size, corners2, ret)\n",
    "#         resized_image = cv2.resize(img, (400, int(400 / img_aspect_ratio)))\n",
    "#         cv2.imshow('img', resized_image)\n",
    "#         cv2.waitKey(1)\n",
    "        \n",
    "# cv2.destroyAllWindows()\n",
    "\n",
    "# # Calibrate the camera\n",
    "# ret, mtx, dist, rvecs, tvecs = cv2.calibrateCamera(objpoints, imgpoints, gray.shape[::-1], None, None)\n",
    "# # Print the camera matrix and distortion coefficients\n",
    "# print(\"Camera matrix:\\n\", mtx)\n",
    "# print(\"Distortion coefficients:\\n\", dist)\n",
    "\n",
    "# # Check calibration results. A good mean projection error is <1.0\n",
    "# mean_error = 0\n",
    "# for i in range(len(objpoints)):\n",
    "#     imgpoints2, _ = cv2.projectPoints(objpoints[i], rvecs[i], tvecs[i], mtx, dist)\n",
    "#     error = cv2.norm(imgpoints[i], imgpoints2, cv2.NORM_L2) / len(imgpoints2)\n",
    "#     mean_error += error\n",
    "# print(\"Mean reprojection error:\", mean_error / len(objpoints))\n",
    "\n",
    "# img = cv2.imread(images[-1])\n",
    "# fig, ax = plt.subplots(1, 2, figsize=(10, 5))\n",
    "# ax[0].imshow(img)\n",
    "# ax[0].set_title('Original Image')\n",
    "# ax[1].imshow(cv2.undistort(img, mtx, dist))\n",
    "# ax[1].set_title('Undistorted Image')\n",
    "# plt.show()\n"
   ]
  },
  {
   "cell_type": "markdown",
   "metadata": {},
   "source": [
    "### Load an image of the frame and click on the markers"
   ]
  },
  {
   "cell_type": "code",
   "execution_count": 4,
   "metadata": {},
   "outputs": [],
   "source": [
    "import matplotlib.pyplot as plt\n",
    "import os\n",
    "\n",
    "%matplotlib qt\n",
    "\n",
    "# Load image\n",
    "picture_number = 0\n",
    "image_name = model_name_im + \".jpg\"\n",
    "image = plt.imread(os.path.join(BYU_UW_root, 'measuerement images', image_name))\n",
    "height, width, _ = image.shape\n",
    "points = []\n",
    "\n",
    "# Initial axis limits\n",
    "xlim_init, ylim_init = (0, width), (height, 0)\n",
    "\n",
    "def on_click(event):\n",
    "    \"\"\"Reset view when clicking anywhere in the figure.\"\"\"\n",
    "    if event.button == 1:  # Left mouse button\n",
    "        points.append((event.xdata, event.ydata))\n",
    "        ax.plot(event.xdata, event.ydata, 'r.', label='real vertices')\n",
    "        ax.set_xlim(xlim_init)\n",
    "        ax.set_ylim(ylim_init)\n",
    "        ax.figure.canvas.draw()\n",
    "\n",
    "def on_scroll(event):\n",
    "    \"\"\"Zoom in/out at mouse position using the scroll wheel.\"\"\"\n",
    "    scale_factor = 1.3  # Zoom speed\n",
    "    xlim, ylim = ax.get_xlim(), ax.get_ylim()\n",
    "\n",
    "    if event.step > 0:  # Zoom in\n",
    "        xlim_new = (event.xdata - (event.xdata - xlim[0]) / scale_factor,\n",
    "                    event.xdata + (xlim[1] - event.xdata) / scale_factor)\n",
    "        ylim_new = (event.ydata - (event.ydata - ylim[0]) / scale_factor,\n",
    "                    event.ydata + (ylim[1] - event.ydata) / scale_factor)\n",
    "    else:  # Zoom out\n",
    "        xlim_new = (event.xdata - (event.xdata - xlim[0]) * scale_factor,\n",
    "                    event.xdata + (xlim[1] - event.xdata) * scale_factor)\n",
    "        ylim_new = (event.ydata - (event.ydata - ylim[0]) * scale_factor,\n",
    "                    event.ydata + (ylim[1] - event.ydata) * scale_factor)\n",
    "\n",
    "    ax.set_xlim(xlim_new)\n",
    "    ax.set_ylim(ylim_new)\n",
    "    fig.canvas.draw()\n",
    "\n",
    "def on_motion(event):\n",
    "    \"\"\"Update ring cursor position.\"\"\"\n",
    "    if event.xdata is not None and event.ydata is not None:\n",
    "        circle_outer.set_center((event.xdata, event.ydata))\n",
    "        circle_inner.set_center((event.xdata, event.ydata))\n",
    "        fig.canvas.draw_idle()\n",
    "\n",
    "def on_close(event):\n",
    "    \"\"\"Callback function to stop the event loop when the figure is closed.\"\"\"\n",
    "    plt.close()\n",
    "\n",
    "# Display image\n",
    "fig, ax = plt.subplots(figsize=(10, 10))\n",
    "ax.imshow(image)\n",
    "ax.set_xlim(xlim_init)\n",
    "ax.set_ylim(ylim_init)\n",
    "ax.axis(\"off\")\n",
    "\n",
    "# Add quadrant markers\n",
    "ax.text(width/2, height*.9, '0', color='r')\n",
    "ax.text(width*.9, height/2, '1', color='r')\n",
    "ax.text(width/2, height*.1, '2', color='r')\n",
    "ax.text(width*.1, height/2, '3', color='r')\n",
    "ax.set_title(\"Click on markers (in order). Zoom with scroll wheel.\")\n",
    "\n",
    "# Create ring cursor\n",
    "circle_outer = plt.Circle((0, 0), radius=40, color='r', fill=False, lw=2)\n",
    "circle_inner = plt.Circle((0, 0), radius=20, color='r', fill=False, lw=2)\n",
    "ax.add_patch(circle_outer)\n",
    "ax.add_patch(circle_inner)\n",
    "\n",
    "# Connect events\n",
    "fig.canvas.mpl_connect(\"button_press_event\", on_click)\n",
    "fig.canvas.mpl_connect(\"scroll_event\", on_scroll)\n",
    "fig.canvas.mpl_connect(\"motion_notify_event\", on_motion)\n",
    "\n",
    "plt.show()\n"
   ]
  },
  {
   "cell_type": "markdown",
   "metadata": {},
   "source": [
    "Use this points if you don't want to reassign the points everytime you run the script"
   ]
  },
  {
   "cell_type": "code",
   "execution_count": 5,
   "metadata": {},
   "outputs": [
    {
     "data": {
      "text/plain": [
       "([(1995.5170844075194, 1687.2482110624464),\n",
       "  (3268.7203109073275, 2916.4376832901685),\n",
       "  (4510.314576621868, 1647.6818123222524),\n",
       "  (3232.98153310187, 413.49014836187257)],\n",
       " array([[2.25105751e+04, 0.00000000e+00, 2.49549539e+03],\n",
       "        [0.00000000e+00, 2.25183605e+04, 2.84911943e+03],\n",
       "        [0.00000000e+00, 0.00000000e+00, 1.00000000e+00]]),\n",
       " array([[ 0.56985739,  1.09785385, -0.00920809,  0.02059732,  3.93628828]]))"
      ]
     },
     "execution_count": 5,
     "metadata": {},
     "output_type": "execute_result"
    }
   ],
   "source": [
    "# points = ([(3382.917796079749, 3466.400942109362),\n",
    "#   (4818.966106172992, 2030.9365791233422),\n",
    "#   (3367.876695509721, 609.515216381255),\n",
    "#   (1932.9951576914789, 2043.1452614796335)])\n",
    "\n",
    "mtx = np.array([[2.25105751e+04, 0.00000000e+00, 2.49549539e+03],\n",
    "        [0.00000000e+00, 2.25183605e+04, 2.84911943e+03],\n",
    "        [0.00000000e+00, 0.00000000e+00, 1.00000000e+00]])\n",
    "\n",
    "dist = np.array([[ 0.56985739,  1.09785385, -0.00920809,  0.02059732,  3.93628828]])\n",
    "\n",
    "points, mtx, dist"
   ]
  },
  {
   "cell_type": "markdown",
   "metadata": {},
   "source": [
    "### Calibrate the camera angle with the known coordinates of the markers.\n",
    "This will break if the order of the coordinates are misaligned. Also notice that the y-axis is inverted when working with images, ensure your know cordinate list is set up accordingly"
   ]
  },
  {
   "cell_type": "code",
   "execution_count": 6,
   "metadata": {},
   "outputs": [
    {
     "name": "stdout",
     "output_type": "stream",
     "text": [
      "Pixel locations: [[1995.51708441 1687.24821106]\n",
      " [3268.72031091 2916.43768329]\n",
      " [4510.31457662 1647.68181232]\n",
      " [3232.9815331   413.49014836]]\n",
      "cordinate list: [[3000.         2887.94395432]\n",
      " [3887.94395432 2000.        ]\n",
      " [3000.         1112.05604568]\n",
      " [2112.05604568 2000.        ]]\n"
     ]
    }
   ],
   "source": [
    "points_nonaligned    = np.array(points)\n",
    "distance_between_markers_mm = 148.49 # mm 155.669 148.49mm\n",
    "distance_between_markers_px = np.sqrt((points_nonaligned[3, 0] - points_nonaligned[0, 0])**2 + (points_nonaligned[3, 1] - points_nonaligned[0, 1])**2)\n",
    "\n",
    "mm_to_px = distance_between_markers_px/distance_between_markers_mm\n",
    "\n",
    "R_45 = np.array([[0.70710678, -0.70710678], [0.70710678, 0.70710678]])\n",
    "# points_aligned  = np.array([(0, -distance_between_markers_mm/2), (distance_between_markers_mm/2, 0), (0, distance_between_markers_mm/2), (-distance_between_markers_mm/2, 0)]) @ R_45 * mm_to_px + np.array([width/2, height/2]) \n",
    "points_aligned  = np.array([(0, distance_between_markers_mm/2), (distance_between_markers_mm/2, 0), (0, -distance_between_markers_mm/2), (-distance_between_markers_mm/2, 0)]) * mm_to_px + np.array([width/2, height/2]) \n",
    "print(\"Pixel locations:\", points_nonaligned)\n",
    "print(\"cordinate list:\", points_aligned)"
   ]
  },
  {
   "cell_type": "code",
   "execution_count": 7,
   "metadata": {},
   "outputs": [
    {
     "data": {
      "text/plain": [
       "<matplotlib.legend.Legend at 0x23018b368d0>"
      ]
     },
     "execution_count": 7,
     "metadata": {},
     "output_type": "execute_result"
    }
   ],
   "source": [
    "homography_matrix, _ = cv2.findHomography(points_nonaligned, points_aligned, method=cv2.RANSAC)\n",
    "aligned_image = cv2.warpPerspective(image, homography_matrix, (width, height))\n",
    "\n",
    "points_aligned_validate = np.array([points_nonaligned[:, 0], points_nonaligned[:, 1], np.ones_like(points_nonaligned[:, 0])])\n",
    "points_aligned_validate = np.dot(homography_matrix, points_aligned_validate)\n",
    "points_aligned_validate = np.array([points_aligned_validate[0, :]/points_aligned_validate[2, :], points_aligned_validate[1, :]/points_aligned_validate[2, :]]).T\n",
    "\n",
    "fig, ax = plt.subplots(1, 2, figsize=(15, 10), sharex=True, sharey=True)\n",
    "ax[0].imshow(image)\n",
    "ax[0].plot(points_nonaligned[:, 0], points_nonaligned[:, 1], 'r-*', markersize=10)\n",
    "ax[0].set_title('Unaligned Image')\n",
    "ax[0].axis('off')\n",
    "ax[1].imshow(aligned_image)\n",
    "ax[1].plot(points_aligned[:, 0], points_aligned[:, 1], 'r-*', markersize=10, label='known points')\n",
    "ax[1].plot(points_aligned_validate[:, 0], points_aligned_validate[:, 1], 'g.', markersize=10, label='known points - validate')\n",
    "ax[1].set_title('Orthogonal Image')\n",
    "ax[1].axis('off')\n",
    "plt.legend()"
   ]
  },
  {
   "cell_type": "code",
   "execution_count": 8,
   "metadata": {},
   "outputs": [],
   "source": [
    "net.vertices *= mm_to_px # Scale the network vertices to match the image scale\n",
    "net.vertices += np.array([width/2, height/2,0]) # Shift the network vertices to match the image origin"
   ]
  },
  {
   "cell_type": "code",
   "execution_count": 9,
   "metadata": {},
   "outputs": [],
   "source": [
    "points = []\n",
    "fig, ax = plt.subplots(figsize=(15, 10))\n",
    "ax.axis('off')\n",
    "ax.set_aspect('equal')\n",
    "ax.imshow(aligned_image)\n",
    "ax = net.net_plot_mat(ax, vlabels=True, fp=True)\n",
    "fig.canvas.mpl_connect('button_press_event', on_click)\n",
    "fig.canvas.mpl_connect('scroll_event', on_scroll)\n",
    "fig.canvas.mpl_connect('close_event', on_close)\n",
    "ax.set_title('Click on the vertices of the network (in order). (Scroll to zoom)')\n",
    "plt.show()"
   ]
  },
  {
   "cell_type": "code",
   "execution_count": 10,
   "metadata": {},
   "outputs": [
    {
     "data": {
      "text/plain": [
       "(array([[175.89305901, 241.41616725],\n",
       "        [216.03547661, 203.32598553],\n",
       "        [256.14164915, 168.25743415],\n",
       "        [291.86925074, 129.50566073],\n",
       "        [325.70589071,  92.80685921],\n",
       "        [176.75222497,  93.11499019],\n",
       "        [215.11041973, 129.85012274],\n",
       "        [290.54085791, 202.96798623],\n",
       "        [325.8347741 , 242.82570845]]),\n",
       " array([[173.06178864, 245.01076898,   0.        ],\n",
       "        [213.51118995, 206.03832109,   0.        ],\n",
       "        [254.07192782, 168.88713749,   0.        ],\n",
       "        [290.43008501, 127.44387063,   0.        ],\n",
       "        [328.6252805 ,  89.44727711,   0.        ],\n",
       "        [173.06178864,  89.44727711,   0.        ],\n",
       "        [212.80800147, 126.75542387,   0.        ],\n",
       "        [289.90172004, 205.4714332 ,   0.        ],\n",
       "        [328.6252805 , 245.01076898,   0.        ]]))"
      ]
     },
     "execution_count": 10,
     "metadata": {},
     "output_type": "execute_result"
    }
   ],
   "source": [
    "net.vertices /= mm_to_px\n",
    "points = np.array(points)/mm_to_px\n",
    "points, net.vertices"
   ]
  },
  {
   "cell_type": "code",
   "execution_count": 11,
   "metadata": {},
   "outputs": [
    {
     "data": {
      "text/plain": [
       "array([[175.89305901, 241.41616725,   0.        ],\n",
       "       [213.51118995, 206.03832109,   0.        ],\n",
       "       [254.07192782, 168.88713749,   0.        ],\n",
       "       [290.43008501, 127.44387063,   0.        ],\n",
       "       [325.70589071,  92.80685921,   0.        ],\n",
       "       [176.75222497,  93.11499019,   0.        ],\n",
       "       [212.80800147, 126.75542387,   0.        ],\n",
       "       [289.90172004, 205.4714332 ,   0.        ],\n",
       "       [325.8347741 , 242.82570845,   0.        ]])"
      ]
     },
     "execution_count": 11,
     "metadata": {},
     "output_type": "execute_result"
    }
   ],
   "source": [
    "file_path = os.path.join(BYU_UW_root, 'Avg_Stress_Strain_Overture_TPU.csv')\n",
    "stress_data, strain_data = net.load_stress_strain_curve(file_path)\n",
    "strain_to_stress = net.material_model(stress_data, strain_data, interpolation_kind = 'cubic')\n",
    "TPU_nl = {'stress':strain_data, 'strain': stress_data, 'v':0.3897, 'p':1.18e-9, 'A': 0.078294515, 'name': 'TPU Overture'} # TPU Overture non-conductive\n",
    "A = [TPU_nl['A']]*len(net.edges)\n",
    "\n",
    "vertices_equilibrium = np.copy(net.vertices)\n",
    "points = np.array(points)\n",
    "\n",
    "vertices_equilibrium[net.fixed,:2] = points[net.fixed]\n",
    "\n",
    "vertices_equilibrium, l1_equilibrium, f = net.find_equilibrium(vertices_equilibrium, A, strain_to_stress)\n",
    "# net.net_plot(color=False, elables = True, vlabels = False, custom_vertices = vertices_equilibrium)\n",
    "vertices_equilibrium"
   ]
  },
  {
   "cell_type": "code",
   "execution_count": 12,
   "metadata": {},
   "outputs": [],
   "source": [
    "# points = []\n",
    "fig, ax = plt.subplots(figsize=(15, 10))\n",
    "ax.axis('off')\n",
    "ax.set_aspect('equal')\n",
    "ax.imshow(aligned_image)\n",
    "ax = net.net_plot_mat(ax, vlabels=True, fp=True, vertices_c=vertices_equilibrium*mm_to_px)\n",
    "# ax = net_plot_mat(net, vlabels=True, fp=True, vertices_c=vertices_equilibrium)\n",
    "ax.plot(net.vertices[net.fixed,0]*mm_to_px, net.vertices[net.fixed,1]*mm_to_px, 'b*', markersize=5, label='Fixed points - designed')\n",
    "ax.set_xlim(np.min(net.vertices[net.fixed,0])*mm_to_px - 50, np.max(net.vertices[net.fixed,0])*mm_to_px+ 50)\n",
    "ax.set_ylim(np.max(net.vertices[net.fixed,1])*mm_to_px+ 50, np.min(net.vertices[net.fixed,1])*mm_to_px- 50)\n",
    "ax.legend(fontsize=12)\n",
    "plt.show()\n",
    "plt.savefig(os.path.join(BYU_UW_root, 'images','validation_images', model_name_im + '_val.png'), dpi=300, bbox_inches='tight')"
   ]
  },
  {
   "cell_type": "code",
   "execution_count": 13,
   "metadata": {},
   "outputs": [
    {
     "data": {
      "text/plain": [
       "array([0.        , 0.30981165, 0.18089111, 0.21023981, 0.        ,\n",
       "       0.        , 0.32252114, 0.21603867, 0.        ])"
      ]
     },
     "execution_count": 13,
     "metadata": {},
     "output_type": "execute_result"
    }
   ],
   "source": [
    "vertices_real = np.array(points)\n",
    "# error_pixels = np.sqrt(np.sum((vertices_real - net.vertices[:, :2])**2, axis=1))\n",
    "error_pixels = np.sqrt(np.sum((vertices_real - vertices_equilibrium[:, :2])**2, axis=1))\n",
    "error_mm = error_pixels / mm_to_px\n",
    "error_mm"
   ]
  },
  {
   "cell_type": "code",
   "execution_count": 14,
   "metadata": {},
   "outputs": [
    {
     "data": {
      "text/plain": [
       "0.043409701982078254"
      ]
     },
     "execution_count": 14,
     "metadata": {},
     "output_type": "execute_result"
    }
   ],
   "source": [
    "error_rel = 0\n",
    "for edge_i, edge in enumerate(net.edges):\n",
    "    coor0, coor1 = vertices_real[edge[0]], vertices_real[edge[1]]\n",
    "    l1m = np.linalg.norm(coor0[:2] - coor1[:2])\n",
    "    # error_rel += np.abs(l1m - net.l1[edge_i]) / net.l1[edge_i]\n",
    "    error_rel += np.abs(l1m - l1_equilibrium[edge_i]) / l1_equilibrium[edge_i]\n",
    "# error_rel /= distance_between_markers_mm\n",
    "error_rel/ len(net.edges) # percentage error"
   ]
  },
  {
   "cell_type": "code",
   "execution_count": null,
   "metadata": {},
   "outputs": [
    {
     "data": {
      "text/plain": [
       "('unit_cell_even_q_1.0',\n",
       " 'unit_cell_even_q_1.0_0',\n",
       " array([[175.89305901, 241.41616725],\n",
       "        [216.03547661, 203.32598553],\n",
       "        [256.14164915, 168.25743415],\n",
       "        [291.86925074, 129.50566073],\n",
       "        [325.70589071,  92.80685921],\n",
       "        [176.75222497,  93.11499019],\n",
       "        [215.11041973, 129.85012274],\n",
       "        [290.54085791, 202.96798623],\n",
       "        [325.8347741 , 242.82570845]]),\n",
       " array([[175.89305901, 241.41616725,   0.        ],\n",
       "        [213.51118995, 206.03832109,   0.        ],\n",
       "        [254.07192782, 168.88713749,   0.        ],\n",
       "        [290.43008501, 127.44387063,   0.        ],\n",
       "        [325.70589071,  92.80685921,   0.        ],\n",
       "        [176.75222497,  93.11499019,   0.        ],\n",
       "        [212.80800147, 126.75542387,   0.        ],\n",
       "        [289.90172004, 205.4714332 ,   0.        ],\n",
       "        [325.8347741 , 242.82570845,   0.        ]]))"
      ]
     },
     "execution_count": 15,
     "metadata": {},
     "output_type": "execute_result"
    }
   ],
   "source": [
    "# net.vertices /= mm_to_px # Scale the network vertices to match the image scale\n",
    "net.vertices -= np.array([width/2, height/2,0])\n",
    "\n",
    "# Save the calibration results\n",
    "calibration_results = {\n",
    "    'model_name': model_name,\n",
    "    'model_name_im': model_name_im,\n",
    "    'camera_matrix': mtx,\n",
    "    'distortion_coefficients': dist,\n",
    "    'homography_matrix': homography_matrix,\n",
    "    'real_vertices': vertices_real,\n",
    "    'equilibrium_vertices': vertices_equilibrium,\n",
    "    'vertices': net.vertices,\n",
    "    'error_pixels': error_pixels,\n",
    "    'error_mm': error_mm,\n",
    "    'error_rel': error_rel\n",
    "}\n",
    "np.save(os.path.join(BYU_UW_root, 'calibration_results', model_name_im + '_cr.npy'), calibration_results)"
   ]
  },
  {
   "cell_type": "code",
   "execution_count": 24,
   "metadata": {},
   "outputs": [
    {
     "name": "stdout",
     "output_type": "stream",
     "text": [
      "for some reason G:\\.shortcut-targets-by-id\\1k1B8zPb3T8H7y6x0irFZnzzmfQPHMRPx\\Illimited Lab Projects\\Research Projects\\Spiders\\BYU-UW\\calibration_results\\VS_ring0.5_connectors0.8_center0.2_as1.5_asr1.5_s110_0_cr.npy stopped working\n"
     ]
    }
   ],
   "source": [
    "fig, ax = plt.subplots(1, 3, figsize=(15, 10), sharey=True)\n",
    "ax[0].set_xlabel('Force (N)')\n",
    "ax[1].set_xlabel('Curvature (1/m)')\n",
    "ax[2].set_xlabel('Initial length (m)')\n",
    "ax[0].set_ylabel('Relative error (%)')\n",
    "\n",
    "calibration_results_files = glob.glob(os.path.join(BYU_UW_root, 'calibration_results', '*_cr.npy'))\n",
    "\n",
    "for file in calibration_results_files:\n",
    "    try:\n",
    "        data = np.load(file, allow_pickle=True).item()\n",
    "    except:\n",
    "        print(f'for some reason {file} stopped working')\n",
    "        continue\n",
    "    model_name_im = data['model_name_im']\n",
    "    model_name = data['model_name']\n",
    "    real_vertices = data['real_vertices']\n",
    "    vertices_equilibrium = data['equilibrium_vertices']\n",
    "\n",
    "    try:\n",
    "        net = Network_custom.load_network(os.path.join(BYU_UW_root, 'networks', model_name + '.pkl'))\n",
    "    except:\n",
    "        net = Network_custom.load_network(os.path.join(BYU_UW_root, 'networks', model_name + '_net.pkl')) \n",
    "\n",
    "    f = net.f\n",
    "    R = net.R\n",
    "    kappa = 1/R\n",
    "    l0 = net.l0\n",
    "    error_edge = []\n",
    "    for edge_i, edge in enumerate(net.edges):\n",
    "        coor0, coor1 = vertices_real[edge[0]], vertices_real[edge[1]]\n",
    "        l1m = np.linalg.norm(coor0[:2] - coor1[:2])\n",
    "        error_edge.append(np.abs(l1m - l1_equilibrium[edge_i]) / l1_equilibrium[edge_i])\n",
    "    edge_error = np.array(error_edge) * 100 # percentage error\n",
    "    ax[0].plot(f, error_edge, 'o', label=model_name_im)\n",
    "    ax[1].plot(kappa, error_edge, 'o', label=model_name_im)\n",
    "    ax[2].plot(l0, error_edge, 'o', label=model_name_im)\n",
    "\n",
    "ax[0].legend()\n",
    "ax[0].set_title('Force vs Relative Error')\n",
    "ax[1].set_title('Curvature vs Relative Error')\n",
    "ax[2].set_title('Initial Length vs Relative Error')\n",
    "plt.tight_layout()\n",
    "plt.show()\n",
    "\n",
    "    "
   ]
  }
 ],
 "metadata": {
  "kernelspec": {
   "display_name": "base",
   "language": "python",
   "name": "python3"
  },
  "language_info": {
   "codemirror_mode": {
    "name": "ipython",
    "version": 3
   },
   "file_extension": ".py",
   "mimetype": "text/x-python",
   "name": "python",
   "nbconvert_exporter": "python",
   "pygments_lexer": "ipython3",
   "version": "3.12.3"
  }
 },
 "nbformat": 4,
 "nbformat_minor": 2
}
