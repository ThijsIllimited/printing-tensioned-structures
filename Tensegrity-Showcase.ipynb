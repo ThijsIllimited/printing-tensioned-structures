{
 "cells": [
  {
   "cell_type": "code",
   "execution_count": 17,
   "metadata": {},
   "outputs": [],
   "source": [
    "import numpy as np\n",
    "import pickle\n",
    "import pandas as pd\n",
    "\n",
    "# G-code generation codes are cloned from https://github.com/tibor-barsi/GcodeGenerator. Tibor Barsi is the author of the code, and was a PhD student at the Ladisk lab of the University of Ljubljana\n",
    "#  We should be careful with crediting the author of the code, if we ever want to make these code public.\n",
    "from src.g_code_generation_copy.gcode_generator import G_code_generator\n",
    "from src.g_code_generation_copy.tool_changer_functions import save_params, load_params, printer_start, load_tool, unload_tool, tool_change, take_photo, play_sound, printer_stop\n",
    "# from src.additional_functions import *\n",
    "from src.network import Network_custom, replace_brackets\n",
    "import os\n",
    "\n",
    "BYU_UW_root = r\"G:\\.shortcut-targets-by-id\\1k1B8zPb3T8H7y6x0irFZnzzmfQPHMRPx\\Illimited Lab Projects\\Research Projects\\Spiders\\BYU-UW\""
   ]
  },
  {
   "cell_type": "code",
   "execution_count": 18,
   "metadata": {},
   "outputs": [
    {
     "data": {
      "text/plain": [
       "0.9998951102800386"
      ]
     },
     "execution_count": 18,
     "metadata": {},
     "output_type": "execute_result"
    }
   ],
   "source": [
    "path = os.path.join(BYU_UW_root, 'networks', 'expandable_octahedron_net.pkl')\n",
    "net = Network_custom().load_network(path)\n",
    "net.l_scalar"
   ]
  },
  {
   "cell_type": "code",
   "execution_count": 19,
   "metadata": {},
   "outputs": [
    {
     "data": {
      "application/vnd.plotly.v1+json": {
       "config": {
        "plotlyServerURL": "https://plot.ly"
       },
       "data": [
        {
         "line": {
          "color": [
           0.5,
           0.5,
           0,
           0,
           0,
           0,
           0,
           0,
           0,
           0,
           0,
           0,
           0,
           0,
           0,
           0,
           0,
           0,
           0.5,
           0.5,
           0,
           0.5,
           0.5,
           0,
           1,
           1,
           0,
           1,
           1,
           0,
           1,
           1,
           0,
           1,
           1,
           0,
           1,
           1,
           0,
           0.5,
           0.5,
           0,
           0,
           0,
           0,
           0.5,
           0.5,
           0,
           0.5,
           0.5,
           0,
           1,
           1,
           0,
           0.5,
           0.5,
           0,
           1,
           1,
           0,
           0,
           0,
           0,
           0,
           0,
           0,
           0,
           0,
           0,
           0,
           0,
           0
          ],
          "colorbar": {
           "title": {
            "text": "Force"
           }
          },
          "colorscale": [
           [
            0,
            "#440154"
           ],
           [
            0.1111111111111111,
            "#482878"
           ],
           [
            0.2222222222222222,
            "#3e4989"
           ],
           [
            0.3333333333333333,
            "#31688e"
           ],
           [
            0.4444444444444444,
            "#26828e"
           ],
           [
            0.5555555555555556,
            "#1f9e89"
           ],
           [
            0.6666666666666666,
            "#35b779"
           ],
           [
            0.7777777777777778,
            "#6ece58"
           ],
           [
            0.8888888888888888,
            "#b5de2b"
           ],
           [
            1,
            "#fde725"
           ]
          ],
          "showscale": true,
          "width": 3
         },
         "mode": "lines",
         "type": "scatter3d",
         "x": [
          -40,
          -20,
          null,
          -20,
          -40,
          null,
          -20,
          0,
          null,
          -20,
          0,
          null,
          20,
          0,
          null,
          20,
          0,
          null,
          20,
          40,
          null,
          20,
          40,
          null,
          0,
          -40,
          null,
          0,
          40,
          null,
          0,
          -40,
          null,
          0,
          40,
          null,
          -20,
          -40,
          null,
          -40,
          0,
          null,
          -20,
          -40,
          null,
          -40,
          0,
          null,
          40,
          0,
          null,
          20,
          40,
          null,
          40,
          0,
          null,
          20,
          40,
          null,
          -20,
          0,
          null,
          20,
          0,
          null,
          -20,
          0,
          null,
          20,
          0,
          null,
          -20,
          -20,
          null,
          20,
          20,
          null,
          0,
          0,
          null,
          -40,
          40,
          null,
          -40,
          40,
          null,
          0,
          0,
          null
         ],
         "y": [
          20,
          0,
          null,
          0,
          -20,
          null,
          0,
          40,
          null,
          0,
          -40,
          null,
          0,
          40,
          null,
          0,
          -40,
          null,
          0,
          20,
          null,
          0,
          -20,
          null,
          40,
          20,
          null,
          40,
          20,
          null,
          -40,
          -20,
          null,
          -40,
          -20,
          null,
          0,
          20,
          null,
          20,
          40,
          null,
          0,
          -20,
          null,
          -20,
          -40,
          null,
          20,
          40,
          null,
          0,
          20,
          null,
          -20,
          -40,
          null,
          0,
          -20,
          null,
          0,
          40,
          null,
          0,
          40,
          null,
          0,
          -40,
          null,
          0,
          -40,
          null,
          0,
          0,
          null,
          0,
          0,
          null,
          40,
          -40,
          null,
          20,
          20,
          null,
          -20,
          -20,
          null,
          40,
          -40,
          null
         ],
         "z": [
          0,
          -40,
          null,
          -40,
          0,
          null,
          -40,
          -20,
          null,
          -40,
          -20,
          null,
          -40,
          -20,
          null,
          -40,
          -20,
          null,
          -40,
          0,
          null,
          -40,
          0,
          null,
          -20,
          0,
          null,
          -20,
          0,
          null,
          -20,
          0,
          null,
          -20,
          0,
          null,
          40,
          0,
          null,
          0,
          20,
          null,
          40,
          0,
          null,
          0,
          20,
          null,
          0,
          20,
          null,
          40,
          0,
          null,
          0,
          20,
          null,
          40,
          0,
          null,
          40,
          20,
          null,
          40,
          20,
          null,
          40,
          20,
          null,
          40,
          20,
          null,
          -40,
          40,
          null,
          -40,
          40,
          null,
          -20,
          -20,
          null,
          0,
          0,
          null,
          0,
          0,
          null,
          20,
          20,
          null
         ]
        },
        {
         "mode": "text",
         "text": [
          "0"
         ],
         "type": "scatter3d",
         "x": [
          -20
         ],
         "y": [
          0
         ],
         "z": [
          -40
         ]
        },
        {
         "mode": "text",
         "text": [
          "1"
         ],
         "type": "scatter3d",
         "x": [
          -20
         ],
         "y": [
          0
         ],
         "z": [
          40
         ]
        },
        {
         "mode": "text",
         "text": [
          "2"
         ],
         "type": "scatter3d",
         "x": [
          20
         ],
         "y": [
          0
         ],
         "z": [
          -40
         ]
        },
        {
         "mode": "text",
         "text": [
          "3"
         ],
         "type": "scatter3d",
         "x": [
          20
         ],
         "y": [
          0
         ],
         "z": [
          40
         ]
        },
        {
         "mode": "text",
         "text": [
          "4"
         ],
         "type": "scatter3d",
         "x": [
          0
         ],
         "y": [
          40
         ],
         "z": [
          -20
         ]
        },
        {
         "mode": "text",
         "text": [
          "5"
         ],
         "type": "scatter3d",
         "x": [
          0
         ],
         "y": [
          -40
         ],
         "z": [
          -20
         ]
        },
        {
         "mode": "text",
         "text": [
          "6"
         ],
         "type": "scatter3d",
         "x": [
          -40
         ],
         "y": [
          20
         ],
         "z": [
          0
         ]
        },
        {
         "mode": "text",
         "text": [
          "7"
         ],
         "type": "scatter3d",
         "x": [
          40
         ],
         "y": [
          20
         ],
         "z": [
          0
         ]
        },
        {
         "mode": "text",
         "text": [
          "8"
         ],
         "type": "scatter3d",
         "x": [
          -40
         ],
         "y": [
          -20
         ],
         "z": [
          0
         ]
        },
        {
         "mode": "text",
         "text": [
          "9"
         ],
         "type": "scatter3d",
         "x": [
          40
         ],
         "y": [
          -20
         ],
         "z": [
          0
         ]
        },
        {
         "mode": "text",
         "text": [
          "10"
         ],
         "type": "scatter3d",
         "x": [
          0
         ],
         "y": [
          40
         ],
         "z": [
          20
         ]
        },
        {
         "mode": "text",
         "text": [
          "11"
         ],
         "type": "scatter3d",
         "x": [
          0
         ],
         "y": [
          -40
         ],
         "z": [
          20
         ]
        }
       ],
       "layout": {
        "scene": {
         "aspectmode": "data",
         "camera": {
          "center": {
           "x": 0,
           "y": 0,
           "z": 0
          },
          "eye": {
           "x": 0,
           "y": 0,
           "z": 2
          },
          "up": {
           "x": 0,
           "y": 1,
           "z": 0
          }
         }
        },
        "template": {
         "data": {
          "bar": [
           {
            "error_x": {
             "color": "#2a3f5f"
            },
            "error_y": {
             "color": "#2a3f5f"
            },
            "marker": {
             "line": {
              "color": "#E5ECF6",
              "width": 0.5
             },
             "pattern": {
              "fillmode": "overlay",
              "size": 10,
              "solidity": 0.2
             }
            },
            "type": "bar"
           }
          ],
          "barpolar": [
           {
            "marker": {
             "line": {
              "color": "#E5ECF6",
              "width": 0.5
             },
             "pattern": {
              "fillmode": "overlay",
              "size": 10,
              "solidity": 0.2
             }
            },
            "type": "barpolar"
           }
          ],
          "carpet": [
           {
            "aaxis": {
             "endlinecolor": "#2a3f5f",
             "gridcolor": "white",
             "linecolor": "white",
             "minorgridcolor": "white",
             "startlinecolor": "#2a3f5f"
            },
            "baxis": {
             "endlinecolor": "#2a3f5f",
             "gridcolor": "white",
             "linecolor": "white",
             "minorgridcolor": "white",
             "startlinecolor": "#2a3f5f"
            },
            "type": "carpet"
           }
          ],
          "choropleth": [
           {
            "colorbar": {
             "outlinewidth": 0,
             "ticks": ""
            },
            "type": "choropleth"
           }
          ],
          "contour": [
           {
            "colorbar": {
             "outlinewidth": 0,
             "ticks": ""
            },
            "colorscale": [
             [
              0,
              "#0d0887"
             ],
             [
              0.1111111111111111,
              "#46039f"
             ],
             [
              0.2222222222222222,
              "#7201a8"
             ],
             [
              0.3333333333333333,
              "#9c179e"
             ],
             [
              0.4444444444444444,
              "#bd3786"
             ],
             [
              0.5555555555555556,
              "#d8576b"
             ],
             [
              0.6666666666666666,
              "#ed7953"
             ],
             [
              0.7777777777777778,
              "#fb9f3a"
             ],
             [
              0.8888888888888888,
              "#fdca26"
             ],
             [
              1,
              "#f0f921"
             ]
            ],
            "type": "contour"
           }
          ],
          "contourcarpet": [
           {
            "colorbar": {
             "outlinewidth": 0,
             "ticks": ""
            },
            "type": "contourcarpet"
           }
          ],
          "heatmap": [
           {
            "colorbar": {
             "outlinewidth": 0,
             "ticks": ""
            },
            "colorscale": [
             [
              0,
              "#0d0887"
             ],
             [
              0.1111111111111111,
              "#46039f"
             ],
             [
              0.2222222222222222,
              "#7201a8"
             ],
             [
              0.3333333333333333,
              "#9c179e"
             ],
             [
              0.4444444444444444,
              "#bd3786"
             ],
             [
              0.5555555555555556,
              "#d8576b"
             ],
             [
              0.6666666666666666,
              "#ed7953"
             ],
             [
              0.7777777777777778,
              "#fb9f3a"
             ],
             [
              0.8888888888888888,
              "#fdca26"
             ],
             [
              1,
              "#f0f921"
             ]
            ],
            "type": "heatmap"
           }
          ],
          "heatmapgl": [
           {
            "colorbar": {
             "outlinewidth": 0,
             "ticks": ""
            },
            "colorscale": [
             [
              0,
              "#0d0887"
             ],
             [
              0.1111111111111111,
              "#46039f"
             ],
             [
              0.2222222222222222,
              "#7201a8"
             ],
             [
              0.3333333333333333,
              "#9c179e"
             ],
             [
              0.4444444444444444,
              "#bd3786"
             ],
             [
              0.5555555555555556,
              "#d8576b"
             ],
             [
              0.6666666666666666,
              "#ed7953"
             ],
             [
              0.7777777777777778,
              "#fb9f3a"
             ],
             [
              0.8888888888888888,
              "#fdca26"
             ],
             [
              1,
              "#f0f921"
             ]
            ],
            "type": "heatmapgl"
           }
          ],
          "histogram": [
           {
            "marker": {
             "pattern": {
              "fillmode": "overlay",
              "size": 10,
              "solidity": 0.2
             }
            },
            "type": "histogram"
           }
          ],
          "histogram2d": [
           {
            "colorbar": {
             "outlinewidth": 0,
             "ticks": ""
            },
            "colorscale": [
             [
              0,
              "#0d0887"
             ],
             [
              0.1111111111111111,
              "#46039f"
             ],
             [
              0.2222222222222222,
              "#7201a8"
             ],
             [
              0.3333333333333333,
              "#9c179e"
             ],
             [
              0.4444444444444444,
              "#bd3786"
             ],
             [
              0.5555555555555556,
              "#d8576b"
             ],
             [
              0.6666666666666666,
              "#ed7953"
             ],
             [
              0.7777777777777778,
              "#fb9f3a"
             ],
             [
              0.8888888888888888,
              "#fdca26"
             ],
             [
              1,
              "#f0f921"
             ]
            ],
            "type": "histogram2d"
           }
          ],
          "histogram2dcontour": [
           {
            "colorbar": {
             "outlinewidth": 0,
             "ticks": ""
            },
            "colorscale": [
             [
              0,
              "#0d0887"
             ],
             [
              0.1111111111111111,
              "#46039f"
             ],
             [
              0.2222222222222222,
              "#7201a8"
             ],
             [
              0.3333333333333333,
              "#9c179e"
             ],
             [
              0.4444444444444444,
              "#bd3786"
             ],
             [
              0.5555555555555556,
              "#d8576b"
             ],
             [
              0.6666666666666666,
              "#ed7953"
             ],
             [
              0.7777777777777778,
              "#fb9f3a"
             ],
             [
              0.8888888888888888,
              "#fdca26"
             ],
             [
              1,
              "#f0f921"
             ]
            ],
            "type": "histogram2dcontour"
           }
          ],
          "mesh3d": [
           {
            "colorbar": {
             "outlinewidth": 0,
             "ticks": ""
            },
            "type": "mesh3d"
           }
          ],
          "parcoords": [
           {
            "line": {
             "colorbar": {
              "outlinewidth": 0,
              "ticks": ""
             }
            },
            "type": "parcoords"
           }
          ],
          "pie": [
           {
            "automargin": true,
            "type": "pie"
           }
          ],
          "scatter": [
           {
            "fillpattern": {
             "fillmode": "overlay",
             "size": 10,
             "solidity": 0.2
            },
            "type": "scatter"
           }
          ],
          "scatter3d": [
           {
            "line": {
             "colorbar": {
              "outlinewidth": 0,
              "ticks": ""
             }
            },
            "marker": {
             "colorbar": {
              "outlinewidth": 0,
              "ticks": ""
             }
            },
            "type": "scatter3d"
           }
          ],
          "scattercarpet": [
           {
            "marker": {
             "colorbar": {
              "outlinewidth": 0,
              "ticks": ""
             }
            },
            "type": "scattercarpet"
           }
          ],
          "scattergeo": [
           {
            "marker": {
             "colorbar": {
              "outlinewidth": 0,
              "ticks": ""
             }
            },
            "type": "scattergeo"
           }
          ],
          "scattergl": [
           {
            "marker": {
             "colorbar": {
              "outlinewidth": 0,
              "ticks": ""
             }
            },
            "type": "scattergl"
           }
          ],
          "scattermapbox": [
           {
            "marker": {
             "colorbar": {
              "outlinewidth": 0,
              "ticks": ""
             }
            },
            "type": "scattermapbox"
           }
          ],
          "scatterpolar": [
           {
            "marker": {
             "colorbar": {
              "outlinewidth": 0,
              "ticks": ""
             }
            },
            "type": "scatterpolar"
           }
          ],
          "scatterpolargl": [
           {
            "marker": {
             "colorbar": {
              "outlinewidth": 0,
              "ticks": ""
             }
            },
            "type": "scatterpolargl"
           }
          ],
          "scatterternary": [
           {
            "marker": {
             "colorbar": {
              "outlinewidth": 0,
              "ticks": ""
             }
            },
            "type": "scatterternary"
           }
          ],
          "surface": [
           {
            "colorbar": {
             "outlinewidth": 0,
             "ticks": ""
            },
            "colorscale": [
             [
              0,
              "#0d0887"
             ],
             [
              0.1111111111111111,
              "#46039f"
             ],
             [
              0.2222222222222222,
              "#7201a8"
             ],
             [
              0.3333333333333333,
              "#9c179e"
             ],
             [
              0.4444444444444444,
              "#bd3786"
             ],
             [
              0.5555555555555556,
              "#d8576b"
             ],
             [
              0.6666666666666666,
              "#ed7953"
             ],
             [
              0.7777777777777778,
              "#fb9f3a"
             ],
             [
              0.8888888888888888,
              "#fdca26"
             ],
             [
              1,
              "#f0f921"
             ]
            ],
            "type": "surface"
           }
          ],
          "table": [
           {
            "cells": {
             "fill": {
              "color": "#EBF0F8"
             },
             "line": {
              "color": "white"
             }
            },
            "header": {
             "fill": {
              "color": "#C8D4E3"
             },
             "line": {
              "color": "white"
             }
            },
            "type": "table"
           }
          ]
         },
         "layout": {
          "annotationdefaults": {
           "arrowcolor": "#2a3f5f",
           "arrowhead": 0,
           "arrowwidth": 1
          },
          "autotypenumbers": "strict",
          "coloraxis": {
           "colorbar": {
            "outlinewidth": 0,
            "ticks": ""
           }
          },
          "colorscale": {
           "diverging": [
            [
             0,
             "#8e0152"
            ],
            [
             0.1,
             "#c51b7d"
            ],
            [
             0.2,
             "#de77ae"
            ],
            [
             0.3,
             "#f1b6da"
            ],
            [
             0.4,
             "#fde0ef"
            ],
            [
             0.5,
             "#f7f7f7"
            ],
            [
             0.6,
             "#e6f5d0"
            ],
            [
             0.7,
             "#b8e186"
            ],
            [
             0.8,
             "#7fbc41"
            ],
            [
             0.9,
             "#4d9221"
            ],
            [
             1,
             "#276419"
            ]
           ],
           "sequential": [
            [
             0,
             "#0d0887"
            ],
            [
             0.1111111111111111,
             "#46039f"
            ],
            [
             0.2222222222222222,
             "#7201a8"
            ],
            [
             0.3333333333333333,
             "#9c179e"
            ],
            [
             0.4444444444444444,
             "#bd3786"
            ],
            [
             0.5555555555555556,
             "#d8576b"
            ],
            [
             0.6666666666666666,
             "#ed7953"
            ],
            [
             0.7777777777777778,
             "#fb9f3a"
            ],
            [
             0.8888888888888888,
             "#fdca26"
            ],
            [
             1,
             "#f0f921"
            ]
           ],
           "sequentialminus": [
            [
             0,
             "#0d0887"
            ],
            [
             0.1111111111111111,
             "#46039f"
            ],
            [
             0.2222222222222222,
             "#7201a8"
            ],
            [
             0.3333333333333333,
             "#9c179e"
            ],
            [
             0.4444444444444444,
             "#bd3786"
            ],
            [
             0.5555555555555556,
             "#d8576b"
            ],
            [
             0.6666666666666666,
             "#ed7953"
            ],
            [
             0.7777777777777778,
             "#fb9f3a"
            ],
            [
             0.8888888888888888,
             "#fdca26"
            ],
            [
             1,
             "#f0f921"
            ]
           ]
          },
          "colorway": [
           "#636efa",
           "#EF553B",
           "#00cc96",
           "#ab63fa",
           "#FFA15A",
           "#19d3f3",
           "#FF6692",
           "#B6E880",
           "#FF97FF",
           "#FECB52"
          ],
          "font": {
           "color": "#2a3f5f"
          },
          "geo": {
           "bgcolor": "white",
           "lakecolor": "white",
           "landcolor": "#E5ECF6",
           "showlakes": true,
           "showland": true,
           "subunitcolor": "white"
          },
          "hoverlabel": {
           "align": "left"
          },
          "hovermode": "closest",
          "mapbox": {
           "style": "light"
          },
          "paper_bgcolor": "white",
          "plot_bgcolor": "#E5ECF6",
          "polar": {
           "angularaxis": {
            "gridcolor": "white",
            "linecolor": "white",
            "ticks": ""
           },
           "bgcolor": "#E5ECF6",
           "radialaxis": {
            "gridcolor": "white",
            "linecolor": "white",
            "ticks": ""
           }
          },
          "scene": {
           "xaxis": {
            "backgroundcolor": "#E5ECF6",
            "gridcolor": "white",
            "gridwidth": 2,
            "linecolor": "white",
            "showbackground": true,
            "ticks": "",
            "zerolinecolor": "white"
           },
           "yaxis": {
            "backgroundcolor": "#E5ECF6",
            "gridcolor": "white",
            "gridwidth": 2,
            "linecolor": "white",
            "showbackground": true,
            "ticks": "",
            "zerolinecolor": "white"
           },
           "zaxis": {
            "backgroundcolor": "#E5ECF6",
            "gridcolor": "white",
            "gridwidth": 2,
            "linecolor": "white",
            "showbackground": true,
            "ticks": "",
            "zerolinecolor": "white"
           }
          },
          "shapedefaults": {
           "line": {
            "color": "#2a3f5f"
           }
          },
          "ternary": {
           "aaxis": {
            "gridcolor": "white",
            "linecolor": "white",
            "ticks": ""
           },
           "baxis": {
            "gridcolor": "white",
            "linecolor": "white",
            "ticks": ""
           },
           "bgcolor": "#E5ECF6",
           "caxis": {
            "gridcolor": "white",
            "linecolor": "white",
            "ticks": ""
           }
          },
          "title": {
           "x": 0.05
          },
          "xaxis": {
           "automargin": true,
           "gridcolor": "white",
           "linecolor": "white",
           "ticks": "",
           "title": {
            "standoff": 15
           },
           "zerolinecolor": "white",
           "zerolinewidth": 2
          },
          "yaxis": {
           "automargin": true,
           "gridcolor": "white",
           "linecolor": "white",
           "ticks": "",
           "title": {
            "standoff": 15
           },
           "zerolinecolor": "white",
           "zerolinewidth": 2
          }
         }
        },
        "title": {
         "text": "Plotly Plot"
        }
       }
      }
     },
     "metadata": {},
     "output_type": "display_data"
    },
    {
     "data": {
      "text/plain": [
       "7.508540518680814"
      ]
     },
     "execution_count": 19,
     "metadata": {},
     "output_type": "execute_result"
    }
   ],
   "source": [
    "import numpy as np\n",
    "\n",
    "def generate_expandable_octahedron(scale=1.0, q_cable=1.0, q_strut=-1.0):\n",
    "    \"\"\"\n",
    "    Generate vertices, edges, force densities, and fixed vertices for an expandable octahedron tensegrity structure.\n",
    "    \n",
    "    Parameters:\n",
    "    scale   : float - Scaling factor for output coordinates\n",
    "    q_cable : float - Force density for cables (positive)\n",
    "    q_strut : float - Force density for struts (negative)\n",
    "    \n",
    "    Returns:\n",
    "    vertices       : np.array - Array of vertex coordinates\n",
    "    edges         : list    - List of edges connecting vertex indices\n",
    "    force_densities : list - List of force densities for each edge\n",
    "    fixed         : list    - List of fixed vertex indices\n",
    "    \"\"\"\n",
    "    # Define vertex coordinates \n",
    "    vertices = np.array([\n",
    "        [-0.5, 0, -1],  # 1 \n",
    "        [-0.5, 0, 1],  # 2\n",
    "        [0.5, 0, -1],   # 3  #old: \n",
    "        [0.5, 0, 1],   # 4 \n",
    "        [0, 1, -0.5],  # 5\n",
    "        [0, -1, -0.5],    # 6  #old: \n",
    "        [-1, 0.5, 0],  # 7\n",
    "        [1, 0.5, 0],   # 8\n",
    "        [-1, -0.5, 0],  # 9\n",
    "        [1, -0.5, 0],   # 10\n",
    "        [0, 1, 0.5],  # 11\n",
    "        [0, -1, 0.5]    # 12\n",
    "        ]) * scale\n",
    "    \n",
    "    # Define edges\n",
    "    # edges_cables = [[1, 7], [1, 9], [5, 1], [1, 6], [3,5], [6, 3], [3, 8], [3, 10], [5, 7], [5, 8], [6,9], [6, 10], [2, 7], [7, 11], [9, 2], [9, 12], \n",
    "            #  [8, 11], [4, 8], [10, 12], [4, 10], [2, 11], [11, 4], [12, 2], [4,12]\n",
    "    # ]\n",
    "    edges_cables = [[7, 1], [1, 9], [1, 5], [1, 6], [3,5], [3,6], [3, 8], [3, 10], [5, 7], [5, 8], [6,9], [6, 10], [2, 7], [7, 11], [2, 9], [9, 12], \n",
    "             [8, 11], [4, 8], [10, 12], [4, 10], [2, 11], [4, 11], [2, 12], [4,12]\n",
    "    ]\n",
    "    edges_struts = [[1,2], [3,4], [5, 6], [7, 8], [9, 10], [11, 12]]\n",
    "    edges = edges_cables + edges_struts\n",
    "    \n",
    "    edges = [[i-1, j-1] for i, j in edges]\n",
    "    cable_slice = slice(0, len(edges_cables))\n",
    "    strut_slice = slice(len(edges_cables), len(edges_cables) + len(edges_struts))\n",
    "    # Assign force densities\n",
    "    force_densities = [q_cable] * len(edges_cables) + [q_strut] * len(edges_struts)\n",
    "    \n",
    "    # Fix the bottom vertex to prevent free movement\n",
    "    fixed = [0, 2, 5]#[1, 3, 6]\n",
    "    # fixed = [0, 1, 4]#[1, 3, 6]\n",
    "    \n",
    "    return vertices, edges, force_densities, fixed, cable_slice, strut_slice\n",
    "model_name = 'expandable_octahedron'\n",
    "# Example usage\n",
    "q_scalar = 0.012\n",
    "vertices, edges, force_densities, fixed, cable_slice, strut_slice = generate_expandable_octahedron(scale=40, q_cable=1*q_scalar, q_strut=-1.5*q_scalar)\n",
    "\n",
    "paths = [[3, 5, 4, 2, 1, 14, 20,21,23,22], [0, 13, 16,6, 7, 18,15], [10,11,19,17,9,8,12]]\n",
    "directions = np.ones(len(edges))\n",
    "\n",
    "# net = Network_custom.from_fd(vertices, edges, force_densities, fixed, paths = None, dir = None)\n",
    "net = Network_custom.direct(vertices, edges, force_densities, fixed, paths = paths, dir = directions)\n",
    "net.net_plot(color = True,vlabels = True, elables=False, path_colors=True)\n",
    "\n",
    "np.max(net.f /0.078294515)"
   ]
  },
  {
   "cell_type": "code",
   "execution_count": 20,
   "metadata": {},
   "outputs": [
    {
     "data": {
      "text/plain": [
       "(array([ 0.012,  0.012,  0.012,  0.012,  0.012,  0.012,  0.012,  0.012,\n",
       "         0.012,  0.012,  0.012,  0.012,  0.012,  0.012,  0.012,  0.012,\n",
       "         0.012,  0.012,  0.012,  0.012,  0.012,  0.012,  0.012,  0.012,\n",
       "        -0.018, -0.018, -0.018, -0.018, -0.018, -0.018]),\n",
       " 1.632993161855452)"
      ]
     },
     "execution_count": 20,
     "metadata": {},
     "output_type": "execute_result"
    }
   ],
   "source": [
    "net.q, net.l1[-1]/net.l1[0]"
   ]
  },
  {
   "cell_type": "code",
   "execution_count": 21,
   "metadata": {},
   "outputs": [],
   "source": [
    "import numpy as np\n",
    "\n",
    "def unwrap_point_cloud(points, axis):\n",
    "    \"\"\"\n",
    "    Unwraps a cloud of 3D points around a given vector.\n",
    "    \n",
    "    Parameters:\n",
    "    points : (N,3) array - 3D points\n",
    "    axis   : (3,) array - The axis vector\n",
    "    \n",
    "    Returns:\n",
    "    unwrapped_points : (N,2) array - Unwrapped (θ, z) coordinates\n",
    "    \"\"\"\n",
    "    # Normalize axis\n",
    "    axis = axis / np.linalg.norm(axis)\n",
    "\n",
    "    # Compute projections of points onto the axis\n",
    "    z = np.dot(points, axis)\n",
    "\n",
    "    # Get radial vectors (orthogonal component to axis)\n",
    "    radial_vectors = points - np.outer(z, axis)\n",
    "\n",
    "    # Step 3: Define two orthonormal vectors u and v spanning the plane perpendicular to axis\n",
    "    # Choose an arbitrary vector not parallel to axis\n",
    "    a = np.array([1, 0, 0]) if abs(axis[0]) < 0.9 else np.array([0, 1, 0])\n",
    "\n",
    "    # First basis vector in the plane\n",
    "    u = np.cross(axis, a)\n",
    "    u /= np.linalg.norm(u)\n",
    "\n",
    "    # Second basis vector orthogonal to both axis and u\n",
    "    v = -np.cross(axis, u)\n",
    "    v /= np.linalg.norm(v)\n",
    "\n",
    "    # Step 4: Project radial vectors onto (u, v) to get 2D coordinates\n",
    "    radial_2d = np.stack([np.dot(radial_vectors, u), np.dot(radial_vectors, v)], axis=-1)  # shape (N, 2)\n",
    "\n",
    "\n",
    "    # Compute angles θ (atan2 gives full 360° angle)\n",
    "    theta = np.arctan2(radial_2d[:,1], radial_2d[:,0])\n",
    "\n",
    "    # Compute radial distances\n",
    "    r = np.linalg.norm(radial_2d, axis=1)\n",
    "\n",
    "    # Unwrap by converting θ to linear distance\n",
    "    unwrapped_x = theta * np.mean(r)  # Scale angle into a length\n",
    "    # print(u, v, axis)\n",
    "    return np.column_stack((unwrapped_x, z))\n",
    "\n",
    "def unwrap_point_cloud_spherical(points, axis, center):\n",
    "    \"\"\"\n",
    "    Unwraps a 3D point cloud into a flat 2D plane using spherical coordinates\n",
    "    (theta * mean_r, phi * mean_r), relative to a given center and axis.\n",
    "    \n",
    "    Parameters:\n",
    "    points : (N,3) array - 3D points\n",
    "    axis   : (3,) array - Axis vector defining the 'pole'\n",
    "    center : (3,) array - Origin for spherical coordinates\n",
    "    \n",
    "    Returns:\n",
    "    flat_coords : (N,2) array - 2D flattened coordinates (theta·r̄, phi·r̄)\n",
    "    \"\"\"\n",
    "    # Normalize axis\n",
    "    axis = axis / np.linalg.norm(axis)\n",
    "\n",
    "    # Shift points\n",
    "    shifted = points - center\n",
    "\n",
    "    # Radial distance\n",
    "    r = np.linalg.norm(shifted, axis=1)\n",
    "    mean_r = np.mean(r)\n",
    "\n",
    "    # Polar angle φ (angle from axis)\n",
    "    cos_phi = np.dot(shifted, axis) / r\n",
    "    phi = np.arccos(np.clip(cos_phi, -1.0, 1.0))\n",
    "\n",
    "    # Orthonormal basis in plane perpendicular to axis\n",
    "    a = np.array([1, 0, 0]) if abs(axis[0]) < 0.9 else np.array([0, 1, 0])\n",
    "    u = np.cross(axis, a)\n",
    "    u /= np.linalg.norm(u)\n",
    "    v = -np.cross(axis, u)\n",
    "    v /= np.linalg.norm(v)\n",
    "\n",
    "    # Radial vectors in the plane\n",
    "    proj_axis = np.outer(np.dot(shifted, axis), axis)\n",
    "    radial_vectors = shifted - proj_axis\n",
    "\n",
    "    # Project to 2D plane to get azimuth θ\n",
    "    radial_2d = np.stack([np.dot(radial_vectors, u), np.dot(radial_vectors, v)], axis=-1)\n",
    "    theta = np.arctan2(radial_2d[:,1], radial_2d[:,0])\n",
    "\n",
    "    # Flatten to 2D plane\n",
    "    x = theta * mean_r\n",
    "    y = phi * mean_r\n",
    "\n",
    "    return np.column_stack((x, y))\n",
    "\n",
    "\n",
    "# Example usage\n",
    "center = np.mean(net.vertices, axis=0)  # Center of the point cloud\n",
    "axis = np.array([0, 0, 1])  # Example: Unwrapping around Z-axis\n",
    "vertices_unwrapped = unwrap_point_cloud(net.vertices, axis)\n",
    "# vertices_unwrapped = unwrap_point_cloud_spherical(net.vertices, axis, center)\n"
   ]
  },
  {
   "cell_type": "code",
   "execution_count": 22,
   "metadata": {},
   "outputs": [
    {
     "data": {
      "application/vnd.plotly.v1+json": {
       "config": {
        "plotlyServerURL": "https://plot.ly"
       },
       "data": [
        {
         "line": {
          "color": [
           0.5878775382679627,
           0.5878775382679627,
           0,
           0.5878775382679627,
           0.5878775382679627,
           0,
           0.5878775382679627,
           0.5878775382679627,
           0,
           0.5878775382679627,
           0.5878775382679627,
           0,
           0.5878775382679627,
           0.5878775382679627,
           0,
           0.5878775382679627,
           0.5878775382679627,
           0,
           0.5878775382679627,
           0.5878775382679627,
           0,
           0.5878775382679627,
           0.5878775382679627,
           0,
           0.5878775382679627,
           0.5878775382679627,
           0,
           0.5878775382679627,
           0.5878775382679627,
           0,
           0.5878775382679627,
           0.5878775382679627,
           0,
           0.5878775382679627,
           0.5878775382679627,
           0,
           0.5878775382679627,
           0.5878775382679627,
           0,
           0.5878775382679627,
           0.5878775382679627,
           0,
           0.5878775382679627,
           0.5878775382679627,
           0,
           0.5878775382679627,
           0.5878775382679627,
           0,
           0.5878775382679627,
           0.5878775382679627,
           0,
           0.5878775382679627,
           0.5878775382679627,
           0,
           0.5878775382679627,
           0.5878775382679627,
           0,
           0.5878775382679627,
           0.5878775382679627,
           0,
           0.5878775382679627,
           0.5878775382679627,
           0,
           0.5878775382679627,
           0.5878775382679627,
           0,
           0.5878775382679627,
           0.5878775382679627,
           0,
           0.5878775382679627,
           0.5878775382679627,
           0
          ],
          "colorbar": {
           "title": {
            "text": "Force"
           }
          },
          "colorscale": [
           [
            0,
            "#440154"
           ],
           [
            0.1111111111111111,
            "#482878"
           ],
           [
            0.2222222222222222,
            "#3e4989"
           ],
           [
            0.3333333333333333,
            "#31688e"
           ],
           [
            0.4444444444444444,
            "#26828e"
           ],
           [
            0.5555555555555556,
            "#1f9e89"
           ],
           [
            0.6666666666666666,
            "#35b779"
           ],
           [
            0.7777777777777778,
            "#6ece58"
           ],
           [
            0.8888888888888888,
            "#b5de2b"
           ],
           [
            1,
            "#fde725"
           ]
          ],
          "showscale": true,
          "width": 3
         },
         "mode": "lines",
         "type": "scatter3d",
         "x": [
          -38.64737298381059,
          -54.83197563936702,
          null,
          -54.83197563936702,
          -71.01657829492345,
          null,
          -54.83197563936702,
          0,
          null,
          -54.83197563936702,
          109.66395127873405,
          null,
          54.83197563936702,
          0,
          null,
          54.83197563936702,
          109.66395127873405,
          null,
          54.83197563936702,
          38.64737298381059,
          null,
          54.83197563936702,
          71.01657829492345,
          null,
          0,
          -38.64737298381059,
          null,
          0,
          38.64737298381059,
          null,
          109.66395127873405,
          -71.01657829492345,
          null,
          109.66395127873405,
          71.01657829492345,
          null,
          -54.83197563936702,
          -38.64737298381059,
          null,
          -38.64737298381059,
          0,
          null,
          -54.83197563936702,
          -71.01657829492345,
          null,
          -71.01657829492345,
          109.66395127873405,
          null,
          38.64737298381059,
          0,
          null,
          54.83197563936702,
          38.64737298381059,
          null,
          71.01657829492345,
          109.66395127873405,
          null,
          54.83197563936702,
          71.01657829492345,
          null,
          -54.83197563936702,
          0,
          null,
          54.83197563936702,
          0,
          null,
          -54.83197563936702,
          109.66395127873405,
          null,
          54.83197563936702,
          109.66395127873405,
          null
         ],
         "y": [
          0,
          -40,
          null,
          -40,
          0,
          null,
          -40,
          -20,
          null,
          -40,
          -20,
          null,
          -40,
          -20,
          null,
          -40,
          -20,
          null,
          -40,
          0,
          null,
          -40,
          0,
          null,
          -20,
          0,
          null,
          -20,
          0,
          null,
          -20,
          0,
          null,
          -20,
          0,
          null,
          40,
          0,
          null,
          0,
          20,
          null,
          40,
          0,
          null,
          0,
          20,
          null,
          0,
          20,
          null,
          40,
          0,
          null,
          0,
          20,
          null,
          40,
          0,
          null,
          40,
          20,
          null,
          40,
          20,
          null,
          40,
          20,
          null,
          40,
          20,
          null
         ],
         "z": [
          0,
          0,
          null,
          0,
          0,
          null,
          0,
          0,
          null,
          0,
          0,
          null,
          0,
          0,
          null,
          0,
          0,
          null,
          0,
          0,
          null,
          0,
          0,
          null,
          0,
          0,
          null,
          0,
          0,
          null,
          0,
          0,
          null,
          0,
          0,
          null,
          0,
          0,
          null,
          0,
          0,
          null,
          0,
          0,
          null,
          0,
          0,
          null,
          0,
          0,
          null,
          0,
          0,
          null,
          0,
          0,
          null,
          0,
          0,
          null,
          0,
          0,
          null,
          0,
          0,
          null,
          0,
          0,
          null,
          0,
          0,
          null
         ]
        },
        {
         "mode": "text",
         "text": [
          "0"
         ],
         "type": "scatter3d",
         "x": [
          -54.83197563936702
         ],
         "y": [
          -40
         ],
         "z": [
          0
         ]
        },
        {
         "mode": "text",
         "text": [
          "1"
         ],
         "type": "scatter3d",
         "x": [
          -54.83197563936702
         ],
         "y": [
          40
         ],
         "z": [
          0
         ]
        },
        {
         "mode": "text",
         "text": [
          "2"
         ],
         "type": "scatter3d",
         "x": [
          54.83197563936702
         ],
         "y": [
          -40
         ],
         "z": [
          0
         ]
        },
        {
         "mode": "text",
         "text": [
          "3"
         ],
         "type": "scatter3d",
         "x": [
          54.83197563936702
         ],
         "y": [
          40
         ],
         "z": [
          0
         ]
        },
        {
         "mode": "text",
         "text": [
          "4"
         ],
         "type": "scatter3d",
         "x": [
          0
         ],
         "y": [
          -20
         ],
         "z": [
          0
         ]
        },
        {
         "mode": "text",
         "text": [
          "5"
         ],
         "type": "scatter3d",
         "x": [
          109.66395127873405
         ],
         "y": [
          -20
         ],
         "z": [
          0
         ]
        },
        {
         "mode": "text",
         "text": [
          "6"
         ],
         "type": "scatter3d",
         "x": [
          -38.64737298381059
         ],
         "y": [
          0
         ],
         "z": [
          0
         ]
        },
        {
         "mode": "text",
         "text": [
          "7"
         ],
         "type": "scatter3d",
         "x": [
          38.64737298381059
         ],
         "y": [
          0
         ],
         "z": [
          0
         ]
        },
        {
         "mode": "text",
         "text": [
          "8"
         ],
         "type": "scatter3d",
         "x": [
          -71.01657829492345
         ],
         "y": [
          0
         ],
         "z": [
          0
         ]
        },
        {
         "mode": "text",
         "text": [
          "9"
         ],
         "type": "scatter3d",
         "x": [
          71.01657829492345
         ],
         "y": [
          0
         ],
         "z": [
          0
         ]
        },
        {
         "mode": "text",
         "text": [
          "10"
         ],
         "type": "scatter3d",
         "x": [
          0
         ],
         "y": [
          20
         ],
         "z": [
          0
         ]
        },
        {
         "mode": "text",
         "text": [
          "11"
         ],
         "type": "scatter3d",
         "x": [
          109.66395127873405
         ],
         "y": [
          20
         ],
         "z": [
          0
         ]
        }
       ],
       "layout": {
        "scene": {
         "aspectmode": "data",
         "camera": {
          "center": {
           "x": 0,
           "y": 0,
           "z": 0
          },
          "eye": {
           "x": 0,
           "y": 0,
           "z": 5.483197563936702
          },
          "up": {
           "x": 0,
           "y": 1,
           "z": 0
          }
         }
        },
        "template": {
         "data": {
          "bar": [
           {
            "error_x": {
             "color": "#2a3f5f"
            },
            "error_y": {
             "color": "#2a3f5f"
            },
            "marker": {
             "line": {
              "color": "#E5ECF6",
              "width": 0.5
             },
             "pattern": {
              "fillmode": "overlay",
              "size": 10,
              "solidity": 0.2
             }
            },
            "type": "bar"
           }
          ],
          "barpolar": [
           {
            "marker": {
             "line": {
              "color": "#E5ECF6",
              "width": 0.5
             },
             "pattern": {
              "fillmode": "overlay",
              "size": 10,
              "solidity": 0.2
             }
            },
            "type": "barpolar"
           }
          ],
          "carpet": [
           {
            "aaxis": {
             "endlinecolor": "#2a3f5f",
             "gridcolor": "white",
             "linecolor": "white",
             "minorgridcolor": "white",
             "startlinecolor": "#2a3f5f"
            },
            "baxis": {
             "endlinecolor": "#2a3f5f",
             "gridcolor": "white",
             "linecolor": "white",
             "minorgridcolor": "white",
             "startlinecolor": "#2a3f5f"
            },
            "type": "carpet"
           }
          ],
          "choropleth": [
           {
            "colorbar": {
             "outlinewidth": 0,
             "ticks": ""
            },
            "type": "choropleth"
           }
          ],
          "contour": [
           {
            "colorbar": {
             "outlinewidth": 0,
             "ticks": ""
            },
            "colorscale": [
             [
              0,
              "#0d0887"
             ],
             [
              0.1111111111111111,
              "#46039f"
             ],
             [
              0.2222222222222222,
              "#7201a8"
             ],
             [
              0.3333333333333333,
              "#9c179e"
             ],
             [
              0.4444444444444444,
              "#bd3786"
             ],
             [
              0.5555555555555556,
              "#d8576b"
             ],
             [
              0.6666666666666666,
              "#ed7953"
             ],
             [
              0.7777777777777778,
              "#fb9f3a"
             ],
             [
              0.8888888888888888,
              "#fdca26"
             ],
             [
              1,
              "#f0f921"
             ]
            ],
            "type": "contour"
           }
          ],
          "contourcarpet": [
           {
            "colorbar": {
             "outlinewidth": 0,
             "ticks": ""
            },
            "type": "contourcarpet"
           }
          ],
          "heatmap": [
           {
            "colorbar": {
             "outlinewidth": 0,
             "ticks": ""
            },
            "colorscale": [
             [
              0,
              "#0d0887"
             ],
             [
              0.1111111111111111,
              "#46039f"
             ],
             [
              0.2222222222222222,
              "#7201a8"
             ],
             [
              0.3333333333333333,
              "#9c179e"
             ],
             [
              0.4444444444444444,
              "#bd3786"
             ],
             [
              0.5555555555555556,
              "#d8576b"
             ],
             [
              0.6666666666666666,
              "#ed7953"
             ],
             [
              0.7777777777777778,
              "#fb9f3a"
             ],
             [
              0.8888888888888888,
              "#fdca26"
             ],
             [
              1,
              "#f0f921"
             ]
            ],
            "type": "heatmap"
           }
          ],
          "heatmapgl": [
           {
            "colorbar": {
             "outlinewidth": 0,
             "ticks": ""
            },
            "colorscale": [
             [
              0,
              "#0d0887"
             ],
             [
              0.1111111111111111,
              "#46039f"
             ],
             [
              0.2222222222222222,
              "#7201a8"
             ],
             [
              0.3333333333333333,
              "#9c179e"
             ],
             [
              0.4444444444444444,
              "#bd3786"
             ],
             [
              0.5555555555555556,
              "#d8576b"
             ],
             [
              0.6666666666666666,
              "#ed7953"
             ],
             [
              0.7777777777777778,
              "#fb9f3a"
             ],
             [
              0.8888888888888888,
              "#fdca26"
             ],
             [
              1,
              "#f0f921"
             ]
            ],
            "type": "heatmapgl"
           }
          ],
          "histogram": [
           {
            "marker": {
             "pattern": {
              "fillmode": "overlay",
              "size": 10,
              "solidity": 0.2
             }
            },
            "type": "histogram"
           }
          ],
          "histogram2d": [
           {
            "colorbar": {
             "outlinewidth": 0,
             "ticks": ""
            },
            "colorscale": [
             [
              0,
              "#0d0887"
             ],
             [
              0.1111111111111111,
              "#46039f"
             ],
             [
              0.2222222222222222,
              "#7201a8"
             ],
             [
              0.3333333333333333,
              "#9c179e"
             ],
             [
              0.4444444444444444,
              "#bd3786"
             ],
             [
              0.5555555555555556,
              "#d8576b"
             ],
             [
              0.6666666666666666,
              "#ed7953"
             ],
             [
              0.7777777777777778,
              "#fb9f3a"
             ],
             [
              0.8888888888888888,
              "#fdca26"
             ],
             [
              1,
              "#f0f921"
             ]
            ],
            "type": "histogram2d"
           }
          ],
          "histogram2dcontour": [
           {
            "colorbar": {
             "outlinewidth": 0,
             "ticks": ""
            },
            "colorscale": [
             [
              0,
              "#0d0887"
             ],
             [
              0.1111111111111111,
              "#46039f"
             ],
             [
              0.2222222222222222,
              "#7201a8"
             ],
             [
              0.3333333333333333,
              "#9c179e"
             ],
             [
              0.4444444444444444,
              "#bd3786"
             ],
             [
              0.5555555555555556,
              "#d8576b"
             ],
             [
              0.6666666666666666,
              "#ed7953"
             ],
             [
              0.7777777777777778,
              "#fb9f3a"
             ],
             [
              0.8888888888888888,
              "#fdca26"
             ],
             [
              1,
              "#f0f921"
             ]
            ],
            "type": "histogram2dcontour"
           }
          ],
          "mesh3d": [
           {
            "colorbar": {
             "outlinewidth": 0,
             "ticks": ""
            },
            "type": "mesh3d"
           }
          ],
          "parcoords": [
           {
            "line": {
             "colorbar": {
              "outlinewidth": 0,
              "ticks": ""
             }
            },
            "type": "parcoords"
           }
          ],
          "pie": [
           {
            "automargin": true,
            "type": "pie"
           }
          ],
          "scatter": [
           {
            "fillpattern": {
             "fillmode": "overlay",
             "size": 10,
             "solidity": 0.2
            },
            "type": "scatter"
           }
          ],
          "scatter3d": [
           {
            "line": {
             "colorbar": {
              "outlinewidth": 0,
              "ticks": ""
             }
            },
            "marker": {
             "colorbar": {
              "outlinewidth": 0,
              "ticks": ""
             }
            },
            "type": "scatter3d"
           }
          ],
          "scattercarpet": [
           {
            "marker": {
             "colorbar": {
              "outlinewidth": 0,
              "ticks": ""
             }
            },
            "type": "scattercarpet"
           }
          ],
          "scattergeo": [
           {
            "marker": {
             "colorbar": {
              "outlinewidth": 0,
              "ticks": ""
             }
            },
            "type": "scattergeo"
           }
          ],
          "scattergl": [
           {
            "marker": {
             "colorbar": {
              "outlinewidth": 0,
              "ticks": ""
             }
            },
            "type": "scattergl"
           }
          ],
          "scattermapbox": [
           {
            "marker": {
             "colorbar": {
              "outlinewidth": 0,
              "ticks": ""
             }
            },
            "type": "scattermapbox"
           }
          ],
          "scatterpolar": [
           {
            "marker": {
             "colorbar": {
              "outlinewidth": 0,
              "ticks": ""
             }
            },
            "type": "scatterpolar"
           }
          ],
          "scatterpolargl": [
           {
            "marker": {
             "colorbar": {
              "outlinewidth": 0,
              "ticks": ""
             }
            },
            "type": "scatterpolargl"
           }
          ],
          "scatterternary": [
           {
            "marker": {
             "colorbar": {
              "outlinewidth": 0,
              "ticks": ""
             }
            },
            "type": "scatterternary"
           }
          ],
          "surface": [
           {
            "colorbar": {
             "outlinewidth": 0,
             "ticks": ""
            },
            "colorscale": [
             [
              0,
              "#0d0887"
             ],
             [
              0.1111111111111111,
              "#46039f"
             ],
             [
              0.2222222222222222,
              "#7201a8"
             ],
             [
              0.3333333333333333,
              "#9c179e"
             ],
             [
              0.4444444444444444,
              "#bd3786"
             ],
             [
              0.5555555555555556,
              "#d8576b"
             ],
             [
              0.6666666666666666,
              "#ed7953"
             ],
             [
              0.7777777777777778,
              "#fb9f3a"
             ],
             [
              0.8888888888888888,
              "#fdca26"
             ],
             [
              1,
              "#f0f921"
             ]
            ],
            "type": "surface"
           }
          ],
          "table": [
           {
            "cells": {
             "fill": {
              "color": "#EBF0F8"
             },
             "line": {
              "color": "white"
             }
            },
            "header": {
             "fill": {
              "color": "#C8D4E3"
             },
             "line": {
              "color": "white"
             }
            },
            "type": "table"
           }
          ]
         },
         "layout": {
          "annotationdefaults": {
           "arrowcolor": "#2a3f5f",
           "arrowhead": 0,
           "arrowwidth": 1
          },
          "autotypenumbers": "strict",
          "coloraxis": {
           "colorbar": {
            "outlinewidth": 0,
            "ticks": ""
           }
          },
          "colorscale": {
           "diverging": [
            [
             0,
             "#8e0152"
            ],
            [
             0.1,
             "#c51b7d"
            ],
            [
             0.2,
             "#de77ae"
            ],
            [
             0.3,
             "#f1b6da"
            ],
            [
             0.4,
             "#fde0ef"
            ],
            [
             0.5,
             "#f7f7f7"
            ],
            [
             0.6,
             "#e6f5d0"
            ],
            [
             0.7,
             "#b8e186"
            ],
            [
             0.8,
             "#7fbc41"
            ],
            [
             0.9,
             "#4d9221"
            ],
            [
             1,
             "#276419"
            ]
           ],
           "sequential": [
            [
             0,
             "#0d0887"
            ],
            [
             0.1111111111111111,
             "#46039f"
            ],
            [
             0.2222222222222222,
             "#7201a8"
            ],
            [
             0.3333333333333333,
             "#9c179e"
            ],
            [
             0.4444444444444444,
             "#bd3786"
            ],
            [
             0.5555555555555556,
             "#d8576b"
            ],
            [
             0.6666666666666666,
             "#ed7953"
            ],
            [
             0.7777777777777778,
             "#fb9f3a"
            ],
            [
             0.8888888888888888,
             "#fdca26"
            ],
            [
             1,
             "#f0f921"
            ]
           ],
           "sequentialminus": [
            [
             0,
             "#0d0887"
            ],
            [
             0.1111111111111111,
             "#46039f"
            ],
            [
             0.2222222222222222,
             "#7201a8"
            ],
            [
             0.3333333333333333,
             "#9c179e"
            ],
            [
             0.4444444444444444,
             "#bd3786"
            ],
            [
             0.5555555555555556,
             "#d8576b"
            ],
            [
             0.6666666666666666,
             "#ed7953"
            ],
            [
             0.7777777777777778,
             "#fb9f3a"
            ],
            [
             0.8888888888888888,
             "#fdca26"
            ],
            [
             1,
             "#f0f921"
            ]
           ]
          },
          "colorway": [
           "#636efa",
           "#EF553B",
           "#00cc96",
           "#ab63fa",
           "#FFA15A",
           "#19d3f3",
           "#FF6692",
           "#B6E880",
           "#FF97FF",
           "#FECB52"
          ],
          "font": {
           "color": "#2a3f5f"
          },
          "geo": {
           "bgcolor": "white",
           "lakecolor": "white",
           "landcolor": "#E5ECF6",
           "showlakes": true,
           "showland": true,
           "subunitcolor": "white"
          },
          "hoverlabel": {
           "align": "left"
          },
          "hovermode": "closest",
          "mapbox": {
           "style": "light"
          },
          "paper_bgcolor": "white",
          "plot_bgcolor": "#E5ECF6",
          "polar": {
           "angularaxis": {
            "gridcolor": "white",
            "linecolor": "white",
            "ticks": ""
           },
           "bgcolor": "#E5ECF6",
           "radialaxis": {
            "gridcolor": "white",
            "linecolor": "white",
            "ticks": ""
           }
          },
          "scene": {
           "xaxis": {
            "backgroundcolor": "#E5ECF6",
            "gridcolor": "white",
            "gridwidth": 2,
            "linecolor": "white",
            "showbackground": true,
            "ticks": "",
            "zerolinecolor": "white"
           },
           "yaxis": {
            "backgroundcolor": "#E5ECF6",
            "gridcolor": "white",
            "gridwidth": 2,
            "linecolor": "white",
            "showbackground": true,
            "ticks": "",
            "zerolinecolor": "white"
           },
           "zaxis": {
            "backgroundcolor": "#E5ECF6",
            "gridcolor": "white",
            "gridwidth": 2,
            "linecolor": "white",
            "showbackground": true,
            "ticks": "",
            "zerolinecolor": "white"
           }
          },
          "shapedefaults": {
           "line": {
            "color": "#2a3f5f"
           }
          },
          "ternary": {
           "aaxis": {
            "gridcolor": "white",
            "linecolor": "white",
            "ticks": ""
           },
           "baxis": {
            "gridcolor": "white",
            "linecolor": "white",
            "ticks": ""
           },
           "bgcolor": "#E5ECF6",
           "caxis": {
            "gridcolor": "white",
            "linecolor": "white",
            "ticks": ""
           }
          },
          "title": {
           "x": 0.05
          },
          "xaxis": {
           "automargin": true,
           "gridcolor": "white",
           "linecolor": "white",
           "ticks": "",
           "title": {
            "standoff": 15
           },
           "zerolinecolor": "white",
           "zerolinewidth": 2
          },
          "yaxis": {
           "automargin": true,
           "gridcolor": "white",
           "linecolor": "white",
           "ticks": "",
           "title": {
            "standoff": 15
           },
           "zerolinecolor": "white",
           "zerolinewidth": 2
          }
         }
        },
        "title": {
         "text": "Plotly Plot"
        }
       }
      }
     },
     "metadata": {},
     "output_type": "display_data"
    }
   ],
   "source": [
    "net.vertices_2d = vertices_unwrapped\n",
    "net.edges = np.delete(net.edges, strut_slice, axis=0)\n",
    "net.q = np.delete(net.q, strut_slice, axis=0)\n",
    "net.l1 = np.delete(net.l1, strut_slice, axis=0)\n",
    "\n",
    "net.net_plot(plot_type = 'projection', color = True,vlabels = True, elables=False)\n",
    "# rotate_angle = -90\n",
    "# font_scale = 3\n",
    "# tikz_text = net.tikz_string(net.vertices_2d, net.edges, labels = True, rotate_label = rotate_angle, font_scale = font_scale)\n",
    "# with open(\"tikz_tensegrity0.tex\", \"w\") as f:\n",
    "#     f.write(\"\\n\".join(tikz_text))"
   ]
  },
  {
   "cell_type": "code",
   "execution_count": 23,
   "metadata": {},
   "outputs": [
    {
     "data": {
      "text/plain": [
       "(array([32.90307272, 32.90307272, 32.90307272, 32.90307272, 32.90307272,\n",
       "        32.90307272, 32.90307272, 32.90307272, 32.90307272, 32.90307272,\n",
       "        32.90307272, 32.90307272, 32.90307272, 32.90307272, 32.90307272,\n",
       "        32.90307272, 32.90307272, 32.90307272, 32.90307272, 32.90307272,\n",
       "        32.90307272, 32.90307272, 32.90307272, 32.90307272]),\n",
       " 0.6716311594937582)"
      ]
     },
     "execution_count": 23,
     "metadata": {},
     "output_type": "execute_result"
    }
   ],
   "source": [
    "# TPUc = {'E':130, 'v':0.3897, 'p':1.18e-9, 'A':0.11*0.71, 'name': 'TPU conductive'} # Conductive TPU. Manufacturer Ninjatek Eel\n",
    "# TPU = {'E':77, 'v':0.3897, 'p':1.18e-9, 'A':0.11*0.71, 'name': 'TPU non-conductive'} # Conductive TPU. Manufacturer Ninjatek Eel\n",
    "\n",
    "file_path = os.path.join(BYU_UW_root,'Tensile Testing', 'Avg_Stress_Strain_Overture_TPU_1mm2.csv')\n",
    "stress_data, strain_data = net.load_stress_strain_curve(file_path)\n",
    "\n",
    "TPU_nl = {'stress':strain_data, 'strain': stress_data, 'v':0.3897, 'p':1.18e-9, 'A': 0.078294515, 'name': 'TPU Overture'} # TPU Overture non-conductive\n",
    "\n",
    "# net.set_material(TPU) # By saving the material properties in the network, we can easily see how the network was constructed.\n",
    "\n",
    "# If all elements will get the same material, you can use the following line\n",
    "# E = [TPU['E']]*len(net.edges)\n",
    "A = [TPU_nl['A']]*len(net.edges)\n",
    "l0, l_scalar = net.materialize_nonlinear(A, stress_data, strain_data, interpolation_kind = 'cubic')\n",
    "# l0, l_scalar = net.materialize(E, A)\n",
    "# Yielding the initial lengths of each element. And the following scalar: min(l0/l1)\n",
    "\n",
    "net.l0, net.l_scalar"
   ]
  },
  {
   "cell_type": "code",
   "execution_count": 24,
   "metadata": {},
   "outputs": [
    {
     "data": {
      "application/vnd.plotly.v1+json": {
       "config": {
        "plotlyServerURL": "https://plot.ly"
       },
       "data": [
        {
         "line": {
          "color": [
           0.5878775382679627,
           0.5878775382679627,
           0,
           0.5878775382679627,
           0.5878775382679627,
           0,
           0.5878775382679627,
           0.5878775382679627,
           0,
           0.5878775382679627,
           0.5878775382679627,
           0,
           0.5878775382679627,
           0.5878775382679627,
           0,
           0.5878775382679627,
           0.5878775382679627,
           0,
           0.5878775382679627,
           0.5878775382679627,
           0,
           0.5878775382679627,
           0.5878775382679627,
           0,
           0.5878775382679627,
           0.5878775382679627,
           0,
           0.5878775382679627,
           0.5878775382679627,
           0,
           0.5878775382679627,
           0.5878775382679627,
           0,
           0.5878775382679627,
           0.5878775382679627,
           0,
           0.5878775382679627,
           0.5878775382679627,
           0,
           0.5878775382679627,
           0.5878775382679627,
           0,
           0.5878775382679627,
           0.5878775382679627,
           0,
           0.5878775382679627,
           0.5878775382679627,
           0,
           0.5878775382679627,
           0.5878775382679627,
           0,
           0.5878775382679627,
           0.5878775382679627,
           0,
           0.5878775382679627,
           0.5878775382679627,
           0,
           0.5878775382679627,
           0.5878775382679627,
           0,
           0.5878775382679627,
           0.5878775382679627,
           0,
           0.5878775382679627,
           0.5878775382679627,
           0,
           0.5878775382679627,
           0.5878775382679627,
           0,
           0.5878775382679627,
           0.5878775382679627,
           0
          ],
          "colorbar": {
           "title": {
            "text": "Force"
           }
          },
          "colorscale": [
           [
            0,
            "#440154"
           ],
           [
            0.1111111111111111,
            "#482878"
           ],
           [
            0.2222222222222222,
            "#3e4989"
           ],
           [
            0.3333333333333333,
            "#31688e"
           ],
           [
            0.4444444444444444,
            "#26828e"
           ],
           [
            0.5555555555555556,
            "#1f9e89"
           ],
           [
            0.6666666666666666,
            "#35b779"
           ],
           [
            0.7777777777777778,
            "#6ece58"
           ],
           [
            0.8888888888888888,
            "#b5de2b"
           ],
           [
            1,
            "#fde725"
           ]
          ],
          "showscale": true,
          "width": 3
         },
         "mode": "lines",
         "type": "scatter3d",
         "x": [
          -38.64737298381059,
          -54.83197563936702,
          null,
          -54.83197563936702,
          -71.01657829492345,
          null,
          -54.83197563936702,
          0,
          null,
          141.80628973263038,
          109.66395127873405,
          null,
          54.83197563936702,
          0,
          null,
          54.83197563936702,
          109.66395127873405,
          null,
          54.83197563936702,
          38.64737298381059,
          null,
          54.83197563936702,
          71.01657829492345,
          null,
          0,
          -38.64737298381059,
          null,
          0,
          38.64737298381059,
          null,
          109.66395127873405,
          142.5670240010047,
          null,
          109.66395127873405,
          71.01657829492345,
          null,
          -54.83197563936702,
          -38.64737298381059,
          null,
          -38.64737298381059,
          0,
          null,
          -54.83197563936702,
          -71.01657829492345,
          null,
          142.5670240010047,
          109.66395127873405,
          null,
          38.64737298381059,
          0,
          null,
          54.83197563936702,
          38.64737298381059,
          null,
          71.01657829492345,
          109.66395127873405,
          null,
          54.83197563936702,
          71.01657829492345,
          null,
          -54.83197563936702,
          0,
          null,
          54.83197563936702,
          0,
          null,
          141.80628973263038,
          109.66395127873405,
          null,
          54.83197563936702,
          109.66395127873405,
          null
         ],
         "y": [
          0,
          -40,
          null,
          -40,
          0,
          null,
          -40,
          -20,
          null,
          -27.034363743950784,
          -20,
          null,
          -40,
          -20,
          null,
          -40,
          -20,
          null,
          -40,
          0,
          null,
          -40,
          0,
          null,
          -20,
          0,
          null,
          -20,
          0,
          null,
          -20,
          0,
          null,
          -20,
          0,
          null,
          40,
          0,
          null,
          0,
          20,
          null,
          40,
          0,
          null,
          0,
          20,
          null,
          0,
          20,
          null,
          40,
          0,
          null,
          0,
          20,
          null,
          40,
          0,
          null,
          40,
          20,
          null,
          40,
          20,
          null,
          27.034363743950784,
          20,
          null,
          40,
          20,
          null
         ],
         "z": [
          0,
          0,
          null,
          0,
          0,
          null,
          0,
          0,
          null,
          0,
          0,
          null,
          0,
          0,
          null,
          0,
          0,
          null,
          0,
          0,
          null,
          0,
          0,
          null,
          0,
          0,
          null,
          0,
          0,
          null,
          0,
          0,
          null,
          0,
          0,
          null,
          0,
          0,
          null,
          0,
          0,
          null,
          0,
          0,
          null,
          0,
          0,
          null,
          0,
          0,
          null,
          0,
          0,
          null,
          0,
          0,
          null,
          0,
          0,
          null,
          0,
          0,
          null,
          0,
          0,
          null,
          0,
          0,
          null,
          0,
          0,
          null
         ]
        },
        {
         "mode": "text",
         "text": [
          "0"
         ],
         "type": "scatter3d",
         "x": [
          -54.83197563936702
         ],
         "y": [
          -40
         ],
         "z": [
          0
         ]
        },
        {
         "mode": "text",
         "text": [
          "1"
         ],
         "type": "scatter3d",
         "x": [
          -54.83197563936702
         ],
         "y": [
          40
         ],
         "z": [
          0
         ]
        },
        {
         "mode": "text",
         "text": [
          "2"
         ],
         "type": "scatter3d",
         "x": [
          54.83197563936702
         ],
         "y": [
          -40
         ],
         "z": [
          0
         ]
        },
        {
         "mode": "text",
         "text": [
          "3"
         ],
         "type": "scatter3d",
         "x": [
          54.83197563936702
         ],
         "y": [
          40
         ],
         "z": [
          0
         ]
        },
        {
         "mode": "text",
         "text": [
          "4"
         ],
         "type": "scatter3d",
         "x": [
          0
         ],
         "y": [
          -20
         ],
         "z": [
          0
         ]
        },
        {
         "mode": "text",
         "text": [
          "5"
         ],
         "type": "scatter3d",
         "x": [
          109.66395127873405
         ],
         "y": [
          -20
         ],
         "z": [
          0
         ]
        },
        {
         "mode": "text",
         "text": [
          "6"
         ],
         "type": "scatter3d",
         "x": [
          -38.64737298381059
         ],
         "y": [
          0
         ],
         "z": [
          0
         ]
        },
        {
         "mode": "text",
         "text": [
          "7"
         ],
         "type": "scatter3d",
         "x": [
          38.64737298381059
         ],
         "y": [
          0
         ],
         "z": [
          0
         ]
        },
        {
         "mode": "text",
         "text": [
          "8"
         ],
         "type": "scatter3d",
         "x": [
          -71.01657829492345
         ],
         "y": [
          0
         ],
         "z": [
          0
         ]
        },
        {
         "mode": "text",
         "text": [
          "9"
         ],
         "type": "scatter3d",
         "x": [
          71.01657829492345
         ],
         "y": [
          0
         ],
         "z": [
          0
         ]
        },
        {
         "mode": "text",
         "text": [
          "10"
         ],
         "type": "scatter3d",
         "x": [
          0
         ],
         "y": [
          20
         ],
         "z": [
          0
         ]
        },
        {
         "mode": "text",
         "text": [
          "11"
         ],
         "type": "scatter3d",
         "x": [
          109.66395127873405
         ],
         "y": [
          20
         ],
         "z": [
          0
         ]
        },
        {
         "mode": "text",
         "text": [
          "12"
         ],
         "type": "scatter3d",
         "x": [
          142.5670240010047
         ],
         "y": [
          0
         ],
         "z": [
          0
         ]
        },
        {
         "mode": "text",
         "text": [
          "13"
         ],
         "type": "scatter3d",
         "x": [
          141.80628973263038
         ],
         "y": [
          -27.034363743950784
         ],
         "z": [
          0
         ]
        },
        {
         "mode": "text",
         "text": [
          "14"
         ],
         "type": "scatter3d",
         "x": [
          141.80628973263038
         ],
         "y": [
          27.034363743950784
         ],
         "z": [
          0
         ]
        }
       ],
       "layout": {
        "scene": {
         "aspectmode": "data",
         "camera": {
          "center": {
           "x": 0,
           "y": 0,
           "z": 0
          },
          "eye": {
           "x": 0,
           "y": 0,
           "z": 7.128351200050236
          },
          "up": {
           "x": 0,
           "y": 1,
           "z": 0
          }
         }
        },
        "template": {
         "data": {
          "bar": [
           {
            "error_x": {
             "color": "#2a3f5f"
            },
            "error_y": {
             "color": "#2a3f5f"
            },
            "marker": {
             "line": {
              "color": "#E5ECF6",
              "width": 0.5
             },
             "pattern": {
              "fillmode": "overlay",
              "size": 10,
              "solidity": 0.2
             }
            },
            "type": "bar"
           }
          ],
          "barpolar": [
           {
            "marker": {
             "line": {
              "color": "#E5ECF6",
              "width": 0.5
             },
             "pattern": {
              "fillmode": "overlay",
              "size": 10,
              "solidity": 0.2
             }
            },
            "type": "barpolar"
           }
          ],
          "carpet": [
           {
            "aaxis": {
             "endlinecolor": "#2a3f5f",
             "gridcolor": "white",
             "linecolor": "white",
             "minorgridcolor": "white",
             "startlinecolor": "#2a3f5f"
            },
            "baxis": {
             "endlinecolor": "#2a3f5f",
             "gridcolor": "white",
             "linecolor": "white",
             "minorgridcolor": "white",
             "startlinecolor": "#2a3f5f"
            },
            "type": "carpet"
           }
          ],
          "choropleth": [
           {
            "colorbar": {
             "outlinewidth": 0,
             "ticks": ""
            },
            "type": "choropleth"
           }
          ],
          "contour": [
           {
            "colorbar": {
             "outlinewidth": 0,
             "ticks": ""
            },
            "colorscale": [
             [
              0,
              "#0d0887"
             ],
             [
              0.1111111111111111,
              "#46039f"
             ],
             [
              0.2222222222222222,
              "#7201a8"
             ],
             [
              0.3333333333333333,
              "#9c179e"
             ],
             [
              0.4444444444444444,
              "#bd3786"
             ],
             [
              0.5555555555555556,
              "#d8576b"
             ],
             [
              0.6666666666666666,
              "#ed7953"
             ],
             [
              0.7777777777777778,
              "#fb9f3a"
             ],
             [
              0.8888888888888888,
              "#fdca26"
             ],
             [
              1,
              "#f0f921"
             ]
            ],
            "type": "contour"
           }
          ],
          "contourcarpet": [
           {
            "colorbar": {
             "outlinewidth": 0,
             "ticks": ""
            },
            "type": "contourcarpet"
           }
          ],
          "heatmap": [
           {
            "colorbar": {
             "outlinewidth": 0,
             "ticks": ""
            },
            "colorscale": [
             [
              0,
              "#0d0887"
             ],
             [
              0.1111111111111111,
              "#46039f"
             ],
             [
              0.2222222222222222,
              "#7201a8"
             ],
             [
              0.3333333333333333,
              "#9c179e"
             ],
             [
              0.4444444444444444,
              "#bd3786"
             ],
             [
              0.5555555555555556,
              "#d8576b"
             ],
             [
              0.6666666666666666,
              "#ed7953"
             ],
             [
              0.7777777777777778,
              "#fb9f3a"
             ],
             [
              0.8888888888888888,
              "#fdca26"
             ],
             [
              1,
              "#f0f921"
             ]
            ],
            "type": "heatmap"
           }
          ],
          "heatmapgl": [
           {
            "colorbar": {
             "outlinewidth": 0,
             "ticks": ""
            },
            "colorscale": [
             [
              0,
              "#0d0887"
             ],
             [
              0.1111111111111111,
              "#46039f"
             ],
             [
              0.2222222222222222,
              "#7201a8"
             ],
             [
              0.3333333333333333,
              "#9c179e"
             ],
             [
              0.4444444444444444,
              "#bd3786"
             ],
             [
              0.5555555555555556,
              "#d8576b"
             ],
             [
              0.6666666666666666,
              "#ed7953"
             ],
             [
              0.7777777777777778,
              "#fb9f3a"
             ],
             [
              0.8888888888888888,
              "#fdca26"
             ],
             [
              1,
              "#f0f921"
             ]
            ],
            "type": "heatmapgl"
           }
          ],
          "histogram": [
           {
            "marker": {
             "pattern": {
              "fillmode": "overlay",
              "size": 10,
              "solidity": 0.2
             }
            },
            "type": "histogram"
           }
          ],
          "histogram2d": [
           {
            "colorbar": {
             "outlinewidth": 0,
             "ticks": ""
            },
            "colorscale": [
             [
              0,
              "#0d0887"
             ],
             [
              0.1111111111111111,
              "#46039f"
             ],
             [
              0.2222222222222222,
              "#7201a8"
             ],
             [
              0.3333333333333333,
              "#9c179e"
             ],
             [
              0.4444444444444444,
              "#bd3786"
             ],
             [
              0.5555555555555556,
              "#d8576b"
             ],
             [
              0.6666666666666666,
              "#ed7953"
             ],
             [
              0.7777777777777778,
              "#fb9f3a"
             ],
             [
              0.8888888888888888,
              "#fdca26"
             ],
             [
              1,
              "#f0f921"
             ]
            ],
            "type": "histogram2d"
           }
          ],
          "histogram2dcontour": [
           {
            "colorbar": {
             "outlinewidth": 0,
             "ticks": ""
            },
            "colorscale": [
             [
              0,
              "#0d0887"
             ],
             [
              0.1111111111111111,
              "#46039f"
             ],
             [
              0.2222222222222222,
              "#7201a8"
             ],
             [
              0.3333333333333333,
              "#9c179e"
             ],
             [
              0.4444444444444444,
              "#bd3786"
             ],
             [
              0.5555555555555556,
              "#d8576b"
             ],
             [
              0.6666666666666666,
              "#ed7953"
             ],
             [
              0.7777777777777778,
              "#fb9f3a"
             ],
             [
              0.8888888888888888,
              "#fdca26"
             ],
             [
              1,
              "#f0f921"
             ]
            ],
            "type": "histogram2dcontour"
           }
          ],
          "mesh3d": [
           {
            "colorbar": {
             "outlinewidth": 0,
             "ticks": ""
            },
            "type": "mesh3d"
           }
          ],
          "parcoords": [
           {
            "line": {
             "colorbar": {
              "outlinewidth": 0,
              "ticks": ""
             }
            },
            "type": "parcoords"
           }
          ],
          "pie": [
           {
            "automargin": true,
            "type": "pie"
           }
          ],
          "scatter": [
           {
            "fillpattern": {
             "fillmode": "overlay",
             "size": 10,
             "solidity": 0.2
            },
            "type": "scatter"
           }
          ],
          "scatter3d": [
           {
            "line": {
             "colorbar": {
              "outlinewidth": 0,
              "ticks": ""
             }
            },
            "marker": {
             "colorbar": {
              "outlinewidth": 0,
              "ticks": ""
             }
            },
            "type": "scatter3d"
           }
          ],
          "scattercarpet": [
           {
            "marker": {
             "colorbar": {
              "outlinewidth": 0,
              "ticks": ""
             }
            },
            "type": "scattercarpet"
           }
          ],
          "scattergeo": [
           {
            "marker": {
             "colorbar": {
              "outlinewidth": 0,
              "ticks": ""
             }
            },
            "type": "scattergeo"
           }
          ],
          "scattergl": [
           {
            "marker": {
             "colorbar": {
              "outlinewidth": 0,
              "ticks": ""
             }
            },
            "type": "scattergl"
           }
          ],
          "scattermapbox": [
           {
            "marker": {
             "colorbar": {
              "outlinewidth": 0,
              "ticks": ""
             }
            },
            "type": "scattermapbox"
           }
          ],
          "scatterpolar": [
           {
            "marker": {
             "colorbar": {
              "outlinewidth": 0,
              "ticks": ""
             }
            },
            "type": "scatterpolar"
           }
          ],
          "scatterpolargl": [
           {
            "marker": {
             "colorbar": {
              "outlinewidth": 0,
              "ticks": ""
             }
            },
            "type": "scatterpolargl"
           }
          ],
          "scatterternary": [
           {
            "marker": {
             "colorbar": {
              "outlinewidth": 0,
              "ticks": ""
             }
            },
            "type": "scatterternary"
           }
          ],
          "surface": [
           {
            "colorbar": {
             "outlinewidth": 0,
             "ticks": ""
            },
            "colorscale": [
             [
              0,
              "#0d0887"
             ],
             [
              0.1111111111111111,
              "#46039f"
             ],
             [
              0.2222222222222222,
              "#7201a8"
             ],
             [
              0.3333333333333333,
              "#9c179e"
             ],
             [
              0.4444444444444444,
              "#bd3786"
             ],
             [
              0.5555555555555556,
              "#d8576b"
             ],
             [
              0.6666666666666666,
              "#ed7953"
             ],
             [
              0.7777777777777778,
              "#fb9f3a"
             ],
             [
              0.8888888888888888,
              "#fdca26"
             ],
             [
              1,
              "#f0f921"
             ]
            ],
            "type": "surface"
           }
          ],
          "table": [
           {
            "cells": {
             "fill": {
              "color": "#EBF0F8"
             },
             "line": {
              "color": "white"
             }
            },
            "header": {
             "fill": {
              "color": "#C8D4E3"
             },
             "line": {
              "color": "white"
             }
            },
            "type": "table"
           }
          ]
         },
         "layout": {
          "annotationdefaults": {
           "arrowcolor": "#2a3f5f",
           "arrowhead": 0,
           "arrowwidth": 1
          },
          "autotypenumbers": "strict",
          "coloraxis": {
           "colorbar": {
            "outlinewidth": 0,
            "ticks": ""
           }
          },
          "colorscale": {
           "diverging": [
            [
             0,
             "#8e0152"
            ],
            [
             0.1,
             "#c51b7d"
            ],
            [
             0.2,
             "#de77ae"
            ],
            [
             0.3,
             "#f1b6da"
            ],
            [
             0.4,
             "#fde0ef"
            ],
            [
             0.5,
             "#f7f7f7"
            ],
            [
             0.6,
             "#e6f5d0"
            ],
            [
             0.7,
             "#b8e186"
            ],
            [
             0.8,
             "#7fbc41"
            ],
            [
             0.9,
             "#4d9221"
            ],
            [
             1,
             "#276419"
            ]
           ],
           "sequential": [
            [
             0,
             "#0d0887"
            ],
            [
             0.1111111111111111,
             "#46039f"
            ],
            [
             0.2222222222222222,
             "#7201a8"
            ],
            [
             0.3333333333333333,
             "#9c179e"
            ],
            [
             0.4444444444444444,
             "#bd3786"
            ],
            [
             0.5555555555555556,
             "#d8576b"
            ],
            [
             0.6666666666666666,
             "#ed7953"
            ],
            [
             0.7777777777777778,
             "#fb9f3a"
            ],
            [
             0.8888888888888888,
             "#fdca26"
            ],
            [
             1,
             "#f0f921"
            ]
           ],
           "sequentialminus": [
            [
             0,
             "#0d0887"
            ],
            [
             0.1111111111111111,
             "#46039f"
            ],
            [
             0.2222222222222222,
             "#7201a8"
            ],
            [
             0.3333333333333333,
             "#9c179e"
            ],
            [
             0.4444444444444444,
             "#bd3786"
            ],
            [
             0.5555555555555556,
             "#d8576b"
            ],
            [
             0.6666666666666666,
             "#ed7953"
            ],
            [
             0.7777777777777778,
             "#fb9f3a"
            ],
            [
             0.8888888888888888,
             "#fdca26"
            ],
            [
             1,
             "#f0f921"
            ]
           ]
          },
          "colorway": [
           "#636efa",
           "#EF553B",
           "#00cc96",
           "#ab63fa",
           "#FFA15A",
           "#19d3f3",
           "#FF6692",
           "#B6E880",
           "#FF97FF",
           "#FECB52"
          ],
          "font": {
           "color": "#2a3f5f"
          },
          "geo": {
           "bgcolor": "white",
           "lakecolor": "white",
           "landcolor": "#E5ECF6",
           "showlakes": true,
           "showland": true,
           "subunitcolor": "white"
          },
          "hoverlabel": {
           "align": "left"
          },
          "hovermode": "closest",
          "mapbox": {
           "style": "light"
          },
          "paper_bgcolor": "white",
          "plot_bgcolor": "#E5ECF6",
          "polar": {
           "angularaxis": {
            "gridcolor": "white",
            "linecolor": "white",
            "ticks": ""
           },
           "bgcolor": "#E5ECF6",
           "radialaxis": {
            "gridcolor": "white",
            "linecolor": "white",
            "ticks": ""
           }
          },
          "scene": {
           "xaxis": {
            "backgroundcolor": "#E5ECF6",
            "gridcolor": "white",
            "gridwidth": 2,
            "linecolor": "white",
            "showbackground": true,
            "ticks": "",
            "zerolinecolor": "white"
           },
           "yaxis": {
            "backgroundcolor": "#E5ECF6",
            "gridcolor": "white",
            "gridwidth": 2,
            "linecolor": "white",
            "showbackground": true,
            "ticks": "",
            "zerolinecolor": "white"
           },
           "zaxis": {
            "backgroundcolor": "#E5ECF6",
            "gridcolor": "white",
            "gridwidth": 2,
            "linecolor": "white",
            "showbackground": true,
            "ticks": "",
            "zerolinecolor": "white"
           }
          },
          "shapedefaults": {
           "line": {
            "color": "#2a3f5f"
           }
          },
          "ternary": {
           "aaxis": {
            "gridcolor": "white",
            "linecolor": "white",
            "ticks": ""
           },
           "baxis": {
            "gridcolor": "white",
            "linecolor": "white",
            "ticks": ""
           },
           "bgcolor": "#E5ECF6",
           "caxis": {
            "gridcolor": "white",
            "linecolor": "white",
            "ticks": ""
           }
          },
          "title": {
           "x": 0.05
          },
          "xaxis": {
           "automargin": true,
           "gridcolor": "white",
           "linecolor": "white",
           "ticks": "",
           "title": {
            "standoff": 15
           },
           "zerolinecolor": "white",
           "zerolinewidth": 2
          },
          "yaxis": {
           "automargin": true,
           "gridcolor": "white",
           "linecolor": "white",
           "ticks": "",
           "title": {
            "standoff": 15
           },
           "zerolinecolor": "white",
           "zerolinewidth": 2
          }
         }
        },
        "title": {
         "text": "Plotly Plot"
        }
       }
      }
     },
     "metadata": {},
     "output_type": "display_data"
    },
    {
     "data": {
      "text/plain": [
       "([(8, 12), (0, 13), (1, 14)], [11], array([109.66395128,  20.        ]))"
      ]
     },
     "execution_count": 24,
     "metadata": {},
     "output_type": "execute_result"
    }
   ],
   "source": [
    "copied_vertices, other_vertices, mean_other_vertex = net.account_for_crossings()\n",
    "net.net_plot(plot_type = 'projection', color = True,vlabels = True, elables=False)\n",
    "net._set_leafs()\n",
    "\n",
    "# tikz_text = net.tikz_string(net.vertices_2d, net.edges, labels = True, rotate_label = rotate_angle, font_scale = font_scale)\n",
    "# with open(\"tikz_tensegrity1.tex\", \"w\") as f:\n",
    "#     f.write(\"\\n\".join(tikz_text))\n",
    "\n",
    "net.l0[net.leaf_edges] -= 2\n",
    "copied_vertices, other_vertices, mean_other_vertex"
   ]
  },
  {
   "cell_type": "code",
   "execution_count": null,
   "metadata": {},
   "outputs": [],
   "source": [
    "# net.initialize_shape_optimizer(function_type = 'no optimization',  method = 'L-BFGS-B', params = None)\n",
    "# net.initialize_shape_optimizer(function_type = 'standard',  method = 'L-BFGS-B',options ={\"maxiter\": 10000, \"maxfun\": 1500000, \"maxls\": 5000})\n",
    "net.initialize_shape_optimizer(function_type = 'standard',  method = 'Gauss-Seidel',options ={\"maxiter\": 10000, \"damping\": .1, \"correction_scalar\": 1., \"tol\": 1e-6})\n",
    "# net.initialize_shape_optimizer(function_type = 'standard',  method = 'trust-constr')\n",
    "# net.initialize_shape_optimizer(function_type = 'sigmoid',  method = 'L-BFGS-B', params = {'a': 4, 'b': -1})\n",
    "net.optimize_vertices()\n",
    "net.net_plot(color=True, plot_type='optimized', elables=False, vlabels = True)\n",
    "\n",
    "# tikz_text = net.tikz_string(net.vertices_optimized[...,:2], net.edges, labels = True, rotate_label = rotate_angle, font_scale = font_scale)\n",
    "# with open(\"tikz_tensegrity2.tex\", \"w\") as f:\n",
    "#     f.write(\"\\n\".join(tikz_text))"
   ]
  },
  {
   "cell_type": "code",
   "execution_count": null,
   "metadata": {},
   "outputs": [],
   "source": [
    "%matplotlib qt\n",
    "import matplotlib.animation as animation\n",
    "ani = net.ShapeOptimizer.animate_optimization()\n",
    "writer = animation.FFMpegWriter(fps=15)\n",
    "ani.save(os.path.join(BYU_UW_root, 'images', 'form finding animations', f'form_finding_{model_name}_{0}.mp4'), writer=writer)"
   ]
  },
  {
   "cell_type": "code",
   "execution_count": null,
   "metadata": {},
   "outputs": [],
   "source": [
    "edges_to_flip = [5,2,14,21,22,0,16,6,15,10,19,9,12]\n",
    "for edge_i in edges_to_flip:\n",
    "    net.edges[edge_i] = [net.edges[edge_i][1], net.edges[edge_i][0]]\n",
    "for path in net.path:\n",
    "    for edge in path:\n",
    "        print(edge, [net.edges[edge][0]+1, net.edges[edge][1]+1])"
   ]
  },
  {
   "cell_type": "code",
   "execution_count": null,
   "metadata": {},
   "outputs": [],
   "source": [
    "reference_point = [0,0,0]                         # The network will be scaler relative to this point\n",
    "net.scale_vertices(reference_point, net.l_scalar, account_for_leafs = True) # If you don't provide a scalar, it will use network.l_scalar automatically\n",
    "\n",
    "# #  You can plot the scaled network like this\n",
    "# # net.net_plot(color=True, plot_type='scaled')\n",
    "\n",
    "# # Determine the Radius and Angle of the circle that define the arc of each element\n",
    "R, th = net.arc_param()\n",
    "# # for the arc length (net.l1 * net.l_scalar) is used unless specified otherwise, for the cord length (net.l0) is used unless specified otherwise\n",
    "xyz = net.arc_points(n = 10) \n",
    "\n",
    "# net.net_plot(color=True, plot_type='arcs', elables=True, vlabels = True)"
   ]
  },
  {
   "cell_type": "code",
   "execution_count": null,
   "metadata": {},
   "outputs": [],
   "source": [
    "# net.flip_curve(2, n = 10)          # Flip the curvature of one edge\n",
    "net.auto_flip_curves(n = 10)        # Automatically flip the curvature of the edges. Directions will become 1, -1, 1, -1, ...\n",
    "# net.flip_curves()                   # Flip all the edges.\n",
    "# net.flip_curves([2, 5, 8], n = 10)       # Flip the curvature of multiple edges\n",
    "net.net_plot(color=True, plot_type='arcs', elables=True)"
   ]
  },
  {
   "cell_type": "code",
   "execution_count": null,
   "metadata": {},
   "outputs": [],
   "source": [
    "printing_params = load_params(r'DATA/NT_Eel_0.2mm_og.json')\n",
    "# When no interpolation function is provided, linear interpolation is used. No other interpolation function is implemented (yet?).\n",
    "# net.jump_at_intersection(intersection_width = 2, intersection_height = 5, interpolation_function=None) # These settings are just for visibility, this would be way to much\n",
    "# These setting are more appropriate for printing\n",
    "net.jump_at_intersection(intersection_width = printing_params['d_nozzle']*1.5, intersection_height = printing_params['layer_height'], interpolation_function=None) \n",
    "net.net_plot(color=True, plot_type='arcs', elables=True)"
   ]
  },
  {
   "cell_type": "code",
   "execution_count": null,
   "metadata": {},
   "outputs": [],
   "source": [
    "alpha_loop = np.deg2rad(30) # The angle of the loop\n",
    "L_loop  = 3.5                # The length of the loop\n",
    "n_points = 60               # The number of points in the loop\n",
    "\n",
    "start_loop_bools = [True, False, False]\n",
    "end_loop_bools = [True, False, False]\n",
    "\n",
    "net.all_loop_to_path(start_loop_bools, end_loop_bools, L_loop, alpha_loop, n_points)\n",
    "\n",
    "L_real = L_loop + L_loop*np.tan(alpha_loop)\n",
    "L_real"
   ]
  },
  {
   "cell_type": "code",
   "execution_count": null,
   "metadata": {},
   "outputs": [],
   "source": [
    "start_loop_bools = [False, True, True]\n",
    "end_loop_bools = [False, True, False]\n",
    "L_loop  = 1.5\n",
    "n_points = 5\n",
    "net.add_running_start(start_loop_bools, end_loop_bools, L_loop, n_points)"
   ]
  },
  {
   "cell_type": "code",
   "execution_count": null,
   "metadata": {},
   "outputs": [],
   "source": [
    "net.save_network(os.path.join(BYU_UW_root, 'networks', model_name + '_net.pkl'))"
   ]
  },
  {
   "cell_type": "code",
   "execution_count": null,
   "metadata": {},
   "outputs": [],
   "source": [
    "printing_params = load_params(r'DATA/NT_Eel_0.2mm_og.json')\n",
    "start_gcode     = open(r'DATA/start_gcode.gcode', 'r').read()\n",
    "end_gcode       = open(r'DATA/end_gcode.gcode', 'r').read()\n",
    "\n",
    "temperature_settings = {'first_layer_bed_temperature': 65, 'first_layer_temperature':205, 'K-factor': 0.20}\n",
    "g_code = replace_brackets(start_gcode, temperature_settings)\n",
    "\n",
    "comment = ''\n",
    "\n",
    "bed_width = 230\n",
    "bed_height = 210\n",
    "\n",
    "gen = G_code_generator(printing_params=printing_params)"
   ]
  },
  {
   "cell_type": "code",
   "execution_count": null,
   "metadata": {},
   "outputs": [],
   "source": [
    "point0, point1 = [20,15,0.3], [90,15,0.3]\n",
    "point2, point3 = [90,10,0.3], [20,10,0.3]\n",
    "g_code += gen.move_to_point(point0[0:2], point0[2] + printing_params['nozzle_lift'], comment='Move to start point')\n",
    "g_code += gen.move_to_point(point0[0:2], point0[2], comment='Lower Nozzle')\n",
    "g_code += gen.unretract()\n",
    "g_code += gen._print_line(\n",
    "        point0=point0,\n",
    "        point1=point1,\n",
    "        move_to_start=False, # move to start point without extruding\n",
    "        extrude_factor=printing_params['extrude_factor']*2.5,\n",
    "        comment=comment)\n",
    "g_code += gen.retract()\n",
    "g_code += gen.move_to_point(point2[0:2], point2[2] + printing_params['nozzle_lift'], comment='Move to start point')\n",
    "g_code += gen.move_to_point(point2[0:2], point2[2], comment='Lower Nozzle')\n",
    "g_code += gen.unretract()\n",
    "g_code += gen._print_line(\n",
    "        point0=point2,\n",
    "        point1=point3,\n",
    "        move_to_start=False, # move to start point without extruding\n",
    "        extrude_factor=printing_params['extrude_factor']*2.5,\n",
    "        comment=comment)\n",
    "g_code += gen.retract()\n",
    "g_code += gen.wipe(2 * np.pi) # Wipe the nozzle horizontally"
   ]
  },
  {
   "cell_type": "code",
   "execution_count": null,
   "metadata": {},
   "outputs": [],
   "source": [
    "for path_i, cor_list in enumerate(net.paths_xyz):\n",
    "    g_code += '\\n;Path (' + str(path_i) + ' ' + str(path_i) + ')\\n'\n",
    "    cor_list   = np.array(cor_list)\n",
    "    # Move the coordinates to the center of the bed and add the layer height\n",
    "    cor_list[:,0] += bed_width/2  - 30\n",
    "    cor_list[:,1] += bed_height/2 - 50\n",
    "    cor_list[:,2] += printing_params['layer_height']\n",
    "    g_code += '\\n'\n",
    "    # Move the coordinates to the start point\n",
    "    g_code += gen.move_to_point(cor_list[0][0:2], cor_list[0][2] + printing_params['nozzle_lift'], comment='Move to start point')\n",
    "    # Lower the nozzle\n",
    "    g_code += gen.move_to_point(cor_list[0][0:2], cor_list[0][2], comment='Lower Nozzle')\n",
    "    # Unretract the filament\n",
    "    g_code += gen.unretract()\n",
    "    # Print the path\n",
    "    for point0, point1 in zip(cor_list[:-1], cor_list[1:]):\n",
    "        g_code += gen._print_line(\n",
    "            point0=point0,\n",
    "            point1=point1,\n",
    "            move_to_start=False, # move to start point without extruding\n",
    "            extrude_factor = printing_params['extrude_factor'],\n",
    "            comment=comment)\n",
    "    # Retract the filament\n",
    "    g_code += gen.retract()\n",
    "    # Wipe the nozzle\n",
    "    g_code += gen.wipe_from_last_points(g_code)    \n",
    "    # Raise the nozzle\n",
    "    g_code += gen.move_to_point(point1[0:2], point1[2] + printing_params['nozzle_lift'], speed_factor=0.5, comment='Raise Nozzle')\n",
    "\n",
    "g_code += end_gcode\n",
    "with open(os.path.join('DATA', 'generated_gcodes', model_name + '.gcode'), \"w\") as g_code_file:\n",
    "    g_code_file.write(g_code)\n",
    "print('G-code generated')"
   ]
  },
  {
   "cell_type": "code",
   "execution_count": null,
   "metadata": {},
   "outputs": [],
   "source": [
    "minx, miny = 90, 90\n",
    "maxx, maxy = 0, 0\n",
    "for path_i, cor_list in enumerate(net.paths_xyz):\n",
    "    cor_list   = np.array(cor_list)\n",
    "    cor_list[:,0] += bed_width/2 -30\n",
    "    cor_list[:,1] += bed_height/2 -50\n",
    "    minx = min(minx, np.min(cor_list[:,0]))\n",
    "    miny = min(miny, np.min(cor_list[:,1]))\n",
    "    maxx = max(maxx, np.max(cor_list[:,0]))\n",
    "    maxy = max(maxy, np.max(cor_list[:,1]))\n",
    "\n",
    "minx , miny , maxx , maxy "
   ]
  },
  {
   "cell_type": "code",
   "execution_count": null,
   "metadata": {},
   "outputs": [],
   "source": [
    "%matplotlib qt\n",
    "import matplotlib.pyplot as plt\n",
    "\n",
    "from mpl_toolkits.mplot3d import Axes3D\n",
    "fig = plt.figure()\n",
    "ax = fig.add_subplot(111, projection='3d')\n",
    "\n",
    "# Plot vertices\n",
    "# vertices = np.concatenate((vertices_unwrapped[cable_slice], np.ones((len(vertices_unwrapped[cable_slice]), 1))), axis=1)\n",
    "# vertices = np.concatenate((net.vertices_optimized, np.ones((len(net.vertices_optimized), 1))), axis=1)\n",
    "\n",
    "# ax.scatter(vertices[:, 0], vertices[:, 1], vertices[:, 2], c='r', marker='o')\n",
    "\n",
    "# Plot edges\n",
    "l0 = []\n",
    "for edge in net.edges[cable_slice]:\n",
    "    v1, v2 = vertices[edge[0]], vertices[edge[1]]\n",
    "    l0.append(np.linalg.norm(v1-v2))\n",
    "    ax.plot([v1[0], v2[0]], [v1[1], v2[1]], [v1[2], v2[2]], 'b-')\n",
    "    ax.plot(v1[0], v1[1], v1[2], 'b*')\n",
    "for edge in edges[strut_slice]:\n",
    "    v1, v2 = vertices[edge[0]], vertices[edge[1]]\n",
    "    l0.append(np.linalg.norm(v1-v2))\n",
    "    ax.plot([v1[0], v2[0]], [v1[1], v2[1]], [v1[2], v2[2]], 'r-')\n",
    "for i, v in enumerate(vertices):\n",
    "    ax.text(v[0], v[1], v[2], str(i+1), color='blue')\n",
    "ax.set_xlabel('X')\n",
    "ax.set_ylabel('Y')\n",
    "ax.set_zlabel('Z')\n",
    "# ax.set_xlim(-15, 15)\n",
    "# ax.set_ylim(-15, 15)\n",
    "# ax.set_zlim(-15, 15)\n",
    "plt.show()\n",
    "\n",
    "l0[-1]/l0[0]"
   ]
  },
  {
   "cell_type": "code",
   "execution_count": null,
   "metadata": {},
   "outputs": [],
   "source": [
    "vertices_temp = np.copy(net.vertices)"
   ]
  },
  {
   "cell_type": "code",
   "execution_count": null,
   "metadata": {},
   "outputs": [],
   "source": [
    "import numpy as np\n",
    "import matplotlib.pyplot as plt\n",
    "from mpl_toolkits.mplot3d import Axes3D\n",
    "import matplotlib.animation as animation\n",
    "\n",
    "# Compute rotation to align points 1, 3, and 6 horizontally\n",
    "vertices = np.copy(vertices_temp)\n",
    "# Define rotation matrix around x-axis\n",
    "def rotate_x(theta, points):\n",
    "    R = np.array([\n",
    "        [1, 0, 0],\n",
    "        [0, np.cos(theta), -np.sin(theta)],\n",
    "        [0, np.sin(theta), np.cos(theta)]\n",
    "    ])\n",
    "    return np.dot(points, R.T)\n",
    "\n",
    "# Apply rotation\n",
    "theta = np.pi/6  # Replace with your desired angle in radians\n",
    "vertices = rotate_x(theta, vertices)\n",
    "\n",
    "fig = plt.figure()\n",
    "ax = fig.add_subplot(111, projection='3d')\n",
    "ax.set_xticks([])\n",
    "ax.set_yticks([])\n",
    "ax.set_zticks([])\n",
    "ax.set_axis_off()\n",
    "ax.grid(False)\n",
    "ax.set_xticklabels([])\n",
    "ax.set_yticklabels([])\n",
    "ax.set_zticklabels([])\n",
    "lims = 30\n",
    "ax.set_xlim(-lims, lims)\n",
    "ax.set_ylim(-lims, lims)\n",
    "ax.set_zlim(-lims, lims)\n",
    "\n",
    "# Plot vertices\n",
    "for edge in net.edges[cable_slice]:\n",
    "    v1, v2 = vertices[edge[0]], vertices[edge[1]]\n",
    "    ax.plot([v1[0], v2[0]], [v1[1], v2[1]], [v1[2], v2[2]], 'b-')\n",
    "for edge in edges[strut_slice]:\n",
    "    v1, v2 = vertices[edge[0]], vertices[edge[1]]\n",
    "    ax.plot([v1[0], v2[0]], [v1[1], v2[1]], [v1[2], v2[2]], 'r-')\n",
    "\n",
    "# Animation function\n",
    "def update(frame):\n",
    "    ax.view_init(elev=15, azim=frame)\n",
    "    return fig,\n",
    "\n",
    "ani = animation.FuncAnimation(fig, update, frames=np.linspace(0, 360, num=180), interval=100)\n",
    "\n",
    "plt.show()\n",
    "writer = animation.FFMpegWriter(fps=15)\n",
    "ani.save(os.path.join(BYU_UW_root, 'images', 'tensegrity', f'rotation_{model_name}.mp4'), writer=writer)"
   ]
  },
  {
   "cell_type": "code",
   "execution_count": null,
   "metadata": {},
   "outputs": [],
   "source": [
    "frames = [0, 45, 90]\n",
    "\n",
    "fig = plt.figure()\n",
    "ax = fig.add_subplot(111, projection='3d')\n",
    "ax.set_xticks([])\n",
    "ax.set_yticks([])\n",
    "ax.set_zticks([])\n",
    "ax.set_axis_off()\n",
    "ax.grid(False)\n",
    "ax.set_xticklabels([])\n",
    "ax.set_yticklabels([])\n",
    "ax.set_zticklabels([])\n",
    "plt.tight_layout()\n",
    "lims = 30\n",
    "ax.set_xlim(-lims, lims)\n",
    "ax.set_ylim(-lims, lims)\n",
    "ax.set_zlim(-lims, lims)\n",
    "\n",
    "# Plot vertices\n",
    "for edge in net.edges[cable_slice]:\n",
    "    v1, v2 = vertices[edge[0]], vertices[edge[1]]\n",
    "    ax.plot([v1[0], v2[0]], [v1[1], v2[1]], [v1[2], v2[2]], 'b-')\n",
    "for edge in edges[strut_slice]:\n",
    "    v1, v2 = vertices[edge[0]], vertices[edge[1]]\n",
    "    ax.plot([v1[0], v2[0]], [v1[1], v2[1]], [v1[2], v2[2]], 'r-')\n",
    "for i, v in enumerate(vertices):\n",
    "    # White label (larger font) as a background\n",
    "    ax.text(v[0], v[1], v[2], str(i + 1), color='white', fontsize=22, ha='center', va='center')\n",
    "    # Black label (smaller font) on top for contrast\n",
    "    ax.text(v[0] + 0.5, v[1] + 0.5, v[2] + 0.5, str(i + 1), color='black', fontsize=18, ha='center', va='center')\n",
    "\n",
    "for frame in frames:\n",
    "    ax.view_init(elev=15, azim=frame)\n",
    "    plt.show()\n",
    "    fig.savefig(os.path.join(BYU_UW_root, 'images', 'tensegrity', f'rotation_{model_name}_{frame}.png'))"
   ]
  }
 ],
 "metadata": {
  "kernelspec": {
   "display_name": "base",
   "language": "python",
   "name": "python3"
  },
  "language_info": {
   "codemirror_mode": {
    "name": "ipython",
    "version": 3
   },
   "file_extension": ".py",
   "mimetype": "text/x-python",
   "name": "python",
   "nbconvert_exporter": "python",
   "pygments_lexer": "ipython3",
   "version": "3.12.3"
  }
 },
 "nbformat": 4,
 "nbformat_minor": 2
}
