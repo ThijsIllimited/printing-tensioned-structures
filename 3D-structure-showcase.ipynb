{
 "cells": [
  {
   "cell_type": "code",
   "execution_count": 1,
   "metadata": {},
   "outputs": [],
   "source": [
    "import numpy as np\n",
    "import pickle\n",
    "\n",
    "# G-code generation codes are cloned from https://github.com/tibor-barsi/GcodeGenerator. Tibor Barsi is the author of the code, and was a PhD student at the Ladisk lab of the University of Ljubljana\n",
    "#  We should be careful with crediting the author of the code, if we ever want to make these code public.\n",
    "from src.g_code_generation_copy.gcode_generator import G_code_generator\n",
    "from src.g_code_generation_copy.tool_changer_functions import save_params, load_params, printer_start, load_tool, unload_tool, tool_change, take_photo, play_sound, printer_stop\n",
    "# from src.additional_functions import *\n",
    "from src.network import Network_custom, replace_brackets\n",
    "import os\n",
    "\n",
    "BYU_UW_root = r\"G:\\.shortcut-targets-by-id\\1k1B8zPb3T8H7y6x0irFZnzzmfQPHMRPx\\Illimited Lab Projects\\Research Projects\\Spiders\\BYU-UW\""
   ]
  },
  {
   "cell_type": "code",
   "execution_count": 2,
   "metadata": {},
   "outputs": [
    {
     "data": {
      "application/vnd.plotly.v1+json": {
       "config": {
        "plotlyServerURL": "https://plot.ly"
       },
       "data": [
        {
         "line": {
          "color": [
           2.059536295065596,
           2.059536295065596,
           0,
           1.3025651232383768,
           1.3025651232383768,
           0,
           1.3025651232383768,
           1.3025651232383768,
           0,
           2.059536295065596,
           2.059536295065596,
           0,
           1.3025651232383768,
           1.3025651232383768,
           0,
           1.3025651232383768,
           1.3025651232383768,
           0,
           2.0595362950655955,
           2.0595362950655955,
           0,
           2.0595362950655955,
           2.0595362950655955,
           0,
           2.059536295065596,
           2.059536295065596,
           0,
           1.3025651232383768,
           1.3025651232383768,
           0,
           1.3025651232383768,
           1.3025651232383768,
           0,
           2.059536295065596,
           2.059536295065596,
           0,
           1.3025651232383768,
           1.3025651232383768,
           0,
           1.3025651232383768,
           1.3025651232383768,
           0,
           2.059536295065596,
           2.059536295065596,
           0,
           2.059536295065596,
           2.059536295065596,
           0,
           0.9210526315789473,
           0.9210526315789473,
           0,
           0.9210526315789476,
           0.9210526315789476,
           0,
           0.9210526315789473,
           0.9210526315789473,
           0,
           0.9210526315789471,
           0.9210526315789471,
           0
          ],
          "colorbar": {
           "title": {
            "text": "Force"
           }
          },
          "colorscale": [
           [
            0,
            "#440154"
           ],
           [
            0.1111111111111111,
            "#482878"
           ],
           [
            0.2222222222222222,
            "#3e4989"
           ],
           [
            0.3333333333333333,
            "#31688e"
           ],
           [
            0.4444444444444444,
            "#26828e"
           ],
           [
            0.5555555555555556,
            "#1f9e89"
           ],
           [
            0.6666666666666666,
            "#35b779"
           ],
           [
            0.7777777777777778,
            "#6ece58"
           ],
           [
            0.8888888888888888,
            "#b5de2b"
           ],
           [
            1,
            "#fde725"
           ]
          ],
          "showscale": true,
          "width": 3
         },
         "mode": "lines",
         "type": "scatter3d",
         "x": [
          -100,
          -26.31578947368421,
          null,
          -26.31578947368421,
          -5.933366907179274e-16,
          null,
          -5.933366907179274e-16,
          26.31578947368421,
          null,
          100,
          26.31578947368421,
          null,
          26.31578947368421,
          -2.609470547953335e-15,
          null,
          -26.31578947368421,
          -2.609470547953335e-15,
          null,
          -5.933366907179274e-16,
          0,
          null,
          -2.609470547953335e-15,
          0,
          null,
          -100,
          -26.315789473684212,
          null,
          -26.315789473684212,
          -8.540177112501203e-16,
          null,
          26.31578947368421,
          -8.540177112501203e-16,
          null,
          100,
          26.31578947368421,
          null,
          26.31578947368421,
          -3.661664221230196e-15,
          null,
          -3.661664221230196e-15,
          -26.315789473684212,
          null,
          -8.540177112501203e-16,
          0,
          null,
          -3.661664221230196e-15,
          0,
          null,
          -26.315789473684212,
          -26.31578947368421,
          null,
          -2.609470547953335e-15,
          -3.661664221230196e-15,
          null,
          26.31578947368421,
          26.31578947368421,
          null,
          -8.540177112501203e-16,
          -5.933366907179274e-16,
          null
         ],
         "y": [
          0,
          4.293873647518518e-16,
          null,
          4.293873647518518e-16,
          -26.315789473684216,
          null,
          -26.315789473684216,
          -3.1619340866353946e-16,
          null,
          0,
          -3.1619340866353946e-16,
          null,
          -3.1619340866353946e-16,
          26.315789473684212,
          null,
          4.293873647518518e-16,
          26.315789473684212,
          null,
          -26.315789473684216,
          -100,
          null,
          26.315789473684212,
          100,
          null,
          0,
          4.766933139435897e-15,
          null,
          4.766933139435897e-15,
          -26.31578947368421,
          null,
          1.997633123893015e-15,
          -26.31578947368421,
          null,
          0,
          1.997633123893015e-15,
          null,
          1.997633123893015e-15,
          26.315789473684212,
          null,
          26.315789473684212,
          4.766933139435897e-15,
          null,
          -26.31578947368421,
          -100,
          null,
          26.315789473684212,
          100,
          null,
          4.766933139435897e-15,
          4.293873647518518e-16,
          null,
          26.315789473684212,
          26.315789473684212,
          null,
          -3.1619340866353946e-16,
          1.997633123893015e-15,
          null,
          -26.31578947368421,
          -26.315789473684216,
          null
         ],
         "z": [
          0,
          36.842105263157876,
          null,
          36.842105263157876,
          36.84210526315787,
          null,
          36.84210526315787,
          36.84210526315787,
          null,
          0,
          36.84210526315787,
          null,
          36.84210526315787,
          36.842105263157876,
          null,
          36.842105263157876,
          36.842105263157876,
          null,
          36.84210526315787,
          0,
          null,
          36.842105263157876,
          0,
          null,
          100,
          63.15789473684209,
          null,
          63.15789473684209,
          63.157894736842074,
          null,
          63.15789473684208,
          63.157894736842074,
          null,
          100,
          63.15789473684208,
          null,
          63.15789473684208,
          63.157894736842096,
          null,
          63.157894736842096,
          63.15789473684209,
          null,
          63.157894736842074,
          100,
          null,
          63.157894736842096,
          100,
          null,
          63.15789473684209,
          36.842105263157876,
          null,
          36.842105263157876,
          63.157894736842096,
          null,
          36.84210526315787,
          63.15789473684208,
          null,
          63.157894736842074,
          36.84210526315787,
          null
         ]
        },
        {
         "mode": "text",
         "text": [
          "0"
         ],
         "type": "scatter3d",
         "x": [
          -63.1578947368421
         ],
         "y": [
          2.146936823759259e-16
         ],
         "z": [
          18.421052631578938
         ]
        },
        {
         "mode": "text",
         "text": [
          "1"
         ],
         "type": "scatter3d",
         "x": [
          -13.157894736842104
         ],
         "y": [
          -13.157894736842108
         ],
         "z": [
          36.842105263157876
         ]
        },
        {
         "mode": "text",
         "text": [
          "2"
         ],
         "type": "scatter3d",
         "x": [
          13.157894736842104
         ],
         "y": [
          -13.157894736842108
         ],
         "z": [
          36.84210526315787
         ]
        },
        {
         "mode": "text",
         "text": [
          "3"
         ],
         "type": "scatter3d",
         "x": [
          63.1578947368421
         ],
         "y": [
          -1.5809670433176973e-16
         ],
         "z": [
          18.421052631578934
         ]
        },
        {
         "mode": "text",
         "text": [
          "4"
         ],
         "type": "scatter3d",
         "x": [
          13.157894736842103
         ],
         "y": [
          13.157894736842106
         ],
         "z": [
          36.842105263157876
         ]
        },
        {
         "mode": "text",
         "text": [
          "5"
         ],
         "type": "scatter3d",
         "x": [
          -13.157894736842106
         ],
         "y": [
          13.157894736842106
         ],
         "z": [
          36.842105263157876
         ]
        },
        {
         "mode": "text",
         "text": [
          "6"
         ],
         "type": "scatter3d",
         "x": [
          -2.966683453589637e-16
         ],
         "y": [
          -63.15789473684211
         ],
         "z": [
          18.421052631578934
         ]
        },
        {
         "mode": "text",
         "text": [
          "7"
         ],
         "type": "scatter3d",
         "x": [
          -1.3047352739766676e-15
         ],
         "y": [
          63.15789473684211
         ],
         "z": [
          18.421052631578938
         ]
        },
        {
         "mode": "text",
         "text": [
          "8"
         ],
         "type": "scatter3d",
         "x": [
          -63.15789473684211
         ],
         "y": [
          2.3834665697179486e-15
         ],
         "z": [
          81.57894736842104
         ]
        },
        {
         "mode": "text",
         "text": [
          "9"
         ],
         "type": "scatter3d",
         "x": [
          -13.157894736842106
         ],
         "y": [
          -13.157894736842103
         ],
         "z": [
          63.15789473684208
         ]
        },
        {
         "mode": "text",
         "text": [
          "10"
         ],
         "type": "scatter3d",
         "x": [
          13.157894736842104
         ],
         "y": [
          -13.157894736842103
         ],
         "z": [
          63.15789473684208
         ]
        },
        {
         "mode": "text",
         "text": [
          "11"
         ],
         "type": "scatter3d",
         "x": [
          63.1578947368421
         ],
         "y": [
          9.988165619465075e-16
         ],
         "z": [
          81.57894736842104
         ]
        },
        {
         "mode": "text",
         "text": [
          "12"
         ],
         "type": "scatter3d",
         "x": [
          13.157894736842103
         ],
         "y": [
          13.157894736842108
         ],
         "z": [
          63.15789473684209
         ]
        },
        {
         "mode": "text",
         "text": [
          "13"
         ],
         "type": "scatter3d",
         "x": [
          -13.157894736842108
         ],
         "y": [
          13.157894736842108
         ],
         "z": [
          63.157894736842096
         ]
        },
        {
         "mode": "text",
         "text": [
          "14"
         ],
         "type": "scatter3d",
         "x": [
          -4.2700885562506017e-16
         ],
         "y": [
          -63.1578947368421
         ],
         "z": [
          81.57894736842104
         ]
        },
        {
         "mode": "text",
         "text": [
          "15"
         ],
         "type": "scatter3d",
         "x": [
          -1.830832110615098e-15
         ],
         "y": [
          63.15789473684211
         ],
         "z": [
          81.57894736842104
         ]
        },
        {
         "mode": "text",
         "text": [
          "16"
         ],
         "type": "scatter3d",
         "x": [
          -26.315789473684212
         ],
         "y": [
          2.5981602520938746e-15
         ],
         "z": [
          49.999999999999986
         ]
        },
        {
         "mode": "text",
         "text": [
          "17"
         ],
         "type": "scatter3d",
         "x": [
          -3.1355673845917655e-15
         ],
         "y": [
          26.315789473684212
         ],
         "z": [
          49.999999999999986
         ]
        },
        {
         "mode": "text",
         "text": [
          "18"
         ],
         "type": "scatter3d",
         "x": [
          26.31578947368421
         ],
         "y": [
          8.407198576147379e-16
         ],
         "z": [
          49.99999999999997
         ]
        },
        {
         "mode": "text",
         "text": [
          "19"
         ],
         "type": "scatter3d",
         "x": [
          -7.236772009840239e-16
         ],
         "y": [
          -26.315789473684212
         ],
         "z": [
          49.99999999999997
         ]
        }
       ],
       "layout": {
        "scene": {
         "aspectmode": "data"
        },
        "template": {
         "data": {
          "bar": [
           {
            "error_x": {
             "color": "#2a3f5f"
            },
            "error_y": {
             "color": "#2a3f5f"
            },
            "marker": {
             "line": {
              "color": "#E5ECF6",
              "width": 0.5
             },
             "pattern": {
              "fillmode": "overlay",
              "size": 10,
              "solidity": 0.2
             }
            },
            "type": "bar"
           }
          ],
          "barpolar": [
           {
            "marker": {
             "line": {
              "color": "#E5ECF6",
              "width": 0.5
             },
             "pattern": {
              "fillmode": "overlay",
              "size": 10,
              "solidity": 0.2
             }
            },
            "type": "barpolar"
           }
          ],
          "carpet": [
           {
            "aaxis": {
             "endlinecolor": "#2a3f5f",
             "gridcolor": "white",
             "linecolor": "white",
             "minorgridcolor": "white",
             "startlinecolor": "#2a3f5f"
            },
            "baxis": {
             "endlinecolor": "#2a3f5f",
             "gridcolor": "white",
             "linecolor": "white",
             "minorgridcolor": "white",
             "startlinecolor": "#2a3f5f"
            },
            "type": "carpet"
           }
          ],
          "choropleth": [
           {
            "colorbar": {
             "outlinewidth": 0,
             "ticks": ""
            },
            "type": "choropleth"
           }
          ],
          "contour": [
           {
            "colorbar": {
             "outlinewidth": 0,
             "ticks": ""
            },
            "colorscale": [
             [
              0,
              "#0d0887"
             ],
             [
              0.1111111111111111,
              "#46039f"
             ],
             [
              0.2222222222222222,
              "#7201a8"
             ],
             [
              0.3333333333333333,
              "#9c179e"
             ],
             [
              0.4444444444444444,
              "#bd3786"
             ],
             [
              0.5555555555555556,
              "#d8576b"
             ],
             [
              0.6666666666666666,
              "#ed7953"
             ],
             [
              0.7777777777777778,
              "#fb9f3a"
             ],
             [
              0.8888888888888888,
              "#fdca26"
             ],
             [
              1,
              "#f0f921"
             ]
            ],
            "type": "contour"
           }
          ],
          "contourcarpet": [
           {
            "colorbar": {
             "outlinewidth": 0,
             "ticks": ""
            },
            "type": "contourcarpet"
           }
          ],
          "heatmap": [
           {
            "colorbar": {
             "outlinewidth": 0,
             "ticks": ""
            },
            "colorscale": [
             [
              0,
              "#0d0887"
             ],
             [
              0.1111111111111111,
              "#46039f"
             ],
             [
              0.2222222222222222,
              "#7201a8"
             ],
             [
              0.3333333333333333,
              "#9c179e"
             ],
             [
              0.4444444444444444,
              "#bd3786"
             ],
             [
              0.5555555555555556,
              "#d8576b"
             ],
             [
              0.6666666666666666,
              "#ed7953"
             ],
             [
              0.7777777777777778,
              "#fb9f3a"
             ],
             [
              0.8888888888888888,
              "#fdca26"
             ],
             [
              1,
              "#f0f921"
             ]
            ],
            "type": "heatmap"
           }
          ],
          "heatmapgl": [
           {
            "colorbar": {
             "outlinewidth": 0,
             "ticks": ""
            },
            "colorscale": [
             [
              0,
              "#0d0887"
             ],
             [
              0.1111111111111111,
              "#46039f"
             ],
             [
              0.2222222222222222,
              "#7201a8"
             ],
             [
              0.3333333333333333,
              "#9c179e"
             ],
             [
              0.4444444444444444,
              "#bd3786"
             ],
             [
              0.5555555555555556,
              "#d8576b"
             ],
             [
              0.6666666666666666,
              "#ed7953"
             ],
             [
              0.7777777777777778,
              "#fb9f3a"
             ],
             [
              0.8888888888888888,
              "#fdca26"
             ],
             [
              1,
              "#f0f921"
             ]
            ],
            "type": "heatmapgl"
           }
          ],
          "histogram": [
           {
            "marker": {
             "pattern": {
              "fillmode": "overlay",
              "size": 10,
              "solidity": 0.2
             }
            },
            "type": "histogram"
           }
          ],
          "histogram2d": [
           {
            "colorbar": {
             "outlinewidth": 0,
             "ticks": ""
            },
            "colorscale": [
             [
              0,
              "#0d0887"
             ],
             [
              0.1111111111111111,
              "#46039f"
             ],
             [
              0.2222222222222222,
              "#7201a8"
             ],
             [
              0.3333333333333333,
              "#9c179e"
             ],
             [
              0.4444444444444444,
              "#bd3786"
             ],
             [
              0.5555555555555556,
              "#d8576b"
             ],
             [
              0.6666666666666666,
              "#ed7953"
             ],
             [
              0.7777777777777778,
              "#fb9f3a"
             ],
             [
              0.8888888888888888,
              "#fdca26"
             ],
             [
              1,
              "#f0f921"
             ]
            ],
            "type": "histogram2d"
           }
          ],
          "histogram2dcontour": [
           {
            "colorbar": {
             "outlinewidth": 0,
             "ticks": ""
            },
            "colorscale": [
             [
              0,
              "#0d0887"
             ],
             [
              0.1111111111111111,
              "#46039f"
             ],
             [
              0.2222222222222222,
              "#7201a8"
             ],
             [
              0.3333333333333333,
              "#9c179e"
             ],
             [
              0.4444444444444444,
              "#bd3786"
             ],
             [
              0.5555555555555556,
              "#d8576b"
             ],
             [
              0.6666666666666666,
              "#ed7953"
             ],
             [
              0.7777777777777778,
              "#fb9f3a"
             ],
             [
              0.8888888888888888,
              "#fdca26"
             ],
             [
              1,
              "#f0f921"
             ]
            ],
            "type": "histogram2dcontour"
           }
          ],
          "mesh3d": [
           {
            "colorbar": {
             "outlinewidth": 0,
             "ticks": ""
            },
            "type": "mesh3d"
           }
          ],
          "parcoords": [
           {
            "line": {
             "colorbar": {
              "outlinewidth": 0,
              "ticks": ""
             }
            },
            "type": "parcoords"
           }
          ],
          "pie": [
           {
            "automargin": true,
            "type": "pie"
           }
          ],
          "scatter": [
           {
            "fillpattern": {
             "fillmode": "overlay",
             "size": 10,
             "solidity": 0.2
            },
            "type": "scatter"
           }
          ],
          "scatter3d": [
           {
            "line": {
             "colorbar": {
              "outlinewidth": 0,
              "ticks": ""
             }
            },
            "marker": {
             "colorbar": {
              "outlinewidth": 0,
              "ticks": ""
             }
            },
            "type": "scatter3d"
           }
          ],
          "scattercarpet": [
           {
            "marker": {
             "colorbar": {
              "outlinewidth": 0,
              "ticks": ""
             }
            },
            "type": "scattercarpet"
           }
          ],
          "scattergeo": [
           {
            "marker": {
             "colorbar": {
              "outlinewidth": 0,
              "ticks": ""
             }
            },
            "type": "scattergeo"
           }
          ],
          "scattergl": [
           {
            "marker": {
             "colorbar": {
              "outlinewidth": 0,
              "ticks": ""
             }
            },
            "type": "scattergl"
           }
          ],
          "scattermapbox": [
           {
            "marker": {
             "colorbar": {
              "outlinewidth": 0,
              "ticks": ""
             }
            },
            "type": "scattermapbox"
           }
          ],
          "scatterpolar": [
           {
            "marker": {
             "colorbar": {
              "outlinewidth": 0,
              "ticks": ""
             }
            },
            "type": "scatterpolar"
           }
          ],
          "scatterpolargl": [
           {
            "marker": {
             "colorbar": {
              "outlinewidth": 0,
              "ticks": ""
             }
            },
            "type": "scatterpolargl"
           }
          ],
          "scatterternary": [
           {
            "marker": {
             "colorbar": {
              "outlinewidth": 0,
              "ticks": ""
             }
            },
            "type": "scatterternary"
           }
          ],
          "surface": [
           {
            "colorbar": {
             "outlinewidth": 0,
             "ticks": ""
            },
            "colorscale": [
             [
              0,
              "#0d0887"
             ],
             [
              0.1111111111111111,
              "#46039f"
             ],
             [
              0.2222222222222222,
              "#7201a8"
             ],
             [
              0.3333333333333333,
              "#9c179e"
             ],
             [
              0.4444444444444444,
              "#bd3786"
             ],
             [
              0.5555555555555556,
              "#d8576b"
             ],
             [
              0.6666666666666666,
              "#ed7953"
             ],
             [
              0.7777777777777778,
              "#fb9f3a"
             ],
             [
              0.8888888888888888,
              "#fdca26"
             ],
             [
              1,
              "#f0f921"
             ]
            ],
            "type": "surface"
           }
          ],
          "table": [
           {
            "cells": {
             "fill": {
              "color": "#EBF0F8"
             },
             "line": {
              "color": "white"
             }
            },
            "header": {
             "fill": {
              "color": "#C8D4E3"
             },
             "line": {
              "color": "white"
             }
            },
            "type": "table"
           }
          ]
         },
         "layout": {
          "annotationdefaults": {
           "arrowcolor": "#2a3f5f",
           "arrowhead": 0,
           "arrowwidth": 1
          },
          "autotypenumbers": "strict",
          "coloraxis": {
           "colorbar": {
            "outlinewidth": 0,
            "ticks": ""
           }
          },
          "colorscale": {
           "diverging": [
            [
             0,
             "#8e0152"
            ],
            [
             0.1,
             "#c51b7d"
            ],
            [
             0.2,
             "#de77ae"
            ],
            [
             0.3,
             "#f1b6da"
            ],
            [
             0.4,
             "#fde0ef"
            ],
            [
             0.5,
             "#f7f7f7"
            ],
            [
             0.6,
             "#e6f5d0"
            ],
            [
             0.7,
             "#b8e186"
            ],
            [
             0.8,
             "#7fbc41"
            ],
            [
             0.9,
             "#4d9221"
            ],
            [
             1,
             "#276419"
            ]
           ],
           "sequential": [
            [
             0,
             "#0d0887"
            ],
            [
             0.1111111111111111,
             "#46039f"
            ],
            [
             0.2222222222222222,
             "#7201a8"
            ],
            [
             0.3333333333333333,
             "#9c179e"
            ],
            [
             0.4444444444444444,
             "#bd3786"
            ],
            [
             0.5555555555555556,
             "#d8576b"
            ],
            [
             0.6666666666666666,
             "#ed7953"
            ],
            [
             0.7777777777777778,
             "#fb9f3a"
            ],
            [
             0.8888888888888888,
             "#fdca26"
            ],
            [
             1,
             "#f0f921"
            ]
           ],
           "sequentialminus": [
            [
             0,
             "#0d0887"
            ],
            [
             0.1111111111111111,
             "#46039f"
            ],
            [
             0.2222222222222222,
             "#7201a8"
            ],
            [
             0.3333333333333333,
             "#9c179e"
            ],
            [
             0.4444444444444444,
             "#bd3786"
            ],
            [
             0.5555555555555556,
             "#d8576b"
            ],
            [
             0.6666666666666666,
             "#ed7953"
            ],
            [
             0.7777777777777778,
             "#fb9f3a"
            ],
            [
             0.8888888888888888,
             "#fdca26"
            ],
            [
             1,
             "#f0f921"
            ]
           ]
          },
          "colorway": [
           "#636efa",
           "#EF553B",
           "#00cc96",
           "#ab63fa",
           "#FFA15A",
           "#19d3f3",
           "#FF6692",
           "#B6E880",
           "#FF97FF",
           "#FECB52"
          ],
          "font": {
           "color": "#2a3f5f"
          },
          "geo": {
           "bgcolor": "white",
           "lakecolor": "white",
           "landcolor": "#E5ECF6",
           "showlakes": true,
           "showland": true,
           "subunitcolor": "white"
          },
          "hoverlabel": {
           "align": "left"
          },
          "hovermode": "closest",
          "mapbox": {
           "style": "light"
          },
          "paper_bgcolor": "white",
          "plot_bgcolor": "#E5ECF6",
          "polar": {
           "angularaxis": {
            "gridcolor": "white",
            "linecolor": "white",
            "ticks": ""
           },
           "bgcolor": "#E5ECF6",
           "radialaxis": {
            "gridcolor": "white",
            "linecolor": "white",
            "ticks": ""
           }
          },
          "scene": {
           "xaxis": {
            "backgroundcolor": "#E5ECF6",
            "gridcolor": "white",
            "gridwidth": 2,
            "linecolor": "white",
            "showbackground": true,
            "ticks": "",
            "zerolinecolor": "white"
           },
           "yaxis": {
            "backgroundcolor": "#E5ECF6",
            "gridcolor": "white",
            "gridwidth": 2,
            "linecolor": "white",
            "showbackground": true,
            "ticks": "",
            "zerolinecolor": "white"
           },
           "zaxis": {
            "backgroundcolor": "#E5ECF6",
            "gridcolor": "white",
            "gridwidth": 2,
            "linecolor": "white",
            "showbackground": true,
            "ticks": "",
            "zerolinecolor": "white"
           }
          },
          "shapedefaults": {
           "line": {
            "color": "#2a3f5f"
           }
          },
          "ternary": {
           "aaxis": {
            "gridcolor": "white",
            "linecolor": "white",
            "ticks": ""
           },
           "baxis": {
            "gridcolor": "white",
            "linecolor": "white",
            "ticks": ""
           },
           "bgcolor": "#E5ECF6",
           "caxis": {
            "gridcolor": "white",
            "linecolor": "white",
            "ticks": ""
           }
          },
          "title": {
           "x": 0.05
          },
          "xaxis": {
           "automargin": true,
           "gridcolor": "white",
           "linecolor": "white",
           "ticks": "",
           "title": {
            "standoff": 15
           },
           "zerolinecolor": "white",
           "zerolinewidth": 2
          },
          "yaxis": {
           "automargin": true,
           "gridcolor": "white",
           "linecolor": "white",
           "ticks": "",
           "title": {
            "standoff": 15
           },
           "zerolinecolor": "white",
           "zerolinewidth": 2
          }
         }
        },
        "title": {
         "text": "Plotly Plot"
        }
       }
      }
     },
     "metadata": {},
     "output_type": "display_data"
    },
    {
     "data": {
      "text/plain": [
       "False"
      ]
     },
     "execution_count": 2,
     "metadata": {},
     "output_type": "execute_result"
    }
   ],
   "source": [
    "# Note that the coordinates of the vertices will change after equilibrium is reached.\n",
    "model_name  = '3D_structure_1'\n",
    "vertices    = np.array([[-10, 0, 0], \n",
    "                        [-5, 0, 0], \n",
    "                        [5, 0, 0],\n",
    "                        [10, 0, 0],\n",
    "                        [0, 10, 0],\n",
    "                        [0, 5, 0],\n",
    "                        [0, -5, 0],\n",
    "                        [0, -10, 0],\n",
    "                        [-10, 0, 10], \n",
    "                        [-5, 0, 5], \n",
    "                        [5, 0, 5],\n",
    "                        [10, 0, 10],\n",
    "                        [0, 10, 10],\n",
    "                        [0, 5, 5],\n",
    "                        [0, -5, 5],\n",
    "                        [0, -10, 10]])*10  # The coordinates of the vertices in mm\n",
    "edges       = [[0, 1], [1, 6], [6, 2], [3, 2], [2, 5], [1, 5], [6, 7], [5, 4],\n",
    "               [8, 9], [9, 14], [10, 14], [11, 10], [10, 13], [13, 9], [14, 15], [13, 12],\n",
    "               [9, 1], [5, 13], [2, 10], [14, 6]]                  # The edges of the network.\n",
    "paths       = [[0, 1, 2, 4 ,7], [8, 16, 5, 17, 15], [11, 12, 13, 9, 14], [3, 18, 10, 19, 6]]   # 3D printable paths. Ensure an edge is not flipped.]\n",
    "directions  = [1, 1, 1, 1, 1, 1, 1, 1,\n",
    "               1, 1, 1, 1, 1, 1, 1, 1,\n",
    "               1, 1, 1, 1]          # Flip the curvature of an edge by setting the direction to -1.\n",
    "\n",
    "q_ring      = .7\n",
    "q_connectors = .5\n",
    "\n",
    "q           = np.array([q_connectors, q_ring, q_ring, q_connectors, q_ring, q_ring, q_connectors, q_connectors,\n",
    "                        q_connectors, q_ring, q_ring, q_connectors, q_ring, q_ring, q_connectors, q_connectors,\n",
    "                        q_ring, q_ring, q_ring, q_ring])/20\n",
    "fixed       = [0, 3, 4, 7, 8, 11, 12, 15]  # Fixed vertices\n",
    "\n",
    "# Create the network\n",
    "net = Network_custom.from_fd(vertices, edges, q, fixed, paths = paths, dir = directions)\n",
    "\n",
    "# The topology of structure is fixed after generation, but you can update force densities after making the network\n",
    "# q[0] = .10\n",
    "# net.update_shape(q)\n",
    "\n",
    "# Plot the network like this\n",
    "net.net_plot(color=True, elables = True, vlabels = False)\n",
    "\n",
    "(net.vertices == vertices).all() # Please understand that this is False"
   ]
  },
  {
   "cell_type": "code",
   "execution_count": 3,
   "metadata": {},
   "outputs": [
    {
     "name": "stderr",
     "output_type": "stream",
     "text": [
      "c:\\Users\\thijs\\Documents\\GitHub\\printing-tensioned-structures\\src\\network.py:207: SparseEfficiencyWarning:\n",
      "\n",
      "spsolve requires A be CSC or CSR matrix format\n",
      "\n",
      "c:\\Users\\thijs\\Documents\\GitHub\\printing-tensioned-structures\\src\\network.py:207: SparseEfficiencyWarning:\n",
      "\n",
      "spsolve is more efficient when sparse b is in the CSC matrix format\n",
      "\n"
     ]
    },
    {
     "data": {
      "text/plain": [
       "(array([68.48854816, 32.98445167, 32.98445167, 68.48854816, 32.98445167,\n",
       "        32.98445167, 68.48854816, 68.48854816, 68.48854816, 32.98445167,\n",
       "        32.98445167, 68.48854816, 32.98445167, 32.98445167, 68.48854816,\n",
       "        68.48854816, 24.12704901, 24.12704901, 24.12704901, 24.12704901]),\n",
       " 0.8313588393675654)"
      ]
     },
     "execution_count": 3,
     "metadata": {},
     "output_type": "execute_result"
    }
   ],
   "source": [
    "TPU = {'E':130, 'v':0.3897, 'p':1.18e-9, 'A':0.11*0.71, 'name': 'TPU conductive'} # Conductive TPU. Manufacturer Ninjatek Eel\n",
    "\n",
    "net.set_material(TPU) # By saving the material properties in the network, we can easily see how the network was constructed.\n",
    "\n",
    "# If all elements will get the same material, you can use the following line\n",
    "E = [TPU['E']]*len(net.edges)\n",
    "A = [TPU['A']]*len(net.edges)\n",
    "l0, l_scalar = net.materialize(E, A)\n",
    "\n",
    "# Yielding the initial lengths of each element. And the following scalar: min(l0/l1)\n",
    "net.l0, net.l_scalar"
   ]
  },
  {
   "cell_type": "code",
   "execution_count": 4,
   "metadata": {},
   "outputs": [
    {
     "data": {
      "application/vnd.plotly.v1+json": {
       "config": {
        "plotlyServerURL": "https://plot.ly"
       },
       "data": [
        {
         "line": {
          "color": [
           2.059536295065596,
           2.059536295065596,
           0,
           1.3025651232383768,
           1.3025651232383768,
           0,
           1.3025651232383768,
           1.3025651232383768,
           0,
           2.059536295065596,
           2.059536295065596,
           0,
           1.3025651232383768,
           1.3025651232383768,
           0,
           1.3025651232383768,
           1.3025651232383768,
           0,
           2.0595362950655955,
           2.0595362950655955,
           0,
           2.0595362950655955,
           2.0595362950655955,
           0,
           2.059536295065596,
           2.059536295065596,
           0,
           1.3025651232383768,
           1.3025651232383768,
           0,
           1.3025651232383768,
           1.3025651232383768,
           0,
           2.059536295065596,
           2.059536295065596,
           0,
           1.3025651232383768,
           1.3025651232383768,
           0,
           1.3025651232383768,
           1.3025651232383768,
           0,
           2.059536295065596,
           2.059536295065596,
           0,
           2.059536295065596,
           2.059536295065596,
           0,
           0.9210526315789473,
           0.9210526315789473,
           0,
           0.9210526315789476,
           0.9210526315789476,
           0,
           0.9210526315789473,
           0.9210526315789473,
           0,
           0.9210526315789471,
           0.9210526315789471,
           0
          ],
          "colorbar": {
           "title": {
            "text": "Force"
           }
          },
          "colorscale": [
           [
            0,
            "#440154"
           ],
           [
            0.1111111111111111,
            "#482878"
           ],
           [
            0.2222222222222222,
            "#3e4989"
           ],
           [
            0.3333333333333333,
            "#31688e"
           ],
           [
            0.4444444444444444,
            "#26828e"
           ],
           [
            0.5555555555555556,
            "#1f9e89"
           ],
           [
            0.6666666666666666,
            "#35b779"
           ],
           [
            0.7777777777777778,
            "#6ece58"
           ],
           [
            0.8888888888888888,
            "#b5de2b"
           ],
           [
            1,
            "#fde725"
           ]
          ],
          "showscale": true,
          "width": 3
         },
         "mode": "lines",
         "type": "scatter3d",
         "x": [
          0,
          21.12756005549103,
          null,
          21.12756005549103,
          42.6862948059921,
          null,
          42.6862948059921,
          21.127560055491028,
          null,
          0,
          21.127560055491028,
          null,
          21.127560055491028,
          -0.4311746950100357,
          null,
          21.12756005549103,
          -0.4311746950100357,
          null,
          42.6862948059921,
          81.92319205190405,
          null,
          -0.4311746950100357,
          -81.92319205190405,
          null,
          57.346234436332836,
          36.21867438084177,
          null,
          36.21867438084177,
          57.777409131342836,
          null,
          36.218674380841776,
          57.777409131342836,
          null,
          57.346234436332836,
          36.218674380841776,
          null,
          36.218674380841776,
          14.659939630340716,
          null,
          14.659939630340716,
          36.21867438084177,
          null,
          57.777409131342836,
          139.2694264882369,
          null,
          14.659939630340716,
          -24.576957615571217,
          null,
          36.21867438084177,
          21.12756005549103,
          null,
          -0.4311746950100357,
          14.659939630340716,
          null,
          21.127560055491028,
          36.218674380841776,
          null,
          57.777409131342836,
          42.6862948059921,
          null
         ],
         "y": [
          -98.68415319342448,
          -30.8496911254612,
          null,
          -30.8496911254612,
          -2.4400885635957983,
          null,
          -2.4400885635957983,
          21.089336871077997,
          null,
          98.68415319342448,
          21.089336871077997,
          null,
          21.089336871077997,
          -7.320265690787405,
          null,
          -30.8496911254612,
          -7.320265690787405,
          null,
          -2.4400885635957983,
          9.272336541664046,
          null,
          -7.320265690787405,
          -9.272336541664046,
          null,
          -111.93034825294454,
          -34.335531930598066,
          null,
          -34.335531930598066,
          -5.925929368732659,
          null,
          17.603496065941137,
          -5.925929368732659,
          null,
          85.43795813390442,
          17.603496065941137,
          null,
          17.603496065941137,
          -10.806106495924267,
          null,
          -10.806106495924267,
          -34.335531930598066,
          null,
          -5.925929368732659,
          -3.9738585178560193,
          null,
          -10.806106495924267,
          -22.51853160118411,
          null,
          -34.335531930598066,
          -30.8496911254612,
          null,
          -7.320265690787405,
          -10.806106495924267,
          null,
          21.089336871077997,
          17.603496065941137,
          null,
          -5.925929368732659,
          -2.4400885635957983,
          null
         ],
         "z": [
          0,
          0,
          null,
          0,
          0,
          null,
          0,
          0,
          null,
          0,
          0,
          null,
          0,
          0,
          null,
          0,
          0,
          null,
          0,
          0,
          null,
          0,
          0,
          null,
          0,
          0,
          null,
          0,
          0,
          null,
          0,
          0,
          null,
          0,
          0,
          null,
          0,
          0,
          null,
          0,
          0,
          null,
          0,
          0,
          null,
          0,
          0,
          null,
          0,
          0,
          null,
          0,
          0,
          null,
          0,
          0,
          null,
          0,
          0,
          null
         ]
        },
        {
         "mode": "text",
         "text": [
          "0"
         ],
         "type": "scatter3d",
         "x": [
          0
         ],
         "y": [
          -98.68415319342448
         ],
         "z": [
          0
         ]
        },
        {
         "mode": "text",
         "text": [
          "1"
         ],
         "type": "scatter3d",
         "x": [
          21.12756005549103
         ],
         "y": [
          -30.8496911254612
         ],
         "z": [
          0
         ]
        },
        {
         "mode": "text",
         "text": [
          "2"
         ],
         "type": "scatter3d",
         "x": [
          21.127560055491028
         ],
         "y": [
          21.089336871077997
         ],
         "z": [
          0
         ]
        },
        {
         "mode": "text",
         "text": [
          "3"
         ],
         "type": "scatter3d",
         "x": [
          0
         ],
         "y": [
          98.68415319342448
         ],
         "z": [
          0
         ]
        },
        {
         "mode": "text",
         "text": [
          "4"
         ],
         "type": "scatter3d",
         "x": [
          -81.92319205190405
         ],
         "y": [
          -9.272336541664046
         ],
         "z": [
          0
         ]
        },
        {
         "mode": "text",
         "text": [
          "5"
         ],
         "type": "scatter3d",
         "x": [
          -0.4311746950100357
         ],
         "y": [
          -7.320265690787405
         ],
         "z": [
          0
         ]
        },
        {
         "mode": "text",
         "text": [
          "6"
         ],
         "type": "scatter3d",
         "x": [
          42.6862948059921
         ],
         "y": [
          -2.4400885635957983
         ],
         "z": [
          0
         ]
        },
        {
         "mode": "text",
         "text": [
          "7"
         ],
         "type": "scatter3d",
         "x": [
          81.92319205190405
         ],
         "y": [
          9.272336541664046
         ],
         "z": [
          0
         ]
        },
        {
         "mode": "text",
         "text": [
          "8"
         ],
         "type": "scatter3d",
         "x": [
          57.346234436332836
         ],
         "y": [
          -111.93034825294454
         ],
         "z": [
          0
         ]
        },
        {
         "mode": "text",
         "text": [
          "9"
         ],
         "type": "scatter3d",
         "x": [
          36.21867438084177
         ],
         "y": [
          -34.335531930598066
         ],
         "z": [
          0
         ]
        },
        {
         "mode": "text",
         "text": [
          "10"
         ],
         "type": "scatter3d",
         "x": [
          36.218674380841776
         ],
         "y": [
          17.603496065941137
         ],
         "z": [
          0
         ]
        },
        {
         "mode": "text",
         "text": [
          "11"
         ],
         "type": "scatter3d",
         "x": [
          57.346234436332836
         ],
         "y": [
          85.43795813390442
         ],
         "z": [
          0
         ]
        },
        {
         "mode": "text",
         "text": [
          "12"
         ],
         "type": "scatter3d",
         "x": [
          -24.576957615571217
         ],
         "y": [
          -22.51853160118411
         ],
         "z": [
          0
         ]
        },
        {
         "mode": "text",
         "text": [
          "13"
         ],
         "type": "scatter3d",
         "x": [
          14.659939630340716
         ],
         "y": [
          -10.806106495924267
         ],
         "z": [
          0
         ]
        },
        {
         "mode": "text",
         "text": [
          "14"
         ],
         "type": "scatter3d",
         "x": [
          57.777409131342836
         ],
         "y": [
          -5.925929368732659
         ],
         "z": [
          0
         ]
        },
        {
         "mode": "text",
         "text": [
          "15"
         ],
         "type": "scatter3d",
         "x": [
          139.2694264882369
         ],
         "y": [
          -3.9738585178560193
         ],
         "z": [
          0
         ]
        }
       ],
       "layout": {
        "scene": {
         "aspectmode": "data"
        },
        "template": {
         "data": {
          "bar": [
           {
            "error_x": {
             "color": "#2a3f5f"
            },
            "error_y": {
             "color": "#2a3f5f"
            },
            "marker": {
             "line": {
              "color": "#E5ECF6",
              "width": 0.5
             },
             "pattern": {
              "fillmode": "overlay",
              "size": 10,
              "solidity": 0.2
             }
            },
            "type": "bar"
           }
          ],
          "barpolar": [
           {
            "marker": {
             "line": {
              "color": "#E5ECF6",
              "width": 0.5
             },
             "pattern": {
              "fillmode": "overlay",
              "size": 10,
              "solidity": 0.2
             }
            },
            "type": "barpolar"
           }
          ],
          "carpet": [
           {
            "aaxis": {
             "endlinecolor": "#2a3f5f",
             "gridcolor": "white",
             "linecolor": "white",
             "minorgridcolor": "white",
             "startlinecolor": "#2a3f5f"
            },
            "baxis": {
             "endlinecolor": "#2a3f5f",
             "gridcolor": "white",
             "linecolor": "white",
             "minorgridcolor": "white",
             "startlinecolor": "#2a3f5f"
            },
            "type": "carpet"
           }
          ],
          "choropleth": [
           {
            "colorbar": {
             "outlinewidth": 0,
             "ticks": ""
            },
            "type": "choropleth"
           }
          ],
          "contour": [
           {
            "colorbar": {
             "outlinewidth": 0,
             "ticks": ""
            },
            "colorscale": [
             [
              0,
              "#0d0887"
             ],
             [
              0.1111111111111111,
              "#46039f"
             ],
             [
              0.2222222222222222,
              "#7201a8"
             ],
             [
              0.3333333333333333,
              "#9c179e"
             ],
             [
              0.4444444444444444,
              "#bd3786"
             ],
             [
              0.5555555555555556,
              "#d8576b"
             ],
             [
              0.6666666666666666,
              "#ed7953"
             ],
             [
              0.7777777777777778,
              "#fb9f3a"
             ],
             [
              0.8888888888888888,
              "#fdca26"
             ],
             [
              1,
              "#f0f921"
             ]
            ],
            "type": "contour"
           }
          ],
          "contourcarpet": [
           {
            "colorbar": {
             "outlinewidth": 0,
             "ticks": ""
            },
            "type": "contourcarpet"
           }
          ],
          "heatmap": [
           {
            "colorbar": {
             "outlinewidth": 0,
             "ticks": ""
            },
            "colorscale": [
             [
              0,
              "#0d0887"
             ],
             [
              0.1111111111111111,
              "#46039f"
             ],
             [
              0.2222222222222222,
              "#7201a8"
             ],
             [
              0.3333333333333333,
              "#9c179e"
             ],
             [
              0.4444444444444444,
              "#bd3786"
             ],
             [
              0.5555555555555556,
              "#d8576b"
             ],
             [
              0.6666666666666666,
              "#ed7953"
             ],
             [
              0.7777777777777778,
              "#fb9f3a"
             ],
             [
              0.8888888888888888,
              "#fdca26"
             ],
             [
              1,
              "#f0f921"
             ]
            ],
            "type": "heatmap"
           }
          ],
          "heatmapgl": [
           {
            "colorbar": {
             "outlinewidth": 0,
             "ticks": ""
            },
            "colorscale": [
             [
              0,
              "#0d0887"
             ],
             [
              0.1111111111111111,
              "#46039f"
             ],
             [
              0.2222222222222222,
              "#7201a8"
             ],
             [
              0.3333333333333333,
              "#9c179e"
             ],
             [
              0.4444444444444444,
              "#bd3786"
             ],
             [
              0.5555555555555556,
              "#d8576b"
             ],
             [
              0.6666666666666666,
              "#ed7953"
             ],
             [
              0.7777777777777778,
              "#fb9f3a"
             ],
             [
              0.8888888888888888,
              "#fdca26"
             ],
             [
              1,
              "#f0f921"
             ]
            ],
            "type": "heatmapgl"
           }
          ],
          "histogram": [
           {
            "marker": {
             "pattern": {
              "fillmode": "overlay",
              "size": 10,
              "solidity": 0.2
             }
            },
            "type": "histogram"
           }
          ],
          "histogram2d": [
           {
            "colorbar": {
             "outlinewidth": 0,
             "ticks": ""
            },
            "colorscale": [
             [
              0,
              "#0d0887"
             ],
             [
              0.1111111111111111,
              "#46039f"
             ],
             [
              0.2222222222222222,
              "#7201a8"
             ],
             [
              0.3333333333333333,
              "#9c179e"
             ],
             [
              0.4444444444444444,
              "#bd3786"
             ],
             [
              0.5555555555555556,
              "#d8576b"
             ],
             [
              0.6666666666666666,
              "#ed7953"
             ],
             [
              0.7777777777777778,
              "#fb9f3a"
             ],
             [
              0.8888888888888888,
              "#fdca26"
             ],
             [
              1,
              "#f0f921"
             ]
            ],
            "type": "histogram2d"
           }
          ],
          "histogram2dcontour": [
           {
            "colorbar": {
             "outlinewidth": 0,
             "ticks": ""
            },
            "colorscale": [
             [
              0,
              "#0d0887"
             ],
             [
              0.1111111111111111,
              "#46039f"
             ],
             [
              0.2222222222222222,
              "#7201a8"
             ],
             [
              0.3333333333333333,
              "#9c179e"
             ],
             [
              0.4444444444444444,
              "#bd3786"
             ],
             [
              0.5555555555555556,
              "#d8576b"
             ],
             [
              0.6666666666666666,
              "#ed7953"
             ],
             [
              0.7777777777777778,
              "#fb9f3a"
             ],
             [
              0.8888888888888888,
              "#fdca26"
             ],
             [
              1,
              "#f0f921"
             ]
            ],
            "type": "histogram2dcontour"
           }
          ],
          "mesh3d": [
           {
            "colorbar": {
             "outlinewidth": 0,
             "ticks": ""
            },
            "type": "mesh3d"
           }
          ],
          "parcoords": [
           {
            "line": {
             "colorbar": {
              "outlinewidth": 0,
              "ticks": ""
             }
            },
            "type": "parcoords"
           }
          ],
          "pie": [
           {
            "automargin": true,
            "type": "pie"
           }
          ],
          "scatter": [
           {
            "fillpattern": {
             "fillmode": "overlay",
             "size": 10,
             "solidity": 0.2
            },
            "type": "scatter"
           }
          ],
          "scatter3d": [
           {
            "line": {
             "colorbar": {
              "outlinewidth": 0,
              "ticks": ""
             }
            },
            "marker": {
             "colorbar": {
              "outlinewidth": 0,
              "ticks": ""
             }
            },
            "type": "scatter3d"
           }
          ],
          "scattercarpet": [
           {
            "marker": {
             "colorbar": {
              "outlinewidth": 0,
              "ticks": ""
             }
            },
            "type": "scattercarpet"
           }
          ],
          "scattergeo": [
           {
            "marker": {
             "colorbar": {
              "outlinewidth": 0,
              "ticks": ""
             }
            },
            "type": "scattergeo"
           }
          ],
          "scattergl": [
           {
            "marker": {
             "colorbar": {
              "outlinewidth": 0,
              "ticks": ""
             }
            },
            "type": "scattergl"
           }
          ],
          "scattermapbox": [
           {
            "marker": {
             "colorbar": {
              "outlinewidth": 0,
              "ticks": ""
             }
            },
            "type": "scattermapbox"
           }
          ],
          "scatterpolar": [
           {
            "marker": {
             "colorbar": {
              "outlinewidth": 0,
              "ticks": ""
             }
            },
            "type": "scatterpolar"
           }
          ],
          "scatterpolargl": [
           {
            "marker": {
             "colorbar": {
              "outlinewidth": 0,
              "ticks": ""
             }
            },
            "type": "scatterpolargl"
           }
          ],
          "scatterternary": [
           {
            "marker": {
             "colorbar": {
              "outlinewidth": 0,
              "ticks": ""
             }
            },
            "type": "scatterternary"
           }
          ],
          "surface": [
           {
            "colorbar": {
             "outlinewidth": 0,
             "ticks": ""
            },
            "colorscale": [
             [
              0,
              "#0d0887"
             ],
             [
              0.1111111111111111,
              "#46039f"
             ],
             [
              0.2222222222222222,
              "#7201a8"
             ],
             [
              0.3333333333333333,
              "#9c179e"
             ],
             [
              0.4444444444444444,
              "#bd3786"
             ],
             [
              0.5555555555555556,
              "#d8576b"
             ],
             [
              0.6666666666666666,
              "#ed7953"
             ],
             [
              0.7777777777777778,
              "#fb9f3a"
             ],
             [
              0.8888888888888888,
              "#fdca26"
             ],
             [
              1,
              "#f0f921"
             ]
            ],
            "type": "surface"
           }
          ],
          "table": [
           {
            "cells": {
             "fill": {
              "color": "#EBF0F8"
             },
             "line": {
              "color": "white"
             }
            },
            "header": {
             "fill": {
              "color": "#C8D4E3"
             },
             "line": {
              "color": "white"
             }
            },
            "type": "table"
           }
          ]
         },
         "layout": {
          "annotationdefaults": {
           "arrowcolor": "#2a3f5f",
           "arrowhead": 0,
           "arrowwidth": 1
          },
          "autotypenumbers": "strict",
          "coloraxis": {
           "colorbar": {
            "outlinewidth": 0,
            "ticks": ""
           }
          },
          "colorscale": {
           "diverging": [
            [
             0,
             "#8e0152"
            ],
            [
             0.1,
             "#c51b7d"
            ],
            [
             0.2,
             "#de77ae"
            ],
            [
             0.3,
             "#f1b6da"
            ],
            [
             0.4,
             "#fde0ef"
            ],
            [
             0.5,
             "#f7f7f7"
            ],
            [
             0.6,
             "#e6f5d0"
            ],
            [
             0.7,
             "#b8e186"
            ],
            [
             0.8,
             "#7fbc41"
            ],
            [
             0.9,
             "#4d9221"
            ],
            [
             1,
             "#276419"
            ]
           ],
           "sequential": [
            [
             0,
             "#0d0887"
            ],
            [
             0.1111111111111111,
             "#46039f"
            ],
            [
             0.2222222222222222,
             "#7201a8"
            ],
            [
             0.3333333333333333,
             "#9c179e"
            ],
            [
             0.4444444444444444,
             "#bd3786"
            ],
            [
             0.5555555555555556,
             "#d8576b"
            ],
            [
             0.6666666666666666,
             "#ed7953"
            ],
            [
             0.7777777777777778,
             "#fb9f3a"
            ],
            [
             0.8888888888888888,
             "#fdca26"
            ],
            [
             1,
             "#f0f921"
            ]
           ],
           "sequentialminus": [
            [
             0,
             "#0d0887"
            ],
            [
             0.1111111111111111,
             "#46039f"
            ],
            [
             0.2222222222222222,
             "#7201a8"
            ],
            [
             0.3333333333333333,
             "#9c179e"
            ],
            [
             0.4444444444444444,
             "#bd3786"
            ],
            [
             0.5555555555555556,
             "#d8576b"
            ],
            [
             0.6666666666666666,
             "#ed7953"
            ],
            [
             0.7777777777777778,
             "#fb9f3a"
            ],
            [
             0.8888888888888888,
             "#fdca26"
            ],
            [
             1,
             "#f0f921"
            ]
           ]
          },
          "colorway": [
           "#636efa",
           "#EF553B",
           "#00cc96",
           "#ab63fa",
           "#FFA15A",
           "#19d3f3",
           "#FF6692",
           "#B6E880",
           "#FF97FF",
           "#FECB52"
          ],
          "font": {
           "color": "#2a3f5f"
          },
          "geo": {
           "bgcolor": "white",
           "lakecolor": "white",
           "landcolor": "#E5ECF6",
           "showlakes": true,
           "showland": true,
           "subunitcolor": "white"
          },
          "hoverlabel": {
           "align": "left"
          },
          "hovermode": "closest",
          "mapbox": {
           "style": "light"
          },
          "paper_bgcolor": "white",
          "plot_bgcolor": "#E5ECF6",
          "polar": {
           "angularaxis": {
            "gridcolor": "white",
            "linecolor": "white",
            "ticks": ""
           },
           "bgcolor": "#E5ECF6",
           "radialaxis": {
            "gridcolor": "white",
            "linecolor": "white",
            "ticks": ""
           }
          },
          "scene": {
           "xaxis": {
            "backgroundcolor": "#E5ECF6",
            "gridcolor": "white",
            "gridwidth": 2,
            "linecolor": "white",
            "showbackground": true,
            "ticks": "",
            "zerolinecolor": "white"
           },
           "yaxis": {
            "backgroundcolor": "#E5ECF6",
            "gridcolor": "white",
            "gridwidth": 2,
            "linecolor": "white",
            "showbackground": true,
            "ticks": "",
            "zerolinecolor": "white"
           },
           "zaxis": {
            "backgroundcolor": "#E5ECF6",
            "gridcolor": "white",
            "gridwidth": 2,
            "linecolor": "white",
            "showbackground": true,
            "ticks": "",
            "zerolinecolor": "white"
           }
          },
          "shapedefaults": {
           "line": {
            "color": "#2a3f5f"
           }
          },
          "ternary": {
           "aaxis": {
            "gridcolor": "white",
            "linecolor": "white",
            "ticks": ""
           },
           "baxis": {
            "gridcolor": "white",
            "linecolor": "white",
            "ticks": ""
           },
           "bgcolor": "#E5ECF6",
           "caxis": {
            "gridcolor": "white",
            "linecolor": "white",
            "ticks": ""
           }
          },
          "title": {
           "x": 0.05
          },
          "xaxis": {
           "automargin": true,
           "gridcolor": "white",
           "linecolor": "white",
           "ticks": "",
           "title": {
            "standoff": 15
           },
           "zerolinecolor": "white",
           "zerolinewidth": 2
          },
          "yaxis": {
           "automargin": true,
           "gridcolor": "white",
           "linecolor": "white",
           "ticks": "",
           "title": {
            "standoff": 15
           },
           "zerolinecolor": "white",
           "zerolinewidth": 2
          }
         }
        },
        "title": {
         "text": "Plotly Plot"
        }
       }
      }
     },
     "metadata": {},
     "output_type": "display_data"
    }
   ],
   "source": [
    "plane_normal = np.array([0.2, 0.7, 1])\n",
    "net.get_net_projection(plane_normal)\n",
    "net.net_plot(color=True, elables = False, vlabels = True, plot_type = 'projection')"
   ]
  },
  {
   "cell_type": "code",
   "execution_count": 5,
   "metadata": {},
   "outputs": [
    {
     "data": {
      "application/vnd.plotly.v1+json": {
       "config": {
        "plotlyServerURL": "https://plot.ly"
       },
       "data": [
        {
         "line": {
          "color": "black",
          "width": 3
         },
         "mode": "lines",
         "type": "scatter3d",
         "x": [
          0.0331956564768916,
          0.9619986854158924,
          1.8905212770332582,
          2.8187634252972202,
          3.7467251241978374,
          4.674406367732445,
          5.601807149869273,
          6.528927464612934,
          7.455767305938934,
          8.382326667844609,
          9.308605544305465,
          10.23460392934794,
          11.16032181695482,
          12.085759201123437,
          13.010916075843852,
          13.935792435142503,
          14.860388272994896,
          15.784703583427472,
          16.708738360452116,
          17.63249259805889,
          null,
          17.63249259805889,
          18.508916142509406,
          19.3851465545431,
          20.261183819611688,
          21.137027923154164,
          22.012678850629527,
          22.888136587494955,
          23.763401119209448,
          24.638472431242917,
          25.513350509048905,
          26.38803533810278,
          27.262526903878097,
          28.136825191855678,
          29.010930187503618,
          29.88484187631002,
          30.758560243759348,
          31.632085275343343,
          32.505416956555564,
          33.378555272882295,
          34.25150020982801,
          null,
          34.25150020982983,
          33.28812863264466,
          32.324596097410904,
          31.360902616106614,
          30.39704820069528,
          29.43303286315495,
          28.468856615460027,
          27.50451946958492,
          26.540021437513133,
          25.575362531224528,
          24.610542762702607,
          23.645562143932693,
          22.680420686901925,
          21.715118403597444,
          20.749655306015484,
          19.784031406148642,
          18.818246715989517,
          17.852301247534342,
          16.88619501278845,
          15.91992802374807,
          null,
          1.9527933139070228,
          2.684235945875116,
          3.4160863801225787,
          4.148344606881437,
          4.881010616376443,
          5.614084398828709,
          6.347565944452072,
          7.081455243453092,
          7.81575228604197,
          8.550457062410715,
          9.285569562751334,
          10.021089777259476,
          10.757017696101684,
          11.493353309466329,
          12.230096607523592,
          12.96724758043274,
          13.704806218360318,
          14.442772511458315,
          15.181146449871449,
          15.91992802374807,
          null,
          15.919928023751709,
          15.043421906537333,
          14.167118093493627,
          13.291016600587682,
          12.415117443784766,
          11.539420639053787,
          10.663926202350922,
          9.788634149630525,
          8.913544496845134,
          8.038657259941829,
          7.1639724548713275,
          6.2894900975643395,
          5.415210203966126,
          4.541132790005577,
          3.667257871618858,
          2.7935854647239466,
          1.9201155852460943,
          1.0468482491050963,
          0.1737834722171101,
          -0.6990787295108021,
          null,
          17.632492598060708,
          16.66913530403326,
          15.705615468621545,
          14.741933104034615,
          13.77808822247789,
          12.814080836164067,
          11.8499109573022,
          10.885578598108623,
          9.921083770794212,
          8.956426487586214,
          7.991606760693685,
          7.0266246023475105,
          6.06148002476948,
          5.096173040185022,
          4.13070366082502,
          3.1650718989149027,
          2.1992777666910115,
          1.2333212763878691,
          0.2672024402399984,
          -0.6990787295108021,
          null,
          34.25150020983892,
          37.720160959202985,
          41.188710016796904,
          44.65714733768618,
          48.125472876852655,
          51.59368658936182,
          55.061788430259185,
          58.5297783545866,
          61.99765631741138,
          65.46542227373175,
          68.93307617861865,
          72.4006179871194,
          75.86804765431407,
          79.33536513519903,
          82.80257038485615,
          86.26966335833458,
          89.73664401069618,
          93.20351229702283,
          96.67026817232,
          100.13691159167502,
          null,
          -0.6990787295087557,
          -4.299030609555075,
          -7.898963530306901,
          -11.498877453680052,
          -15.09877234161354,
          -18.6986481560391,
          -22.298504858896422,
          -25.898342412101556,
          -29.498160777594876,
          -33.097959917309026,
          -36.69773979318347,
          -40.29750036713676,
          -43.89724160110859,
          -47.496963457032734,
          -51.09666589685071,
          -54.696348882479924,
          -58.29601237586212,
          -61.89565633893176,
          -65.4952807336308,
          -69.09488552187804,
          null,
          55.393369806584815,
          54.66228858051181,
          53.93075943459917,
          53.19878238063393,
          52.466357430392236,
          51.73348459567933,
          51.000163888289535,
          50.26639532003537,
          49.53217890273663,
          48.79751464821311,
          48.06240256829551,
          47.32684267482182,
          46.59083497964093,
          45.854379494598106,
          45.11747623156043,
          44.380125202391355,
          43.6423264189616,
          42.90407989315645,
          42.16538563686845,
          41.42624366198288,
          null,
          41.42624366197924,
          42.302467545569016,
          43.17852047341512,
          44.05440243412522,
          44.93011341630154,
          45.805653408539,
          46.68102239946165,
          47.556220377675345,
          48.431247331787745,
          49.306103250417436,
          50.18078812217573,
          51.055301935688476,
          51.92964467957427,
          52.80381634245532,
          53.677816912957496,
          54.551646379704835,
          55.42530473133775,
          56.29879195648391,
          57.17210804377464,
          58.04525298185217,
          null,
          39.713677802672464,
          40.677673870919534,
          41.64176148091792,
          42.605940628800454,
          43.57021131067813,
          44.53457352267651,
          45.49902726092114,
          46.46357252153757,
          47.42820930064772,
          48.39293759436623,
          49.35775739882229,
          50.32266871013053,
          51.287671524423786,
          52.25276583780942,
          53.21795164640571,
          54.18322894634548,
          55.148597733739734,
          56.114058004714025,
          57.079609755375714,
          58.045252981846716,
          null,
          57.312987348450406,
          56.38376751429314,
          55.45487434328243,
          54.526307843574614,
          53.5980680233406,
          52.67015489075857,
          51.74256845397031,
          50.81530872114672,
          49.88837570044416,
          48.96176940001169,
          48.03548982801294,
          47.10953699258971,
          46.183910901876516,
          45.25861156402971,
          44.333638987183804,
          43.4089931794806,
          42.48467414904735,
          41.56068190401129,
          40.63701645251422,
          39.7136778026761,
          null,
          39.7136778026761,
          38.837610921546,
          37.96169755701703,
          37.08593771827691,
          36.21033141450971,
          35.33487865490679,
          34.45957944864858,
          33.58443380492281,
          32.70944173290627,
          31.834603241779405,
          30.959918340719014,
          30.085387038905537,
          29.211009345513958,
          28.336785269710163,
          27.462714820672772,
          26.588798007565856,
          25.715034839562577,
          24.84142532583428,
          23.96796947553412,
          23.09466729783162,
          null,
          23.094667297824344,
          24.058669580186688,
          25.022762720444007,
          25.98694671478006,
          26.951221559385885,
          27.915587250427052,
          28.88004378408732,
          29.844591156557726,
          30.80922936400748,
          31.773958402620337,
          32.7387782685837,
          33.7036889580595,
          34.66869046723514,
          35.63378279229073,
          36.59896592939913,
          37.56423987474045,
          38.52960462449846,
          39.49506017483873,
          40.460606521937734,
          41.426243661975604,
          null,
          58.04525298183489,
          61.645236579569655,
          65.24519774764985,
          68.84513643250693,
          72.44505258046706,
          76.04494613796169,
          79.64481705131789,
          83.24466526696779,
          86.84449073126598,
          90.44429339056614,
          94.04407319130178,
          97.64383007980155,
          101.24356400249962,
          104.84327490575129,
          108.44296273591294,
          112.04262743941922,
          115.64226896260107,
          119.24188725189379,
          122.84148225362856,
          126.44105391424205,
          null,
          23.09466729782889,
          19.62586110070515,
          16.157182655770157,
          12.688632021920967,
          9.220209258030081,
          5.751914422972732,
          2.2837475756368804,
          -1.1842912251113376,
          -4.6522019203903255,
          -8.119984451334858,
          -11.587638759080619,
          -15.055164784751469,
          -18.52256246948855,
          -21.989831754435727,
          -25.456972580720503,
          -28.92398488949948,
          -32.39086862190197,
          -35.85762371908277,
          -39.324250122197554,
          -42.79074777238293,
          null,
          41.426243661984245,
          40.17406310886963,
          38.92186895578243,
          37.66966120793268,
          36.41743987051268,
          35.16520494873157,
          33.91295644778165,
          32.66069437287251,
          31.408418729197365,
          30.15612952196534,
          28.9038267563692,
          27.651510437618526,
          26.399180570906537,
          25.146837161442818,
          23.894480214420582,
          22.64210973504987,
          21.389725728523445,
          20.137328200051797,
          18.884917154827235,
          17.632492598061162,
          null,
          -0.6990787295103473,
          0.552964396809557,
          1.8050364663204164,
          3.057137455655038,
          4.309267341423038,
          5.561426100232438,
          6.813613708716048,
          8.065830143480298,
          9.31807538113253,
          10.570349398303279,
          11.822652171598293,
          13.074983677630371,
          14.327343893004581,
          15.579732794349411,
          16.832150358268336,
          18.084596561363924,
          19.337071380263296,
          20.589574791568793,
          21.842106771881618,
          23.094667297826618,
          null,
          15.919928023742614,
          17.172045739765508,
          18.424184068143404,
          19.67634299696965,
          20.9285225143376,
          22.18072260832878,
          23.432943267059272,
          24.6851844786097,
          25.937446231073864,
          27.189728512542388,
          28.44203131110862,
          29.69435461486364,
          30.946698411899888,
          32.19906269030798,
          33.45144743818037,
          34.70385264359584,
          35.956278294668664,
          37.208724379477644,
          38.461190886113855,
          39.71367780266792,
          null,
          58.04525298229419,
          56.79295051889494,
          55.54064801870845,
          54.28834548546001,
          53.03604291565716,
          51.78374031302519,
          50.53143767360598,
          49.279135001357645,
          48.0268322925549,
          46.774529550690204,
          45.52222677250393,
          44.26992396102287,
          43.0176211129874,
          41.76531823188998,
          40.51301531447098,
          39.260712363990024,
          38.00840937695466,
          36.756106356857345,
          35.50380330020562,
          34.25150021049194,
          null
         ],
         "y": [
          -98.77013053344854,
          -95.28718612723424,
          -91.80416694839005,
          -88.32107301949327,
          -84.83790436316303,
          -81.35466100190752,
          -77.87134295834221,
          -74.38795025505169,
          -70.90448291461689,
          -67.42094095962238,
          -63.93732441268912,
          -60.45363329632346,
          -56.96986763314999,
          -53.48602744575328,
          -50.00211275671609,
          -46.51812358862844,
          -43.03405996411129,
          -39.549921905676456,
          -36.06570943594852,
          -32.581422577519334,
          null,
          -32.581422577519334,
          -31.082869840990497,
          -29.58420416831632,
          -28.085425584376935,
          -26.586534114084316,
          -25.087529782323145,
          -23.58841261399084,
          -22.08918263398573,
          -20.589839867196133,
          -19.090384338544936,
          -17.590816072927737,
          -16.09113509524832,
          -14.59134143040501,
          -13.091435103326148,
          -11.59141613891552,
          -10.091284562084184,
          -8.591040397747747,
          -7.0906836708136325,
          -5.590214406221094,
          -4.089632628880281,
          null,
          -4.089632628880281,
          -2.6454395189557545,
          -1.201353791568181,
          0.24262453533810913,
          1.686495443824242,
          3.1302589159604395,
          4.573914933807828,
          6.017463479431171,
          7.460904534900692,
          8.90423808228661,
          10.347464103651873,
          11.790582581077615,
          13.23359349663042,
          14.676496832385965,
          16.11929257042175,
          17.56198069281527,
          19.004561181638564,
          20.44703401897823,
          21.88939918691176,
          23.33165666752211,
          null,
          90.38088106912528,
          86.85121132933091,
          83.32162612173397,
          79.79212549342537,
          76.26270949153331,
          72.73337816318326,
          69.20413155546157,
          65.6749697154919,
          62.145892690398796,
          58.61690052726408,
          55.08799327320776,
          51.55917097533802,
          48.03043368077306,
          44.501781436590136,
          40.97321428990654,
          37.444732287836814,
          33.916335477455505,
          30.388023905877162,
          26.859797620210884,
          23.331656667530297,
          null,
          23.33165666752302,
          21.83315222658166,
          20.33452947209662,
          18.83578843137002,
          17.336929131718534,
          15.837951600461565,
          14.338855864921243,
          12.839641952406055,
          11.340309890245408,
          9.84085970576507,
          8.341291426295356,
          6.8416050791565794,
          5.341800691683602,
          3.841878291212197,
          2.341837905079956,
          0.841679560616285,
          -0.6585967148348573,
          -2.1589908939286033,
          -3.659502949319176,
          -5.160132853669893,
          null,
          -32.581422577517515,
          -31.13721993991203,
          -29.693125738969684,
          -28.249139992984055,
          -26.80526272024872,
          -25.361493939053616,
          -23.917833667686864,
          -22.47428192444022,
          -21.030838727598166,
          -19.587504095445183,
          -18.144278046265754,
          -16.70116059834436,
          -15.258151769960023,
          -13.815251579395408,
          -12.372460044924082,
          -10.92977718482689,
          -9.487203017379215,
          -8.044737560856447,
          -6.602380833526695,
          -5.160132853668983,
          null,
          -4.089632628874824,
          -3.1088322403993516,
          -2.1276369329898444,
          -1.1460467193537625,
          -0.1640616122422216,
          0.8183183756336803,
          1.8010932315337413,
          2.78426294271776,
          3.767827496456448,
          4.751786879969586,
          5.7361410805278865,
          6.7208900853584055,
          7.706033881706389,
          8.69157245678798,
          9.677505797833874,
          10.663833892067487,
          11.650556726694049,
          12.637674288936978,
          13.625186565979675,
          14.61309354504192,
          null,
          -5.160132853670802,
          -5.34431553525792,
          -5.52886841383588,
          -5.713791487440176,
          -5.8990847541208495,
          -6.084748211920669,
          -6.270781858867849,
          -6.457185693005158,
          -6.643959712353535,
          -6.831103914941195,
          -7.018618298789079,
          -7.206502861910849,
          -7.394757602327445,
          -7.583382518045255,
          -7.77237760706339,
          -7.961742867388239,
          -8.151478297018912,
          -8.341583893954521,
          -8.532059656165075,
          -8.722905581649684,
          null,
          -103.62712322140942,
          -100.09737860830319,
          -96.56772679805908,
          -93.03816784752053,
          -89.50870181352275,
          -85.97932875290462,
          -82.4500487225041,
          -78.9208617791528,
          -75.39176797968594,
          -71.86276738093329,
          -68.33386003972464,
          -64.80504601289067,
          -61.2763253572557,
          -57.74769812964587,
          -54.219164386886405,
          -50.69072418579799,
          -47.162377583202215,
          -43.63412463591885,
          -40.10596540076676,
          -36.577899934560264,
          null,
          -36.57789993456572,
          -35.07923044459494,
          -33.580461015378205,
          -32.081591666420536,
          -30.5826224172215,
          -29.083553287299765,
          -27.584384296133976,
          -26.08511546324371,
          -24.58574680813581,
          -23.086278350319844,
          -21.586710109306296,
          -20.087042104608372,
          -18.587274355733825,
          -17.08740688220314,
          -15.587439703528617,
          -14.087372839236195,
          -12.587206308826353,
          -11.08694013182594,
          -9.586574327756352,
          -8.086108916140802,
          null,
          19.335183393708576,
          17.891407054732554,
          16.447691841531196,
          15.004037759897983,
          13.560444815659139,
          12.116913014604506,
          10.673442362542119,
          9.230032865270914,
          7.786684528586193,
          6.343397358308721,
          4.900171360233799,
          3.4570065401621832,
          2.013902903883718,
          0.5708604572246259,
          -0.8721207940270688,
          -2.3150408440669707,
          -3.757899687097961,
          -5.200697317328377,
          -6.6434337289356336,
          -8.086108916133526,
          null,
          85.52388553167657,
          82.04105230273308,
          78.55813193648464,
          75.07512446356304,
          71.59202991461098,
          68.10884832028387,
          64.62557971119168,
          61.142224117991645,
          57.658781571322834,
          54.175252101831575,
          50.6916357401642,
          47.20793251695795,
          43.72414246286462,
          40.240265608528716,
          36.75630198459476,
          33.27225162173272,
          29.788114550550745,
          26.303890801718808,
          22.819580405885063,
          19.3351833937013,
          null,
          19.335183393708576,
          17.836422120268253,
          16.337571122732697,
          14.838630416834349,
          13.339600018281999,
          11.840479942811726,
          10.341270206148693,
          8.841970824025339,
          7.342581812172284,
          5.843103186309236,
          4.343534962175909,
          2.8438771554992854,
          1.3441297820227192,
          -0.1557071425340837,
          -1.6556336024277698,
          -3.1556495819259,
          -4.6557550652887585,
          -6.1559500367748115,
          -7.656234480657076,
          -9.156608381188562,
          null,
          -9.156608381186743,
          -10.600380571044298,
          -12.044092091227867,
          -13.487742936020368,
          -14.931333099713811,
          -16.374862576565647,
          -17.8183313608788,
          -19.261739446927095,
          -20.705086828995263,
          -22.14837350136986,
          -23.591599458350174,
          -25.034764694190017,
          -26.477869203188675,
          -27.920912979627246,
          -29.363896017797742,
          -30.80681831198126,
          -32.24967985647163,
          -33.692480645537216,
          -35.13522067347185,
          -36.57789993456208,
          null,
          -8.086108916137164,
          -7.902547236277314,
          -7.71854619716396,
          -7.534105801525584,
          -7.349226052123413,
          -7.163906951700483,
          -6.978148503025295,
          -6.791950708859076,
          -6.605313571977604,
          -6.418237095160293,
          -6.230721281190199,
          -6.0427661328649265,
          -5.854371652985719,
          -5.665537844353821,
          -5.476264709788666,
          -5.286552252098772,
          -5.096400474118127,
          -4.905809378677077,
          -4.7147789686168835,
          -4.523309246778808,
          null,
          -9.1566083811922,
          -10.136894236802618,
          -11.117632039480668,
          -12.098821772571682,
          -13.08046341942827,
          -14.062556963377574,
          -15.045102387757652,
          -16.028099675877456,
          -17.011548811056855,
          -17.995449776597525,
          -18.979802555797505,
          -19.964607131951198,
          -20.949863488334813,
          -21.9355716082282,
          -22.921731474893022,
          -23.908343071590934,
          -24.895406381576322,
          -25.88292138808174,
          -26.870888074357936,
          -27.85930642362655,
          null,
          -36.577899934560264,
          -36.36683268336128,
          -36.155846131394355,
          -35.944940279528964,
          -35.73411512864186,
          -35.5233706796098,
          -35.31270693330953,
          -35.102123890614166,
          -34.89162155239683,
          -34.6811999195379,
          -34.47085899290323,
          -34.260598773373204,
          -34.0504192618173,
          -33.840320459108625,
          -33.630302366120304,
          -33.42036498372545,
          -33.21050831280081,
          -33.000732354208594,
          -32.79103710882191,
          -32.58142257751388,
          null,
          -5.160132853668983,
          -5.372013787260585,
          -5.583723619143711,
          -5.795262345367519,
          -6.006629961979343,
          -6.217826465030157,
          -6.428851850580031,
          -6.639706114685396,
          -6.850389253408139,
          -7.060901262815605,
          -7.27124213897514,
          -7.481411877959545,
          -7.6914104758416215,
          -7.901237928703267,
          -8.11089423262274,
          -8.320379383685577,
          -8.529693377980948,
          -8.738836211599846,
          -8.947807880633263,
          -9.156608381183105,
          null,
          23.331656667527568,
          23.120216967763554,
          22.908899367876074,
          22.697703869876932,
          22.486630475772472,
          22.275679187572678,
          22.064850007278437,
          21.854142936899734,
          21.643557978435638,
          21.433095133890674,
          21.22275440526755,
          21.012535794565338,
          20.802439303781284,
          20.59246493491446,
          20.382612689962116,
          20.1728825709215,
          19.963274579782592,
          19.753788718540818,
          19.544424989186155,
          19.335183393714033,
          null,
          -8.086108915507793,
          -7.875766195356846,
          -7.66542368195951,
          -7.455081374384463,
          -7.2447392754256725,
          -7.034397383220494,
          -6.824055696837604,
          -6.613714219070971,
          -6.403372947126627,
          -6.193031882867217,
          -5.982691026292741,
          -5.7723503755405545,
          -5.562009932473302,
          -5.351669696159661,
          -5.141329667530954,
          -4.9309898456558585,
          -4.720650230534375,
          -4.510310823097825,
          -4.299971622414887,
          -4.08963262848556,
          null
         ],
         "z": [
          0,
          0,
          0,
          0,
          0,
          0,
          0,
          0,
          0,
          0,
          0,
          0,
          0,
          0,
          0,
          0,
          0,
          0,
          0,
          0,
          null,
          0,
          0,
          0,
          0,
          0,
          0,
          0,
          0,
          0,
          0,
          0,
          0,
          0,
          0,
          0,
          0,
          0,
          0,
          0,
          0,
          null,
          0,
          0,
          0,
          0,
          0,
          0,
          0,
          0,
          0,
          0,
          0,
          0,
          0,
          0,
          0,
          0,
          0,
          0,
          0,
          0,
          null,
          0,
          0,
          0,
          0,
          0,
          0,
          0,
          0,
          0,
          0,
          0,
          0,
          0,
          0,
          0,
          0,
          0,
          0,
          0,
          0,
          null,
          0,
          0,
          0,
          0,
          0,
          0,
          0,
          0,
          0,
          0,
          0,
          0,
          0,
          0,
          0,
          0,
          0,
          0,
          0,
          0,
          null,
          0,
          0,
          0,
          0,
          0,
          0,
          0,
          0,
          0,
          0,
          0,
          0,
          0,
          0,
          0,
          0,
          0,
          0,
          0,
          0,
          null,
          0,
          0,
          0,
          0,
          0,
          0,
          0,
          0,
          0,
          0,
          0,
          0,
          0,
          0,
          0,
          0,
          0,
          0,
          0,
          0,
          null,
          0,
          0,
          0,
          0,
          0,
          0,
          0,
          0,
          0,
          0,
          0,
          0,
          0,
          0,
          0,
          0,
          0,
          0,
          0,
          0,
          null,
          0,
          0,
          0,
          0,
          0,
          0,
          0,
          0,
          0,
          0,
          0,
          0,
          0,
          0,
          0,
          0,
          0,
          0,
          0,
          0,
          null,
          0,
          0,
          0,
          0,
          0,
          0,
          0,
          0,
          0,
          0,
          0,
          0,
          0,
          0,
          0,
          0,
          0,
          0,
          0,
          0,
          null,
          0,
          0,
          0,
          0,
          0,
          0,
          0,
          0,
          0,
          0,
          0,
          0,
          0,
          0,
          0,
          0,
          0,
          0,
          0,
          0,
          null,
          0,
          0,
          0,
          0,
          0,
          0,
          0,
          0,
          0,
          0,
          0,
          0,
          0,
          0,
          0,
          0,
          0,
          0,
          0,
          0,
          null,
          0,
          0,
          0,
          0,
          0,
          0,
          0,
          0,
          0,
          0,
          0,
          0,
          0,
          0,
          0,
          0,
          0,
          0,
          0,
          0,
          null,
          0,
          0,
          0,
          0,
          0,
          0,
          0,
          0,
          0,
          0,
          0,
          0,
          0,
          0,
          0,
          0,
          0,
          0,
          0,
          0,
          null,
          0,
          0,
          0,
          0,
          0,
          0,
          0,
          0,
          0,
          0,
          0,
          0,
          0,
          0,
          0,
          0,
          0,
          0,
          0,
          0,
          null,
          0,
          0,
          0,
          0,
          0,
          0,
          0,
          0,
          0,
          0,
          0,
          0,
          0,
          0,
          0,
          0,
          0,
          0,
          0,
          0,
          null,
          0,
          0,
          0,
          0,
          0,
          0,
          0,
          0,
          0,
          0,
          0,
          0,
          0,
          0,
          0,
          0,
          0,
          0,
          0,
          0,
          null,
          0,
          0,
          0,
          0,
          0,
          0,
          0,
          0,
          0,
          0,
          0,
          0,
          0,
          0,
          0,
          0,
          0,
          0,
          0,
          0,
          null,
          0,
          0,
          0,
          0,
          0,
          0,
          0,
          0,
          0,
          0,
          0,
          0,
          0,
          0,
          0,
          0,
          0,
          0,
          0,
          0,
          null,
          0,
          0,
          0,
          0,
          0,
          0,
          0,
          0,
          0,
          0,
          0,
          0,
          0,
          0,
          0,
          0,
          0,
          0,
          0,
          0,
          null
         ]
        },
        {
         "mode": "text",
         "text": [
          "0"
         ],
         "type": "scatter3d",
         "x": [
          8.832844127270532
         ],
         "y": [
          -65.6757765554787
         ],
         "z": [
          0
         ]
        },
        {
         "mode": "text",
         "text": [
          "1"
         ],
         "type": "scatter3d",
         "x": [
          25.941996403945843
         ],
         "y": [
          -18.335527603198177
         ],
         "z": [
          0
         ]
        },
        {
         "mode": "text",
         "text": [
          "2"
         ],
         "type": "scatter3d",
         "x": [
          25.085714116790136
         ],
         "y": [
          9.621012019322587
         ],
         "z": [
          0
         ]
        },
        {
         "mode": "text",
         "text": [
          "3"
         ],
         "type": "scatter3d",
         "x": [
          8.936360668828934
         ],
         "y": [
          56.85626886832196
         ],
         "z": [
          0
         ]
        },
        {
         "mode": "text",
         "text": [
          "4"
         ],
         "type": "scatter3d",
         "x": [
          7.610424647119673
         ],
         "y": [
          9.085761906927795
         ],
         "z": [
          0
         ]
        },
        {
         "mode": "text",
         "text": [
          "5"
         ],
         "type": "scatter3d",
         "x": [
          8.466706934275383
         ],
         "y": [
          -18.870777715592972
         ],
         "z": [
          0
         ]
        },
        {
         "mode": "text",
         "text": [
          "6"
         ],
         "type": "scatter3d",
         "x": [
          67.1942059007585
         ],
         "y": [
          5.261730458081427
         ],
         "z": [
          0
         ]
        },
        {
         "mode": "text",
         "text": [
          "7"
         ],
         "type": "scatter3d",
         "x": [
          -34.896982125694
         ],
         "y": [
          -6.941519217660382
         ],
         "z": [
          0
         ]
        },
        {
         "mode": "text",
         "text": [
          "8"
         ],
         "type": "scatter3d",
         "x": [
          48.40980673428317
         ],
         "y": [
          -70.10251157798484
         ],
         "z": [
          0
         ]
        },
        {
         "mode": "text",
         "text": [
          "9"
         ],
         "type": "scatter3d",
         "x": [
          49.73574832191862
         ],
         "y": [
          -22.332004425348444
         ],
         "z": [
          0
         ]
        },
        {
         "mode": "text",
         "text": [
          "10"
         ],
         "type": "scatter3d",
         "x": [
          48.879465392264336
         ],
         "y": [
          5.624537238786909
         ],
         "z": [
          0
         ]
        },
        {
         "mode": "text",
         "text": [
          "11"
         ],
         "type": "scatter3d",
         "x": [
          48.51333257556041
         ],
         "y": [
          52.42953446269274
         ],
         "z": [
          0
         ]
        },
        {
         "mode": "text",
         "text": [
          "12"
         ],
         "type": "scatter3d",
         "x": [
          31.404172550252095
         ],
         "y": [
          5.089287506262998
         ],
         "z": [
          0
         ]
        },
        {
         "mode": "text",
         "text": [
          "13"
         ],
         "type": "scatter3d",
         "x": [
          32.26045547990638
         ],
         "y": [
          -22.867254157872356
         ],
         "z": [
          0
         ]
        },
        {
         "mode": "text",
         "text": [
          "14"
         ],
         "type": "scatter3d",
         "x": [
          92.24315344804596
         ],
         "y": [
          -6.3047090814565685
         ],
         "z": [
          0
         ]
        },
        {
         "mode": "text",
         "text": [
          "15"
         ],
         "type": "scatter3d",
         "x": [
          -9.848040237277804
         ],
         "y": [
          -18.507957402401534
         ],
         "z": [
          0
         ]
        },
        {
         "mode": "text",
         "text": [
          "16"
         ],
         "type": "scatter3d",
         "x": [
          29.529368130021755
         ],
         "y": [
          -34.57966125603882
         ],
         "z": [
          0
         ]
        },
        {
         "mode": "text",
         "text": [
          "17"
         ],
         "type": "scatter3d",
         "x": [
          11.197794284160008
         ],
         "y": [
          -7.158370617426508
         ],
         "z": [
          0
         ]
        },
        {
         "mode": "text",
         "text": [
          "18"
         ],
         "type": "scatter3d",
         "x": [
          27.81680291321176
         ],
         "y": [
          21.3334200306173
         ],
         "z": [
          0
         ]
        },
        {
         "mode": "text",
         "text": [
          "19"
         ],
         "type": "scatter3d",
         "x": [
          46.148376595842706
         ],
         "y": [
          -6.087870772507806
         ],
         "z": [
          0
         ]
        }
       ],
       "layout": {
        "scene": {
         "aspectmode": "data"
        },
        "template": {
         "data": {
          "bar": [
           {
            "error_x": {
             "color": "#2a3f5f"
            },
            "error_y": {
             "color": "#2a3f5f"
            },
            "marker": {
             "line": {
              "color": "#E5ECF6",
              "width": 0.5
             },
             "pattern": {
              "fillmode": "overlay",
              "size": 10,
              "solidity": 0.2
             }
            },
            "type": "bar"
           }
          ],
          "barpolar": [
           {
            "marker": {
             "line": {
              "color": "#E5ECF6",
              "width": 0.5
             },
             "pattern": {
              "fillmode": "overlay",
              "size": 10,
              "solidity": 0.2
             }
            },
            "type": "barpolar"
           }
          ],
          "carpet": [
           {
            "aaxis": {
             "endlinecolor": "#2a3f5f",
             "gridcolor": "white",
             "linecolor": "white",
             "minorgridcolor": "white",
             "startlinecolor": "#2a3f5f"
            },
            "baxis": {
             "endlinecolor": "#2a3f5f",
             "gridcolor": "white",
             "linecolor": "white",
             "minorgridcolor": "white",
             "startlinecolor": "#2a3f5f"
            },
            "type": "carpet"
           }
          ],
          "choropleth": [
           {
            "colorbar": {
             "outlinewidth": 0,
             "ticks": ""
            },
            "type": "choropleth"
           }
          ],
          "contour": [
           {
            "colorbar": {
             "outlinewidth": 0,
             "ticks": ""
            },
            "colorscale": [
             [
              0,
              "#0d0887"
             ],
             [
              0.1111111111111111,
              "#46039f"
             ],
             [
              0.2222222222222222,
              "#7201a8"
             ],
             [
              0.3333333333333333,
              "#9c179e"
             ],
             [
              0.4444444444444444,
              "#bd3786"
             ],
             [
              0.5555555555555556,
              "#d8576b"
             ],
             [
              0.6666666666666666,
              "#ed7953"
             ],
             [
              0.7777777777777778,
              "#fb9f3a"
             ],
             [
              0.8888888888888888,
              "#fdca26"
             ],
             [
              1,
              "#f0f921"
             ]
            ],
            "type": "contour"
           }
          ],
          "contourcarpet": [
           {
            "colorbar": {
             "outlinewidth": 0,
             "ticks": ""
            },
            "type": "contourcarpet"
           }
          ],
          "heatmap": [
           {
            "colorbar": {
             "outlinewidth": 0,
             "ticks": ""
            },
            "colorscale": [
             [
              0,
              "#0d0887"
             ],
             [
              0.1111111111111111,
              "#46039f"
             ],
             [
              0.2222222222222222,
              "#7201a8"
             ],
             [
              0.3333333333333333,
              "#9c179e"
             ],
             [
              0.4444444444444444,
              "#bd3786"
             ],
             [
              0.5555555555555556,
              "#d8576b"
             ],
             [
              0.6666666666666666,
              "#ed7953"
             ],
             [
              0.7777777777777778,
              "#fb9f3a"
             ],
             [
              0.8888888888888888,
              "#fdca26"
             ],
             [
              1,
              "#f0f921"
             ]
            ],
            "type": "heatmap"
           }
          ],
          "heatmapgl": [
           {
            "colorbar": {
             "outlinewidth": 0,
             "ticks": ""
            },
            "colorscale": [
             [
              0,
              "#0d0887"
             ],
             [
              0.1111111111111111,
              "#46039f"
             ],
             [
              0.2222222222222222,
              "#7201a8"
             ],
             [
              0.3333333333333333,
              "#9c179e"
             ],
             [
              0.4444444444444444,
              "#bd3786"
             ],
             [
              0.5555555555555556,
              "#d8576b"
             ],
             [
              0.6666666666666666,
              "#ed7953"
             ],
             [
              0.7777777777777778,
              "#fb9f3a"
             ],
             [
              0.8888888888888888,
              "#fdca26"
             ],
             [
              1,
              "#f0f921"
             ]
            ],
            "type": "heatmapgl"
           }
          ],
          "histogram": [
           {
            "marker": {
             "pattern": {
              "fillmode": "overlay",
              "size": 10,
              "solidity": 0.2
             }
            },
            "type": "histogram"
           }
          ],
          "histogram2d": [
           {
            "colorbar": {
             "outlinewidth": 0,
             "ticks": ""
            },
            "colorscale": [
             [
              0,
              "#0d0887"
             ],
             [
              0.1111111111111111,
              "#46039f"
             ],
             [
              0.2222222222222222,
              "#7201a8"
             ],
             [
              0.3333333333333333,
              "#9c179e"
             ],
             [
              0.4444444444444444,
              "#bd3786"
             ],
             [
              0.5555555555555556,
              "#d8576b"
             ],
             [
              0.6666666666666666,
              "#ed7953"
             ],
             [
              0.7777777777777778,
              "#fb9f3a"
             ],
             [
              0.8888888888888888,
              "#fdca26"
             ],
             [
              1,
              "#f0f921"
             ]
            ],
            "type": "histogram2d"
           }
          ],
          "histogram2dcontour": [
           {
            "colorbar": {
             "outlinewidth": 0,
             "ticks": ""
            },
            "colorscale": [
             [
              0,
              "#0d0887"
             ],
             [
              0.1111111111111111,
              "#46039f"
             ],
             [
              0.2222222222222222,
              "#7201a8"
             ],
             [
              0.3333333333333333,
              "#9c179e"
             ],
             [
              0.4444444444444444,
              "#bd3786"
             ],
             [
              0.5555555555555556,
              "#d8576b"
             ],
             [
              0.6666666666666666,
              "#ed7953"
             ],
             [
              0.7777777777777778,
              "#fb9f3a"
             ],
             [
              0.8888888888888888,
              "#fdca26"
             ],
             [
              1,
              "#f0f921"
             ]
            ],
            "type": "histogram2dcontour"
           }
          ],
          "mesh3d": [
           {
            "colorbar": {
             "outlinewidth": 0,
             "ticks": ""
            },
            "type": "mesh3d"
           }
          ],
          "parcoords": [
           {
            "line": {
             "colorbar": {
              "outlinewidth": 0,
              "ticks": ""
             }
            },
            "type": "parcoords"
           }
          ],
          "pie": [
           {
            "automargin": true,
            "type": "pie"
           }
          ],
          "scatter": [
           {
            "fillpattern": {
             "fillmode": "overlay",
             "size": 10,
             "solidity": 0.2
            },
            "type": "scatter"
           }
          ],
          "scatter3d": [
           {
            "line": {
             "colorbar": {
              "outlinewidth": 0,
              "ticks": ""
             }
            },
            "marker": {
             "colorbar": {
              "outlinewidth": 0,
              "ticks": ""
             }
            },
            "type": "scatter3d"
           }
          ],
          "scattercarpet": [
           {
            "marker": {
             "colorbar": {
              "outlinewidth": 0,
              "ticks": ""
             }
            },
            "type": "scattercarpet"
           }
          ],
          "scattergeo": [
           {
            "marker": {
             "colorbar": {
              "outlinewidth": 0,
              "ticks": ""
             }
            },
            "type": "scattergeo"
           }
          ],
          "scattergl": [
           {
            "marker": {
             "colorbar": {
              "outlinewidth": 0,
              "ticks": ""
             }
            },
            "type": "scattergl"
           }
          ],
          "scattermapbox": [
           {
            "marker": {
             "colorbar": {
              "outlinewidth": 0,
              "ticks": ""
             }
            },
            "type": "scattermapbox"
           }
          ],
          "scatterpolar": [
           {
            "marker": {
             "colorbar": {
              "outlinewidth": 0,
              "ticks": ""
             }
            },
            "type": "scatterpolar"
           }
          ],
          "scatterpolargl": [
           {
            "marker": {
             "colorbar": {
              "outlinewidth": 0,
              "ticks": ""
             }
            },
            "type": "scatterpolargl"
           }
          ],
          "scatterternary": [
           {
            "marker": {
             "colorbar": {
              "outlinewidth": 0,
              "ticks": ""
             }
            },
            "type": "scatterternary"
           }
          ],
          "surface": [
           {
            "colorbar": {
             "outlinewidth": 0,
             "ticks": ""
            },
            "colorscale": [
             [
              0,
              "#0d0887"
             ],
             [
              0.1111111111111111,
              "#46039f"
             ],
             [
              0.2222222222222222,
              "#7201a8"
             ],
             [
              0.3333333333333333,
              "#9c179e"
             ],
             [
              0.4444444444444444,
              "#bd3786"
             ],
             [
              0.5555555555555556,
              "#d8576b"
             ],
             [
              0.6666666666666666,
              "#ed7953"
             ],
             [
              0.7777777777777778,
              "#fb9f3a"
             ],
             [
              0.8888888888888888,
              "#fdca26"
             ],
             [
              1,
              "#f0f921"
             ]
            ],
            "type": "surface"
           }
          ],
          "table": [
           {
            "cells": {
             "fill": {
              "color": "#EBF0F8"
             },
             "line": {
              "color": "white"
             }
            },
            "header": {
             "fill": {
              "color": "#C8D4E3"
             },
             "line": {
              "color": "white"
             }
            },
            "type": "table"
           }
          ]
         },
         "layout": {
          "annotationdefaults": {
           "arrowcolor": "#2a3f5f",
           "arrowhead": 0,
           "arrowwidth": 1
          },
          "autotypenumbers": "strict",
          "coloraxis": {
           "colorbar": {
            "outlinewidth": 0,
            "ticks": ""
           }
          },
          "colorscale": {
           "diverging": [
            [
             0,
             "#8e0152"
            ],
            [
             0.1,
             "#c51b7d"
            ],
            [
             0.2,
             "#de77ae"
            ],
            [
             0.3,
             "#f1b6da"
            ],
            [
             0.4,
             "#fde0ef"
            ],
            [
             0.5,
             "#f7f7f7"
            ],
            [
             0.6,
             "#e6f5d0"
            ],
            [
             0.7,
             "#b8e186"
            ],
            [
             0.8,
             "#7fbc41"
            ],
            [
             0.9,
             "#4d9221"
            ],
            [
             1,
             "#276419"
            ]
           ],
           "sequential": [
            [
             0,
             "#0d0887"
            ],
            [
             0.1111111111111111,
             "#46039f"
            ],
            [
             0.2222222222222222,
             "#7201a8"
            ],
            [
             0.3333333333333333,
             "#9c179e"
            ],
            [
             0.4444444444444444,
             "#bd3786"
            ],
            [
             0.5555555555555556,
             "#d8576b"
            ],
            [
             0.6666666666666666,
             "#ed7953"
            ],
            [
             0.7777777777777778,
             "#fb9f3a"
            ],
            [
             0.8888888888888888,
             "#fdca26"
            ],
            [
             1,
             "#f0f921"
            ]
           ],
           "sequentialminus": [
            [
             0,
             "#0d0887"
            ],
            [
             0.1111111111111111,
             "#46039f"
            ],
            [
             0.2222222222222222,
             "#7201a8"
            ],
            [
             0.3333333333333333,
             "#9c179e"
            ],
            [
             0.4444444444444444,
             "#bd3786"
            ],
            [
             0.5555555555555556,
             "#d8576b"
            ],
            [
             0.6666666666666666,
             "#ed7953"
            ],
            [
             0.7777777777777778,
             "#fb9f3a"
            ],
            [
             0.8888888888888888,
             "#fdca26"
            ],
            [
             1,
             "#f0f921"
            ]
           ]
          },
          "colorway": [
           "#636efa",
           "#EF553B",
           "#00cc96",
           "#ab63fa",
           "#FFA15A",
           "#19d3f3",
           "#FF6692",
           "#B6E880",
           "#FF97FF",
           "#FECB52"
          ],
          "font": {
           "color": "#2a3f5f"
          },
          "geo": {
           "bgcolor": "white",
           "lakecolor": "white",
           "landcolor": "#E5ECF6",
           "showlakes": true,
           "showland": true,
           "subunitcolor": "white"
          },
          "hoverlabel": {
           "align": "left"
          },
          "hovermode": "closest",
          "mapbox": {
           "style": "light"
          },
          "paper_bgcolor": "white",
          "plot_bgcolor": "#E5ECF6",
          "polar": {
           "angularaxis": {
            "gridcolor": "white",
            "linecolor": "white",
            "ticks": ""
           },
           "bgcolor": "#E5ECF6",
           "radialaxis": {
            "gridcolor": "white",
            "linecolor": "white",
            "ticks": ""
           }
          },
          "scene": {
           "xaxis": {
            "backgroundcolor": "#E5ECF6",
            "gridcolor": "white",
            "gridwidth": 2,
            "linecolor": "white",
            "showbackground": true,
            "ticks": "",
            "zerolinecolor": "white"
           },
           "yaxis": {
            "backgroundcolor": "#E5ECF6",
            "gridcolor": "white",
            "gridwidth": 2,
            "linecolor": "white",
            "showbackground": true,
            "ticks": "",
            "zerolinecolor": "white"
           },
           "zaxis": {
            "backgroundcolor": "#E5ECF6",
            "gridcolor": "white",
            "gridwidth": 2,
            "linecolor": "white",
            "showbackground": true,
            "ticks": "",
            "zerolinecolor": "white"
           }
          },
          "shapedefaults": {
           "line": {
            "color": "#2a3f5f"
           }
          },
          "ternary": {
           "aaxis": {
            "gridcolor": "white",
            "linecolor": "white",
            "ticks": ""
           },
           "baxis": {
            "gridcolor": "white",
            "linecolor": "white",
            "ticks": ""
           },
           "bgcolor": "#E5ECF6",
           "caxis": {
            "gridcolor": "white",
            "linecolor": "white",
            "ticks": ""
           }
          },
          "title": {
           "x": 0.05
          },
          "xaxis": {
           "automargin": true,
           "gridcolor": "white",
           "linecolor": "white",
           "ticks": "",
           "title": {
            "standoff": 15
           },
           "zerolinecolor": "white",
           "zerolinewidth": 2
          },
          "yaxis": {
           "automargin": true,
           "gridcolor": "white",
           "linecolor": "white",
           "ticks": "",
           "title": {
            "standoff": 15
           },
           "zerolinecolor": "white",
           "zerolinewidth": 2
          }
         }
        },
        "title": {
         "text": "Plotly Plot"
        }
       }
      }
     },
     "metadata": {},
     "output_type": "display_data"
    }
   ],
   "source": [
    "net.initialize_shape_optimizer(function_type = 'standard',  method = 'L-BFGS-B')\n",
    "net.optimize_vertices()\n",
    "reference_point = [0,0,0]\n",
    "net.scale_vertices(reference_point, net.l_scalar)\n",
    "R, th = net.arc_param()\n",
    "xyz = net.arc_points(n = 20) \n",
    "net.net_plot(color=True, elables = True, vlabels = False, plot_type = 'arcs')"
   ]
  },
  {
   "cell_type": "code",
   "execution_count": 6,
   "metadata": {},
   "outputs": [
    {
     "data": {
      "application/vnd.plotly.v1+json": {
       "config": {
        "plotlyServerURL": "https://plot.ly"
       },
       "data": [
        {
         "line": {
          "color": "black",
          "width": 3
         },
         "mode": "lines",
         "type": "scatter3d",
         "x": [
          0.0331956564768916,
          0.9619986854158924,
          1.8905212770332582,
          2.8187634252972202,
          3.7467251241978374,
          4.674406367732445,
          5.601807149869273,
          6.528927464612934,
          7.455767305938934,
          8.382326667844609,
          9.308605544305465,
          10.23460392934794,
          11.16032181695482,
          12.085759201123437,
          13.010916075843852,
          13.935792435142503,
          14.860388272994896,
          15.784703583427472,
          16.708738360452116,
          17.63249259805889,
          null,
          17.63249259805889,
          18.508916142509406,
          19.3851465545431,
          20.261183819611688,
          21.137027923154164,
          22.012678850629527,
          22.888136587494955,
          23.763401119209448,
          24.638472431242917,
          25.513350509048905,
          26.38803533810278,
          27.262526903878097,
          28.136825191855678,
          29.010930187503618,
          29.88484187631002,
          30.758560243759348,
          31.632085275343343,
          32.505416956555564,
          33.378555272882295,
          34.25150020982801,
          null,
          34.25150020982983,
          33.28812863264466,
          32.324596097410904,
          31.360902616106614,
          30.39704820069528,
          29.43303286315495,
          28.468856615460027,
          27.50451946958492,
          26.540021437513133,
          25.575362531224528,
          24.610542762702607,
          23.645562143932693,
          22.680420686901925,
          21.715118403597444,
          20.749655306015484,
          19.784031406148642,
          18.818246715989517,
          17.852301247534342,
          16.88619501278845,
          15.91992802374807,
          null,
          1.9527933139070228,
          2.684235945875116,
          3.4160863801225787,
          4.148344606881437,
          4.881010616376443,
          5.614084398828709,
          6.347565944452072,
          7.081455243453092,
          7.81575228604197,
          8.550457062410715,
          9.285569562751334,
          10.021089777259476,
          10.757017696101684,
          11.493353309466329,
          12.230096607523592,
          12.96724758043274,
          13.704806218360318,
          14.442772511458315,
          15.181146449871449,
          15.91992802374807,
          null,
          15.919928023751709,
          15.043421906537333,
          14.167118093493627,
          13.291016600587682,
          12.415117443784766,
          11.539420639053787,
          10.663926202350922,
          9.788634149630525,
          8.913544496845134,
          8.038657259941829,
          7.1639724548713275,
          6.2894900975643395,
          5.415210203966126,
          4.541132790005577,
          3.667257871618858,
          2.7935854647239466,
          1.9201155852460943,
          1.0468482491050963,
          0.1737834722171101,
          -0.6990787295108021,
          null,
          17.632492598060708,
          16.66913530403326,
          15.705615468621545,
          14.741933104034615,
          13.77808822247789,
          12.814080836164067,
          11.8499109573022,
          10.885578598108623,
          9.921083770794212,
          8.956426487586214,
          7.991606760693685,
          7.0266246023475105,
          6.06148002476948,
          5.096173040185022,
          4.13070366082502,
          3.1650718989149027,
          2.1992777666910115,
          1.2333212763878691,
          0.2672024402399984,
          -0.6990787295108021,
          null,
          34.25150020983892,
          37.720160959202985,
          41.188710016796904,
          44.65714733768618,
          48.125472876852655,
          51.59368658936182,
          55.061788430259185,
          58.5297783545866,
          61.99765631741138,
          65.46542227373175,
          68.93307617861865,
          72.4006179871194,
          75.86804765431407,
          79.33536513519903,
          82.80257038485615,
          86.26966335833458,
          89.73664401069618,
          93.20351229702283,
          96.67026817232,
          100.13691159167502,
          null,
          -0.6990787295087557,
          -4.299030609555075,
          -7.898963530306901,
          -11.498877453680052,
          -15.09877234161354,
          -18.6986481560391,
          -22.298504858896422,
          -25.898342412101556,
          -29.498160777594876,
          -33.097959917309026,
          -36.69773979318347,
          -40.29750036713676,
          -43.89724160110859,
          -47.496963457032734,
          -51.09666589685071,
          -54.696348882479924,
          -58.29601237586212,
          -61.89565633893176,
          -65.4952807336308,
          -69.09488552187804,
          null,
          55.393369806584815,
          54.66228858051181,
          53.93075943459917,
          53.19878238063393,
          52.466357430392236,
          51.73348459567933,
          51.000163888289535,
          50.26639532003537,
          49.53217890273663,
          48.79751464821311,
          48.06240256829551,
          47.32684267482182,
          46.59083497964093,
          45.854379494598106,
          45.11747623156043,
          44.380125202391355,
          43.6423264189616,
          42.90407989315645,
          42.16538563686845,
          41.42624366198288,
          null,
          41.42624366197924,
          42.302467545569016,
          43.17852047341512,
          44.05440243412522,
          44.93011341630154,
          45.805653408539,
          46.68102239946165,
          47.556220377675345,
          48.431247331787745,
          49.306103250417436,
          50.18078812217573,
          51.055301935688476,
          51.92964467957427,
          52.80381634245532,
          53.677816912957496,
          54.551646379704835,
          55.42530473133775,
          56.29879195648391,
          57.17210804377464,
          58.04525298185217,
          null,
          39.713677802672464,
          40.677673870919534,
          41.64176148091792,
          42.605940628800454,
          43.57021131067813,
          44.53457352267651,
          45.49902726092114,
          46.46357252153757,
          47.42820930064772,
          48.39293759436623,
          49.35775739882229,
          50.32266871013053,
          51.287671524423786,
          52.25276583780942,
          53.21795164640571,
          54.18322894634548,
          55.148597733739734,
          56.114058004714025,
          57.079609755375714,
          58.045252981846716,
          null,
          57.312987348450406,
          56.38376751429314,
          55.45487434328243,
          54.526307843574614,
          53.5980680233406,
          52.67015489075857,
          51.74256845397031,
          50.81530872114672,
          49.88837570044416,
          48.96176940001169,
          48.03548982801294,
          47.10953699258971,
          46.183910901876516,
          45.25861156402971,
          44.333638987183804,
          43.4089931794806,
          42.48467414904735,
          41.56068190401129,
          40.63701645251422,
          39.7136778026761,
          null,
          39.7136778026761,
          38.837610921546,
          37.96169755701703,
          37.08593771827691,
          36.21033141450971,
          35.33487865490679,
          34.45957944864858,
          33.58443380492281,
          32.70944173290627,
          31.834603241779405,
          30.959918340719014,
          30.085387038905537,
          29.211009345513958,
          28.336785269710163,
          27.462714820672772,
          26.588798007565856,
          25.715034839562577,
          24.84142532583428,
          23.96796947553412,
          23.09466729783162,
          null,
          23.094667297824344,
          24.058669580186688,
          25.022762720444007,
          25.98694671478006,
          26.951221559385885,
          27.915587250427052,
          28.88004378408732,
          29.844591156557726,
          30.80922936400748,
          31.773958402620337,
          32.7387782685837,
          33.7036889580595,
          34.66869046723514,
          35.63378279229073,
          36.59896592939913,
          37.56423987474045,
          38.52960462449846,
          39.49506017483873,
          40.460606521937734,
          41.426243661975604,
          null,
          58.04525298183489,
          61.645236579569655,
          65.24519774764985,
          68.84513643250693,
          72.44505258046706,
          76.04494613796169,
          79.64481705131789,
          83.24466526696779,
          86.84449073126598,
          90.44429339056614,
          94.04407319130178,
          97.64383007980155,
          101.24356400249962,
          104.84327490575129,
          108.44296273591294,
          112.04262743941922,
          115.64226896260107,
          119.24188725189379,
          122.84148225362856,
          126.44105391424205,
          null,
          23.09466729782889,
          19.62586110070515,
          16.157182655770157,
          12.688632021920967,
          9.220209258030081,
          5.751914422972732,
          2.2837475756368804,
          -1.1842912251113376,
          -4.6522019203903255,
          -8.119984451334858,
          -11.587638759080619,
          -15.055164784751469,
          -18.52256246948855,
          -21.989831754435727,
          -25.456972580720503,
          -28.92398488949948,
          -32.39086862190197,
          -35.85762371908277,
          -39.324250122197554,
          -42.79074777238293,
          null,
          41.426243661984245,
          40.17406310886963,
          38.92186895578243,
          37.66966120793268,
          36.41743987051268,
          35.16520494873157,
          33.91295644778165,
          32.66069437287251,
          31.408418729197365,
          30.15612952196534,
          28.9038267563692,
          27.651510437618526,
          26.399180570906537,
          25.146837161442818,
          23.894480214420582,
          22.64210973504987,
          21.389725728523445,
          20.137328200051797,
          18.884917154827235,
          17.632492598061162,
          null,
          -0.6990787295103473,
          0.552964396809557,
          1.8050364663204164,
          3.057137455655038,
          4.309267341423038,
          5.561426100232438,
          6.813613708716048,
          8.065830143480298,
          9.31807538113253,
          10.570349398303279,
          11.822652171598293,
          13.074983677630371,
          14.327343893004581,
          15.579732794349411,
          16.832150358268336,
          18.084596561363924,
          19.337071380263296,
          20.589574791568793,
          21.842106771881618,
          23.094667297826618,
          null,
          15.919928023742614,
          17.172045739765508,
          18.424184068143404,
          19.67634299696965,
          20.9285225143376,
          22.18072260832878,
          23.432943267059272,
          24.6851844786097,
          25.937446231073864,
          27.189728512542388,
          28.44203131110862,
          29.69435461486364,
          30.946698411899888,
          32.19906269030798,
          33.45144743818037,
          34.70385264359584,
          35.956278294668664,
          37.208724379477644,
          38.461190886113855,
          39.71367780266792,
          null,
          58.04525298229419,
          56.79295051889494,
          55.54064801870845,
          54.28834548546001,
          53.03604291565716,
          51.78374031302519,
          50.53143767360598,
          49.279135001357645,
          48.0268322925549,
          46.774529550690204,
          45.52222677250393,
          44.26992396102287,
          43.0176211129874,
          41.76531823188998,
          40.51301531447098,
          39.260712363990024,
          38.00840937695466,
          36.756106356857345,
          35.50380330020562,
          34.25150021049194,
          null
         ],
         "y": [
          -98.77013053344854,
          -95.28718612723424,
          -91.80416694839005,
          -88.32107301949327,
          -84.83790436316303,
          -81.35466100190752,
          -77.87134295834221,
          -74.38795025505169,
          -70.90448291461689,
          -67.42094095962238,
          -63.93732441268912,
          -60.45363329632346,
          -56.96986763314999,
          -53.48602744575328,
          -50.00211275671609,
          -46.51812358862844,
          -43.03405996411129,
          -39.549921905676456,
          -36.06570943594852,
          -32.581422577519334,
          null,
          -32.581422577519334,
          -31.082869840990497,
          -29.58420416831632,
          -28.085425584376935,
          -26.586534114084316,
          -25.087529782323145,
          -23.58841261399084,
          -22.08918263398573,
          -20.589839867196133,
          -19.090384338544936,
          -17.590816072927737,
          -16.09113509524832,
          -14.59134143040501,
          -13.091435103326148,
          -11.59141613891552,
          -10.091284562084184,
          -8.591040397747747,
          -7.0906836708136325,
          -5.590214406221094,
          -4.089632628880281,
          null,
          -4.089632628880281,
          -2.6454395189557545,
          -1.201353791568181,
          0.24262453533810913,
          1.686495443824242,
          3.1302589159604395,
          4.573914933807828,
          6.017463479431171,
          7.460904534900692,
          8.90423808228661,
          10.347464103651873,
          11.790582581077615,
          13.23359349663042,
          14.676496832385965,
          16.11929257042175,
          17.56198069281527,
          19.004561181638564,
          20.44703401897823,
          21.88939918691176,
          23.33165666752211,
          null,
          90.38088106912528,
          86.85121132933091,
          83.32162612173397,
          79.79212549342537,
          76.26270949153331,
          72.73337816318326,
          69.20413155546157,
          65.6749697154919,
          62.145892690398796,
          58.61690052726408,
          55.08799327320776,
          51.55917097533802,
          48.03043368077306,
          44.501781436590136,
          40.97321428990654,
          37.444732287836814,
          33.916335477455505,
          30.388023905877162,
          26.859797620210884,
          23.331656667530297,
          null,
          23.33165666752302,
          21.83315222658166,
          20.33452947209662,
          18.83578843137002,
          17.336929131718534,
          15.837951600461565,
          14.338855864921243,
          12.839641952406055,
          11.340309890245408,
          9.84085970576507,
          8.341291426295356,
          6.8416050791565794,
          5.341800691683602,
          3.841878291212197,
          2.341837905079956,
          0.841679560616285,
          -0.6585967148348573,
          -2.1589908939286033,
          -3.659502949319176,
          -5.160132853669893,
          null,
          -32.581422577517515,
          -31.13721993991203,
          -29.693125738969684,
          -28.249139992984055,
          -26.80526272024872,
          -25.361493939053616,
          -23.917833667686864,
          -22.47428192444022,
          -21.030838727598166,
          -19.587504095445183,
          -18.144278046265754,
          -16.70116059834436,
          -15.258151769960023,
          -13.815251579395408,
          -12.372460044924082,
          -10.92977718482689,
          -9.487203017379215,
          -8.044737560856447,
          -6.602380833526695,
          -5.160132853668983,
          null,
          -4.089632628874824,
          -3.1088322403993516,
          -2.1276369329898444,
          -1.1460467193537625,
          -0.1640616122422216,
          0.8183183756336803,
          1.8010932315337413,
          2.78426294271776,
          3.767827496456448,
          4.751786879969586,
          5.7361410805278865,
          6.7208900853584055,
          7.706033881706389,
          8.69157245678798,
          9.677505797833874,
          10.663833892067487,
          11.650556726694049,
          12.637674288936978,
          13.625186565979675,
          14.61309354504192,
          null,
          -5.160132853670802,
          -5.34431553525792,
          -5.52886841383588,
          -5.713791487440176,
          -5.8990847541208495,
          -6.084748211920669,
          -6.270781858867849,
          -6.457185693005158,
          -6.643959712353535,
          -6.831103914941195,
          -7.018618298789079,
          -7.206502861910849,
          -7.394757602327445,
          -7.583382518045255,
          -7.77237760706339,
          -7.961742867388239,
          -8.151478297018912,
          -8.341583893954521,
          -8.532059656165075,
          -8.722905581649684,
          null,
          -103.62712322140942,
          -100.09737860830319,
          -96.56772679805908,
          -93.03816784752053,
          -89.50870181352275,
          -85.97932875290462,
          -82.4500487225041,
          -78.9208617791528,
          -75.39176797968594,
          -71.86276738093329,
          -68.33386003972464,
          -64.80504601289067,
          -61.2763253572557,
          -57.74769812964587,
          -54.219164386886405,
          -50.69072418579799,
          -47.162377583202215,
          -43.63412463591885,
          -40.10596540076676,
          -36.577899934560264,
          null,
          -36.57789993456572,
          -35.07923044459494,
          -33.580461015378205,
          -32.081591666420536,
          -30.5826224172215,
          -29.083553287299765,
          -27.584384296133976,
          -26.08511546324371,
          -24.58574680813581,
          -23.086278350319844,
          -21.586710109306296,
          -20.087042104608372,
          -18.587274355733825,
          -17.08740688220314,
          -15.587439703528617,
          -14.087372839236195,
          -12.587206308826353,
          -11.08694013182594,
          -9.586574327756352,
          -8.086108916140802,
          null,
          19.335183393708576,
          17.891407054732554,
          16.447691841531196,
          15.004037759897983,
          13.560444815659139,
          12.116913014604506,
          10.673442362542119,
          9.230032865270914,
          7.786684528586193,
          6.343397358308721,
          4.900171360233799,
          3.4570065401621832,
          2.013902903883718,
          0.5708604572246259,
          -0.8721207940270688,
          -2.3150408440669707,
          -3.757899687097961,
          -5.200697317328377,
          -6.6434337289356336,
          -8.086108916133526,
          null,
          85.52388553167657,
          82.04105230273308,
          78.55813193648464,
          75.07512446356304,
          71.59202991461098,
          68.10884832028387,
          64.62557971119168,
          61.142224117991645,
          57.658781571322834,
          54.175252101831575,
          50.6916357401642,
          47.20793251695795,
          43.72414246286462,
          40.240265608528716,
          36.75630198459476,
          33.27225162173272,
          29.788114550550745,
          26.303890801718808,
          22.819580405885063,
          19.3351833937013,
          null,
          19.335183393708576,
          17.836422120268253,
          16.337571122732697,
          14.838630416834349,
          13.339600018281999,
          11.840479942811726,
          10.341270206148693,
          8.841970824025339,
          7.342581812172284,
          5.843103186309236,
          4.343534962175909,
          2.8438771554992854,
          1.3441297820227192,
          -0.1557071425340837,
          -1.6556336024277698,
          -3.1556495819259,
          -4.6557550652887585,
          -6.1559500367748115,
          -7.656234480657076,
          -9.156608381188562,
          null,
          -9.156608381186743,
          -10.600380571044298,
          -12.044092091227867,
          -13.487742936020368,
          -14.931333099713811,
          -16.374862576565647,
          -17.8183313608788,
          -19.261739446927095,
          -20.705086828995263,
          -22.14837350136986,
          -23.591599458350174,
          -25.034764694190017,
          -26.477869203188675,
          -27.920912979627246,
          -29.363896017797742,
          -30.80681831198126,
          -32.24967985647163,
          -33.692480645537216,
          -35.13522067347185,
          -36.57789993456208,
          null,
          -8.086108916137164,
          -7.902547236277314,
          -7.71854619716396,
          -7.534105801525584,
          -7.349226052123413,
          -7.163906951700483,
          -6.978148503025295,
          -6.791950708859076,
          -6.605313571977604,
          -6.418237095160293,
          -6.230721281190199,
          -6.0427661328649265,
          -5.854371652985719,
          -5.665537844353821,
          -5.476264709788666,
          -5.286552252098772,
          -5.096400474118127,
          -4.905809378677077,
          -4.7147789686168835,
          -4.523309246778808,
          null,
          -9.1566083811922,
          -10.136894236802618,
          -11.117632039480668,
          -12.098821772571682,
          -13.08046341942827,
          -14.062556963377574,
          -15.045102387757652,
          -16.028099675877456,
          -17.011548811056855,
          -17.995449776597525,
          -18.979802555797505,
          -19.964607131951198,
          -20.949863488334813,
          -21.9355716082282,
          -22.921731474893022,
          -23.908343071590934,
          -24.895406381576322,
          -25.88292138808174,
          -26.870888074357936,
          -27.85930642362655,
          null,
          -36.577899934560264,
          -36.36683268336128,
          -36.155846131394355,
          -35.944940279528964,
          -35.73411512864186,
          -35.5233706796098,
          -35.31270693330953,
          -35.102123890614166,
          -34.89162155239683,
          -34.6811999195379,
          -34.47085899290323,
          -34.260598773373204,
          -34.0504192618173,
          -33.840320459108625,
          -33.630302366120304,
          -33.42036498372545,
          -33.21050831280081,
          -33.000732354208594,
          -32.79103710882191,
          -32.58142257751388,
          null,
          -5.160132853668983,
          -5.372013787260585,
          -5.583723619143711,
          -5.795262345367519,
          -6.006629961979343,
          -6.217826465030157,
          -6.428851850580031,
          -6.639706114685396,
          -6.850389253408139,
          -7.060901262815605,
          -7.27124213897514,
          -7.481411877959545,
          -7.6914104758416215,
          -7.901237928703267,
          -8.11089423262274,
          -8.320379383685577,
          -8.529693377980948,
          -8.738836211599846,
          -8.947807880633263,
          -9.156608381183105,
          null,
          23.331656667527568,
          23.120216967763554,
          22.908899367876074,
          22.697703869876932,
          22.486630475772472,
          22.275679187572678,
          22.064850007278437,
          21.854142936899734,
          21.643557978435638,
          21.433095133890674,
          21.22275440526755,
          21.012535794565338,
          20.802439303781284,
          20.59246493491446,
          20.382612689962116,
          20.1728825709215,
          19.963274579782592,
          19.753788718540818,
          19.544424989186155,
          19.335183393714033,
          null,
          -8.086108915507793,
          -7.875766195356846,
          -7.66542368195951,
          -7.455081374384463,
          -7.2447392754256725,
          -7.034397383220494,
          -6.824055696837604,
          -6.613714219070971,
          -6.403372947126627,
          -6.193031882867217,
          -5.982691026292741,
          -5.7723503755405545,
          -5.562009932473302,
          -5.351669696159661,
          -5.141329667530954,
          -4.9309898456558585,
          -4.720650230534375,
          -4.510310823097825,
          -4.299971622414887,
          -4.08963262848556,
          null
         ],
         "z": [
          0,
          0,
          0,
          0,
          0,
          0,
          0,
          0,
          0,
          0,
          0,
          0,
          0,
          0,
          0,
          0,
          0,
          0,
          0,
          0,
          null,
          0,
          0,
          0,
          0,
          0,
          0,
          0,
          0,
          0,
          0,
          0,
          0,
          0,
          0,
          0,
          0,
          0,
          0,
          0,
          0,
          null,
          0,
          0,
          0,
          0,
          0,
          0,
          0,
          0,
          0,
          0,
          0,
          0,
          0,
          0,
          0,
          0,
          0,
          0,
          0,
          0,
          null,
          0,
          0,
          0,
          0,
          0,
          0,
          0,
          0,
          0,
          0,
          0,
          0,
          0,
          0,
          0,
          0,
          0,
          0,
          0,
          0.19999999999784743,
          null,
          0,
          0,
          0,
          0,
          0,
          0,
          0,
          0,
          0,
          0,
          0,
          0,
          0,
          0,
          0,
          0,
          0,
          0,
          0,
          0,
          null,
          0.19999999999992643,
          0,
          0,
          0,
          0,
          0,
          0,
          0,
          0,
          0,
          0,
          0,
          0,
          0,
          0,
          0,
          0,
          0,
          0,
          0.19999999999971466,
          null,
          0.1999999999969691,
          0,
          0,
          0,
          0,
          0,
          0,
          0,
          0,
          0,
          0,
          0,
          0,
          0,
          0,
          0,
          0,
          0,
          0,
          0,
          null,
          0,
          0,
          0,
          0,
          0,
          0,
          0,
          0,
          0,
          0,
          0,
          0,
          0,
          0,
          0,
          0,
          0,
          0,
          0,
          0,
          null,
          0,
          0,
          0,
          0,
          0,
          0,
          0,
          0,
          0,
          0,
          0,
          0,
          0,
          0,
          0,
          0,
          0,
          0,
          0,
          0,
          null,
          0.1999999999978228,
          0,
          0,
          0,
          0,
          0,
          0,
          0,
          0,
          0,
          0,
          0,
          0,
          0,
          0,
          0,
          0,
          0,
          0,
          0,
          null,
          0,
          0,
          0,
          0,
          0,
          0,
          0,
          0,
          0,
          0,
          0,
          0,
          0,
          0.2706322777684235,
          0,
          0,
          0,
          0,
          0,
          0,
          null,
          0,
          0,
          0,
          0,
          0,
          0,
          0,
          0,
          0,
          0,
          0,
          0,
          0,
          0,
          0,
          0,
          0,
          0,
          0,
          0,
          null,
          0,
          0,
          0,
          0,
          0,
          0,
          0,
          0,
          0,
          0,
          0,
          0.2799161615145296,
          0,
          0,
          0,
          0,
          0,
          0,
          0,
          0,
          null,
          0,
          0,
          0,
          0,
          0,
          0.009896649732310303,
          0,
          0,
          0,
          0,
          0,
          0,
          0,
          0,
          0,
          0,
          0,
          0,
          0,
          0,
          null,
          0,
          0,
          0,
          0,
          0,
          0,
          0,
          0,
          0,
          0,
          0,
          0,
          0,
          0,
          0,
          0,
          0,
          0,
          0,
          0,
          null,
          0,
          0,
          0,
          0,
          0,
          0.2787040500539921,
          0,
          0,
          0,
          0,
          0,
          0,
          0,
          0,
          0,
          0,
          0,
          0,
          0,
          0,
          null,
          0,
          0,
          0,
          0,
          0,
          0,
          0,
          0,
          0,
          0,
          0,
          0,
          0,
          0,
          0,
          0,
          0,
          0,
          0,
          0.1999999999987801,
          null,
          0.19999999999980012,
          0,
          0,
          0,
          0,
          0,
          0,
          0,
          0,
          0,
          0,
          0,
          0,
          0,
          0,
          0,
          0,
          0,
          0,
          0,
          null,
          0.1999999999974121,
          0,
          0,
          0,
          0,
          0,
          0,
          0,
          0,
          0,
          0,
          0,
          0,
          0,
          0,
          0,
          0,
          0,
          0,
          0.199999999997668,
          null,
          0.19999999974421812,
          0,
          0,
          0,
          0,
          0,
          0,
          0,
          0,
          0,
          0,
          0,
          0,
          0,
          0,
          0,
          0,
          0,
          0,
          0.19999999974356733,
          null
         ]
        },
        {
         "mode": "text",
         "text": [
          "0"
         ],
         "type": "scatter3d",
         "x": [
          8.832844127270532
         ],
         "y": [
          -65.6757765554787
         ],
         "z": [
          0
         ]
        },
        {
         "mode": "text",
         "text": [
          "1"
         ],
         "type": "scatter3d",
         "x": [
          25.941996403945843
         ],
         "y": [
          -18.335527603198177
         ],
         "z": [
          0
         ]
        },
        {
         "mode": "text",
         "text": [
          "2"
         ],
         "type": "scatter3d",
         "x": [
          25.085714116790136
         ],
         "y": [
          9.621012019322587
         ],
         "z": [
          0
         ]
        },
        {
         "mode": "text",
         "text": [
          "3"
         ],
         "type": "scatter3d",
         "x": [
          8.936360668828934
         ],
         "y": [
          56.85626886832196
         ],
         "z": [
          0
         ]
        },
        {
         "mode": "text",
         "text": [
          "4"
         ],
         "type": "scatter3d",
         "x": [
          7.610424647119673
         ],
         "y": [
          9.085761906927795
         ],
         "z": [
          0
         ]
        },
        {
         "mode": "text",
         "text": [
          "5"
         ],
         "type": "scatter3d",
         "x": [
          8.466706934275383
         ],
         "y": [
          -18.870777715592972
         ],
         "z": [
          0
         ]
        },
        {
         "mode": "text",
         "text": [
          "6"
         ],
         "type": "scatter3d",
         "x": [
          67.1942059007585
         ],
         "y": [
          5.261730458081427
         ],
         "z": [
          0
         ]
        },
        {
         "mode": "text",
         "text": [
          "7"
         ],
         "type": "scatter3d",
         "x": [
          -34.896982125694
         ],
         "y": [
          -6.941519217660382
         ],
         "z": [
          0
         ]
        },
        {
         "mode": "text",
         "text": [
          "8"
         ],
         "type": "scatter3d",
         "x": [
          48.40980673428317
         ],
         "y": [
          -70.10251157798484
         ],
         "z": [
          0
         ]
        },
        {
         "mode": "text",
         "text": [
          "9"
         ],
         "type": "scatter3d",
         "x": [
          49.73574832191862
         ],
         "y": [
          -22.332004425348444
         ],
         "z": [
          0
         ]
        },
        {
         "mode": "text",
         "text": [
          "10"
         ],
         "type": "scatter3d",
         "x": [
          48.879465392264336
         ],
         "y": [
          5.624537238786909
         ],
         "z": [
          0
         ]
        },
        {
         "mode": "text",
         "text": [
          "11"
         ],
         "type": "scatter3d",
         "x": [
          48.51333257556041
         ],
         "y": [
          52.42953446269274
         ],
         "z": [
          0
         ]
        },
        {
         "mode": "text",
         "text": [
          "12"
         ],
         "type": "scatter3d",
         "x": [
          31.404172550252095
         ],
         "y": [
          5.089287506262998
         ],
         "z": [
          0
         ]
        },
        {
         "mode": "text",
         "text": [
          "13"
         ],
         "type": "scatter3d",
         "x": [
          32.26045547990638
         ],
         "y": [
          -22.867254157872356
         ],
         "z": [
          0
         ]
        },
        {
         "mode": "text",
         "text": [
          "14"
         ],
         "type": "scatter3d",
         "x": [
          92.24315344804596
         ],
         "y": [
          -6.3047090814565685
         ],
         "z": [
          0
         ]
        },
        {
         "mode": "text",
         "text": [
          "15"
         ],
         "type": "scatter3d",
         "x": [
          -9.848040237277804
         ],
         "y": [
          -18.507957402401534
         ],
         "z": [
          0
         ]
        },
        {
         "mode": "text",
         "text": [
          "16"
         ],
         "type": "scatter3d",
         "x": [
          29.529368130021755
         ],
         "y": [
          -34.57966125603882
         ],
         "z": [
          0
         ]
        },
        {
         "mode": "text",
         "text": [
          "17"
         ],
         "type": "scatter3d",
         "x": [
          11.197794284160008
         ],
         "y": [
          -7.158370617426508
         ],
         "z": [
          0
         ]
        },
        {
         "mode": "text",
         "text": [
          "18"
         ],
         "type": "scatter3d",
         "x": [
          27.81680291321176
         ],
         "y": [
          21.3334200306173
         ],
         "z": [
          0
         ]
        },
        {
         "mode": "text",
         "text": [
          "19"
         ],
         "type": "scatter3d",
         "x": [
          46.148376595842706
         ],
         "y": [
          -6.087870772507806
         ],
         "z": [
          0
         ]
        }
       ],
       "layout": {
        "scene": {
         "aspectmode": "data"
        },
        "template": {
         "data": {
          "bar": [
           {
            "error_x": {
             "color": "#2a3f5f"
            },
            "error_y": {
             "color": "#2a3f5f"
            },
            "marker": {
             "line": {
              "color": "#E5ECF6",
              "width": 0.5
             },
             "pattern": {
              "fillmode": "overlay",
              "size": 10,
              "solidity": 0.2
             }
            },
            "type": "bar"
           }
          ],
          "barpolar": [
           {
            "marker": {
             "line": {
              "color": "#E5ECF6",
              "width": 0.5
             },
             "pattern": {
              "fillmode": "overlay",
              "size": 10,
              "solidity": 0.2
             }
            },
            "type": "barpolar"
           }
          ],
          "carpet": [
           {
            "aaxis": {
             "endlinecolor": "#2a3f5f",
             "gridcolor": "white",
             "linecolor": "white",
             "minorgridcolor": "white",
             "startlinecolor": "#2a3f5f"
            },
            "baxis": {
             "endlinecolor": "#2a3f5f",
             "gridcolor": "white",
             "linecolor": "white",
             "minorgridcolor": "white",
             "startlinecolor": "#2a3f5f"
            },
            "type": "carpet"
           }
          ],
          "choropleth": [
           {
            "colorbar": {
             "outlinewidth": 0,
             "ticks": ""
            },
            "type": "choropleth"
           }
          ],
          "contour": [
           {
            "colorbar": {
             "outlinewidth": 0,
             "ticks": ""
            },
            "colorscale": [
             [
              0,
              "#0d0887"
             ],
             [
              0.1111111111111111,
              "#46039f"
             ],
             [
              0.2222222222222222,
              "#7201a8"
             ],
             [
              0.3333333333333333,
              "#9c179e"
             ],
             [
              0.4444444444444444,
              "#bd3786"
             ],
             [
              0.5555555555555556,
              "#d8576b"
             ],
             [
              0.6666666666666666,
              "#ed7953"
             ],
             [
              0.7777777777777778,
              "#fb9f3a"
             ],
             [
              0.8888888888888888,
              "#fdca26"
             ],
             [
              1,
              "#f0f921"
             ]
            ],
            "type": "contour"
           }
          ],
          "contourcarpet": [
           {
            "colorbar": {
             "outlinewidth": 0,
             "ticks": ""
            },
            "type": "contourcarpet"
           }
          ],
          "heatmap": [
           {
            "colorbar": {
             "outlinewidth": 0,
             "ticks": ""
            },
            "colorscale": [
             [
              0,
              "#0d0887"
             ],
             [
              0.1111111111111111,
              "#46039f"
             ],
             [
              0.2222222222222222,
              "#7201a8"
             ],
             [
              0.3333333333333333,
              "#9c179e"
             ],
             [
              0.4444444444444444,
              "#bd3786"
             ],
             [
              0.5555555555555556,
              "#d8576b"
             ],
             [
              0.6666666666666666,
              "#ed7953"
             ],
             [
              0.7777777777777778,
              "#fb9f3a"
             ],
             [
              0.8888888888888888,
              "#fdca26"
             ],
             [
              1,
              "#f0f921"
             ]
            ],
            "type": "heatmap"
           }
          ],
          "heatmapgl": [
           {
            "colorbar": {
             "outlinewidth": 0,
             "ticks": ""
            },
            "colorscale": [
             [
              0,
              "#0d0887"
             ],
             [
              0.1111111111111111,
              "#46039f"
             ],
             [
              0.2222222222222222,
              "#7201a8"
             ],
             [
              0.3333333333333333,
              "#9c179e"
             ],
             [
              0.4444444444444444,
              "#bd3786"
             ],
             [
              0.5555555555555556,
              "#d8576b"
             ],
             [
              0.6666666666666666,
              "#ed7953"
             ],
             [
              0.7777777777777778,
              "#fb9f3a"
             ],
             [
              0.8888888888888888,
              "#fdca26"
             ],
             [
              1,
              "#f0f921"
             ]
            ],
            "type": "heatmapgl"
           }
          ],
          "histogram": [
           {
            "marker": {
             "pattern": {
              "fillmode": "overlay",
              "size": 10,
              "solidity": 0.2
             }
            },
            "type": "histogram"
           }
          ],
          "histogram2d": [
           {
            "colorbar": {
             "outlinewidth": 0,
             "ticks": ""
            },
            "colorscale": [
             [
              0,
              "#0d0887"
             ],
             [
              0.1111111111111111,
              "#46039f"
             ],
             [
              0.2222222222222222,
              "#7201a8"
             ],
             [
              0.3333333333333333,
              "#9c179e"
             ],
             [
              0.4444444444444444,
              "#bd3786"
             ],
             [
              0.5555555555555556,
              "#d8576b"
             ],
             [
              0.6666666666666666,
              "#ed7953"
             ],
             [
              0.7777777777777778,
              "#fb9f3a"
             ],
             [
              0.8888888888888888,
              "#fdca26"
             ],
             [
              1,
              "#f0f921"
             ]
            ],
            "type": "histogram2d"
           }
          ],
          "histogram2dcontour": [
           {
            "colorbar": {
             "outlinewidth": 0,
             "ticks": ""
            },
            "colorscale": [
             [
              0,
              "#0d0887"
             ],
             [
              0.1111111111111111,
              "#46039f"
             ],
             [
              0.2222222222222222,
              "#7201a8"
             ],
             [
              0.3333333333333333,
              "#9c179e"
             ],
             [
              0.4444444444444444,
              "#bd3786"
             ],
             [
              0.5555555555555556,
              "#d8576b"
             ],
             [
              0.6666666666666666,
              "#ed7953"
             ],
             [
              0.7777777777777778,
              "#fb9f3a"
             ],
             [
              0.8888888888888888,
              "#fdca26"
             ],
             [
              1,
              "#f0f921"
             ]
            ],
            "type": "histogram2dcontour"
           }
          ],
          "mesh3d": [
           {
            "colorbar": {
             "outlinewidth": 0,
             "ticks": ""
            },
            "type": "mesh3d"
           }
          ],
          "parcoords": [
           {
            "line": {
             "colorbar": {
              "outlinewidth": 0,
              "ticks": ""
             }
            },
            "type": "parcoords"
           }
          ],
          "pie": [
           {
            "automargin": true,
            "type": "pie"
           }
          ],
          "scatter": [
           {
            "fillpattern": {
             "fillmode": "overlay",
             "size": 10,
             "solidity": 0.2
            },
            "type": "scatter"
           }
          ],
          "scatter3d": [
           {
            "line": {
             "colorbar": {
              "outlinewidth": 0,
              "ticks": ""
             }
            },
            "marker": {
             "colorbar": {
              "outlinewidth": 0,
              "ticks": ""
             }
            },
            "type": "scatter3d"
           }
          ],
          "scattercarpet": [
           {
            "marker": {
             "colorbar": {
              "outlinewidth": 0,
              "ticks": ""
             }
            },
            "type": "scattercarpet"
           }
          ],
          "scattergeo": [
           {
            "marker": {
             "colorbar": {
              "outlinewidth": 0,
              "ticks": ""
             }
            },
            "type": "scattergeo"
           }
          ],
          "scattergl": [
           {
            "marker": {
             "colorbar": {
              "outlinewidth": 0,
              "ticks": ""
             }
            },
            "type": "scattergl"
           }
          ],
          "scattermapbox": [
           {
            "marker": {
             "colorbar": {
              "outlinewidth": 0,
              "ticks": ""
             }
            },
            "type": "scattermapbox"
           }
          ],
          "scatterpolar": [
           {
            "marker": {
             "colorbar": {
              "outlinewidth": 0,
              "ticks": ""
             }
            },
            "type": "scatterpolar"
           }
          ],
          "scatterpolargl": [
           {
            "marker": {
             "colorbar": {
              "outlinewidth": 0,
              "ticks": ""
             }
            },
            "type": "scatterpolargl"
           }
          ],
          "scatterternary": [
           {
            "marker": {
             "colorbar": {
              "outlinewidth": 0,
              "ticks": ""
             }
            },
            "type": "scatterternary"
           }
          ],
          "surface": [
           {
            "colorbar": {
             "outlinewidth": 0,
             "ticks": ""
            },
            "colorscale": [
             [
              0,
              "#0d0887"
             ],
             [
              0.1111111111111111,
              "#46039f"
             ],
             [
              0.2222222222222222,
              "#7201a8"
             ],
             [
              0.3333333333333333,
              "#9c179e"
             ],
             [
              0.4444444444444444,
              "#bd3786"
             ],
             [
              0.5555555555555556,
              "#d8576b"
             ],
             [
              0.6666666666666666,
              "#ed7953"
             ],
             [
              0.7777777777777778,
              "#fb9f3a"
             ],
             [
              0.8888888888888888,
              "#fdca26"
             ],
             [
              1,
              "#f0f921"
             ]
            ],
            "type": "surface"
           }
          ],
          "table": [
           {
            "cells": {
             "fill": {
              "color": "#EBF0F8"
             },
             "line": {
              "color": "white"
             }
            },
            "header": {
             "fill": {
              "color": "#C8D4E3"
             },
             "line": {
              "color": "white"
             }
            },
            "type": "table"
           }
          ]
         },
         "layout": {
          "annotationdefaults": {
           "arrowcolor": "#2a3f5f",
           "arrowhead": 0,
           "arrowwidth": 1
          },
          "autotypenumbers": "strict",
          "coloraxis": {
           "colorbar": {
            "outlinewidth": 0,
            "ticks": ""
           }
          },
          "colorscale": {
           "diverging": [
            [
             0,
             "#8e0152"
            ],
            [
             0.1,
             "#c51b7d"
            ],
            [
             0.2,
             "#de77ae"
            ],
            [
             0.3,
             "#f1b6da"
            ],
            [
             0.4,
             "#fde0ef"
            ],
            [
             0.5,
             "#f7f7f7"
            ],
            [
             0.6,
             "#e6f5d0"
            ],
            [
             0.7,
             "#b8e186"
            ],
            [
             0.8,
             "#7fbc41"
            ],
            [
             0.9,
             "#4d9221"
            ],
            [
             1,
             "#276419"
            ]
           ],
           "sequential": [
            [
             0,
             "#0d0887"
            ],
            [
             0.1111111111111111,
             "#46039f"
            ],
            [
             0.2222222222222222,
             "#7201a8"
            ],
            [
             0.3333333333333333,
             "#9c179e"
            ],
            [
             0.4444444444444444,
             "#bd3786"
            ],
            [
             0.5555555555555556,
             "#d8576b"
            ],
            [
             0.6666666666666666,
             "#ed7953"
            ],
            [
             0.7777777777777778,
             "#fb9f3a"
            ],
            [
             0.8888888888888888,
             "#fdca26"
            ],
            [
             1,
             "#f0f921"
            ]
           ],
           "sequentialminus": [
            [
             0,
             "#0d0887"
            ],
            [
             0.1111111111111111,
             "#46039f"
            ],
            [
             0.2222222222222222,
             "#7201a8"
            ],
            [
             0.3333333333333333,
             "#9c179e"
            ],
            [
             0.4444444444444444,
             "#bd3786"
            ],
            [
             0.5555555555555556,
             "#d8576b"
            ],
            [
             0.6666666666666666,
             "#ed7953"
            ],
            [
             0.7777777777777778,
             "#fb9f3a"
            ],
            [
             0.8888888888888888,
             "#fdca26"
            ],
            [
             1,
             "#f0f921"
            ]
           ]
          },
          "colorway": [
           "#636efa",
           "#EF553B",
           "#00cc96",
           "#ab63fa",
           "#FFA15A",
           "#19d3f3",
           "#FF6692",
           "#B6E880",
           "#FF97FF",
           "#FECB52"
          ],
          "font": {
           "color": "#2a3f5f"
          },
          "geo": {
           "bgcolor": "white",
           "lakecolor": "white",
           "landcolor": "#E5ECF6",
           "showlakes": true,
           "showland": true,
           "subunitcolor": "white"
          },
          "hoverlabel": {
           "align": "left"
          },
          "hovermode": "closest",
          "mapbox": {
           "style": "light"
          },
          "paper_bgcolor": "white",
          "plot_bgcolor": "#E5ECF6",
          "polar": {
           "angularaxis": {
            "gridcolor": "white",
            "linecolor": "white",
            "ticks": ""
           },
           "bgcolor": "#E5ECF6",
           "radialaxis": {
            "gridcolor": "white",
            "linecolor": "white",
            "ticks": ""
           }
          },
          "scene": {
           "xaxis": {
            "backgroundcolor": "#E5ECF6",
            "gridcolor": "white",
            "gridwidth": 2,
            "linecolor": "white",
            "showbackground": true,
            "ticks": "",
            "zerolinecolor": "white"
           },
           "yaxis": {
            "backgroundcolor": "#E5ECF6",
            "gridcolor": "white",
            "gridwidth": 2,
            "linecolor": "white",
            "showbackground": true,
            "ticks": "",
            "zerolinecolor": "white"
           },
           "zaxis": {
            "backgroundcolor": "#E5ECF6",
            "gridcolor": "white",
            "gridwidth": 2,
            "linecolor": "white",
            "showbackground": true,
            "ticks": "",
            "zerolinecolor": "white"
           }
          },
          "shapedefaults": {
           "line": {
            "color": "#2a3f5f"
           }
          },
          "ternary": {
           "aaxis": {
            "gridcolor": "white",
            "linecolor": "white",
            "ticks": ""
           },
           "baxis": {
            "gridcolor": "white",
            "linecolor": "white",
            "ticks": ""
           },
           "bgcolor": "#E5ECF6",
           "caxis": {
            "gridcolor": "white",
            "linecolor": "white",
            "ticks": ""
           }
          },
          "title": {
           "x": 0.05
          },
          "xaxis": {
           "automargin": true,
           "gridcolor": "white",
           "linecolor": "white",
           "ticks": "",
           "title": {
            "standoff": 15
           },
           "zerolinecolor": "white",
           "zerolinewidth": 2
          },
          "yaxis": {
           "automargin": true,
           "gridcolor": "white",
           "linecolor": "white",
           "ticks": "",
           "title": {
            "standoff": 15
           },
           "zerolinecolor": "white",
           "zerolinewidth": 2
          }
         }
        },
        "title": {
         "text": "Plotly Plot"
        }
       }
      }
     },
     "metadata": {},
     "output_type": "display_data"
    }
   ],
   "source": [
    "# When no interpolation function is provided, linear interpolation is used. No other interpolation function is implemented (yet?).\n",
    "# net.jump_at_intersection(intersection_width = 2, intersection_height = 2, interpolation_function=None) # These settings are just for visibility, this would be way to much\n",
    "\n",
    "# These setting are more appropriate for printing\n",
    "printing_params = load_params(r'DATA/NT_Eel_0.2mm_og.json')\n",
    "net.jump_at_intersection(intersection_width = printing_params['d_nozzle']*1.5, intersection_height = printing_params['layer_height'], interpolation_function=None) \n",
    "net.get_crossings()\n",
    "net.jump_at_crossings(crossing_width = printing_params['d_nozzle']*2, crossing_height = printing_params['layer_height']*3, interpolation_function = None)\n",
    "net.net_plot(color=True, plot_type='arcs', elables=True, vlabels=False)"
   ]
  },
  {
   "cell_type": "code",
   "execution_count": 7,
   "metadata": {},
   "outputs": [],
   "source": [
    "alpha_loop = np.deg2rad(6) # The angle of the loop\n",
    "L_loop  = 11                # The length of the loop\n",
    "n_points = 60               # The number of points in the loop\n",
    "\n",
    "start_loop_bools = [True, True, True, True]\n",
    "end_loop_bools = [True, True, True, True]\n",
    "\n",
    "net.all_loop_to_path(start_loop_bools, end_loop_bools, L_loop, alpha_loop, n_points)"
   ]
  },
  {
   "cell_type": "code",
   "execution_count": 8,
   "metadata": {},
   "outputs": [
    {
     "data": {
      "text/plain": [
       "(20, 20)"
      ]
     },
     "execution_count": 8,
     "metadata": {},
     "output_type": "execute_result"
    }
   ],
   "source": [
    "net.get_crossings()\n",
    "net.jump_at_crossings( crossing_width = 1, crossing_height = 1, interpolation_function = None)\n",
    "\n",
    "# crossings, net.crossings, net.intersections\n",
    "len(net.xyz_vec), net.edges.shape[0]"
   ]
  },
  {
   "cell_type": "code",
   "execution_count": 9,
   "metadata": {},
   "outputs": [
    {
     "data": {
      "application/vnd.plotly.v1+json": {
       "config": {
        "plotlyServerURL": "https://plot.ly"
       },
       "data": [
        {
         "line": {
          "color": "black",
          "width": 3
         },
         "mode": "lines",
         "type": "scatter3d",
         "x": [
          0.0331956564768916,
          0.9619986854158924,
          1.8905212770332582,
          2.8187634252972202,
          3.7467251241978374,
          4.674406367732445,
          5.601807149869273,
          6.528927464612934,
          7.455767305938934,
          8.382326667844609,
          9.308605544305465,
          10.23460392934794,
          11.16032181695482,
          12.085759201123437,
          13.010916075843852,
          13.935792435142503,
          14.860388272994896,
          15.784703583427472,
          16.708738360452116,
          17.63249259805889,
          null,
          17.63249259805889,
          18.508916142509406,
          19.3851465545431,
          20.261183819611688,
          21.137027923154164,
          22.012678850629527,
          22.888136587494955,
          23.763401119209448,
          24.638472431242917,
          25.513350509048905,
          26.38803533810278,
          27.262526903878097,
          28.136825191855678,
          29.010930187503618,
          29.88484187631002,
          30.758560243759348,
          31.632085275343343,
          32.505416956555564,
          33.378555272882295,
          34.25150020982801,
          null,
          34.25150020982983,
          33.28812863264466,
          32.324596097410904,
          31.360902616106614,
          30.39704820069528,
          29.43303286315495,
          28.468856615460027,
          27.50451946958492,
          26.540021437513133,
          25.575362531224528,
          24.610542762702607,
          23.645562143932693,
          22.680420686901925,
          21.715118403597444,
          20.749655306015484,
          19.784031406148642,
          18.818246715989517,
          17.852301247534342,
          16.88619501278845,
          15.91992802374807,
          null,
          1.9527933139070228,
          2.684235945875116,
          3.4160863801225787,
          4.148344606881437,
          4.881010616376443,
          5.614084398828709,
          6.347565944452072,
          7.081455243453092,
          7.81575228604197,
          8.550457062410715,
          9.285569562751334,
          10.021089777259476,
          10.757017696101684,
          11.493353309466329,
          12.230096607523592,
          12.96724758043274,
          13.704806218360318,
          14.442772511458315,
          15.181146449871449,
          15.91992802374807,
          null,
          15.919928023751709,
          15.043421906537333,
          14.167118093493627,
          13.291016600587682,
          12.415117443784766,
          11.539420639053787,
          10.663926202350922,
          9.788634149630525,
          8.913544496845134,
          8.038657259941829,
          7.1639724548713275,
          6.2894900975643395,
          5.415210203966126,
          4.541132790005577,
          3.667257871618858,
          2.7935854647239466,
          1.9201155852460943,
          1.0468482491050963,
          0.1737834722171101,
          -0.6990787295108021,
          null,
          17.632492598060708,
          16.66913530403326,
          15.705615468621545,
          14.741933104034615,
          13.77808822247789,
          12.814080836164067,
          11.8499109573022,
          10.885578598108623,
          9.921083770794212,
          8.956426487586214,
          7.991606760693685,
          7.0266246023475105,
          6.06148002476948,
          5.096173040185022,
          4.13070366082502,
          3.1650718989149027,
          2.1992777666910115,
          1.2333212763878691,
          0.2672024402399984,
          -0.6990787295108021,
          null,
          34.25150020983892,
          37.720160959202985,
          41.188710016796904,
          44.65714733768618,
          48.125472876852655,
          51.59368658936182,
          55.061788430259185,
          58.5297783545866,
          61.99765631741138,
          65.46542227373175,
          68.93307617861865,
          72.4006179871194,
          75.86804765431407,
          79.33536513519903,
          82.80257038485615,
          86.26966335833458,
          89.73664401069618,
          93.20351229702283,
          96.67026817232,
          100.13691159167502,
          null,
          -0.6990787295087557,
          -4.299030609555075,
          -7.898963530306901,
          -11.498877453680052,
          -15.09877234161354,
          -18.6986481560391,
          -22.298504858896422,
          -25.898342412101556,
          -29.498160777594876,
          -33.097959917309026,
          -36.69773979318347,
          -40.29750036713676,
          -43.89724160110859,
          -47.496963457032734,
          -51.09666589685071,
          -54.696348882479924,
          -58.29601237586212,
          -61.89565633893176,
          -65.4952807336308,
          -69.09488552187804,
          null,
          55.393369806584815,
          54.66228858051181,
          53.93075943459917,
          53.19878238063393,
          52.466357430392236,
          51.73348459567933,
          51.000163888289535,
          50.26639532003537,
          49.53217890273663,
          48.79751464821311,
          48.06240256829551,
          47.32684267482182,
          46.59083497964093,
          45.854379494598106,
          45.11747623156043,
          44.380125202391355,
          43.6423264189616,
          42.90407989315645,
          42.16538563686845,
          41.42624366198288,
          null,
          41.42624366197924,
          42.302467545569016,
          43.17852047341512,
          44.05440243412522,
          44.93011341630154,
          45.805653408539,
          46.68102239946165,
          47.556220377675345,
          48.431247331787745,
          49.306103250417436,
          50.18078812217573,
          51.055301935688476,
          51.92964467957427,
          52.80381634245532,
          53.677816912957496,
          54.551646379704835,
          55.42530473133775,
          56.29879195648391,
          57.17210804377464,
          58.04525298185217,
          null,
          39.713677802672464,
          40.677673870919534,
          41.64176148091792,
          42.605940628800454,
          43.57021131067813,
          44.53457352267651,
          45.49902726092114,
          46.46357252153757,
          47.42820930064772,
          48.39293759436623,
          49.35775739882229,
          50.32266871013053,
          51.287671524423786,
          52.25276583780942,
          53.21795164640571,
          54.18322894634548,
          55.148597733739734,
          56.114058004714025,
          57.079609755375714,
          58.045252981846716,
          null,
          57.312987348450406,
          56.38376751429314,
          55.45487434328243,
          54.526307843574614,
          53.5980680233406,
          52.67015489075857,
          51.74256845397031,
          50.81530872114672,
          49.88837570044416,
          48.96176940001169,
          48.03548982801294,
          47.10953699258971,
          46.183910901876516,
          45.25861156402971,
          44.333638987183804,
          43.4089931794806,
          42.48467414904735,
          41.56068190401129,
          40.63701645251422,
          39.7136778026761,
          null,
          39.7136778026761,
          38.837610921546,
          37.96169755701703,
          37.08593771827691,
          36.21033141450971,
          35.33487865490679,
          34.45957944864858,
          33.58443380492281,
          32.70944173290627,
          31.834603241779405,
          30.959918340719014,
          30.085387038905537,
          29.211009345513958,
          28.336785269710163,
          27.462714820672772,
          26.588798007565856,
          25.715034839562577,
          24.84142532583428,
          23.96796947553412,
          23.09466729783162,
          null,
          23.094667297824344,
          24.058669580186688,
          25.022762720444007,
          25.98694671478006,
          26.951221559385885,
          27.915587250427052,
          28.88004378408732,
          29.844591156557726,
          30.80922936400748,
          31.773958402620337,
          32.7387782685837,
          33.7036889580595,
          34.66869046723514,
          35.63378279229073,
          36.59896592939913,
          37.56423987474045,
          38.52960462449846,
          39.49506017483873,
          40.460606521937734,
          41.426243661975604,
          null,
          58.04525298183489,
          61.645236579569655,
          65.24519774764985,
          68.84513643250693,
          72.44505258046706,
          76.04494613796169,
          79.64481705131789,
          83.24466526696779,
          86.84449073126598,
          90.44429339056614,
          94.04407319130178,
          97.64383007980155,
          101.24356400249962,
          104.84327490575129,
          108.44296273591294,
          112.04262743941922,
          115.64226896260107,
          119.24188725189379,
          122.84148225362856,
          126.44105391424205,
          null,
          23.09466729782889,
          19.62586110070515,
          16.157182655770157,
          12.688632021920967,
          9.220209258030081,
          5.751914422972732,
          2.2837475756368804,
          -1.1842912251113376,
          -4.6522019203903255,
          -8.119984451334858,
          -11.587638759080619,
          -15.055164784751469,
          -18.52256246948855,
          -21.989831754435727,
          -25.456972580720503,
          -28.92398488949948,
          -32.39086862190197,
          -35.85762371908277,
          -39.324250122197554,
          -42.79074777238293,
          null,
          41.426243661984245,
          40.17406310886963,
          38.92186895578243,
          37.66966120793268,
          36.41743987051268,
          35.16520494873157,
          33.91295644778165,
          32.66069437287251,
          31.408418729197365,
          30.15612952196534,
          28.9038267563692,
          27.651510437618526,
          26.399180570906537,
          25.146837161442818,
          23.894480214420582,
          22.64210973504987,
          21.389725728523445,
          20.137328200051797,
          18.884917154827235,
          17.632492598061162,
          null,
          -0.6990787295103473,
          0.552964396809557,
          1.8050364663204164,
          3.057137455655038,
          4.309267341423038,
          5.561426100232438,
          6.813613708716048,
          8.065830143480298,
          9.31807538113253,
          10.570349398303279,
          11.822652171598293,
          13.074983677630371,
          14.327343893004581,
          15.579732794349411,
          16.832150358268336,
          18.084596561363924,
          19.337071380263296,
          20.589574791568793,
          21.842106771881618,
          23.094667297826618,
          null,
          15.919928023742614,
          17.172045739765508,
          18.424184068143404,
          19.67634299696965,
          20.9285225143376,
          22.18072260832878,
          23.432943267059272,
          24.6851844786097,
          25.937446231073864,
          27.189728512542388,
          28.44203131110862,
          29.69435461486364,
          30.946698411899888,
          32.19906269030798,
          33.45144743818037,
          34.70385264359584,
          35.956278294668664,
          37.208724379477644,
          38.461190886113855,
          39.71367780266792,
          null,
          58.04525298229419,
          56.79295051889494,
          55.54064801870845,
          54.28834548546001,
          53.03604291565716,
          51.78374031302519,
          50.53143767360598,
          49.279135001357645,
          48.0268322925549,
          46.774529550690204,
          45.52222677250393,
          44.26992396102287,
          43.0176211129874,
          41.76531823188998,
          40.51301531447098,
          39.260712363990024,
          38.00840937695466,
          36.756106356857345,
          35.50380330020562,
          34.25150021049194,
          null
         ],
         "y": [
          -98.77013053344854,
          -95.28718612723424,
          -91.80416694839005,
          -88.32107301949327,
          -84.83790436316303,
          -81.35466100190752,
          -77.87134295834221,
          -74.38795025505169,
          -70.90448291461689,
          -67.42094095962238,
          -63.93732441268912,
          -60.45363329632346,
          -56.96986763314999,
          -53.48602744575328,
          -50.00211275671609,
          -46.51812358862844,
          -43.03405996411129,
          -39.549921905676456,
          -36.06570943594852,
          -32.581422577519334,
          null,
          -32.581422577519334,
          -31.082869840990497,
          -29.58420416831632,
          -28.085425584376935,
          -26.586534114084316,
          -25.087529782323145,
          -23.58841261399084,
          -22.08918263398573,
          -20.589839867196133,
          -19.090384338544936,
          -17.590816072927737,
          -16.09113509524832,
          -14.59134143040501,
          -13.091435103326148,
          -11.59141613891552,
          -10.091284562084184,
          -8.591040397747747,
          -7.0906836708136325,
          -5.590214406221094,
          -4.089632628880281,
          null,
          -4.089632628880281,
          -2.6454395189557545,
          -1.201353791568181,
          0.24262453533810913,
          1.686495443824242,
          3.1302589159604395,
          4.573914933807828,
          6.017463479431171,
          7.460904534900692,
          8.90423808228661,
          10.347464103651873,
          11.790582581077615,
          13.23359349663042,
          14.676496832385965,
          16.11929257042175,
          17.56198069281527,
          19.004561181638564,
          20.44703401897823,
          21.88939918691176,
          23.33165666752211,
          null,
          90.38088106912528,
          86.85121132933091,
          83.32162612173397,
          79.79212549342537,
          76.26270949153331,
          72.73337816318326,
          69.20413155546157,
          65.6749697154919,
          62.145892690398796,
          58.61690052726408,
          55.08799327320776,
          51.55917097533802,
          48.03043368077306,
          44.501781436590136,
          40.97321428990654,
          37.444732287836814,
          33.916335477455505,
          30.388023905877162,
          26.859797620210884,
          23.331656667530297,
          null,
          23.33165666752302,
          21.83315222658166,
          20.33452947209662,
          18.83578843137002,
          17.336929131718534,
          15.837951600461565,
          14.338855864921243,
          12.839641952406055,
          11.340309890245408,
          9.84085970576507,
          8.341291426295356,
          6.8416050791565794,
          5.341800691683602,
          3.841878291212197,
          2.341837905079956,
          0.841679560616285,
          -0.6585967148348573,
          -2.1589908939286033,
          -3.659502949319176,
          -5.160132853669893,
          null,
          -32.581422577517515,
          -31.13721993991203,
          -29.693125738969684,
          -28.249139992984055,
          -26.80526272024872,
          -25.361493939053616,
          -23.917833667686864,
          -22.47428192444022,
          -21.030838727598166,
          -19.587504095445183,
          -18.144278046265754,
          -16.70116059834436,
          -15.258151769960023,
          -13.815251579395408,
          -12.372460044924082,
          -10.92977718482689,
          -9.487203017379215,
          -8.044737560856447,
          -6.602380833526695,
          -5.160132853668983,
          null,
          -4.089632628874824,
          -3.1088322403993516,
          -2.1276369329898444,
          -1.1460467193537625,
          -0.1640616122422216,
          0.8183183756336803,
          1.8010932315337413,
          2.78426294271776,
          3.767827496456448,
          4.751786879969586,
          5.7361410805278865,
          6.7208900853584055,
          7.706033881706389,
          8.69157245678798,
          9.677505797833874,
          10.663833892067487,
          11.650556726694049,
          12.637674288936978,
          13.625186565979675,
          14.61309354504192,
          null,
          -5.160132853670802,
          -5.34431553525792,
          -5.52886841383588,
          -5.713791487440176,
          -5.8990847541208495,
          -6.084748211920669,
          -6.270781858867849,
          -6.457185693005158,
          -6.643959712353535,
          -6.831103914941195,
          -7.018618298789079,
          -7.206502861910849,
          -7.394757602327445,
          -7.583382518045255,
          -7.77237760706339,
          -7.961742867388239,
          -8.151478297018912,
          -8.341583893954521,
          -8.532059656165075,
          -8.722905581649684,
          null,
          -103.62712322140942,
          -100.09737860830319,
          -96.56772679805908,
          -93.03816784752053,
          -89.50870181352275,
          -85.97932875290462,
          -82.4500487225041,
          -78.9208617791528,
          -75.39176797968594,
          -71.86276738093329,
          -68.33386003972464,
          -64.80504601289067,
          -61.2763253572557,
          -57.74769812964587,
          -54.219164386886405,
          -50.69072418579799,
          -47.162377583202215,
          -43.63412463591885,
          -40.10596540076676,
          -36.577899934560264,
          null,
          -36.57789993456572,
          -35.07923044459494,
          -33.580461015378205,
          -32.081591666420536,
          -30.5826224172215,
          -29.083553287299765,
          -27.584384296133976,
          -26.08511546324371,
          -24.58574680813581,
          -23.086278350319844,
          -21.586710109306296,
          -20.087042104608372,
          -18.587274355733825,
          -17.08740688220314,
          -15.587439703528617,
          -14.087372839236195,
          -12.587206308826353,
          -11.08694013182594,
          -9.586574327756352,
          -8.086108916140802,
          null,
          19.335183393708576,
          17.891407054732554,
          16.447691841531196,
          15.004037759897983,
          13.560444815659139,
          12.116913014604506,
          10.673442362542119,
          9.230032865270914,
          7.786684528586193,
          6.343397358308721,
          4.900171360233799,
          3.4570065401621832,
          2.013902903883718,
          0.5708604572246259,
          -0.8721207940270688,
          -2.3150408440669707,
          -3.757899687097961,
          -5.200697317328377,
          -6.6434337289356336,
          -8.086108916133526,
          null,
          85.52388553167657,
          82.04105230273308,
          78.55813193648464,
          75.07512446356304,
          71.59202991461098,
          68.10884832028387,
          64.62557971119168,
          61.142224117991645,
          57.658781571322834,
          54.175252101831575,
          50.6916357401642,
          47.20793251695795,
          43.72414246286462,
          40.240265608528716,
          36.75630198459476,
          33.27225162173272,
          29.788114550550745,
          26.303890801718808,
          22.819580405885063,
          19.3351833937013,
          null,
          19.335183393708576,
          17.836422120268253,
          16.337571122732697,
          14.838630416834349,
          13.339600018281999,
          11.840479942811726,
          10.341270206148693,
          8.841970824025339,
          7.342581812172284,
          5.843103186309236,
          4.343534962175909,
          2.8438771554992854,
          1.3441297820227192,
          -0.1557071425340837,
          -1.6556336024277698,
          -3.1556495819259,
          -4.6557550652887585,
          -6.1559500367748115,
          -7.656234480657076,
          -9.156608381188562,
          null,
          -9.156608381186743,
          -10.600380571044298,
          -12.044092091227867,
          -13.487742936020368,
          -14.931333099713811,
          -16.374862576565647,
          -17.8183313608788,
          -19.261739446927095,
          -20.705086828995263,
          -22.14837350136986,
          -23.591599458350174,
          -25.034764694190017,
          -26.477869203188675,
          -27.920912979627246,
          -29.363896017797742,
          -30.80681831198126,
          -32.24967985647163,
          -33.692480645537216,
          -35.13522067347185,
          -36.57789993456208,
          null,
          -8.086108916137164,
          -7.902547236277314,
          -7.71854619716396,
          -7.534105801525584,
          -7.349226052123413,
          -7.163906951700483,
          -6.978148503025295,
          -6.791950708859076,
          -6.605313571977604,
          -6.418237095160293,
          -6.230721281190199,
          -6.0427661328649265,
          -5.854371652985719,
          -5.665537844353821,
          -5.476264709788666,
          -5.286552252098772,
          -5.096400474118127,
          -4.905809378677077,
          -4.7147789686168835,
          -4.523309246778808,
          null,
          -9.1566083811922,
          -10.136894236802618,
          -11.117632039480668,
          -12.098821772571682,
          -13.08046341942827,
          -14.062556963377574,
          -15.045102387757652,
          -16.028099675877456,
          -17.011548811056855,
          -17.995449776597525,
          -18.979802555797505,
          -19.964607131951198,
          -20.949863488334813,
          -21.9355716082282,
          -22.921731474893022,
          -23.908343071590934,
          -24.895406381576322,
          -25.88292138808174,
          -26.870888074357936,
          -27.85930642362655,
          null,
          -36.577899934560264,
          -36.36683268336128,
          -36.155846131394355,
          -35.944940279528964,
          -35.73411512864186,
          -35.5233706796098,
          -35.31270693330953,
          -35.102123890614166,
          -34.89162155239683,
          -34.6811999195379,
          -34.47085899290323,
          -34.260598773373204,
          -34.0504192618173,
          -33.840320459108625,
          -33.630302366120304,
          -33.42036498372545,
          -33.21050831280081,
          -33.000732354208594,
          -32.79103710882191,
          -32.58142257751388,
          null,
          -5.160132853668983,
          -5.372013787260585,
          -5.583723619143711,
          -5.795262345367519,
          -6.006629961979343,
          -6.217826465030157,
          -6.428851850580031,
          -6.639706114685396,
          -6.850389253408139,
          -7.060901262815605,
          -7.27124213897514,
          -7.481411877959545,
          -7.6914104758416215,
          -7.901237928703267,
          -8.11089423262274,
          -8.320379383685577,
          -8.529693377980948,
          -8.738836211599846,
          -8.947807880633263,
          -9.156608381183105,
          null,
          23.331656667527568,
          23.120216967763554,
          22.908899367876074,
          22.697703869876932,
          22.486630475772472,
          22.275679187572678,
          22.064850007278437,
          21.854142936899734,
          21.643557978435638,
          21.433095133890674,
          21.22275440526755,
          21.012535794565338,
          20.802439303781284,
          20.59246493491446,
          20.382612689962116,
          20.1728825709215,
          19.963274579782592,
          19.753788718540818,
          19.544424989186155,
          19.335183393714033,
          null,
          -8.086108915507793,
          -7.875766195356846,
          -7.66542368195951,
          -7.455081374384463,
          -7.2447392754256725,
          -7.034397383220494,
          -6.824055696837604,
          -6.613714219070971,
          -6.403372947126627,
          -6.193031882867217,
          -5.982691026292741,
          -5.7723503755405545,
          -5.562009932473302,
          -5.351669696159661,
          -5.141329667530954,
          -4.9309898456558585,
          -4.720650230534375,
          -4.510310823097825,
          -4.299971622414887,
          -4.08963262848556,
          null
         ],
         "z": [
          0,
          0,
          0,
          0,
          0,
          0,
          0,
          0,
          0,
          0,
          0,
          0,
          0,
          0,
          0,
          0,
          0,
          0,
          0,
          0,
          null,
          0,
          0,
          0,
          0,
          0,
          0,
          0,
          0,
          0,
          0,
          0,
          0,
          0,
          0,
          0,
          0,
          0,
          0,
          0,
          0,
          null,
          0,
          0,
          0,
          0,
          0,
          0,
          0,
          0,
          0,
          0,
          0,
          0,
          0,
          0,
          0,
          0,
          0,
          0,
          0,
          0,
          null,
          0,
          0,
          0,
          0,
          0,
          0,
          0,
          0,
          0,
          0,
          0,
          0,
          0,
          0,
          0,
          0,
          0,
          0,
          0,
          0.19999999999784743,
          null,
          0,
          0,
          0,
          0,
          0,
          0,
          0,
          0,
          0,
          0,
          0,
          0,
          0,
          0,
          0,
          0,
          0,
          0,
          0,
          0,
          null,
          0.19999999999992643,
          0,
          0,
          0,
          0,
          0,
          0,
          0,
          0,
          0,
          0,
          0,
          0,
          0,
          0,
          0,
          0,
          0,
          0,
          0.19999999999971466,
          null,
          0.1999999999969691,
          0,
          0,
          0,
          0,
          0,
          0,
          0,
          0,
          0,
          0,
          0,
          0,
          0,
          0,
          0,
          0,
          0,
          0,
          0,
          null,
          0,
          0,
          0,
          0,
          0,
          0,
          0,
          0,
          0,
          0,
          0,
          0,
          0,
          0,
          0,
          0,
          0,
          0,
          0,
          0,
          null,
          0,
          0,
          0,
          0,
          0,
          0,
          0,
          0,
          0,
          0,
          0,
          0,
          0,
          0,
          0,
          0,
          0,
          0,
          0,
          0,
          null,
          0.1999999999978228,
          0,
          0,
          0,
          0,
          0,
          0,
          0,
          0,
          0,
          0,
          0,
          0,
          0,
          0,
          0,
          0,
          0,
          0,
          0,
          null,
          0,
          0,
          0,
          0,
          0,
          0,
          0,
          0,
          0,
          0,
          0,
          0,
          0,
          0.48415053755971305,
          0,
          0,
          0,
          0,
          0,
          0,
          null,
          0,
          0,
          0,
          0,
          0,
          0,
          0,
          0,
          0,
          0,
          0,
          0,
          0,
          0,
          0,
          0,
          0,
          0,
          0,
          0,
          null,
          0,
          0,
          0,
          0,
          0,
          0,
          0,
          0,
          0,
          0,
          0,
          0.4896149453765609,
          0,
          0,
          0,
          0,
          0,
          0,
          0,
          0,
          null,
          0,
          0,
          0,
          0,
          0.050780695124871045,
          0.21313329400450953,
          0,
          0,
          0,
          0,
          0,
          0,
          0,
          0,
          0,
          0,
          0,
          0,
          0,
          0,
          null,
          0,
          0,
          0,
          0,
          0,
          0,
          0,
          0,
          0,
          0,
          0,
          0,
          0,
          0,
          0,
          0,
          0,
          0,
          0,
          0,
          null,
          0,
          0,
          0,
          0,
          0,
          0.48892477973983295,
          0,
          0,
          0,
          0,
          0,
          0,
          0,
          0,
          0,
          0,
          0,
          0,
          0,
          0,
          null,
          0,
          0,
          0,
          0,
          0,
          0,
          0,
          0,
          0,
          0,
          0,
          0,
          0,
          0,
          0,
          0,
          0,
          0,
          0,
          0.1999999999987801,
          null,
          0.19999999999980012,
          0,
          0,
          0,
          0,
          0,
          0,
          0,
          0,
          0,
          0,
          0,
          0,
          0,
          0,
          0,
          0,
          0,
          0,
          0,
          null,
          0.1999999999974121,
          0,
          0,
          0,
          0,
          0,
          0,
          0,
          0,
          0,
          0,
          0,
          0,
          0,
          0,
          0,
          0,
          0,
          0,
          0.199999999997668,
          null,
          0.19999999974421812,
          0,
          0,
          0,
          0,
          0,
          0,
          0,
          0,
          0,
          0,
          0,
          0,
          0,
          0,
          0,
          0,
          0,
          0,
          0.19999999974356733,
          null
         ]
        },
        {
         "mode": "text",
         "text": [
          "0"
         ],
         "type": "scatter3d",
         "x": [
          8.832844127270532
         ],
         "y": [
          -65.6757765554787
         ],
         "z": [
          0
         ]
        },
        {
         "mode": "text",
         "text": [
          "1"
         ],
         "type": "scatter3d",
         "x": [
          25.941996403945843
         ],
         "y": [
          -18.335527603198177
         ],
         "z": [
          0
         ]
        },
        {
         "mode": "text",
         "text": [
          "2"
         ],
         "type": "scatter3d",
         "x": [
          25.085714116790136
         ],
         "y": [
          9.621012019322587
         ],
         "z": [
          0
         ]
        },
        {
         "mode": "text",
         "text": [
          "3"
         ],
         "type": "scatter3d",
         "x": [
          8.936360668828934
         ],
         "y": [
          56.85626886832196
         ],
         "z": [
          0
         ]
        },
        {
         "mode": "text",
         "text": [
          "4"
         ],
         "type": "scatter3d",
         "x": [
          7.610424647119673
         ],
         "y": [
          9.085761906927795
         ],
         "z": [
          0
         ]
        },
        {
         "mode": "text",
         "text": [
          "5"
         ],
         "type": "scatter3d",
         "x": [
          8.466706934275383
         ],
         "y": [
          -18.870777715592972
         ],
         "z": [
          0
         ]
        },
        {
         "mode": "text",
         "text": [
          "6"
         ],
         "type": "scatter3d",
         "x": [
          67.1942059007585
         ],
         "y": [
          5.261730458081427
         ],
         "z": [
          0
         ]
        },
        {
         "mode": "text",
         "text": [
          "7"
         ],
         "type": "scatter3d",
         "x": [
          -34.896982125694
         ],
         "y": [
          -6.941519217660382
         ],
         "z": [
          0
         ]
        },
        {
         "mode": "text",
         "text": [
          "8"
         ],
         "type": "scatter3d",
         "x": [
          48.40980673428317
         ],
         "y": [
          -70.10251157798484
         ],
         "z": [
          0
         ]
        },
        {
         "mode": "text",
         "text": [
          "9"
         ],
         "type": "scatter3d",
         "x": [
          49.73574832191862
         ],
         "y": [
          -22.332004425348444
         ],
         "z": [
          0
         ]
        },
        {
         "mode": "text",
         "text": [
          "10"
         ],
         "type": "scatter3d",
         "x": [
          48.879465392264336
         ],
         "y": [
          5.624537238786909
         ],
         "z": [
          0
         ]
        },
        {
         "mode": "text",
         "text": [
          "11"
         ],
         "type": "scatter3d",
         "x": [
          48.51333257556041
         ],
         "y": [
          52.42953446269274
         ],
         "z": [
          0
         ]
        },
        {
         "mode": "text",
         "text": [
          "12"
         ],
         "type": "scatter3d",
         "x": [
          31.404172550252095
         ],
         "y": [
          5.089287506262998
         ],
         "z": [
          0
         ]
        },
        {
         "mode": "text",
         "text": [
          "13"
         ],
         "type": "scatter3d",
         "x": [
          32.26045547990638
         ],
         "y": [
          -22.867254157872356
         ],
         "z": [
          0
         ]
        },
        {
         "mode": "text",
         "text": [
          "14"
         ],
         "type": "scatter3d",
         "x": [
          92.24315344804596
         ],
         "y": [
          -6.3047090814565685
         ],
         "z": [
          0
         ]
        },
        {
         "mode": "text",
         "text": [
          "15"
         ],
         "type": "scatter3d",
         "x": [
          -9.848040237277804
         ],
         "y": [
          -18.507957402401534
         ],
         "z": [
          0
         ]
        },
        {
         "mode": "text",
         "text": [
          "16"
         ],
         "type": "scatter3d",
         "x": [
          29.529368130021755
         ],
         "y": [
          -34.57966125603882
         ],
         "z": [
          0
         ]
        },
        {
         "mode": "text",
         "text": [
          "17"
         ],
         "type": "scatter3d",
         "x": [
          11.197794284160008
         ],
         "y": [
          -7.158370617426508
         ],
         "z": [
          0
         ]
        },
        {
         "mode": "text",
         "text": [
          "18"
         ],
         "type": "scatter3d",
         "x": [
          27.81680291321176
         ],
         "y": [
          21.3334200306173
         ],
         "z": [
          0
         ]
        },
        {
         "mode": "text",
         "text": [
          "19"
         ],
         "type": "scatter3d",
         "x": [
          46.148376595842706
         ],
         "y": [
          -6.087870772507806
         ],
         "z": [
          0
         ]
        }
       ],
       "layout": {
        "scene": {
         "aspectmode": "data"
        },
        "template": {
         "data": {
          "bar": [
           {
            "error_x": {
             "color": "#2a3f5f"
            },
            "error_y": {
             "color": "#2a3f5f"
            },
            "marker": {
             "line": {
              "color": "#E5ECF6",
              "width": 0.5
             },
             "pattern": {
              "fillmode": "overlay",
              "size": 10,
              "solidity": 0.2
             }
            },
            "type": "bar"
           }
          ],
          "barpolar": [
           {
            "marker": {
             "line": {
              "color": "#E5ECF6",
              "width": 0.5
             },
             "pattern": {
              "fillmode": "overlay",
              "size": 10,
              "solidity": 0.2
             }
            },
            "type": "barpolar"
           }
          ],
          "carpet": [
           {
            "aaxis": {
             "endlinecolor": "#2a3f5f",
             "gridcolor": "white",
             "linecolor": "white",
             "minorgridcolor": "white",
             "startlinecolor": "#2a3f5f"
            },
            "baxis": {
             "endlinecolor": "#2a3f5f",
             "gridcolor": "white",
             "linecolor": "white",
             "minorgridcolor": "white",
             "startlinecolor": "#2a3f5f"
            },
            "type": "carpet"
           }
          ],
          "choropleth": [
           {
            "colorbar": {
             "outlinewidth": 0,
             "ticks": ""
            },
            "type": "choropleth"
           }
          ],
          "contour": [
           {
            "colorbar": {
             "outlinewidth": 0,
             "ticks": ""
            },
            "colorscale": [
             [
              0,
              "#0d0887"
             ],
             [
              0.1111111111111111,
              "#46039f"
             ],
             [
              0.2222222222222222,
              "#7201a8"
             ],
             [
              0.3333333333333333,
              "#9c179e"
             ],
             [
              0.4444444444444444,
              "#bd3786"
             ],
             [
              0.5555555555555556,
              "#d8576b"
             ],
             [
              0.6666666666666666,
              "#ed7953"
             ],
             [
              0.7777777777777778,
              "#fb9f3a"
             ],
             [
              0.8888888888888888,
              "#fdca26"
             ],
             [
              1,
              "#f0f921"
             ]
            ],
            "type": "contour"
           }
          ],
          "contourcarpet": [
           {
            "colorbar": {
             "outlinewidth": 0,
             "ticks": ""
            },
            "type": "contourcarpet"
           }
          ],
          "heatmap": [
           {
            "colorbar": {
             "outlinewidth": 0,
             "ticks": ""
            },
            "colorscale": [
             [
              0,
              "#0d0887"
             ],
             [
              0.1111111111111111,
              "#46039f"
             ],
             [
              0.2222222222222222,
              "#7201a8"
             ],
             [
              0.3333333333333333,
              "#9c179e"
             ],
             [
              0.4444444444444444,
              "#bd3786"
             ],
             [
              0.5555555555555556,
              "#d8576b"
             ],
             [
              0.6666666666666666,
              "#ed7953"
             ],
             [
              0.7777777777777778,
              "#fb9f3a"
             ],
             [
              0.8888888888888888,
              "#fdca26"
             ],
             [
              1,
              "#f0f921"
             ]
            ],
            "type": "heatmap"
           }
          ],
          "heatmapgl": [
           {
            "colorbar": {
             "outlinewidth": 0,
             "ticks": ""
            },
            "colorscale": [
             [
              0,
              "#0d0887"
             ],
             [
              0.1111111111111111,
              "#46039f"
             ],
             [
              0.2222222222222222,
              "#7201a8"
             ],
             [
              0.3333333333333333,
              "#9c179e"
             ],
             [
              0.4444444444444444,
              "#bd3786"
             ],
             [
              0.5555555555555556,
              "#d8576b"
             ],
             [
              0.6666666666666666,
              "#ed7953"
             ],
             [
              0.7777777777777778,
              "#fb9f3a"
             ],
             [
              0.8888888888888888,
              "#fdca26"
             ],
             [
              1,
              "#f0f921"
             ]
            ],
            "type": "heatmapgl"
           }
          ],
          "histogram": [
           {
            "marker": {
             "pattern": {
              "fillmode": "overlay",
              "size": 10,
              "solidity": 0.2
             }
            },
            "type": "histogram"
           }
          ],
          "histogram2d": [
           {
            "colorbar": {
             "outlinewidth": 0,
             "ticks": ""
            },
            "colorscale": [
             [
              0,
              "#0d0887"
             ],
             [
              0.1111111111111111,
              "#46039f"
             ],
             [
              0.2222222222222222,
              "#7201a8"
             ],
             [
              0.3333333333333333,
              "#9c179e"
             ],
             [
              0.4444444444444444,
              "#bd3786"
             ],
             [
              0.5555555555555556,
              "#d8576b"
             ],
             [
              0.6666666666666666,
              "#ed7953"
             ],
             [
              0.7777777777777778,
              "#fb9f3a"
             ],
             [
              0.8888888888888888,
              "#fdca26"
             ],
             [
              1,
              "#f0f921"
             ]
            ],
            "type": "histogram2d"
           }
          ],
          "histogram2dcontour": [
           {
            "colorbar": {
             "outlinewidth": 0,
             "ticks": ""
            },
            "colorscale": [
             [
              0,
              "#0d0887"
             ],
             [
              0.1111111111111111,
              "#46039f"
             ],
             [
              0.2222222222222222,
              "#7201a8"
             ],
             [
              0.3333333333333333,
              "#9c179e"
             ],
             [
              0.4444444444444444,
              "#bd3786"
             ],
             [
              0.5555555555555556,
              "#d8576b"
             ],
             [
              0.6666666666666666,
              "#ed7953"
             ],
             [
              0.7777777777777778,
              "#fb9f3a"
             ],
             [
              0.8888888888888888,
              "#fdca26"
             ],
             [
              1,
              "#f0f921"
             ]
            ],
            "type": "histogram2dcontour"
           }
          ],
          "mesh3d": [
           {
            "colorbar": {
             "outlinewidth": 0,
             "ticks": ""
            },
            "type": "mesh3d"
           }
          ],
          "parcoords": [
           {
            "line": {
             "colorbar": {
              "outlinewidth": 0,
              "ticks": ""
             }
            },
            "type": "parcoords"
           }
          ],
          "pie": [
           {
            "automargin": true,
            "type": "pie"
           }
          ],
          "scatter": [
           {
            "fillpattern": {
             "fillmode": "overlay",
             "size": 10,
             "solidity": 0.2
            },
            "type": "scatter"
           }
          ],
          "scatter3d": [
           {
            "line": {
             "colorbar": {
              "outlinewidth": 0,
              "ticks": ""
             }
            },
            "marker": {
             "colorbar": {
              "outlinewidth": 0,
              "ticks": ""
             }
            },
            "type": "scatter3d"
           }
          ],
          "scattercarpet": [
           {
            "marker": {
             "colorbar": {
              "outlinewidth": 0,
              "ticks": ""
             }
            },
            "type": "scattercarpet"
           }
          ],
          "scattergeo": [
           {
            "marker": {
             "colorbar": {
              "outlinewidth": 0,
              "ticks": ""
             }
            },
            "type": "scattergeo"
           }
          ],
          "scattergl": [
           {
            "marker": {
             "colorbar": {
              "outlinewidth": 0,
              "ticks": ""
             }
            },
            "type": "scattergl"
           }
          ],
          "scattermapbox": [
           {
            "marker": {
             "colorbar": {
              "outlinewidth": 0,
              "ticks": ""
             }
            },
            "type": "scattermapbox"
           }
          ],
          "scatterpolar": [
           {
            "marker": {
             "colorbar": {
              "outlinewidth": 0,
              "ticks": ""
             }
            },
            "type": "scatterpolar"
           }
          ],
          "scatterpolargl": [
           {
            "marker": {
             "colorbar": {
              "outlinewidth": 0,
              "ticks": ""
             }
            },
            "type": "scatterpolargl"
           }
          ],
          "scatterternary": [
           {
            "marker": {
             "colorbar": {
              "outlinewidth": 0,
              "ticks": ""
             }
            },
            "type": "scatterternary"
           }
          ],
          "surface": [
           {
            "colorbar": {
             "outlinewidth": 0,
             "ticks": ""
            },
            "colorscale": [
             [
              0,
              "#0d0887"
             ],
             [
              0.1111111111111111,
              "#46039f"
             ],
             [
              0.2222222222222222,
              "#7201a8"
             ],
             [
              0.3333333333333333,
              "#9c179e"
             ],
             [
              0.4444444444444444,
              "#bd3786"
             ],
             [
              0.5555555555555556,
              "#d8576b"
             ],
             [
              0.6666666666666666,
              "#ed7953"
             ],
             [
              0.7777777777777778,
              "#fb9f3a"
             ],
             [
              0.8888888888888888,
              "#fdca26"
             ],
             [
              1,
              "#f0f921"
             ]
            ],
            "type": "surface"
           }
          ],
          "table": [
           {
            "cells": {
             "fill": {
              "color": "#EBF0F8"
             },
             "line": {
              "color": "white"
             }
            },
            "header": {
             "fill": {
              "color": "#C8D4E3"
             },
             "line": {
              "color": "white"
             }
            },
            "type": "table"
           }
          ]
         },
         "layout": {
          "annotationdefaults": {
           "arrowcolor": "#2a3f5f",
           "arrowhead": 0,
           "arrowwidth": 1
          },
          "autotypenumbers": "strict",
          "coloraxis": {
           "colorbar": {
            "outlinewidth": 0,
            "ticks": ""
           }
          },
          "colorscale": {
           "diverging": [
            [
             0,
             "#8e0152"
            ],
            [
             0.1,
             "#c51b7d"
            ],
            [
             0.2,
             "#de77ae"
            ],
            [
             0.3,
             "#f1b6da"
            ],
            [
             0.4,
             "#fde0ef"
            ],
            [
             0.5,
             "#f7f7f7"
            ],
            [
             0.6,
             "#e6f5d0"
            ],
            [
             0.7,
             "#b8e186"
            ],
            [
             0.8,
             "#7fbc41"
            ],
            [
             0.9,
             "#4d9221"
            ],
            [
             1,
             "#276419"
            ]
           ],
           "sequential": [
            [
             0,
             "#0d0887"
            ],
            [
             0.1111111111111111,
             "#46039f"
            ],
            [
             0.2222222222222222,
             "#7201a8"
            ],
            [
             0.3333333333333333,
             "#9c179e"
            ],
            [
             0.4444444444444444,
             "#bd3786"
            ],
            [
             0.5555555555555556,
             "#d8576b"
            ],
            [
             0.6666666666666666,
             "#ed7953"
            ],
            [
             0.7777777777777778,
             "#fb9f3a"
            ],
            [
             0.8888888888888888,
             "#fdca26"
            ],
            [
             1,
             "#f0f921"
            ]
           ],
           "sequentialminus": [
            [
             0,
             "#0d0887"
            ],
            [
             0.1111111111111111,
             "#46039f"
            ],
            [
             0.2222222222222222,
             "#7201a8"
            ],
            [
             0.3333333333333333,
             "#9c179e"
            ],
            [
             0.4444444444444444,
             "#bd3786"
            ],
            [
             0.5555555555555556,
             "#d8576b"
            ],
            [
             0.6666666666666666,
             "#ed7953"
            ],
            [
             0.7777777777777778,
             "#fb9f3a"
            ],
            [
             0.8888888888888888,
             "#fdca26"
            ],
            [
             1,
             "#f0f921"
            ]
           ]
          },
          "colorway": [
           "#636efa",
           "#EF553B",
           "#00cc96",
           "#ab63fa",
           "#FFA15A",
           "#19d3f3",
           "#FF6692",
           "#B6E880",
           "#FF97FF",
           "#FECB52"
          ],
          "font": {
           "color": "#2a3f5f"
          },
          "geo": {
           "bgcolor": "white",
           "lakecolor": "white",
           "landcolor": "#E5ECF6",
           "showlakes": true,
           "showland": true,
           "subunitcolor": "white"
          },
          "hoverlabel": {
           "align": "left"
          },
          "hovermode": "closest",
          "mapbox": {
           "style": "light"
          },
          "paper_bgcolor": "white",
          "plot_bgcolor": "#E5ECF6",
          "polar": {
           "angularaxis": {
            "gridcolor": "white",
            "linecolor": "white",
            "ticks": ""
           },
           "bgcolor": "#E5ECF6",
           "radialaxis": {
            "gridcolor": "white",
            "linecolor": "white",
            "ticks": ""
           }
          },
          "scene": {
           "xaxis": {
            "backgroundcolor": "#E5ECF6",
            "gridcolor": "white",
            "gridwidth": 2,
            "linecolor": "white",
            "showbackground": true,
            "ticks": "",
            "zerolinecolor": "white"
           },
           "yaxis": {
            "backgroundcolor": "#E5ECF6",
            "gridcolor": "white",
            "gridwidth": 2,
            "linecolor": "white",
            "showbackground": true,
            "ticks": "",
            "zerolinecolor": "white"
           },
           "zaxis": {
            "backgroundcolor": "#E5ECF6",
            "gridcolor": "white",
            "gridwidth": 2,
            "linecolor": "white",
            "showbackground": true,
            "ticks": "",
            "zerolinecolor": "white"
           }
          },
          "shapedefaults": {
           "line": {
            "color": "#2a3f5f"
           }
          },
          "ternary": {
           "aaxis": {
            "gridcolor": "white",
            "linecolor": "white",
            "ticks": ""
           },
           "baxis": {
            "gridcolor": "white",
            "linecolor": "white",
            "ticks": ""
           },
           "bgcolor": "#E5ECF6",
           "caxis": {
            "gridcolor": "white",
            "linecolor": "white",
            "ticks": ""
           }
          },
          "title": {
           "x": 0.05
          },
          "xaxis": {
           "automargin": true,
           "gridcolor": "white",
           "linecolor": "white",
           "ticks": "",
           "title": {
            "standoff": 15
           },
           "zerolinecolor": "white",
           "zerolinewidth": 2
          },
          "yaxis": {
           "automargin": true,
           "gridcolor": "white",
           "linecolor": "white",
           "ticks": "",
           "title": {
            "standoff": 15
           },
           "zerolinecolor": "white",
           "zerolinewidth": 2
          }
         }
        },
        "title": {
         "text": "Plotly Plot"
        }
       }
      }
     },
     "metadata": {},
     "output_type": "display_data"
    }
   ],
   "source": [
    "net.net_plot(color=True, plot_type='arcs', elables=True, vlabels=False)"
   ]
  }
 ],
 "metadata": {
  "kernelspec": {
   "display_name": "base",
   "language": "python",
   "name": "python3"
  },
  "language_info": {
   "codemirror_mode": {
    "name": "ipython",
    "version": 3
   },
   "file_extension": ".py",
   "mimetype": "text/x-python",
   "name": "python",
   "nbconvert_exporter": "python",
   "pygments_lexer": "ipython3",
   "version": "3.12.3"
  }
 },
 "nbformat": 4,
 "nbformat_minor": 2
}
