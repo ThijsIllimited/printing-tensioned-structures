{
 "cells": [
  {
   "cell_type": "code",
   "execution_count": 1,
   "metadata": {},
   "outputs": [
    {
     "name": "stdout",
     "output_type": "stream",
     "text": [
      "[(-0.35355339059327373, 0.35355339059327373), (0.6464466094067263, 1.3535533905932737), (0.6828033579181774, 1.3865052266813684), (0.722214883490199, 1.4157348061512727), (0.7643016315870012, 1.4409606321741775), (0.8086582838174552, 1.4619397662556435), (0.854857661372769, 1.4784701678661045), (0.9024548389919359, 1.4903926402016152), (0.9509914298352197, 1.4975923633360986), (1.0, 1.5), (1.0490085701647804, 1.4975923633360984), (1.0975451610080642, 1.4903926402016152), (1.1451423386272312, 1.4784701678661045), (1.1913417161825448, 1.4619397662556435), (1.235698368412999, 1.4409606321741775), (1.277785116509801, 1.4157348061512727), (1.3171966420818229, 1.3865052266813684), (1.3535533905932737, 1.3535533905932737), (2.353553390593274, 0.35355339059327373)]\n"
     ]
    }
   ],
   "source": [
    "from shapely.geometry import LineString\n",
    "from shapely.affinity import translate\n",
    "\n",
    "def offset_polyline(points, offset_distance):\n",
    "    \"\"\"\n",
    "    Offset a polyline by a given orthogonal distance.\n",
    "    :param points: List of (x, y) tuples representing the polyline\n",
    "    :param offset_distance: Distance to offset (positive for one side, negative for the other)\n",
    "    :return: List of (x, y) tuples representing the offset polyline\n",
    "    \"\"\"\n",
    "    # Create a Shapely LineString from the points\n",
    "    line = LineString(points)\n",
    "\n",
    "    # Offset the line (buffer with zero width and a positive/negative distance)\n",
    "    offset = line.parallel_offset(offset_distance, side='left' if offset_distance > 0 else 'right')\n",
    "\n",
    "    # Extract the coordinates of the offset polyline\n",
    "    return list(offset.coords)\n",
    "\n",
    "# Example usage\n",
    "polyline = [(0, 0), (1, 1), (2, 0)]\n",
    "offset_distance = 0.5  # mm\n",
    "offset_polyline_coords = offset_polyline(polyline, offset_distance)\n",
    "print(offset_polyline_coords)\n"
   ]
  },
  {
   "cell_type": "code",
   "execution_count": 2,
   "metadata": {},
   "outputs": [
    {
     "data": {
      "image/png": "[encoded data removed]",
      "text/plain": [
       "<Figure size 640x480 with 1 Axes>"
      ]
     },
     "metadata": {},
     "output_type": "display_data"
    }
   ],
   "source": [
    "import matplotlib.pyplot as plt\n",
    "\n",
    "# Plot the original polyline\n",
    "x, y = zip(*polyline)\n",
    "plt.plot(x, y, 'o-', label='Polyline')\n",
    "\n",
    "# Plot the offset polyline\n",
    "x, y = zip(*offset_polyline_coords)\n",
    "plt.plot(x, y, 'o-', label='Offset polyline')\n",
    "\n",
    "plt.gca().set_aspect('equal', adjustable='box')\n",
    "plt.legend()\n",
    "plt.show()\n",
    "\n"
   ]
  },
  {
   "cell_type": "code",
   "execution_count": null,
   "metadata": {},
   "outputs": [
    {
     "name": "stdout",
     "output_type": "stream",
     "text": [
      "Collecting shapely\n",
      "  Downloading shapely-2.0.6-cp312-cp312-win_amd64.whl.metadata (7.2 kB)\n",
      "Collecting numpy<3,>=1.14 (from shapely)\n",
      "  Downloading numpy-2.1.3-cp312-cp312-win_amd64.whl.metadata (60 kB)\n",
      "     ---------------------------------------- 0.0/60.8 kB ? eta -:--:--\n",
      "     ------ --------------------------------- 10.2/60.8 kB ? eta -:--:--\n",
      "     ---------------------------------------- 60.8/60.8 kB 1.1 MB/s eta 0:00:00\n",
      "Downloading shapely-2.0.6-cp312-cp312-win_amd64.whl (1.4 MB)\n",
      "   ---------------------------------------- 0.0/1.4 MB ? eta -:--:--\n",
      "   --- ------------------------------------ 0.1/1.4 MB 3.5 MB/s eta 0:00:01\n",
      "   ---------------------- ----------------- 0.8/1.4 MB 10.1 MB/s eta 0:00:01\n",
      "   --------------------------- ------------ 1.0/1.4 MB 10.6 MB/s eta 0:00:01\n",
      "   ---------------------------------------- 1.4/1.4 MB 10.2 MB/s eta 0:00:00\n",
      "Downloading numpy-2.1.3-cp312-cp312-win_amd64.whl (12.6 MB)\n",
      "   ---------------------------------------- 0.0/12.6 MB ? eta -:--:--\n",
      "   ---- ----------------------------------- 1.5/12.6 MB 47.6 MB/s eta 0:00:01\n",
      "   ------- -------------------------------- 2.4/12.6 MB 31.0 MB/s eta 0:00:01\n",
      "   ----------- ---------------------------- 3.5/12.6 MB 27.8 MB/s eta 0:00:01\n",
      "   -------------- ------------------------- 4.7/12.6 MB 27.4 MB/s eta 0:00:01\n",
      "   ------------------ --------------------- 5.9/12.6 MB 27.0 MB/s eta 0:00:01\n",
      "   ---------------------- ----------------- 7.1/12.6 MB 28.3 MB/s eta 0:00:01\n",
      "   -------------------------- ------------- 8.4/12.6 MB 28.3 MB/s eta 0:00:01\n",
      "   ------------------------------- -------- 9.7/12.6 MB 28.4 MB/s eta 0:00:01\n",
      "   ----------------------------------- ---- 11.2/12.6 MB 27.3 MB/s eta 0:00:01\n",
      "   ---------------------------------------  12.6/12.6 MB 28.5 MB/s eta 0:00:01\n",
      "   ---------------------------------------- 12.6/12.6 MB 27.3 MB/s eta 0:00:00\n",
      "Installing collected packages: numpy, shapely\n",
      "  Attempting uninstall: numpy\n",
      "    Found existing installation: numpy 1.26.4\n",
      "    Uninstalling numpy-1.26.4:\n",
      "      Successfully uninstalled numpy-1.26.4\n",
      "  Attempting uninstall: shapely\n",
      "    Found existing installation: shapely 2.0.1\n",
      "    Uninstalling shapely-2.0.1:\n",
      "      Successfully uninstalled shapely-2.0.1\n",
      "Successfully installed numpy-2.1.3 shapely-2.0.6\n"
     ]
    },
    {
     "name": "stderr",
     "output_type": "stream",
     "text": [
      "ERROR: pip's dependency resolver does not currently take into account all the packages that are installed. This behaviour is the source of the following dependency conflicts.\n",
      "mkl-fft 1.3.10 requires mkl, which is not installed.\n",
      "pyexsi 0.43 requires pylint, which is not installed.\n",
      "compas 2.3.0 requires numpy<2,>=1.15.4, but you have numpy 2.1.3 which is incompatible.\n",
      "numba 0.60.0 requires numpy<2.1,>=1.22, but you have numpy 2.1.3 which is incompatible.\n"
     ]
    }
   ],
   "source": [
    "!pip install --force-reinstall shapely\n"
   ]
  }
 ],
 "metadata": {
  "kernelspec": {
   "display_name": "new_env",
   "language": "python",
   "name": "python3"
  },
  "language_info": {
   "codemirror_mode": {
    "name": "ipython",
    "version": 3
   },
   "file_extension": ".py",
   "mimetype": "text/x-python",
   "name": "python",
   "nbconvert_exporter": "python",
   "pygments_lexer": "ipython3",
   "version": "3.9.20"
  }
 },
 "nbformat": 4,
 "nbformat_minor": 2
}
