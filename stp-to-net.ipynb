{
 "cells": [
  {
   "cell_type": "code",
   "execution_count": null,
   "metadata": {},
   "outputs": [],
   "source": [
    "import numpy as np\n",
    "import pickle\n",
    "\n",
    "# G-code generation codes are cloned from https://github.com/tibor-barsi/GcodeGenerator. Tibor Barsi is the author of the code, and was a PhD student at the Ladisk lab of the University of Ljubljana\n",
    "#  We should be careful with crediting the author of the code, if we ever want to make these code public.\n",
    "from src.g_code_generation_copy.gcode_generator import G_code_generator\n",
    "from src.g_code_generation_copy.tool_changer_functions import save_params, load_params, printer_start, load_tool, unload_tool, tool_change, take_photo, play_sound, printer_stop\n",
    "# from src.additional_functions import *\n",
    "from src.network import Network_custom, replace_brackets\n",
    "from compas.datastructures import Network\n",
    "import os\n",
    "\n",
    "import matplotlib.pyplot as plt\n",
    "\n",
    "BYU_UW_root = r\"G:\\.shortcut-targets-by-id\\1k1B8zPb3T8H7y6x0irFZnzzmfQPHMRPx\\Illimited Lab Projects\\Research Projects\\Spiders\\BYU-UW\""
   ]
  },
  {
   "cell_type": "code",
   "execution_count": null,
   "metadata": {},
   "outputs": [],
   "source": [
    "def compute_perpendicular_forces(network, force_balloon, force_friction, fixed, top_ring):\n",
    "    \"\"\"Compute forces using the node Laplacian as a surface normal approximation.\"\"\"\n",
    "    forces = []\n",
    "    top_ring_center = np.mean(np.array(network.nodes_attributes('xyz', keys = top_ring)), axis=0)\n",
    "    for v in network.nodes():\n",
    "        if v in fixed:\n",
    "            forces.append(np.zeros(3))\n",
    "            continue\n",
    "        if network.degree(v) == 3:\n",
    "            neighbors = network.neighbors(v)\n",
    "            vertical_neighbor = min(neighbors, key=lambda n: network.node_attribute(n, 'z'))\n",
    "            direction = np.array(network.node_attributes(v, 'xyz')) - np.array(network.node_attributes(vertical_neighbor, 'xyz'))\n",
    "            direction_f = direction / np.linalg.norm(direction)\n",
    "            horizontal_neighbors = [n for n in neighbors if n != vertical_neighbor]\n",
    "            neigbors_vector = np.array(network.node_attributes(horizontal_neighbors[1], 'xyz')) - np.array(network.node_attributes(horizontal_neighbors[0], 'xyz'))\n",
    "            neigbors_vector /= np.linalg.norm(neigbors_vector)\n",
    "            direction_b = np.cross(direction, neigbors_vector)\n",
    "\n",
    "            # Compute the vector from vertex v to the top ring center\n",
    "            vertex_coords = np.array(network.node_attributes(v, 'xyz'))\n",
    "            to_top_ring_center = top_ring_center - vertex_coords\n",
    "            \n",
    "            # Check if direction_b is pointing towards or away from top_ring_center\n",
    "            if np.dot(direction_b, to_top_ring_center) < 0:\n",
    "                direction_b = -direction_b  # Flip direction if it's pointing away\n",
    "\n",
    "            # forces.append(direction_b * force_friction) # \n",
    "            forces.append(direction_f * force_friction + direction_b * force_balloon) # + \n",
    "            continue\n",
    "        laplacian = network.node_laplacian(v)\n",
    "        normal = laplacian / np.linalg.norm(laplacian)  # Normalize\n",
    "        \n",
    "        forces.append(normal * force_balloon)  # Apply force magnitude\n",
    "    return np.array(forces)\n",
    "\n",
    "def update_shape_nlf(vertices_0, loads_0, q, edges, force_balloon, force_friction, fixed, top_ring, tol = 1e-3, max_iter = 20):\n",
    "    \"\"\"Update the vertices of the network based on the force densities.\n",
    "    parameters:\n",
    "    q: list of force densities\n",
    "    edges: list of edges. If not provided, the function will assume that a new q is provided for all edges in the same order as the previous q.\n",
    "    \"\"\"\n",
    "    from compas_fd.solvers import fd_constrained_numpy\n",
    "    loads = np.copy(loads_0)\n",
    "    vertices = np.copy(vertices_0)\n",
    "    for i in range(max_iter):\n",
    "    # while True:\n",
    "        result = fd_constrained_numpy(\n",
    "            vertices=vertices,\n",
    "            fixed= fixed,\n",
    "            edges= edges,\n",
    "            forcedensities=q,\n",
    "            loads=loads,\n",
    "            constraints= [],\n",
    "        )\n",
    "        netC = Network.from_nodes_and_edges(vertices, edges)\n",
    "        loads_new = compute_perpendicular_forces(netC, force_balloon, force_friction, fixed, top_ring)\n",
    "        if np.linalg.norm(loads - loads_new) < tol:\n",
    "            break\n",
    "        loads = loads_new\n",
    "\n",
    "    vertices = np.array(result.vertices).reshape(-1, 3)\n",
    "    f = np.array(result.forces).reshape(-1)\n",
    "    l1 = np.array(result.lengths).reshape(-1)\n",
    "    return vertices, f, l1\n",
    "\n",
    "def cylinder_mesh(D, H, N, M, q_circumferential, q_vertical, dq):\n",
    "    \"\"\"Generate vertices and edges of a cylinder with adjustable vertical segments.\"\"\"\n",
    "    R = D / 2  # Radius\n",
    "    theta = np.linspace(0, 2 * np.pi, N, endpoint=False)\n",
    "    z = np.linspace(0, H, M + 1)  # M vertical segments → M+1 height levels\n",
    "\n",
    "    # Generate vertices\n",
    "    vertices = np.array([[R * np.cos(t), R * np.sin(t), h] for h in z for t in theta])\n",
    "\n",
    "    # Define edges\n",
    "    edges = []\n",
    "    paths = []\n",
    "    q = []\n",
    "\n",
    "    # Circumferential edges at each level\n",
    "    for j in range(M + 1):\n",
    "        offset = j * N\n",
    "        new_path = [(offset + i, offset + (i + 1) % N) for i in range(N)]\n",
    "        edges += new_path\n",
    "        paths.append(new_path)\n",
    "        q += list(np.ones(N) * q_circumferential/N)\n",
    "    \n",
    "    # Vertical edges between stacked layers\n",
    "    for j in range(M):\n",
    "        offset1, offset2 = j * N, (j + 1) * N\n",
    "        new_path = [(offset1 + i, offset2 + i) for i in range(N)]\n",
    "        edges += new_path\n",
    "        paths.append(new_path)\n",
    "        q += list(np.ones(N) * q_vertical/M + np.sin(theta) * dq)\n",
    "\n",
    "    return vertices, edges, paths, q"
   ]
  },
  {
   "cell_type": "markdown",
   "metadata": {},
   "source": [
    "Define structure"
   ]
  },
  {
   "cell_type": "code",
   "execution_count": 168,
   "metadata": {},
   "outputs": [],
   "source": [
    "model_name  = 'Showcase_structure_0'\n",
    "D, H, N, M = 1.0, 2.0, 16, 10\n",
    "q_circumferential, q_vertical, dq = 16, 10, 0.1\n",
    "force_balloon, force_friction = -.1, 2\n",
    "vertices_0, edges, paths, q = cylinder_mesh(D, H, N, M,q_circumferential, q_vertical, dq)\n",
    "directions  = [1]*len(edges)\n",
    "fixed      = np.argwhere(vertices_0[:,2] == 0).flatten()\n",
    "fixed      = fixed.tolist()\n",
    "top_ring = np.argwhere(vertices_0[:,2] == H).flatten()\n",
    "top_ring = top_ring.tolist()\n",
    "\n",
    "netC = Network.from_nodes_and_edges(vertices_0, edges)\n",
    "loads_0 = compute_perpendicular_forces(netC, force_balloon, force_friction, fixed, top_ring)\n",
    "net = Network_custom.from_fd(vertices_0, edges, q, fixed, paths = paths, dir = directions, loads=loads_0)"
   ]
  },
  {
   "cell_type": "code",
   "execution_count": null,
   "metadata": {},
   "outputs": [
    {
     "ename": "KeyboardInterrupt",
     "evalue": "",
     "output_type": "error",
     "traceback": [
      "\u001b[1;31m---------------------------------------------------------------------------\u001b[0m",
      "\u001b[1;31mKeyboardInterrupt\u001b[0m                         Traceback (most recent call last)",
      "Cell \u001b[1;32mIn[169], line 1\u001b[0m\n\u001b[1;32m----> 1\u001b[0m vertices2, f2, l12 \u001b[38;5;241m=\u001b[39m \u001b[43mupdate_shape_nlf\u001b[49m\u001b[43m(\u001b[49m\u001b[43mvertices_0\u001b[49m\u001b[43m,\u001b[49m\u001b[43m \u001b[49m\u001b[43mloads_0\u001b[49m\u001b[43m,\u001b[49m\u001b[43m \u001b[49m\u001b[43mq\u001b[49m\u001b[43m,\u001b[49m\u001b[43m \u001b[49m\u001b[43medges\u001b[49m\u001b[43m,\u001b[49m\u001b[43m \u001b[49m\u001b[43mforce_balloon\u001b[49m\u001b[43m,\u001b[49m\u001b[43m \u001b[49m\u001b[43mforce_friction\u001b[49m\u001b[43m,\u001b[49m\u001b[43m \u001b[49m\u001b[43mfixed\u001b[49m\u001b[43m,\u001b[49m\u001b[43m \u001b[49m\u001b[43mtop_ring\u001b[49m\u001b[43m,\u001b[49m\u001b[43m \u001b[49m\u001b[43mtol\u001b[49m\u001b[43m \u001b[49m\u001b[38;5;241;43m=\u001b[39;49m\u001b[43m \u001b[49m\u001b[38;5;241;43m1e-3\u001b[39;49m\u001b[43m)\u001b[49m\n",
      "Cell \u001b[1;32mIn[167], line 46\u001b[0m, in \u001b[0;36mupdate_shape_nlf\u001b[1;34m(vertices_0, loads_0, q, edges, force_balloon, force_friction, fixed, top_ring, tol)\u001b[0m\n\u001b[0;32m     44\u001b[0m vertices \u001b[38;5;241m=\u001b[39m np\u001b[38;5;241m.\u001b[39mcopy(vertices_0)\n\u001b[0;32m     45\u001b[0m \u001b[38;5;28;01mwhile\u001b[39;00m \u001b[38;5;28;01mTrue\u001b[39;00m:\n\u001b[1;32m---> 46\u001b[0m     result \u001b[38;5;241m=\u001b[39m \u001b[43mfd_constrained_numpy\u001b[49m\u001b[43m(\u001b[49m\n\u001b[0;32m     47\u001b[0m \u001b[43m        \u001b[49m\u001b[43mvertices\u001b[49m\u001b[38;5;241;43m=\u001b[39;49m\u001b[43mvertices\u001b[49m\u001b[43m,\u001b[49m\n\u001b[0;32m     48\u001b[0m \u001b[43m        \u001b[49m\u001b[43mfixed\u001b[49m\u001b[38;5;241;43m=\u001b[39;49m\u001b[43m \u001b[49m\u001b[43mfixed\u001b[49m\u001b[43m,\u001b[49m\n\u001b[0;32m     49\u001b[0m \u001b[43m        \u001b[49m\u001b[43medges\u001b[49m\u001b[38;5;241;43m=\u001b[39;49m\u001b[43m \u001b[49m\u001b[43medges\u001b[49m\u001b[43m,\u001b[49m\n\u001b[0;32m     50\u001b[0m \u001b[43m        \u001b[49m\u001b[43mforcedensities\u001b[49m\u001b[38;5;241;43m=\u001b[39;49m\u001b[43mq\u001b[49m\u001b[43m,\u001b[49m\n\u001b[0;32m     51\u001b[0m \u001b[43m        \u001b[49m\u001b[43mloads\u001b[49m\u001b[38;5;241;43m=\u001b[39;49m\u001b[43mloads\u001b[49m\u001b[43m,\u001b[49m\n\u001b[0;32m     52\u001b[0m \u001b[43m        \u001b[49m\u001b[43mconstraints\u001b[49m\u001b[38;5;241;43m=\u001b[39;49m\u001b[43m \u001b[49m\u001b[43m[\u001b[49m\u001b[43m]\u001b[49m\u001b[43m,\u001b[49m\n\u001b[0;32m     53\u001b[0m \u001b[43m    \u001b[49m\u001b[43m)\u001b[49m\n\u001b[0;32m     54\u001b[0m     netC \u001b[38;5;241m=\u001b[39m Network\u001b[38;5;241m.\u001b[39mfrom_nodes_and_edges(vertices, edges)\n\u001b[0;32m     55\u001b[0m     loads_new \u001b[38;5;241m=\u001b[39m compute_perpendicular_forces(netC, force_balloon, force_friction, fixed, top_ring)\n",
      "File \u001b[1;32mc:\\Users\\thijs\\anaconda3\\Lib\\site-packages\\compas_fd\\solvers\\fd_constrained_numpy.py:76\u001b[0m, in \u001b[0;36mfd_constrained_numpy\u001b[1;34m(vertices, fixed, edges, forcedensities, loads, constraints, kmax, tol_res, tol_disp, damping, selfweight)\u001b[0m\n\u001b[0;32m     19\u001b[0m \u001b[38;5;28;01mdef\u001b[39;00m \u001b[38;5;21mfd_constrained_numpy\u001b[39m(\n\u001b[0;32m     20\u001b[0m     \u001b[38;5;241m*\u001b[39m,\n\u001b[0;32m     21\u001b[0m     vertices: FloatNx3,\n\u001b[1;32m   (...)\u001b[0m\n\u001b[0;32m     31\u001b[0m     selfweight\u001b[38;5;241m=\u001b[39m\u001b[38;5;28;01mNone\u001b[39;00m,\n\u001b[0;32m     32\u001b[0m ) \u001b[38;5;241m-\u001b[39m\u001b[38;5;241m>\u001b[39m Result:\n\u001b[0;32m     33\u001b[0m \u001b[38;5;250m    \u001b[39m\u001b[38;5;124;03m\"\"\"\u001b[39;00m\n\u001b[0;32m     34\u001b[0m \u001b[38;5;124;03m    Iteratively compute the equilibrium coordinates of a system of vertices connected by edges.\u001b[39;00m\n\u001b[0;32m     35\u001b[0m \u001b[38;5;124;03m    Vertex constraints are recomputed at each iteration.\u001b[39;00m\n\u001b[1;32m   (...)\u001b[0m\n\u001b[0;32m     74\u001b[0m \n\u001b[0;32m     75\u001b[0m \u001b[38;5;124;03m    \"\"\"\u001b[39;00m\n\u001b[1;32m---> 76\u001b[0m     numdata \u001b[38;5;241m=\u001b[39m \u001b[43mFDNumericalData\u001b[49m\u001b[38;5;241;43m.\u001b[39;49m\u001b[43mfrom_params\u001b[49m\u001b[43m(\u001b[49m\u001b[43mvertices\u001b[49m\u001b[43m,\u001b[49m\u001b[43m \u001b[49m\u001b[43mfixed\u001b[49m\u001b[43m,\u001b[49m\u001b[43m \u001b[49m\u001b[43medges\u001b[49m\u001b[43m,\u001b[49m\u001b[43m \u001b[49m\u001b[43mforcedensities\u001b[49m\u001b[43m,\u001b[49m\u001b[43m \u001b[49m\u001b[43mloads\u001b[49m\u001b[43m)\u001b[49m\n\u001b[0;32m     78\u001b[0m     \u001b[38;5;28;01mfor\u001b[39;00m k \u001b[38;5;129;01min\u001b[39;00m \u001b[38;5;28mrange\u001b[39m(kmax):\n\u001b[0;32m     79\u001b[0m         xyz_prev \u001b[38;5;241m=\u001b[39m numdata\u001b[38;5;241m.\u001b[39mxyz\n",
      "File \u001b[1;32mc:\\Users\\thijs\\anaconda3\\Lib\\site-packages\\compas_fd\\solvers\\fd_numerical_data.py:71\u001b[0m, in \u001b[0;36mFDNumericalData.from_params\u001b[1;34m(cls, vertices, fixed, edges, forcedensities, loads)\u001b[0m\n\u001b[0;32m     69\u001b[0m free \u001b[38;5;241m=\u001b[39m \u001b[38;5;28mlist\u001b[39m(\u001b[38;5;28mset\u001b[39m(\u001b[38;5;28mrange\u001b[39m(\u001b[38;5;28mlen\u001b[39m(vertices))) \u001b[38;5;241m-\u001b[39m \u001b[38;5;28mset\u001b[39m(fixed))\n\u001b[0;32m     70\u001b[0m xyz \u001b[38;5;241m=\u001b[39m asarray(vertices, dtype\u001b[38;5;241m=\u001b[39mfloat64)\u001b[38;5;241m.\u001b[39mreshape((\u001b[38;5;241m-\u001b[39m\u001b[38;5;241m1\u001b[39m, \u001b[38;5;241m3\u001b[39m))\n\u001b[1;32m---> 71\u001b[0m C \u001b[38;5;241m=\u001b[39m \u001b[43mconnectivity_matrix\u001b[49m\u001b[43m(\u001b[49m\u001b[43medges\u001b[49m\u001b[43m,\u001b[49m\u001b[43m \u001b[49m\u001b[38;5;124;43m\"\u001b[39;49m\u001b[38;5;124;43mcsr\u001b[39;49m\u001b[38;5;124;43m\"\u001b[39;49m\u001b[43m)\u001b[49m\n\u001b[0;32m     72\u001b[0m Ci \u001b[38;5;241m=\u001b[39m C[:, free]\n\u001b[0;32m     73\u001b[0m Cf \u001b[38;5;241m=\u001b[39m C[:, fixed]\n",
      "File \u001b[1;32mc:\\Users\\thijs\\anaconda3\\Lib\\site-packages\\compas\\matrices.py:153\u001b[0m, in \u001b[0;36mconnectivity_matrix\u001b[1;34m(edges, rtype)\u001b[0m\n\u001b[0;32m    151\u001b[0m rows \u001b[38;5;241m=\u001b[39m array(\u001b[38;5;28mlist\u001b[39m(\u001b[38;5;28mrange\u001b[39m(m)) \u001b[38;5;241m+\u001b[39m \u001b[38;5;28mlist\u001b[39m(\u001b[38;5;28mrange\u001b[39m(m)))\n\u001b[0;32m    152\u001b[0m cols \u001b[38;5;241m=\u001b[39m array([edge[\u001b[38;5;241m0\u001b[39m] \u001b[38;5;28;01mfor\u001b[39;00m edge \u001b[38;5;129;01min\u001b[39;00m edges] \u001b[38;5;241m+\u001b[39m [edge[\u001b[38;5;241m1\u001b[39m] \u001b[38;5;28;01mfor\u001b[39;00m edge \u001b[38;5;129;01min\u001b[39;00m edges])\n\u001b[1;32m--> 153\u001b[0m C \u001b[38;5;241m=\u001b[39m \u001b[43mcoo_matrix\u001b[49m\u001b[43m(\u001b[49m\u001b[43m(\u001b[49m\u001b[43mdata\u001b[49m\u001b[43m,\u001b[49m\u001b[43m \u001b[49m\u001b[43m(\u001b[49m\u001b[43mrows\u001b[49m\u001b[43m,\u001b[49m\u001b[43m \u001b[49m\u001b[43mcols\u001b[49m\u001b[43m)\u001b[49m\u001b[43m)\u001b[49m\u001b[43m)\u001b[49m\u001b[38;5;241;43m.\u001b[39;49m\u001b[43masfptype\u001b[49m\u001b[43m(\u001b[49m\u001b[43m)\u001b[49m\n\u001b[0;32m    154\u001b[0m \u001b[38;5;28;01mreturn\u001b[39;00m _return_matrix(C, rtype)\n",
      "File \u001b[1;32mc:\\Users\\thijs\\anaconda3\\Lib\\site-packages\\scipy\\sparse\\_matrix.py:73\u001b[0m, in \u001b[0;36mspmatrix.asfptype\u001b[1;34m(self)\u001b[0m\n\u001b[0;32m     71\u001b[0m \u001b[38;5;28;01mdef\u001b[39;00m \u001b[38;5;21masfptype\u001b[39m(\u001b[38;5;28mself\u001b[39m):\n\u001b[0;32m     72\u001b[0m \u001b[38;5;250m    \u001b[39m\u001b[38;5;124;03m\"\"\"Upcast matrix to a floating point format (if necessary)\"\"\"\u001b[39;00m\n\u001b[1;32m---> 73\u001b[0m     \u001b[38;5;28;01mreturn\u001b[39;00m \u001b[38;5;28;43mself\u001b[39;49m\u001b[38;5;241;43m.\u001b[39;49m\u001b[43m_asfptype\u001b[49m\u001b[43m(\u001b[49m\u001b[43m)\u001b[49m\n",
      "File \u001b[1;32mc:\\Users\\thijs\\anaconda3\\Lib\\site-packages\\scipy\\sparse\\_base.py:253\u001b[0m, in \u001b[0;36m_spbase._asfptype\u001b[1;34m(self)\u001b[0m\n\u001b[0;32m    251\u001b[0m \u001b[38;5;28;01mfor\u001b[39;00m fp_type \u001b[38;5;129;01min\u001b[39;00m fp_types:\n\u001b[0;32m    252\u001b[0m     \u001b[38;5;28;01mif\u001b[39;00m \u001b[38;5;28mself\u001b[39m\u001b[38;5;241m.\u001b[39mdtype \u001b[38;5;241m<\u001b[39m\u001b[38;5;241m=\u001b[39m np\u001b[38;5;241m.\u001b[39mdtype(fp_type):\n\u001b[1;32m--> 253\u001b[0m         \u001b[38;5;28;01mreturn\u001b[39;00m \u001b[38;5;28;43mself\u001b[39;49m\u001b[38;5;241;43m.\u001b[39;49m\u001b[43mastype\u001b[49m\u001b[43m(\u001b[49m\u001b[43mfp_type\u001b[49m\u001b[43m)\u001b[49m\n\u001b[0;32m    255\u001b[0m \u001b[38;5;28;01mraise\u001b[39;00m \u001b[38;5;167;01mTypeError\u001b[39;00m(\u001b[38;5;124m'\u001b[39m\u001b[38;5;124mcannot upcast [\u001b[39m\u001b[38;5;132;01m%s\u001b[39;00m\u001b[38;5;124m] to a floating \u001b[39m\u001b[38;5;124m'\u001b[39m\n\u001b[0;32m    256\u001b[0m                 \u001b[38;5;124m'\u001b[39m\u001b[38;5;124mpoint format\u001b[39m\u001b[38;5;124m'\u001b[39m \u001b[38;5;241m%\u001b[39m \u001b[38;5;28mself\u001b[39m\u001b[38;5;241m.\u001b[39mdtype\u001b[38;5;241m.\u001b[39mname)\n",
      "File \u001b[1;32mc:\\Users\\thijs\\anaconda3\\Lib\\site-packages\\scipy\\sparse\\_data.py:77\u001b[0m, in \u001b[0;36m_data_matrix.astype\u001b[1;34m(self, dtype, casting, copy)\u001b[0m\n\u001b[0;32m     72\u001b[0m \u001b[38;5;28;01mif\u001b[39;00m \u001b[38;5;28mself\u001b[39m\u001b[38;5;241m.\u001b[39mdtype \u001b[38;5;241m!=\u001b[39m dtype:\n\u001b[0;32m     73\u001b[0m     matrix \u001b[38;5;241m=\u001b[39m \u001b[38;5;28mself\u001b[39m\u001b[38;5;241m.\u001b[39m_with_data(\n\u001b[0;32m     74\u001b[0m         \u001b[38;5;28mself\u001b[39m\u001b[38;5;241m.\u001b[39mdata\u001b[38;5;241m.\u001b[39mastype(dtype, casting\u001b[38;5;241m=\u001b[39mcasting, copy\u001b[38;5;241m=\u001b[39m\u001b[38;5;28;01mTrue\u001b[39;00m),\n\u001b[0;32m     75\u001b[0m         copy\u001b[38;5;241m=\u001b[39m\u001b[38;5;28;01mTrue\u001b[39;00m\n\u001b[0;32m     76\u001b[0m     )\n\u001b[1;32m---> 77\u001b[0m     \u001b[38;5;28;01mreturn\u001b[39;00m matrix\u001b[38;5;241m.\u001b[39m_with_data(\u001b[43mmatrix\u001b[49m\u001b[38;5;241;43m.\u001b[39;49m\u001b[43m_deduped_data\u001b[49m\u001b[43m(\u001b[49m\u001b[43m)\u001b[49m, copy\u001b[38;5;241m=\u001b[39m\u001b[38;5;28;01mFalse\u001b[39;00m)\n\u001b[0;32m     78\u001b[0m \u001b[38;5;28;01melif\u001b[39;00m copy:\n\u001b[0;32m     79\u001b[0m     \u001b[38;5;28;01mreturn\u001b[39;00m \u001b[38;5;28mself\u001b[39m\u001b[38;5;241m.\u001b[39mcopy()\n",
      "File \u001b[1;32mc:\\Users\\thijs\\anaconda3\\Lib\\site-packages\\scipy\\sparse\\_data.py:34\u001b[0m, in \u001b[0;36m_data_matrix._deduped_data\u001b[1;34m(self)\u001b[0m\n\u001b[0;32m     32\u001b[0m \u001b[38;5;28;01mdef\u001b[39;00m \u001b[38;5;21m_deduped_data\u001b[39m(\u001b[38;5;28mself\u001b[39m):\n\u001b[0;32m     33\u001b[0m     \u001b[38;5;28;01mif\u001b[39;00m \u001b[38;5;28mhasattr\u001b[39m(\u001b[38;5;28mself\u001b[39m, \u001b[38;5;124m'\u001b[39m\u001b[38;5;124msum_duplicates\u001b[39m\u001b[38;5;124m'\u001b[39m):\n\u001b[1;32m---> 34\u001b[0m         \u001b[38;5;28;43mself\u001b[39;49m\u001b[38;5;241;43m.\u001b[39;49m\u001b[43msum_duplicates\u001b[49m\u001b[43m(\u001b[49m\u001b[43m)\u001b[49m\n\u001b[0;32m     35\u001b[0m     \u001b[38;5;28;01mreturn\u001b[39;00m \u001b[38;5;28mself\u001b[39m\u001b[38;5;241m.\u001b[39mdata\n",
      "File \u001b[1;32mc:\\Users\\thijs\\anaconda3\\Lib\\site-packages\\scipy\\sparse\\_coo.py:501\u001b[0m, in \u001b[0;36m_coo_base.sum_duplicates\u001b[1;34m(self)\u001b[0m\n\u001b[0;32m    499\u001b[0m \u001b[38;5;28;01mif\u001b[39;00m \u001b[38;5;28mself\u001b[39m\u001b[38;5;241m.\u001b[39mhas_canonical_format:\n\u001b[0;32m    500\u001b[0m     \u001b[38;5;28;01mreturn\u001b[39;00m\n\u001b[1;32m--> 501\u001b[0m summed \u001b[38;5;241m=\u001b[39m \u001b[38;5;28;43mself\u001b[39;49m\u001b[38;5;241;43m.\u001b[39;49m\u001b[43m_sum_duplicates\u001b[49m\u001b[43m(\u001b[49m\u001b[38;5;28;43mself\u001b[39;49m\u001b[38;5;241;43m.\u001b[39;49m\u001b[43mcoords\u001b[49m\u001b[43m,\u001b[49m\u001b[43m \u001b[49m\u001b[38;5;28;43mself\u001b[39;49m\u001b[38;5;241;43m.\u001b[39;49m\u001b[43mdata\u001b[49m\u001b[43m)\u001b[49m\n\u001b[0;32m    502\u001b[0m \u001b[38;5;28mself\u001b[39m\u001b[38;5;241m.\u001b[39mcoords, \u001b[38;5;28mself\u001b[39m\u001b[38;5;241m.\u001b[39mdata \u001b[38;5;241m=\u001b[39m summed\n\u001b[0;32m    503\u001b[0m \u001b[38;5;28mself\u001b[39m\u001b[38;5;241m.\u001b[39mhas_canonical_format \u001b[38;5;241m=\u001b[39m \u001b[38;5;28;01mTrue\u001b[39;00m\n",
      "File \u001b[1;32mc:\\Users\\thijs\\anaconda3\\Lib\\site-packages\\scipy\\sparse\\_coo.py:512\u001b[0m, in \u001b[0;36m_coo_base._sum_duplicates\u001b[1;34m(self, coords, data)\u001b[0m\n\u001b[0;32m    508\u001b[0m     \u001b[38;5;28;01mreturn\u001b[39;00m coords, data\n\u001b[0;32m    509\u001b[0m \u001b[38;5;66;03m# Sort coords w.r.t. rows, then cols. This corresponds to C-order,\u001b[39;00m\n\u001b[0;32m    510\u001b[0m \u001b[38;5;66;03m# which we rely on for argmin/argmax to return the first index in the\u001b[39;00m\n\u001b[0;32m    511\u001b[0m \u001b[38;5;66;03m# same way that numpy does (in the case of ties).\u001b[39;00m\n\u001b[1;32m--> 512\u001b[0m order \u001b[38;5;241m=\u001b[39m \u001b[43mnp\u001b[49m\u001b[38;5;241;43m.\u001b[39;49m\u001b[43mlexsort\u001b[49m\u001b[43m(\u001b[49m\u001b[43mcoords\u001b[49m\u001b[43m[\u001b[49m\u001b[43m:\u001b[49m\u001b[43m:\u001b[49m\u001b[38;5;241;43m-\u001b[39;49m\u001b[38;5;241;43m1\u001b[39;49m\u001b[43m]\u001b[49m\u001b[43m)\u001b[49m\n\u001b[0;32m    513\u001b[0m coords \u001b[38;5;241m=\u001b[39m \u001b[38;5;28mtuple\u001b[39m(idx[order] \u001b[38;5;28;01mfor\u001b[39;00m idx \u001b[38;5;129;01min\u001b[39;00m coords)\n\u001b[0;32m    514\u001b[0m data \u001b[38;5;241m=\u001b[39m data[order]\n",
      "\u001b[1;31mKeyboardInterrupt\u001b[0m: "
     ]
    }
   ],
   "source": [
    "vertices2, f2, l12 = update_shape_nlf(vertices_0, loads_0, q, edges, force_balloon, force_friction, fixed, top_ring, tol = 1e-3, max_iter = 20)"
   ]
  },
  {
   "cell_type": "code",
   "execution_count": 160,
   "metadata": {},
   "outputs": [],
   "source": [
    "%matplotlib qt\n",
    "fig = plt.figure()\n",
    "ax = fig.add_subplot(111, projection='3d')\n",
    "for edge in edges:\n",
    "    ax.plot(*zip(*net.vertices[edge,:]), color='b')\n",
    "for v, f in zip(net.vertices, forces):\n",
    "    ax.plot([v[0], v[0] + f[0]], [v[1], v[1] + f[1]], [v[2], v[2] + f[2]], 'r-', lw=2)\n",
    "ax.set_xlim(-7, 7)\n",
    "ax.set_ylim(-7, 7)\n",
    "ax.set_zlim(0, 14)\n",
    "plt.show()"
   ]
  },
  {
   "cell_type": "code",
   "execution_count": 134,
   "metadata": {},
   "outputs": [],
   "source": [
    "netC2  = Network.from_nodes_and_edges(net.vertices, edges)\n",
    "forces2 = compute_perpendicular_forces(netC2, force_balloon, force_friction, fixed, top_ring)\n",
    "net2 = Network_custom.from_fd(net.vertices, edges, q, fixed, paths = paths, dir = directions, loads=forces2)"
   ]
  },
  {
   "cell_type": "code",
   "execution_count": 136,
   "metadata": {},
   "outputs": [],
   "source": [
    "%matplotlib qt\n",
    "fig = plt.figure()\n",
    "ax = fig.add_subplot(111, projection='3d')\n",
    "for edge in edges:\n",
    "    ax.plot(*zip(*net2.vertices[edge,:]), color='b')\n",
    "for v, f in zip(net2.vertices, forces2):\n",
    "    ax.plot([v[0], v[0] + f[0]], [v[1], v[1] + f[1]], [v[2], v[2] + f[2]], 'r-', lw=2)\n",
    "ax.set_xlim(-7, 7)\n",
    "ax.set_ylim(-7, 7)\n",
    "ax.set_zlim(0, 14)\n",
    "plt.show()"
   ]
  },
  {
   "cell_type": "code",
   "execution_count": 164,
   "metadata": {},
   "outputs": [
    {
     "data": {
      "application/vnd.plotly.v1+json": {
       "config": {
        "plotlyServerURL": "https://plot.ly"
       },
       "data": [
        {
         "line": {
          "color": "black",
          "width": 3
         },
         "mode": "lines",
         "type": "scatter3d",
         "x": [
          0.5,
          0.46193976625564337,
          null,
          0.46193976625564337,
          0.3535533905932738,
          null,
          0.3535533905932738,
          0.19134171618254492,
          null,
          0.19134171618254492,
          3.061616997868383e-17,
          null,
          3.061616997868383e-17,
          -0.19134171618254486,
          null,
          -0.19134171618254486,
          -0.35355339059327373,
          null,
          -0.35355339059327373,
          -0.46193976625564337,
          null,
          -0.46193976625564337,
          -0.5,
          null,
          -0.5,
          -0.4619397662556434,
          null,
          -0.4619397662556434,
          -0.35355339059327384,
          null,
          -0.35355339059327384,
          -0.19134171618254517,
          null,
          -0.19134171618254517,
          -9.184850993605148e-17,
          null,
          -9.184850993605148e-17,
          0.191341716182545,
          null,
          0.191341716182545,
          0.3535533905932737,
          null,
          0.3535533905932737,
          0.46193976625564326,
          null,
          0.46193976625564326,
          0.5,
          null,
          0.3393729641958302,
          0.31480004078666574,
          null,
          0.31480004078666574,
          0.2417365826527129,
          null,
          0.2417365826527129,
          0.13111084273994913,
          null,
          0.13111084273994913,
          4.625929269271485e-17,
          null,
          4.625929269271485e-17,
          -0.13111084273994902,
          null,
          -0.13111084273994902,
          -0.2417365826527128,
          null,
          -0.2417365826527128,
          -0.3148000407866657,
          null,
          -0.3148000407866657,
          -0.33937296419582996,
          null,
          -0.33937296419582996,
          -0.3122470418375321,
          null,
          -0.3122470418375321,
          -0.23812459299281463,
          null,
          -0.23812459299281463,
          -0.12855571595833454,
          null,
          -0.12855571595833454,
          -7.954455354326249e-18,
          null,
          -7.954455354326249e-18,
          0.12855571595833457,
          null,
          0.12855571595833457,
          0.2381245929928147,
          null,
          0.2381245929928147,
          0.31224704183753216,
          null,
          0.31224704183753216,
          0.3393729641958302,
          null,
          0.23044477415912265,
          0.21436359298252866,
          null,
          0.21436359298252866,
          0.16500141025240037,
          null,
          0.16500141025240037,
          0.0896325587654248,
          null,
          0.0896325587654248,
          4.248716756496998e-17,
          null,
          4.248716756496998e-17,
          -0.08963255876542471,
          null,
          -0.08963255876542471,
          -0.16500141025240025,
          null,
          -0.16500141025240025,
          -0.21436359298252852,
          null,
          -0.21436359298252852,
          -0.2304447741591226,
          null,
          -0.2304447741591226,
          -0.2114208865459656,
          null,
          -0.2114208865459656,
          -0.16083938249179755,
          null,
          -0.16083938249179755,
          -0.08668926940451283,
          null,
          -0.08668926940451283,
          1.3096020372744595e-17,
          null,
          1.3096020372744595e-17,
          0.08668926940451287,
          null,
          0.08668926940451287,
          0.16083938249179766,
          null,
          0.16083938249179766,
          0.2114208865459657,
          null,
          0.2114208865459657,
          0.23044477415912265,
          null,
          0.15662165291216618,
          0.14598148042836187,
          null,
          0.14598148042836187,
          0.1125554032525334,
          null,
          0.1125554032525334,
          0.061211638922386916,
          null,
          0.061211638922386916,
          3.330103667041781e-17,
          null,
          3.330103667041781e-17,
          -0.06121163892238684,
          null,
          -0.06121163892238684,
          -0.11255540325253333,
          null,
          -0.11255540325253333,
          -0.14598148042836176,
          null,
          -0.14598148042836176,
          -0.1566216529121661,
          null,
          -0.1566216529121661,
          -0.14340805939960322,
          null,
          -0.14340805939960322,
          -0.10891614320702366,
          null,
          -0.10891614320702366,
          -0.05863836922002827,
          null,
          -0.05863836922002827,
          3.8337282183826663e-17,
          null,
          3.8337282183826663e-17,
          0.058638369220028366,
          null,
          0.058638369220028366,
          0.10891614320702374,
          null,
          0.10891614320702374,
          0.1434080593996033,
          null,
          0.1434080593996033,
          0.15662165291216618,
          null,
          0.10665229766157687,
          0.09954543301280427,
          null,
          0.09954543301280427,
          0.07684378353439326,
          null,
          0.07684378353439326,
          0.04182402502424889,
          null,
          0.04182402502424889,
          2.908665154282108e-17,
          null,
          2.908665154282108e-17,
          -0.04182402502424882,
          null,
          -0.04182402502424882,
          -0.07684378353439318,
          null,
          -0.07684378353439318,
          -0.09954543301280419,
          null,
          -0.09954543301280419,
          -0.10665229766157677,
          null,
          -0.10665229766157677,
          -0.09752024241628827,
          null,
          -0.09752024241628827,
          -0.07397992553405229,
          null,
          -0.07397992553405229,
          -0.03979910881377406,
          null,
          -0.03979910881377406,
          4.043512681154727e-17,
          null,
          4.043512681154727e-17,
          0.039799108813774145,
          null,
          0.039799108813774145,
          0.07397992553405239,
          null,
          0.07397992553405239,
          0.09752024241628837,
          null,
          0.09752024241628837,
          0.10665229766157687,
          null,
          0.0729218623050486,
          0.06812938012103814,
          null,
          0.06812938012103814,
          0.05263677405641388,
          null,
          0.05263677405641388,
          0.028665211520562162,
          null,
          0.028665211520562162,
          3.068397739339527e-17,
          null,
          3.068397739339527e-17,
          -0.028665211520562103,
          null,
          -0.028665211520562103,
          -0.052636774056413815,
          null,
          -0.052636774056413815,
          -0.06812938012103807,
          null,
          -0.06812938012103807,
          -0.07292186230504855,
          null,
          -0.07292186230504855,
          -0.06661400739049722,
          null,
          -0.06661400739049722,
          -0.05049385539586656,
          null,
          -0.05049385539586656,
          -0.02715003959506632,
          null,
          -0.02715003959506632,
          3.965809501939641e-17,
          null,
          3.965809501939641e-17,
          0.027150039595066403,
          null,
          0.027150039595066403,
          0.05049385539586664,
          null,
          0.05049385539586664,
          0.06661400739049729,
          null,
          0.06661400739049729,
          0.0729218623050486,
          null,
          0.050291764047082195,
          0.04701906750375557,
          null,
          0.04701906750375557,
          0.03634876328135747,
          null,
          0.03634876328135747,
          0.019803084895141855,
          null,
          0.019803084895141855,
          3.0617843342628265e-17,
          null,
          3.0617843342628265e-17,
          -0.0198030848951418,
          null,
          -0.0198030848951418,
          -0.03634876328135741,
          null,
          -0.03634876328135741,
          -0.04701906750375549,
          null,
          -0.04701906750375549,
          -0.05029176404708214,
          null,
          -0.05029176404708214,
          -0.04591051136271378,
          null,
          -0.04591051136271378,
          -0.034781105832962234,
          null,
          -0.034781105832962234,
          -0.01869463859385337,
          null,
          -0.01869463859385337,
          3.5386915417206434e-17,
          null,
          3.5386915417206434e-17,
          0.01869463859385344,
          null,
          0.01869463859385344,
          0.03478110583296229,
          null,
          0.03478110583296229,
          0.045910511362713825,
          null,
          0.045910511362713825,
          0.050291764047082195,
          null,
          0.035315615016810804,
          0.03303370262013066,
          null,
          0.03303370262013066,
          0.025548111775138396,
          null,
          0.025548111775138396,
          0.013922871883133014,
          null,
          0.013922871883133014,
          2.9538926026543455e-17,
          null,
          2.9538926026543455e-17,
          -0.013922871883132954,
          null,
          -0.013922871883132954,
          -0.025548111775138337,
          null,
          -0.025548111775138337,
          -0.033033702620130584,
          null,
          -0.033033702620130584,
          -0.03531561501681075,
          null,
          -0.03531561501681075,
          -0.03222368448367469,
          null,
          -0.03222368448367469,
          -0.024402606425135333,
          null,
          -0.024402606425135333,
          -0.013112900810407516,
          null,
          -0.013112900810407516,
          3.2493671405846815e-17,
          null,
          3.2493671405846815e-17,
          0.013112900810407578,
          null,
          0.013112900810407578,
          0.024402606425135392,
          null,
          0.024402606425135392,
          0.03222368448367474,
          null,
          0.03222368448367474,
          0.035315615016810804,
          null,
          0.025713308916355645,
          0.024060219763160886,
          null,
          0.024060219763160886,
          0.018613723239497778,
          null,
          0.018613723239497778,
          0.01014597023069149,
          null,
          0.01014597023069149,
          3.120028025884408e-17,
          null,
          3.120028025884408e-17,
          -0.010145970230691428,
          null,
          -0.010145970230691428,
          -0.018613723239497715,
          null,
          -0.018613723239497715,
          -0.024060219763160813,
          null,
          -0.024060219763160813,
          -0.025713308916355572,
          null,
          -0.025713308916355572,
          -0.023454183027111837,
          null,
          -0.023454183027111837,
          -0.017756666376934144,
          null,
          -0.017756666376934144,
          -0.00953994552628011,
          null,
          -0.00953994552628011,
          3.284581790906464e-17,
          null,
          3.284581790906464e-17,
          0.009539945526280177,
          null,
          0.009539945526280177,
          0.01775666637693421,
          null,
          0.01775666637693421,
          0.023454183027111906,
          null,
          0.023454183027111906,
          0.025713308916355645,
          null,
          0.020023217858338986,
          0.018740327420800718,
          null,
          0.018740327420800718,
          0.014501064744368027,
          null,
          0.014501064744368027,
          0.007905351742935659,
          null,
          0.007905351742935659,
          3.1424019852948233e-17,
          null,
          3.1424019852948233e-17,
          -0.007905351742935596,
          null,
          -0.007905351742935596,
          -0.014501064744367966,
          null,
          -0.014501064744367966,
          -0.018740327420800652,
          null,
          -0.018740327420800652,
          -0.020023217858338913,
          null,
          -0.020023217858338913,
          -0.018259889620271672,
          null,
          -0.018259889620271672,
          -0.013821619633066013,
          null,
          -0.013821619633066013,
          -0.007424909052690741,
          null,
          -0.007424909052690741,
          3.3918594138346177e-17,
          null,
          3.3918594138346177e-17,
          0.007424909052690809,
          null,
          0.007424909052690809,
          0.013821619633066082,
          null,
          0.013821619633066082,
          0.01825988962027174,
          null,
          0.01825988962027174,
          0.020023217858338986,
          null,
          0.017379345475927833,
          0.016267841780333032,
          null,
          0.016267841780333032,
          0.012589234515133782,
          null,
          0.012589234515133782,
          0.006863610208743395,
          null,
          0.006863610208743395,
          3.1057146102165416e-17,
          null,
          3.1057146102165416e-17,
          -0.006863610208743333,
          null,
          -0.006863610208743333,
          -0.012589234515133722,
          null,
          -0.012589234515133722,
          -0.01626784178033296,
          null,
          -0.01626784178033296,
          -0.017379345475927756,
          null,
          -0.017379345475927756,
          -0.015846976789111407,
          null,
          -0.015846976789111407,
          -0.011994033447557414,
          null,
          -0.011994033447557414,
          -0.006442733778992423,
          null,
          -0.006442733778992423,
          3.4533298639656313e-17,
          null,
          3.4533298639656313e-17,
          0.006442733778992492,
          null,
          0.006442733778992492,
          0.011994033447557487,
          null,
          0.011994033447557487,
          0.01584697678911148,
          null,
          0.01584697678911148,
          0.017379345475927833,
          null,
          0.5,
          0.3393729641958302,
          null,
          0.46193976625564337,
          0.31480004078666574,
          null,
          0.3535533905932738,
          0.2417365826527129,
          null,
          0.19134171618254492,
          0.13111084273994913,
          null,
          3.061616997868383e-17,
          4.625929269271485e-17,
          null,
          -0.19134171618254486,
          -0.13111084273994902,
          null,
          -0.35355339059327373,
          -0.2417365826527128,
          null,
          -0.46193976625564337,
          -0.3148000407866657,
          null,
          -0.5,
          -0.33937296419582996,
          null,
          -0.4619397662556434,
          -0.3122470418375321,
          null,
          -0.35355339059327384,
          -0.23812459299281463,
          null,
          -0.19134171618254517,
          -0.12855571595833454,
          null,
          -9.184850993605148e-17,
          -7.954455354326249e-18,
          null,
          0.191341716182545,
          0.12855571595833457,
          null,
          0.3535533905932737,
          0.2381245929928147,
          null,
          0.46193976625564326,
          0.31224704183753216,
          null,
          0.3393729641958302,
          0.23044477415912265,
          null,
          0.31480004078666574,
          0.21436359298252866,
          null,
          0.2417365826527129,
          0.16500141025240037,
          null,
          0.13111084273994913,
          0.0896325587654248,
          null,
          4.625929269271485e-17,
          4.248716756496998e-17,
          null,
          -0.13111084273994902,
          -0.08963255876542471,
          null,
          -0.2417365826527128,
          -0.16500141025240025,
          null,
          -0.3148000407866657,
          -0.21436359298252852,
          null,
          -0.33937296419582996,
          -0.2304447741591226,
          null,
          -0.3122470418375321,
          -0.2114208865459656,
          null,
          -0.23812459299281463,
          -0.16083938249179755,
          null,
          -0.12855571595833454,
          -0.08668926940451283,
          null,
          -7.954455354326249e-18,
          1.3096020372744595e-17,
          null,
          0.12855571595833457,
          0.08668926940451287,
          null,
          0.2381245929928147,
          0.16083938249179766,
          null,
          0.31224704183753216,
          0.2114208865459657,
          null,
          0.23044477415912265,
          0.15662165291216618,
          null,
          0.21436359298252866,
          0.14598148042836187,
          null,
          0.16500141025240037,
          0.1125554032525334,
          null,
          0.0896325587654248,
          0.061211638922386916,
          null,
          4.248716756496998e-17,
          3.330103667041781e-17,
          null,
          -0.08963255876542471,
          -0.06121163892238684,
          null,
          -0.16500141025240025,
          -0.11255540325253333,
          null,
          -0.21436359298252852,
          -0.14598148042836176,
          null,
          -0.2304447741591226,
          -0.1566216529121661,
          null,
          -0.2114208865459656,
          -0.14340805939960322,
          null,
          -0.16083938249179755,
          -0.10891614320702366,
          null,
          -0.08668926940451283,
          -0.05863836922002827,
          null,
          1.3096020372744595e-17,
          3.8337282183826663e-17,
          null,
          0.08668926940451287,
          0.058638369220028366,
          null,
          0.16083938249179766,
          0.10891614320702374,
          null,
          0.2114208865459657,
          0.1434080593996033,
          null,
          0.15662165291216618,
          0.10665229766157687,
          null,
          0.14598148042836187,
          0.09954543301280427,
          null,
          0.1125554032525334,
          0.07684378353439326,
          null,
          0.061211638922386916,
          0.04182402502424889,
          null,
          3.330103667041781e-17,
          2.908665154282108e-17,
          null,
          -0.06121163892238684,
          -0.04182402502424882,
          null,
          -0.11255540325253333,
          -0.07684378353439318,
          null,
          -0.14598148042836176,
          -0.09954543301280419,
          null,
          -0.1566216529121661,
          -0.10665229766157677,
          null,
          -0.14340805939960322,
          -0.09752024241628827,
          null,
          -0.10891614320702366,
          -0.07397992553405229,
          null,
          -0.05863836922002827,
          -0.03979910881377406,
          null,
          3.8337282183826663e-17,
          4.043512681154727e-17,
          null,
          0.058638369220028366,
          0.039799108813774145,
          null,
          0.10891614320702374,
          0.07397992553405239,
          null,
          0.1434080593996033,
          0.09752024241628837,
          null,
          0.10665229766157687,
          0.0729218623050486,
          null,
          0.09954543301280427,
          0.06812938012103814,
          null,
          0.07684378353439326,
          0.05263677405641388,
          null,
          0.04182402502424889,
          0.028665211520562162,
          null,
          2.908665154282108e-17,
          3.068397739339527e-17,
          null,
          -0.04182402502424882,
          -0.028665211520562103,
          null,
          -0.07684378353439318,
          -0.052636774056413815,
          null,
          -0.09954543301280419,
          -0.06812938012103807,
          null,
          -0.10665229766157677,
          -0.07292186230504855,
          null,
          -0.09752024241628827,
          -0.06661400739049722,
          null,
          -0.07397992553405229,
          -0.05049385539586656,
          null,
          -0.03979910881377406,
          -0.02715003959506632,
          null,
          4.043512681154727e-17,
          3.965809501939641e-17,
          null,
          0.039799108813774145,
          0.027150039595066403,
          null,
          0.07397992553405239,
          0.05049385539586664,
          null,
          0.09752024241628837,
          0.06661400739049729,
          null,
          0.0729218623050486,
          0.050291764047082195,
          null,
          0.06812938012103814,
          0.04701906750375557,
          null,
          0.05263677405641388,
          0.03634876328135747,
          null,
          0.028665211520562162,
          0.019803084895141855,
          null,
          3.068397739339527e-17,
          3.0617843342628265e-17,
          null,
          -0.028665211520562103,
          -0.0198030848951418,
          null,
          -0.052636774056413815,
          -0.03634876328135741,
          null,
          -0.06812938012103807,
          -0.04701906750375549,
          null,
          -0.07292186230504855,
          -0.05029176404708214,
          null,
          -0.06661400739049722,
          -0.04591051136271378,
          null,
          -0.05049385539586656,
          -0.034781105832962234,
          null,
          -0.02715003959506632,
          -0.01869463859385337,
          null,
          3.965809501939641e-17,
          3.5386915417206434e-17,
          null,
          0.027150039595066403,
          0.01869463859385344,
          null,
          0.05049385539586664,
          0.03478110583296229,
          null,
          0.06661400739049729,
          0.045910511362713825,
          null,
          0.050291764047082195,
          0.035315615016810804,
          null,
          0.04701906750375557,
          0.03303370262013066,
          null,
          0.03634876328135747,
          0.025548111775138396,
          null,
          0.019803084895141855,
          0.013922871883133014,
          null,
          3.0617843342628265e-17,
          2.9538926026543455e-17,
          null,
          -0.0198030848951418,
          -0.013922871883132954,
          null,
          -0.03634876328135741,
          -0.025548111775138337,
          null,
          -0.04701906750375549,
          -0.033033702620130584,
          null,
          -0.05029176404708214,
          -0.03531561501681075,
          null,
          -0.04591051136271378,
          -0.03222368448367469,
          null,
          -0.034781105832962234,
          -0.024402606425135333,
          null,
          -0.01869463859385337,
          -0.013112900810407516,
          null,
          3.5386915417206434e-17,
          3.2493671405846815e-17,
          null,
          0.01869463859385344,
          0.013112900810407578,
          null,
          0.03478110583296229,
          0.024402606425135392,
          null,
          0.045910511362713825,
          0.03222368448367474,
          null,
          0.035315615016810804,
          0.025713308916355645,
          null,
          0.03303370262013066,
          0.024060219763160886,
          null,
          0.025548111775138396,
          0.018613723239497778,
          null,
          0.013922871883133014,
          0.01014597023069149,
          null,
          2.9538926026543455e-17,
          3.120028025884408e-17,
          null,
          -0.013922871883132954,
          -0.010145970230691428,
          null,
          -0.025548111775138337,
          -0.018613723239497715,
          null,
          -0.033033702620130584,
          -0.024060219763160813,
          null,
          -0.03531561501681075,
          -0.025713308916355572,
          null,
          -0.03222368448367469,
          -0.023454183027111837,
          null,
          -0.024402606425135333,
          -0.017756666376934144,
          null,
          -0.013112900810407516,
          -0.00953994552628011,
          null,
          3.2493671405846815e-17,
          3.284581790906464e-17,
          null,
          0.013112900810407578,
          0.009539945526280177,
          null,
          0.024402606425135392,
          0.01775666637693421,
          null,
          0.03222368448367474,
          0.023454183027111906,
          null,
          0.025713308916355645,
          0.020023217858338986,
          null,
          0.024060219763160886,
          0.018740327420800718,
          null,
          0.018613723239497778,
          0.014501064744368027,
          null,
          0.01014597023069149,
          0.007905351742935659,
          null,
          3.120028025884408e-17,
          3.1424019852948233e-17,
          null,
          -0.010145970230691428,
          -0.007905351742935596,
          null,
          -0.018613723239497715,
          -0.014501064744367966,
          null,
          -0.024060219763160813,
          -0.018740327420800652,
          null,
          -0.025713308916355572,
          -0.020023217858338913,
          null,
          -0.023454183027111837,
          -0.018259889620271672,
          null,
          -0.017756666376934144,
          -0.013821619633066013,
          null,
          -0.00953994552628011,
          -0.007424909052690741,
          null,
          3.284581790906464e-17,
          3.3918594138346177e-17,
          null,
          0.009539945526280177,
          0.007424909052690809,
          null,
          0.01775666637693421,
          0.013821619633066082,
          null,
          0.023454183027111906,
          0.01825988962027174,
          null,
          0.020023217858338986,
          0.017379345475927833,
          null,
          0.018740327420800718,
          0.016267841780333032,
          null,
          0.014501064744368027,
          0.012589234515133782,
          null,
          0.007905351742935659,
          0.006863610208743395,
          null,
          3.1424019852948233e-17,
          3.1057146102165416e-17,
          null,
          -0.007905351742935596,
          -0.006863610208743333,
          null,
          -0.014501064744367966,
          -0.012589234515133722,
          null,
          -0.018740327420800652,
          -0.01626784178033296,
          null,
          -0.020023217858338913,
          -0.017379345475927756,
          null,
          -0.018259889620271672,
          -0.015846976789111407,
          null,
          -0.013821619633066013,
          -0.011994033447557414,
          null,
          -0.007424909052690741,
          -0.006442733778992423,
          null,
          3.3918594138346177e-17,
          3.4533298639656313e-17,
          null,
          0.007424909052690809,
          0.006442733778992492,
          null,
          0.013821619633066082,
          0.011994033447557487,
          null,
          0.01825988962027174,
          0.01584697678911148,
          null
         ],
         "y": [
          0,
          0.1913417161825449,
          null,
          0.1913417161825449,
          0.3535533905932738,
          null,
          0.3535533905932738,
          0.46193976625564337,
          null,
          0.46193976625564337,
          0.5,
          null,
          0.5,
          0.46193976625564337,
          null,
          0.46193976625564337,
          0.3535533905932738,
          null,
          0.3535533905932738,
          0.19134171618254495,
          null,
          0.19134171618254495,
          6.123233995736766e-17,
          null,
          6.123233995736766e-17,
          -0.19134171618254484,
          null,
          -0.19134171618254484,
          -0.35355339059327373,
          null,
          -0.35355339059327373,
          -0.46193976625564326,
          null,
          -0.46193976625564326,
          -0.5,
          null,
          -0.5,
          -0.4619397662556433,
          null,
          -0.4619397662556433,
          -0.35355339059327384,
          null,
          -0.35355339059327384,
          -0.1913417161825452,
          null,
          -0.1913417161825452,
          0,
          null,
          0.00623732032853154,
          0.13653070004120973,
          null,
          0.13653070004120973,
          0.2477895374940665,
          null,
          0.2477895374940665,
          0.322528045867784,
          null,
          0.322528045867784,
          0.34884681812076235,
          null,
          0.34884681812076235,
          0.3225280458677839,
          null,
          0.3225280458677839,
          0.24778953749406646,
          null,
          0.24778953749406646,
          0.13653070004120982,
          null,
          0.13653070004120982,
          0.00623732032853161,
          null,
          0.00623732032853161,
          -0.12299539939042535,
          null,
          -0.12299539939042535,
          -0.2316920674311404,
          null,
          -0.2316920674311404,
          -0.30386626905381064,
          null,
          -0.30386626905381064,
          -0.32912224397321793,
          null,
          -0.32912224397321793,
          -0.3038662690538107,
          null,
          -0.3038662690538107,
          -0.23169206743114054,
          null,
          -0.23169206743114054,
          -0.1229953993904255,
          null,
          -0.1229953993904255,
          0.00623732032853154,
          null,
          0.011413980663341917,
          0.1000526537759345,
          null,
          0.1000526537759345,
          0.17613417871127807,
          null,
          0.17613417871127807,
          0.22744099601170212,
          null,
          0.22744099601170212,
          0.24554594942875804,
          null,
          0.24554594942875804,
          0.22744099601170212,
          null,
          0.22744099601170212,
          0.17613417871127804,
          null,
          0.17613417871127804,
          0.10005265377593447,
          null,
          0.10005265377593447,
          0.011413980663341946,
          null,
          0.011413980663341946,
          -0.07600228599326501,
          null,
          -0.07600228599326501,
          -0.14913224656552032,
          null,
          -0.14913224656552032,
          -0.19748691459868042,
          null,
          -0.19748691459868042,
          -0.21436887665622928,
          null,
          -0.21436887665622928,
          -0.19748691459868048,
          null,
          -0.19748691459868048,
          -0.1491322465655204,
          null,
          -0.1491322465655204,
          -0.07600228599326508,
          null,
          -0.07600228599326508,
          0.011413980663341917,
          null,
          0.015368234542166716,
          0.07566892615096917,
          null,
          0.07566892615096917,
          0.1276173840067438,
          null,
          0.1276173840067438,
          0.162747785436394,
          null,
          0.162747785436394,
          0.17516317785867364,
          null,
          0.17516317785867364,
          0.16274778543639395,
          null,
          0.16274778543639395,
          0.1276173840067438,
          null,
          0.1276173840067438,
          0.07566892615096914,
          null,
          0.07566892615096914,
          0.01536823454216672,
          null,
          0.01536823454216672,
          -0.04386394625763648,
          null,
          -0.04386394625763648,
          -0.0932328983382145,
          null,
          -0.0932328983382145,
          -0.1257839464788227,
          null,
          -0.1257839464788227,
          -0.13713098057823808,
          null,
          -0.13713098057823808,
          -0.12578394647882274,
          null,
          -0.12578394647882274,
          -0.09323289833821456,
          null,
          -0.09323289833821456,
          -0.04386394625763652,
          null,
          -0.04386394625763652,
          0.015368234542166716,
          null,
          0.018253977611992277,
          0.0593295868649491,
          null,
          0.0593295868649491,
          0.0948079664394914,
          null,
          0.0948079664394914,
          0.11884847774125483,
          null,
          0.11884847774125483,
          0.12735384705637037,
          null,
          0.12735384705637037,
          0.11884847774125482,
          null,
          0.11884847774125482,
          0.09480796643949137,
          null,
          0.09480796643949137,
          0.05932958686494908,
          null,
          0.05932958686494908,
          0.018253977611992274,
          null,
          0.018253977611992274,
          -0.021981303784192153,
          null,
          -0.021981303784192153,
          -0.05543114742960164,
          null,
          -0.05543114742960164,
          -0.07744339858812231,
          null,
          -0.07744339858812231,
          -0.08510871583228097,
          null,
          -0.08510871583228097,
          -0.07744339858812234,
          null,
          -0.07744339858812234,
          -0.055431147429601695,
          null,
          -0.055431147429601695,
          -0.021981303784192184,
          null,
          -0.021981303784192184,
          0.018253977611992277,
          null,
          0.020299392825045438,
          0.04838117538181929,
          null,
          0.04838117538181929,
          0.07268105023000658,
          null,
          0.07268105023000658,
          0.08917043817747201,
          null,
          0.08917043817747201,
          0.09500882409973184,
          null,
          0.09500882409973184,
          0.08917043817747201,
          null,
          0.08917043817747201,
          0.0726810502300066,
          null,
          0.0726810502300066,
          0.0483811753818193,
          null,
          0.0483811753818193,
          0.02029939282504546,
          null,
          0.02029939282504546,
          -0.007154098971612511,
          null,
          -0.007154098971612511,
          -0.029937288388005495,
          null,
          -0.029937288388005495,
          -0.044910192574112176,
          null,
          -0.044910192574112176,
          -0.05012048940667648,
          null,
          -0.05012048940667648,
          -0.04491019257411218,
          null,
          -0.04491019257411218,
          -0.029937288388005533,
          null,
          -0.029937288388005533,
          -0.0071540989716125354,
          null,
          -0.0071540989716125354,
          0.020299392825045438,
          null,
          0.021716517277982742,
          0.04107527860427853,
          null,
          0.04107527860427853,
          0.05784880947332067,
          null,
          0.05784880947332067,
          0.06924259953224243,
          null,
          0.06924259953224243,
          0.07327904827447469,
          null,
          0.07327904827447469,
          0.06924259953224245,
          null,
          0.06924259953224245,
          0.05784880947332069,
          null,
          0.05784880947332069,
          0.04107527860427855,
          null,
          0.04107527860427855,
          0.021716517277982763,
          null,
          0.021716517277982763,
          0.002816967075625962,
          null,
          0.002816967075625962,
          -0.012848008035072635,
          null,
          -0.012848008035072635,
          -0.023133352552061597,
          null,
          -0.023133352552061597,
          -0.026710700386770425,
          null,
          -0.026710700386770425,
          -0.02313335255206161,
          null,
          -0.02313335255206161,
          -0.012848008035072654,
          null,
          -0.012848008035072654,
          0.0028169670756259435,
          null,
          0.0028169670756259435,
          0.021716517277982742,
          null,
          0.02267443060698107,
          0.03625932623667222,
          null,
          0.03625932623667222,
          0.048041026695865074,
          null,
          0.048041026695865074,
          0.056049860166341996,
          null,
          0.056049860166341996,
          0.05888827016236715,
          null,
          0.05888827016236715,
          0.056049860166342017,
          null,
          0.056049860166342017,
          0.04804102669586511,
          null,
          0.04804102669586511,
          0.036259326236672225,
          null,
          0.036259326236672225,
          0.022674430606981075,
          null,
          0.022674430606981075,
          0.009424750788430835,
          null,
          0.009424750788430835,
          -0.0015477004670832104,
          null,
          -0.0015477004670832104,
          -0.008747331885382792,
          null,
          -0.008747331885382792,
          -0.01125057322177285,
          null,
          -0.01125057322177285,
          -0.008747331885382795,
          null,
          -0.008747331885382795,
          -0.0015477004670832193,
          null,
          -0.0015477004670832193,
          0.009424750788430827,
          null,
          0.009424750788430827,
          0.02267443060698107,
          null,
          0.023297128124838484,
          0.03318010713483927,
          null,
          0.03318010713483927,
          0.04175694744151735,
          null,
          0.04175694744151735,
          0.047590259296763984,
          null,
          0.047590259296763984,
          0.049658237497578035,
          null,
          0.049658237497578035,
          0.047590259296764,
          null,
          0.047590259296764,
          0.041756947441517374,
          null,
          0.041756947441517374,
          0.03318010713483927,
          null,
          0.03318010713483927,
          0.023297128124838487,
          null,
          0.023297128124838487,
          0.013664692549667085,
          null,
          0.013664692549667085,
          0.005692709124701777,
          null,
          0.005692709124701777,
          0.0004642421675337811,
          null,
          0.0004642421675337811,
          -0.0013532045820865066,
          null,
          -0.0013532045820865066,
          0.000464242167533778,
          null,
          0.000464242167533778,
          0.005692709124701774,
          null,
          0.005692709124701774,
          0.013664692549667082,
          null,
          0.013664692549667082,
          0.023297128124838484,
          null,
          0.023669282207866526,
          0.03135888526641053,
          null,
          0.03135888526641053,
          0.03803521159841875,
          null,
          0.03803521159841875,
          0.042577541600170715,
          null,
          0.042577541600170715,
          0.04418816519790535,
          null,
          0.04418816519790535,
          0.04257754160017072,
          null,
          0.04257754160017072,
          0.03803521159841877,
          null,
          0.03803521159841877,
          0.031358885266410536,
          null,
          0.031358885266410536,
          0.023669282207866526,
          null,
          0.023669282207866526,
          0.016178110972996367,
          null,
          0.016178110972996367,
          0.009980844970089827,
          null,
          0.009980844970089827,
          0.00591758028719427,
          null,
          0.00591758028719427,
          0.004505393502888092,
          null,
          0.004505393502888092,
          0.005917580287194269,
          null,
          0.005917580287194269,
          0.00998084497008983,
          null,
          0.00998084497008983,
          0.016178110972996367,
          null,
          0.016178110972996367,
          0.023669282207866526,
          null,
          0.02384300446722073,
          0.030513592918646148,
          null,
          0.030513592918646148,
          0.03630654108460774,
          null,
          0.03630654108460774,
          0.04024858327248302,
          null,
          0.04024858327248302,
          0.04164649943956837,
          null,
          0.04164649943956837,
          0.040248583272483034,
          null,
          0.040248583272483034,
          0.036306541084607756,
          null,
          0.036306541084607756,
          0.030513592918646144,
          null,
          0.030513592918646144,
          0.023843004467220725,
          null,
          0.023843004467220725,
          0.017346138275149515,
          null,
          0.017346138275149515,
          0.011972600915523043,
          null,
          0.011972600915523043,
          0.008449981087781342,
          null,
          0.008449981087781342,
          0.007225798733848955,
          null,
          0.007225798733848955,
          0.008449981087781342,
          null,
          0.008449981087781342,
          0.011972600915523046,
          null,
          0.011972600915523046,
          0.01734613827514952,
          null,
          0.01734613827514952,
          0.02384300446722073,
          null,
          0,
          0.00623732032853154,
          null,
          0.1913417161825449,
          0.13653070004120973,
          null,
          0.3535533905932738,
          0.2477895374940665,
          null,
          0.46193976625564337,
          0.322528045867784,
          null,
          0.5,
          0.34884681812076235,
          null,
          0.46193976625564337,
          0.3225280458677839,
          null,
          0.3535533905932738,
          0.24778953749406646,
          null,
          0.19134171618254495,
          0.13653070004120982,
          null,
          6.123233995736766e-17,
          0.00623732032853161,
          null,
          -0.19134171618254484,
          -0.12299539939042535,
          null,
          -0.35355339059327373,
          -0.2316920674311404,
          null,
          -0.46193976625564326,
          -0.30386626905381064,
          null,
          -0.5,
          -0.32912224397321793,
          null,
          -0.4619397662556433,
          -0.3038662690538107,
          null,
          -0.35355339059327384,
          -0.23169206743114054,
          null,
          -0.1913417161825452,
          -0.1229953993904255,
          null,
          0.00623732032853154,
          0.011413980663341917,
          null,
          0.13653070004120973,
          0.1000526537759345,
          null,
          0.2477895374940665,
          0.17613417871127807,
          null,
          0.322528045867784,
          0.22744099601170212,
          null,
          0.34884681812076235,
          0.24554594942875804,
          null,
          0.3225280458677839,
          0.22744099601170212,
          null,
          0.24778953749406646,
          0.17613417871127804,
          null,
          0.13653070004120982,
          0.10005265377593447,
          null,
          0.00623732032853161,
          0.011413980663341946,
          null,
          -0.12299539939042535,
          -0.07600228599326501,
          null,
          -0.2316920674311404,
          -0.14913224656552032,
          null,
          -0.30386626905381064,
          -0.19748691459868042,
          null,
          -0.32912224397321793,
          -0.21436887665622928,
          null,
          -0.3038662690538107,
          -0.19748691459868048,
          null,
          -0.23169206743114054,
          -0.1491322465655204,
          null,
          -0.1229953993904255,
          -0.07600228599326508,
          null,
          0.011413980663341917,
          0.015368234542166716,
          null,
          0.1000526537759345,
          0.07566892615096917,
          null,
          0.17613417871127807,
          0.1276173840067438,
          null,
          0.22744099601170212,
          0.162747785436394,
          null,
          0.24554594942875804,
          0.17516317785867364,
          null,
          0.22744099601170212,
          0.16274778543639395,
          null,
          0.17613417871127804,
          0.1276173840067438,
          null,
          0.10005265377593447,
          0.07566892615096914,
          null,
          0.011413980663341946,
          0.01536823454216672,
          null,
          -0.07600228599326501,
          -0.04386394625763648,
          null,
          -0.14913224656552032,
          -0.0932328983382145,
          null,
          -0.19748691459868042,
          -0.1257839464788227,
          null,
          -0.21436887665622928,
          -0.13713098057823808,
          null,
          -0.19748691459868048,
          -0.12578394647882274,
          null,
          -0.1491322465655204,
          -0.09323289833821456,
          null,
          -0.07600228599326508,
          -0.04386394625763652,
          null,
          0.015368234542166716,
          0.018253977611992277,
          null,
          0.07566892615096917,
          0.0593295868649491,
          null,
          0.1276173840067438,
          0.0948079664394914,
          null,
          0.162747785436394,
          0.11884847774125483,
          null,
          0.17516317785867364,
          0.12735384705637037,
          null,
          0.16274778543639395,
          0.11884847774125482,
          null,
          0.1276173840067438,
          0.09480796643949137,
          null,
          0.07566892615096914,
          0.05932958686494908,
          null,
          0.01536823454216672,
          0.018253977611992274,
          null,
          -0.04386394625763648,
          -0.021981303784192153,
          null,
          -0.0932328983382145,
          -0.05543114742960164,
          null,
          -0.1257839464788227,
          -0.07744339858812231,
          null,
          -0.13713098057823808,
          -0.08510871583228097,
          null,
          -0.12578394647882274,
          -0.07744339858812234,
          null,
          -0.09323289833821456,
          -0.055431147429601695,
          null,
          -0.04386394625763652,
          -0.021981303784192184,
          null,
          0.018253977611992277,
          0.020299392825045438,
          null,
          0.0593295868649491,
          0.04838117538181929,
          null,
          0.0948079664394914,
          0.07268105023000658,
          null,
          0.11884847774125483,
          0.08917043817747201,
          null,
          0.12735384705637037,
          0.09500882409973184,
          null,
          0.11884847774125482,
          0.08917043817747201,
          null,
          0.09480796643949137,
          0.0726810502300066,
          null,
          0.05932958686494908,
          0.0483811753818193,
          null,
          0.018253977611992274,
          0.02029939282504546,
          null,
          -0.021981303784192153,
          -0.007154098971612511,
          null,
          -0.05543114742960164,
          -0.029937288388005495,
          null,
          -0.07744339858812231,
          -0.044910192574112176,
          null,
          -0.08510871583228097,
          -0.05012048940667648,
          null,
          -0.07744339858812234,
          -0.04491019257411218,
          null,
          -0.055431147429601695,
          -0.029937288388005533,
          null,
          -0.021981303784192184,
          -0.0071540989716125354,
          null,
          0.020299392825045438,
          0.021716517277982742,
          null,
          0.04838117538181929,
          0.04107527860427853,
          null,
          0.07268105023000658,
          0.05784880947332067,
          null,
          0.08917043817747201,
          0.06924259953224243,
          null,
          0.09500882409973184,
          0.07327904827447469,
          null,
          0.08917043817747201,
          0.06924259953224245,
          null,
          0.0726810502300066,
          0.05784880947332069,
          null,
          0.0483811753818193,
          0.04107527860427855,
          null,
          0.02029939282504546,
          0.021716517277982763,
          null,
          -0.007154098971612511,
          0.002816967075625962,
          null,
          -0.029937288388005495,
          -0.012848008035072635,
          null,
          -0.044910192574112176,
          -0.023133352552061597,
          null,
          -0.05012048940667648,
          -0.026710700386770425,
          null,
          -0.04491019257411218,
          -0.02313335255206161,
          null,
          -0.029937288388005533,
          -0.012848008035072654,
          null,
          -0.0071540989716125354,
          0.0028169670756259435,
          null,
          0.021716517277982742,
          0.02267443060698107,
          null,
          0.04107527860427853,
          0.03625932623667222,
          null,
          0.05784880947332067,
          0.048041026695865074,
          null,
          0.06924259953224243,
          0.056049860166341996,
          null,
          0.07327904827447469,
          0.05888827016236715,
          null,
          0.06924259953224245,
          0.056049860166342017,
          null,
          0.05784880947332069,
          0.04804102669586511,
          null,
          0.04107527860427855,
          0.036259326236672225,
          null,
          0.021716517277982763,
          0.022674430606981075,
          null,
          0.002816967075625962,
          0.009424750788430835,
          null,
          -0.012848008035072635,
          -0.0015477004670832104,
          null,
          -0.023133352552061597,
          -0.008747331885382792,
          null,
          -0.026710700386770425,
          -0.01125057322177285,
          null,
          -0.02313335255206161,
          -0.008747331885382795,
          null,
          -0.012848008035072654,
          -0.0015477004670832193,
          null,
          0.0028169670756259435,
          0.009424750788430827,
          null,
          0.02267443060698107,
          0.023297128124838484,
          null,
          0.03625932623667222,
          0.03318010713483927,
          null,
          0.048041026695865074,
          0.04175694744151735,
          null,
          0.056049860166341996,
          0.047590259296763984,
          null,
          0.05888827016236715,
          0.049658237497578035,
          null,
          0.056049860166342017,
          0.047590259296764,
          null,
          0.04804102669586511,
          0.041756947441517374,
          null,
          0.036259326236672225,
          0.03318010713483927,
          null,
          0.022674430606981075,
          0.023297128124838487,
          null,
          0.009424750788430835,
          0.013664692549667085,
          null,
          -0.0015477004670832104,
          0.005692709124701777,
          null,
          -0.008747331885382792,
          0.0004642421675337811,
          null,
          -0.01125057322177285,
          -0.0013532045820865066,
          null,
          -0.008747331885382795,
          0.000464242167533778,
          null,
          -0.0015477004670832193,
          0.005692709124701774,
          null,
          0.009424750788430827,
          0.013664692549667082,
          null,
          0.023297128124838484,
          0.023669282207866526,
          null,
          0.03318010713483927,
          0.03135888526641053,
          null,
          0.04175694744151735,
          0.03803521159841875,
          null,
          0.047590259296763984,
          0.042577541600170715,
          null,
          0.049658237497578035,
          0.04418816519790535,
          null,
          0.047590259296764,
          0.04257754160017072,
          null,
          0.041756947441517374,
          0.03803521159841877,
          null,
          0.03318010713483927,
          0.031358885266410536,
          null,
          0.023297128124838487,
          0.023669282207866526,
          null,
          0.013664692549667085,
          0.016178110972996367,
          null,
          0.005692709124701777,
          0.009980844970089827,
          null,
          0.0004642421675337811,
          0.00591758028719427,
          null,
          -0.0013532045820865066,
          0.004505393502888092,
          null,
          0.000464242167533778,
          0.005917580287194269,
          null,
          0.005692709124701774,
          0.00998084497008983,
          null,
          0.013664692549667082,
          0.016178110972996367,
          null,
          0.023669282207866526,
          0.02384300446722073,
          null,
          0.03135888526641053,
          0.030513592918646148,
          null,
          0.03803521159841875,
          0.03630654108460774,
          null,
          0.042577541600170715,
          0.04024858327248302,
          null,
          0.04418816519790535,
          0.04164649943956837,
          null,
          0.04257754160017072,
          0.040248583272483034,
          null,
          0.03803521159841877,
          0.036306541084607756,
          null,
          0.031358885266410536,
          0.030513592918646144,
          null,
          0.023669282207866526,
          0.023843004467220725,
          null,
          0.016178110972996367,
          0.017346138275149515,
          null,
          0.009980844970089827,
          0.011972600915523043,
          null,
          0.00591758028719427,
          0.008449981087781342,
          null,
          0.004505393502888092,
          0.007225798733848955,
          null,
          0.005917580287194269,
          0.008449981087781342,
          null,
          0.00998084497008983,
          0.011972600915523046,
          null,
          0.016178110972996367,
          0.01734613827514952,
          null
         ],
         "z": [
          0,
          0,
          null,
          0,
          0,
          null,
          0,
          0,
          null,
          0,
          0,
          null,
          0,
          0,
          null,
          0,
          0,
          null,
          0,
          0,
          null,
          0,
          0,
          null,
          0,
          0,
          null,
          0,
          0,
          null,
          0,
          0,
          null,
          0,
          0,
          null,
          0,
          0,
          null,
          0,
          0,
          null,
          0,
          0,
          null,
          0,
          0,
          null,
          0,
          0,
          null,
          0,
          0,
          null,
          0,
          0,
          null,
          0,
          0,
          null,
          0,
          0,
          null,
          0,
          0,
          null,
          0,
          0,
          null,
          0,
          0,
          null,
          0,
          0,
          null,
          0,
          0,
          null,
          0,
          0,
          null,
          0,
          0,
          null,
          0,
          0,
          null,
          0,
          0,
          null,
          0,
          0,
          null,
          0,
          0,
          null,
          0,
          0,
          null,
          0,
          0,
          null,
          0,
          0,
          null,
          0,
          0,
          null,
          0,
          0,
          null,
          0,
          0,
          null,
          0,
          0,
          null,
          0,
          0,
          null,
          0,
          0,
          null,
          0,
          0,
          null,
          0,
          0,
          null,
          0,
          0,
          null,
          0,
          0,
          null,
          0,
          0,
          null,
          0,
          0,
          null,
          0,
          0,
          null,
          0,
          0,
          null,
          0,
          0,
          null,
          0,
          0,
          null,
          0,
          0,
          null,
          0,
          0,
          null,
          0,
          0,
          null,
          0,
          0,
          null,
          0,
          0,
          null,
          0,
          0,
          null,
          0,
          0,
          null,
          0,
          0,
          null,
          0,
          0,
          null,
          0,
          0,
          null,
          0,
          0,
          null,
          0,
          0,
          null,
          0,
          0,
          null,
          0,
          0,
          null,
          0,
          0,
          null,
          0,
          0,
          null,
          0,
          0,
          null,
          0,
          0,
          null,
          0,
          0,
          null,
          0,
          0,
          null,
          0,
          0,
          null,
          0,
          0,
          null,
          0,
          0,
          null,
          0,
          0,
          null,
          0,
          0,
          null,
          0,
          0,
          null,
          0,
          0,
          null,
          0,
          0,
          null,
          0,
          0,
          null,
          0,
          0,
          null,
          0,
          0,
          null,
          0,
          0,
          null,
          0,
          0,
          null,
          0,
          0,
          null,
          0,
          0,
          null,
          0,
          0,
          null,
          0,
          0,
          null,
          0,
          0,
          null,
          0,
          0,
          null,
          0,
          0,
          null,
          0,
          0,
          null,
          0,
          0,
          null,
          0,
          0,
          null,
          0,
          0,
          null,
          0,
          0,
          null,
          0,
          0,
          null,
          0,
          0,
          null,
          0,
          0,
          null,
          0,
          0,
          null,
          0,
          0,
          null,
          0,
          0,
          null,
          0,
          0,
          null,
          0,
          0,
          null,
          0,
          0,
          null,
          0,
          0,
          null,
          0,
          0,
          null,
          0,
          0,
          null,
          0,
          0,
          null,
          0,
          0,
          null,
          0,
          0,
          null,
          0,
          0,
          null,
          0,
          0,
          null,
          0,
          0,
          null,
          0,
          0,
          null,
          0,
          0,
          null,
          0,
          0,
          null,
          0,
          0,
          null,
          0,
          0,
          null,
          0,
          0,
          null,
          0,
          0,
          null,
          0,
          0,
          null,
          0,
          0,
          null,
          0,
          0,
          null,
          0,
          0,
          null,
          0,
          0,
          null,
          0,
          0,
          null,
          0,
          0,
          null,
          0,
          0,
          null,
          0,
          0,
          null,
          0,
          0,
          null,
          0,
          0,
          null,
          0,
          0,
          null,
          0,
          0,
          null,
          0,
          0,
          null,
          0,
          0,
          null,
          0,
          0,
          null,
          0,
          0,
          null,
          0,
          0,
          null,
          0,
          0,
          null,
          0,
          0,
          null,
          0,
          0,
          null,
          0,
          0,
          null,
          0,
          0,
          null,
          0,
          0,
          null,
          0,
          0,
          null,
          0,
          0,
          null,
          0,
          0,
          null,
          0,
          0,
          null,
          0,
          0,
          null,
          0,
          0,
          null,
          0,
          0,
          null,
          0,
          0,
          null,
          0,
          0,
          null,
          0,
          0,
          null,
          0,
          0,
          null,
          0,
          0,
          null,
          0,
          0,
          null,
          0,
          0,
          null,
          0,
          0,
          null,
          0,
          0,
          null,
          0,
          0,
          null,
          0,
          0,
          null,
          0,
          0,
          null,
          0,
          0,
          null,
          0,
          0,
          null,
          0,
          0,
          null,
          0,
          0,
          null,
          0,
          0,
          null,
          0,
          0,
          null,
          0,
          0,
          null,
          0,
          0,
          null,
          0,
          0,
          null,
          0,
          0,
          null,
          0,
          0,
          null,
          0,
          0,
          null,
          0,
          0,
          null,
          0,
          0,
          null,
          0,
          0,
          null,
          0,
          0,
          null,
          0,
          0,
          null,
          0,
          0,
          null,
          0,
          0,
          null,
          0,
          0,
          null,
          0,
          0,
          null,
          0,
          0,
          null,
          0,
          0,
          null,
          0,
          0,
          null,
          0,
          0,
          null,
          0,
          0,
          null,
          0,
          0,
          null,
          0,
          0,
          null,
          0,
          0,
          null,
          0,
          0,
          null,
          0,
          0,
          null,
          0,
          0,
          null,
          0,
          0,
          null,
          0,
          0,
          null,
          0,
          0,
          null,
          0,
          0,
          null,
          0,
          0,
          null,
          0,
          0,
          null,
          0,
          0,
          null,
          0,
          0,
          null,
          0,
          0,
          null,
          0,
          0,
          null,
          0,
          0,
          null,
          0,
          0,
          null,
          0,
          0,
          null,
          0,
          0,
          null,
          0,
          0,
          null,
          0,
          0,
          null,
          0,
          0,
          null,
          0,
          0,
          null,
          0,
          0,
          null,
          0,
          0,
          null,
          0,
          0,
          null,
          0,
          0,
          null,
          0,
          0,
          null,
          0,
          0,
          null,
          0,
          0,
          null,
          0,
          0,
          null,
          0,
          0,
          null,
          0,
          0,
          null,
          0,
          0,
          null,
          0,
          0,
          null,
          0,
          0,
          null,
          0,
          0,
          null,
          0,
          0,
          null,
          0,
          0,
          null,
          0,
          0,
          null,
          0,
          0,
          null,
          0,
          0,
          null,
          0,
          0,
          null,
          0,
          0,
          null,
          0,
          0,
          null,
          0,
          0,
          null,
          0,
          0,
          null,
          0,
          0,
          null,
          0,
          0,
          null,
          0,
          0,
          null,
          0,
          0,
          null,
          0,
          0,
          null,
          0,
          0,
          null,
          0,
          0,
          null,
          0,
          0,
          null,
          0,
          0,
          null,
          0,
          0,
          null,
          0,
          0,
          null,
          0,
          0,
          null,
          0,
          0,
          null,
          0,
          0,
          null,
          0,
          0,
          null,
          0,
          0,
          null,
          0,
          0,
          null,
          0,
          0,
          null,
          0,
          0,
          null,
          0,
          0,
          null,
          0,
          0,
          null,
          0,
          0,
          null,
          0,
          0,
          null,
          0,
          0,
          null,
          0,
          0,
          null,
          0,
          0,
          null,
          0,
          0,
          null,
          0,
          0,
          null,
          0,
          0,
          null,
          0,
          0,
          null,
          0,
          0,
          null,
          0,
          0,
          null,
          0,
          0,
          null,
          0,
          0,
          null,
          0,
          0,
          null,
          0,
          0,
          null,
          0,
          0,
          null,
          0,
          0,
          null,
          0,
          0,
          null,
          0,
          0,
          null,
          0,
          0,
          null,
          0,
          0,
          null,
          0,
          0,
          null,
          0,
          0,
          null,
          0,
          0,
          null,
          0,
          0,
          null,
          0,
          0,
          null,
          0,
          0,
          null,
          0,
          0,
          null,
          0,
          0,
          null,
          0,
          0,
          null,
          0,
          0,
          null,
          0,
          0,
          null,
          0,
          0,
          null,
          0,
          0,
          null,
          0,
          0,
          null,
          0,
          0,
          null,
          0,
          0,
          null,
          0,
          0,
          null,
          0,
          0,
          null,
          0,
          0,
          null,
          0,
          0,
          null,
          0,
          0,
          null,
          0,
          0,
          null,
          0,
          0,
          null,
          0,
          0,
          null,
          0,
          0,
          null,
          0,
          0,
          null,
          0,
          0,
          null,
          0,
          0,
          null,
          0,
          0,
          null,
          0,
          0,
          null,
          0,
          0,
          null,
          0,
          0,
          null,
          0,
          0,
          null,
          0,
          0,
          null,
          0,
          0,
          null,
          0,
          0,
          null,
          0,
          0,
          null,
          0,
          0,
          null,
          0,
          0,
          null,
          0,
          0,
          null,
          0,
          0,
          null,
          0,
          0,
          null,
          0,
          0,
          null,
          0,
          0,
          null,
          0,
          0,
          null,
          0,
          0,
          null,
          0,
          0,
          null,
          0,
          0,
          null,
          0,
          0,
          null,
          0,
          0,
          null,
          0,
          0,
          null,
          0,
          0,
          null,
          0,
          0,
          null,
          0,
          0,
          null,
          0,
          0,
          null,
          0,
          0,
          null
         ]
        },
        {
         "mode": "text",
         "text": [
          "0"
         ],
         "type": "scatter3d",
         "x": [
          0.4809698831278217
         ],
         "y": [
          0.09567085809127245
         ],
         "z": [
          0
         ]
        },
        {
         "mode": "text",
         "text": [
          "1"
         ],
         "type": "scatter3d",
         "x": [
          0.4077465784244586
         ],
         "y": [
          0.2724475533879093
         ],
         "z": [
          0
         ]
        },
        {
         "mode": "text",
         "text": [
          "2"
         ],
         "type": "scatter3d",
         "x": [
          0.2724475533879094
         ],
         "y": [
          0.4077465784244586
         ],
         "z": [
          0
         ]
        },
        {
         "mode": "text",
         "text": [
          "3"
         ],
         "type": "scatter3d",
         "x": [
          0.09567085809127247
         ],
         "y": [
          0.4809698831278217
         ],
         "z": [
          0
         ]
        },
        {
         "mode": "text",
         "text": [
          "4"
         ],
         "type": "scatter3d",
         "x": [
          -0.09567085809127242
         ],
         "y": [
          0.4809698831278217
         ],
         "z": [
          0
         ]
        },
        {
         "mode": "text",
         "text": [
          "5"
         ],
         "type": "scatter3d",
         "x": [
          -0.27244755338790927
         ],
         "y": [
          0.4077465784244586
         ],
         "z": [
          0
         ]
        },
        {
         "mode": "text",
         "text": [
          "6"
         ],
         "type": "scatter3d",
         "x": [
          -0.40774657842445855
         ],
         "y": [
          0.2724475533879094
         ],
         "z": [
          0
         ]
        },
        {
         "mode": "text",
         "text": [
          "7"
         ],
         "type": "scatter3d",
         "x": [
          -0.4809698831278217
         ],
         "y": [
          0.0956708580912725
         ],
         "z": [
          0
         ]
        },
        {
         "mode": "text",
         "text": [
          "8"
         ],
         "type": "scatter3d",
         "x": [
          -0.48096988312782174
         ],
         "y": [
          -0.09567085809127239
         ],
         "z": [
          0
         ]
        },
        {
         "mode": "text",
         "text": [
          "9"
         ],
         "type": "scatter3d",
         "x": [
          -0.4077465784244586
         ],
         "y": [
          -0.27244755338790927
         ],
         "z": [
          0
         ]
        },
        {
         "mode": "text",
         "text": [
          "10"
         ],
         "type": "scatter3d",
         "x": [
          -0.2724475533879095
         ],
         "y": [
          -0.4077465784244585
         ],
         "z": [
          0
         ]
        },
        {
         "mode": "text",
         "text": [
          "11"
         ],
         "type": "scatter3d",
         "x": [
          -0.09567085809127263
         ],
         "y": [
          -0.48096988312782163
         ],
         "z": [
          0
         ]
        },
        {
         "mode": "text",
         "text": [
          "12"
         ],
         "type": "scatter3d",
         "x": [
          0.09567085809127246
         ],
         "y": [
          -0.48096988312782163
         ],
         "z": [
          0
         ]
        },
        {
         "mode": "text",
         "text": [
          "13"
         ],
         "type": "scatter3d",
         "x": [
          0.2724475533879093
         ],
         "y": [
          -0.4077465784244586
         ],
         "z": [
          0
         ]
        },
        {
         "mode": "text",
         "text": [
          "14"
         ],
         "type": "scatter3d",
         "x": [
          0.4077465784244585
         ],
         "y": [
          -0.2724475533879095
         ],
         "z": [
          0
         ]
        },
        {
         "mode": "text",
         "text": [
          "15"
         ],
         "type": "scatter3d",
         "x": [
          0.48096988312782163
         ],
         "y": [
          -0.0956708580912726
         ],
         "z": [
          0
         ]
        },
        {
         "mode": "text",
         "text": [
          "16"
         ],
         "type": "scatter3d",
         "x": [
          0.32708650249124793
         ],
         "y": [
          0.07138401018487064
         ],
         "z": [
          0
         ]
        },
        {
         "mode": "text",
         "text": [
          "17"
         ],
         "type": "scatter3d",
         "x": [
          0.2782683117196893
         ],
         "y": [
          0.1921601187676381
         ],
         "z": [
          0
         ]
        },
        {
         "mode": "text",
         "text": [
          "18"
         ],
         "type": "scatter3d",
         "x": [
          0.186423712696331
         ],
         "y": [
          0.2851587916809252
         ],
         "z": [
          0
         ]
        },
        {
         "mode": "text",
         "text": [
          "19"
         ],
         "type": "scatter3d",
         "x": [
          0.0655554213699746
         ],
         "y": [
          0.3356874319942732
         ],
         "z": [
          0
         ]
        },
        {
         "mode": "text",
         "text": [
          "20"
         ],
         "type": "scatter3d",
         "x": [
          -0.06555542136997448
         ],
         "y": [
          0.3356874319942731
         ],
         "z": [
          0
         ]
        },
        {
         "mode": "text",
         "text": [
          "21"
         ],
         "type": "scatter3d",
         "x": [
          -0.1864237126963309
         ],
         "y": [
          0.28515879168092517
         ],
         "z": [
          0
         ]
        },
        {
         "mode": "text",
         "text": [
          "22"
         ],
         "type": "scatter3d",
         "x": [
          -0.27826831171968924
         ],
         "y": [
          0.19216011876763814
         ],
         "z": [
          0
         ]
        },
        {
         "mode": "text",
         "text": [
          "23"
         ],
         "type": "scatter3d",
         "x": [
          -0.3270865024912478
         ],
         "y": [
          0.07138401018487071
         ],
         "z": [
          0
         ]
        },
        {
         "mode": "text",
         "text": [
          "24"
         ],
         "type": "scatter3d",
         "x": [
          -0.32581000301668106
         ],
         "y": [
          -0.05837903953094687
         ],
         "z": [
          0
         ]
        },
        {
         "mode": "text",
         "text": [
          "25"
         ],
         "type": "scatter3d",
         "x": [
          -0.27518581741517334
         ],
         "y": [
          -0.17734373341078288
         ],
         "z": [
          0
         ]
        },
        {
         "mode": "text",
         "text": [
          "26"
         ],
         "type": "scatter3d",
         "x": [
          -0.18334015447557458
         ],
         "y": [
          -0.2677791682424755
         ],
         "z": [
          0
         ]
        },
        {
         "mode": "text",
         "text": [
          "27"
         ],
         "type": "scatter3d",
         "x": [
          -0.06427785797916727
         ],
         "y": [
          -0.31649425651351426
         ],
         "z": [
          0
         ]
        },
        {
         "mode": "text",
         "text": [
          "28"
         ],
         "type": "scatter3d",
         "x": [
          0.06427785797916728
         ],
         "y": [
          -0.3164942565135143
         ],
         "z": [
          0
         ]
        },
        {
         "mode": "text",
         "text": [
          "29"
         ],
         "type": "scatter3d",
         "x": [
          0.1833401544755746
         ],
         "y": [
          -0.2677791682424756
         ],
         "z": [
          0
         ]
        },
        {
         "mode": "text",
         "text": [
          "30"
         ],
         "type": "scatter3d",
         "x": [
          0.27518581741517345
         ],
         "y": [
          -0.17734373341078302
         ],
         "z": [
          0
         ]
        },
        {
         "mode": "text",
         "text": [
          "31"
         ],
         "type": "scatter3d",
         "x": [
          0.32581000301668117
         ],
         "y": [
          -0.05837903953094698
         ],
         "z": [
          0
         ]
        },
        {
         "mode": "text",
         "text": [
          "32"
         ],
         "type": "scatter3d",
         "x": [
          0.22240418357082564
         ],
         "y": [
          0.05573331721963821
         ],
         "z": [
          0
         ]
        },
        {
         "mode": "text",
         "text": [
          "33"
         ],
         "type": "scatter3d",
         "x": [
          0.18968250161746453
         ],
         "y": [
          0.13809341624360627
         ],
         "z": [
          0
         ]
        },
        {
         "mode": "text",
         "text": [
          "34"
         ],
         "type": "scatter3d",
         "x": [
          0.12731698450891257
         ],
         "y": [
          0.2017875873614901
         ],
         "z": [
          0
         ]
        },
        {
         "mode": "text",
         "text": [
          "35"
         ],
         "type": "scatter3d",
         "x": [
          0.04481627938271242
         ],
         "y": [
          0.23649347272023008
         ],
         "z": [
          0
         ]
        },
        {
         "mode": "text",
         "text": [
          "36"
         ],
         "type": "scatter3d",
         "x": [
          -0.044816279382712335
         ],
         "y": [
          0.23649347272023008
         ],
         "z": [
          0
         ]
        },
        {
         "mode": "text",
         "text": [
          "37"
         ],
         "type": "scatter3d",
         "x": [
          -0.1273169845089125
         ],
         "y": [
          0.20178758736149008
         ],
         "z": [
          0
         ]
        },
        {
         "mode": "text",
         "text": [
          "38"
         ],
         "type": "scatter3d",
         "x": [
          -0.1896825016174644
         ],
         "y": [
          0.13809341624360627
         ],
         "z": [
          0
         ]
        },
        {
         "mode": "text",
         "text": [
          "39"
         ],
         "type": "scatter3d",
         "x": [
          -0.22240418357082556
         ],
         "y": [
          0.05573331721963821
         ],
         "z": [
          0
         ]
        },
        {
         "mode": "text",
         "text": [
          "40"
         ],
         "type": "scatter3d",
         "x": [
          -0.2209328303525441
         ],
         "y": [
          -0.03229415266496154
         ],
         "z": [
          0
         ]
        },
        {
         "mode": "text",
         "text": [
          "41"
         ],
         "type": "scatter3d",
         "x": [
          -0.18613013451888158
         ],
         "y": [
          -0.11256726627939267
         ],
         "z": [
          0
         ]
        },
        {
         "mode": "text",
         "text": [
          "42"
         ],
         "type": "scatter3d",
         "x": [
          -0.12376432594815519
         ],
         "y": [
          -0.1733095805821004
         ],
         "z": [
          0
         ]
        },
        {
         "mode": "text",
         "text": [
          "43"
         ],
         "type": "scatter3d",
         "x": [
          -0.043344634702256406
         ],
         "y": [
          -0.20592789562745484
         ],
         "z": [
          0
         ]
        },
        {
         "mode": "text",
         "text": [
          "44"
         ],
         "type": "scatter3d",
         "x": [
          0.04334463470225644
         ],
         "y": [
          -0.2059278956274549
         ],
         "z": [
          0
         ]
        },
        {
         "mode": "text",
         "text": [
          "45"
         ],
         "type": "scatter3d",
         "x": [
          0.12376432594815526
         ],
         "y": [
          -0.17330958058210044
         ],
         "z": [
          0
         ]
        },
        {
         "mode": "text",
         "text": [
          "46"
         ],
         "type": "scatter3d",
         "x": [
          0.18613013451888166
         ],
         "y": [
          -0.11256726627939274
         ],
         "z": [
          0
         ]
        },
        {
         "mode": "text",
         "text": [
          "47"
         ],
         "type": "scatter3d",
         "x": [
          0.22093283035254419
         ],
         "y": [
          -0.032294152664961585
         ],
         "z": [
          0
         ]
        },
        {
         "mode": "text",
         "text": [
          "48"
         ],
         "type": "scatter3d",
         "x": [
          0.151301566670264
         ],
         "y": [
          0.045518580346567944
         ],
         "z": [
          0
         ]
        },
        {
         "mode": "text",
         "text": [
          "49"
         ],
         "type": "scatter3d",
         "x": [
          0.12926844184044764
         ],
         "y": [
          0.10164315507885649
         ],
         "z": [
          0
         ]
        },
        {
         "mode": "text",
         "text": [
          "50"
         ],
         "type": "scatter3d",
         "x": [
          0.08688352108746016
         ],
         "y": [
          0.14518258472156892
         ],
         "z": [
          0
         ]
        },
        {
         "mode": "text",
         "text": [
          "51"
         ],
         "type": "scatter3d",
         "x": [
          0.030605819461193475
         ],
         "y": [
          0.16895548164753382
         ],
         "z": [
          0
         ]
        },
        {
         "mode": "text",
         "text": [
          "52"
         ],
         "type": "scatter3d",
         "x": [
          -0.030605819461193402
         ],
         "y": [
          0.1689554816475338
         ],
         "z": [
          0
         ]
        },
        {
         "mode": "text",
         "text": [
          "53"
         ],
         "type": "scatter3d",
         "x": [
          -0.08688352108746009
         ],
         "y": [
          0.14518258472156886
         ],
         "z": [
          0
         ]
        },
        {
         "mode": "text",
         "text": [
          "54"
         ],
         "type": "scatter3d",
         "x": [
          -0.12926844184044756
         ],
         "y": [
          0.10164315507885646
         ],
         "z": [
          0
         ]
        },
        {
         "mode": "text",
         "text": [
          "55"
         ],
         "type": "scatter3d",
         "x": [
          -0.15130156667026393
         ],
         "y": [
          0.04551858034656793
         ],
         "z": [
          0
         ]
        },
        {
         "mode": "text",
         "text": [
          "56"
         ],
         "type": "scatter3d",
         "x": [
          -0.15001485615588467
         ],
         "y": [
          -0.014247855857734882
         ],
         "z": [
          0
         ]
        },
        {
         "mode": "text",
         "text": [
          "57"
         ],
         "type": "scatter3d",
         "x": [
          -0.12616210130331343
         ],
         "y": [
          -0.06854842229792549
         ],
         "z": [
          0
         ]
        },
        {
         "mode": "text",
         "text": [
          "58"
         ],
         "type": "scatter3d",
         "x": [
          -0.08377725621352597
         ],
         "y": [
          -0.1095084224085186
         ],
         "z": [
          0
         ]
        },
        {
         "mode": "text",
         "text": [
          "59"
         ],
         "type": "scatter3d",
         "x": [
          -0.029319184610014114
         ],
         "y": [
          -0.13145746352853038
         ],
         "z": [
          0
         ]
        },
        {
         "mode": "text",
         "text": [
          "60"
         ],
         "type": "scatter3d",
         "x": [
          0.029319184610014204
         ],
         "y": [
          -0.1314574635285304
         ],
         "z": [
          0
         ]
        },
        {
         "mode": "text",
         "text": [
          "61"
         ],
         "type": "scatter3d",
         "x": [
          0.08377725621352605
         ],
         "y": [
          -0.10950842240851866
         ],
         "z": [
          0
         ]
        },
        {
         "mode": "text",
         "text": [
          "62"
         ],
         "type": "scatter3d",
         "x": [
          0.1261621013033135
         ],
         "y": [
          -0.06854842229792554
         ],
         "z": [
          0
         ]
        },
        {
         "mode": "text",
         "text": [
          "63"
         ],
         "type": "scatter3d",
         "x": [
          0.15001485615588472
         ],
         "y": [
          -0.0142478558577349
         ],
         "z": [
          0
         ]
        },
        {
         "mode": "text",
         "text": [
          "64"
         ],
         "type": "scatter3d",
         "x": [
          0.10309886533719057
         ],
         "y": [
          0.03879178223847069
         ],
         "z": [
          0
         ]
        },
        {
         "mode": "text",
         "text": [
          "65"
         ],
         "type": "scatter3d",
         "x": [
          0.08819460827359876
         ],
         "y": [
          0.07706877665222026
         ],
         "z": [
          0
         ]
        },
        {
         "mode": "text",
         "text": [
          "66"
         ],
         "type": "scatter3d",
         "x": [
          0.05933390427932107
         ],
         "y": [
          0.10682822209037311
         ],
         "z": [
          0
         ]
        },
        {
         "mode": "text",
         "text": [
          "67"
         ],
         "type": "scatter3d",
         "x": [
          0.020912012512124458
         ],
         "y": [
          0.12310116239881261
         ],
         "z": [
          0
         ]
        },
        {
         "mode": "text",
         "text": [
          "68"
         ],
         "type": "scatter3d",
         "x": [
          -0.020912012512124396
         ],
         "y": [
          0.1231011623988126
         ],
         "z": [
          0
         ]
        },
        {
         "mode": "text",
         "text": [
          "69"
         ],
         "type": "scatter3d",
         "x": [
          -0.059333904279321004
         ],
         "y": [
          0.1068282220903731
         ],
         "z": [
          0
         ]
        },
        {
         "mode": "text",
         "text": [
          "70"
         ],
         "type": "scatter3d",
         "x": [
          -0.08819460827359868
         ],
         "y": [
          0.07706877665222023
         ],
         "z": [
          0
         ]
        },
        {
         "mode": "text",
         "text": [
          "71"
         ],
         "type": "scatter3d",
         "x": [
          -0.10309886533719048
         ],
         "y": [
          0.03879178223847068
         ],
         "z": [
          0
         ]
        },
        {
         "mode": "text",
         "text": [
          "72"
         ],
         "type": "scatter3d",
         "x": [
          -0.10208627003893253
         ],
         "y": [
          -0.0018636630860999395
         ],
         "z": [
          0
         ]
        },
        {
         "mode": "text",
         "text": [
          "73"
         ],
         "type": "scatter3d",
         "x": [
          -0.08575008397517028
         ],
         "y": [
          -0.0387062256068969
         ],
         "z": [
          0
         ]
        },
        {
         "mode": "text",
         "text": [
          "74"
         ],
         "type": "scatter3d",
         "x": [
          -0.056889517173913176
         ],
         "y": [
          -0.06643727300886197
         ],
         "z": [
          0
         ]
        },
        {
         "mode": "text",
         "text": [
          "75"
         ],
         "type": "scatter3d",
         "x": [
          -0.01989955440688701
         ],
         "y": [
          -0.08127605721020165
         ],
         "z": [
          0
         ]
        },
        {
         "mode": "text",
         "text": [
          "76"
         ],
         "type": "scatter3d",
         "x": [
          0.019899554406887093
         ],
         "y": [
          -0.08127605721020165
         ],
         "z": [
          0
         ]
        },
        {
         "mode": "text",
         "text": [
          "77"
         ],
         "type": "scatter3d",
         "x": [
          0.056889517173913266
         ],
         "y": [
          -0.06643727300886201
         ],
         "z": [
          0
         ]
        },
        {
         "mode": "text",
         "text": [
          "78"
         ],
         "type": "scatter3d",
         "x": [
          0.08575008397517038
         ],
         "y": [
          -0.03870622560689694
         ],
         "z": [
          0
         ]
        },
        {
         "mode": "text",
         "text": [
          "79"
         ],
         "type": "scatter3d",
         "x": [
          0.10208627003893261
         ],
         "y": [
          -0.0018636630860999533
         ],
         "z": [
          0
         ]
        },
        {
         "mode": "text",
         "text": [
          "80"
         ],
         "type": "scatter3d",
         "x": [
          0.07052562121304337
         ],
         "y": [
          0.034340284103432366
         ],
         "z": [
          0
         ]
        },
        {
         "mode": "text",
         "text": [
          "81"
         ],
         "type": "scatter3d",
         "x": [
          0.060383077088726006
         ],
         "y": [
          0.06053111280591293
         ],
         "z": [
          0
         ]
        },
        {
         "mode": "text",
         "text": [
          "82"
         ],
         "type": "scatter3d",
         "x": [
          0.04065099278848802
         ],
         "y": [
          0.0809257442037393
         ],
         "z": [
          0
         ]
        },
        {
         "mode": "text",
         "text": [
          "83"
         ],
         "type": "scatter3d",
         "x": [
          0.014332605760281097
         ],
         "y": [
          0.09208963113860193
         ],
         "z": [
          0
         ]
        },
        {
         "mode": "text",
         "text": [
          "84"
         ],
         "type": "scatter3d",
         "x": [
          -0.014332605760281036
         ],
         "y": [
          0.09208963113860193
         ],
         "z": [
          0
         ]
        },
        {
         "mode": "text",
         "text": [
          "85"
         ],
         "type": "scatter3d",
         "x": [
          -0.04065099278848796
         ],
         "y": [
          0.0809257442037393
         ],
         "z": [
          0
         ]
        },
        {
         "mode": "text",
         "text": [
          "86"
         ],
         "type": "scatter3d",
         "x": [
          -0.060383077088725944
         ],
         "y": [
          0.060531112805912946
         ],
         "z": [
          0
         ]
        },
        {
         "mode": "text",
         "text": [
          "87"
         ],
         "type": "scatter3d",
         "x": [
          -0.07052562121304332
         ],
         "y": [
          0.03434028410343238
         ],
         "z": [
          0
         ]
        },
        {
         "mode": "text",
         "text": [
          "88"
         ],
         "type": "scatter3d",
         "x": [
          -0.06976793484777288
         ],
         "y": [
          0.006572646926716474
         ],
         "z": [
          0
         ]
        },
        {
         "mode": "text",
         "text": [
          "89"
         ],
         "type": "scatter3d",
         "x": [
          -0.05855393139318189
         ],
         "y": [
          -0.018545693679809003
         ],
         "z": [
          0
         ]
        },
        {
         "mode": "text",
         "text": [
          "90"
         ],
         "type": "scatter3d",
         "x": [
          -0.03882194749546644
         ],
         "y": [
          -0.037423740481058836
         ],
         "z": [
          0
         ]
        },
        {
         "mode": "text",
         "text": [
          "91"
         ],
         "type": "scatter3d",
         "x": [
          -0.013575019797533141
         ],
         "y": [
          -0.047515340990394325
         ],
         "z": [
          0
         ]
        },
        {
         "mode": "text",
         "text": [
          "92"
         ],
         "type": "scatter3d",
         "x": [
          0.01357501979753322
         ],
         "y": [
          -0.04751534099039433
         ],
         "z": [
          0
         ]
        },
        {
         "mode": "text",
         "text": [
          "93"
         ],
         "type": "scatter3d",
         "x": [
          0.038821947495466524
         ],
         "y": [
          -0.037423740481058856
         ],
         "z": [
          0
         ]
        },
        {
         "mode": "text",
         "text": [
          "94"
         ],
         "type": "scatter3d",
         "x": [
          0.05855393139318196
         ],
         "y": [
          -0.018545693679809034
         ],
         "z": [
          0
         ]
        },
        {
         "mode": "text",
         "text": [
          "95"
         ],
         "type": "scatter3d",
         "x": [
          0.06976793484777294
         ],
         "y": [
          0.0065726469267164515
         ],
         "z": [
          0
         ]
        },
        {
         "mode": "text",
         "text": [
          "96"
         ],
         "type": "scatter3d",
         "x": [
          0.04865541577541888
         ],
         "y": [
          0.03139589794113064
         ],
         "z": [
          0
         ]
        },
        {
         "mode": "text",
         "text": [
          "97"
         ],
         "type": "scatter3d",
         "x": [
          0.04168391539255652
         ],
         "y": [
          0.0494620440387996
         ],
         "z": [
          0
         ]
        },
        {
         "mode": "text",
         "text": [
          "98"
         ],
         "type": "scatter3d",
         "x": [
          0.028075924088249663
         ],
         "y": [
          0.06354570450278155
         ],
         "z": [
          0
         ]
        },
        {
         "mode": "text",
         "text": [
          "99"
         ],
         "type": "scatter3d",
         "x": [
          0.009901542447570943
         ],
         "y": [
          0.07126082390335856
         ],
         "z": [
          0
         ]
        },
        {
         "mode": "text",
         "text": [
          "100"
         ],
         "type": "scatter3d",
         "x": [
          -0.009901542447570884
         ],
         "y": [
          0.07126082390335857
         ],
         "z": [
          0
         ]
        },
        {
         "mode": "text",
         "text": [
          "101"
         ],
         "type": "scatter3d",
         "x": [
          -0.028075924088249604
         ],
         "y": [
          0.06354570450278157
         ],
         "z": [
          0
         ]
        },
        {
         "mode": "text",
         "text": [
          "102"
         ],
         "type": "scatter3d",
         "x": [
          -0.04168391539255645
         ],
         "y": [
          0.04946204403879962
         ],
         "z": [
          0
         ]
        },
        {
         "mode": "text",
         "text": [
          "103"
         ],
         "type": "scatter3d",
         "x": [
          -0.04865541577541882
         ],
         "y": [
          0.03139589794113066
         ],
         "z": [
          0
         ]
        },
        {
         "mode": "text",
         "text": [
          "104"
         ],
         "type": "scatter3d",
         "x": [
          -0.04810113770489796
         ],
         "y": [
          0.012266742176804363
         ],
         "z": [
          0
         ]
        },
        {
         "mode": "text",
         "text": [
          "105"
         ],
         "type": "scatter3d",
         "x": [
          -0.040345808597838005
         ],
         "y": [
          -0.0050155204797233364
         ],
         "z": [
          0
         ]
        },
        {
         "mode": "text",
         "text": [
          "106"
         ],
         "type": "scatter3d",
         "x": [
          -0.0267378722134078
         ],
         "y": [
          -0.017990680293567117
         ],
         "z": [
          0
         ]
        },
        {
         "mode": "text",
         "text": [
          "107"
         ],
         "type": "scatter3d",
         "x": [
          -0.009347319296926667
         ],
         "y": [
          -0.024922026469416013
         ],
         "z": [
          0
         ]
        },
        {
         "mode": "text",
         "text": [
          "108"
         ],
         "type": "scatter3d",
         "x": [
          0.009347319296926738
         ],
         "y": [
          -0.02492202646941602
         ],
         "z": [
          0
         ]
        },
        {
         "mode": "text",
         "text": [
          "109"
         ],
         "type": "scatter3d",
         "x": [
          0.026737872213407864
         ],
         "y": [
          -0.01799068029356713
         ],
         "z": [
          0
         ]
        },
        {
         "mode": "text",
         "text": [
          "110"
         ],
         "type": "scatter3d",
         "x": [
          0.040345808597838054
         ],
         "y": [
          -0.0050155204797233555
         ],
         "z": [
          0
         ]
        },
        {
         "mode": "text",
         "text": [
          "111"
         ],
         "type": "scatter3d",
         "x": [
          0.04810113770489801
         ],
         "y": [
          0.012266742176804343
         ],
         "z": [
          0
         ]
        },
        {
         "mode": "text",
         "text": [
          "112"
         ],
         "type": "scatter3d",
         "x": [
          0.03417465881847073
         ],
         "y": [
          0.029466878421826645
         ],
         "z": [
          0
         ]
        },
        {
         "mode": "text",
         "text": [
          "113"
         ],
         "type": "scatter3d",
         "x": [
          0.029290907197634528
         ],
         "y": [
          0.042150176466268646
         ],
         "z": [
          0
         ]
        },
        {
         "mode": "text",
         "text": [
          "114"
         ],
         "type": "scatter3d",
         "x": [
          0.019735491829135705
         ],
         "y": [
          0.05204544343110354
         ],
         "z": [
          0
         ]
        },
        {
         "mode": "text",
         "text": [
          "115"
         ],
         "type": "scatter3d",
         "x": [
          0.006961435941566522
         ],
         "y": [
          0.05746906516435457
         ],
         "z": [
          0
         ]
        },
        {
         "mode": "text",
         "text": [
          "116"
         ],
         "type": "scatter3d",
         "x": [
          -0.006961435941566462
         ],
         "y": [
          0.057469065164354585
         ],
         "z": [
          0
         ]
        },
        {
         "mode": "text",
         "text": [
          "117"
         ],
         "type": "scatter3d",
         "x": [
          -0.019735491829135646
         ],
         "y": [
          0.052045443431103566
         ],
         "z": [
          0
         ]
        },
        {
         "mode": "text",
         "text": [
          "118"
         ],
         "type": "scatter3d",
         "x": [
          -0.029290907197634462
         ],
         "y": [
          0.04215017646626867
         ],
         "z": [
          0
         ]
        },
        {
         "mode": "text",
         "text": [
          "119"
         ],
         "type": "scatter3d",
         "x": [
          -0.03417465881847066
         ],
         "y": [
          0.029466878421826652
         ],
         "z": [
          0
         ]
        },
        {
         "mode": "text",
         "text": [
          "120"
         ],
         "type": "scatter3d",
         "x": [
          -0.03376964975024272
         ],
         "y": [
          0.016049590697705955
         ],
         "z": [
          0
         ]
        },
        {
         "mode": "text",
         "text": [
          "121"
         ],
         "type": "scatter3d",
         "x": [
          -0.02831314545440501
         ],
         "y": [
          0.003938525160673813
         ],
         "z": [
          0
         ]
        },
        {
         "mode": "text",
         "text": [
          "122"
         ],
         "type": "scatter3d",
         "x": [
          -0.018757753617771426
         ],
         "y": [
          -0.005147516176233001
         ],
         "z": [
          0
         ]
        },
        {
         "mode": "text",
         "text": [
          "123"
         ],
         "type": "scatter3d",
         "x": [
          -0.006556450405203741
         ],
         "y": [
          -0.009998952553577821
         ],
         "z": [
          0
         ]
        },
        {
         "mode": "text",
         "text": [
          "124"
         ],
         "type": "scatter3d",
         "x": [
          0.0065564504052038055
         ],
         "y": [
          -0.009998952553577823
         ],
         "z": [
          0
         ]
        },
        {
         "mode": "text",
         "text": [
          "125"
         ],
         "type": "scatter3d",
         "x": [
          0.018757753617771485
         ],
         "y": [
          -0.005147516176233007
         ],
         "z": [
          0
         ]
        },
        {
         "mode": "text",
         "text": [
          "126"
         ],
         "type": "scatter3d",
         "x": [
          0.028313145454405067
         ],
         "y": [
          0.003938525160673804
         ],
         "z": [
          0
         ]
        },
        {
         "mode": "text",
         "text": [
          "127"
         ],
         "type": "scatter3d",
         "x": [
          0.03376964975024277
         ],
         "y": [
          0.016049590697705948
         ],
         "z": [
          0
         ]
        },
        {
         "mode": "text",
         "text": [
          "128"
         ],
         "type": "scatter3d",
         "x": [
          0.024886764339758265
         ],
         "y": [
          0.028238617629838876
         ],
         "z": [
          0
         ]
        },
        {
         "mode": "text",
         "text": [
          "129"
         ],
         "type": "scatter3d",
         "x": [
          0.021336971501329332
         ],
         "y": [
          0.037468527288178316
         ],
         "z": [
          0
         ]
        },
        {
         "mode": "text",
         "text": [
          "130"
         ],
         "type": "scatter3d",
         "x": [
          0.014379846735094633
         ],
         "y": [
          0.04467360336914067
         ],
         "z": [
          0
         ]
        },
        {
         "mode": "text",
         "text": [
          "131"
         ],
         "type": "scatter3d",
         "x": [
          0.00507298511534576
         ],
         "y": [
          0.04862424839717101
         ],
         "z": [
          0
         ]
        },
        {
         "mode": "text",
         "text": [
          "132"
         ],
         "type": "scatter3d",
         "x": [
          -0.005072985115345699
         ],
         "y": [
          0.04862424839717101
         ],
         "z": [
          0
         ]
        },
        {
         "mode": "text",
         "text": [
          "133"
         ],
         "type": "scatter3d",
         "x": [
          -0.014379846735094572
         ],
         "y": [
          0.04467360336914068
         ],
         "z": [
          0
         ]
        },
        {
         "mode": "text",
         "text": [
          "134"
         ],
         "type": "scatter3d",
         "x": [
          -0.021336971501329266
         ],
         "y": [
          0.03746852728817832
         ],
         "z": [
          0
         ]
        },
        {
         "mode": "text",
         "text": [
          "135"
         ],
         "type": "scatter3d",
         "x": [
          -0.024886764339758193
         ],
         "y": [
          0.02823861762983888
         ],
         "z": [
          0
         ]
        },
        {
         "mode": "text",
         "text": [
          "136"
         ],
         "type": "scatter3d",
         "x": [
          -0.024583745971733705
         ],
         "y": [
          0.018480910337252784
         ],
         "z": [
          0
         ]
        },
        {
         "mode": "text",
         "text": [
          "137"
         ],
         "type": "scatter3d",
         "x": [
          -0.020605424702022992
         ],
         "y": [
          0.009678700837184431
         ],
         "z": [
          0
         ]
        },
        {
         "mode": "text",
         "text": [
          "138"
         ],
         "type": "scatter3d",
         "x": [
          -0.013648305951607128
         ],
         "y": [
          0.0030784756461177793
         ],
         "z": [
          0
         ]
        },
        {
         "mode": "text",
         "text": [
          "139"
         ],
         "type": "scatter3d",
         "x": [
          -0.004769972763140039
         ],
         "y": [
          -0.0004444812072763628
         ],
         "z": [
          0
         ]
        },
        {
         "mode": "text",
         "text": [
          "140"
         ],
         "type": "scatter3d",
         "x": [
          0.004769972763140105
         ],
         "y": [
          -0.0004444812072763643
         ],
         "z": [
          0
         ]
        },
        {
         "mode": "text",
         "text": [
          "141"
         ],
         "type": "scatter3d",
         "x": [
          0.013648305951607194
         ],
         "y": [
          0.003078475646117776
         ],
         "z": [
          0
         ]
        },
        {
         "mode": "text",
         "text": [
          "142"
         ],
         "type": "scatter3d",
         "x": [
          0.02060542470202306
         ],
         "y": [
          0.009678700837184428
         ],
         "z": [
          0
         ]
        },
        {
         "mode": "text",
         "text": [
          "143"
         ],
         "type": "scatter3d",
         "x": [
          0.024583745971733774
         ],
         "y": [
          0.018480910337252784
         ],
         "z": [
          0
         ]
        },
        {
         "mode": "text",
         "text": [
          "144"
         ],
         "type": "scatter3d",
         "x": [
          0.019381772639569854
         ],
         "y": [
          0.027514083737138526
         ],
         "z": [
          0
         ]
        },
        {
         "mode": "text",
         "text": [
          "145"
         ],
         "type": "scatter3d",
         "x": [
          0.016620696082584374
         ],
         "y": [
          0.03469704843241464
         ],
         "z": [
          0
         ]
        },
        {
         "mode": "text",
         "text": [
          "146"
         ],
         "type": "scatter3d",
         "x": [
          0.011203208243651843
         ],
         "y": [
          0.04030637659929473
         ],
         "z": [
          0
         ]
        },
        {
         "mode": "text",
         "text": [
          "147"
         ],
         "type": "scatter3d",
         "x": [
          0.003952675871467845
         ],
         "y": [
          0.04338285339903804
         ],
         "z": [
          0
         ]
        },
        {
         "mode": "text",
         "text": [
          "148"
         ],
         "type": "scatter3d",
         "x": [
          -0.003952675871467783
         ],
         "y": [
          0.04338285339903804
         ],
         "z": [
          0
         ]
        },
        {
         "mode": "text",
         "text": [
          "149"
         ],
         "type": "scatter3d",
         "x": [
          -0.011203208243651782
         ],
         "y": [
          0.040306376599294744
         ],
         "z": [
          0
         ]
        },
        {
         "mode": "text",
         "text": [
          "150"
         ],
         "type": "scatter3d",
         "x": [
          -0.016620696082584308
         ],
         "y": [
          0.034697048432414654
         ],
         "z": [
          0
         ]
        },
        {
         "mode": "text",
         "text": [
          "151"
         ],
         "type": "scatter3d",
         "x": [
          -0.019381772639569785
         ],
         "y": [
          0.027514083737138532
         ],
         "z": [
          0
         ]
        },
        {
         "mode": "text",
         "text": [
          "152"
         ],
         "type": "scatter3d",
         "x": [
          -0.019141553739305293
         ],
         "y": [
          0.019923696590431444
         ],
         "z": [
          0
         ]
        },
        {
         "mode": "text",
         "text": [
          "153"
         ],
         "type": "scatter3d",
         "x": [
          -0.016040754626668843
         ],
         "y": [
          0.013079477971543097
         ],
         "z": [
          0
         ]
        },
        {
         "mode": "text",
         "text": [
          "154"
         ],
         "type": "scatter3d",
         "x": [
          -0.010623264342878377
         ],
         "y": [
          0.007949212628642049
         ],
         "z": [
          0
         ]
        },
        {
         "mode": "text",
         "text": [
          "155"
         ],
         "type": "scatter3d",
         "x": [
          -0.0037124545263453536
         ],
         "y": [
          0.005211486895041181
         ],
         "z": [
          0
         ]
        },
        {
         "mode": "text",
         "text": [
          "156"
         ],
         "type": "scatter3d",
         "x": [
          0.0037124545263454213
         ],
         "y": [
          0.0052114868950411805
         ],
         "z": [
          0
         ]
        },
        {
         "mode": "text",
         "text": [
          "157"
         ],
         "type": "scatter3d",
         "x": [
          0.010623264342878445
         ],
         "y": [
          0.007949212628642049
         ],
         "z": [
          0
         ]
        },
        {
         "mode": "text",
         "text": [
          "158"
         ],
         "type": "scatter3d",
         "x": [
          0.016040754626668912
         ],
         "y": [
          0.013079477971543099
         ],
         "z": [
          0
         ]
        },
        {
         "mode": "text",
         "text": [
          "159"
         ],
         "type": "scatter3d",
         "x": [
          0.019141553739305366
         ],
         "y": [
          0.019923696590431444
         ],
         "z": [
          0
         ]
        },
        {
         "mode": "text",
         "text": [
          "160"
         ],
         "type": "scatter3d",
         "x": [
          0.016823593628130434
         ],
         "y": [
          0.027178298692933436
         ],
         "z": [
          0
         ]
        },
        {
         "mode": "text",
         "text": [
          "161"
         ],
         "type": "scatter3d",
         "x": [
          0.014428538147733407
         ],
         "y": [
          0.03341006700162694
         ],
         "z": [
          0
         ]
        },
        {
         "mode": "text",
         "text": [
          "162"
         ],
         "type": "scatter3d",
         "x": [
          0.009726422361938589
         ],
         "y": [
          0.03827756217854538
         ],
         "z": [
          0
         ]
        },
        {
         "mode": "text",
         "text": [
          "163"
         ],
         "type": "scatter3d",
         "x": [
          0.003431805104371713
         ],
         "y": [
          0.0409475413560257
         ],
         "z": [
          0
         ]
        },
        {
         "mode": "text",
         "text": [
          "164"
         ],
         "type": "scatter3d",
         "x": [
          -0.003431805104371651
         ],
         "y": [
          0.0409475413560257
         ],
         "z": [
          0
         ]
        },
        {
         "mode": "text",
         "text": [
          "165"
         ],
         "type": "scatter3d",
         "x": [
          -0.009726422361938528
         ],
         "y": [
          0.038277562178545395
         ],
         "z": [
          0
         ]
        },
        {
         "mode": "text",
         "text": [
          "166"
         ],
         "type": "scatter3d",
         "x": [
          -0.01442853814773334
         ],
         "y": [
          0.03341006700162695
         ],
         "z": [
          0
         ]
        },
        {
         "mode": "text",
         "text": [
          "167"
         ],
         "type": "scatter3d",
         "x": [
          -0.016823593628130358
         ],
         "y": [
          0.027178298692933436
         ],
         "z": [
          0
         ]
        },
        {
         "mode": "text",
         "text": [
          "168"
         ],
         "type": "scatter3d",
         "x": [
          -0.01661316113251958
         ],
         "y": [
          0.02059457137118512
         ],
         "z": [
          0
         ]
        },
        {
         "mode": "text",
         "text": [
          "169"
         ],
         "type": "scatter3d",
         "x": [
          -0.013920505118334411
         ],
         "y": [
          0.014659369595336279
         ],
         "z": [
          0
         ]
        },
        {
         "mode": "text",
         "text": [
          "170"
         ],
         "type": "scatter3d",
         "x": [
          -0.009218383613274919
         ],
         "y": [
          0.010211291001652193
         ],
         "z": [
          0
         ]
        },
        {
         "mode": "text",
         "text": [
          "171"
         ],
         "type": "scatter3d",
         "x": [
          -0.003221366889496194
         ],
         "y": [
          0.007837889910815148
         ],
         "z": [
          0
         ]
        },
        {
         "mode": "text",
         "text": [
          "172"
         ],
         "type": "scatter3d",
         "x": [
          0.0032213668894962634
         ],
         "y": [
          0.007837889910815148
         ],
         "z": [
          0
         ]
        },
        {
         "mode": "text",
         "text": [
          "173"
         ],
         "type": "scatter3d",
         "x": [
          0.00921838361327499
         ],
         "y": [
          0.010211291001652193
         ],
         "z": [
          0
         ]
        },
        {
         "mode": "text",
         "text": [
          "174"
         ],
         "type": "scatter3d",
         "x": [
          0.013920505118334484
         ],
         "y": [
          0.014659369595336282
         ],
         "z": [
          0
         ]
        },
        {
         "mode": "text",
         "text": [
          "175"
         ],
         "type": "scatter3d",
         "x": [
          0.016613161132519656
         ],
         "y": [
          0.020594571371185123
         ],
         "z": [
          0
         ]
        },
        {
         "mode": "text",
         "text": [
          "176"
         ],
         "type": "scatter3d",
         "x": [
          0.4196864820979151
         ],
         "y": [
          0.00311866016426577
         ],
         "z": [
          0
         ]
        },
        {
         "mode": "text",
         "text": [
          "177"
         ],
         "type": "scatter3d",
         "x": [
          0.3883699035211545
         ],
         "y": [
          0.1639362081118773
         ],
         "z": [
          0
         ]
        },
        {
         "mode": "text",
         "text": [
          "178"
         ],
         "type": "scatter3d",
         "x": [
          0.2976449866229933
         ],
         "y": [
          0.3006714640436701
         ],
         "z": [
          0
         ]
        },
        {
         "mode": "text",
         "text": [
          "179"
         ],
         "type": "scatter3d",
         "x": [
          0.161226279461247
         ],
         "y": [
          0.3922339060617137
         ],
         "z": [
          0
         ]
        },
        {
         "mode": "text",
         "text": [
          "180"
         ],
         "type": "scatter3d",
         "x": [
          3.843773133569934e-17
         ],
         "y": [
          0.4244234090603812
         ],
         "z": [
          0
         ]
        },
        {
         "mode": "text",
         "text": [
          "181"
         ],
         "type": "scatter3d",
         "x": [
          -0.16122627946124696
         ],
         "y": [
          0.3922339060617136
         ],
         "z": [
          0
         ]
        },
        {
         "mode": "text",
         "text": [
          "182"
         ],
         "type": "scatter3d",
         "x": [
          -0.29764498662299327
         ],
         "y": [
          0.3006714640436701
         ],
         "z": [
          0
         ]
        },
        {
         "mode": "text",
         "text": [
          "183"
         ],
         "type": "scatter3d",
         "x": [
          -0.3883699035211545
         ],
         "y": [
          0.16393620811187737
         ],
         "z": [
          0
         ]
        },
        {
         "mode": "text",
         "text": [
          "184"
         ],
         "type": "scatter3d",
         "x": [
          -0.419686482097915
         ],
         "y": [
          0.003118660164265836
         ],
         "z": [
          0
         ]
        },
        {
         "mode": "text",
         "text": [
          "185"
         ],
         "type": "scatter3d",
         "x": [
          -0.38709340404658776
         ],
         "y": [
          -0.15716855778648509
         ],
         "z": [
          0
         ]
        },
        {
         "mode": "text",
         "text": [
          "186"
         ],
         "type": "scatter3d",
         "x": [
          -0.29583899179304424
         ],
         "y": [
          -0.2926227290122071
         ],
         "z": [
          0
         ]
        },
        {
         "mode": "text",
         "text": [
          "187"
         ],
         "type": "scatter3d",
         "x": [
          -0.15994871607043987
         ],
         "y": [
          -0.38290301765472695
         ],
         "z": [
          0
         ]
        },
        {
         "mode": "text",
         "text": [
          "188"
         ],
         "type": "scatter3d",
         "x": [
          -4.990148264518887e-17
         ],
         "y": [
          -0.414561121986609
         ],
         "z": [
          0
         ]
        },
        {
         "mode": "text",
         "text": [
          "189"
         ],
         "type": "scatter3d",
         "x": [
          0.15994871607043978
         ],
         "y": [
          -0.382903017654727
         ],
         "z": [
          0
         ]
        },
        {
         "mode": "text",
         "text": [
          "190"
         ],
         "type": "scatter3d",
         "x": [
          0.2958389917930442
         ],
         "y": [
          -0.2926227290122072
         ],
         "z": [
          0
         ]
        },
        {
         "mode": "text",
         "text": [
          "191"
         ],
         "type": "scatter3d",
         "x": [
          0.3870934040465877
         ],
         "y": [
          -0.15716855778648536
         ],
         "z": [
          0
         ]
        },
        {
         "mode": "text",
         "text": [
          "192"
         ],
         "type": "scatter3d",
         "x": [
          0.28490886917747643
         ],
         "y": [
          0.008825650495936728
         ],
         "z": [
          0
         ]
        },
        {
         "mode": "text",
         "text": [
          "193"
         ],
         "type": "scatter3d",
         "x": [
          0.2645818168845972
         ],
         "y": [
          0.11829167690857212
         ],
         "z": [
          0
         ]
        },
        {
         "mode": "text",
         "text": [
          "194"
         ],
         "type": "scatter3d",
         "x": [
          0.20336899645255663
         ],
         "y": [
          0.21196185810267226
         ],
         "z": [
          0
         ]
        },
        {
         "mode": "text",
         "text": [
          "195"
         ],
         "type": "scatter3d",
         "x": [
          0.11037170075268696
         ],
         "y": [
          0.27498452093974307
         ],
         "z": [
          0
         ]
        },
        {
         "mode": "text",
         "text": [
          "196"
         ],
         "type": "scatter3d",
         "x": [
          4.437323012884241e-17
         ],
         "y": [
          0.2971963837747602
         ],
         "z": [
          0
         ]
        },
        {
         "mode": "text",
         "text": [
          "197"
         ],
         "type": "scatter3d",
         "x": [
          -0.11037170075268687
         ],
         "y": [
          0.274984520939743
         ],
         "z": [
          0
         ]
        },
        {
         "mode": "text",
         "text": [
          "198"
         ],
         "type": "scatter3d",
         "x": [
          -0.20336899645255652
         ],
         "y": [
          0.21196185810267226
         ],
         "z": [
          0
         ]
        },
        {
         "mode": "text",
         "text": [
          "199"
         ],
         "type": "scatter3d",
         "x": [
          -0.2645818168845971
         ],
         "y": [
          0.11829167690857215
         ],
         "z": [
          0
         ]
        },
        {
         "mode": "text",
         "text": [
          "200"
         ],
         "type": "scatter3d",
         "x": [
          -0.28490886917747626
         ],
         "y": [
          0.008825650495936779
         ],
         "z": [
          0
         ]
        },
        {
         "mode": "text",
         "text": [
          "201"
         ],
         "type": "scatter3d",
         "x": [
          -0.26183396419174887
         ],
         "y": [
          -0.09949884269184518
         ],
         "z": [
          0
         ]
        },
        {
         "mode": "text",
         "text": [
          "202"
         ],
         "type": "scatter3d",
         "x": [
          -0.19948198774230608
         ],
         "y": [
          -0.19041215699833036
         ],
         "z": [
          0
         ]
        },
        {
         "mode": "text",
         "text": [
          "203"
         ],
         "type": "scatter3d",
         "x": [
          -0.10762249268142368
         ],
         "y": [
          -0.2506765918262455
         ],
         "z": [
          0
         ]
        },
        {
         "mode": "text",
         "text": [
          "204"
         ],
         "type": "scatter3d",
         "x": [
          2.5707825092091733e-18
         ],
         "y": [
          -0.27174556031472363
         ],
         "z": [
          0
         ]
        },
        {
         "mode": "text",
         "text": [
          "205"
         ],
         "type": "scatter3d",
         "x": [
          0.10762249268142371
         ],
         "y": [
          -0.2506765918262456
         ],
         "z": [
          0
         ]
        },
        {
         "mode": "text",
         "text": [
          "206"
         ],
         "type": "scatter3d",
         "x": [
          0.1994819877423062
         ],
         "y": [
          -0.19041215699833047
         ],
         "z": [
          0
         ]
        },
        {
         "mode": "text",
         "text": [
          "207"
         ],
         "type": "scatter3d",
         "x": [
          0.2618339641917489
         ],
         "y": [
          -0.0994988426918453
         ],
         "z": [
          0
         ]
        },
        {
         "mode": "text",
         "text": [
          "208"
         ],
         "type": "scatter3d",
         "x": [
          0.1935332135356444
         ],
         "y": [
          0.013391107602754316
         ],
         "z": [
          0
         ]
        },
        {
         "mode": "text",
         "text": [
          "209"
         ],
         "type": "scatter3d",
         "x": [
          0.18017253670544525
         ],
         "y": [
          0.08786078996345184
         ],
         "z": [
          0
         ]
        },
        {
         "mode": "text",
         "text": [
          "210"
         ],
         "type": "scatter3d",
         "x": [
          0.1387784067524669
         ],
         "y": [
          0.15187578135901092
         ],
         "z": [
          0
         ]
        },
        {
         "mode": "text",
         "text": [
          "211"
         ],
         "type": "scatter3d",
         "x": [
          0.07542209884390585
         ],
         "y": [
          0.19509439072404805
         ],
         "z": [
          0
         ]
        },
        {
         "mode": "text",
         "text": [
          "212"
         ],
         "type": "scatter3d",
         "x": [
          3.7894102117693895e-17
         ],
         "y": [
          0.21035456364371585
         ],
         "z": [
          0
         ]
        },
        {
         "mode": "text",
         "text": [
          "213"
         ],
         "type": "scatter3d",
         "x": [
          -0.07542209884390577
         ],
         "y": [
          0.19509439072404805
         ],
         "z": [
          0
         ]
        },
        {
         "mode": "text",
         "text": [
          "214"
         ],
         "type": "scatter3d",
         "x": [
          -0.13877840675246678
         ],
         "y": [
          0.15187578135901092
         ],
         "z": [
          0
         ]
        },
        {
         "mode": "text",
         "text": [
          "215"
         ],
         "type": "scatter3d",
         "x": [
          -0.18017253670544514
         ],
         "y": [
          0.08786078996345181
         ],
         "z": [
          0
         ]
        },
        {
         "mode": "text",
         "text": [
          "216"
         ],
         "type": "scatter3d",
         "x": [
          -0.19353321353564434
         ],
         "y": [
          0.013391107602754332
         ],
         "z": [
          0
         ]
        },
        {
         "mode": "text",
         "text": [
          "217"
         ],
         "type": "scatter3d",
         "x": [
          -0.1774144729727844
         ],
         "y": [
          -0.05993311612545075
         ],
         "z": [
          0
         ]
        },
        {
         "mode": "text",
         "text": [
          "218"
         ],
         "type": "scatter3d",
         "x": [
          -0.1348777628494106
         ],
         "y": [
          -0.12118257245186742
         ],
         "z": [
          0
         ]
        },
        {
         "mode": "text",
         "text": [
          "219"
         ],
         "type": "scatter3d",
         "x": [
          -0.07266381931227055
         ],
         "y": [
          -0.16163543053875157
         ],
         "z": [
          0
         ]
        },
        {
         "mode": "text",
         "text": [
          "220"
         ],
         "type": "scatter3d",
         "x": [
          2.571665127828563e-17
         ],
         "y": [
          -0.17574992861723368
         ],
         "z": [
          0
         ]
        },
        {
         "mode": "text",
         "text": [
          "221"
         ],
         "type": "scatter3d",
         "x": [
          0.07266381931227062
         ],
         "y": [
          -0.16163543053875162
         ],
         "z": [
          0
         ]
        },
        {
         "mode": "text",
         "text": [
          "222"
         ],
         "type": "scatter3d",
         "x": [
          0.1348777628494107
         ],
         "y": [
          -0.12118257245186748
         ],
         "z": [
          0
         ]
        },
        {
         "mode": "text",
         "text": [
          "223"
         ],
         "type": "scatter3d",
         "x": [
          0.1774144729727845
         ],
         "y": [
          -0.0599331161254508
         ],
         "z": [
          0
         ]
        },
        {
         "mode": "text",
         "text": [
          "224"
         ],
         "type": "scatter3d",
         "x": [
          0.13163697528687152
         ],
         "y": [
          0.016811106077079495
         ],
         "z": [
          0
         ]
        },
        {
         "mode": "text",
         "text": [
          "225"
         ],
         "type": "scatter3d",
         "x": [
          0.12276345672058307
         ],
         "y": [
          0.06749925650795913
         ],
         "z": [
          0
         ]
        },
        {
         "mode": "text",
         "text": [
          "226"
         ],
         "type": "scatter3d",
         "x": [
          0.09469959339346333
         ],
         "y": [
          0.11121267522311759
         ],
         "z": [
          0
         ]
        },
        {
         "mode": "text",
         "text": [
          "227"
         ],
         "type": "scatter3d",
         "x": [
          0.0515178319733179
         ],
         "y": [
          0.14079813158882443
         ],
         "z": [
          0
         ]
        },
        {
         "mode": "text",
         "text": [
          "228"
         ],
         "type": "scatter3d",
         "x": [
          3.119384410661944e-17
         ],
         "y": [
          0.151258512457522
         ],
         "z": [
          0
         ]
        },
        {
         "mode": "text",
         "text": [
          "229"
         ],
         "type": "scatter3d",
         "x": [
          -0.05151783197331783
         ],
         "y": [
          0.14079813158882437
         ],
         "z": [
          0
         ]
        },
        {
         "mode": "text",
         "text": [
          "230"
         ],
         "type": "scatter3d",
         "x": [
          -0.09469959339346326
         ],
         "y": [
          0.11121267522311759
         ],
         "z": [
          0
         ]
        },
        {
         "mode": "text",
         "text": [
          "231"
         ],
         "type": "scatter3d",
         "x": [
          -0.12276345672058298
         ],
         "y": [
          0.06749925650795911
         ],
         "z": [
          0
         ]
        },
        {
         "mode": "text",
         "text": [
          "232"
         ],
         "type": "scatter3d",
         "x": [
          -0.13163697528687143
         ],
         "y": [
          0.016811106077079495
         ],
         "z": [
          0
         ]
        },
        {
         "mode": "text",
         "text": [
          "233"
         ],
         "type": "scatter3d",
         "x": [
          -0.12046415090794574
         ],
         "y": [
          -0.032922625020914316
         ],
         "z": [
          0
         ]
        },
        {
         "mode": "text",
         "text": [
          "234"
         ],
         "type": "scatter3d",
         "x": [
          -0.09144803437053797
         ],
         "y": [
          -0.07433202288390807
         ],
         "z": [
          0
         ]
        },
        {
         "mode": "text",
         "text": [
          "235"
         ],
         "type": "scatter3d",
         "x": [
          -0.049218739016901165
         ],
         "y": [
          -0.1016136725334725
         ],
         "z": [
          0
         ]
        },
        {
         "mode": "text",
         "text": [
          "236"
         ],
         "type": "scatter3d",
         "x": [
          3.9386204497686967e-17
         ],
         "y": [
          -0.11111984820525952
         ],
         "z": [
          0
         ]
        },
        {
         "mode": "text",
         "text": [
          "237"
         ],
         "type": "scatter3d",
         "x": [
          0.049218739016901256
         ],
         "y": [
          -0.10161367253347253
         ],
         "z": [
          0
         ]
        },
        {
         "mode": "text",
         "text": [
          "238"
         ],
         "type": "scatter3d",
         "x": [
          0.09144803437053806
         ],
         "y": [
          -0.07433202288390812
         ],
         "z": [
          0
         ]
        },
        {
         "mode": "text",
         "text": [
          "239"
         ],
         "type": "scatter3d",
         "x": [
          0.12046415090794584
         ],
         "y": [
          -0.03292262502091435
         ],
         "z": [
          0
         ]
        },
        {
         "mode": "text",
         "text": [
          "240"
         ],
         "type": "scatter3d",
         "x": [
          0.08978707998331273
         ],
         "y": [
          0.019276685218518858
         ],
         "z": [
          0
         ]
        },
        {
         "mode": "text",
         "text": [
          "241"
         ],
         "type": "scatter3d",
         "x": [
          0.08383740656692121
         ],
         "y": [
          0.0538553811233842
         ],
         "z": [
          0
         ]
        },
        {
         "mode": "text",
         "text": [
          "242"
         ],
         "type": "scatter3d",
         "x": [
          0.06474027879540357
         ],
         "y": [
          0.08374450833474899
         ],
         "z": [
          0
         ]
        },
        {
         "mode": "text",
         "text": [
          "243"
         ],
         "type": "scatter3d",
         "x": [
          0.03524461827240553
         ],
         "y": [
          0.10400945795936342
         ],
         "z": [
          0
         ]
        },
        {
         "mode": "text",
         "text": [
          "244"
         ],
         "type": "scatter3d",
         "x": [
          2.9885314468108177e-17
         ],
         "y": [
          0.1111813355780511
         ],
         "z": [
          0
         ]
        },
        {
         "mode": "text",
         "text": [
          "245"
         ],
         "type": "scatter3d",
         "x": [
          -0.035244618272405465
         ],
         "y": [
          0.10400945795936342
         ],
         "z": [
          0
         ]
        },
        {
         "mode": "text",
         "text": [
          "246"
         ],
         "type": "scatter3d",
         "x": [
          -0.0647402787954035
         ],
         "y": [
          0.08374450833474897
         ],
         "z": [
          0
         ]
        },
        {
         "mode": "text",
         "text": [
          "247"
         ],
         "type": "scatter3d",
         "x": [
          -0.08383740656692112
         ],
         "y": [
          0.053855381123384186
         ],
         "z": [
          0
         ]
        },
        {
         "mode": "text",
         "text": [
          "248"
         ],
         "type": "scatter3d",
         "x": [
          -0.08978707998331266
         ],
         "y": [
          0.019276685218518864
         ],
         "z": [
          0
         ]
        },
        {
         "mode": "text",
         "text": [
          "249"
         ],
         "type": "scatter3d",
         "x": [
          -0.08206712490339274
         ],
         "y": [
          -0.014567701377902332
         ],
         "z": [
          0
         ]
        },
        {
         "mode": "text",
         "text": [
          "250"
         ],
         "type": "scatter3d",
         "x": [
          -0.06223689046495942
         ],
         "y": [
          -0.04268421790880357
         ],
         "z": [
          0
         ]
        },
        {
         "mode": "text",
         "text": [
          "251"
         ],
         "type": "scatter3d",
         "x": [
          -0.03347457420442019
         ],
         "y": [
          -0.061176795581117244
         ],
         "z": [
          0
         ]
        },
        {
         "mode": "text",
         "text": [
          "252"
         ],
         "type": "scatter3d",
         "x": [
          4.004661091547184e-17
         ],
         "y": [
          -0.06761460261947873
         ],
         "z": [
          0
         ]
        },
        {
         "mode": "text",
         "text": [
          "253"
         ],
         "type": "scatter3d",
         "x": [
          0.03347457420442027
         ],
         "y": [
          -0.06117679558111726
         ],
         "z": [
          0
         ]
        },
        {
         "mode": "text",
         "text": [
          "254"
         ],
         "type": "scatter3d",
         "x": [
          0.06223689046495952
         ],
         "y": [
          -0.04268421790880361
         ],
         "z": [
          0
         ]
        },
        {
         "mode": "text",
         "text": [
          "255"
         ],
         "type": "scatter3d",
         "x": [
          0.08206712490339282
         ],
         "y": [
          -0.01456770137790236
         ],
         "z": [
          0
         ]
        },
        {
         "mode": "text",
         "text": [
          "256"
         ],
         "type": "scatter3d",
         "x": [
          0.061606813176065395
         ],
         "y": [
          0.02100795505151409
         ],
         "z": [
          0
         ]
        },
        {
         "mode": "text",
         "text": [
          "257"
         ],
         "type": "scatter3d",
         "x": [
          0.05757422381239685
         ],
         "y": [
          0.04472822699304891
         ],
         "z": [
          0
         ]
        },
        {
         "mode": "text",
         "text": [
          "258"
         ],
         "type": "scatter3d",
         "x": [
          0.04449276866888567
         ],
         "y": [
          0.06526492985166363
         ],
         "z": [
          0
         ]
        },
        {
         "mode": "text",
         "text": [
          "259"
         ],
         "type": "scatter3d",
         "x": [
          0.02423414820785201
         ],
         "y": [
          0.07920651885485722
         ],
         "z": [
          0
         ]
        },
        {
         "mode": "text",
         "text": [
          "260"
         ],
         "type": "scatter3d",
         "x": [
          3.065091036801177e-17
         ],
         "y": [
          0.08414393618710327
         ],
         "z": [
          0
         ]
        },
        {
         "mode": "text",
         "text": [
          "261"
         ],
         "type": "scatter3d",
         "x": [
          -0.02423414820785195
         ],
         "y": [
          0.07920651885485723
         ],
         "z": [
          0
         ]
        },
        {
         "mode": "text",
         "text": [
          "262"
         ],
         "type": "scatter3d",
         "x": [
          -0.044492768668885616
         ],
         "y": [
          0.06526492985166364
         ],
         "z": [
          0
         ]
        },
        {
         "mode": "text",
         "text": [
          "263"
         ],
         "type": "scatter3d",
         "x": [
          -0.05757422381239678
         ],
         "y": [
          0.044728226993048924
         ],
         "z": [
          0
         ]
        },
        {
         "mode": "text",
         "text": [
          "264"
         ],
         "type": "scatter3d",
         "x": [
          -0.06160681317606534
         ],
         "y": [
          0.02100795505151411
         ],
         "z": [
          0
         ]
        },
        {
         "mode": "text",
         "text": [
          "265"
         ],
         "type": "scatter3d",
         "x": [
          -0.0562622593766055
         ],
         "y": [
          -0.0021685659479932745
         ],
         "z": [
          0
         ]
        },
        {
         "mode": "text",
         "text": [
          "266"
         ],
         "type": "scatter3d",
         "x": [
          -0.0426374806144144
         ],
         "y": [
          -0.021392648211539064
         ],
         "z": [
          0
         ]
        },
        {
         "mode": "text",
         "text": [
          "267"
         ],
         "type": "scatter3d",
         "x": [
          -0.022922339094459843
         ],
         "y": [
          -0.03402177256308689
         ],
         "z": [
          0
         ]
        },
        {
         "mode": "text",
         "text": [
          "268"
         ],
         "type": "scatter3d",
         "x": [
          3.7522505218301425e-17
         ],
         "y": [
          -0.03841559489672346
         ],
         "z": [
          0
         ]
        },
        {
         "mode": "text",
         "text": [
          "269"
         ],
         "type": "scatter3d",
         "x": [
          0.022922339094459922
         ],
         "y": [
          -0.034021772563086895
         ],
         "z": [
          0
         ]
        },
        {
         "mode": "text",
         "text": [
          "270"
         ],
         "type": "scatter3d",
         "x": [
          0.04263748061441447
         ],
         "y": [
          -0.021392648211539092
         ],
         "z": [
          0
         ]
        },
        {
         "mode": "text",
         "text": [
          "271"
         ],
         "type": "scatter3d",
         "x": [
          0.05626225937660556
         ],
         "y": [
          -0.0021685659479932957
         ],
         "z": [
          0
         ]
        },
        {
         "mode": "text",
         "text": [
          "272"
         ],
         "type": "scatter3d",
         "x": [
          0.0428036895319465
         ],
         "y": [
          0.022195473942481905
         ],
         "z": [
          0
         ]
        },
        {
         "mode": "text",
         "text": [
          "273"
         ],
         "type": "scatter3d",
         "x": [
          0.040026385061943115
         ],
         "y": [
          0.03866730242047538
         ],
         "z": [
          0
         ]
        },
        {
         "mode": "text",
         "text": [
          "274"
         ],
         "type": "scatter3d",
         "x": [
          0.030948437528247934
         ],
         "y": [
          0.05294491808459287
         ],
         "z": [
          0
         ]
        },
        {
         "mode": "text",
         "text": [
          "275"
         ],
         "type": "scatter3d",
         "x": [
          0.016862978389137435
         ],
         "y": [
          0.06264622984929222
         ],
         "z": [
          0
         ]
        },
        {
         "mode": "text",
         "text": [
          "276"
         ],
         "type": "scatter3d",
         "x": [
          3.0078384684585857e-17
         ],
         "y": [
          0.06608365921842092
         ],
         "z": [
          0
         ]
        },
        {
         "mode": "text",
         "text": [
          "277"
         ],
         "type": "scatter3d",
         "x": [
          -0.016862978389137376
         ],
         "y": [
          0.06264622984929223
         ],
         "z": [
          0
         ]
        },
        {
         "mode": "text",
         "text": [
          "278"
         ],
         "type": "scatter3d",
         "x": [
          -0.03094843752824787
         ],
         "y": [
          0.052944918084592896
         ],
         "z": [
          0
         ]
        },
        {
         "mode": "text",
         "text": [
          "279"
         ],
         "type": "scatter3d",
         "x": [
          -0.04002638506194304
         ],
         "y": [
          0.03866730242047539
         ],
         "z": [
          0
         ]
        },
        {
         "mode": "text",
         "text": [
          "280"
         ],
         "type": "scatter3d",
         "x": [
          -0.042803689531946444
         ],
         "y": [
          0.02219547394248192
         ],
         "z": [
          0
         ]
        },
        {
         "mode": "text",
         "text": [
          "281"
         ],
         "type": "scatter3d",
         "x": [
          -0.03906709792319424
         ],
         "y": [
          0.006120858932028399
         ],
         "z": [
          0
         ]
        },
        {
         "mode": "text",
         "text": [
          "282"
         ],
         "type": "scatter3d",
         "x": [
          -0.029591856129048785
         ],
         "y": [
          -0.007197854251077922
         ],
         "z": [
          0
         ]
        },
        {
         "mode": "text",
         "text": [
          "283"
         ],
         "type": "scatter3d",
         "x": [
          -0.015903769702130442
         ],
         "y": [
          -0.015940342218722196
         ],
         "z": [
          0
         ]
        },
        {
         "mode": "text",
         "text": [
          "284"
         ],
         "type": "scatter3d",
         "x": [
          3.3940293411526624e-17
         ],
         "y": [
          -0.018980636804271638
         ],
         "z": [
          0
         ]
        },
        {
         "mode": "text",
         "text": [
          "285"
         ],
         "type": "scatter3d",
         "x": [
          0.01590376970213051
         ],
         "y": [
          -0.015940342218722203
         ],
         "z": [
          0
         ]
        },
        {
         "mode": "text",
         "text": [
          "286"
         ],
         "type": "scatter3d",
         "x": [
          0.02959185612904884
         ],
         "y": [
          -0.007197854251077936
         ],
         "z": [
          0
         ]
        },
        {
         "mode": "text",
         "text": [
          "287"
         ],
         "type": "scatter3d",
         "x": [
          0.03906709792319428
         ],
         "y": [
          0.006120858932028385
         ],
         "z": [
          0
         ]
        },
        {
         "mode": "text",
         "text": [
          "288"
         ],
         "type": "scatter3d",
         "x": [
          0.030514461966583223
         ],
         "y": [
          0.022985779365909776
         ],
         "z": [
          0
         ]
        },
        {
         "mode": "text",
         "text": [
          "289"
         ],
         "type": "scatter3d",
         "x": [
          0.02854696119164577
         ],
         "y": [
          0.03471971668575574
         ],
         "z": [
          0
         ]
        },
        {
         "mode": "text",
         "text": [
          "290"
         ],
         "type": "scatter3d",
         "x": [
          0.02208091750731809
         ],
         "y": [
          0.044898987068691214
         ],
         "z": [
          0
         ]
        },
        {
         "mode": "text",
         "text": [
          "291"
         ],
         "type": "scatter3d",
         "x": [
          0.012034421056912253
         ],
         "y": [
          0.051820059731552987
         ],
         "z": [
          0
         ]
        },
        {
         "mode": "text",
         "text": [
          "292"
         ],
         "type": "scatter3d",
         "x": [
          3.0369603142693766e-17
         ],
         "y": [
          0.05427325382997259
         ],
         "z": [
          0
         ]
        },
        {
         "mode": "text",
         "text": [
          "293"
         ],
         "type": "scatter3d",
         "x": [
          -0.01203442105691219
         ],
         "y": [
          0.05182005973155301
         ],
         "z": [
          0
         ]
        },
        {
         "mode": "text",
         "text": [
          "294"
         ],
         "type": "scatter3d",
         "x": [
          -0.022080917507318026
         ],
         "y": [
          0.04489898706869124
         ],
         "z": [
          0
         ]
        },
        {
         "mode": "text",
         "text": [
          "295"
         ],
         "type": "scatter3d",
         "x": [
          -0.0285469611916457
         ],
         "y": [
          0.03471971668575575
         ],
         "z": [
          0
         ]
        },
        {
         "mode": "text",
         "text": [
          "296"
         ],
         "type": "scatter3d",
         "x": [
          -0.03051446196658316
         ],
         "y": [
          0.02298577936590978
         ],
         "z": [
          0
         ]
        },
        {
         "mode": "text",
         "text": [
          "297"
         ],
         "type": "scatter3d",
         "x": [
          -0.027838933755393265
         ],
         "y": [
          0.01154472166904896
         ],
         "z": [
          0
         ]
        },
        {
         "mode": "text",
         "text": [
          "298"
         ],
         "type": "scatter3d",
         "x": [
          -0.02107963640103474
         ],
         "y": [
          0.0020725043288092834
         ],
         "z": [
          0
         ]
        },
        {
         "mode": "text",
         "text": [
          "299"
         ],
         "type": "scatter3d",
         "x": [
          -0.011326423168343813
         ],
         "y": [
          -0.004141544858924506
         ],
         "z": [
          0
         ]
        },
        {
         "mode": "text",
         "text": [
          "300"
         ],
         "type": "scatter3d",
         "x": [
          3.2669744657455726e-17
         ],
         "y": [
          -0.006301888901929678
         ],
         "z": [
          0
         ]
        },
        {
         "mode": "text",
         "text": [
          "301"
         ],
         "type": "scatter3d",
         "x": [
          0.011326423168343877
         ],
         "y": [
          -0.004141544858924508
         ],
         "z": [
          0
         ]
        },
        {
         "mode": "text",
         "text": [
          "302"
         ],
         "type": "scatter3d",
         "x": [
          0.0210796364010348
         ],
         "y": [
          0.0020725043288092773
         ],
         "z": [
          0
         ]
        },
        {
         "mode": "text",
         "text": [
          "303"
         ],
         "type": "scatter3d",
         "x": [
          0.027838933755393324
         ],
         "y": [
          0.011544721669048954
         ],
         "z": [
          0
         ]
        },
        {
         "mode": "text",
         "text": [
          "304"
         ],
         "type": "scatter3d",
         "x": [
          0.022868263387347314
         ],
         "y": [
          0.023483205166352505
         ],
         "z": [
          0
         ]
        },
        {
         "mode": "text",
         "text": [
          "305"
         ],
         "type": "scatter3d",
         "x": [
          0.021400273591980802
         ],
         "y": [
          0.0322694962006249
         ],
         "z": [
          0
         ]
        },
        {
         "mode": "text",
         "text": [
          "306"
         ],
         "type": "scatter3d",
         "x": [
          0.0165573939919329
         ],
         "y": [
          0.039896079519968056
         ],
         "z": [
          0
         ]
        },
        {
         "mode": "text",
         "text": [
          "307"
         ],
         "type": "scatter3d",
         "x": [
          0.009025660986813573
         ],
         "y": [
          0.04508390044846735
         ],
         "z": [
          0
         ]
        },
        {
         "mode": "text",
         "text": [
          "308"
         ],
         "type": "scatter3d",
         "x": [
          3.1312150055896156e-17
         ],
         "y": [
          0.046923201347741694
         ],
         "z": [
          0
         ]
        },
        {
         "mode": "text",
         "text": [
          "309"
         ],
         "type": "scatter3d",
         "x": [
          -0.009025660986813512
         ],
         "y": [
          0.04508390044846736
         ],
         "z": [
          0
         ]
        },
        {
         "mode": "text",
         "text": [
          "310"
         ],
         "type": "scatter3d",
         "x": [
          -0.01655739399193284
         ],
         "y": [
          0.03989607951996807
         ],
         "z": [
          0
         ]
        },
        {
         "mode": "text",
         "text": [
          "311"
         ],
         "type": "scatter3d",
         "x": [
          -0.021400273591980733
         ],
         "y": [
          0.0322694962006249
         ],
         "z": [
          0
         ]
        },
        {
         "mode": "text",
         "text": [
          "312"
         ],
         "type": "scatter3d",
         "x": [
          -0.022868263387347244
         ],
         "y": [
          0.023483205166352508
         ],
         "z": [
          0
         ]
        },
        {
         "mode": "text",
         "text": [
          "313"
         ],
         "type": "scatter3d",
         "x": [
          -0.020857036323691756
         ],
         "y": [
          0.014921401761331726
         ],
         "z": [
          0
         ]
        },
        {
         "mode": "text",
         "text": [
          "314"
         ],
         "type": "scatter3d",
         "x": [
          -0.01578914300500008
         ],
         "y": [
          0.007836777047395802
         ],
         "z": [
          0
         ]
        },
        {
         "mode": "text",
         "text": [
          "315"
         ],
         "type": "scatter3d",
         "x": [
          -0.008482427289485426
         ],
         "y": [
          0.0031909112273640254
         ],
         "z": [
          0
         ]
        },
        {
         "mode": "text",
         "text": [
          "316"
         ],
         "type": "scatter3d",
         "x": [
          3.338220602370541e-17
         ],
         "y": [
          0.0015760944604007927
         ],
         "z": [
          0
         ]
        },
        {
         "mode": "text",
         "text": [
          "317"
         ],
         "type": "scatter3d",
         "x": [
          0.008482427289485492
         ],
         "y": [
          0.0031909112273640233
         ],
         "z": [
          0
         ]
        },
        {
         "mode": "text",
         "text": [
          "318"
         ],
         "type": "scatter3d",
         "x": [
          0.015789143005000145
         ],
         "y": [
          0.007836777047395802
         ],
         "z": [
          0
         ]
        },
        {
         "mode": "text",
         "text": [
          "319"
         ],
         "type": "scatter3d",
         "x": [
          0.020857036323691826
         ],
         "y": [
          0.014921401761331724
         ],
         "z": [
          0
         ]
        },
        {
         "mode": "text",
         "text": [
          "320"
         ],
         "type": "scatter3d",
         "x": [
          0.01870128166713341
         ],
         "y": [
          0.023756143337543625
         ],
         "z": [
          0
         ]
        },
        {
         "mode": "text",
         "text": [
          "321"
         ],
         "type": "scatter3d",
         "x": [
          0.017504084600566877
         ],
         "y": [
          0.030936239092528336
         ],
         "z": [
          0
         ]
        },
        {
         "mode": "text",
         "text": [
          "322"
         ],
         "type": "scatter3d",
         "x": [
          0.013545149629750904
         ],
         "y": [
          0.03717087634151325
         ],
         "z": [
          0
         ]
        },
        {
         "mode": "text",
         "text": [
          "323"
         ],
         "type": "scatter3d",
         "x": [
          0.007384480975839527
         ],
         "y": [
          0.041413062436326864
         ],
         "z": [
          0
         ]
        },
        {
         "mode": "text",
         "text": [
          "324"
         ],
         "type": "scatter3d",
         "x": [
          3.124058297755683e-17
         ],
         "y": [
          0.04291733231873686
         ],
         "z": [
          0
         ]
        },
        {
         "mode": "text",
         "text": [
          "325"
         ],
         "type": "scatter3d",
         "x": [
          -0.007384480975839465
         ],
         "y": [
          0.04141306243632688
         ],
         "z": [
          0
         ]
        },
        {
         "mode": "text",
         "text": [
          "326"
         ],
         "type": "scatter3d",
         "x": [
          -0.013545149629750845
         ],
         "y": [
          0.03717087634151327
         ],
         "z": [
          0
         ]
        },
        {
         "mode": "text",
         "text": [
          "327"
         ],
         "type": "scatter3d",
         "x": [
          -0.017504084600566808
         ],
         "y": [
          0.03093623909252834
         ],
         "z": [
          0
         ]
        },
        {
         "mode": "text",
         "text": [
          "328"
         ],
         "type": "scatter3d",
         "x": [
          -0.018701281667133335
         ],
         "y": [
          0.023756143337543625
         ],
         "z": [
          0
         ]
        },
        {
         "mode": "text",
         "text": [
          "329"
         ],
         "type": "scatter3d",
         "x": [
          -0.01705343320469154
         ],
         "y": [
          0.016762124624072942
         ],
         "z": [
          0
         ]
        },
        {
         "mode": "text",
         "text": [
          "330"
         ],
         "type": "scatter3d",
         "x": [
          -0.012907826540311713
         ],
         "y": [
          0.010976722942806435
         ],
         "z": [
          0
         ]
        },
        {
         "mode": "text",
         "text": [
          "331"
         ],
         "type": "scatter3d",
         "x": [
          -0.006933821415841581
         ],
         "y": [
          0.007183780687487805
         ],
         "z": [
          0
         ]
        },
        {
         "mode": "text",
         "text": [
          "332"
         ],
         "type": "scatter3d",
         "x": [
          3.422594638900124e-17
         ],
         "y": [
          0.005865596118368524
         ],
         "z": [
          0
         ]
        },
        {
         "mode": "text",
         "text": [
          "333"
         ],
         "type": "scatter3d",
         "x": [
          0.006933821415841651
         ],
         "y": [
          0.007183780687487805
         ],
         "z": [
          0
         ]
        },
        {
         "mode": "text",
         "text": [
          "334"
         ],
         "type": "scatter3d",
         "x": [
          0.012907826540311786
         ],
         "y": [
          0.010976722942806438
         ],
         "z": [
          0
         ]
        },
        {
         "mode": "text",
         "text": [
          "335"
         ],
         "type": "scatter3d",
         "x": [
          0.01705343320469161
         ],
         "y": [
          0.016762124624072942
         ],
         "z": [
          0
         ]
        }
       ],
       "layout": {
        "scene": {
         "aspectmode": "data"
        },
        "template": {
         "data": {
          "bar": [
           {
            "error_x": {
             "color": "#2a3f5f"
            },
            "error_y": {
             "color": "#2a3f5f"
            },
            "marker": {
             "line": {
              "color": "#E5ECF6",
              "width": 0.5
             },
             "pattern": {
              "fillmode": "overlay",
              "size": 10,
              "solidity": 0.2
             }
            },
            "type": "bar"
           }
          ],
          "barpolar": [
           {
            "marker": {
             "line": {
              "color": "#E5ECF6",
              "width": 0.5
             },
             "pattern": {
              "fillmode": "overlay",
              "size": 10,
              "solidity": 0.2
             }
            },
            "type": "barpolar"
           }
          ],
          "carpet": [
           {
            "aaxis": {
             "endlinecolor": "#2a3f5f",
             "gridcolor": "white",
             "linecolor": "white",
             "minorgridcolor": "white",
             "startlinecolor": "#2a3f5f"
            },
            "baxis": {
             "endlinecolor": "#2a3f5f",
             "gridcolor": "white",
             "linecolor": "white",
             "minorgridcolor": "white",
             "startlinecolor": "#2a3f5f"
            },
            "type": "carpet"
           }
          ],
          "choropleth": [
           {
            "colorbar": {
             "outlinewidth": 0,
             "ticks": ""
            },
            "type": "choropleth"
           }
          ],
          "contour": [
           {
            "colorbar": {
             "outlinewidth": 0,
             "ticks": ""
            },
            "colorscale": [
             [
              0,
              "#0d0887"
             ],
             [
              0.1111111111111111,
              "#46039f"
             ],
             [
              0.2222222222222222,
              "#7201a8"
             ],
             [
              0.3333333333333333,
              "#9c179e"
             ],
             [
              0.4444444444444444,
              "#bd3786"
             ],
             [
              0.5555555555555556,
              "#d8576b"
             ],
             [
              0.6666666666666666,
              "#ed7953"
             ],
             [
              0.7777777777777778,
              "#fb9f3a"
             ],
             [
              0.8888888888888888,
              "#fdca26"
             ],
             [
              1,
              "#f0f921"
             ]
            ],
            "type": "contour"
           }
          ],
          "contourcarpet": [
           {
            "colorbar": {
             "outlinewidth": 0,
             "ticks": ""
            },
            "type": "contourcarpet"
           }
          ],
          "heatmap": [
           {
            "colorbar": {
             "outlinewidth": 0,
             "ticks": ""
            },
            "colorscale": [
             [
              0,
              "#0d0887"
             ],
             [
              0.1111111111111111,
              "#46039f"
             ],
             [
              0.2222222222222222,
              "#7201a8"
             ],
             [
              0.3333333333333333,
              "#9c179e"
             ],
             [
              0.4444444444444444,
              "#bd3786"
             ],
             [
              0.5555555555555556,
              "#d8576b"
             ],
             [
              0.6666666666666666,
              "#ed7953"
             ],
             [
              0.7777777777777778,
              "#fb9f3a"
             ],
             [
              0.8888888888888888,
              "#fdca26"
             ],
             [
              1,
              "#f0f921"
             ]
            ],
            "type": "heatmap"
           }
          ],
          "heatmapgl": [
           {
            "colorbar": {
             "outlinewidth": 0,
             "ticks": ""
            },
            "colorscale": [
             [
              0,
              "#0d0887"
             ],
             [
              0.1111111111111111,
              "#46039f"
             ],
             [
              0.2222222222222222,
              "#7201a8"
             ],
             [
              0.3333333333333333,
              "#9c179e"
             ],
             [
              0.4444444444444444,
              "#bd3786"
             ],
             [
              0.5555555555555556,
              "#d8576b"
             ],
             [
              0.6666666666666666,
              "#ed7953"
             ],
             [
              0.7777777777777778,
              "#fb9f3a"
             ],
             [
              0.8888888888888888,
              "#fdca26"
             ],
             [
              1,
              "#f0f921"
             ]
            ],
            "type": "heatmapgl"
           }
          ],
          "histogram": [
           {
            "marker": {
             "pattern": {
              "fillmode": "overlay",
              "size": 10,
              "solidity": 0.2
             }
            },
            "type": "histogram"
           }
          ],
          "histogram2d": [
           {
            "colorbar": {
             "outlinewidth": 0,
             "ticks": ""
            },
            "colorscale": [
             [
              0,
              "#0d0887"
             ],
             [
              0.1111111111111111,
              "#46039f"
             ],
             [
              0.2222222222222222,
              "#7201a8"
             ],
             [
              0.3333333333333333,
              "#9c179e"
             ],
             [
              0.4444444444444444,
              "#bd3786"
             ],
             [
              0.5555555555555556,
              "#d8576b"
             ],
             [
              0.6666666666666666,
              "#ed7953"
             ],
             [
              0.7777777777777778,
              "#fb9f3a"
             ],
             [
              0.8888888888888888,
              "#fdca26"
             ],
             [
              1,
              "#f0f921"
             ]
            ],
            "type": "histogram2d"
           }
          ],
          "histogram2dcontour": [
           {
            "colorbar": {
             "outlinewidth": 0,
             "ticks": ""
            },
            "colorscale": [
             [
              0,
              "#0d0887"
             ],
             [
              0.1111111111111111,
              "#46039f"
             ],
             [
              0.2222222222222222,
              "#7201a8"
             ],
             [
              0.3333333333333333,
              "#9c179e"
             ],
             [
              0.4444444444444444,
              "#bd3786"
             ],
             [
              0.5555555555555556,
              "#d8576b"
             ],
             [
              0.6666666666666666,
              "#ed7953"
             ],
             [
              0.7777777777777778,
              "#fb9f3a"
             ],
             [
              0.8888888888888888,
              "#fdca26"
             ],
             [
              1,
              "#f0f921"
             ]
            ],
            "type": "histogram2dcontour"
           }
          ],
          "mesh3d": [
           {
            "colorbar": {
             "outlinewidth": 0,
             "ticks": ""
            },
            "type": "mesh3d"
           }
          ],
          "parcoords": [
           {
            "line": {
             "colorbar": {
              "outlinewidth": 0,
              "ticks": ""
             }
            },
            "type": "parcoords"
           }
          ],
          "pie": [
           {
            "automargin": true,
            "type": "pie"
           }
          ],
          "scatter": [
           {
            "fillpattern": {
             "fillmode": "overlay",
             "size": 10,
             "solidity": 0.2
            },
            "type": "scatter"
           }
          ],
          "scatter3d": [
           {
            "line": {
             "colorbar": {
              "outlinewidth": 0,
              "ticks": ""
             }
            },
            "marker": {
             "colorbar": {
              "outlinewidth": 0,
              "ticks": ""
             }
            },
            "type": "scatter3d"
           }
          ],
          "scattercarpet": [
           {
            "marker": {
             "colorbar": {
              "outlinewidth": 0,
              "ticks": ""
             }
            },
            "type": "scattercarpet"
           }
          ],
          "scattergeo": [
           {
            "marker": {
             "colorbar": {
              "outlinewidth": 0,
              "ticks": ""
             }
            },
            "type": "scattergeo"
           }
          ],
          "scattergl": [
           {
            "marker": {
             "colorbar": {
              "outlinewidth": 0,
              "ticks": ""
             }
            },
            "type": "scattergl"
           }
          ],
          "scattermapbox": [
           {
            "marker": {
             "colorbar": {
              "outlinewidth": 0,
              "ticks": ""
             }
            },
            "type": "scattermapbox"
           }
          ],
          "scatterpolar": [
           {
            "marker": {
             "colorbar": {
              "outlinewidth": 0,
              "ticks": ""
             }
            },
            "type": "scatterpolar"
           }
          ],
          "scatterpolargl": [
           {
            "marker": {
             "colorbar": {
              "outlinewidth": 0,
              "ticks": ""
             }
            },
            "type": "scatterpolargl"
           }
          ],
          "scatterternary": [
           {
            "marker": {
             "colorbar": {
              "outlinewidth": 0,
              "ticks": ""
             }
            },
            "type": "scatterternary"
           }
          ],
          "surface": [
           {
            "colorbar": {
             "outlinewidth": 0,
             "ticks": ""
            },
            "colorscale": [
             [
              0,
              "#0d0887"
             ],
             [
              0.1111111111111111,
              "#46039f"
             ],
             [
              0.2222222222222222,
              "#7201a8"
             ],
             [
              0.3333333333333333,
              "#9c179e"
             ],
             [
              0.4444444444444444,
              "#bd3786"
             ],
             [
              0.5555555555555556,
              "#d8576b"
             ],
             [
              0.6666666666666666,
              "#ed7953"
             ],
             [
              0.7777777777777778,
              "#fb9f3a"
             ],
             [
              0.8888888888888888,
              "#fdca26"
             ],
             [
              1,
              "#f0f921"
             ]
            ],
            "type": "surface"
           }
          ],
          "table": [
           {
            "cells": {
             "fill": {
              "color": "#EBF0F8"
             },
             "line": {
              "color": "white"
             }
            },
            "header": {
             "fill": {
              "color": "#C8D4E3"
             },
             "line": {
              "color": "white"
             }
            },
            "type": "table"
           }
          ]
         },
         "layout": {
          "annotationdefaults": {
           "arrowcolor": "#2a3f5f",
           "arrowhead": 0,
           "arrowwidth": 1
          },
          "autotypenumbers": "strict",
          "coloraxis": {
           "colorbar": {
            "outlinewidth": 0,
            "ticks": ""
           }
          },
          "colorscale": {
           "diverging": [
            [
             0,
             "#8e0152"
            ],
            [
             0.1,
             "#c51b7d"
            ],
            [
             0.2,
             "#de77ae"
            ],
            [
             0.3,
             "#f1b6da"
            ],
            [
             0.4,
             "#fde0ef"
            ],
            [
             0.5,
             "#f7f7f7"
            ],
            [
             0.6,
             "#e6f5d0"
            ],
            [
             0.7,
             "#b8e186"
            ],
            [
             0.8,
             "#7fbc41"
            ],
            [
             0.9,
             "#4d9221"
            ],
            [
             1,
             "#276419"
            ]
           ],
           "sequential": [
            [
             0,
             "#0d0887"
            ],
            [
             0.1111111111111111,
             "#46039f"
            ],
            [
             0.2222222222222222,
             "#7201a8"
            ],
            [
             0.3333333333333333,
             "#9c179e"
            ],
            [
             0.4444444444444444,
             "#bd3786"
            ],
            [
             0.5555555555555556,
             "#d8576b"
            ],
            [
             0.6666666666666666,
             "#ed7953"
            ],
            [
             0.7777777777777778,
             "#fb9f3a"
            ],
            [
             0.8888888888888888,
             "#fdca26"
            ],
            [
             1,
             "#f0f921"
            ]
           ],
           "sequentialminus": [
            [
             0,
             "#0d0887"
            ],
            [
             0.1111111111111111,
             "#46039f"
            ],
            [
             0.2222222222222222,
             "#7201a8"
            ],
            [
             0.3333333333333333,
             "#9c179e"
            ],
            [
             0.4444444444444444,
             "#bd3786"
            ],
            [
             0.5555555555555556,
             "#d8576b"
            ],
            [
             0.6666666666666666,
             "#ed7953"
            ],
            [
             0.7777777777777778,
             "#fb9f3a"
            ],
            [
             0.8888888888888888,
             "#fdca26"
            ],
            [
             1,
             "#f0f921"
            ]
           ]
          },
          "colorway": [
           "#636efa",
           "#EF553B",
           "#00cc96",
           "#ab63fa",
           "#FFA15A",
           "#19d3f3",
           "#FF6692",
           "#B6E880",
           "#FF97FF",
           "#FECB52"
          ],
          "font": {
           "color": "#2a3f5f"
          },
          "geo": {
           "bgcolor": "white",
           "lakecolor": "white",
           "landcolor": "#E5ECF6",
           "showlakes": true,
           "showland": true,
           "subunitcolor": "white"
          },
          "hoverlabel": {
           "align": "left"
          },
          "hovermode": "closest",
          "mapbox": {
           "style": "light"
          },
          "paper_bgcolor": "white",
          "plot_bgcolor": "#E5ECF6",
          "polar": {
           "angularaxis": {
            "gridcolor": "white",
            "linecolor": "white",
            "ticks": ""
           },
           "bgcolor": "#E5ECF6",
           "radialaxis": {
            "gridcolor": "white",
            "linecolor": "white",
            "ticks": ""
           }
          },
          "scene": {
           "xaxis": {
            "backgroundcolor": "#E5ECF6",
            "gridcolor": "white",
            "gridwidth": 2,
            "linecolor": "white",
            "showbackground": true,
            "ticks": "",
            "zerolinecolor": "white"
           },
           "yaxis": {
            "backgroundcolor": "#E5ECF6",
            "gridcolor": "white",
            "gridwidth": 2,
            "linecolor": "white",
            "showbackground": true,
            "ticks": "",
            "zerolinecolor": "white"
           },
           "zaxis": {
            "backgroundcolor": "#E5ECF6",
            "gridcolor": "white",
            "gridwidth": 2,
            "linecolor": "white",
            "showbackground": true,
            "ticks": "",
            "zerolinecolor": "white"
           }
          },
          "shapedefaults": {
           "line": {
            "color": "#2a3f5f"
           }
          },
          "ternary": {
           "aaxis": {
            "gridcolor": "white",
            "linecolor": "white",
            "ticks": ""
           },
           "baxis": {
            "gridcolor": "white",
            "linecolor": "white",
            "ticks": ""
           },
           "bgcolor": "#E5ECF6",
           "caxis": {
            "gridcolor": "white",
            "linecolor": "white",
            "ticks": ""
           }
          },
          "title": {
           "x": 0.05
          },
          "xaxis": {
           "automargin": true,
           "gridcolor": "white",
           "linecolor": "white",
           "ticks": "",
           "title": {
            "standoff": 15
           },
           "zerolinecolor": "white",
           "zerolinewidth": 2
          },
          "yaxis": {
           "automargin": true,
           "gridcolor": "white",
           "linecolor": "white",
           "ticks": "",
           "title": {
            "standoff": 15
           },
           "zerolinecolor": "white",
           "zerolinewidth": 2
          }
         }
        },
        "title": {
         "text": "Plotly Plot"
        }
       }
      }
     },
     "metadata": {},
     "output_type": "display_data"
    }
   ],
   "source": [
    "net.net_plot(elables=True)"
   ]
  }
 ],
 "metadata": {
  "kernelspec": {
   "display_name": "base",
   "language": "python",
   "name": "python3"
  },
  "language_info": {
   "codemirror_mode": {
    "name": "ipython",
    "version": 3
   },
   "file_extension": ".py",
   "mimetype": "text/x-python",
   "name": "python",
   "nbconvert_exporter": "python",
   "pygments_lexer": "ipython3",
   "version": "3.12.3"
  }
 },
 "nbformat": 4,
 "nbformat_minor": 2
}
