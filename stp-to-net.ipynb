{
 "cells": [
  {
   "cell_type": "code",
   "execution_count": 2,
   "metadata": {},
   "outputs": [],
   "source": [
    "import numpy as np\n",
    "import pickle\n",
    "\n",
    "# G-code generation codes are cloned from https://github.com/tibor-barsi/GcodeGenerator. Tibor Barsi is the author of the code, and was a PhD student at the Ladisk lab of the University of Ljubljana\n",
    "#  We should be careful with crediting the author of the code, if we ever want to make these code public.\n",
    "from src.g_code_generation_copy.gcode_generator import G_code_generator\n",
    "from src.g_code_generation_copy.tool_changer_functions import save_params, load_params, printer_start, load_tool, unload_tool, tool_change, take_photo, play_sound, printer_stop\n",
    "# from src.additional_functions import *\n",
    "from src.network import Network_custom, replace_brackets\n",
    "from compas.datastructures import Network\n",
    "import os\n",
    "\n",
    "import matplotlib.pyplot as plt\n",
    "\n",
    "BYU_UW_root = r\"G:\\.shortcut-targets-by-id\\1k1B8zPb3T8H7y6x0irFZnzzmfQPHMRPx\\Illimited Lab Projects\\Research Projects\\Spiders\\BYU-UW\""
   ]
  },
  {
   "cell_type": "code",
   "execution_count": 11,
   "metadata": {},
   "outputs": [],
   "source": [
    "def compute_perpendicular_forces(network, force_balloon, force_friction, fixed, top_ring):\n",
    "    \"\"\"Compute forces using the node Laplacian as a surface normal approximation.\"\"\"\n",
    "    forces = []\n",
    "    top_ring_center = np.mean(np.array(network.nodes_attributes('xyz', keys = top_ring)), axis=0)\n",
    "    for v in network.nodes():\n",
    "        if v in fixed:\n",
    "            forces.append(np.zeros(3))\n",
    "            continue\n",
    "        neighbors = network.neighbors(v)\n",
    "        if network.degree(v) == 3:\n",
    "            vertical_neighbor = min(neighbors, key=lambda n: network.node_attribute(n, 'z'))\n",
    "            direction = np.array(network.node_attributes(v, 'xyz')) - np.array(network.node_attributes(vertical_neighbor, 'xyz'))\n",
    "            direction_f = direction / np.linalg.norm(direction)\n",
    "\n",
    "            laplacian = network.node_laplacian(vertical_neighbor)\n",
    "            normal = laplacian / np.linalg.norm(laplacian)\n",
    "        \n",
    "            forces.append(direction_f * force_friction + normal * force_balloon) # + \n",
    "            continue\n",
    "        laplacian = network.node_laplacian(v)\n",
    "        normal = laplacian / np.linalg.norm(laplacian)  # Normalize\n",
    "        vertical_neighbor = min(neighbors, key=lambda n: network.node_attribute(n, 'z'))\n",
    "        direction = np.array(network.node_attributes(v, 'xyz')) - np.array(network.node_attributes(vertical_neighbor, 'xyz'))\n",
    "        direction_f = direction / np.linalg.norm(direction)\n",
    "        \n",
    "        forces.append(normal * force_balloon + direction_f * force_friction)\n",
    "    return np.array(forces)\n",
    "\n",
    "def update_shape_nlf(vertices_0, loads_0, q, edges, force_balloon, force_friction, fixed, top_ring, tol = 1e-3, max_iter = 20):\n",
    "    \"\"\"Update the vertices of the network based on the force densities.\n",
    "    parameters:\n",
    "    q: list of force densities\n",
    "    edges: list of edges. If not provided, the function will assume that a new q is provided for all edges in the same order as the previous q.\n",
    "    \"\"\"\n",
    "    from compas_fd.solvers import fd_constrained_numpy\n",
    "    loads = np.copy(loads_0)\n",
    "    vertices = np.copy(vertices_0)\n",
    "    for i in range(max_iter):\n",
    "    # while True:\n",
    "        result = fd_constrained_numpy(\n",
    "            vertices=vertices,\n",
    "            fixed= fixed,\n",
    "            edges= edges,\n",
    "            forcedensities=q,\n",
    "            loads=loads,\n",
    "            constraints= [],\n",
    "        )\n",
    "        vertices = np.array(result.vertices).reshape(-1, 3)\n",
    "        netC = Network.from_nodes_and_edges(vertices, edges)\n",
    "        loads_new = compute_perpendicular_forces(netC, force_balloon, force_friction, fixed, top_ring)\n",
    "        if np.linalg.norm(loads - loads_new) < tol:\n",
    "            print(f\"Converged in {i} iterations.\")\n",
    "            break\n",
    "        loads = loads_new\n",
    "\n",
    "    f = np.array(result.forces).reshape(-1)\n",
    "    l1 = np.array(result.lengths).reshape(-1)\n",
    "    return vertices, f, l1, loads\n",
    "\n",
    "def cylinder_mesh(D, H, N, M, q_circumferential, q_vertical, dq):\n",
    "    \"\"\"Generate vertices and edges of a cylinder with adjustable vertical segments.\"\"\"\n",
    "    R = D / 2  # Radius\n",
    "    theta = np.linspace(0, 2 * np.pi, N, endpoint=False)\n",
    "    z = np.linspace(0, H, M + 1)  # M vertical segments → M+1 height levels\n",
    "\n",
    "    # Generate vertices\n",
    "    vertices = np.array([[R * np.cos(t), R * np.sin(t), h] for h in z for t in theta])\n",
    "\n",
    "    # Define edges\n",
    "    edges = []\n",
    "    paths = []\n",
    "    q = []\n",
    "\n",
    "    # Circumferential edges at each level\n",
    "    for j in range(M + 1):\n",
    "        offset = j * N\n",
    "        new_path = [(offset + i, offset + (i + 1) % N) for i in range(N)]\n",
    "        edges += new_path\n",
    "        paths.append(new_path)\n",
    "        q += list(np.ones(N) * q_circumferential)\n",
    "    \n",
    "    # Vertical edges between stacked layers\n",
    "    for j in range(M):\n",
    "        offset1, offset2 = j * N, (j + 1) * N\n",
    "        new_path = [(offset1 + i, offset2 + i) for i in range(N)]\n",
    "        edges += new_path\n",
    "        paths.append(new_path)\n",
    "        q += list(np.ones(N) * q_vertical + np.sin(theta) * dq)\n",
    "\n",
    "    return vertices, edges, paths, q\n",
    "\n",
    "def hoop_stress(D, P, t):\n",
    "    \"\"\"Compute the hoop stress in a thin-walled cylinder.\"\"\"\n",
    "    return P * D / (2 * t)\n",
    "\n",
    "def axial_stress(D, P, t):\n",
    "    \"\"\"Compute the axial stress in a thin-walled cylinder.\"\"\"\n",
    "    return P / (np.pi * D * t)\n",
    "\n",
    "def radial_displacement(D, P, t, E):\n",
    "    \"\"\"Compute the radial displacement in a thin-walled cylinder.\"\"\"\n",
    "    return P * D / (2 * t * E)"
   ]
  },
  {
   "cell_type": "code",
   "execution_count": 20,
   "metadata": {},
   "outputs": [],
   "source": [
    "import numpy as np\n",
    "import matplotlib.pyplot as plt\n",
    "from mpl_toolkits.mplot3d.art3d import Line3DCollection\n",
    "\n",
    "def cylinder_mesh(D, H, N, M):\n",
    "    \"\"\"Generate vertices and edges of a cylinder with adjustable vertical segments.\"\"\"\n",
    "    R = D / 2  # Radius\n",
    "    theta = np.linspace(0, 2 * np.pi, N, endpoint=False)\n",
    "    z = np.linspace(0, H, M + 1)  # M vertical segments → M+1 height levels\n",
    "\n",
    "    # Generate vertices\n",
    "    vertices = np.array([[R * np.cos(t), R * np.sin(t), h] for h in z for t in theta])\n",
    "\n",
    "    # Define edges\n",
    "    edges = []\n",
    "    paths = []\n",
    "\n",
    "    # Circumferential edges at each level\n",
    "    for j in range(M + 1):\n",
    "        offset = j * N\n",
    "        new_path = [(offset + i, offset + (i + 1) % N) for i in range(N)]\n",
    "        edges += new_path\n",
    "        paths.append(new_path)\n",
    "    \n",
    "    # Vertical edges between stacked layers\n",
    "    for j in range(M):\n",
    "        offset1, offset2 = j * N, (j + 1) * N\n",
    "        new_path = [(offset1 + i, offset2 + i) for i in range(N)]\n",
    "        edges += new_path\n",
    "        paths.append(new_path)\n",
    "\n",
    "    return vertices, edges, paths\n",
    "\n",
    "def apply_internal_pressure(D, t, P):\n",
    "    \"\"\"Compute stress components due to internal pressure.\"\"\"\n",
    "    R = D / 2\n",
    "    sigma_hoop = P * R / t  # Hoop stress (circumferential)\n",
    "    sigma_axial = P * R / (2 * t)  # Axial stress (along height)\n",
    "    return sigma_hoop, sigma_axial\n",
    "\n",
    "def bend_cylinder(vertices, H, E, I, M):\n",
    "    \"\"\"Apply bending deformation to cylinder vertices under a single applied moment.\"\"\"\n",
    "    new_vertices = vertices.copy()\n",
    "    \n",
    "    for i, (x, y, z) in enumerate(vertices):\n",
    "        # delta_x = -(M / (6 * E * I)) * z**2 * (3 * H - z)  # Bending displacement formula\n",
    "        delta_x = -(M / (2 * E * I)) * z**2\n",
    "        new_vertices[i, 0] += delta_x  # Scale factor for visibility\n",
    "    \n",
    "    return new_vertices\n",
    "\n",
    "def calculate_stress(D, H, M, vertices, sigma_hoop, sigma_axial, edges):\n",
    "    \"\"\"Calculate total stress at each vertex considering hoop, axial, and bending stress vectors.\"\"\"\n",
    "    R = D / 2\n",
    "    I = (np.pi * R**4) / 4  # Moment of inertia for circular cross-section\n",
    "    stresses = []\n",
    "    edge_lengths = []\n",
    "    \n",
    "    for x, y, z in vertices:\n",
    "        theta = np.arctan2(y, x)\n",
    "        sigma_bending = -(M * R * np.cos(theta)) / I  # Bending stress varies with theta\n",
    "        total_stress = np.array([sigma_hoop, sigma_axial, sigma_bending])  # [Circumferential, Axial, Bending]\n",
    "        stresses.append(np.linalg.norm(total_stress))  # Compute magnitude of total stress vector\n",
    "    \n",
    "    for i, j in edges:\n",
    "        edge_length = np.linalg.norm(vertices[i] - vertices[j])\n",
    "        edge_lengths.append(edge_length)\n",
    "    \n",
    "    return np.array(stresses), np.array(edge_lengths)\n",
    "\n",
    "def plot_cylinder(vertices, edges, ax, stresses):\n",
    "    \"\"\"Plot cylinder from vertices and edges, colorized by stress magnitude.\"\"\"\n",
    "    edge_lines = [[vertices[i], vertices[j]] for i, j in edges]\n",
    "    colors = plt.cm.viridis((stresses - stresses.min()) / (stresses.max() - stresses.min()))\n",
    "    ax.add_collection3d(Line3DCollection(edge_lines, colors=colors[:, :3], linewidths=0.5))\n",
    "    ax.scatter(vertices[:, 0], vertices[:, 1], vertices[:, 2], s=1, color=colors[:, :3])\n",
    "\n",
    "D, H, N, M_sections = 5, 60, 30, 20\n",
    "t = 0.01  # Wall thickness (m)\n",
    "P = 100e6  # Internal pressure (Pa)\n",
    "E = 200e6  # Young's modulus (Pa) for steel\n",
    "I = (np.pi * (D / 2)**4) / 4  # Moment of inertia for a circular cross-section\n",
    "M = 100e6  # Single applied moment\n",
    "\n",
    "vertices, edges, _ = cylinder_mesh(D, H, N, M_sections)\n",
    "sigma_hoop, sigma_axial = apply_internal_pressure(D, t, P)\n",
    "deformed_vertices = bend_cylinder(vertices, H, E, I, M)\n",
    "stresses, edge_lengths = calculate_stress(D, H, M, deformed_vertices, sigma_hoop, sigma_axial, edges)\n",
    "\n",
    "%matplotlib qt\n",
    "fig = plt.figure(figsize=(10, 5))\n",
    "ax = fig.add_subplot(111, projection='3d')\n",
    "ax.set_xlabel('X')\n",
    "ax.set_ylabel('Y')\n",
    "ax.set_zlabel('Z')\n",
    "\n",
    "ax.set_xlim(-H/2, H/2)\n",
    "ax.set_ylim(-H/2, H/2)\n",
    "ax.set_zlim(0, H)\n",
    "\n",
    "plot_cylinder(deformed_vertices, edges, ax, stresses)\n",
    "\n",
    "plt.show()\n",
    "\n",
    "# Store lengths and stresses in NumPy arrays\n",
    "edge_lengths = np.array(edge_lengths)\n",
    "stresses = np.array(stresses)\n"
   ]
  },
  {
   "cell_type": "code",
   "execution_count": 5,
   "metadata": {},
   "outputs": [
    {
     "data": {
      "text/plain": [
       "(1230, 630)"
      ]
     },
     "execution_count": 5,
     "metadata": {},
     "output_type": "execute_result"
    }
   ],
   "source": [
    "len(edge_lengths), len(stresses)"
   ]
  },
  {
   "cell_type": "code",
   "execution_count": null,
   "metadata": {},
   "outputs": [],
   "source": [
    "model_name  = 'Showcase_structure_0'\n",
    "D, H, N, M = 5, 60, 30, 20\n",
    "q_circumferential, q_vertical = 0, 0\n",
    "dq = 0\n",
    "force_balloon = 0\n",
    "force_friction = force_balloon * -0.1\n",
    "\n",
    "P = 1\n",
    "E = 1\n",
    "t = 0.01\n",
    "\n",
    "vertices_0, edges, paths, q = cylinder_mesh(D, H, N, M, q_circumferential, q_vertical, dq)"
   ]
  },
  {
   "cell_type": "code",
   "execution_count": 10,
   "metadata": {},
   "outputs": [
    {
     "data": {
      "text/plain": [
       "(0.0, 60.0)"
      ]
     },
     "execution_count": 10,
     "metadata": {},
     "output_type": "execute_result"
    },
    {
     "data": {
      "image/png": "[encoded data removed]",
      "text/plain": [
       "<Figure size 640x480 with 1 Axes>"
      ]
     },
     "metadata": {},
     "output_type": "display_data"
    }
   ],
   "source": [
    "fig = plt.figure()\n",
    "ax = fig.add_subplot(111, projection='3d')\n",
    "for path in paths:\n",
    "    for u, v in path:\n",
    "        ax.plot(*zip(vertices_0[u], vertices_0[v]), color='black')\n",
    "\n",
    "ax.set_xlim(-D*4, D*4)\n",
    "ax.set_ylim(-D*4, D*4)\n",
    "ax.set_zlim(0, H)"
   ]
  },
  {
   "cell_type": "markdown",
   "metadata": {},
   "source": [
    "Define structure"
   ]
  },
  {
   "cell_type": "code",
   "execution_count": 52,
   "metadata": {},
   "outputs": [
    {
     "data": {
      "text/plain": [
       "array([8.        , 8.        , 8.        , ..., 0.72795805, 0.73474738,\n",
       "       0.74220331])"
      ]
     },
     "execution_count": 52,
     "metadata": {},
     "output_type": "execute_result"
    }
   ],
   "source": [
    "model_name  = 'Showcase_structure_0'\n",
    "D, H, N, M = 1.0, 2.0, 30, 20\n",
    "q_circumferential, q_vertical = 8, .75\n",
    "dq = q_vertical*0.05\n",
    "force_balloon = -.18\n",
    "force_friction = force_balloon * -0.1\n",
    "vertices_0, edges, paths, q = cylinder_mesh(D, H, N, M, q_circumferential, q_vertical, dq)\n",
    "directions  = [1]*len(edges)\n",
    "fixed      = np.argwhere(vertices_0[:,2] == 0).flatten()\n",
    "fixed      = fixed.tolist()\n",
    "top_ring = np.argwhere(vertices_0[:,2] == H).flatten()\n",
    "top_ring = top_ring.tolist()\n",
    "\n",
    "netC = Network.from_nodes_and_edges(vertices_0, edges)\n",
    "loads_0 = compute_perpendicular_forces(netC, force_balloon, force_friction, fixed, top_ring)\n",
    "net = Network_custom.from_fd(vertices_0, edges, q, fixed, paths = paths, dir = directions, loads=loads_0)\n",
    "\n",
    "\n",
    "%matplotlib qt\n",
    "fig = plt.figure()\n",
    "ax = fig.add_subplot(111, projection='3d')\n",
    "\n",
    "q_min, q_max = q_vertical - dq, q_vertical + dq\n",
    "color_func = lambda x: (x - q_min) / (q_max - q_min)\n",
    "\n",
    "for edge, q_i in zip(edges, q):\n",
    "    ax.plot(*zip(*vertices_0[edge,:]), color=plt.cm.viridis(color_func(q_i)))\n",
    "for v, f in zip(vertices_0, loads_0):\n",
    "    ax.plot([v[0], v[0] + f[0]], [v[1], v[1] + f[1]], [v[2], v[2] + f[2]], 'r-', lw=2)\n",
    "ax.set_xlim(-7, 7)\n",
    "ax.set_ylim(-7, 7)\n",
    "ax.set_zlim(0, 14)\n",
    "plt.show()\n",
    "net.q"
   ]
  },
  {
   "cell_type": "code",
   "execution_count": 53,
   "metadata": {},
   "outputs": [
    {
     "name": "stdout",
     "output_type": "stream",
     "text": [
      "Converged in 23 iterations.\n"
     ]
    }
   ],
   "source": [
    "vertices2, f2, l12, loads2 = update_shape_nlf(vertices_0, loads_0, q, edges, force_balloon, force_friction, fixed, top_ring, tol = 1e-3, max_iter = 50)"
   ]
  },
  {
   "cell_type": "code",
   "execution_count": 54,
   "metadata": {},
   "outputs": [],
   "source": [
    "%matplotlib qt\n",
    "fig = plt.figure()\n",
    "ax = fig.add_subplot(111, projection='3d')\n",
    "\n",
    "q_min, q_max = np.min(q), np.max(q)\n",
    "color_func = lambda x: (x - q_min) / (q_max - q_min)\n",
    "\n",
    "for edge, q_i in zip(edges, q):\n",
    "    ax.plot(*zip(*vertices2[edge,:]), color=plt.cm.viridis(color_func(q_i)))\n",
    "for v, f in zip(vertices2, loads2):\n",
    "    ax.plot([v[0], v[0] + f[0]], [v[1], v[1] + f[1]], [v[2], v[2] + f[2]], 'r-', lw=2)\n",
    "# ax.set_xlim(-7, 7)\n",
    "# ax.set_ylim(-7, 7)\n",
    "# ax.set_zlim(0, 14)\n",
    "plt.show()"
   ]
  },
  {
   "cell_type": "code",
   "execution_count": null,
   "metadata": {},
   "outputs": [],
   "source": [
    "netC2  = Network.from_nodes_and_edges(net.vertices, edges)\n",
    "forces2 = compute_perpendicular_forces(netC2, force_balloon, force_friction, fixed, top_ring)\n",
    "net2 = Network_custom.from_fd(net.vertices, edges, q, fixed, paths = paths, dir = directions, loads=forces2)"
   ]
  },
  {
   "cell_type": "code",
   "execution_count": null,
   "metadata": {},
   "outputs": [],
   "source": [
    "%matplotlib qt\n",
    "fig = plt.figure()\n",
    "ax = fig.add_subplot(111, projection='3d')\n",
    "for edge in edges:\n",
    "    ax.plot(*zip(*net2.vertices[edge,:]), color='b')\n",
    "for v, f in zip(net2.vertices, forces2):\n",
    "    ax.plot([v[0], v[0] + f[0]], [v[1], v[1] + f[1]], [v[2], v[2] + f[2]], 'r-', lw=2)\n",
    "ax.set_xlim(-7, 7)\n",
    "ax.set_ylim(-7, 7)\n",
    "ax.set_zlim(0, 14)\n",
    "plt.show()"
   ]
  },
  {
   "cell_type": "code",
   "execution_count": null,
   "metadata": {},
   "outputs": [],
   "source": [
    "net.net_plot(elables=False)"
   ]
  }
 ],
 "metadata": {
  "kernelspec": {
   "display_name": "base",
   "language": "python",
   "name": "python3"
  },
  "language_info": {
   "codemirror_mode": {
    "name": "ipython",
    "version": 3
   },
   "file_extension": ".py",
   "mimetype": "text/x-python",
   "name": "python",
   "nbconvert_exporter": "python",
   "pygments_lexer": "ipython3",
   "version": "3.12.3"
  }
 },
 "nbformat": 4,
 "nbformat_minor": 2
}
