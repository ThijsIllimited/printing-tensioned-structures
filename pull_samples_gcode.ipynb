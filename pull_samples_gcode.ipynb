{
 "cells": [
  {
   "cell_type": "code",
   "execution_count": 2,
   "metadata": {},
   "outputs": [],
   "source": [
    "import numpy as np\n",
    "import pickle\n",
    "\n",
    "# G-code generation codes are cloned from https://github.com/tibor-barsi/GcodeGenerator. Tibor Barsi is the author of the code, and was a PhD student at the Ladisk lab of the University of Ljubljana\n",
    "#  We should be careful with crediting the author of the code, if we ever want to make these code public.\n",
    "from src.g_code_generation_copy.gcode_generator import G_code_generator\n",
    "from src.g_code_generation_copy.tool_changer_functions import save_params, load_params, printer_start, load_tool, unload_tool, tool_change, take_photo, play_sound, printer_stop\n",
    "# from src.additional_functions import *\n",
    "from src.network import Network_custom, replace_brackets\n",
    "import os\n",
    "\n",
    "BYU_UW_root = r\"G:\\.shortcut-targets-by-id\\1k1B8zPb3T8H7y6x0irFZnzzmfQPHMRPx\\Illimited Lab Projects\\Research Projects\\Spiders\\BYU-UW\""
   ]
  },
  {
   "cell_type": "code",
   "execution_count": 3,
   "metadata": {},
   "outputs": [],
   "source": [
    "def generate_parallel_lines(n, L, a, b, w, z, x_offset):\n",
    "    lines = []\n",
    "    spacing = (w-x_offset*2) / (n - 1)\n",
    "    for i in range(n):\n",
    "        offset = i * spacing + x_offset\n",
    "        line = [\n",
    "            [0, offset, z],  # start point\n",
    "            [a * L, offset, z],  # point at a% of the line\n",
    "            [b * L, offset, z],  # point at b% of the line\n",
    "            [L, offset, z]  # end point\n",
    "        ]\n",
    "        lines.append(line)\n",
    "    return lines\n",
    "\n",
    "# Example usage\n",
    "n = 21\n",
    "L = 130\n",
    "a = 0.25\n",
    "b = 0.75\n",
    "w = 34\n",
    "z = .5\n",
    "z_offset = .3\n",
    "x_offset = 0.5\n",
    "\n",
    "parallel_lines = generate_parallel_lines(n, L, a, b, w, z  + z_offset, x_offset)"
   ]
  },
  {
   "cell_type": "code",
   "execution_count": 4,
   "metadata": {},
   "outputs": [
    {
     "data": {
      "image/png": "[encoded data removed]",
      "text/plain": [
       "<Figure size 640x480 with 1 Axes>"
      ]
     },
     "metadata": {},
     "output_type": "display_data"
    }
   ],
   "source": [
    "import matplotlib.pyplot as plt\n",
    "%matplotlib inline\n",
    "\n",
    "fig, ax = plt.subplots()\n",
    "\n",
    "for line in parallel_lines:\n",
    "    x_values = [point[0] for point in line]\n",
    "    y_values = [point[1] for point in line]\n",
    "    ax.plot(x_values, y_values, '-*')\n",
    "\n",
    "ax.set_xlabel('X')\n",
    "ax.set_ylabel('Y')\n",
    "ax.set_title('Parallel Lines')\n",
    "plt.show()"
   ]
  },
  {
   "cell_type": "code",
   "execution_count": 5,
   "metadata": {},
   "outputs": [],
   "source": [
    "def print_parallel_line(parallel_line, ef0, ef1, comment):\n",
    "    \"\"\"\n",
    "    Print a parallel line\n",
    "    \n",
    "        Parameters\n",
    "        ----------\n",
    "        parallel_line : list\n",
    "            List of 4 points that define the parallel line\n",
    "        ef0 : float\n",
    "                Extrude factor for the first and last segment of the line\n",
    "        ef1 : float\n",
    "                Extrude factor for the middle segment of the line\n",
    "        comment : str\n",
    "                Comment to be added to the g-code\n",
    "    \"\"\"\n",
    "    g_code = ''\n",
    "    g_code += gen.move_to_point(parallel_line[0][0:2], parallel_line[0][2] + printing_params['nozzle_lift'], comment='Move to start point')\n",
    "    g_code += gen.move_to_point(parallel_line[0][0:2], parallel_line[0][2], comment='Lower Nozzle')\n",
    "    g_code += gen.unretract()\n",
    "    g_code += gen._print_line(\n",
    "        point0=parallel_line[0],\n",
    "        point1=parallel_line[1],\n",
    "        move_to_start=False, # move to start point without extruding\n",
    "        extrude_factor=ef0,\n",
    "        comment=comment)\n",
    "    g_code += gen._print_line(\n",
    "        point0=parallel_line[1],\n",
    "        point1=parallel_line[2],\n",
    "        move_to_start=False, # move to start point without extruding\n",
    "        extrude_factor=ef1,\n",
    "        comment=comment)\n",
    "    g_code += gen._print_line(\n",
    "        point0=parallel_line[2],\n",
    "        point1=parallel_line[3],\n",
    "        move_to_start=False, # move to start point without extruding\n",
    "        extrude_factor=ef0,\n",
    "        comment=comment)\n",
    "    g_code += gen.retract()\n",
    "    g_code += gen.wipe_from_last_points(g_code)    \n",
    "    return g_code"
   ]
  },
  {
   "cell_type": "code",
   "execution_count": 6,
   "metadata": {},
   "outputs": [
    {
     "name": "stdout",
     "output_type": "stream",
     "text": [
      "G-code generated\n"
     ]
    }
   ],
   "source": [
    "printing_params = load_params(r'DATA/NT_Eel_0.2mm_og.json')\n",
    "start_gcode     = open(r'DATA/start_gcode.gcode', 'r').read()\n",
    "end_gcode       = open(r'DATA/end_gcode.gcode', 'r').read()\n",
    "\n",
    "temperature_settings = {'first_layer_bed_temperature': 65, 'first_layer_temperature':205, 'K-factor': 0.20}\n",
    "g_code = replace_brackets(start_gcode, temperature_settings)\n",
    "\n",
    "ef0 = printing_params['extrude_factor']*1.5\n",
    "ef1 = printing_params['extrude_factor']\n",
    "\n",
    "z_offset_top_blocks = printing_params['layer_height']/5\n",
    "\n",
    "comment = 'Manually added lines'\n",
    "\n",
    "bed_width = 250\n",
    "bed_height = 210\n",
    "n_layers_in_block = 3\n",
    "\n",
    "gen = G_code_generator(printing_params=printing_params)\n",
    "\n",
    "point0, point1 = [10,w+5, z_offset], [L-10,w+5, z_offset]\n",
    "g_code += gen.move_to_point(point0[0:2], point0[2] + printing_params['nozzle_lift'], comment='Move to start point')\n",
    "g_code += gen.move_to_point(point0[0:2], point0[2], comment='Lower Nozzle')\n",
    "g_code += gen.unretract()\n",
    "g_code += gen._print_line(\n",
    "        point0=point0,\n",
    "        point1=point1,\n",
    "        move_to_start=False, # move to start point without extruding\n",
    "        extrude_factor=printing_params['extrude_factor']*2,\n",
    "        comment=comment)\n",
    "g_code += gen.retract()\n",
    "g_code += gen.wipe(np.pi) # Wipe the nozzle horizontally\n",
    "\n",
    "\n",
    "g_code_new, _ =gen.print_cuboid([[0,0],[L*.2, w]],z_start = z_offset, height = printing_params['layer_height']*n_layers_in_block, extrude_factor=printing_params['extrude_factor'])\n",
    "for key, value in g_code_new.items():\n",
    "    g_code += value\n",
    "g_code_new, _=gen.print_cuboid([[L*.8, 0],[L, w]],z_start = z_offset, height = printing_params['layer_height']*n_layers_in_block, extrude_factor=printing_params['extrude_factor'])\n",
    "for key, value in g_code_new.items():\n",
    "    g_code += value\n",
    "for parallel_line in parallel_lines:\n",
    "    g_code += print_parallel_line(parallel_line, ef0=ef0, ef1=ef1, comment=comment)\n",
    "\n",
    "g_code_new, _=gen.print_cuboid([[0,0],[L*.2, w]],z_start = printing_params['layer_height']*n_layers_in_block + z_offset + z_offset_top_blocks, height = printing_params['layer_height']*n_layers_in_block, extrude_factor=printing_params['extrude_factor'])\n",
    "for key, value in g_code_new.items():\n",
    "    g_code += value\n",
    "g_code_new, _=gen.print_cuboid([[L*.8, 0],[L, w]],z_start = printing_params['layer_height']*n_layers_in_block + z_offset + z_offset_top_blocks, height = printing_params['layer_height']*n_layers_in_block, extrude_factor=printing_params['extrude_factor'])\n",
    "for key, value in g_code_new.items():\n",
    "    g_code += value\n",
    "\n",
    "g_code += end_gcode\n",
    "\n",
    "\n",
    "# model_name = 'Pull_samples'\n",
    "model_name = 'Pull_samples_lower_top_blocks'\n",
    "with open(os.path.join(BYU_UW_root, 'GCODE', model_name + '.gcode'), \"w\") as g_code_file:\n",
    "    g_code_file.write(g_code)\n",
    "print('G-code generated')"
   ]
  },
  {
   "cell_type": "markdown",
   "metadata": {},
   "source": [
    "# Pull samples matching Calebs samples"
   ]
  },
  {
   "cell_type": "code",
   "execution_count": 16,
   "metadata": {},
   "outputs": [
    {
     "name": "stdout",
     "output_type": "stream",
     "text": [
      "G-code generated\n"
     ]
    }
   ],
   "source": [
    "printing_params = load_params(r'DATA/NT_Eel_0.2mm_og.json')\n",
    "start_gcode     = open(r'DATA/start_gcode.gcode', 'r').read()\n",
    "end_gcode       = open(r'DATA/end_gcode.gcode', 'r').read()\n",
    "\n",
    "temperature_settings = {'first_layer_bed_temperature': 65, 'first_layer_temperature':205, 'K-factor': 0.20}\n",
    "g_code = replace_brackets(start_gcode, temperature_settings)\n",
    "\n",
    "g_code += \"\\n \\n ;The the cross sectional area of the pull sample is 12 passes * 0.078294515mm^2  = 0.93953418 mm^2\\n \\n\"\n",
    "\n",
    "L, W = 150, 5\n",
    "rectangle = [[0,0], [L, W]]\n",
    "ef = printing_params['extrude_factor']\n",
    "\n",
    "# Victoria asked me to add a small additional offset. I think you shouldn't need this if the printing bed is properly calibrated, please set it to zero if you don't need it.\n",
    "additional_offset = printing_params['layer_height']/5\n",
    "z_offset = printing_params['layer_height'] + additional_offset\n",
    "\n",
    "# Initialize the G-code generator\n",
    "gen = G_code_generator(printing_params=printing_params)\n",
    "\n",
    "# Add a purge line:\n",
    "point0, point1 = [10,W+5, z_offset], [L-10,W+5, z_offset]\n",
    "g_code += gen.move_to_point(point0[0:2], point0[2] + printing_params['nozzle_lift'], comment='Move to start point')\n",
    "g_code += gen.move_to_point(point0[0:2], point0[2], comment='Lower Nozzle')\n",
    "g_code += gen.unretract()\n",
    "g_code += gen._print_line(\n",
    "        point0=point0,\n",
    "        point1=point1,\n",
    "        move_to_start=False, # move to start point without extruding\n",
    "        extrude_factor=printing_params['extrude_factor']*2,\n",
    "        comment=comment)\n",
    "g_code += gen.retract()\n",
    "g_code += gen.wipe(np.pi) # Wipe the nozzle horizontally\n",
    "\n",
    "# Print the pull sample\n",
    "# g_code += gen.print_surface(surface=rectangle, infill_angle=0, overlap_factor=0.25, z=printing_params['layer_height'] + additional_offset, extrude_factor=ef, comment= '')\n",
    "g_code += gen.print_surface(surface=rectangle, infill_angle=0, overlap_factor=0., z=printing_params['layer_height'] + additional_offset, extrude_factor=ef, comment= '')\n",
    "\n",
    "# model_name = 'Pull_samples'\n",
    "model_name = 'Pull_samples_BYU'\n",
    "with open(os.path.join(BYU_UW_root, 'GCODE', model_name + '.gcode'), \"w\") as g_code_file:\n",
    "    g_code_file.write(g_code)\n",
    "print('G-code generated')"
   ]
  }
 ],
 "metadata": {
  "kernelspec": {
   "display_name": "base",
   "language": "python",
   "name": "python3"
  },
  "language_info": {
   "codemirror_mode": {
    "name": "ipython",
    "version": 3
   },
   "file_extension": ".py",
   "mimetype": "text/x-python",
   "name": "python",
   "nbconvert_exporter": "python",
   "pygments_lexer": "ipython3",
   "version": "3.12.3"
  }
 },
 "nbformat": 4,
 "nbformat_minor": 2
}
