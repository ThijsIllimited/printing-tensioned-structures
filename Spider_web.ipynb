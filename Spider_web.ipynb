{
 "cells": [
  {
   "cell_type": "code",
   "execution_count": 1,
   "metadata": {},
   "outputs": [],
   "source": [
    "import numpy as np\n",
    "import pickle\n",
    "import pandas as pd\n",
    "\n",
    "# G-code generation codes are cloned from https://github.com/tibor-barsi/GcodeGenerator. Tibor Barsi is the author of the code, and was a PhD student at the Ladisk lab of the University of Ljubljana\n",
    "#  We should be careful with crediting the author of the code, if we ever want to make these code public.\n",
    "from src.g_code_generation_copy.gcode_generator import G_code_generator\n",
    "from src.g_code_generation_copy.tool_changer_functions import save_params, load_params, printer_start, load_tool, unload_tool, tool_change, take_photo, play_sound, printer_stop\n",
    "# from src.additional_functions import *\n",
    "from src.network import Network_custom, replace_brackets\n",
    "import os\n",
    "\n",
    "from src.src.uw_spider.fd import FD_Network\n",
    "\n",
    "BYU_UW_root = r\"G:\\.shortcut-targets-by-id\\1k1B8zPb3T8H7y6x0irFZnzzmfQPHMRPx\\Illimited Lab Projects\\Research Projects\\Spiders\\BYU-UW\"\n"
   ]
  },
  {
   "cell_type": "code",
   "execution_count": 2,
   "metadata": {},
   "outputs": [],
   "source": [
    "# model_name = \"Web_spirals_r56_s19\"\n",
    "model_name = \"Web_constant_length\"\n",
    "ecc = 2\n",
    "gap = 0\n",
    "spider_root = r\"C:\\Users\\thijs\\Documents\\GitHub\\uw_spider\"\n",
    "spider_path = os.path.join(spider_root, 'data', 'networks', \"Constraint\", model_name, model_name + f\"_ecc{ecc}_gap{gap}_constraint.json\")\n",
    "\n",
    "net = FD_Network.from_json(spider_path)"
   ]
  },
  {
   "cell_type": "code",
   "execution_count": 3,
   "metadata": {},
   "outputs": [
    {
     "name": "stdout",
     "output_type": "stream",
     "text": [
      "tikz_image_colormap.tex generated successfully.\n"
     ]
    }
   ],
   "source": [
    "import matplotlib.pyplot as plt\n",
    "\n",
    "tex_lines = [r\"\\begin{tikzpicture}\"]\n",
    "\n",
    "# Compute min and max force values without storing them in a list\n",
    "f_min, f_max = float(\"inf\"), float(\"-inf\")\n",
    "for key in net.edges:\n",
    "    f = net.f[key]\n",
    "    if f < f_min:\n",
    "        f_min = f\n",
    "    if f > f_max:\n",
    "        f_max = f\n",
    "\n",
    "cmap = plt.get_cmap(\"viridis\")  # Choose a colormap\n",
    "\n",
    "gamma = 3  # Adjust this value to control the sensitivity to smaller values\n",
    "\n",
    "for key, edge in net.edges.items():\n",
    "    v0, v1 = edge\n",
    "    f = net.f[key]\n",
    "    coor0, coor1 = net.vertex_xyz(v0), net.vertex_xyz(v1)\n",
    "\n",
    "    # Normalize force\n",
    "    norm_f = (f - f_min) / (f_max - f_min) if f_max > f_min else 0.5\n",
    "\n",
    "    # Apply gamma correction\n",
    "    norm_f = norm_f**gamma  \n",
    "\n",
    "    # Rescale back to [0,1] using Min-Max scaling\n",
    "    min_gamma = f_min**gamma if f_min > 0 else 0  # Avoid issues with negative forces\n",
    "    max_gamma = f_max**gamma if f_max > 0 else 1\n",
    "\n",
    "    norm_f = (norm_f - min_gamma) / (max_gamma - min_gamma) if max_gamma > min_gamma else 0.5\n",
    "\n",
    "\n",
    "    # Get RGB color from colormap\n",
    "    r, g, b, _ = cmap(norm_f)\n",
    "\n",
    "    tex_lines.append(fr\"\"\"\n",
    "    \\definecolor{{edge{key}}}{{rgb}}{{{r:.3f},{g:.3f},{b:.3f}}}\n",
    "    \\draw[color=edge{key}] \n",
    "        ({coor0[0]/10:.3f}, {coor0[1]/10:.3f}) -- \n",
    "        ({coor1[0]/10:.3f}, {coor1[1]/10:.3f});\n",
    "    \"\"\")\n",
    "\n",
    "tex_lines.append(r\"\\end{tikzpicture}\")\n",
    "\n",
    "# Write the file efficiently\n",
    "with open(\"tikz_image_web.tex\", \"w\") as f:\n",
    "    f.write(\"\\n\".join(tex_lines))\n",
    "\n",
    "print(\"tikz_image_colormap.tex generated successfully.\")\n"
   ]
  },
  {
   "cell_type": "code",
   "execution_count": 4,
   "metadata": {},
   "outputs": [
    {
     "name": "stdout",
     "output_type": "stream",
     "text": [
      "tikz_image_colormap.tex generated successfully.\n"
     ]
    }
   ],
   "source": [
    "print_order = ['Frame_ring_keys', 'Radials_keys + connections', 'Spiral_center_keys', 'Spiral_catching_keys + UTurn_keys']\n",
    "section_names = ['Frame_ring', 'Spiral_center', 'Frame_sec', 'Radials_keys', 'Spiral_catching', 'UTurn_keys']\n",
    "All_sections_nonuniform = [net.Frame_ring_keys, net.Spiral_center_keys, net.Frame_sec_keys, net.Radials_keys, net.Spiral_catching_keys, net.UTurn_keys]\n",
    "\n",
    "import matplotlib.pyplot as plt\n",
    "netf = Network_custom()\n",
    "tex_lines = [r\"\\begin{tikzpicture}\"]\n",
    "\n",
    "\n",
    "for section in All_sections_nonuniform:\n",
    "    counter = 0\n",
    "    for key, edge_key in reversed(section.items()):\n",
    "        if edge_key in section_names:\n",
    "            continue\n",
    "        counter += 1\n",
    "        edge = net.edges[edge_key]\n",
    "        v0, v1 = edge\n",
    "        R = net.R[edge_key]\n",
    "        theta = net.th[edge_key]\n",
    "\n",
    "        if counter %2 == 0:\n",
    "            direction = 1\n",
    "        else:\n",
    "            direction = -1\n",
    "\n",
    "        coor0, coor1 = net.vertex_xyz(v0), net.vertex_xyz(v1)\n",
    "        center, theta0, theta1 = netf._points_on_arc(coor0[:2], coor1[:2], R, print_parameters = True, dir=direction)\n",
    "        if R/10 > 10000:\n",
    "            tex_lines.append(fr\"\"\"\n",
    "            \\draw[line width=0.5pt, color=black]\n",
    "            \n",
    "                ({coor0[0]/10:.3f}, {coor0[1]/10:.3f}) -- \n",
    "                ({coor1[0]/10:.3f}, {coor1[1]/10:.3f});\n",
    "            \"\"\")\n",
    "        elif theta0 > theta1:\n",
    "            tex_lines.append(fr\"\"\"\n",
    "            \\draw ({coor0[0]/10:.3f}, {coor0[1]/10:.3f}) arc ({theta0*180/np.pi:.3f}:{theta1*180/np.pi:.3f}:{R/10:.3f});\"\"\")\n",
    "        else:\n",
    "            tex_lines.append(fr\"\"\"\n",
    "            \\draw ({coor1[0]/10:.3f}, {coor1[1]/10:.3f}) arc ({theta1*180/np.pi:.3f}:{theta0*180/np.pi:.3f}:{R/10:.3f});\"\"\")\n",
    "\n",
    "tex_lines.append(r\"\\end{tikzpicture}\")\n",
    "\n",
    "# Write the file efficiently\n",
    "with open(\"tikz_image_web_arc.tex\", \"w\") as f:\n",
    "    f.write(\"\\n\".join(tex_lines))\n",
    "\n",
    "print(\"tikz_image_colormap.tex generated successfully.\")\n"
   ]
  },
  {
   "cell_type": "code",
   "execution_count": 6,
   "metadata": {},
   "outputs": [],
   "source": [
    "file_name_gcode = \"Web_constant_length_ecc2_new.gcode\"\n",
    "gcode_path = os.path.join(spider_root, \"data\", \"gcode\", file_name_gcode)\n",
    "\n",
    "vertices_g = netf.read_gcode(gcode_path)"
   ]
  },
  {
   "cell_type": "code",
   "execution_count": 8,
   "metadata": {},
   "outputs": [
    {
     "ename": "AttributeError",
     "evalue": "'Network_custom' object has no attribute 'tikz_string_vertices'",
     "output_type": "error",
     "traceback": [
      "\u001b[1;31m---------------------------------------------------------------------------\u001b[0m",
      "\u001b[1;31mAttributeError\u001b[0m                            Traceback (most recent call last)",
      "Cell \u001b[1;32mIn[8], line 1\u001b[0m\n\u001b[1;32m----> 1\u001b[0m tikz_text \u001b[38;5;241m=\u001b[39m \u001b[43mnetf\u001b[49m\u001b[38;5;241;43m.\u001b[39;49m\u001b[43mtikz_string_vertices\u001b[49m(vertices_g, scale\u001b[38;5;241m=\u001b[39m\u001b[38;5;241m10\u001b[39m)\n",
      "\u001b[1;31mAttributeError\u001b[0m: 'Network_custom' object has no attribute 'tikz_string_vertices'"
     ]
    }
   ],
   "source": [
    "tikz_text = netf.tikz_string_vertices(vertices_g, scale=10)"
   ]
  },
  {
   "cell_type": "markdown",
   "metadata": {},
   "source": []
  }
 ],
 "metadata": {
  "kernelspec": {
   "display_name": "base",
   "language": "python",
   "name": "python3"
  },
  "language_info": {
   "codemirror_mode": {
    "name": "ipython",
    "version": 3
   },
   "file_extension": ".py",
   "mimetype": "text/x-python",
   "name": "python",
   "nbconvert_exporter": "python",
   "pygments_lexer": "ipython3",
   "version": "3.12.3"
  }
 },
 "nbformat": 4,
 "nbformat_minor": 2
}
