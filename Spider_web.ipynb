{
 "cells": [
  {
   "cell_type": "code",
   "execution_count": 8,
   "metadata": {},
   "outputs": [],
   "source": [
    "import numpy as np\n",
    "import pickle\n",
    "import pandas as pd\n",
    "\n",
    "# G-code generation codes are cloned from https://github.com/tibor-barsi/GcodeGenerator. Tibor Barsi is the author of the code, and was a PhD student at the Ladisk lab of the University of Ljubljana\n",
    "#  We should be careful with crediting the author of the code, if we ever want to make these code public.\n",
    "from src.g_code_generation_copy.gcode_generator import G_code_generator\n",
    "from src.g_code_generation_copy.tool_changer_functions import save_params, load_params, printer_start, load_tool, unload_tool, tool_change, take_photo, play_sound, printer_stop\n",
    "# from src.additional_functions import *\n",
    "from src.network import Network_custom, replace_brackets\n",
    "import os\n",
    "\n",
    "from src.src.uw_spider.fd import FD_Network\n",
    "\n",
    "BYU_UW_root = r\"G:\\.shortcut-targets-by-id\\1k1B8zPb3T8H7y6x0irFZnzzmfQPHMRPx\\Illimited Lab Projects\\Research Projects\\Spiders\\BYU-UW\"\n",
    "\n",
    "import plotly.io as pio\n",
    "pio.renderers.default = 'browser'\n"
   ]
  },
  {
   "cell_type": "markdown",
   "metadata": {},
   "source": [
    "eccentricity = $(\\textnormal{upper}-\\textnormal{lower})/(\\textnormal{upper}+\\textnormal{lower})$\n",
    "narrowness = $\\sqrt{1-(L_{\\text{hor}}/L_{\\text{vert}})^2}$, set negative if $L_{\\text{hor}} > L_{\\text{vert}}$"
   ]
  },
  {
   "cell_type": "code",
   "execution_count": 9,
   "metadata": {},
   "outputs": [
    {
     "data": {
      "text/plain": [
       "(array([ 0.02781457, -0.18141871, -0.26060606]),\n",
       " array([0.07273923, 0.48056026, 0.63767801]),\n",
       " array([False, False, False]))"
      ]
     },
     "execution_count": 9,
     "metadata": {},
     "output_type": "execute_result"
    }
   ],
   "source": [
    "Heigths = np.array([76+75, 77.3+82, 80+85])\n",
    "Widths = np.array([75+75.6, 68+71.7, 62.8+64.3])\n",
    "tops = np.array([76+1.6, 77.3-12.1, 80-19])\n",
    "bottoms = np.array([75+-1.6, 82+12.1, 85+19])\n",
    "\n",
    "ecc = (tops-bottoms)/(tops+bottoms)\n",
    "nar = np.sqrt(1 - (Widths/Heigths)**2)\n",
    "ecc, nar, Widths>Heigths"
   ]
  },
  {
   "cell_type": "code",
   "execution_count": 24,
   "metadata": {},
   "outputs": [],
   "source": [
    "# model_name = \"Web_spirals_r56_s19\"\n",
    "model_name = \"Web_constant_length\"\n",
    "ecc = 1\n",
    "gap = 0\n",
    "spider_root = r\"C:\\Users\\thijs\\Documents\\GitHub\\uw_spider\"\n",
    "spider_path = os.path.join(spider_root, 'data', 'networks', \"Constraint\", model_name, model_name + f\"_ecc{ecc}_gap{gap}_constraint.json\")\n",
    "\n",
    "net = FD_Network.from_json(spider_path)\n",
    "net.plotly_net_plot()\n",
    "\n",
    "net_copy = Network_custom.direct(np.array(net.vertex_list()), net.edges_list(), net.q_list(), net.fixed)"
   ]
  },
  {
   "cell_type": "markdown",
   "metadata": {},
   "source": [
    "Let's see if the optimization works for this case"
   ]
  },
  {
   "cell_type": "code",
   "execution_count": 4,
   "metadata": {},
   "outputs": [
    {
     "name": "stdout",
     "output_type": "stream",
     "text": [
      "Iteration 0: Current error = 4.646419899372911\n",
      "Iteration 100: Current error = 0.5189640110575123\n",
      "Iteration 200: Current error = 0.3618222028904645\n",
      "Iteration 300: Current error = 0.3038240329648949\n",
      "Iteration 400: Current error = 0.2707109014601424\n",
      "Iteration 500: Current error = 0.24793686506496956\n",
      "Iteration 600: Current error = 0.2306561204815458\n",
      "Iteration 700: Current error = 0.21684515484768296\n",
      "Iteration 800: Current error = 0.20530913777538687\n",
      "Iteration 900: Current error = 0.1955589412372597\n",
      "Iteration 1000: Current error = 0.18704142434178173\n"
     ]
    },
    {
     "ename": "KeyboardInterrupt",
     "evalue": "",
     "output_type": "error",
     "traceback": [
      "\u001b[1;31m---------------------------------------------------------------------------\u001b[0m",
      "\u001b[1;31mKeyboardInterrupt\u001b[0m                         Traceback (most recent call last)",
      "Cell \u001b[1;32mIn[4], line 15\u001b[0m\n\u001b[0;32m     13\u001b[0m net_copy\u001b[38;5;241m.\u001b[39minitialize_shape_optimizer(function_type \u001b[38;5;241m=\u001b[39m \u001b[38;5;124m'\u001b[39m\u001b[38;5;124mstandard\u001b[39m\u001b[38;5;124m'\u001b[39m,  method \u001b[38;5;241m=\u001b[39m \u001b[38;5;124m'\u001b[39m\u001b[38;5;124mGauss-Seidel\u001b[39m\u001b[38;5;124m'\u001b[39m,options \u001b[38;5;241m=\u001b[39m{\u001b[38;5;124m\"\u001b[39m\u001b[38;5;124mmaxiter\u001b[39m\u001b[38;5;124m\"\u001b[39m: \u001b[38;5;241m100000\u001b[39m, \u001b[38;5;124m\"\u001b[39m\u001b[38;5;124mdamping\u001b[39m\u001b[38;5;124m\"\u001b[39m: \u001b[38;5;241m.1\u001b[39m, \u001b[38;5;124m'\u001b[39m\u001b[38;5;124mcorrection_scalar\u001b[39m\u001b[38;5;124m'\u001b[39m: correction_scalar})\n\u001b[0;32m     14\u001b[0m \u001b[38;5;66;03m# net_copy.initialize_shape_optimizer(function_type = \"no optimization\")\u001b[39;00m\n\u001b[1;32m---> 15\u001b[0m \u001b[43mnet_copy\u001b[49m\u001b[38;5;241;43m.\u001b[39;49m\u001b[43moptimize_vertices\u001b[49m\u001b[43m(\u001b[49m\u001b[43m)\u001b[49m\n",
      "File \u001b[1;32mc:\\Users\\thijs\\Documents\\GitHub\\printing-tensioned-structures\\src\\network.py:354\u001b[0m, in \u001b[0;36mNetwork_custom.optimize_vertices\u001b[1;34m(self)\u001b[0m\n\u001b[0;32m    340\u001b[0m \u001b[38;5;250m\u001b[39m\u001b[38;5;124;03m\"\"\"Find and update the optimal vertices of the network based on the error function.\u001b[39;00m\n\u001b[0;32m    341\u001b[0m \u001b[38;5;124;03mparameters:\u001b[39;00m\n\u001b[0;32m    342\u001b[0m \u001b[38;5;124;03merror_function: function\u001b[39;00m\n\u001b[1;32m   (...)\u001b[0m\n\u001b[0;32m    351\u001b[0m \u001b[38;5;124;03mNothing. The vertices are updated in place.\u001b[39;00m\n\u001b[0;32m    352\u001b[0m \u001b[38;5;124;03m\"\"\"\u001b[39;00m\n\u001b[0;32m    353\u001b[0m \u001b[38;5;28mself\u001b[39m\u001b[38;5;241m.\u001b[39mvertices_optimized \u001b[38;5;241m=\u001b[39m  np\u001b[38;5;241m.\u001b[39mzeros_like(\u001b[38;5;28mself\u001b[39m\u001b[38;5;241m.\u001b[39mvertices)\n\u001b[1;32m--> 354\u001b[0m \u001b[38;5;28mself\u001b[39m\u001b[38;5;241m.\u001b[39mvertices_optimized[\u001b[38;5;241m.\u001b[39m\u001b[38;5;241m.\u001b[39m\u001b[38;5;241m.\u001b[39m,:\u001b[38;5;241m2\u001b[39m], \u001b[38;5;28mself\u001b[39m\u001b[38;5;241m.\u001b[39ml1, \u001b[38;5;28mself\u001b[39m\u001b[38;5;241m.\u001b[39mresult \u001b[38;5;241m=\u001b[39m \u001b[38;5;28;43mself\u001b[39;49m\u001b[38;5;241;43m.\u001b[39;49m\u001b[43mShapeOptimizer\u001b[49m\u001b[38;5;241;43m.\u001b[39;49m\u001b[43moptimal_vertices\u001b[49m\u001b[43m(\u001b[49m\u001b[43m)\u001b[49m\n\u001b[0;32m    355\u001b[0m \u001b[38;5;28mself\u001b[39m\u001b[38;5;241m.\u001b[39ml_scalar \u001b[38;5;241m=\u001b[39m np\u001b[38;5;241m.\u001b[39mmin(\u001b[38;5;28mself\u001b[39m\u001b[38;5;241m.\u001b[39ml0\u001b[38;5;241m/\u001b[39m\u001b[38;5;28mself\u001b[39m\u001b[38;5;241m.\u001b[39ml1)\n",
      "File \u001b[1;32mc:\\Users\\thijs\\Documents\\GitHub\\printing-tensioned-structures\\src\\shapeoptimizer.py:125\u001b[0m, in \u001b[0;36mShapeOptimizer.optimal_vertices\u001b[1;34m(self, initial_guess)\u001b[0m\n\u001b[0;32m    122\u001b[0m \u001b[38;5;66;03m# Minimize the error\u001b[39;00m\n\u001b[0;32m    124\u001b[0m \u001b[38;5;28;01mif\u001b[39;00m \u001b[38;5;28mself\u001b[39m\u001b[38;5;241m.\u001b[39mmethod \u001b[38;5;241m==\u001b[39m \u001b[38;5;124m'\u001b[39m\u001b[38;5;124mGauss-Seidel\u001b[39m\u001b[38;5;124m'\u001b[39m:\n\u001b[1;32m--> 125\u001b[0m     coord \u001b[38;5;241m=\u001b[39m \u001b[38;5;28;43mself\u001b[39;49m\u001b[38;5;241;43m.\u001b[39;49m\u001b[43mgauss_seidel_form_finding\u001b[49m\u001b[43m(\u001b[49m\u001b[43minitial_guess\u001b[49m\u001b[43m,\u001b[49m\u001b[43m \u001b[49m\u001b[38;5;28;43mself\u001b[39;49m\u001b[38;5;241;43m.\u001b[39;49m\u001b[43moptions\u001b[49m\u001b[43m)\u001b[49m\n\u001b[0;32m    126\u001b[0m     l1 \u001b[38;5;241m=\u001b[39m np\u001b[38;5;241m.\u001b[39marray([np\u001b[38;5;241m.\u001b[39mlinalg\u001b[38;5;241m.\u001b[39mnorm(coord[i] \u001b[38;5;241m-\u001b[39m coord[j]) \u001b[38;5;28;01mfor\u001b[39;00m i, j \u001b[38;5;129;01min\u001b[39;00m \u001b[38;5;28mself\u001b[39m\u001b[38;5;241m.\u001b[39medges])\n\u001b[0;32m    127\u001b[0m     \u001b[38;5;28;01mreturn\u001b[39;00m coord\u001b[38;5;241m.\u001b[39mreshape(\u001b[38;5;241m-\u001b[39m\u001b[38;5;241m1\u001b[39m, \u001b[38;5;241m2\u001b[39m), l1, \u001b[38;5;28;01mNone\u001b[39;00m\n",
      "File \u001b[1;32mc:\\Users\\thijs\\Documents\\GitHub\\printing-tensioned-structures\\src\\shapeoptimizer.py:184\u001b[0m, in \u001b[0;36mShapeOptimizer.gauss_seidel_form_finding\u001b[1;34m(self, initial_guess, options)\u001b[0m\n\u001b[0;32m    182\u001b[0m \u001b[38;5;28;01mfor\u001b[39;00m _ \u001b[38;5;129;01min\u001b[39;00m \u001b[38;5;28mrange\u001b[39m(max_iter):\n\u001b[0;32m    183\u001b[0m     random_order \u001b[38;5;241m=\u001b[39m np\u001b[38;5;241m.\u001b[39mrandom\u001b[38;5;241m.\u001b[39mpermutation(\u001b[38;5;28mlen\u001b[39m(\u001b[38;5;28mself\u001b[39m\u001b[38;5;241m.\u001b[39medges))\n\u001b[1;32m--> 184\u001b[0m     \u001b[38;5;28;01mfor\u001b[39;00m (i, j), L_ij \u001b[38;5;129;01min\u001b[39;00m \u001b[38;5;28;43mzip\u001b[39;49m\u001b[43m(\u001b[49m\u001b[38;5;28;43mself\u001b[39;49m\u001b[38;5;241;43m.\u001b[39;49m\u001b[43medges\u001b[49m\u001b[43m[\u001b[49m\u001b[43mrandom_order\u001b[49m\u001b[43m]\u001b[49m\u001b[43m,\u001b[49m\u001b[43m \u001b[49m\u001b[38;5;28;43mself\u001b[39;49m\u001b[38;5;241;43m.\u001b[39;49m\u001b[43ml0\u001b[49m\u001b[43m[\u001b[49m\u001b[43mrandom_order\u001b[49m\u001b[43m]\u001b[49m\u001b[43m)\u001b[49m:\n\u001b[0;32m    185\u001b[0m         diff \u001b[38;5;241m=\u001b[39m coords[i] \u001b[38;5;241m-\u001b[39m coords[j]\n\u001b[0;32m    186\u001b[0m         dist \u001b[38;5;241m=\u001b[39m np\u001b[38;5;241m.\u001b[39mlinalg\u001b[38;5;241m.\u001b[39mnorm(diff)\n",
      "\u001b[1;31mKeyboardInterrupt\u001b[0m: "
     ]
    }
   ],
   "source": [
    "file_path = os.path.join(BYU_UW_root, 'Tensile Testing', 'Avg_Stress_Strain_Overture_TPU_1mm2.csv')\n",
    "stress_data, strain_data = net_copy.load_stress_strain_curve(file_path, A_scale = 1.0)\n",
    "\n",
    "TPU_nl = {'stress':strain_data, 'strain': stress_data, 'v':0.3897, 'p':1.18e-9, 'A': 0.078294515, 'name': 'TPU Overture'} # TPU Overture non-conductive\n",
    "\n",
    "A = [TPU_nl['A']]*len(net.edges)\n",
    "l0, l_scalar = net_copy.materialize_nonlinear(A, stress_data, strain_data, interpolation_kind = 'cubic')\n",
    "# Yielding the initial lengths of each element. And the following scalar: min(l0/l1)\n",
    "# net.l0, net.l_scalar\n",
    "\n",
    "\n",
    "correction_scalar = 1\n",
    "net_copy.initialize_shape_optimizer(function_type = 'standard',  method = 'Gauss-Seidel',options ={\"maxiter\": 100000, \"damping\": .1, 'correction_scalar': correction_scalar})\n",
    "# net_copy.initialize_shape_optimizer(function_type = \"no optimization\")\n",
    "net_copy.optimize_vertices()"
   ]
  },
  {
   "cell_type": "code",
   "execution_count": null,
   "metadata": {},
   "outputs": [],
   "source": [
    "%matplotlib qt\n",
    "net_copy.net_plot()\n",
    "import matplotlib.animation as animation\n",
    "ani = net_copy.ShapeOptimizer.animate_optimization()\n",
    "writer = animation.FFMpegWriter(fps=15)\n",
    "ani.save(os.path.join(BYU_UW_root, 'images', 'form finding animations', f'form_finding_{model_name}_{0}.mp4'), writer=writer)"
   ]
  },
  {
   "cell_type": "code",
   "execution_count": 11,
   "metadata": {},
   "outputs": [
    {
     "name": "stdout",
     "output_type": "stream",
     "text": [
      "0.9684234284513996\n"
     ]
    },
    {
     "ename": "AttributeError",
     "evalue": "'Network_custom' object has no attribute 'l_scalar'",
     "output_type": "error",
     "traceback": [
      "\u001b[1;31m---------------------------------------------------------------------------\u001b[0m",
      "\u001b[1;31mAttributeError\u001b[0m                            Traceback (most recent call last)",
      "Cell \u001b[1;32mIn[11], line 3\u001b[0m\n\u001b[0;32m      1\u001b[0m \u001b[38;5;28mprint\u001b[39m(l_scalar)\n\u001b[0;32m      2\u001b[0m reference_point \u001b[38;5;241m=\u001b[39m [\u001b[38;5;241m0\u001b[39m,\u001b[38;5;241m0\u001b[39m,\u001b[38;5;241m0\u001b[39m] \n\u001b[1;32m----> 3\u001b[0m net_copy\u001b[38;5;241m.\u001b[39mscale_vertices(reference_point, \u001b[43mnet_copy\u001b[49m\u001b[38;5;241;43m.\u001b[39;49m\u001b[43ml_scalar\u001b[49m, account_for_leafs\u001b[38;5;241m=\u001b[39m\u001b[38;5;28;01mFalse\u001b[39;00m) \u001b[38;5;66;03m# If you don't provide a scalar, it will use network.l_scalar automatically. Note, that in this particular case, there are no leafs, so the last argument is not necessary.\u001b[39;00m\n\u001b[0;32m      5\u001b[0m \u001b[38;5;66;03m#  You can plot the scaled network like this\u001b[39;00m\n\u001b[0;32m      6\u001b[0m \u001b[38;5;66;03m# net.net_plot(color=True, plot_type='scaled')\u001b[39;00m\n\u001b[0;32m      7\u001b[0m \n\u001b[0;32m      8\u001b[0m \u001b[38;5;66;03m# Determine the Radius and Angle of the circle that define the arc of each element\u001b[39;00m\n\u001b[0;32m      9\u001b[0m R, th \u001b[38;5;241m=\u001b[39m net_copy\u001b[38;5;241m.\u001b[39marc_param()\n",
      "\u001b[1;31mAttributeError\u001b[0m: 'Network_custom' object has no attribute 'l_scalar'"
     ]
    }
   ],
   "source": [
    "print(l_scalar)\n",
    "reference_point = [0,0,0] \n",
    "net_copy.scale_vertices(reference_point, net_copy.l_scalar, account_for_leafs=False) # If you don't provide a scalar, it will use network.l_scalar automatically. Note, that in this particular case, there are no leafs, so the last argument is not necessary.\n",
    "\n",
    "#  You can plot the scaled network like this\n",
    "# net.net_plot(color=True, plot_type='scaled')\n",
    "\n",
    "# Determine the Radius and Angle of the circle that define the arc of each element\n",
    "R, th = net_copy.arc_param()\n",
    "# for the arc length (net.l1 * net.l_scalar) is used unless specified otherwise, for the cord length (net.l0) is used unless specified otherwise\n",
    "xyz = net_copy.arc_points(n = 9) \n",
    "\n",
    "net_copy.net_plot(color=True, plot_type='arcs', elables=False)\n",
    "net_copy.l_scalar, 1/np.min(R)"
   ]
  },
  {
   "cell_type": "code",
   "execution_count": 6,
   "metadata": {},
   "outputs": [
    {
     "data": {
      "text/plain": [
       "([49, 14], [49, 14])"
      ]
     },
     "execution_count": 6,
     "metadata": {},
     "output_type": "execute_result"
    }
   ],
   "source": [
    "net.edges_list()[50], net.edges[50]"
   ]
  },
  {
   "cell_type": "code",
   "execution_count": 12,
   "metadata": {},
   "outputs": [
    {
     "ename": "AttributeError",
     "evalue": "'FD_Network' object has no attribute 'direction'",
     "output_type": "error",
     "traceback": [
      "\u001b[1;31m---------------------------------------------------------------------------\u001b[0m",
      "\u001b[1;31mAttributeError\u001b[0m                            Traceback (most recent call last)",
      "Cell \u001b[1;32mIn[12], line 2\u001b[0m\n\u001b[0;32m      1\u001b[0m \u001b[38;5;66;03m# Get the list of directions in the order of net.vertices keys\u001b[39;00m\n\u001b[1;32m----> 2\u001b[0m directions_ordered \u001b[38;5;241m=\u001b[39m [\u001b[43mnet\u001b[49m\u001b[38;5;241;43m.\u001b[39;49m\u001b[43mdirection\u001b[49m[key] \u001b[38;5;28;01mfor\u001b[39;00m key \u001b[38;5;129;01min\u001b[39;00m net\u001b[38;5;241m.\u001b[39medges\u001b[38;5;241m.\u001b[39mkeys()]\n\u001b[0;32m      4\u001b[0m \u001b[38;5;66;03m# Get the list of directions in the order of sorted keys\u001b[39;00m\n\u001b[0;32m      5\u001b[0m sorted_keys \u001b[38;5;241m=\u001b[39m \u001b[38;5;28msorted\u001b[39m(net\u001b[38;5;241m.\u001b[39medges\u001b[38;5;241m.\u001b[39mkeys())\n",
      "\u001b[1;31mAttributeError\u001b[0m: 'FD_Network' object has no attribute 'direction'"
     ]
    }
   ],
   "source": [
    "# Get the list of directions in the order of net.vertices keys\n",
    "directions_ordered = [net.direction[key] for key in net.edges.keys()]\n",
    "\n",
    "# Get the list of directions in the order of sorted keys\n",
    "sorted_keys = sorted(net.edges.keys())\n",
    "directions_ordered2 = [net.direction[key] for key in sorted_keys]\n",
    "\n",
    "net_copy.dir = directions_ordered2\n",
    "directions_ordered[:10], directions_ordered2[:10]"
   ]
  },
  {
   "cell_type": "code",
   "execution_count": 25,
   "metadata": {},
   "outputs": [
    {
     "name": "stdout",
     "output_type": "stream",
     "text": [
      "tikz_image_colormap.tex generated successfully.\n"
     ]
    },
    {
     "data": {
      "text/plain": [
       "(0.0007647067941128484, 0.5028963037191561)"
      ]
     },
     "execution_count": 25,
     "metadata": {},
     "output_type": "execute_result"
    }
   ],
   "source": [
    "import matplotlib.pyplot as plt\n",
    "%matplotlib qt\n",
    "tex_lines = [r\"\\begin{tikzpicture}\"]\n",
    "\n",
    "# Compute min and max force values without storing them in a list\n",
    "f_min, f_max = float(\"inf\"), float(\"-inf\")\n",
    "for key in net.edges:\n",
    "    f = net.f[key]\n",
    "    if f < f_min:\n",
    "        f_min = f\n",
    "    if f > f_max:\n",
    "        f_max = f\n",
    "\n",
    "cmap = plt.get_cmap(\"viridis\")  # Choose a colormap\n",
    "\n",
    "gamma = 3  # Adjust this value to control the sensitivity to smaller values\n",
    "fig, ax = plt.subplots(figsize=(7, 7), dpi=100)\n",
    "ax.set_aspect('equal')\n",
    "ax.axis('off')\n",
    "plt.tight_layout()\n",
    "for key, edge in net.edges.items():\n",
    "    v0, v1 = edge\n",
    "    f = net.f[key]\n",
    "    coor0, coor1 = net.vertex_xyz(v0), net.vertex_xyz(v1)\n",
    "\n",
    "    # Normalize force\n",
    "    norm_f = (f - f_min) / (f_max - f_min) if f_max > f_min else 0.5\n",
    "\n",
    "    # Apply gamma correction\n",
    "    norm_f = norm_f**gamma  \n",
    "\n",
    "    # Rescale back to [0,1] using Min-Max scaling\n",
    "    min_gamma = f_min**gamma if f_min > 0 else 0  # Avoid issues with negative forces\n",
    "    max_gamma = f_max**gamma if f_max > 0 else 1\n",
    "\n",
    "    norm_f = (norm_f - min_gamma) / (max_gamma - min_gamma) if max_gamma > min_gamma else 0.5\n",
    "\n",
    "\n",
    "    # Get RGB color from colormap\n",
    "    r, g, b, _ = cmap(norm_f)\n",
    "\n",
    "    tex_lines.append(fr\"\"\"\n",
    "    \\definecolor{{edge{key}}}{{rgb}}{{{r:.3f},{g:.3f},{b:.3f}}}\n",
    "    \\draw[color=edge{key}] \n",
    "        ({coor0[0]/10:.3f}, {coor0[1]/10:.3f}) -- \n",
    "        ({coor1[0]/10:.3f}, {coor1[1]/10:.3f});\n",
    "    \"\"\")\n",
    "    ax.plot([coor0[0], coor1[0]], [coor0[1], coor1[1]], color=(r, g, b), linewidth=1)\n",
    "\n",
    "tex_lines.append(r\"\\end{tikzpicture}\")\n",
    "\n",
    "# Write the file efficiently\n",
    "with open(f\"tikz_image_web_{ecc}.tex\", \"w\") as f:\n",
    "    f.write(\"\\n\".join(tex_lines))\n",
    "\n",
    "print(\"tikz_image_colormap.tex generated successfully.\")\n",
    "plt.savefig(f\"tikz_image_web_{ecc}.png\", dpi=300, bbox_inches='tight')\n",
    "f_min*3, f_max*3"
   ]
  },
  {
   "cell_type": "code",
   "execution_count": 17,
   "metadata": {},
   "outputs": [
    {
     "name": "stdout",
     "output_type": "stream",
     "text": [
      "tikz_image_colormap.tex generated successfully.\n"
     ]
    }
   ],
   "source": [
    "print_order = ['Frame_ring_keys', 'Radials_keys + connections', 'Spiral_center_keys', 'Spiral_catching_keys + UTurn_keys']\n",
    "section_names = ['Frame_ring', 'Spiral_center', 'Frame_sec', 'Radials_keys', 'Spiral_catching', 'UTurn_keys']\n",
    "All_sections_nonuniform = [net.Frame_ring_keys, net.Spiral_center_keys, net.Frame_sec_keys, net.Radials_keys, net.Spiral_catching_keys, net.UTurn_keys]\n",
    "\n",
    "import matplotlib.pyplot as plt\n",
    "netf = Network_custom()\n",
    "tex_lines = [r\"\\begin{tikzpicture}\"]\n",
    "\n",
    "net.direction = {}\n",
    "for section in All_sections_nonuniform:\n",
    "    counter = 0\n",
    "    for key, edge_key in reversed(section.items()):\n",
    "        if edge_key in section_names:\n",
    "            continue\n",
    "        counter += 1\n",
    "        edge = net.edges[edge_key]\n",
    "        v0, v1 = edge\n",
    "        R = net.R[edge_key]\n",
    "        theta = net.th[edge_key]\n",
    "\n",
    "        if counter %2 == 0:\n",
    "            direction = 1\n",
    "            net.direction[edge_key] = 1\n",
    "        else:\n",
    "            direction = -1\n",
    "            net.direction[edge_key] = -1\n",
    "\n",
    "        coor0, coor1 = net.vertex_xyz(v0), net.vertex_xyz(v1)\n",
    "        center, theta0, theta1 = netf._points_on_arc(coor0[:2], coor1[:2], R, print_parameters = True, dir=direction)\n",
    "        if R/10 > 10000:\n",
    "            tex_lines.append(fr\"\"\"\n",
    "            \\draw[line width=0.5pt, color=black]\n",
    "            \n",
    "                ({coor0[0]/10:.3f}, {coor0[1]/10:.3f}) -- \n",
    "                ({coor1[0]/10:.3f}, {coor1[1]/10:.3f});\n",
    "            \"\"\")\n",
    "        elif theta0 > theta1:\n",
    "            tex_lines.append(fr\"\"\"\n",
    "            \\draw ({coor0[0]/10:.3f}, {coor0[1]/10:.3f}) arc ({theta0*180/np.pi:.3f}:{theta1*180/np.pi:.3f}:{R/10:.3f});\"\"\")\n",
    "        else:\n",
    "            tex_lines.append(fr\"\"\"\n",
    "            \\draw ({coor1[0]/10:.3f}, {coor1[1]/10:.3f}) arc ({theta1*180/np.pi:.3f}:{theta0*180/np.pi:.3f}:{R/10:.3f});\"\"\")\n",
    "\n",
    "tex_lines.append(r\"\\end{tikzpicture}\")\n",
    "\n",
    "# Write the file efficiently\n",
    "with open(\"tikz_image_web_arc.tex\", \"w\") as f:\n",
    "    f.write(\"\\n\".join(tex_lines))\n",
    "\n",
    "print(\"tikz_image_colormap.tex generated successfully.\")\n"
   ]
  },
  {
   "cell_type": "code",
   "execution_count": null,
   "metadata": {},
   "outputs": [],
   "source": [
    "file_name_gcode = \"Web_constant_length_ecc2_new.gcode\"\n",
    "gcode_path = os.path.join(spider_root, \"data\", \"gcode\", file_name_gcode)\n",
    "\n",
    "vertices_g = netf.read_gcode(gcode_path, save_every_n=2)"
   ]
  },
  {
   "cell_type": "code",
   "execution_count": null,
   "metadata": {},
   "outputs": [],
   "source": [
    "tikz_text = netf.tikz_string_vertices(vertices_g, scale=10)\n",
    "with open(\"tikz_image_web_arc2.tex\", \"w\") as f:\n",
    "    f.write(\"\\n\".join(tikz_text))"
   ]
  },
  {
   "cell_type": "markdown",
   "metadata": {},
   "source": []
  },
  {
   "cell_type": "code",
   "execution_count": null,
   "metadata": {},
   "outputs": [],
   "source": [
    "tikz_text"
   ]
  }
 ],
 "metadata": {
  "kernelspec": {
   "display_name": "base",
   "language": "python",
   "name": "python3"
  },
  "language_info": {
   "codemirror_mode": {
    "name": "ipython",
    "version": 3
   },
   "file_extension": ".py",
   "mimetype": "text/x-python",
   "name": "python",
   "nbconvert_exporter": "python",
   "pygments_lexer": "ipython3",
   "version": "3.12.3"
  }
 },
 "nbformat": 4,
 "nbformat_minor": 2
}
