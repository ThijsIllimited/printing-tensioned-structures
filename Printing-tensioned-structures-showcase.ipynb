{
 "cells": [
  {
   "cell_type": "code",
   "execution_count": 2,
   "metadata": {},
   "outputs": [],
   "source": [
    "# Ensure you have the following installed:\n",
    "# numpy\n",
    "# os\n",
    "# compas\n",
    "# compas_fd\n",
    "# warnings\n",
    "# traceback\n",
    "# pickle\n",
    "\n",
    "# Install by running:\n",
    "# !pip install -r requirements.txt"
   ]
  },
  {
   "cell_type": "code",
   "execution_count": 3,
   "metadata": {},
   "outputs": [],
   "source": [
    "import compas_fd"
   ]
  },
  {
   "cell_type": "code",
   "execution_count": 4,
   "metadata": {},
   "outputs": [],
   "source": [
    "import numpy as np\n",
    "import pickle\n",
    "import pandas as pd\n",
    "\n",
    "# G-code generation codes are cloned from https://github.com/tibor-barsi/GcodeGenerator. Tibor Barsi is the author of the code, and was a PhD student at the Ladisk lab of the University of Ljubljana\n",
    "#  We should be careful with crediting the author of the code, if we ever want to make these code public.\n",
    "from src.g_code_generation_copy.gcode_generator import G_code_generator\n",
    "from src.g_code_generation_copy.tool_changer_functions import save_params, load_params, printer_start, load_tool, unload_tool, tool_change, take_photo, play_sound, printer_stop\n",
    "# from src.additional_functions import *\n",
    "from src.network import Network_custom, replace_brackets\n",
    "import os\n",
    "\n",
    "BYU_UW_root = r\"G:\\.shortcut-targets-by-id\\1k1B8zPb3T8H7y6x0irFZnzzmfQPHMRPx\\Illimited Lab Projects\\Research Projects\\Spiders\\BYU-UW\""
   ]
  },
  {
   "cell_type": "markdown",
   "metadata": {},
   "source": [
    "### Step 1: Define the network"
   ]
  },
  {
   "cell_type": "code",
   "execution_count": 5,
   "metadata": {},
   "outputs": [
    {
     "name": "stderr",
     "output_type": "stream",
     "text": [
      "<>:36: SyntaxWarning: invalid escape sequence '\\d'\n",
      "<>:36: SyntaxWarning: invalid escape sequence '\\d'\n",
      "C:\\Users\\thijs\\AppData\\Local\\Temp\\ipykernel_22136\\731534389.py:36: SyntaxWarning: invalid escape sequence '\\d'\n",
      "  print(\"\\draw[thick, color = {\" + f\"rgb,1:red,{r:.3f}; green,{g:.3f};blue, {b:.3f}\"+\"}];\")\n"
     ]
    },
    {
     "data": {
      "application/vnd.plotly.v1+json": {
       "config": {
        "plotlyServerURL": "https://plot.ly"
       },
       "data": [
        {
         "line": {
          "color": [
           0.6063690102221104,
           0.6063690102221104,
           0,
           0.21135132652445685,
           0.21135132652445685,
           0,
           0.21335865192690517,
           0.21335865192690517,
           0,
           0.6591979206257018,
           0.6591979206257018,
           0,
           0.6213466775445688,
           0.6213466775445688,
           0,
           0.18207673092707524,
           0.18207673092707524,
           0,
           0.22831178985496978,
           0.22831178985496978,
           0,
           0.6398457139773605,
           0.6398457139773605,
           0,
           0.2722393522111192,
           0.2722393522111192,
           0,
           0.3352682475756547,
           0.3352682475756547,
           0,
           0.3011011662758912,
           0.3011011662758912,
           0,
           0.2883411695827865,
           0.2883411695827865,
           0
          ],
          "colorbar": {
           "title": {
            "text": "Force"
           }
          },
          "colorscale": [
           [
            0,
            "#440154"
           ],
           [
            0.1111111111111111,
            "#482878"
           ],
           [
            0.2222222222222222,
            "#3e4989"
           ],
           [
            0.3333333333333333,
            "#31688e"
           ],
           [
            0.4444444444444444,
            "#26828e"
           ],
           [
            0.5555555555555556,
            "#1f9e89"
           ],
           [
            0.6666666666666666,
            "#35b779"
           ],
           [
            0.7777777777777778,
            "#6ece58"
           ],
           [
            0.8888888888888888,
            "#b5de2b"
           ],
           [
            1,
            "#fde725"
           ]
          ],
          "showscale": true,
          "width": 3
         },
         "mode": "lines",
         "type": "scatter3d",
         "x": [
          -74.24621202458749,
          -34.06261626793193,
          null,
          -34.06261626793193,
          6.156319135410579,
          null,
          6.156319135410579,
          38.427492053420856,
          null,
          38.427492053420856,
          74.24621202458749,
          null,
          -74.24621202458749,
          -35.59917519939939,
          null,
          -35.59917519939939,
          6.156319135410579,
          null,
          6.156319135410579,
          37.56782572456234,
          null,
          37.56782572456234,
          74.24621202458749,
          null,
          -34.06261626793193,
          -35.59917519939939,
          null,
          -35.59917519939939,
          38.427492053420856,
          null,
          38.427492053420856,
          37.56782572456234,
          null,
          37.56782572456234,
          -34.06261626793193,
          null
         ],
         "y": [
          74.24621202458749,
          37.012442978248785,
          null,
          37.012442978248785,
          3.252996982660171,
          null,
          3.252996982660171,
          -38.80003745575901,
          null,
          -38.80003745575901,
          -74.24621202458749,
          null,
          -74.24621202458749,
          -40.27183354235279,
          null,
          -40.27183354235279,
          3.252996982660171,
          null,
          3.252996982660171,
          36.0027660519324,
          null,
          36.0027660519324,
          74.24621202458749,
          null,
          37.012442978248785,
          -40.27183354235279,
          null,
          -40.27183354235279,
          -38.80003745575901,
          null,
          -38.80003745575901,
          36.0027660519324,
          null,
          36.0027660519324,
          37.012442978248785,
          null
         ],
         "z": [
          0,
          0,
          null,
          0,
          0,
          null,
          0,
          0,
          null,
          0,
          0,
          null,
          0,
          0,
          null,
          0,
          0,
          null,
          0,
          0,
          null,
          0,
          0,
          null,
          0,
          0,
          null,
          0,
          0,
          null,
          0,
          0,
          null,
          0,
          0,
          null
         ]
        },
        {
         "mode": "text",
         "text": [
          "0"
         ],
         "type": "scatter3d",
         "x": [
          -54.15441414625971
         ],
         "y": [
          55.62932750141814
         ],
         "z": [
          0
         ]
        },
        {
         "mode": "text",
         "text": [
          "1"
         ],
         "type": "scatter3d",
         "x": [
          -13.953148566260676
         ],
         "y": [
          20.13271998045448
         ],
         "z": [
          0
         ]
        },
        {
         "mode": "text",
         "text": [
          "2"
         ],
         "type": "scatter3d",
         "x": [
          22.291905594415717
         ],
         "y": [
          -17.77352023654942
         ],
         "z": [
          0
         ]
        },
        {
         "mode": "text",
         "text": [
          "3"
         ],
         "type": "scatter3d",
         "x": [
          56.33685203900417
         ],
         "y": [
          -56.52312474017325
         ],
         "z": [
          0
         ]
        },
        {
         "mode": "text",
         "text": [
          "4"
         ],
         "type": "scatter3d",
         "x": [
          -54.92269361199344
         ],
         "y": [
          -57.259022783470144
         ],
         "z": [
          0
         ]
        },
        {
         "mode": "text",
         "text": [
          "5"
         ],
         "type": "scatter3d",
         "x": [
          -14.721428031994407
         ],
         "y": [
          -18.509418279846308
         ],
         "z": [
          0
         ]
        },
        {
         "mode": "text",
         "text": [
          "6"
         ],
         "type": "scatter3d",
         "x": [
          21.86207242998646
         ],
         "y": [
          19.627881517296284
         ],
         "z": [
          0
         ]
        },
        {
         "mode": "text",
         "text": [
          "7"
         ],
         "type": "scatter3d",
         "x": [
          55.907018874574916
         ],
         "y": [
          55.124489038259945
         ],
         "z": [
          0
         ]
        },
        {
         "mode": "text",
         "text": [
          "8"
         ],
         "type": "scatter3d",
         "x": [
          -34.830895733665656
         ],
         "y": [
          -1.6296952820520012
         ],
         "z": [
          0
         ]
        },
        {
         "mode": "text",
         "text": [
          "9"
         ],
         "type": "scatter3d",
         "x": [
          1.414158427010733
         ],
         "y": [
          -39.535935499055896
         ],
         "z": [
          0
         ]
        },
        {
         "mode": "text",
         "text": [
          "10"
         ],
         "type": "scatter3d",
         "x": [
          37.997658888991594
         ],
         "y": [
          -1.3986357019133067
         ],
         "z": [
          0
         ]
        },
        {
         "mode": "text",
         "text": [
          "11"
         ],
         "type": "scatter3d",
         "x": [
          1.7526047283152053
         ],
         "y": [
          36.50760451509059
         ],
         "z": [
          0
         ]
        }
       ],
       "layout": {
        "scene": {
         "aspectmode": "data",
         "camera": {
          "center": {
           "x": 0,
           "y": 0,
           "z": 0
          },
          "eye": {
           "x": 0,
           "y": 0,
           "z": 3.7123106012293747
          },
          "up": {
           "x": 0,
           "y": 1,
           "z": 0
          }
         }
        },
        "template": {
         "data": {
          "bar": [
           {
            "error_x": {
             "color": "#2a3f5f"
            },
            "error_y": {
             "color": "#2a3f5f"
            },
            "marker": {
             "line": {
              "color": "#E5ECF6",
              "width": 0.5
             },
             "pattern": {
              "fillmode": "overlay",
              "size": 10,
              "solidity": 0.2
             }
            },
            "type": "bar"
           }
          ],
          "barpolar": [
           {
            "marker": {
             "line": {
              "color": "#E5ECF6",
              "width": 0.5
             },
             "pattern": {
              "fillmode": "overlay",
              "size": 10,
              "solidity": 0.2
             }
            },
            "type": "barpolar"
           }
          ],
          "carpet": [
           {
            "aaxis": {
             "endlinecolor": "#2a3f5f",
             "gridcolor": "white",
             "linecolor": "white",
             "minorgridcolor": "white",
             "startlinecolor": "#2a3f5f"
            },
            "baxis": {
             "endlinecolor": "#2a3f5f",
             "gridcolor": "white",
             "linecolor": "white",
             "minorgridcolor": "white",
             "startlinecolor": "#2a3f5f"
            },
            "type": "carpet"
           }
          ],
          "choropleth": [
           {
            "colorbar": {
             "outlinewidth": 0,
             "ticks": ""
            },
            "type": "choropleth"
           }
          ],
          "contour": [
           {
            "colorbar": {
             "outlinewidth": 0,
             "ticks": ""
            },
            "colorscale": [
             [
              0,
              "#0d0887"
             ],
             [
              0.1111111111111111,
              "#46039f"
             ],
             [
              0.2222222222222222,
              "#7201a8"
             ],
             [
              0.3333333333333333,
              "#9c179e"
             ],
             [
              0.4444444444444444,
              "#bd3786"
             ],
             [
              0.5555555555555556,
              "#d8576b"
             ],
             [
              0.6666666666666666,
              "#ed7953"
             ],
             [
              0.7777777777777778,
              "#fb9f3a"
             ],
             [
              0.8888888888888888,
              "#fdca26"
             ],
             [
              1,
              "#f0f921"
             ]
            ],
            "type": "contour"
           }
          ],
          "contourcarpet": [
           {
            "colorbar": {
             "outlinewidth": 0,
             "ticks": ""
            },
            "type": "contourcarpet"
           }
          ],
          "heatmap": [
           {
            "colorbar": {
             "outlinewidth": 0,
             "ticks": ""
            },
            "colorscale": [
             [
              0,
              "#0d0887"
             ],
             [
              0.1111111111111111,
              "#46039f"
             ],
             [
              0.2222222222222222,
              "#7201a8"
             ],
             [
              0.3333333333333333,
              "#9c179e"
             ],
             [
              0.4444444444444444,
              "#bd3786"
             ],
             [
              0.5555555555555556,
              "#d8576b"
             ],
             [
              0.6666666666666666,
              "#ed7953"
             ],
             [
              0.7777777777777778,
              "#fb9f3a"
             ],
             [
              0.8888888888888888,
              "#fdca26"
             ],
             [
              1,
              "#f0f921"
             ]
            ],
            "type": "heatmap"
           }
          ],
          "heatmapgl": [
           {
            "colorbar": {
             "outlinewidth": 0,
             "ticks": ""
            },
            "colorscale": [
             [
              0,
              "#0d0887"
             ],
             [
              0.1111111111111111,
              "#46039f"
             ],
             [
              0.2222222222222222,
              "#7201a8"
             ],
             [
              0.3333333333333333,
              "#9c179e"
             ],
             [
              0.4444444444444444,
              "#bd3786"
             ],
             [
              0.5555555555555556,
              "#d8576b"
             ],
             [
              0.6666666666666666,
              "#ed7953"
             ],
             [
              0.7777777777777778,
              "#fb9f3a"
             ],
             [
              0.8888888888888888,
              "#fdca26"
             ],
             [
              1,
              "#f0f921"
             ]
            ],
            "type": "heatmapgl"
           }
          ],
          "histogram": [
           {
            "marker": {
             "pattern": {
              "fillmode": "overlay",
              "size": 10,
              "solidity": 0.2
             }
            },
            "type": "histogram"
           }
          ],
          "histogram2d": [
           {
            "colorbar": {
             "outlinewidth": 0,
             "ticks": ""
            },
            "colorscale": [
             [
              0,
              "#0d0887"
             ],
             [
              0.1111111111111111,
              "#46039f"
             ],
             [
              0.2222222222222222,
              "#7201a8"
             ],
             [
              0.3333333333333333,
              "#9c179e"
             ],
             [
              0.4444444444444444,
              "#bd3786"
             ],
             [
              0.5555555555555556,
              "#d8576b"
             ],
             [
              0.6666666666666666,
              "#ed7953"
             ],
             [
              0.7777777777777778,
              "#fb9f3a"
             ],
             [
              0.8888888888888888,
              "#fdca26"
             ],
             [
              1,
              "#f0f921"
             ]
            ],
            "type": "histogram2d"
           }
          ],
          "histogram2dcontour": [
           {
            "colorbar": {
             "outlinewidth": 0,
             "ticks": ""
            },
            "colorscale": [
             [
              0,
              "#0d0887"
             ],
             [
              0.1111111111111111,
              "#46039f"
             ],
             [
              0.2222222222222222,
              "#7201a8"
             ],
             [
              0.3333333333333333,
              "#9c179e"
             ],
             [
              0.4444444444444444,
              "#bd3786"
             ],
             [
              0.5555555555555556,
              "#d8576b"
             ],
             [
              0.6666666666666666,
              "#ed7953"
             ],
             [
              0.7777777777777778,
              "#fb9f3a"
             ],
             [
              0.8888888888888888,
              "#fdca26"
             ],
             [
              1,
              "#f0f921"
             ]
            ],
            "type": "histogram2dcontour"
           }
          ],
          "mesh3d": [
           {
            "colorbar": {
             "outlinewidth": 0,
             "ticks": ""
            },
            "type": "mesh3d"
           }
          ],
          "parcoords": [
           {
            "line": {
             "colorbar": {
              "outlinewidth": 0,
              "ticks": ""
             }
            },
            "type": "parcoords"
           }
          ],
          "pie": [
           {
            "automargin": true,
            "type": "pie"
           }
          ],
          "scatter": [
           {
            "fillpattern": {
             "fillmode": "overlay",
             "size": 10,
             "solidity": 0.2
            },
            "type": "scatter"
           }
          ],
          "scatter3d": [
           {
            "line": {
             "colorbar": {
              "outlinewidth": 0,
              "ticks": ""
             }
            },
            "marker": {
             "colorbar": {
              "outlinewidth": 0,
              "ticks": ""
             }
            },
            "type": "scatter3d"
           }
          ],
          "scattercarpet": [
           {
            "marker": {
             "colorbar": {
              "outlinewidth": 0,
              "ticks": ""
             }
            },
            "type": "scattercarpet"
           }
          ],
          "scattergeo": [
           {
            "marker": {
             "colorbar": {
              "outlinewidth": 0,
              "ticks": ""
             }
            },
            "type": "scattergeo"
           }
          ],
          "scattergl": [
           {
            "marker": {
             "colorbar": {
              "outlinewidth": 0,
              "ticks": ""
             }
            },
            "type": "scattergl"
           }
          ],
          "scattermapbox": [
           {
            "marker": {
             "colorbar": {
              "outlinewidth": 0,
              "ticks": ""
             }
            },
            "type": "scattermapbox"
           }
          ],
          "scatterpolar": [
           {
            "marker": {
             "colorbar": {
              "outlinewidth": 0,
              "ticks": ""
             }
            },
            "type": "scatterpolar"
           }
          ],
          "scatterpolargl": [
           {
            "marker": {
             "colorbar": {
              "outlinewidth": 0,
              "ticks": ""
             }
            },
            "type": "scatterpolargl"
           }
          ],
          "scatterternary": [
           {
            "marker": {
             "colorbar": {
              "outlinewidth": 0,
              "ticks": ""
             }
            },
            "type": "scatterternary"
           }
          ],
          "surface": [
           {
            "colorbar": {
             "outlinewidth": 0,
             "ticks": ""
            },
            "colorscale": [
             [
              0,
              "#0d0887"
             ],
             [
              0.1111111111111111,
              "#46039f"
             ],
             [
              0.2222222222222222,
              "#7201a8"
             ],
             [
              0.3333333333333333,
              "#9c179e"
             ],
             [
              0.4444444444444444,
              "#bd3786"
             ],
             [
              0.5555555555555556,
              "#d8576b"
             ],
             [
              0.6666666666666666,
              "#ed7953"
             ],
             [
              0.7777777777777778,
              "#fb9f3a"
             ],
             [
              0.8888888888888888,
              "#fdca26"
             ],
             [
              1,
              "#f0f921"
             ]
            ],
            "type": "surface"
           }
          ],
          "table": [
           {
            "cells": {
             "fill": {
              "color": "#EBF0F8"
             },
             "line": {
              "color": "white"
             }
            },
            "header": {
             "fill": {
              "color": "#C8D4E3"
             },
             "line": {
              "color": "white"
             }
            },
            "type": "table"
           }
          ]
         },
         "layout": {
          "annotationdefaults": {
           "arrowcolor": "#2a3f5f",
           "arrowhead": 0,
           "arrowwidth": 1
          },
          "autotypenumbers": "strict",
          "coloraxis": {
           "colorbar": {
            "outlinewidth": 0,
            "ticks": ""
           }
          },
          "colorscale": {
           "diverging": [
            [
             0,
             "#8e0152"
            ],
            [
             0.1,
             "#c51b7d"
            ],
            [
             0.2,
             "#de77ae"
            ],
            [
             0.3,
             "#f1b6da"
            ],
            [
             0.4,
             "#fde0ef"
            ],
            [
             0.5,
             "#f7f7f7"
            ],
            [
             0.6,
             "#e6f5d0"
            ],
            [
             0.7,
             "#b8e186"
            ],
            [
             0.8,
             "#7fbc41"
            ],
            [
             0.9,
             "#4d9221"
            ],
            [
             1,
             "#276419"
            ]
           ],
           "sequential": [
            [
             0,
             "#0d0887"
            ],
            [
             0.1111111111111111,
             "#46039f"
            ],
            [
             0.2222222222222222,
             "#7201a8"
            ],
            [
             0.3333333333333333,
             "#9c179e"
            ],
            [
             0.4444444444444444,
             "#bd3786"
            ],
            [
             0.5555555555555556,
             "#d8576b"
            ],
            [
             0.6666666666666666,
             "#ed7953"
            ],
            [
             0.7777777777777778,
             "#fb9f3a"
            ],
            [
             0.8888888888888888,
             "#fdca26"
            ],
            [
             1,
             "#f0f921"
            ]
           ],
           "sequentialminus": [
            [
             0,
             "#0d0887"
            ],
            [
             0.1111111111111111,
             "#46039f"
            ],
            [
             0.2222222222222222,
             "#7201a8"
            ],
            [
             0.3333333333333333,
             "#9c179e"
            ],
            [
             0.4444444444444444,
             "#bd3786"
            ],
            [
             0.5555555555555556,
             "#d8576b"
            ],
            [
             0.6666666666666666,
             "#ed7953"
            ],
            [
             0.7777777777777778,
             "#fb9f3a"
            ],
            [
             0.8888888888888888,
             "#fdca26"
            ],
            [
             1,
             "#f0f921"
            ]
           ]
          },
          "colorway": [
           "#636efa",
           "#EF553B",
           "#00cc96",
           "#ab63fa",
           "#FFA15A",
           "#19d3f3",
           "#FF6692",
           "#B6E880",
           "#FF97FF",
           "#FECB52"
          ],
          "font": {
           "color": "#2a3f5f"
          },
          "geo": {
           "bgcolor": "white",
           "lakecolor": "white",
           "landcolor": "#E5ECF6",
           "showlakes": true,
           "showland": true,
           "subunitcolor": "white"
          },
          "hoverlabel": {
           "align": "left"
          },
          "hovermode": "closest",
          "mapbox": {
           "style": "light"
          },
          "paper_bgcolor": "white",
          "plot_bgcolor": "#E5ECF6",
          "polar": {
           "angularaxis": {
            "gridcolor": "white",
            "linecolor": "white",
            "ticks": ""
           },
           "bgcolor": "#E5ECF6",
           "radialaxis": {
            "gridcolor": "white",
            "linecolor": "white",
            "ticks": ""
           }
          },
          "scene": {
           "xaxis": {
            "backgroundcolor": "#E5ECF6",
            "gridcolor": "white",
            "gridwidth": 2,
            "linecolor": "white",
            "showbackground": true,
            "ticks": "",
            "zerolinecolor": "white"
           },
           "yaxis": {
            "backgroundcolor": "#E5ECF6",
            "gridcolor": "white",
            "gridwidth": 2,
            "linecolor": "white",
            "showbackground": true,
            "ticks": "",
            "zerolinecolor": "white"
           },
           "zaxis": {
            "backgroundcolor": "#E5ECF6",
            "gridcolor": "white",
            "gridwidth": 2,
            "linecolor": "white",
            "showbackground": true,
            "ticks": "",
            "zerolinecolor": "white"
           }
          },
          "shapedefaults": {
           "line": {
            "color": "#2a3f5f"
           }
          },
          "ternary": {
           "aaxis": {
            "gridcolor": "white",
            "linecolor": "white",
            "ticks": ""
           },
           "baxis": {
            "gridcolor": "white",
            "linecolor": "white",
            "ticks": ""
           },
           "bgcolor": "#E5ECF6",
           "caxis": {
            "gridcolor": "white",
            "linecolor": "white",
            "ticks": ""
           }
          },
          "title": {
           "x": 0.05
          },
          "xaxis": {
           "automargin": true,
           "gridcolor": "white",
           "linecolor": "white",
           "ticks": "",
           "title": {
            "standoff": 15
           },
           "zerolinecolor": "white",
           "zerolinewidth": 2
          },
          "yaxis": {
           "automargin": true,
           "gridcolor": "white",
           "linecolor": "white",
           "ticks": "",
           "title": {
            "standoff": 15
           },
           "zerolinecolor": "white",
           "zerolinewidth": 2
          }
         }
        },
        "title": {
         "text": "Plotly Plot"
        }
       }
      }
     },
     "metadata": {},
     "output_type": "display_data"
    },
    {
     "name": "stdout",
     "output_type": "stream",
     "text": [
      "\\draw[thick, color = {rgb,1:red,0.710; green,0.869;blue, 0.169}];\n",
      "\\draw[thick, color = {rgb,1:red,0.282; green,0.090;blue, 0.412}];\n",
      "\\draw[thick, color = {rgb,1:red,0.282; green,0.095;blue, 0.417}];\n",
      "\\draw[thick, color = {rgb,1:red,0.993; green,0.906;blue, 0.144}];\n",
      "\\draw[thick, color = {rgb,1:red,0.794; green,0.881;blue, 0.120}];\n",
      "\\draw[thick, color = {rgb,1:red,0.267; green,0.005;blue, 0.329}];\n",
      "\\draw[thick, color = {rgb,1:red,0.283; green,0.136;blue, 0.453}];\n",
      "\\draw[thick, color = {rgb,1:red,0.896; green,0.894;blue, 0.096}];\n",
      "\\draw[thick, color = {rgb,1:red,0.259; green,0.252;blue, 0.525}];\n",
      "\\draw[thick, color = {rgb,1:red,0.196; green,0.395;blue, 0.555}];\n",
      "\\draw[thick, color = {rgb,1:red,0.232; green,0.318;blue, 0.545}];\n",
      "\\draw[thick, color = {rgb,1:red,0.243; green,0.292;blue, 0.539}];\n"
     ]
    },
    {
     "data": {
      "text/plain": [
       "(0.18207673092707524, 0.6591979206257018)"
      ]
     },
     "execution_count": 5,
     "metadata": {},
     "output_type": "execute_result"
    }
   ],
   "source": [
    "# # Note that the coordinates of the vertices will change after equilibrium is reached.\n",
    "# vertices    = np.array([[-10, 0, 0], [-5, 0,0], [0, 0, 0], [5, 0, 0], [10, 0, 0], [0,-10,0], [0,-5,0], [0,5,0], [0,10,0]])*10  # The coordinates of the vertices in mm\n",
    "# edges       = [[0, 1], [1, 2], [2, 3], [3, 4], [5, 6], [6, 2], [2, 7], [7, 8], [1, 6], [6, 3], [3, 7], [7,1]]                  # The edges of the network.\n",
    "# paths       = [[0, 1, 2, 3], [4, 5, 6, 7], [8, 9, 10, 11]]   # 3D printable paths. Ensure an edge is not flipped.\n",
    "# directions  = [1, 1, 1, 1, 1, 1, 1, 1, 1, 1, 1, 1]          # Flip the curvature of an edge by setting the direction to -1.\n",
    "\n",
    "# scalar = 80\n",
    "# q_ring      = .5\n",
    "# q_connectors = .8\n",
    "# q_center    = .2\n",
    "# q           = np.array([q_connectors, q_center, q_center, q_connectors, q_connectors, q_center, q_center, q_connectors, q_ring, q_ring, q_ring, q_ring])/scalar\n",
    "# q[2]        = 1.5/scalar\n",
    "# q[-1]        = 1.5/scalar\n",
    "# fixed       = [0, 4, 5, 8]\n",
    "# # model_name  = 'VS_ring{}_connectors{}_center{}_as{}'.format(q_ring, q_connectors, q_center, q[2]*scalar)\n",
    "# model_name  = 'VS_ring{}_connectors{}_center{}_as{}_asr{}_s{}'.format(q_ring, q_connectors, q_center, q[2]*scalar, q[-1]*scalar, scalar)\n",
    "\n",
    "# Create the network\n",
    "# net = Network_custom.from_fd(vertices, edges, q, fixed, paths = paths, dir = directions)\n",
    "model_name = \"validation_unit_fstudy_1.15\"\n",
    "net = Network_custom.load_network(os.path.join(BYU_UW_root, 'networks', model_name + '.pkl'))\n",
    "# The topology of structure is fixed after generation, but you can update force densities after making the network\n",
    "# q[0] = .10\n",
    "# net.update_shape(q)\n",
    "\n",
    "# Plot the network like this\n",
    "net.net_plot(color=True, elables = True, vlabels = False)\n",
    "\n",
    "import matplotlib.pyplot as plt\n",
    "cmap = plt.get_cmap('viridis')\n",
    "\n",
    "# Convert to TikZ RGB format\n",
    "f_plot = (net.f - np.min(net.f)) / (np.max(net.f) - np.min(net.f))\n",
    "for val in f_plot:\n",
    "    r, g, b, _ = cmap(val)  # Get RGBA (ignore A)color={rgb,1:red,0.282;green,0.141;blue,0.458}\n",
    "    print(\"\\draw[thick, color = {\" + f\"rgb,1:red,{r:.3f}; green,{g:.3f};blue, {b:.3f}\"+\"}];\")\n",
    "\n",
    "np.min(net.f), np.max(net.f)"
   ]
  },
  {
   "cell_type": "code",
   "execution_count": 6,
   "metadata": {},
   "outputs": [
    {
     "data": {
      "text/plain": [
       "array([1.106875 , 0.4025   , 0.4025   , 1.308125 , 1.2075   , 0.301875 ,\n",
       "       0.503125 , 1.2075   , 0.3521875, 0.4528125, 0.4025   , 0.4025   ])"
      ]
     },
     "execution_count": 6,
     "metadata": {},
     "output_type": "execute_result"
    }
   ],
   "source": [
    "\n",
    "net.vertices*0.13468700594861674\n",
    "net.q*100\n",
    "\n",
    "# 10/74.24621202"
   ]
  },
  {
   "cell_type": "markdown",
   "metadata": {},
   "source": [
    "Here is the same network but elements 11 and 12 are combined into a single element."
   ]
  },
  {
   "cell_type": "code",
   "execution_count": 7,
   "metadata": {},
   "outputs": [],
   "source": [
    "# # Note that the coordinates of the vertices will change after equilibrium is reached.\n",
    "# model_name  = 'Validation_structure_1'\n",
    "# vertices    = np.array([[-10, 0, 0], [-5, 0,0], [0, 0, 0], [5, 0, 0], [10, 0, 0], [0,-10,0], [0,-5,0], [0,5,0], [0,10,0]])*10  # The coordinates of the vertices in mm\n",
    "# edges       = [[0, 1], [1, 2], [2, 3], [3, 4], [5, 6], [6, 2], [2, 7], [7, 8], [1, 6], [6, 3], [3, 7], [7,1]]                  # The edges of the network.\n",
    "# paths       = [[0, 1, 2, 3], [4, 5, 6,7], [11, 8, 9, 10]]   # 3D printable paths. Ensure an edge is not flipped.\n",
    "# directions  = [1, 1, 1, 1, 1, 1, 1, 1, 1, 1, 1, 1]          # Flip the curvature of an edge by setting the direction to -1.\n",
    "\n",
    "# q_ring      = .7\n",
    "# q_connectors = .5\n",
    "# q_center    = .1\n",
    "# q           = np.array([q_connectors, q_center, 2*q_center, q_connectors, q_connectors, q_center, q_center, q_connectors, q_ring, q_ring, q_ring, q_ring])/20\n",
    "# fixed       = [0, 4, 5, 8]\n",
    "\n",
    "# # Create the network\n",
    "# net = Network_custom.from_fd(vertices, edges, q, fixed, paths = paths, dir = directions)\n",
    "\n",
    "# # The topology of structure is fixed after generation, but you can update force densities after making the network\n",
    "# # q[0] = .10\n",
    "# # net.update_shape(q)\n",
    "\n",
    "# # Plot the network like this\n",
    "# net.net_plot(color=True, elables = True, vlabels = False)\n",
    "\n",
    "# (net.vertices == vertices).all() # Please understand that this is False"
   ]
  },
  {
   "cell_type": "markdown",
   "metadata": {},
   "source": [
    "### Step 2: Materialize"
   ]
  },
  {
   "cell_type": "code",
   "execution_count": 8,
   "metadata": {},
   "outputs": [
    {
     "data": {
      "text/plain": [
       "(array([39.62509896, 49.0213568 , 49.45213693, 33.9061392 , 36.56705061,\n",
       "        56.98223806, 41.92572942, 36.80808326, 71.65136829, 66.58963053,\n",
       "        68.54680343, 66.0360618 ]),\n",
       " 0.8698018851775938)"
      ]
     },
     "execution_count": 8,
     "metadata": {},
     "output_type": "execute_result"
    }
   ],
   "source": [
    "# TPUc = {'E':130, 'v':0.3897, 'p':1.18e-9, 'A':0.11*0.71, 'name': 'TPU conductive'} # Conductive TPU. Manufacturer Ninjatek Eel\n",
    "TPU = {'E':77, 'v':0.3897, 'p':1.18e-9, 'A':0.11*0.71, 'name': 'TPU non-conductive'} # Conductive TPU. Manufacturer Ninjatek Eel\n",
    "\n",
    "file_path = os.path.join(BYU_UW_root,\"Tensile Testing\", 'Avg_Stress_Strain_Overture_TPU.csv')\n",
    "stress_data, strain_data = net.load_stress_strain_curve(file_path)\n",
    "\n",
    "TPU_nl = {'stress':strain_data, 'strain': stress_data, 'v':0.3897, 'p':1.18e-9, 'A': 0.078294515, 'name': 'TPU Overture'} # TPU Overture non-conductive\n",
    "\n",
    "net.set_material(TPU) # By saving the material properties in the network, we can easily see how the network was constructed.\n",
    "\n",
    "# If all elements will get the same material, you can use the following line\n",
    "# E = [TPU['E']]*len(net.edges)\n",
    "A = [TPU_nl['A']]*len(net.edges)\n",
    "l0, l_scalar = net.materialize_nonlinear(A, stress_data, strain_data, interpolation_kind = 'cubic')\n",
    "# l0, l_scalar = net.materialize(E, A)\n",
    "# Yielding the initial lengths of each element. And the following scalar: min(l0/l1)\n",
    "net.l0, net.l_scalar"
   ]
  },
  {
   "cell_type": "code",
   "execution_count": 9,
   "metadata": {},
   "outputs": [],
   "source": [
    "# # validate nl material method. This should be the same for the linear TPU\n",
    "# strain_data = np.linspace(0, 0.5, 100)\n",
    "# stress_data = TPU['E']*strain_data\n",
    "# TPU_check = {'stress':strain_data, 'strain': stress_data, 'v':0.3897, 'p':1.18e-9, 'A':0.11*0.71, 'name': 'TPU Check'}\n",
    "\n",
    "# net.set_material(TPU_check) # By saving the material properties in the network, we can easily see how the network was constructed.\n",
    "# l0, l_scalar = net.materialize_nonlinear(A, stress_data, strain_data, interpolation_kind = 'cubic')\n",
    "# net.l0, net.l_scalar"
   ]
  },
  {
   "cell_type": "markdown",
   "metadata": {},
   "source": [
    "### Step 3: Define elements as a curves\n",
    "An (optional) optimization algorithm finds the vertex locations minimizing abs(l1-l0). Next the (optimized) network is scaled down, and edges are defined as arcs.\n",
    "\n",
    "available error functions in the optimization algorithms are:\n",
    "- 'no optimization' : Network is scaled down directly, and no alogirthm is applied\n",
    "- 'standard'        : a standard L2-norm quantifies the error\n",
    "- 'sigmoid'         : a sigmoid function skews the L2-norm to penalize too short edges more (b>0) or too long edges more (b<0)\n",
    "\n",
    "Preliminary results shows best results using a standard L2 error function"
   ]
  },
  {
   "cell_type": "code",
   "execution_count": 10,
   "metadata": {},
   "outputs": [
    {
     "name": "stdout",
     "output_type": "stream",
     "text": [
      "Iteration 0: Current error = 1093.1077237921002\n",
      "Iteration 100: Current error = 7.867994325245223\n",
      "Iteration 200: Current error = 2.636042541592965\n",
      "Iteration 300: Current error = 2.552012664655636\n",
      "Iteration 400: Current error = 2.5479028742426397\n",
      "Iteration 500: Current error = 2.5431951267204473\n",
      "Iteration 600: Current error = 2.5457396769880485\n",
      "Iteration 700: Current error = 2.557192097215979\n",
      "Iteration 800: Current error = 2.527728373018311\n",
      "Iteration 900: Current error = 2.5523780854066436\n",
      "Final error: 2.551650854481524\n"
     ]
    },
    {
     "data": {
      "application/vnd.plotly.v1+json": {
       "config": {
        "plotlyServerURL": "https://plot.ly"
       },
       "data": [
        {
         "line": {
          "color": "black",
          "width": 3
         },
         "mode": "lines",
         "type": "scatter3d",
         "x": [
          -60.054352186620235,
          -56.84134001471102,
          -53.62832889519632,
          -50.41531882621348,
          -47.202309807762504,
          -43.98930183984339,
          -40.776294922456145,
          -37.56328905560076,
          -34.35028424113989,
          -31.137280475348234,
          null,
          -31.137280473603624,
          -28.150290079614486,
          -24.82168492515291,
          -21.17121674707537,
          -17.2205471974885,
          -12.993119304846921,
          -8.514018364474268,
          -3.809823083973903,
          1.0915521331757283,
          6.161022829962828,
          null,
          6.161022829962818,
          7.893741548431066,
          10.018479975766311,
          12.52289368509409,
          15.392432390364839,
          18.6104244814382,
          22.158173883757534,
          26.015068679873387,
          30.158700861740776,
          34.56499651804634,
          null,
          34.564996514469385,
          37.276002370752394,
          39.987009139731526,
          42.69801682326943,
          45.40902541950345,
          48.12003492470831,
          50.83104534633458,
          53.542056682519615,
          56.25306892953813,
          58.964082091115415,
          null,
          -59.531193784438074,
          -56.44882887043059,
          -53.36646303255111,
          -50.28409627079964,
          -47.20172858517617,
          -44.119359979406,
          -41.036990446038544,
          -37.95461998786777,
          -34.87224860675633,
          -31.78987630084157,
          null,
          -31.789876301949676,
          -29.01517903743496,
          -25.833717818979494,
          -22.26237095143736,
          -18.320085163066892,
          -14.02777508924762,
          -9.408212316046459,
          -4.485904572278869,
          0.713034289023291,
          6.161022829962796,
          null,
          6.1610228299628105,
          8.18975348211304,
          10.552633092191343,
          13.234012803929161,
          16.2161344016597,
          19.47924791925719,
          23.001742440021857,
          26.760289221250506,
          30.729996195608273,
          34.884572826071974,
          null,
          34.88457282632589,
          37.69956891052425,
          40.51456396654248,
          43.32955797947943,
          46.144550962373614,
          48.95954290404916,
          51.774533815681934,
          54.58952368609607,
          57.40451252833009,
          60.219500325620174,
          null,
          -31.137280473603596,
          -32.18824973539705,
          -32.99557956398121,
          -33.558503349094394,
          -33.876486559328384,
          -33.949227249699334,
          -33.77665634836353,
          -33.358937722205724,
          -32.69646802123668,
          -31.789876301949676,
          null,
          -31.789876301949764,
          -24.4242962000442,
          -17.04084611873579,
          -9.64640923205085,
          -2.2478789563952364,
          5.147847475790196,
          12.533875445929485,
          19.903319376775983,
          27.249309151446752,
          34.564996518046314,
          null,
          34.564996518194675,
          34.60049436241388,
          34.635994866490364,
          34.67149802669883,
          34.707003846764565,
          34.742512326687574,
          34.77802346274257,
          34.81353725865483,
          34.84905371442437,
          34.88457282632589,
          null,
          34.88457282607201,
          27.5521512491719,
          20.218427465322165,
          12.883601679771338,
          5.547874127850843,
          -1.7885549304894077,
          -9.125485216149203,
          -16.462716436344884,
          -23.80004829007844,
          -31.137280473603695,
          null
         ],
         "y": [
          61.0066586676985,
          57.99649226479232,
          54.986324740573764,
          51.97615609318018,
          48.965986324474216,
          45.95581543631852,
          42.94564342312515,
          39.93547029234469,
          36.925296038389206,
          33.9151206612587,
          null,
          33.91512066354632,
          29.361986196052626,
          25.05228402321582,
          21.01158765084314,
          17.263874320980577,
          13.831382732443345,
          10.734481077754431,
          7.991546179551243,
          5.618854443658378,
          3.630485275903297,
          null,
          3.630485275903343,
          -1.5824403131689806,
          -6.648246662600453,
          -11.537502160840074,
          -16.22180093157286,
          -20.67392786780508,
          -24.868016747750065,
          -28.77970051388323,
          -32.38625284206705,
          -35.66672017824919,
          null,
          -35.666720177046955,
          -38.282702636905015,
          -40.898684149608016,
          -43.51466471794993,
          -46.130644337274134,
          -48.74662300851196,
          -51.36260073632002,
          -53.978577518835664,
          -56.59455335326493,
          -59.2105282433331,
          null,
          -61.32753827981651,
          -58.680456632748246,
          -56.033376064151525,
          -53.386296570301056,
          -50.73921815305948,
          -48.092140816152096,
          -45.445064552128315,
          -42.79798936098814,
          -40.15091524831951,
          -37.503842210397124,
          null,
          -37.503842210680546,
          -31.814427037498596,
          -26.342069735749945,
          -21.115802284285614,
          -16.163351104783665,
          -11.510989967390316,
          -7.183400602975993,
          -3.203541761486264,
          0.4074725889394841,
          3.630485275903311,
          null,
          3.6304852759033004,
          7.822512928450244,
          11.835696682898593,
          15.643458064625776,
          19.22057906831592,
          22.543369171522066,
          25.58982223202944,
          28.339762229921746,
          30.774976889130954,
          32.87933829352348,
          null,
          32.8793382961303,
          35.846180885098875,
          38.813024464063346,
          41.7798690199852,
          44.7467145640403,
          47.713561084121466,
          50.680408594198525,
          53.64725707937032,
          56.614106555469334,
          59.58095700573176,
          null,
          33.915120663546354,
          26.023849612265344,
          18.10394344224663,
          10.162922600681352,
          2.2083275844639028,
          -5.752288219981424,
          -13.711365709115096,
          -21.661347240123902,
          -29.594683807377322,
          -37.503842210680446,
          null,
          -37.503842210680546,
          -38.20164308046904,
          -38.674254113234525,
          -38.92123472037014,
          -38.942354655787454,
          -38.737594230561996,
          -38.30714433128816,
          -37.65140624212626,
          -36.770991270708095,
          -35.66672017824922,
          null,
          -35.66672017554811,
          -28.050491405840148,
          -20.43426264853042,
          -12.818033903618925,
          -5.201805171105661,
          2.414423539346899,
          10.030652247078251,
          17.646880942425923,
          25.263109625360812,
          32.87933829592657,
          null,
          32.87933829352346,
          33.14772711393357,
          33.37780145519832,
          33.56955503645736,
          33.72298262297977,
          33.83808002630553,
          33.91484410436078,
          33.953272761542166,
          33.9533649487762,
          33.91512066354608,
          null
         ],
         "z": [
          0,
          0,
          0,
          0,
          0,
          0,
          0,
          0,
          0,
          0,
          null,
          0,
          0,
          0,
          0,
          0,
          0,
          0,
          0,
          0,
          0,
          null,
          0,
          0,
          0,
          0,
          0,
          0,
          0,
          0,
          0,
          0,
          null,
          0,
          0,
          0,
          0,
          0,
          0,
          0,
          0,
          0,
          0,
          null,
          0,
          0,
          0,
          0,
          0,
          0,
          0,
          0,
          0,
          0,
          null,
          0,
          0,
          0,
          0,
          0,
          0,
          0,
          0,
          0,
          0,
          null,
          0,
          0,
          0,
          0,
          0,
          0,
          0,
          0,
          0,
          0,
          null,
          0,
          0,
          0,
          0,
          0,
          0,
          0,
          0,
          0,
          0,
          null,
          0,
          0,
          0,
          0,
          0,
          0,
          0,
          0,
          0,
          0,
          null,
          0,
          0,
          0,
          0,
          0,
          0,
          0,
          0,
          0,
          0,
          null,
          0,
          0,
          0,
          0,
          0,
          0,
          0,
          0,
          0,
          0,
          null,
          0,
          0,
          0,
          0,
          0,
          0,
          0,
          0,
          0,
          0,
          null
         ]
        },
        {
         "mode": "text",
         "text": [
          "0"
         ],
         "type": "scatter3d",
         "x": [
          -45.59581632905642
         ],
         "y": [
          47.460889666168036
         ],
         "z": [
          0
         ]
        },
        {
         "mode": "text",
         "text": [
          "1"
         ],
         "type": "scatter3d",
         "x": [
          -12.488128821820402
         ],
         "y": [
          18.77280296972481
         ],
         "z": [
          0
         ]
        },
        {
         "mode": "text",
         "text": [
          "2"
         ],
         "type": "scatter3d",
         "x": [
          20.36300967400459
         ],
         "y": [
          -16.01811745117295
         ],
         "z": [
          0
         ]
        },
        {
         "mode": "text",
         "text": [
          "3"
         ],
         "type": "scatter3d",
         "x": [
          46.764539306408516
         ],
         "y": [
          -47.43862421087768
         ],
         "z": [
          0
         ]
        },
        {
         "mode": "text",
         "text": [
          "4"
         ],
         "type": "scatter3d",
         "x": [
          -45.660535043640735
         ],
         "y": [
          -49.41569024448214
         ],
         "z": [
          0
         ]
        },
        {
         "mode": "text",
         "text": [
          "5"
         ],
         "type": "scatter3d",
         "x": [
          -12.814426735993425
         ],
         "y": [
          -16.936678467388628
         ],
         "z": [
          0
         ]
        },
        {
         "mode": "text",
         "text": [
          "6"
         ],
         "type": "scatter3d",
         "x": [
          20.5227978280174
         ],
         "y": [
          18.2549117847134
         ],
         "z": [
          0
         ]
        },
        {
         "mode": "text",
         "text": [
          "7"
         ],
         "type": "scatter3d",
         "x": [
          47.55203657611817
         ],
         "y": [
          46.230147648390826
         ],
         "z": [
          0
         ]
        },
        {
         "mode": "text",
         "text": [
          "8"
         ],
         "type": "scatter3d",
         "x": [
          -31.463578387776643
         ],
         "y": [
          -1.7943607735671279
         ],
         "z": [
          0
         ]
        },
        {
         "mode": "text",
         "text": [
          "9"
         ],
         "type": "scatter3d",
         "x": [
          1.3875601080483495
         ],
         "y": [
          -36.58528119446489
         ],
         "z": [
          0
         ]
        },
        {
         "mode": "text",
         "text": [
          "10"
         ],
         "type": "scatter3d",
         "x": [
          34.72478467205917
         ],
         "y": [
          -1.3936909423628627
         ],
         "z": [
          0
         ]
        },
        {
         "mode": "text",
         "text": [
          "11"
         ],
         "type": "scatter3d",
         "x": [
          1.8736461762341818
         ],
         "y": [
          33.397229478534896
         ],
         "z": [
          0
         ]
        },
        {
         "mode": "text",
         "text": [
          "0"
         ],
         "type": "scatter3d",
         "x": [
          -60.05435218450921
         ],
         "y": [
          61.00665866878976
         ],
         "z": [
          0
         ]
        },
        {
         "mode": "text",
         "text": [
          "1"
         ],
         "type": "scatter3d",
         "x": [
          -31.137280473603617
         ],
         "y": [
          33.91512066354631
         ],
         "z": [
          0
         ]
        },
        {
         "mode": "text",
         "text": [
          "2"
         ],
         "type": "scatter3d",
         "x": [
          6.161022829962815
         ],
         "y": [
          3.6304852759033097
         ],
         "z": [
          0
         ]
        },
        {
         "mode": "text",
         "text": [
          "3"
         ],
         "type": "scatter3d",
         "x": [
          34.564996518046364
         ],
         "y": [
          -35.666720178249214
         ],
         "z": [
          0
         ]
        },
        {
         "mode": "text",
         "text": [
          "4"
         ],
         "type": "scatter3d",
         "x": [
          58.96408209477067
         ],
         "y": [
          -59.21052824350613
         ],
         "z": [
          0
         ]
        },
        {
         "mode": "text",
         "text": [
          "5"
         ],
         "type": "scatter3d",
         "x": [
          -59.53119378533181
         ],
         "y": [
          -61.32753827828372
         ],
         "z": [
          0
         ]
        },
        {
         "mode": "text",
         "text": [
          "6"
         ],
         "type": "scatter3d",
         "x": [
          -31.789876301949665
         ],
         "y": [
          -37.50384221068057
         ],
         "z": [
          0
         ]
        },
        {
         "mode": "text",
         "text": [
          "7"
         ],
         "type": "scatter3d",
         "x": [
          34.88457282607198
         ],
         "y": [
          32.87933829352349
         ],
         "z": [
          0
         ]
        },
        {
         "mode": "text",
         "text": [
          "8"
         ],
         "type": "scatter3d",
         "x": [
          60.21950032616435
         ],
         "y": [
          59.58095700325817
         ],
         "z": [
          0
         ]
        }
       ],
       "layout": {
        "scene": {
         "aspectmode": "data",
         "camera": {
          "center": {
           "x": 0,
           "y": 0,
           "z": 0
          },
          "eye": {
           "x": 0,
           "y": 0,
           "z": 3.066376913914186
          },
          "up": {
           "x": 0,
           "y": 1,
           "z": 0
          }
         }
        },
        "template": {
         "data": {
          "bar": [
           {
            "error_x": {
             "color": "#2a3f5f"
            },
            "error_y": {
             "color": "#2a3f5f"
            },
            "marker": {
             "line": {
              "color": "#E5ECF6",
              "width": 0.5
             },
             "pattern": {
              "fillmode": "overlay",
              "size": 10,
              "solidity": 0.2
             }
            },
            "type": "bar"
           }
          ],
          "barpolar": [
           {
            "marker": {
             "line": {
              "color": "#E5ECF6",
              "width": 0.5
             },
             "pattern": {
              "fillmode": "overlay",
              "size": 10,
              "solidity": 0.2
             }
            },
            "type": "barpolar"
           }
          ],
          "carpet": [
           {
            "aaxis": {
             "endlinecolor": "#2a3f5f",
             "gridcolor": "white",
             "linecolor": "white",
             "minorgridcolor": "white",
             "startlinecolor": "#2a3f5f"
            },
            "baxis": {
             "endlinecolor": "#2a3f5f",
             "gridcolor": "white",
             "linecolor": "white",
             "minorgridcolor": "white",
             "startlinecolor": "#2a3f5f"
            },
            "type": "carpet"
           }
          ],
          "choropleth": [
           {
            "colorbar": {
             "outlinewidth": 0,
             "ticks": ""
            },
            "type": "choropleth"
           }
          ],
          "contour": [
           {
            "colorbar": {
             "outlinewidth": 0,
             "ticks": ""
            },
            "colorscale": [
             [
              0,
              "#0d0887"
             ],
             [
              0.1111111111111111,
              "#46039f"
             ],
             [
              0.2222222222222222,
              "#7201a8"
             ],
             [
              0.3333333333333333,
              "#9c179e"
             ],
             [
              0.4444444444444444,
              "#bd3786"
             ],
             [
              0.5555555555555556,
              "#d8576b"
             ],
             [
              0.6666666666666666,
              "#ed7953"
             ],
             [
              0.7777777777777778,
              "#fb9f3a"
             ],
             [
              0.8888888888888888,
              "#fdca26"
             ],
             [
              1,
              "#f0f921"
             ]
            ],
            "type": "contour"
           }
          ],
          "contourcarpet": [
           {
            "colorbar": {
             "outlinewidth": 0,
             "ticks": ""
            },
            "type": "contourcarpet"
           }
          ],
          "heatmap": [
           {
            "colorbar": {
             "outlinewidth": 0,
             "ticks": ""
            },
            "colorscale": [
             [
              0,
              "#0d0887"
             ],
             [
              0.1111111111111111,
              "#46039f"
             ],
             [
              0.2222222222222222,
              "#7201a8"
             ],
             [
              0.3333333333333333,
              "#9c179e"
             ],
             [
              0.4444444444444444,
              "#bd3786"
             ],
             [
              0.5555555555555556,
              "#d8576b"
             ],
             [
              0.6666666666666666,
              "#ed7953"
             ],
             [
              0.7777777777777778,
              "#fb9f3a"
             ],
             [
              0.8888888888888888,
              "#fdca26"
             ],
             [
              1,
              "#f0f921"
             ]
            ],
            "type": "heatmap"
           }
          ],
          "heatmapgl": [
           {
            "colorbar": {
             "outlinewidth": 0,
             "ticks": ""
            },
            "colorscale": [
             [
              0,
              "#0d0887"
             ],
             [
              0.1111111111111111,
              "#46039f"
             ],
             [
              0.2222222222222222,
              "#7201a8"
             ],
             [
              0.3333333333333333,
              "#9c179e"
             ],
             [
              0.4444444444444444,
              "#bd3786"
             ],
             [
              0.5555555555555556,
              "#d8576b"
             ],
             [
              0.6666666666666666,
              "#ed7953"
             ],
             [
              0.7777777777777778,
              "#fb9f3a"
             ],
             [
              0.8888888888888888,
              "#fdca26"
             ],
             [
              1,
              "#f0f921"
             ]
            ],
            "type": "heatmapgl"
           }
          ],
          "histogram": [
           {
            "marker": {
             "pattern": {
              "fillmode": "overlay",
              "size": 10,
              "solidity": 0.2
             }
            },
            "type": "histogram"
           }
          ],
          "histogram2d": [
           {
            "colorbar": {
             "outlinewidth": 0,
             "ticks": ""
            },
            "colorscale": [
             [
              0,
              "#0d0887"
             ],
             [
              0.1111111111111111,
              "#46039f"
             ],
             [
              0.2222222222222222,
              "#7201a8"
             ],
             [
              0.3333333333333333,
              "#9c179e"
             ],
             [
              0.4444444444444444,
              "#bd3786"
             ],
             [
              0.5555555555555556,
              "#d8576b"
             ],
             [
              0.6666666666666666,
              "#ed7953"
             ],
             [
              0.7777777777777778,
              "#fb9f3a"
             ],
             [
              0.8888888888888888,
              "#fdca26"
             ],
             [
              1,
              "#f0f921"
             ]
            ],
            "type": "histogram2d"
           }
          ],
          "histogram2dcontour": [
           {
            "colorbar": {
             "outlinewidth": 0,
             "ticks": ""
            },
            "colorscale": [
             [
              0,
              "#0d0887"
             ],
             [
              0.1111111111111111,
              "#46039f"
             ],
             [
              0.2222222222222222,
              "#7201a8"
             ],
             [
              0.3333333333333333,
              "#9c179e"
             ],
             [
              0.4444444444444444,
              "#bd3786"
             ],
             [
              0.5555555555555556,
              "#d8576b"
             ],
             [
              0.6666666666666666,
              "#ed7953"
             ],
             [
              0.7777777777777778,
              "#fb9f3a"
             ],
             [
              0.8888888888888888,
              "#fdca26"
             ],
             [
              1,
              "#f0f921"
             ]
            ],
            "type": "histogram2dcontour"
           }
          ],
          "mesh3d": [
           {
            "colorbar": {
             "outlinewidth": 0,
             "ticks": ""
            },
            "type": "mesh3d"
           }
          ],
          "parcoords": [
           {
            "line": {
             "colorbar": {
              "outlinewidth": 0,
              "ticks": ""
             }
            },
            "type": "parcoords"
           }
          ],
          "pie": [
           {
            "automargin": true,
            "type": "pie"
           }
          ],
          "scatter": [
           {
            "fillpattern": {
             "fillmode": "overlay",
             "size": 10,
             "solidity": 0.2
            },
            "type": "scatter"
           }
          ],
          "scatter3d": [
           {
            "line": {
             "colorbar": {
              "outlinewidth": 0,
              "ticks": ""
             }
            },
            "marker": {
             "colorbar": {
              "outlinewidth": 0,
              "ticks": ""
             }
            },
            "type": "scatter3d"
           }
          ],
          "scattercarpet": [
           {
            "marker": {
             "colorbar": {
              "outlinewidth": 0,
              "ticks": ""
             }
            },
            "type": "scattercarpet"
           }
          ],
          "scattergeo": [
           {
            "marker": {
             "colorbar": {
              "outlinewidth": 0,
              "ticks": ""
             }
            },
            "type": "scattergeo"
           }
          ],
          "scattergl": [
           {
            "marker": {
             "colorbar": {
              "outlinewidth": 0,
              "ticks": ""
             }
            },
            "type": "scattergl"
           }
          ],
          "scattermapbox": [
           {
            "marker": {
             "colorbar": {
              "outlinewidth": 0,
              "ticks": ""
             }
            },
            "type": "scattermapbox"
           }
          ],
          "scatterpolar": [
           {
            "marker": {
             "colorbar": {
              "outlinewidth": 0,
              "ticks": ""
             }
            },
            "type": "scatterpolar"
           }
          ],
          "scatterpolargl": [
           {
            "marker": {
             "colorbar": {
              "outlinewidth": 0,
              "ticks": ""
             }
            },
            "type": "scatterpolargl"
           }
          ],
          "scatterternary": [
           {
            "marker": {
             "colorbar": {
              "outlinewidth": 0,
              "ticks": ""
             }
            },
            "type": "scatterternary"
           }
          ],
          "surface": [
           {
            "colorbar": {
             "outlinewidth": 0,
             "ticks": ""
            },
            "colorscale": [
             [
              0,
              "#0d0887"
             ],
             [
              0.1111111111111111,
              "#46039f"
             ],
             [
              0.2222222222222222,
              "#7201a8"
             ],
             [
              0.3333333333333333,
              "#9c179e"
             ],
             [
              0.4444444444444444,
              "#bd3786"
             ],
             [
              0.5555555555555556,
              "#d8576b"
             ],
             [
              0.6666666666666666,
              "#ed7953"
             ],
             [
              0.7777777777777778,
              "#fb9f3a"
             ],
             [
              0.8888888888888888,
              "#fdca26"
             ],
             [
              1,
              "#f0f921"
             ]
            ],
            "type": "surface"
           }
          ],
          "table": [
           {
            "cells": {
             "fill": {
              "color": "#EBF0F8"
             },
             "line": {
              "color": "white"
             }
            },
            "header": {
             "fill": {
              "color": "#C8D4E3"
             },
             "line": {
              "color": "white"
             }
            },
            "type": "table"
           }
          ]
         },
         "layout": {
          "annotationdefaults": {
           "arrowcolor": "#2a3f5f",
           "arrowhead": 0,
           "arrowwidth": 1
          },
          "autotypenumbers": "strict",
          "coloraxis": {
           "colorbar": {
            "outlinewidth": 0,
            "ticks": ""
           }
          },
          "colorscale": {
           "diverging": [
            [
             0,
             "#8e0152"
            ],
            [
             0.1,
             "#c51b7d"
            ],
            [
             0.2,
             "#de77ae"
            ],
            [
             0.3,
             "#f1b6da"
            ],
            [
             0.4,
             "#fde0ef"
            ],
            [
             0.5,
             "#f7f7f7"
            ],
            [
             0.6,
             "#e6f5d0"
            ],
            [
             0.7,
             "#b8e186"
            ],
            [
             0.8,
             "#7fbc41"
            ],
            [
             0.9,
             "#4d9221"
            ],
            [
             1,
             "#276419"
            ]
           ],
           "sequential": [
            [
             0,
             "#0d0887"
            ],
            [
             0.1111111111111111,
             "#46039f"
            ],
            [
             0.2222222222222222,
             "#7201a8"
            ],
            [
             0.3333333333333333,
             "#9c179e"
            ],
            [
             0.4444444444444444,
             "#bd3786"
            ],
            [
             0.5555555555555556,
             "#d8576b"
            ],
            [
             0.6666666666666666,
             "#ed7953"
            ],
            [
             0.7777777777777778,
             "#fb9f3a"
            ],
            [
             0.8888888888888888,
             "#fdca26"
            ],
            [
             1,
             "#f0f921"
            ]
           ],
           "sequentialminus": [
            [
             0,
             "#0d0887"
            ],
            [
             0.1111111111111111,
             "#46039f"
            ],
            [
             0.2222222222222222,
             "#7201a8"
            ],
            [
             0.3333333333333333,
             "#9c179e"
            ],
            [
             0.4444444444444444,
             "#bd3786"
            ],
            [
             0.5555555555555556,
             "#d8576b"
            ],
            [
             0.6666666666666666,
             "#ed7953"
            ],
            [
             0.7777777777777778,
             "#fb9f3a"
            ],
            [
             0.8888888888888888,
             "#fdca26"
            ],
            [
             1,
             "#f0f921"
            ]
           ]
          },
          "colorway": [
           "#636efa",
           "#EF553B",
           "#00cc96",
           "#ab63fa",
           "#FFA15A",
           "#19d3f3",
           "#FF6692",
           "#B6E880",
           "#FF97FF",
           "#FECB52"
          ],
          "font": {
           "color": "#2a3f5f"
          },
          "geo": {
           "bgcolor": "white",
           "lakecolor": "white",
           "landcolor": "#E5ECF6",
           "showlakes": true,
           "showland": true,
           "subunitcolor": "white"
          },
          "hoverlabel": {
           "align": "left"
          },
          "hovermode": "closest",
          "mapbox": {
           "style": "light"
          },
          "paper_bgcolor": "white",
          "plot_bgcolor": "#E5ECF6",
          "polar": {
           "angularaxis": {
            "gridcolor": "white",
            "linecolor": "white",
            "ticks": ""
           },
           "bgcolor": "#E5ECF6",
           "radialaxis": {
            "gridcolor": "white",
            "linecolor": "white",
            "ticks": ""
           }
          },
          "scene": {
           "xaxis": {
            "backgroundcolor": "#E5ECF6",
            "gridcolor": "white",
            "gridwidth": 2,
            "linecolor": "white",
            "showbackground": true,
            "ticks": "",
            "zerolinecolor": "white"
           },
           "yaxis": {
            "backgroundcolor": "#E5ECF6",
            "gridcolor": "white",
            "gridwidth": 2,
            "linecolor": "white",
            "showbackground": true,
            "ticks": "",
            "zerolinecolor": "white"
           },
           "zaxis": {
            "backgroundcolor": "#E5ECF6",
            "gridcolor": "white",
            "gridwidth": 2,
            "linecolor": "white",
            "showbackground": true,
            "ticks": "",
            "zerolinecolor": "white"
           }
          },
          "shapedefaults": {
           "line": {
            "color": "#2a3f5f"
           }
          },
          "ternary": {
           "aaxis": {
            "gridcolor": "white",
            "linecolor": "white",
            "ticks": ""
           },
           "baxis": {
            "gridcolor": "white",
            "linecolor": "white",
            "ticks": ""
           },
           "bgcolor": "#E5ECF6",
           "caxis": {
            "gridcolor": "white",
            "linecolor": "white",
            "ticks": ""
           }
          },
          "title": {
           "x": 0.05
          },
          "xaxis": {
           "automargin": true,
           "gridcolor": "white",
           "linecolor": "white",
           "ticks": "",
           "title": {
            "standoff": 15
           },
           "zerolinecolor": "white",
           "zerolinewidth": 2
          },
          "yaxis": {
           "automargin": true,
           "gridcolor": "white",
           "linecolor": "white",
           "ticks": "",
           "title": {
            "standoff": 15
           },
           "zerolinecolor": "white",
           "zerolinewidth": 2
          }
         }
        },
        "title": {
         "text": "Plotly Plot"
        }
       }
      }
     },
     "metadata": {},
     "output_type": "display_data"
    },
    {
     "data": {
      "text/plain": [
       "array([[-8.13764814,  8.27019118,  0.        ],\n",
       "       [-4.24222967,  4.62069035,  0.        ],\n",
       "       [ 0.83939488,  0.49462741,  0.        ],\n",
       "       [ 4.70923124, -4.85933313,  0.        ],\n",
       "       [ 7.99540173, -8.03031129,  0.        ],\n",
       "       [-8.06830025, -8.31902625,  0.        ],\n",
       "       [-4.33114114, -5.10962775,  0.        ],\n",
       "       [ 4.7527712 ,  4.47957248,  0.        ],\n",
       "       [ 8.16474004,  8.07559977,  0.        ]])"
      ]
     },
     "execution_count": 10,
     "metadata": {},
     "output_type": "execute_result"
    }
   ],
   "source": [
    "# net.initialize_shape_optimizer(function_type = 'no optimization',  method = 'L-BFGS-B', params = None)\n",
    "# net.initialize_shape_optimizer(function_type = 'standard',  method = 'L-BFGS-B',options ={\"maxiter\": 10000, \"maxfun\": 1500000, \"maxls\": 5000})\n",
    "net.initialize_shape_optimizer(function_type = 'standard',  method = 'Gauss-Seidel',options ={\"maxiter\": 1000, \"damping\": .1, \"correction_scalar\": 1.5, \"tol\": 1e-6})\n",
    "# net.initialize_shape_optimizer(function_type = 'standard',  method = 'trust-constr')\n",
    "# net.initialize_shape_optimizer(function_type = 'sigmoid',  method = 'L-BFGS-B', params = {'a': 4, 'b': -1})\n",
    "net.optimize_vertices()\n",
    "reference_point = [0,0,0]                         # The network will be scaler relative to this point\n",
    "net.scale_vertices(reference_point, net.l_scalar, account_for_leafs = True) # If you don't provide a scalar, it will use network.l_scalar automatically\n",
    "\n",
    "# #  You can plot the scaled network like this\n",
    "# # net.net_plot(color=True, plot_type='scaled')\n",
    "\n",
    "# # Determine the Radius and Angle of the circle that define the arc of each element\n",
    "R, th = net.arc_param()\n",
    "# # for the arc length (net.l1 * net.l_scalar) is used unless specified otherwise, for the cord length (net.l0) is used unless specified otherwise\n",
    "xyz = net.arc_points(n = 10) \n",
    "\n",
    "net.net_plot(color=True, plot_type='arcs', elables=True, vlabels = True)\n",
    "# net.net_plot(color=True, plot_type='optimized', elables=False, vlabels = False)\n",
    "\n",
    "# np.min(R/net.l0), net.l_scalar, np.min(net.l0 - net.l1), np.max(net.l0 - net.l1)\n",
    "net.vertices_optimized*0.13468700594861674"
   ]
  },
  {
   "cell_type": "code",
   "execution_count": 11,
   "metadata": {},
   "outputs": [],
   "source": [
    "%matplotlib qt\n",
    "import matplotlib.animation as animation\n",
    "ani = net.ShapeOptimizer.animate_optimization()\n",
    "writer = animation.FFMpegWriter(fps=15)\n",
    "ani.save(os.path.join(BYU_UW_root, 'images', 'form finding animations', f'form_finding_{model_name}_{0}.mp4'), writer=writer)"
   ]
  },
  {
   "cell_type": "markdown",
   "metadata": {},
   "source": [
    "Flipping edge 2, 6, and 12 would make the network smoother"
   ]
  },
  {
   "cell_type": "code",
   "execution_count": 12,
   "metadata": {},
   "outputs": [
    {
     "data": {
      "application/vnd.plotly.v1+json": {
       "config": {
        "plotlyServerURL": "https://plot.ly"
       },
       "data": [
        {
         "line": {
          "color": "black",
          "width": 3
         },
         "mode": "lines",
         "type": "scatter3d",
         "x": [
          -60.054352186620235,
          -52.82507628016174,
          -45.59580569155514,
          -38.36654042452574,
          -31.137280475348234,
          null,
          -31.137280473603624,
          -23.938428071195155,
          -15.139897004817975,
          -5.00546922555354,
          6.161022829962828,
          null,
          6.1610228299628105,
          15.702960816514,
          23.76702531211079,
          30.11649922415144,
          34.56499651804636,
          null,
          34.564996514469385,
          40.66476097423583,
          46.76453005708754,
          52.86430376302451,
          58.964082091115415,
          null,
          -59.531193784438074,
          -52.595871429890394,
          -45.66054439730942,
          -38.725212688557804,
          -31.78987630084157,
          null,
          -31.78987630194967,
          -19.885391549210702,
          -9.412551381121602,
          -0.6521260829943571,
          6.161022829962832,
          null,
          6.1610228299628105,
          11.193777123700286,
          17.81387585603187,
          25.79985870954122,
          34.884572826071974,
          null,
          34.88457282632589,
          41.218312565237284,
          47.552047062665224,
          53.88577631674707,
          60.219500325620174,
          null,
          -31.137280473603596,
          -32.18824973539705,
          -32.99557956398121,
          -33.558503349094394,
          -33.876486559328384,
          -33.949227249699334,
          -33.77665634836353,
          -33.358937722205724,
          -32.69646802123668,
          -31.789876301949676,
          null,
          -31.789876301949764,
          -15.192997761633368,
          1.4507657904030902,
          18.06288918174203,
          34.564996518046314,
          null,
          34.564996518194675,
          34.64487040787935,
          34.72475775331259,
          34.80465856194496,
          34.88457282632589,
          null,
          34.88457282607201,
          18.384816510373405,
          1.8797347699243545,
          -14.628391372555058,
          -31.137280473603695,
          null
         ],
         "y": [
          61.0066586676985,
          54.23378268443048,
          47.46090102009475,
          40.688013680279255,
          33.9151206612587,
          null,
          33.91512066354632,
          24.01592561640934,
          15.50690748463186,
          8.64316855604514,
          3.630485275903297,
          null,
          3.630485275903304,
          -4.20670768868743,
          -13.557698968454197,
          -24.147994296901558,
          -35.666720178249214,
          null,
          -35.666720177046955,
          -41.55267938040197,
          -47.43863379210234,
          -53.32458341214806,
          -59.2105282433331,
          null,
          -61.32753827981651,
          -55.37160609103739,
          -49.41567935049534,
          -43.459758058190346,
          -37.503842210397124,
          null,
          -37.503842210680574,
          -29.70863748513368,
          -20.0752791530128,
          -8.86203151741153,
          3.6304852759033253,
          null,
          3.6304852759033004,
          12.807905022336847,
          20.915182108852612,
          27.681106055130478,
          32.87933829352348,
          null,
          32.8793382961303,
          39.55473551154137,
          46.230137701146305,
          52.90554486680776,
          59.58095700573176,
          null,
          33.915120663546354,
          26.023849612265344,
          18.10394344224663,
          10.162922600681352,
          2.2083275844639028,
          -5.752288219981424,
          -13.711365709115096,
          -21.661347240123902,
          -29.594683807377322,
          -37.503842210680446,
          null,
          -37.503842210680546,
          -38.7571647084722,
          -38.868202492079575,
          -37.836431685933604,
          -35.66672017824922,
          null,
          -35.66672017554811,
          -18.530205463583115,
          -1.3936908143223263,
          15.742823772176052,
          32.87933829592657,
          null,
          32.87933829352346,
          33.42933264412454,
          33.78532281844764,
          33.94725961821018,
          33.91512066354608,
          null
         ],
         "z": [
          0,
          0,
          0,
          0,
          0,
          null,
          0,
          0,
          0,
          0,
          0,
          null,
          0,
          0,
          0,
          0,
          0,
          null,
          0,
          0,
          0,
          0,
          0,
          null,
          0,
          0,
          0,
          0,
          0,
          null,
          0,
          0,
          0,
          0,
          0,
          null,
          0,
          0,
          0,
          0,
          0,
          null,
          0,
          0,
          0,
          0,
          0,
          null,
          0,
          0,
          0,
          0,
          0,
          0,
          0,
          0,
          0,
          0,
          null,
          0,
          0,
          0,
          0,
          0,
          null,
          0,
          0,
          0,
          0,
          0,
          null,
          0,
          0,
          0,
          0,
          0,
          null
         ]
        },
        {
         "mode": "text",
         "text": [
          "0"
         ],
         "type": "scatter3d",
         "x": [
          -45.59581632905642
         ],
         "y": [
          47.460889666168036
         ],
         "z": [
          0
         ]
        },
        {
         "mode": "text",
         "text": [
          "1"
         ],
         "type": "scatter3d",
         "x": [
          -12.488128821820402
         ],
         "y": [
          18.77280296972481
         ],
         "z": [
          0
         ]
        },
        {
         "mode": "text",
         "text": [
          "2"
         ],
         "type": "scatter3d",
         "x": [
          20.36300967400459
         ],
         "y": [
          -16.01811745117295
         ],
         "z": [
          0
         ]
        },
        {
         "mode": "text",
         "text": [
          "3"
         ],
         "type": "scatter3d",
         "x": [
          46.764539306408516
         ],
         "y": [
          -47.43862421087768
         ],
         "z": [
          0
         ]
        },
        {
         "mode": "text",
         "text": [
          "4"
         ],
         "type": "scatter3d",
         "x": [
          -45.660535043640735
         ],
         "y": [
          -49.41569024448214
         ],
         "z": [
          0
         ]
        },
        {
         "mode": "text",
         "text": [
          "5"
         ],
         "type": "scatter3d",
         "x": [
          -12.814426735993425
         ],
         "y": [
          -16.936678467388628
         ],
         "z": [
          0
         ]
        },
        {
         "mode": "text",
         "text": [
          "6"
         ],
         "type": "scatter3d",
         "x": [
          20.5227978280174
         ],
         "y": [
          18.2549117847134
         ],
         "z": [
          0
         ]
        },
        {
         "mode": "text",
         "text": [
          "7"
         ],
         "type": "scatter3d",
         "x": [
          47.55203657611817
         ],
         "y": [
          46.230147648390826
         ],
         "z": [
          0
         ]
        },
        {
         "mode": "text",
         "text": [
          "8"
         ],
         "type": "scatter3d",
         "x": [
          -31.463578387776643
         ],
         "y": [
          -1.7943607735671279
         ],
         "z": [
          0
         ]
        },
        {
         "mode": "text",
         "text": [
          "9"
         ],
         "type": "scatter3d",
         "x": [
          1.3875601080483495
         ],
         "y": [
          -36.58528119446489
         ],
         "z": [
          0
         ]
        },
        {
         "mode": "text",
         "text": [
          "10"
         ],
         "type": "scatter3d",
         "x": [
          34.72478467205917
         ],
         "y": [
          -1.3936909423628627
         ],
         "z": [
          0
         ]
        },
        {
         "mode": "text",
         "text": [
          "11"
         ],
         "type": "scatter3d",
         "x": [
          1.8736461762341818
         ],
         "y": [
          33.397229478534896
         ],
         "z": [
          0
         ]
        }
       ],
       "layout": {
        "scene": {
         "aspectmode": "data",
         "camera": {
          "center": {
           "x": 0,
           "y": 0,
           "z": 0
          },
          "eye": {
           "x": 0,
           "y": 0,
           "z": 3.066376913914186
          },
          "up": {
           "x": 0,
           "y": 1,
           "z": 0
          }
         }
        },
        "template": {
         "data": {
          "bar": [
           {
            "error_x": {
             "color": "#2a3f5f"
            },
            "error_y": {
             "color": "#2a3f5f"
            },
            "marker": {
             "line": {
              "color": "#E5ECF6",
              "width": 0.5
             },
             "pattern": {
              "fillmode": "overlay",
              "size": 10,
              "solidity": 0.2
             }
            },
            "type": "bar"
           }
          ],
          "barpolar": [
           {
            "marker": {
             "line": {
              "color": "#E5ECF6",
              "width": 0.5
             },
             "pattern": {
              "fillmode": "overlay",
              "size": 10,
              "solidity": 0.2
             }
            },
            "type": "barpolar"
           }
          ],
          "carpet": [
           {
            "aaxis": {
             "endlinecolor": "#2a3f5f",
             "gridcolor": "white",
             "linecolor": "white",
             "minorgridcolor": "white",
             "startlinecolor": "#2a3f5f"
            },
            "baxis": {
             "endlinecolor": "#2a3f5f",
             "gridcolor": "white",
             "linecolor": "white",
             "minorgridcolor": "white",
             "startlinecolor": "#2a3f5f"
            },
            "type": "carpet"
           }
          ],
          "choropleth": [
           {
            "colorbar": {
             "outlinewidth": 0,
             "ticks": ""
            },
            "type": "choropleth"
           }
          ],
          "contour": [
           {
            "colorbar": {
             "outlinewidth": 0,
             "ticks": ""
            },
            "colorscale": [
             [
              0,
              "#0d0887"
             ],
             [
              0.1111111111111111,
              "#46039f"
             ],
             [
              0.2222222222222222,
              "#7201a8"
             ],
             [
              0.3333333333333333,
              "#9c179e"
             ],
             [
              0.4444444444444444,
              "#bd3786"
             ],
             [
              0.5555555555555556,
              "#d8576b"
             ],
             [
              0.6666666666666666,
              "#ed7953"
             ],
             [
              0.7777777777777778,
              "#fb9f3a"
             ],
             [
              0.8888888888888888,
              "#fdca26"
             ],
             [
              1,
              "#f0f921"
             ]
            ],
            "type": "contour"
           }
          ],
          "contourcarpet": [
           {
            "colorbar": {
             "outlinewidth": 0,
             "ticks": ""
            },
            "type": "contourcarpet"
           }
          ],
          "heatmap": [
           {
            "colorbar": {
             "outlinewidth": 0,
             "ticks": ""
            },
            "colorscale": [
             [
              0,
              "#0d0887"
             ],
             [
              0.1111111111111111,
              "#46039f"
             ],
             [
              0.2222222222222222,
              "#7201a8"
             ],
             [
              0.3333333333333333,
              "#9c179e"
             ],
             [
              0.4444444444444444,
              "#bd3786"
             ],
             [
              0.5555555555555556,
              "#d8576b"
             ],
             [
              0.6666666666666666,
              "#ed7953"
             ],
             [
              0.7777777777777778,
              "#fb9f3a"
             ],
             [
              0.8888888888888888,
              "#fdca26"
             ],
             [
              1,
              "#f0f921"
             ]
            ],
            "type": "heatmap"
           }
          ],
          "heatmapgl": [
           {
            "colorbar": {
             "outlinewidth": 0,
             "ticks": ""
            },
            "colorscale": [
             [
              0,
              "#0d0887"
             ],
             [
              0.1111111111111111,
              "#46039f"
             ],
             [
              0.2222222222222222,
              "#7201a8"
             ],
             [
              0.3333333333333333,
              "#9c179e"
             ],
             [
              0.4444444444444444,
              "#bd3786"
             ],
             [
              0.5555555555555556,
              "#d8576b"
             ],
             [
              0.6666666666666666,
              "#ed7953"
             ],
             [
              0.7777777777777778,
              "#fb9f3a"
             ],
             [
              0.8888888888888888,
              "#fdca26"
             ],
             [
              1,
              "#f0f921"
             ]
            ],
            "type": "heatmapgl"
           }
          ],
          "histogram": [
           {
            "marker": {
             "pattern": {
              "fillmode": "overlay",
              "size": 10,
              "solidity": 0.2
             }
            },
            "type": "histogram"
           }
          ],
          "histogram2d": [
           {
            "colorbar": {
             "outlinewidth": 0,
             "ticks": ""
            },
            "colorscale": [
             [
              0,
              "#0d0887"
             ],
             [
              0.1111111111111111,
              "#46039f"
             ],
             [
              0.2222222222222222,
              "#7201a8"
             ],
             [
              0.3333333333333333,
              "#9c179e"
             ],
             [
              0.4444444444444444,
              "#bd3786"
             ],
             [
              0.5555555555555556,
              "#d8576b"
             ],
             [
              0.6666666666666666,
              "#ed7953"
             ],
             [
              0.7777777777777778,
              "#fb9f3a"
             ],
             [
              0.8888888888888888,
              "#fdca26"
             ],
             [
              1,
              "#f0f921"
             ]
            ],
            "type": "histogram2d"
           }
          ],
          "histogram2dcontour": [
           {
            "colorbar": {
             "outlinewidth": 0,
             "ticks": ""
            },
            "colorscale": [
             [
              0,
              "#0d0887"
             ],
             [
              0.1111111111111111,
              "#46039f"
             ],
             [
              0.2222222222222222,
              "#7201a8"
             ],
             [
              0.3333333333333333,
              "#9c179e"
             ],
             [
              0.4444444444444444,
              "#bd3786"
             ],
             [
              0.5555555555555556,
              "#d8576b"
             ],
             [
              0.6666666666666666,
              "#ed7953"
             ],
             [
              0.7777777777777778,
              "#fb9f3a"
             ],
             [
              0.8888888888888888,
              "#fdca26"
             ],
             [
              1,
              "#f0f921"
             ]
            ],
            "type": "histogram2dcontour"
           }
          ],
          "mesh3d": [
           {
            "colorbar": {
             "outlinewidth": 0,
             "ticks": ""
            },
            "type": "mesh3d"
           }
          ],
          "parcoords": [
           {
            "line": {
             "colorbar": {
              "outlinewidth": 0,
              "ticks": ""
             }
            },
            "type": "parcoords"
           }
          ],
          "pie": [
           {
            "automargin": true,
            "type": "pie"
           }
          ],
          "scatter": [
           {
            "fillpattern": {
             "fillmode": "overlay",
             "size": 10,
             "solidity": 0.2
            },
            "type": "scatter"
           }
          ],
          "scatter3d": [
           {
            "line": {
             "colorbar": {
              "outlinewidth": 0,
              "ticks": ""
             }
            },
            "marker": {
             "colorbar": {
              "outlinewidth": 0,
              "ticks": ""
             }
            },
            "type": "scatter3d"
           }
          ],
          "scattercarpet": [
           {
            "marker": {
             "colorbar": {
              "outlinewidth": 0,
              "ticks": ""
             }
            },
            "type": "scattercarpet"
           }
          ],
          "scattergeo": [
           {
            "marker": {
             "colorbar": {
              "outlinewidth": 0,
              "ticks": ""
             }
            },
            "type": "scattergeo"
           }
          ],
          "scattergl": [
           {
            "marker": {
             "colorbar": {
              "outlinewidth": 0,
              "ticks": ""
             }
            },
            "type": "scattergl"
           }
          ],
          "scattermapbox": [
           {
            "marker": {
             "colorbar": {
              "outlinewidth": 0,
              "ticks": ""
             }
            },
            "type": "scattermapbox"
           }
          ],
          "scatterpolar": [
           {
            "marker": {
             "colorbar": {
              "outlinewidth": 0,
              "ticks": ""
             }
            },
            "type": "scatterpolar"
           }
          ],
          "scatterpolargl": [
           {
            "marker": {
             "colorbar": {
              "outlinewidth": 0,
              "ticks": ""
             }
            },
            "type": "scatterpolargl"
           }
          ],
          "scatterternary": [
           {
            "marker": {
             "colorbar": {
              "outlinewidth": 0,
              "ticks": ""
             }
            },
            "type": "scatterternary"
           }
          ],
          "surface": [
           {
            "colorbar": {
             "outlinewidth": 0,
             "ticks": ""
            },
            "colorscale": [
             [
              0,
              "#0d0887"
             ],
             [
              0.1111111111111111,
              "#46039f"
             ],
             [
              0.2222222222222222,
              "#7201a8"
             ],
             [
              0.3333333333333333,
              "#9c179e"
             ],
             [
              0.4444444444444444,
              "#bd3786"
             ],
             [
              0.5555555555555556,
              "#d8576b"
             ],
             [
              0.6666666666666666,
              "#ed7953"
             ],
             [
              0.7777777777777778,
              "#fb9f3a"
             ],
             [
              0.8888888888888888,
              "#fdca26"
             ],
             [
              1,
              "#f0f921"
             ]
            ],
            "type": "surface"
           }
          ],
          "table": [
           {
            "cells": {
             "fill": {
              "color": "#EBF0F8"
             },
             "line": {
              "color": "white"
             }
            },
            "header": {
             "fill": {
              "color": "#C8D4E3"
             },
             "line": {
              "color": "white"
             }
            },
            "type": "table"
           }
          ]
         },
         "layout": {
          "annotationdefaults": {
           "arrowcolor": "#2a3f5f",
           "arrowhead": 0,
           "arrowwidth": 1
          },
          "autotypenumbers": "strict",
          "coloraxis": {
           "colorbar": {
            "outlinewidth": 0,
            "ticks": ""
           }
          },
          "colorscale": {
           "diverging": [
            [
             0,
             "#8e0152"
            ],
            [
             0.1,
             "#c51b7d"
            ],
            [
             0.2,
             "#de77ae"
            ],
            [
             0.3,
             "#f1b6da"
            ],
            [
             0.4,
             "#fde0ef"
            ],
            [
             0.5,
             "#f7f7f7"
            ],
            [
             0.6,
             "#e6f5d0"
            ],
            [
             0.7,
             "#b8e186"
            ],
            [
             0.8,
             "#7fbc41"
            ],
            [
             0.9,
             "#4d9221"
            ],
            [
             1,
             "#276419"
            ]
           ],
           "sequential": [
            [
             0,
             "#0d0887"
            ],
            [
             0.1111111111111111,
             "#46039f"
            ],
            [
             0.2222222222222222,
             "#7201a8"
            ],
            [
             0.3333333333333333,
             "#9c179e"
            ],
            [
             0.4444444444444444,
             "#bd3786"
            ],
            [
             0.5555555555555556,
             "#d8576b"
            ],
            [
             0.6666666666666666,
             "#ed7953"
            ],
            [
             0.7777777777777778,
             "#fb9f3a"
            ],
            [
             0.8888888888888888,
             "#fdca26"
            ],
            [
             1,
             "#f0f921"
            ]
           ],
           "sequentialminus": [
            [
             0,
             "#0d0887"
            ],
            [
             0.1111111111111111,
             "#46039f"
            ],
            [
             0.2222222222222222,
             "#7201a8"
            ],
            [
             0.3333333333333333,
             "#9c179e"
            ],
            [
             0.4444444444444444,
             "#bd3786"
            ],
            [
             0.5555555555555556,
             "#d8576b"
            ],
            [
             0.6666666666666666,
             "#ed7953"
            ],
            [
             0.7777777777777778,
             "#fb9f3a"
            ],
            [
             0.8888888888888888,
             "#fdca26"
            ],
            [
             1,
             "#f0f921"
            ]
           ]
          },
          "colorway": [
           "#636efa",
           "#EF553B",
           "#00cc96",
           "#ab63fa",
           "#FFA15A",
           "#19d3f3",
           "#FF6692",
           "#B6E880",
           "#FF97FF",
           "#FECB52"
          ],
          "font": {
           "color": "#2a3f5f"
          },
          "geo": {
           "bgcolor": "white",
           "lakecolor": "white",
           "landcolor": "#E5ECF6",
           "showlakes": true,
           "showland": true,
           "subunitcolor": "white"
          },
          "hoverlabel": {
           "align": "left"
          },
          "hovermode": "closest",
          "mapbox": {
           "style": "light"
          },
          "paper_bgcolor": "white",
          "plot_bgcolor": "#E5ECF6",
          "polar": {
           "angularaxis": {
            "gridcolor": "white",
            "linecolor": "white",
            "ticks": ""
           },
           "bgcolor": "#E5ECF6",
           "radialaxis": {
            "gridcolor": "white",
            "linecolor": "white",
            "ticks": ""
           }
          },
          "scene": {
           "xaxis": {
            "backgroundcolor": "#E5ECF6",
            "gridcolor": "white",
            "gridwidth": 2,
            "linecolor": "white",
            "showbackground": true,
            "ticks": "",
            "zerolinecolor": "white"
           },
           "yaxis": {
            "backgroundcolor": "#E5ECF6",
            "gridcolor": "white",
            "gridwidth": 2,
            "linecolor": "white",
            "showbackground": true,
            "ticks": "",
            "zerolinecolor": "white"
           },
           "zaxis": {
            "backgroundcolor": "#E5ECF6",
            "gridcolor": "white",
            "gridwidth": 2,
            "linecolor": "white",
            "showbackground": true,
            "ticks": "",
            "zerolinecolor": "white"
           }
          },
          "shapedefaults": {
           "line": {
            "color": "#2a3f5f"
           }
          },
          "ternary": {
           "aaxis": {
            "gridcolor": "white",
            "linecolor": "white",
            "ticks": ""
           },
           "baxis": {
            "gridcolor": "white",
            "linecolor": "white",
            "ticks": ""
           },
           "bgcolor": "#E5ECF6",
           "caxis": {
            "gridcolor": "white",
            "linecolor": "white",
            "ticks": ""
           }
          },
          "title": {
           "x": 0.05
          },
          "xaxis": {
           "automargin": true,
           "gridcolor": "white",
           "linecolor": "white",
           "ticks": "",
           "title": {
            "standoff": 15
           },
           "zerolinecolor": "white",
           "zerolinewidth": 2
          },
          "yaxis": {
           "automargin": true,
           "gridcolor": "white",
           "linecolor": "white",
           "ticks": "",
           "title": {
            "standoff": 15
           },
           "zerolinecolor": "white",
           "zerolinewidth": 2
          }
         }
        },
        "title": {
         "text": "Plotly Plot"
        }
       }
      }
     },
     "metadata": {},
     "output_type": "display_data"
    }
   ],
   "source": [
    "# net.flip_curve(2, n = 10)          # Flip the curvature of one edge\n",
    "net.auto_flip_curves(n = 10)        # Automatically flip the curvature of the edges. Directions will become 1, -1, 1, -1, ...\n",
    "net.flip_curves()                   # Flip all the edges.\n",
    "net.flip_curves([8], n = 10)       # Flip the curvature of multiple edges\n",
    "net.net_plot(color=True, plot_type='arcs', elables=True)"
   ]
  },
  {
   "cell_type": "code",
   "execution_count": 15,
   "metadata": {},
   "outputs": [
    {
     "data": {
      "text/plain": [
       "(array([[-8.08854089,  8.2168042 ,  0.        ],\n",
       "        [-4.19378708,  4.56792606,  0.        ],\n",
       "        [ 0.82980972,  0.48897919,  0.        ],\n",
       "        [ 4.65545589, -4.80384375,  0.        ],\n",
       "        [ 7.94169568, -7.97488877,  0.        ],\n",
       "        [-8.01807825, -8.26002251,  0.        ],\n",
       "        [-4.28168326, -5.05128022,  0.        ],\n",
       "        [ 4.69849867,  4.42841963,  0.        ],\n",
       "        [ 8.1107842 ,  8.02478071,  0.        ]]),\n",
       " 189.1421868675933)"
      ]
     },
     "execution_count": 15,
     "metadata": {},
     "output_type": "execute_result"
    }
   ],
   "source": [
    "scalar_all = 0.13468700594861674\n",
    "net.vertices_scaled*scalar_all, R*scalar_all"
   ]
  },
  {
   "cell_type": "code",
   "execution_count": 16,
   "metadata": {},
   "outputs": [
    {
     "data": {
      "text/plain": [
       "array([[-74.24621202,  74.24621202,   0.        ],\n",
       "       [-34.06261627,  37.01244298,   0.        ],\n",
       "       [  6.15631914,   3.25299698,   0.        ],\n",
       "       [ 38.42749205, -38.80003746,   0.        ],\n",
       "       [ 74.24621202, -74.24621202,   0.        ],\n",
       "       [-74.24621202, -74.24621202,   0.        ],\n",
       "       [-35.5991752 , -40.27183354,   0.        ],\n",
       "       [ 37.56782572,  36.00276605,   0.        ],\n",
       "       [ 74.24621202,  74.24621202,   0.        ]])"
      ]
     },
     "execution_count": 16,
     "metadata": {},
     "output_type": "execute_result"
    }
   ],
   "source": [
    "net.vertices"
   ]
  },
  {
   "cell_type": "code",
   "execution_count": 14,
   "metadata": {},
   "outputs": [
    {
     "name": "stdout",
     "output_type": "stream",
     "text": [
      "\\draw (-8.089, 8.217) -- (-4.194, 4.568);\n",
      "\\draw (-4.194, 4.568) arc (211.059:250.791:9.521);\n",
      "\\draw (0.830, 0.489) arc (196.202:235.517:9.707);\n",
      "\\draw (4.655, -4.804) -- (7.942, -7.975);\n",
      "\\draw (-8.018, -8.260) -- (-4.282, -5.051);\n",
      "\\draw (-4.282, -5.051) arc (298.521:336.089:11.705);\n",
      "\\draw (0.830, 0.489) arc (294.531:336.507:7.708);\n",
      "\\draw (4.698, 4.428) -- (8.111, 8.025);\n",
      "\\draw (-4.194, 4.568) arc (171.531:187.422:34.796);\n",
      "\\draw (-4.282, -5.051) arc (263.713:279.458:32.637);\n",
      "\\draw (4.655, -4.804) -- (4.698, 4.428);\n",
      "\\draw (4.698, 4.428) arc (87.754:90.448:189.142);\n"
     ]
    },
    {
     "name": "stderr",
     "output_type": "stream",
     "text": [
      "<>:8: SyntaxWarning:\n",
      "\n",
      "invalid escape sequence '\\d'\n",
      "\n",
      "<>:11: SyntaxWarning:\n",
      "\n",
      "invalid escape sequence '\\d'\n",
      "\n",
      "<>:13: SyntaxWarning:\n",
      "\n",
      "invalid escape sequence '\\d'\n",
      "\n",
      "<>:8: SyntaxWarning:\n",
      "\n",
      "invalid escape sequence '\\d'\n",
      "\n",
      "<>:11: SyntaxWarning:\n",
      "\n",
      "invalid escape sequence '\\d'\n",
      "\n",
      "<>:13: SyntaxWarning:\n",
      "\n",
      "invalid escape sequence '\\d'\n",
      "\n",
      "C:\\Users\\thijs\\AppData\\Local\\Temp\\ipykernel_22136\\2300754454.py:8: SyntaxWarning:\n",
      "\n",
      "invalid escape sequence '\\d'\n",
      "\n",
      "C:\\Users\\thijs\\AppData\\Local\\Temp\\ipykernel_22136\\2300754454.py:11: SyntaxWarning:\n",
      "\n",
      "invalid escape sequence '\\d'\n",
      "\n",
      "C:\\Users\\thijs\\AppData\\Local\\Temp\\ipykernel_22136\\2300754454.py:13: SyntaxWarning:\n",
      "\n",
      "invalid escape sequence '\\d'\n",
      "\n"
     ]
    }
   ],
   "source": [
    "for edge_i, edge in enumerate(net.edges):\n",
    "    v0, v1 = edge\n",
    "    coor0, coor1 = net.vertices_scaled[v0], net.vertices_scaled[v1]\n",
    "    R, th = net.R[edge_i], net.th[edge_i]\n",
    "    center, theta0, theta1 = net._points_on_arc(coor0[:2], coor1[:2], R, print_parameters = True)\n",
    "    # print(coor0[:2]/10, theta0*180/np.pi, theta1*180/np.pi, R)\n",
    "    if R/10 > 10000:\n",
    "        print(f\"\\draw ({coor0[0]*scalar_all:.3f}, {coor0[1]* scalar_all:.3f}) -- ({coor1[0]* scalar_all:.3f}, {coor1[1]* scalar_all:.3f});\")\n",
    "        continue\n",
    "    if theta0 > theta1:\n",
    "        print(f\"\\draw ({coor1[0]* scalar_all:.3f}, {coor1[1]* scalar_all:.3f}) arc ({theta0*180/np.pi:.3f}:{theta1*180/np.pi:.3f}:{-R* scalar_all:.3f});\")\n",
    "    else:\n",
    "        print(f\"\\draw ({coor0[0]* scalar_all:.3f}, {coor0[1]* scalar_all:.3f}) arc ({theta0*180/np.pi:.3f}:{theta1*180/np.pi:.3f}:{R* scalar_all:.3f});\")"
   ]
  },
  {
   "cell_type": "markdown",
   "metadata": {},
   "source": [
    "### Step 4: Account for intersections. \n",
    "Curved paths and intersections are automatically set up in the backend"
   ]
  },
  {
   "cell_type": "code",
   "execution_count": null,
   "metadata": {},
   "outputs": [],
   "source": [
    "printing_params = load_params(r'DATA/NT_Eel_0.2mm_og.json')\n",
    "# When no interpolation function is provided, linear interpolation is used. No other interpolation function is implemented (yet?).\n",
    "# net.jump_at_intersection(intersection_width = 2, intersection_height = 2, interpolation_function=None) # These settings are just for visibility, this would be way to much\n",
    "# These setting are more appropriate for printing\n",
    "net.jump_at_intersection(intersection_width = printing_params['d_nozzle']*1.5, intersection_height = printing_params['layer_height'], interpolation_function=None) \n",
    "net.net_plot(color=True, plot_type='arcs', elables=True)"
   ]
  },
  {
   "cell_type": "markdown",
   "metadata": {},
   "source": [
    "Add loops to easily attach the printed network to a frame"
   ]
  },
  {
   "cell_type": "code",
   "execution_count": null,
   "metadata": {},
   "outputs": [],
   "source": [
    "alpha_loop = np.deg2rad(40) # The angle of the loop\n",
    "L_loop  = 8                # The length of the loop\n",
    "n_points = 10               # The number of points in the loop\n",
    "\n",
    "start_loop_bools = [True, True, False]\n",
    "end_loop_bools = [True, True, False]\n",
    "\n",
    "net.all_loop_to_path(start_loop_bools, end_loop_bools, L_loop, alpha_loop, n_points)"
   ]
  },
  {
   "cell_type": "markdown",
   "metadata": {},
   "source": [
    "Sometimes it takes a while before material starts extruding. This should preferably be fixed in the printer set up, but can me forced by adding a running start to a path"
   ]
  },
  {
   "cell_type": "code",
   "execution_count": null,
   "metadata": {},
   "outputs": [],
   "source": [
    "start_loop_bools = [False, False, False]\n",
    "end_loop_bools = [False, False, False]\n",
    "L_loop  = 2\n",
    "n_points = 5\n",
    "net.add_running_start(start_loop_bools, end_loop_bools, L_loop, n_points)"
   ]
  },
  {
   "cell_type": "code",
   "execution_count": null,
   "metadata": {},
   "outputs": [],
   "source": [
    "net.save_network(os.path.join(BYU_UW_root, 'networks', model_name + '_net.pkl'))"
   ]
  },
  {
   "cell_type": "markdown",
   "metadata": {},
   "source": [
    "### Step 5: Generate G-code\n",
    "Import and finalize printing parameters for materials and starting and end .gcode for the top. The start gcode has additional settings for temperatures and Linear Advance (K-factor). Linear advance is important for TPU as it is very visco-elastic. Linear advance can account for this"
   ]
  },
  {
   "cell_type": "code",
   "execution_count": null,
   "metadata": {},
   "outputs": [],
   "source": [
    "printing_params = load_params(r'DATA/NT_Eel_0.2mm_og.json')\n",
    "start_gcode     = open(r'DATA/start_gcode.gcode', 'r').read()\n",
    "end_gcode       = open(r'DATA/end_gcode.gcode', 'r').read()\n",
    "\n",
    "temperature_settings = {'first_layer_bed_temperature': 65, 'first_layer_temperature':205, 'K-factor': 0.20}\n",
    "g_code = replace_brackets(start_gcode, temperature_settings)\n",
    "\n",
    "comment = ''\n",
    "\n",
    "bed_width = 230\n",
    "bed_height = 210\n",
    "\n",
    "gen = G_code_generator(printing_params=printing_params)\n",
    "\n",
    "printing_params['print_feedrate']"
   ]
  },
  {
   "cell_type": "markdown",
   "metadata": {},
   "source": [
    "Make a Purge Line"
   ]
  },
  {
   "cell_type": "code",
   "execution_count": null,
   "metadata": {},
   "outputs": [],
   "source": [
    "point0, point1 = [20,15,0.3], [90,15,0.3]\n",
    "point2, point3 = [90,10,0.3], [20,10,0.3]\n",
    "g_code += gen.move_to_point(point0[0:2], point0[2] + printing_params['nozzle_lift'], comment='Move to start point')\n",
    "g_code += gen.move_to_point(point0[0:2], point0[2], comment='Lower Nozzle')\n",
    "g_code += gen.unretract()\n",
    "g_code += gen._print_line(\n",
    "        point0=point0,\n",
    "        point1=point1,\n",
    "        move_to_start=False, # move to start point without extruding\n",
    "        extrude_factor=printing_params['extrude_factor']*2.5,\n",
    "        comment=comment)\n",
    "g_code += gen.retract()\n",
    "g_code += gen.move_to_point(point2[0:2], point2[2] + printing_params['nozzle_lift'], comment='Move to start point')\n",
    "g_code += gen.move_to_point(point2[0:2], point2[2], comment='Lower Nozzle')\n",
    "g_code += gen.unretract()\n",
    "g_code += gen._print_line(\n",
    "        point0=point2,\n",
    "        point1=point3,\n",
    "        move_to_start=False, # move to start point without extruding\n",
    "        extrude_factor=printing_params['extrude_factor']*2.5,\n",
    "        comment=comment)\n",
    "g_code += gen.retract()\n",
    "g_code += gen.wipe(np.pi) # Wipe the nozzle horizontally"
   ]
  },
  {
   "cell_type": "markdown",
   "metadata": {},
   "source": [
    "Make the paths"
   ]
  },
  {
   "cell_type": "code",
   "execution_count": null,
   "metadata": {},
   "outputs": [],
   "source": [
    "for path_i, cor_list in enumerate(net.paths_xyz):\n",
    "    g_code += '\\n;Path (' + str(path_i) + ' ' + str(path_i) + ')\\n'\n",
    "    cor_list   = np.array(cor_list)\n",
    "    # Move the coordinates to the center of the bed and add the layer height\n",
    "    cor_list[:,0] += bed_width/2\n",
    "    cor_list[:,1] += bed_height/2 - 1\n",
    "    cor_list[:,2] += printing_params['layer_height']\n",
    "    g_code += '\\n'\n",
    "    # Move the coordinates to the start point\n",
    "    g_code += gen.move_to_point(cor_list[0][0:2], cor_list[0][2] + printing_params['nozzle_lift'], comment='Move to start point')\n",
    "    # Lower the nozzle\n",
    "    g_code += gen.move_to_point(cor_list[0][0:2], cor_list[0][2], comment='Lower Nozzle')\n",
    "    # Unretract the filament\n",
    "    g_code += gen.unretract()\n",
    "    # Print the path\n",
    "    for point0, point1 in zip(cor_list[:-1], cor_list[1:]):\n",
    "        g_code += gen._print_line(\n",
    "            point0=point0,\n",
    "            point1=point1,\n",
    "            move_to_start=False, # move to start point without extruding\n",
    "            extrude_factor = printing_params['extrude_factor'],\n",
    "            comment=comment)\n",
    "    # Retract the filament\n",
    "    g_code += gen.retract()\n",
    "    # Wipe the nozzle\n",
    "    g_code += gen.wipe_from_last_points(g_code)    \n",
    "    # Raise the nozzle\n",
    "    g_code += gen.move_to_point(point1[0:2], point1[2] + printing_params['nozzle_lift'], speed_factor=0.5, comment='Raise Nozzle')\n",
    "\n",
    "g_code += end_gcode\n",
    "with open(os.path.join('DATA', 'generated_gcodes', model_name + '.gcode'), \"w\") as g_code_file:\n",
    "    g_code_file.write(g_code)\n",
    "print('G-code generated')"
   ]
  },
  {
   "cell_type": "code",
   "execution_count": null,
   "metadata": {},
   "outputs": [],
   "source": [
    "net.paths_xyz[-1]"
   ]
  },
  {
   "cell_type": "code",
   "execution_count": null,
   "metadata": {},
   "outputs": [],
   "source": [
    "minx, miny = 90, 90\n",
    "maxx, maxy = 0, 0\n",
    "for path_i, cor_list in enumerate(net.paths_xyz):\n",
    "    cor_list   = np.array(cor_list)\n",
    "    minx = min(minx, np.min(cor_list[:,0]))\n",
    "    miny = min(miny, np.min(cor_list[:,1]))\n",
    "    maxx = max(maxx, np.max(cor_list[:,0]))\n",
    "    maxy = max(maxy, np.max(cor_list[:,1]))\n",
    "\n",
    "minx + bed_width/2, miny + bed_height/2, maxx + bed_width/2, maxy + bed_height/2"
   ]
  }
 ],
 "metadata": {
  "kernelspec": {
   "display_name": "base",
   "language": "python",
   "name": "python3"
  },
  "language_info": {
   "codemirror_mode": {
    "name": "ipython",
    "version": 3
   },
   "file_extension": ".py",
   "mimetype": "text/x-python",
   "name": "python",
   "nbconvert_exporter": "python",
   "pygments_lexer": "ipython3",
   "version": "3.12.3"
  }
 },
 "nbformat": 4,
 "nbformat_minor": 2
}
