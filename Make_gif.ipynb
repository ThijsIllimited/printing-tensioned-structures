{
 "cells": [
  {
   "cell_type": "code",
   "execution_count": null,
   "metadata": {},
   "outputs": [],
   "source": [
    "from PIL import Image\n",
    "import glob"
   ]
  },
  {
   "cell_type": "code",
   "execution_count": null,
   "metadata": {},
   "outputs": [],
   "source": [
    "# Settings\n",
    "image_folder = r'G:\\.shortcut-targets-by-id\\1k1B8zPb3T8H7y6x0irFZnzzmfQPHMRPx\\Illimited Lab Projects\\Research Projects\\Spiders\\BYU-UW\\images\\tensegrity\\pictures\\gif'        # Folder with input images\n",
    "output_gif = 'tensegrity.gif'       # Output file name\n",
    "duration = 100                  # Duration per frame in milliseconds (100 ms = 10 FPS)\n",
    "loop = 0                        # 0 = infinite loop\n",
    "\n",
    "# Load images\n",
    "image_files = sorted(glob.glob(f\"{image_folder}/*.JPG\"))  # or .jpg, .jpeg, etc.\n",
    "images = [Image.open(img) for img in image_files]\n",
    "\n",
    "# Save as GIF\n",
    "if images:\n",
    "    images[0].save(\n",
    "        output_gif,\n",
    "        save_all=True,\n",
    "        append_images=images[1:],\n",
    "        duration=duration,\n",
    "        loop=loop\n",
    "    )\n",
    "    print(f\"Saved GIF as {output_gif}\")\n",
    "else:\n",
    "    print(\"No images found.\")\n"
   ]
  }
 ],
 "metadata": {
  "kernelspec": {
   "display_name": "base",
   "language": "python",
   "name": "python3"
  },
  "language_info": {
   "name": "python",
   "version": "3.12.3"
  }
 },
 "nbformat": 4,
 "nbformat_minor": 2
}
