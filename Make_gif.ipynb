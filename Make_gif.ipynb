{
 "cells": [
  {
   "cell_type": "code",
   "execution_count": 3,
   "metadata": {},
   "outputs": [],
   "source": [
    "from PIL import Image\n",
    "import glob\n",
    "import os"
   ]
  },
  {
   "cell_type": "code",
   "execution_count": 6,
   "metadata": {},
   "outputs": [
    {
     "name": "stdout",
     "output_type": "stream",
     "text": [
      "Saved GIF as tensegrity.gif\n"
     ]
    }
   ],
   "source": [
    "# Settings\n",
    "image_folder = r'G:\\.shortcut-targets-by-id\\1k1B8zPb3T8H7y6x0irFZnzzmfQPHMRPx\\Illimited Lab Projects\\Research Projects\\Spiders\\BYU-UW\\images\\tensegrity\\pictures\\gif'        # Folder with input images\n",
    "output_gif = 'tensegrity.gif'       # Output file name\n",
    "duration = 200                  # Duration per frame in milliseconds (100 ms = 10 FPS)\n",
    "loop = 0                        # 0 = infinite loop\n",
    "\n",
    "# Load images\n",
    "image_files = sorted(glob.glob(f\"{image_folder}/*.JPG\"))  # or .jpg, .jpeg, etc.\n",
    "images = [Image.open(img) for img in image_files]\n",
    "base = Image.open(image_files[0]).convert(\"RGBA\")\n",
    "images = [base]\n",
    "\n",
    "for file in image_files[1:]:\n",
    "    img = Image.open(file).convert(\"RGBA\")\n",
    "    img = img.resize(base.size)  # Match size of first frame\n",
    "    images.append(img)\n",
    "\n",
    "# Save as GIF\n",
    "if images:\n",
    "    images[0].save(\n",
    "        os.path.join(image_folder, output_gif),\n",
    "        save_all=True,\n",
    "        append_images=images[1:],\n",
    "        duration=duration,\n",
    "        loop=loop\n",
    "    )\n",
    "    print(f\"Saved GIF as {output_gif}\")\n",
    "else:\n",
    "    print(\"No images found.\")\n"
   ]
  }
 ],
 "metadata": {
  "kernelspec": {
   "display_name": "base",
   "language": "python",
   "name": "python3"
  },
  "language_info": {
   "codemirror_mode": {
    "name": "ipython",
    "version": 3
   },
   "file_extension": ".py",
   "mimetype": "text/x-python",
   "name": "python",
   "nbconvert_exporter": "python",
   "pygments_lexer": "ipython3",
   "version": "3.12.3"
  }
 },
 "nbformat": 4,
 "nbformat_minor": 2
}
