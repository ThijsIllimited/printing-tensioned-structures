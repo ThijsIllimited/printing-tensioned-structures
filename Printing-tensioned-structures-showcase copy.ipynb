{
 "cells": [
  {
   "cell_type": "code",
   "execution_count": 1,
   "metadata": {},
   "outputs": [],
   "source": [
    "# Ensure you have the following installed:\n",
    "# numpy\n",
    "# os\n",
    "# compas\n",
    "# compas_fd\n",
    "# warnings\n",
    "# traceback\n",
    "# pickle\n",
    "\n",
    "# Install by running:\n",
    "# !pip install -r requirements.txt"
   ]
  },
  {
   "cell_type": "code",
   "execution_count": 2,
   "metadata": {},
   "outputs": [],
   "source": [
    "import numpy as np\n",
    "import pickle\n",
    "import pandas as pd\n",
    "\n",
    "# G-code generation codes are cloned from https://github.com/tibor-barsi/GcodeGenerator. Tibor Barsi is the author of the code, and was a PhD student at the Ladisk lab of the University of Ljubljana\n",
    "#  We should be careful with crediting the author of the code, if we ever want to make these code public.\n",
    "from src.g_code_generation_copy.gcode_generator import G_code_generator\n",
    "from src.g_code_generation_copy.tool_changer_functions import save_params, load_params, printer_start, load_tool, unload_tool, tool_change, take_photo, play_sound, printer_stop\n",
    "# from src.additional_functions import *\n",
    "from src.network import Network_custom, replace_brackets\n",
    "import os\n",
    "\n",
    "BYU_UW_root = r\"G:\\.shortcut-targets-by-id\\1k1B8zPb3T8H7y6x0irFZnzzmfQPHMRPx\\Illimited Lab Projects\\Research Projects\\Spiders\\BYU-UW\""
   ]
  },
  {
   "cell_type": "markdown",
   "metadata": {},
   "source": [
    "### Step 1: Define the network"
   ]
  },
  {
   "cell_type": "code",
   "execution_count": 3,
   "metadata": {},
   "outputs": [
    {
     "data": {
      "application/vnd.plotly.v1+json": {
       "config": {
        "plotlyServerURL": "https://plot.ly"
       },
       "data": [
        {
         "line": {
          "color": [
           0.5240270049064468,
           0.5240270049064468,
           0,
           0.09060001697012378,
           0.09060001697012378,
           0,
           0.1707112037754466,
           0.1707112037754466,
           0,
           0.4886797920047226,
           0.4886797920047226,
           0,
           0.44970857260276553,
           0.44970857260276553,
           0,
           0.07464794305469792,
           0.07464794305469792,
           0,
           0.07673197973347073,
           0.07673197973347073,
           0,
           0.5059477110551259,
           0.5059477110551259,
           0,
           0.25831137458946724,
           0.25831137458946724,
           0,
           0.21456921847188803,
           0.21456921847188803,
           0,
           0.2348560460131335,
           0.2348560460131335,
           0,
           0.41403946617512105,
           0.41403946617512105,
           0
          ],
          "colorbar": {
           "title": {
            "text": "Force"
           }
          },
          "colorscale": [
           [
            0,
            "#440154"
           ],
           [
            0.1111111111111111,
            "#482878"
           ],
           [
            0.2222222222222222,
            "#3e4989"
           ],
           [
            0.3333333333333333,
            "#31688e"
           ],
           [
            0.4444444444444444,
            "#26828e"
           ],
           [
            0.5555555555555556,
            "#1f9e89"
           ],
           [
            0.6666666666666666,
            "#35b779"
           ],
           [
            0.7777777777777778,
            "#6ece58"
           ],
           [
            0.8888888888888888,
            "#b5de2b"
           ],
           [
            1,
            "#fde725"
           ]
          ],
          "showscale": true,
          "width": 3
         },
         "mode": "lines",
         "type": "scatter3d",
         "x": [
          -100,
          -28.507629326386308,
          null,
          -28.507629326386308,
          20.320059545962042,
          null,
          20.320059545962042,
          32.82471157424638,
          null,
          32.82471157424638,
          100,
          null,
          0,
          3.1112765165612224,
          null,
          3.1112765165612224,
          20.320059545962042,
          null,
          20.320059545962042,
          -7.428358764421287,
          null,
          -7.428358764421287,
          0,
          null,
          -28.507629326386308,
          3.1112765165612224,
          null,
          3.1112765165612224,
          32.82471157424638,
          null,
          32.82471157424638,
          -7.428358764421287,
          null,
          -7.428358764421287,
          -28.507629326386308,
          null
         ],
         "y": [
          0,
          8.976553777446961,
          null,
          8.976553777446961,
          -0.967621883141058,
          null,
          -0.967621883141058,
          -1.5630815035355499,
          null,
          -1.5630815035355499,
          0,
          null,
          -100,
          -38.24339411983626,
          null,
          -38.24339411983626,
          -0.967621883141058,
          null,
          -0.967621883141058,
          30.829921845924815,
          null,
          30.829921845924815,
          100,
          null,
          8.976553777446961,
          -38.24339411983626,
          null,
          -38.24339411983626,
          -1.5630815035355499,
          null,
          -1.5630815035355499,
          30.829921845924815,
          null,
          30.829921845924815,
          8.976553777446961,
          null
         ],
         "z": [
          0,
          0,
          null,
          0,
          0,
          null,
          0,
          0,
          null,
          0,
          0,
          null,
          0,
          0,
          null,
          0,
          0,
          null,
          0,
          0,
          null,
          0,
          0,
          null,
          0,
          0,
          null,
          0,
          0,
          null,
          0,
          0,
          null,
          0,
          0,
          null
         ]
        },
        {
         "mode": "text",
         "text": [
          "0"
         ],
         "type": "scatter3d",
         "x": [
          -64.25381466319315
         ],
         "y": [
          4.4882768887234805
         ],
         "z": [
          0
         ]
        },
        {
         "mode": "text",
         "text": [
          "1"
         ],
         "type": "scatter3d",
         "x": [
          -4.093784890212133
         ],
         "y": [
          4.004465947152951
         ],
         "z": [
          0
         ]
        },
        {
         "mode": "text",
         "text": [
          "2"
         ],
         "type": "scatter3d",
         "x": [
          26.57238556010421
         ],
         "y": [
          -1.265351693338304
         ],
         "z": [
          0
         ]
        },
        {
         "mode": "text",
         "text": [
          "3"
         ],
         "type": "scatter3d",
         "x": [
          66.41235578712319
         ],
         "y": [
          -0.7815407517677749
         ],
         "z": [
          0
         ]
        },
        {
         "mode": "text",
         "text": [
          "4"
         ],
         "type": "scatter3d",
         "x": [
          1.5556382582806112
         ],
         "y": [
          -69.12169705991813
         ],
         "z": [
          0
         ]
        },
        {
         "mode": "text",
         "text": [
          "5"
         ],
         "type": "scatter3d",
         "x": [
          11.715668031261632
         ],
         "y": [
          -19.60550800148866
         ],
         "z": [
          0
         ]
        },
        {
         "mode": "text",
         "text": [
          "6"
         ],
         "type": "scatter3d",
         "x": [
          6.445850390770378
         ],
         "y": [
          14.93114998139188
         ],
         "z": [
          0
         ]
        },
        {
         "mode": "text",
         "text": [
          "7"
         ],
         "type": "scatter3d",
         "x": [
          -3.7141793822106437
         ],
         "y": [
          65.41496092296241
         ],
         "z": [
          0
         ]
        },
        {
         "mode": "text",
         "text": [
          "8"
         ],
         "type": "scatter3d",
         "x": [
          -12.698176404912543
         ],
         "y": [
          -14.63342017119465
         ],
         "z": [
          0
         ]
        },
        {
         "mode": "text",
         "text": [
          "9"
         ],
         "type": "scatter3d",
         "x": [
          17.9679940454038
         ],
         "y": [
          -19.903237811685905
         ],
         "z": [
          0
         ]
        },
        {
         "mode": "text",
         "text": [
          "10"
         ],
         "type": "scatter3d",
         "x": [
          12.698176404912546
         ],
         "y": [
          14.633420171194633
         ],
         "z": [
          0
         ]
        },
        {
         "mode": "text",
         "text": [
          "11"
         ],
         "type": "scatter3d",
         "x": [
          -17.9679940454038
         ],
         "y": [
          19.903237811685887
         ],
         "z": [
          0
         ]
        }
       ],
       "layout": {
        "scene": {
         "aspectmode": "data",
         "camera": {
          "center": {
           "x": 0,
           "y": 0,
           "z": 0
          },
          "eye": {
           "x": 0,
           "y": 0,
           "z": 5
          },
          "up": {
           "x": 0,
           "y": 1,
           "z": 0
          }
         }
        },
        "template": {
         "data": {
          "bar": [
           {
            "error_x": {
             "color": "#2a3f5f"
            },
            "error_y": {
             "color": "#2a3f5f"
            },
            "marker": {
             "line": {
              "color": "#E5ECF6",
              "width": 0.5
             },
             "pattern": {
              "fillmode": "overlay",
              "size": 10,
              "solidity": 0.2
             }
            },
            "type": "bar"
           }
          ],
          "barpolar": [
           {
            "marker": {
             "line": {
              "color": "#E5ECF6",
              "width": 0.5
             },
             "pattern": {
              "fillmode": "overlay",
              "size": 10,
              "solidity": 0.2
             }
            },
            "type": "barpolar"
           }
          ],
          "carpet": [
           {
            "aaxis": {
             "endlinecolor": "#2a3f5f",
             "gridcolor": "white",
             "linecolor": "white",
             "minorgridcolor": "white",
             "startlinecolor": "#2a3f5f"
            },
            "baxis": {
             "endlinecolor": "#2a3f5f",
             "gridcolor": "white",
             "linecolor": "white",
             "minorgridcolor": "white",
             "startlinecolor": "#2a3f5f"
            },
            "type": "carpet"
           }
          ],
          "choropleth": [
           {
            "colorbar": {
             "outlinewidth": 0,
             "ticks": ""
            },
            "type": "choropleth"
           }
          ],
          "contour": [
           {
            "colorbar": {
             "outlinewidth": 0,
             "ticks": ""
            },
            "colorscale": [
             [
              0,
              "#0d0887"
             ],
             [
              0.1111111111111111,
              "#46039f"
             ],
             [
              0.2222222222222222,
              "#7201a8"
             ],
             [
              0.3333333333333333,
              "#9c179e"
             ],
             [
              0.4444444444444444,
              "#bd3786"
             ],
             [
              0.5555555555555556,
              "#d8576b"
             ],
             [
              0.6666666666666666,
              "#ed7953"
             ],
             [
              0.7777777777777778,
              "#fb9f3a"
             ],
             [
              0.8888888888888888,
              "#fdca26"
             ],
             [
              1,
              "#f0f921"
             ]
            ],
            "type": "contour"
           }
          ],
          "contourcarpet": [
           {
            "colorbar": {
             "outlinewidth": 0,
             "ticks": ""
            },
            "type": "contourcarpet"
           }
          ],
          "heatmap": [
           {
            "colorbar": {
             "outlinewidth": 0,
             "ticks": ""
            },
            "colorscale": [
             [
              0,
              "#0d0887"
             ],
             [
              0.1111111111111111,
              "#46039f"
             ],
             [
              0.2222222222222222,
              "#7201a8"
             ],
             [
              0.3333333333333333,
              "#9c179e"
             ],
             [
              0.4444444444444444,
              "#bd3786"
             ],
             [
              0.5555555555555556,
              "#d8576b"
             ],
             [
              0.6666666666666666,
              "#ed7953"
             ],
             [
              0.7777777777777778,
              "#fb9f3a"
             ],
             [
              0.8888888888888888,
              "#fdca26"
             ],
             [
              1,
              "#f0f921"
             ]
            ],
            "type": "heatmap"
           }
          ],
          "heatmapgl": [
           {
            "colorbar": {
             "outlinewidth": 0,
             "ticks": ""
            },
            "colorscale": [
             [
              0,
              "#0d0887"
             ],
             [
              0.1111111111111111,
              "#46039f"
             ],
             [
              0.2222222222222222,
              "#7201a8"
             ],
             [
              0.3333333333333333,
              "#9c179e"
             ],
             [
              0.4444444444444444,
              "#bd3786"
             ],
             [
              0.5555555555555556,
              "#d8576b"
             ],
             [
              0.6666666666666666,
              "#ed7953"
             ],
             [
              0.7777777777777778,
              "#fb9f3a"
             ],
             [
              0.8888888888888888,
              "#fdca26"
             ],
             [
              1,
              "#f0f921"
             ]
            ],
            "type": "heatmapgl"
           }
          ],
          "histogram": [
           {
            "marker": {
             "pattern": {
              "fillmode": "overlay",
              "size": 10,
              "solidity": 0.2
             }
            },
            "type": "histogram"
           }
          ],
          "histogram2d": [
           {
            "colorbar": {
             "outlinewidth": 0,
             "ticks": ""
            },
            "colorscale": [
             [
              0,
              "#0d0887"
             ],
             [
              0.1111111111111111,
              "#46039f"
             ],
             [
              0.2222222222222222,
              "#7201a8"
             ],
             [
              0.3333333333333333,
              "#9c179e"
             ],
             [
              0.4444444444444444,
              "#bd3786"
             ],
             [
              0.5555555555555556,
              "#d8576b"
             ],
             [
              0.6666666666666666,
              "#ed7953"
             ],
             [
              0.7777777777777778,
              "#fb9f3a"
             ],
             [
              0.8888888888888888,
              "#fdca26"
             ],
             [
              1,
              "#f0f921"
             ]
            ],
            "type": "histogram2d"
           }
          ],
          "histogram2dcontour": [
           {
            "colorbar": {
             "outlinewidth": 0,
             "ticks": ""
            },
            "colorscale": [
             [
              0,
              "#0d0887"
             ],
             [
              0.1111111111111111,
              "#46039f"
             ],
             [
              0.2222222222222222,
              "#7201a8"
             ],
             [
              0.3333333333333333,
              "#9c179e"
             ],
             [
              0.4444444444444444,
              "#bd3786"
             ],
             [
              0.5555555555555556,
              "#d8576b"
             ],
             [
              0.6666666666666666,
              "#ed7953"
             ],
             [
              0.7777777777777778,
              "#fb9f3a"
             ],
             [
              0.8888888888888888,
              "#fdca26"
             ],
             [
              1,
              "#f0f921"
             ]
            ],
            "type": "histogram2dcontour"
           }
          ],
          "mesh3d": [
           {
            "colorbar": {
             "outlinewidth": 0,
             "ticks": ""
            },
            "type": "mesh3d"
           }
          ],
          "parcoords": [
           {
            "line": {
             "colorbar": {
              "outlinewidth": 0,
              "ticks": ""
             }
            },
            "type": "parcoords"
           }
          ],
          "pie": [
           {
            "automargin": true,
            "type": "pie"
           }
          ],
          "scatter": [
           {
            "fillpattern": {
             "fillmode": "overlay",
             "size": 10,
             "solidity": 0.2
            },
            "type": "scatter"
           }
          ],
          "scatter3d": [
           {
            "line": {
             "colorbar": {
              "outlinewidth": 0,
              "ticks": ""
             }
            },
            "marker": {
             "colorbar": {
              "outlinewidth": 0,
              "ticks": ""
             }
            },
            "type": "scatter3d"
           }
          ],
          "scattercarpet": [
           {
            "marker": {
             "colorbar": {
              "outlinewidth": 0,
              "ticks": ""
             }
            },
            "type": "scattercarpet"
           }
          ],
          "scattergeo": [
           {
            "marker": {
             "colorbar": {
              "outlinewidth": 0,
              "ticks": ""
             }
            },
            "type": "scattergeo"
           }
          ],
          "scattergl": [
           {
            "marker": {
             "colorbar": {
              "outlinewidth": 0,
              "ticks": ""
             }
            },
            "type": "scattergl"
           }
          ],
          "scattermapbox": [
           {
            "marker": {
             "colorbar": {
              "outlinewidth": 0,
              "ticks": ""
             }
            },
            "type": "scattermapbox"
           }
          ],
          "scatterpolar": [
           {
            "marker": {
             "colorbar": {
              "outlinewidth": 0,
              "ticks": ""
             }
            },
            "type": "scatterpolar"
           }
          ],
          "scatterpolargl": [
           {
            "marker": {
             "colorbar": {
              "outlinewidth": 0,
              "ticks": ""
             }
            },
            "type": "scatterpolargl"
           }
          ],
          "scatterternary": [
           {
            "marker": {
             "colorbar": {
              "outlinewidth": 0,
              "ticks": ""
             }
            },
            "type": "scatterternary"
           }
          ],
          "surface": [
           {
            "colorbar": {
             "outlinewidth": 0,
             "ticks": ""
            },
            "colorscale": [
             [
              0,
              "#0d0887"
             ],
             [
              0.1111111111111111,
              "#46039f"
             ],
             [
              0.2222222222222222,
              "#7201a8"
             ],
             [
              0.3333333333333333,
              "#9c179e"
             ],
             [
              0.4444444444444444,
              "#bd3786"
             ],
             [
              0.5555555555555556,
              "#d8576b"
             ],
             [
              0.6666666666666666,
              "#ed7953"
             ],
             [
              0.7777777777777778,
              "#fb9f3a"
             ],
             [
              0.8888888888888888,
              "#fdca26"
             ],
             [
              1,
              "#f0f921"
             ]
            ],
            "type": "surface"
           }
          ],
          "table": [
           {
            "cells": {
             "fill": {
              "color": "#EBF0F8"
             },
             "line": {
              "color": "white"
             }
            },
            "header": {
             "fill": {
              "color": "#C8D4E3"
             },
             "line": {
              "color": "white"
             }
            },
            "type": "table"
           }
          ]
         },
         "layout": {
          "annotationdefaults": {
           "arrowcolor": "#2a3f5f",
           "arrowhead": 0,
           "arrowwidth": 1
          },
          "autotypenumbers": "strict",
          "coloraxis": {
           "colorbar": {
            "outlinewidth": 0,
            "ticks": ""
           }
          },
          "colorscale": {
           "diverging": [
            [
             0,
             "#8e0152"
            ],
            [
             0.1,
             "#c51b7d"
            ],
            [
             0.2,
             "#de77ae"
            ],
            [
             0.3,
             "#f1b6da"
            ],
            [
             0.4,
             "#fde0ef"
            ],
            [
             0.5,
             "#f7f7f7"
            ],
            [
             0.6,
             "#e6f5d0"
            ],
            [
             0.7,
             "#b8e186"
            ],
            [
             0.8,
             "#7fbc41"
            ],
            [
             0.9,
             "#4d9221"
            ],
            [
             1,
             "#276419"
            ]
           ],
           "sequential": [
            [
             0,
             "#0d0887"
            ],
            [
             0.1111111111111111,
             "#46039f"
            ],
            [
             0.2222222222222222,
             "#7201a8"
            ],
            [
             0.3333333333333333,
             "#9c179e"
            ],
            [
             0.4444444444444444,
             "#bd3786"
            ],
            [
             0.5555555555555556,
             "#d8576b"
            ],
            [
             0.6666666666666666,
             "#ed7953"
            ],
            [
             0.7777777777777778,
             "#fb9f3a"
            ],
            [
             0.8888888888888888,
             "#fdca26"
            ],
            [
             1,
             "#f0f921"
            ]
           ],
           "sequentialminus": [
            [
             0,
             "#0d0887"
            ],
            [
             0.1111111111111111,
             "#46039f"
            ],
            [
             0.2222222222222222,
             "#7201a8"
            ],
            [
             0.3333333333333333,
             "#9c179e"
            ],
            [
             0.4444444444444444,
             "#bd3786"
            ],
            [
             0.5555555555555556,
             "#d8576b"
            ],
            [
             0.6666666666666666,
             "#ed7953"
            ],
            [
             0.7777777777777778,
             "#fb9f3a"
            ],
            [
             0.8888888888888888,
             "#fdca26"
            ],
            [
             1,
             "#f0f921"
            ]
           ]
          },
          "colorway": [
           "#636efa",
           "#EF553B",
           "#00cc96",
           "#ab63fa",
           "#FFA15A",
           "#19d3f3",
           "#FF6692",
           "#B6E880",
           "#FF97FF",
           "#FECB52"
          ],
          "font": {
           "color": "#2a3f5f"
          },
          "geo": {
           "bgcolor": "white",
           "lakecolor": "white",
           "landcolor": "#E5ECF6",
           "showlakes": true,
           "showland": true,
           "subunitcolor": "white"
          },
          "hoverlabel": {
           "align": "left"
          },
          "hovermode": "closest",
          "mapbox": {
           "style": "light"
          },
          "paper_bgcolor": "white",
          "plot_bgcolor": "#E5ECF6",
          "polar": {
           "angularaxis": {
            "gridcolor": "white",
            "linecolor": "white",
            "ticks": ""
           },
           "bgcolor": "#E5ECF6",
           "radialaxis": {
            "gridcolor": "white",
            "linecolor": "white",
            "ticks": ""
           }
          },
          "scene": {
           "xaxis": {
            "backgroundcolor": "#E5ECF6",
            "gridcolor": "white",
            "gridwidth": 2,
            "linecolor": "white",
            "showbackground": true,
            "ticks": "",
            "zerolinecolor": "white"
           },
           "yaxis": {
            "backgroundcolor": "#E5ECF6",
            "gridcolor": "white",
            "gridwidth": 2,
            "linecolor": "white",
            "showbackground": true,
            "ticks": "",
            "zerolinecolor": "white"
           },
           "zaxis": {
            "backgroundcolor": "#E5ECF6",
            "gridcolor": "white",
            "gridwidth": 2,
            "linecolor": "white",
            "showbackground": true,
            "ticks": "",
            "zerolinecolor": "white"
           }
          },
          "shapedefaults": {
           "line": {
            "color": "#2a3f5f"
           }
          },
          "ternary": {
           "aaxis": {
            "gridcolor": "white",
            "linecolor": "white",
            "ticks": ""
           },
           "baxis": {
            "gridcolor": "white",
            "linecolor": "white",
            "ticks": ""
           },
           "bgcolor": "#E5ECF6",
           "caxis": {
            "gridcolor": "white",
            "linecolor": "white",
            "ticks": ""
           }
          },
          "title": {
           "x": 0.05
          },
          "xaxis": {
           "automargin": true,
           "gridcolor": "white",
           "linecolor": "white",
           "ticks": "",
           "title": {
            "standoff": 15
           },
           "zerolinecolor": "white",
           "zerolinewidth": 2
          },
          "yaxis": {
           "automargin": true,
           "gridcolor": "white",
           "linecolor": "white",
           "ticks": "",
           "title": {
            "standoff": 15
           },
           "zerolinecolor": "white",
           "zerolinewidth": 2
          }
         }
        },
        "title": {
         "text": "Plotly Plot"
        }
       }
      }
     },
     "metadata": {},
     "output_type": "display_data"
    },
    {
     "data": {
      "text/plain": [
       "6.693023194619021"
      ]
     },
     "execution_count": 3,
     "metadata": {},
     "output_type": "execute_result"
    }
   ],
   "source": [
    "# Note that the coordinates of the vertices will change after equilibrium is reached.\n",
    "vertices    = np.array([[-10, 0, 0], [-5, 0,0], [0, 0, 0], [5, 0, 0], [10, 0, 0], [0,-10,0], [0,-5,0], [0,5,0], [0,10,0]])*10  # The coordinates of the vertices in mm\n",
    "edges       = [[0, 1], [1, 2], [2, 3], [3, 4], [5, 6], [6, 2], [2, 7], [7, 8], [1, 6], [6, 3], [3, 7], [7,1]]                  # The edges of the network.\n",
    "paths       = [[0, 1, 2, 3], [4, 5, 6, 7], [8, 9, 10, 11]]   # 3D printable paths. Ensure an edge is not flipped.\n",
    "directions  = [1, 1, 1, 1, 1, 1, 1, 1, 1, 1, 1, 1]          # Flip the curvature of an edge by setting the direction to -1.\n",
    "\n",
    "scalar = 110\n",
    "q_ring      = .5\n",
    "q_connectors = .8\n",
    "q_center    = .2\n",
    "q           = np.array([q_connectors, q_center, q_center, q_connectors, q_connectors, q_center, q_center, q_connectors, q_ring, q_ring, q_ring, q_ring])/scalar\n",
    "q[2]        = 1.5/scalar\n",
    "q[-1]        = 1.5/scalar\n",
    "fixed       = [0, 4, 5, 8]\n",
    "# model_name  = 'VS_ring{}_connectors{}_center{}_as{}'.format(q_ring, q_connectors, q_center, q[2]*scalar)\n",
    "model_name  = 'VS_ring{}_connectors{}_center{}_as{}_asr{}_s{}'.format(q_ring, q_connectors, q_center, q[2]*scalar, q[-1]*scalar, scalar)\n",
    "\n",
    "# Create the network\n",
    "net = Network_custom.from_fd(vertices, edges, q, fixed, paths = paths, dir = directions)\n",
    "\n",
    "# The topology of structure is fixed after generation, but you can update force densities after making the network\n",
    "# q[0] = .10\n",
    "# net.update_shape(q)\n",
    "\n",
    "# Plot the network like this\n",
    "net.net_plot(color=True, elables = True, vlabels = False)\n",
    "\n",
    "(net.vertices == vertices).all() # Please understand that this is False\n",
    "np.max(net.f)/0.078294515\n",
    "\n",
    "# import matplotlib.pyplot as plt\n",
    "# cmap = plt.get_cmap('viridis')\n",
    "\n",
    "# Convert to TikZ RGB format\n",
    "# f_plot = (net.f - np.min(net.f)) / (np.max(net.f) - np.min(net.f))\n",
    "# for val in f_plot:\n",
    "#     r, g, b, _ = cmap(val)  # Get RGBA (ignore A)color={rgb,1:red,0.282;green,0.141;blue,0.458}\n",
    "#     print(\"\\draw[thick, color = {\" + f\"rgb,1:red,{r:.3f}; green,{g:.3f};blue, {b:.3f}\"+\"}]\")\n",
    "\n",
    "np.max(net.f)/0.078294515"
   ]
  },
  {
   "cell_type": "code",
   "execution_count": 4,
   "metadata": {},
   "outputs": [],
   "source": [
    "net2 = Network_custom.load_network(fr\"G:\\.shortcut-targets-by-id\\1k1B8zPb3T8H7y6x0irFZnzzmfQPHMRPx\\Illimited Lab Projects\\Research Projects\\Spiders\\BYU-UW\\networks\\VS_ring0.5_connectors0.8_center0.2_as1.5_asr1.5_s110_net.pkl\")\n",
    "# net2.net_plot(plot_type = 'arcs')"
   ]
  },
  {
   "cell_type": "markdown",
   "metadata": {},
   "source": [
    "Here is the same network but elements 11 and 12 are combined into a single element."
   ]
  },
  {
   "cell_type": "code",
   "execution_count": 5,
   "metadata": {},
   "outputs": [],
   "source": [
    "# # Note that the coordinates of the vertices will change after equilibrium is reached.\n",
    "# model_name  = 'Validation_structure_1'\n",
    "# vertices    = np.array([[-10, 0, 0], [-5, 0,0], [0, 0, 0], [5, 0, 0], [10, 0, 0], [0,-10,0], [0,-5,0], [0,5,0], [0,10,0]])*10  # The coordinates of the vertices in mm\n",
    "# edges       = [[0, 1], [1, 2], [2, 3], [3, 4], [5, 6], [6, 2], [2, 7], [7, 8], [1, 6], [6, 3], [3, 7], [7,1]]                  # The edges of the network.\n",
    "# paths       = [[0, 1, 2, 3], [4, 5, 6,7], [11, 8, 9, 10]]   # 3D printable paths. Ensure an edge is not flipped.\n",
    "# directions  = [1, 1, 1, 1, 1, 1, 1, 1, 1, 1, 1, 1]          # Flip the curvature of an edge by setting the direction to -1.\n",
    "\n",
    "# q_ring      = .7\n",
    "# q_connectors = .5\n",
    "# q_center    = .1\n",
    "# q           = np.array([q_connectors, q_center, 2*q_center, q_connectors, q_connectors, q_center, q_center, q_connectors, q_ring, q_ring, q_ring, q_ring])/20\n",
    "# fixed       = [0, 4, 5, 8]\n",
    "\n",
    "# # Create the network\n",
    "# net = Network_custom.from_fd(vertices, edges, q, fixed, paths = paths, dir = directions)\n",
    "\n",
    "# # The topology of structure is fixed after generation, but you can update force densities after making the network\n",
    "# # q[0] = .10\n",
    "# # net.update_shape(q)\n",
    "\n",
    "# # Plot the network like this\n",
    "# net.net_plot(color=True, elables = True, vlabels = False)\n",
    "\n",
    "# (net.vertices == vertices).all() # Please understand that this is False"
   ]
  },
  {
   "cell_type": "markdown",
   "metadata": {},
   "source": [
    "### Step 2: Materialize"
   ]
  },
  {
   "cell_type": "code",
   "execution_count": 6,
   "metadata": {},
   "outputs": [
    {
     "data": {
      "text/plain": [
       "(array([62.57567703, 49.31307902, 12.24176822, 59.52452064, 55.83717107,\n",
       "        40.71554575, 41.84097071, 61.0641256 , 54.62824288, 45.79647377,\n",
       "        49.92209389, 27.83853488]),\n",
       " 0.8684587410883032)"
      ]
     },
     "execution_count": 6,
     "metadata": {},
     "output_type": "execute_result"
    }
   ],
   "source": [
    "# TPUc = {'E':130, 'v':0.3897, 'p':1.18e-9, 'A':0.11*0.71, 'name': 'TPU conductive'} # Conductive TPU. Manufacturer Ninjatek Eel\n",
    "TPU = {'E':77, 'v':0.3897, 'p':1.18e-9, 'A':0.11*0.71, 'name': 'TPU non-conductive'} # Conductive TPU. Manufacturer Ninjatek Eel\n",
    "\n",
    "file_path = os.path.join(BYU_UW_root, 'Avg_Stress_Strain_Overture_TPU.csv')\n",
    "stress_data, strain_data = net.load_stress_strain_curve(file_path)\n",
    "\n",
    "TPU_nl = {'stress':strain_data, 'strain': stress_data, 'v':0.3897, 'p':1.18e-9, 'A': 0.078294515, 'name': 'TPU Overture'} # TPU Overture non-conductive\n",
    "\n",
    "net.set_material(TPU) # By saving the material properties in the network, we can easily see how the network was constructed.\n",
    "\n",
    "# If all elements will get the same material, you can use the following line\n",
    "# E = [TPU['E']]*len(net.edges)\n",
    "A = [TPU_nl['A']]*len(net.edges)\n",
    "l0, l_scalar = net.materialize_nonlinear(A, stress_data, strain_data, interpolation_kind = 'cubic')\n",
    "# l0, l_scalar = net.materialize(E, A)\n",
    "# Yielding the initial lengths of each element. And the following scalar: min(l0/l1)\n",
    "net.l0, net.l_scalar"
   ]
  },
  {
   "cell_type": "code",
   "execution_count": 7,
   "metadata": {},
   "outputs": [],
   "source": [
    "# # validate nl material method. This should be the same for the linear TPU\n",
    "# strain_data = np.linspace(0, 0.5, 100)\n",
    "# stress_data = TPU['E']*strain_data\n",
    "# TPU_check = {'stress':strain_data, 'strain': stress_data, 'v':0.3897, 'p':1.18e-9, 'A':0.11*0.71, 'name': 'TPU Check'}\n",
    "\n",
    "# net.set_material(TPU_check) # By saving the material properties in the network, we can easily see how the network was constructed.\n",
    "# l0, l_scalar = net.materialize_nonlinear(A, stress_data, strain_data, interpolation_kind = 'cubic')\n",
    "# net.l0, net.l_scalar"
   ]
  },
  {
   "cell_type": "markdown",
   "metadata": {},
   "source": [
    "### Step 3: Define elements as a curves\n",
    "An (optional) optimization algorithm finds the vertex locations minimizing abs(l1-l0). Next the (optimized) network is scaled down, and edges are defined as arcs.\n",
    "\n",
    "available error functions in the optimization algorithms are:\n",
    "- 'no optimization' : Network is scaled down directly, and no alogirthm is applied\n",
    "- 'standard'        : a standard L2-norm quantifies the error\n",
    "- 'sigmoid'         : a sigmoid function skews the L2-norm to penalize too short edges more (b>0) or too long edges more (b<0)\n",
    "\n",
    "Preliminary results shows best results using a standard L2 error function"
   ]
  },
  {
   "cell_type": "code",
   "execution_count": 8,
   "metadata": {},
   "outputs": [
    {
     "name": "stdout",
     "output_type": "stream",
     "text": [
      "Iteration 0: Current error = 220.9324176196043\n",
      "Iteration 100: Current error = 1.3850307731951104\n",
      "Iteration 200: Current error = 1.3840614720817077\n",
      "Iteration 300: Current error = 1.3778380051790835\n",
      "Iteration 400: Current error = 1.378031800267642\n",
      "Iteration 500: Current error = 1.3746449740168338\n",
      "Iteration 600: Current error = 1.368693622632078\n",
      "Iteration 700: Current error = 1.3620496468497016\n",
      "Iteration 800: Current error = 1.3733620092013572\n",
      "Iteration 900: Current error = 1.3633277553414573\n",
      "Final error: 1.3598309497491945\n"
     ]
    },
    {
     "data": {
      "application/vnd.plotly.v1+json": {
       "config": {
        "plotlyServerURL": "https://plot.ly"
       },
       "data": [
        {
         "line": {
          "color": "black",
          "width": 3
         },
         "mode": "lines",
         "type": "scatter3d",
         "x": [
          -89.45427203830332,
          -82.55949205346406,
          -75.66471236431971,
          -68.76993300486356,
          -61.87515394156799,
          -54.98037520842627,
          -48.085596771445125,
          -41.190818664152175,
          -34.296040853019804,
          -27.401263372506946,
          null,
          -27.40126337070665,
          -22.410409482006152,
          -17.302021703287622,
          -12.091795803816836,
          -6.795740455426181,
          -1.4301280450935607,
          3.9885553227562323,
          9.443660480606631,
          14.918426353224408,
          20.396031456876702,
          null,
          20.396031456876717,
          21.4858054621837,
          22.681256358100722,
          23.95740650880199,
          25.28759215600845,
          26.644020528983923,
          27.998350544008726,
          29.322284960252034,
          30.588161619595027,
          31.769531417097127,
          null,
          31.769531420897692,
          38.38224395381985,
          44.99495646095602,
          51.60766890877858,
          58.22038133093156,
          64.83309369365452,
          71.44580603064969,
          78.05851830827305,
          84.67123056016862,
          91.28394275275059,
          null,
          0.33625948429107666,
          0.5495448559522629,
          0.762828066945076,
          0.9761091098189354,
          1.1893879882991314,
          1.4026647061109543,
          1.6159392558038235,
          1.8292116411030293,
          2.042481865733862,
          2.255749922245741,
          null,
          2.2557499196623425,
          5.402801289063937,
          8.29909295780184,
          10.928527244416358,
          13.276489669288004,
          15.32993018238112,
          17.077435695838233,
          18.50929351828634,
          19.617545338285332,
          20.3960314568767,
          null,
          20.396031456876727,
          18.398360328852725,
          16.071376916747624,
          13.429997082969905,
          10.491151957309405,
          7.273679409132171,
          3.798203297457576,
          0.087001272919494,
          -3.836138021004821,
          -7.946067432164167,
          null,
          -7.946067433804274,
          -7.179087996482849,
          -6.412110909819603,
          -5.645136177539825,
          -4.878163795918226,
          -4.111193768680096,
          -3.3442260958254337,
          -2.57726077362895,
          -1.8102978058159351,
          -1.0433371923863888,
          null,
          -27.401263370706644,
          -25.019831329629085,
          -22.396712961317448,
          -19.536920069837805,
          -16.445916656287082,
          -13.12960847911802,
          -9.594331770430443,
          -5.846841129786938,
          -1.8942966186842938,
          2.255749919662364,
          null,
          2.2557499196622643,
          5.9034041145457365,
          9.463697080123069,
          12.934522611915384,
          16.313827432748184,
          19.599612407432943,
          22.789933725418678,
          25.88290405071544,
          28.87669363840746,
          31.769531417097113,
          null,
          31.76953141950071,
          27.356691794469953,
          22.943850997835398,
          18.5310090277344,
          14.11816588230431,
          9.705321568995714,
          5.292476076632738,
          0.8796294145286083,
          -3.5332184210419655,
          -7.9460674319416285,
          null,
          -7.946067432164185,
          -10.452212765476837,
          -12.881399013577912,
          -15.22948518787981,
          -17.492468549581467,
          -19.666491433062525,
          -21.747847821974297,
          -23.732989666816678,
          -25.618532933232252,
          -27.401263370706637,
          null
         ],
         "y": [
          1.22320943698287,
          2.11996678635478,
          3.016726542264223,
          3.9134887009859085,
          4.810253273695707,
          5.707020249217749,
          6.603789635002613,
          7.50056142359972,
          8.39733561873436,
          9.294112220406532,
          null,
          9.29411222186178,
          7.034541098032122,
          5.054980918537723,
          3.3615139780615806,
          1.959343535931069,
          0.8527778288511172,
          0.04521683363790885,
          -0.4608581793746964,
          -0.6638922701587262,
          -0.5632616066207561,
          null,
          -0.5632616066207401,
          -1.3752359293372214,
          -2.0216157239200427,
          -2.488895593226264,
          -2.7673122366936465,
          -2.8510484438017745,
          -2.738354638308145,
          -2.4315854337255782,
          -1.9371504362543774,
          -1.265380323088003,
          null,
          -1.2653803266584873,
          -1.1435010693967342,
          -1.0216195061802864,
          -0.8997356295585632,
          -0.7778494469821453,
          -0.6559609584510326,
          -0.5340701602399349,
          -0.41217705234885216,
          -0.29028163477778435,
          -0.1683839149773121,
          null,
          -91.96785411937162,
          -85.76739125046879,
          -79.56692829122767,
          -73.36646527342964,
          -67.16600216540974,
          -60.96553899871651,
          -54.76507574180141,
          -48.56461242609657,
          -42.36414902028628,
          -36.16368555580266,
          null,
          -36.16368554981493,
          -32.91519280802899,
          -29.441271107027685,
          -25.761228614411063,
          -21.895519123712205,
          -17.865628371560692,
          -13.693954619273086,
          -9.403684162602307,
          -5.018662461566235,
          -0.5632616066207508,
          null,
          -0.5632616066207348,
          3.6332765080251868,
          7.656555057070026,
          11.480785000095025,
          15.081453189584046,
          18.4354794991324,
          21.521364766052713,
          24.31932860007221,
          26.811436174773533,
          28.981713189051668,
          null,
          28.981713180895895,
          35.72312616696581,
          42.46453943755478,
          49.205952959135175,
          55.94736676523462,
          62.68878082185984,
          69.43019516346976,
          76.17160975560546,
          82.91302463272586,
          89.65443976037204,
          null,
          9.294112221861859,
          3.7115102554403663,
          -1.761689293963066,
          -7.115029176653735,
          -12.338281150202562,
          -17.421465521815065,
          -22.35487021581443,
          -27.12906932980762,
          -31.734941144080807,
          -36.163685549814886,
          null,
          -36.16368554981503,
          -32.61598982512146,
          -28.980630134565274,
          -25.259757090732847,
          -21.455571894352886,
          -17.57032503210621,
          -13.606314945279252,
          -9.565886670047291,
          -5.451430450194309,
          -1.2653803230880811,
          null,
          -1.2653803210705519,
          2.0954140070825815,
          5.456206796690822,
          8.816998045891523,
          12.177787754684687,
          15.538575923070312,
          18.899362551048398,
          22.260147638618946,
          25.62093118391931,
          28.981713190674782,
          null,
          28.981713189051646,
          27.169096213770423,
          25.254573060920272,
          23.241407382488724,
          21.133030984540746,
          18.93303797708296,
          16.645178647251072,
          14.27335306626535,
          11.821604441051633,
          9.294112221861816,
          null
         ],
         "z": [
          0,
          0,
          0,
          0,
          0,
          0,
          0,
          0,
          0,
          0,
          null,
          0,
          0,
          0,
          0,
          0,
          0,
          0,
          0,
          0,
          0,
          null,
          0,
          0,
          0,
          0,
          0,
          0,
          0,
          0,
          0,
          0,
          null,
          0,
          0,
          0,
          0,
          0,
          0,
          0,
          0,
          0,
          0,
          null,
          0,
          0,
          0,
          0,
          0,
          0,
          0,
          0,
          0,
          0,
          null,
          0,
          0,
          0,
          0,
          0,
          0,
          0,
          0,
          0,
          0,
          null,
          0,
          0,
          0,
          0,
          0,
          0,
          0,
          0,
          0,
          0,
          null,
          0,
          0,
          0,
          0,
          0,
          0,
          0,
          0,
          0,
          0,
          null,
          0,
          0,
          0,
          0,
          0,
          0,
          0,
          0,
          0,
          0,
          null,
          0,
          0,
          0,
          0,
          0,
          0,
          0,
          0,
          0,
          0,
          null,
          0,
          0,
          0,
          0,
          0,
          0,
          0,
          0,
          0,
          0,
          null,
          0,
          0,
          0,
          0,
          0,
          0,
          0,
          0,
          0,
          0,
          null
         ]
        },
        {
         "mode": "text",
         "text": [
          "0"
         ],
         "type": "scatter3d",
         "x": [
          -58.42776770392375
         ],
         "y": [
          5.258660829676026
         ],
         "z": [
          0
         ]
        },
        {
         "mode": "text",
         "text": [
          "1"
         ],
         "type": "scatter3d",
         "x": [
          -3.5026159569149584
         ],
         "y": [
          4.365425307620531
         ],
         "z": [
          0
         ]
        },
        {
         "mode": "text",
         "text": [
          "2"
         ],
         "type": "scatter3d",
         "x": [
          26.082781436986924
         ],
         "y": [
          -0.9143209648543704
         ],
         "z": [
          0
         ]
        },
        {
         "mode": "text",
         "text": [
          "3"
         ],
         "type": "scatter3d",
         "x": [
          61.52673708313138
         ],
         "y": [
          -0.7168821167771957
         ],
         "z": [
          0
         ]
        },
        {
         "mode": "text",
         "text": [
          "4"
         ],
         "type": "scatter3d",
         "x": [
          1.2960047008491047
         ],
         "y": [
          -64.0657698317135
         ],
         "z": [
          0
         ]
        },
        {
         "mode": "text",
         "text": [
          "5"
         ],
         "type": "scatter3d",
         "x": [
          11.325890688269547
         ],
         "y": [
          -18.363473578217825
         ],
         "z": [
          0
         ]
        },
        {
         "mode": "text",
         "text": [
          "6"
         ],
         "type": "scatter3d",
         "x": [
          6.224982012356276
         ],
         "y": [
          14.209225791215458
         ],
         "z": [
          0
         ]
        },
        {
         "mode": "text",
         "text": [
          "7"
         ],
         "type": "scatter3d",
         "x": [
          -4.494702311277199
         ],
         "y": [
          59.31807647874561
         ],
         "z": [
          0
         ]
        },
        {
         "mode": "text",
         "text": [
          "8"
         ],
         "type": "scatter3d",
         "x": [
          -12.572756725522128
         ],
         "y": [
          -13.434786663976553
         ],
         "z": [
          0
         ]
        },
        {
         "mode": "text",
         "text": [
          "9"
         ],
         "type": "scatter3d",
         "x": [
          17.012640668379756
         ],
         "y": [
          -18.714532936451455
         ],
         "z": [
          0
         ]
        },
        {
         "mode": "text",
         "text": [
          "10"
         ],
         "type": "scatter3d",
         "x": [
          11.911731992466482
         ],
         "y": [
          13.858166432981825
         ],
         "z": [
          0
         ]
        },
        {
         "mode": "text",
         "text": [
          "11"
         ],
         "type": "scatter3d",
         "x": [
          -17.6736654014354
         ],
         "y": [
          19.137912705456728
         ],
         "z": [
          0
         ]
        },
        {
         "mode": "text",
         "text": [
          "0"
         ],
         "type": "scatter3d",
         "x": [
          -89.45427203714087
         ],
         "y": [
          1.2232094374902518
         ],
         "z": [
          0
         ]
        },
        {
         "mode": "text",
         "text": [
          "1"
         ],
         "type": "scatter3d",
         "x": [
          -27.401263370706634
         ],
         "y": [
          9.294112221861802
         ],
         "z": [
          0
         ]
        },
        {
         "mode": "text",
         "text": [
          "2"
         ],
         "type": "scatter3d",
         "x": [
          20.396031456876717
         ],
         "y": [
          -0.5632616066207393
         ],
         "z": [
          0
         ]
        },
        {
         "mode": "text",
         "text": [
          "3"
         ],
         "type": "scatter3d",
         "x": [
          31.76953141709713
         ],
         "y": [
          -1.2653803230880016
         ],
         "z": [
          0
         ]
        },
        {
         "mode": "text",
         "text": [
          "4"
         ],
         "type": "scatter3d",
         "x": [
          91.28394274916563
         ],
         "y": [
          -0.16838391046638967
         ],
         "z": [
          0
         ]
        },
        {
         "mode": "text",
         "text": [
          "5"
         ],
         "type": "scatter3d",
         "x": [
          0.3362594820358299
         ],
         "y": [
          -91.96785411361209
         ],
         "z": [
          0
         ]
        },
        {
         "mode": "text",
         "text": [
          "6"
         ],
         "type": "scatter3d",
         "x": [
          2.2557499196623794
         ],
         "y": [
          -36.16368554981491
         ],
         "z": [
          0
         ]
        },
        {
         "mode": "text",
         "text": [
          "7"
         ],
         "type": "scatter3d",
         "x": [
          -7.946067432164165
         ],
         "y": [
          28.981713189051654
         ],
         "z": [
          0
         ]
        },
        {
         "mode": "text",
         "text": [
          "8"
         ],
         "type": "scatter3d",
         "x": [
          -1.043337190390233
         ],
         "y": [
          89.65443976843957
         ],
         "z": [
          0
         ]
        }
       ],
       "layout": {
        "scene": {
         "aspectmode": "data",
         "camera": {
          "center": {
           "x": 0,
           "y": 0,
           "z": 0
          },
          "eye": {
           "x": 0,
           "y": 0,
           "z": 4.598392705680605
          },
          "up": {
           "x": 0,
           "y": 1,
           "z": 0
          }
         }
        },
        "template": {
         "data": {
          "bar": [
           {
            "error_x": {
             "color": "#2a3f5f"
            },
            "error_y": {
             "color": "#2a3f5f"
            },
            "marker": {
             "line": {
              "color": "#E5ECF6",
              "width": 0.5
             },
             "pattern": {
              "fillmode": "overlay",
              "size": 10,
              "solidity": 0.2
             }
            },
            "type": "bar"
           }
          ],
          "barpolar": [
           {
            "marker": {
             "line": {
              "color": "#E5ECF6",
              "width": 0.5
             },
             "pattern": {
              "fillmode": "overlay",
              "size": 10,
              "solidity": 0.2
             }
            },
            "type": "barpolar"
           }
          ],
          "carpet": [
           {
            "aaxis": {
             "endlinecolor": "#2a3f5f",
             "gridcolor": "white",
             "linecolor": "white",
             "minorgridcolor": "white",
             "startlinecolor": "#2a3f5f"
            },
            "baxis": {
             "endlinecolor": "#2a3f5f",
             "gridcolor": "white",
             "linecolor": "white",
             "minorgridcolor": "white",
             "startlinecolor": "#2a3f5f"
            },
            "type": "carpet"
           }
          ],
          "choropleth": [
           {
            "colorbar": {
             "outlinewidth": 0,
             "ticks": ""
            },
            "type": "choropleth"
           }
          ],
          "contour": [
           {
            "colorbar": {
             "outlinewidth": 0,
             "ticks": ""
            },
            "colorscale": [
             [
              0,
              "#0d0887"
             ],
             [
              0.1111111111111111,
              "#46039f"
             ],
             [
              0.2222222222222222,
              "#7201a8"
             ],
             [
              0.3333333333333333,
              "#9c179e"
             ],
             [
              0.4444444444444444,
              "#bd3786"
             ],
             [
              0.5555555555555556,
              "#d8576b"
             ],
             [
              0.6666666666666666,
              "#ed7953"
             ],
             [
              0.7777777777777778,
              "#fb9f3a"
             ],
             [
              0.8888888888888888,
              "#fdca26"
             ],
             [
              1,
              "#f0f921"
             ]
            ],
            "type": "contour"
           }
          ],
          "contourcarpet": [
           {
            "colorbar": {
             "outlinewidth": 0,
             "ticks": ""
            },
            "type": "contourcarpet"
           }
          ],
          "heatmap": [
           {
            "colorbar": {
             "outlinewidth": 0,
             "ticks": ""
            },
            "colorscale": [
             [
              0,
              "#0d0887"
             ],
             [
              0.1111111111111111,
              "#46039f"
             ],
             [
              0.2222222222222222,
              "#7201a8"
             ],
             [
              0.3333333333333333,
              "#9c179e"
             ],
             [
              0.4444444444444444,
              "#bd3786"
             ],
             [
              0.5555555555555556,
              "#d8576b"
             ],
             [
              0.6666666666666666,
              "#ed7953"
             ],
             [
              0.7777777777777778,
              "#fb9f3a"
             ],
             [
              0.8888888888888888,
              "#fdca26"
             ],
             [
              1,
              "#f0f921"
             ]
            ],
            "type": "heatmap"
           }
          ],
          "heatmapgl": [
           {
            "colorbar": {
             "outlinewidth": 0,
             "ticks": ""
            },
            "colorscale": [
             [
              0,
              "#0d0887"
             ],
             [
              0.1111111111111111,
              "#46039f"
             ],
             [
              0.2222222222222222,
              "#7201a8"
             ],
             [
              0.3333333333333333,
              "#9c179e"
             ],
             [
              0.4444444444444444,
              "#bd3786"
             ],
             [
              0.5555555555555556,
              "#d8576b"
             ],
             [
              0.6666666666666666,
              "#ed7953"
             ],
             [
              0.7777777777777778,
              "#fb9f3a"
             ],
             [
              0.8888888888888888,
              "#fdca26"
             ],
             [
              1,
              "#f0f921"
             ]
            ],
            "type": "heatmapgl"
           }
          ],
          "histogram": [
           {
            "marker": {
             "pattern": {
              "fillmode": "overlay",
              "size": 10,
              "solidity": 0.2
             }
            },
            "type": "histogram"
           }
          ],
          "histogram2d": [
           {
            "colorbar": {
             "outlinewidth": 0,
             "ticks": ""
            },
            "colorscale": [
             [
              0,
              "#0d0887"
             ],
             [
              0.1111111111111111,
              "#46039f"
             ],
             [
              0.2222222222222222,
              "#7201a8"
             ],
             [
              0.3333333333333333,
              "#9c179e"
             ],
             [
              0.4444444444444444,
              "#bd3786"
             ],
             [
              0.5555555555555556,
              "#d8576b"
             ],
             [
              0.6666666666666666,
              "#ed7953"
             ],
             [
              0.7777777777777778,
              "#fb9f3a"
             ],
             [
              0.8888888888888888,
              "#fdca26"
             ],
             [
              1,
              "#f0f921"
             ]
            ],
            "type": "histogram2d"
           }
          ],
          "histogram2dcontour": [
           {
            "colorbar": {
             "outlinewidth": 0,
             "ticks": ""
            },
            "colorscale": [
             [
              0,
              "#0d0887"
             ],
             [
              0.1111111111111111,
              "#46039f"
             ],
             [
              0.2222222222222222,
              "#7201a8"
             ],
             [
              0.3333333333333333,
              "#9c179e"
             ],
             [
              0.4444444444444444,
              "#bd3786"
             ],
             [
              0.5555555555555556,
              "#d8576b"
             ],
             [
              0.6666666666666666,
              "#ed7953"
             ],
             [
              0.7777777777777778,
              "#fb9f3a"
             ],
             [
              0.8888888888888888,
              "#fdca26"
             ],
             [
              1,
              "#f0f921"
             ]
            ],
            "type": "histogram2dcontour"
           }
          ],
          "mesh3d": [
           {
            "colorbar": {
             "outlinewidth": 0,
             "ticks": ""
            },
            "type": "mesh3d"
           }
          ],
          "parcoords": [
           {
            "line": {
             "colorbar": {
              "outlinewidth": 0,
              "ticks": ""
             }
            },
            "type": "parcoords"
           }
          ],
          "pie": [
           {
            "automargin": true,
            "type": "pie"
           }
          ],
          "scatter": [
           {
            "fillpattern": {
             "fillmode": "overlay",
             "size": 10,
             "solidity": 0.2
            },
            "type": "scatter"
           }
          ],
          "scatter3d": [
           {
            "line": {
             "colorbar": {
              "outlinewidth": 0,
              "ticks": ""
             }
            },
            "marker": {
             "colorbar": {
              "outlinewidth": 0,
              "ticks": ""
             }
            },
            "type": "scatter3d"
           }
          ],
          "scattercarpet": [
           {
            "marker": {
             "colorbar": {
              "outlinewidth": 0,
              "ticks": ""
             }
            },
            "type": "scattercarpet"
           }
          ],
          "scattergeo": [
           {
            "marker": {
             "colorbar": {
              "outlinewidth": 0,
              "ticks": ""
             }
            },
            "type": "scattergeo"
           }
          ],
          "scattergl": [
           {
            "marker": {
             "colorbar": {
              "outlinewidth": 0,
              "ticks": ""
             }
            },
            "type": "scattergl"
           }
          ],
          "scattermapbox": [
           {
            "marker": {
             "colorbar": {
              "outlinewidth": 0,
              "ticks": ""
             }
            },
            "type": "scattermapbox"
           }
          ],
          "scatterpolar": [
           {
            "marker": {
             "colorbar": {
              "outlinewidth": 0,
              "ticks": ""
             }
            },
            "type": "scatterpolar"
           }
          ],
          "scatterpolargl": [
           {
            "marker": {
             "colorbar": {
              "outlinewidth": 0,
              "ticks": ""
             }
            },
            "type": "scatterpolargl"
           }
          ],
          "scatterternary": [
           {
            "marker": {
             "colorbar": {
              "outlinewidth": 0,
              "ticks": ""
             }
            },
            "type": "scatterternary"
           }
          ],
          "surface": [
           {
            "colorbar": {
             "outlinewidth": 0,
             "ticks": ""
            },
            "colorscale": [
             [
              0,
              "#0d0887"
             ],
             [
              0.1111111111111111,
              "#46039f"
             ],
             [
              0.2222222222222222,
              "#7201a8"
             ],
             [
              0.3333333333333333,
              "#9c179e"
             ],
             [
              0.4444444444444444,
              "#bd3786"
             ],
             [
              0.5555555555555556,
              "#d8576b"
             ],
             [
              0.6666666666666666,
              "#ed7953"
             ],
             [
              0.7777777777777778,
              "#fb9f3a"
             ],
             [
              0.8888888888888888,
              "#fdca26"
             ],
             [
              1,
              "#f0f921"
             ]
            ],
            "type": "surface"
           }
          ],
          "table": [
           {
            "cells": {
             "fill": {
              "color": "#EBF0F8"
             },
             "line": {
              "color": "white"
             }
            },
            "header": {
             "fill": {
              "color": "#C8D4E3"
             },
             "line": {
              "color": "white"
             }
            },
            "type": "table"
           }
          ]
         },
         "layout": {
          "annotationdefaults": {
           "arrowcolor": "#2a3f5f",
           "arrowhead": 0,
           "arrowwidth": 1
          },
          "autotypenumbers": "strict",
          "coloraxis": {
           "colorbar": {
            "outlinewidth": 0,
            "ticks": ""
           }
          },
          "colorscale": {
           "diverging": [
            [
             0,
             "#8e0152"
            ],
            [
             0.1,
             "#c51b7d"
            ],
            [
             0.2,
             "#de77ae"
            ],
            [
             0.3,
             "#f1b6da"
            ],
            [
             0.4,
             "#fde0ef"
            ],
            [
             0.5,
             "#f7f7f7"
            ],
            [
             0.6,
             "#e6f5d0"
            ],
            [
             0.7,
             "#b8e186"
            ],
            [
             0.8,
             "#7fbc41"
            ],
            [
             0.9,
             "#4d9221"
            ],
            [
             1,
             "#276419"
            ]
           ],
           "sequential": [
            [
             0,
             "#0d0887"
            ],
            [
             0.1111111111111111,
             "#46039f"
            ],
            [
             0.2222222222222222,
             "#7201a8"
            ],
            [
             0.3333333333333333,
             "#9c179e"
            ],
            [
             0.4444444444444444,
             "#bd3786"
            ],
            [
             0.5555555555555556,
             "#d8576b"
            ],
            [
             0.6666666666666666,
             "#ed7953"
            ],
            [
             0.7777777777777778,
             "#fb9f3a"
            ],
            [
             0.8888888888888888,
             "#fdca26"
            ],
            [
             1,
             "#f0f921"
            ]
           ],
           "sequentialminus": [
            [
             0,
             "#0d0887"
            ],
            [
             0.1111111111111111,
             "#46039f"
            ],
            [
             0.2222222222222222,
             "#7201a8"
            ],
            [
             0.3333333333333333,
             "#9c179e"
            ],
            [
             0.4444444444444444,
             "#bd3786"
            ],
            [
             0.5555555555555556,
             "#d8576b"
            ],
            [
             0.6666666666666666,
             "#ed7953"
            ],
            [
             0.7777777777777778,
             "#fb9f3a"
            ],
            [
             0.8888888888888888,
             "#fdca26"
            ],
            [
             1,
             "#f0f921"
            ]
           ]
          },
          "colorway": [
           "#636efa",
           "#EF553B",
           "#00cc96",
           "#ab63fa",
           "#FFA15A",
           "#19d3f3",
           "#FF6692",
           "#B6E880",
           "#FF97FF",
           "#FECB52"
          ],
          "font": {
           "color": "#2a3f5f"
          },
          "geo": {
           "bgcolor": "white",
           "lakecolor": "white",
           "landcolor": "#E5ECF6",
           "showlakes": true,
           "showland": true,
           "subunitcolor": "white"
          },
          "hoverlabel": {
           "align": "left"
          },
          "hovermode": "closest",
          "mapbox": {
           "style": "light"
          },
          "paper_bgcolor": "white",
          "plot_bgcolor": "#E5ECF6",
          "polar": {
           "angularaxis": {
            "gridcolor": "white",
            "linecolor": "white",
            "ticks": ""
           },
           "bgcolor": "#E5ECF6",
           "radialaxis": {
            "gridcolor": "white",
            "linecolor": "white",
            "ticks": ""
           }
          },
          "scene": {
           "xaxis": {
            "backgroundcolor": "#E5ECF6",
            "gridcolor": "white",
            "gridwidth": 2,
            "linecolor": "white",
            "showbackground": true,
            "ticks": "",
            "zerolinecolor": "white"
           },
           "yaxis": {
            "backgroundcolor": "#E5ECF6",
            "gridcolor": "white",
            "gridwidth": 2,
            "linecolor": "white",
            "showbackground": true,
            "ticks": "",
            "zerolinecolor": "white"
           },
           "zaxis": {
            "backgroundcolor": "#E5ECF6",
            "gridcolor": "white",
            "gridwidth": 2,
            "linecolor": "white",
            "showbackground": true,
            "ticks": "",
            "zerolinecolor": "white"
           }
          },
          "shapedefaults": {
           "line": {
            "color": "#2a3f5f"
           }
          },
          "ternary": {
           "aaxis": {
            "gridcolor": "white",
            "linecolor": "white",
            "ticks": ""
           },
           "baxis": {
            "gridcolor": "white",
            "linecolor": "white",
            "ticks": ""
           },
           "bgcolor": "#E5ECF6",
           "caxis": {
            "gridcolor": "white",
            "linecolor": "white",
            "ticks": ""
           }
          },
          "title": {
           "x": 0.05
          },
          "xaxis": {
           "automargin": true,
           "gridcolor": "white",
           "linecolor": "white",
           "ticks": "",
           "title": {
            "standoff": 15
           },
           "zerolinecolor": "white",
           "zerolinewidth": 2
          },
          "yaxis": {
           "automargin": true,
           "gridcolor": "white",
           "linecolor": "white",
           "ticks": "",
           "title": {
            "standoff": 15
           },
           "zerolinecolor": "white",
           "zerolinewidth": 2
          }
         }
        },
        "title": {
         "text": "Plotly Plot"
        }
       }
      }
     },
     "metadata": {},
     "output_type": "display_data"
    },
    {
     "data": {
      "text/plain": [
       "0.9922795578598931"
      ]
     },
     "execution_count": 8,
     "metadata": {},
     "output_type": "execute_result"
    }
   ],
   "source": [
    "# net.initialize_shape_optimizer(function_type = 'no optimization',  method = 'L-BFGS-B', params = None)\n",
    "# net.initialize_shape_optimizer(function_type = 'standard',  method = 'L-BFGS-B',options ={\"maxiter\": 10000, \"maxfun\": 1500000, \"maxls\": 5000})\n",
    "net.initialize_shape_optimizer(function_type = 'standard',  method = 'Gauss-Seidel',options ={\"maxiter\": 1000, \"damping\": .1, \"correction_scalar\": 1.5, \"tol\": 1e-6})\n",
    "# net.initialize_shape_optimizer(function_type = 'standard',  method = 'trust-constr')\n",
    "# net.initialize_shape_optimizer(function_type = 'sigmoid',  method = 'L-BFGS-B', params = {'a': 4, 'b': -1})\n",
    "net.optimize_vertices()\n",
    "reference_point = [0,0,0]                         # The network will be scaler relative to this point\n",
    "net.scale_vertices(reference_point, net.l_scalar, account_for_leafs = True) # If you don't provide a scalar, it will use network.l_scalar automatically\n",
    "\n",
    "# #  You can plot the scaled network like this\n",
    "# # net.net_plot(color=True, plot_type='scaled')\n",
    "\n",
    "# # Determine the Radius and Angle of the circle that define the arc of each element\n",
    "R, th = net.arc_param()\n",
    "# # for the arc length (net.l1 * net.l_scalar) is used unless specified otherwise, for the cord length (net.l0) is used unless specified otherwise\n",
    "xyz = net.arc_points(n = 10) \n",
    "\n",
    "net.net_plot(color=True, plot_type='arcs', elables=True, vlabels = True)\n",
    "# net.net_plot(color=True, plot_type='optimized', elables=False, vlabels = False)\n",
    "\n",
    "# np.min(R/net.l0), net.l_scalar, np.min(net.l0 - net.l1), np.max(net.l0 - net.l1)\n",
    "net.l_scalar"
   ]
  },
  {
   "cell_type": "code",
   "execution_count": 9,
   "metadata": {},
   "outputs": [
    {
     "data": {
      "text/plain": [
       "array([-1.42108547e-14,  9.40966790e-01,  9.59353733e-01,  0.00000000e+00,\n",
       "        0.00000000e+00,  1.12607288e+00,  1.25986033e+00,  0.00000000e+00,\n",
       "        7.66990177e-01,  2.08168701e-01,  0.00000000e+00,  3.29517443e-01])"
      ]
     },
     "execution_count": 9,
     "metadata": {},
     "output_type": "execute_result"
    }
   ],
   "source": [
    "(net2.th * net2.R) - net2.l1_scaled"
   ]
  },
  {
   "cell_type": "code",
   "execution_count": null,
   "metadata": {},
   "outputs": [],
   "source": [
    "# import matplotlib.pyplot as plt\n",
    "# n_tests = 20\n",
    "# cs_vec = np.logspace(-1, np.log10(30), n_tests)\n",
    "# reference_point = [0,0,0]                         # The network will be scaler relative to this point\n",
    "\n",
    "# l_scalar_vec = []\n",
    "# R_vec = []\n",
    "# for cs in cs_vec:\n",
    "#     net.initialize_shape_optimizer(function_type = 'standard',  method = 'Gauss-Seidel',options ={\"maxiter\": 100000, \"damping\": .001, \"correction_scalar\": 1/cs, \"tol\": 1e-6})\n",
    "#     net.optimize_vertices()\n",
    "#     l_scalar_vec.append(net.l_scalar)\n",
    "#     net.scale_vertices(reference_point, net.l_scalar, account_for_leafs = True) # If you don't provide a scalar, it will use network.l_scalar automatically\n",
    "#     R, th = net.arc_param()\n",
    "#     R_vec.append(R)\n",
    "    \n",
    "# fig, ax1 = plt.subplots(figsize=(12, 6))\n",
    "\n",
    "# color = 'tab:blue'\n",
    "# ax1.set_xlabel('alpha')\n",
    "# ax1.set_ylabel('l_scalar', color=color)\n",
    "# ax1.plot(cs_vec, l_scalar_vec, '*', color=color)\n",
    "# ax1.tick_params(axis='y', labelcolor=color)\n",
    "\n",
    "# ax2 = ax1.twinx()  # instantiate a second axes that shares the same x-axis\n",
    "# color = 'tab:red'\n",
    "# ax2.set_ylabel('R_min', color=color)\n",
    "# for i in range(n_tests):\n",
    "#     ax2.plot(cs_vec[i]*np.ones_like(R_vec[i]), R_vec[i], 'ko', color=color)\n",
    "# ax2.set_ylim(0, 50)\n",
    "# ax2.tick_params(axis='y', labelcolor=color)\n",
    "# ax1.set_xscale('log')\n",
    "# fig.tight_layout()  # to prevent overlap of labels\n",
    "# plt.show()"
   ]
  },
  {
   "cell_type": "code",
   "execution_count": null,
   "metadata": {},
   "outputs": [],
   "source": [
    "\n",
    "# reference_point = [0,0,0]                         # The network will be scaler relative to this point\n",
    "# net.scale_vertices(reference_point, net.l_scalar, account_for_leafs=False) # If you don't provide a scalar, it will use network.l_scalar automatically. Note, that in this particular case, there are no leafs, so the last argument is not necessary.\n",
    "\n",
    "# #  You can plot the scaled network like this\n",
    "# # net.net_plot(color=True, plot_type='scaled')\n",
    "\n",
    "# # Determine the Radius and Angle of the circle that define the arc of each element\n",
    "# R, th = net.arc_param()\n",
    "# # for the arc length (net.l1 * net.l_scalar) is used unless specified otherwise, for the cord length (net.l0) is used unless specified otherwise\n",
    "# xyz = net.arc_points(n = 9) \n",
    "\n",
    "# net.net_plot(color=True, plot_type='arcs', elables=False)\n",
    "# net.l_scalar, correction_scalar"
   ]
  },
  {
   "cell_type": "code",
   "execution_count": null,
   "metadata": {},
   "outputs": [],
   "source": [
    "# %matplotlib qt\n",
    "# import matplotlib.animation as animation\n",
    "# ani = net.ShapeOptimizer.animate_optimization()\n",
    "# writer = animation.FFMpegWriter(fps=15)\n",
    "# ani.save(os.path.join(BYU_UW_root, 'images', 'form finding animations', f'form_finding_{model_name}_{0}.mp4'), writer=writer)"
   ]
  },
  {
   "cell_type": "markdown",
   "metadata": {},
   "source": [
    "Flipping edge 2, 6, and 12 would make the network smoother"
   ]
  },
  {
   "cell_type": "code",
   "execution_count": null,
   "metadata": {},
   "outputs": [],
   "source": [
    "# net.flip_curve(2, n = 10)          # Flip the curvature of one edge\n",
    "net.auto_flip_curves(n = 10)        # Automatically flip the curvature of the edges. Directions will become 1, -1, 1, -1, ...\n",
    "net.flip_curves()                   # Flip all the edges.\n",
    "net.flip_curves([2, 5, 8], n = 10)       # Flip the curvature of multiple edges\n",
    "net.net_plot(color=True, plot_type='arcs', elables=True)"
   ]
  },
  {
   "cell_type": "code",
   "execution_count": null,
   "metadata": {},
   "outputs": [],
   "source": [
    "# for edge_i, edge in enumerate(net.edges): (-3.13, 0.987) arc (239.60: 277.368:8.4696);\n",
    "#     v0, v1 = edge\n",
    "#     coor0, coor1 = net.vertices[v0], net.vertices[v1]\n",
    "#     print(f'{edge_i}, starts at {coor0}, ends at {coor1}, and has a radius of {net.R[edge_i]} and an angle of {net.th[edge_i]}')\n",
    "for edge_i, edge in enumerate(net.edges):\n",
    "    v0, v1 = edge\n",
    "    coor0, coor1 = net.vertices[v0], net.vertices[v1]\n",
    "    R, th = net.R[edge_i], net.th[edge_i]\n",
    "    center, theta0, theta1 = net._points_on_arc(coor0[:2], coor1[:2], R, print_parameters = True)\n",
    "    # print(coor0[:2]/10, theta0*180/np.pi, theta1*180/np.pi, R)\n",
    "    if R/10 > 10000:\n",
    "        print(f\"\\draw ({coor0[0]/10:.3f}, {coor0[1]/10:.3f}) -- ({coor1[0]/10:.3f}, {coor1[1]/10:.3f});\")\n",
    "        continue\n",
    "    if theta0 > theta1:\n",
    "        print(f\"\\draw ({coor1[0]/10:.3f}, {coor1[1]/10:.3f}) arc ({theta0*180/np.pi:.3f}:{theta1*180/np.pi:.3f}:{-R/10:.3f});\")\n",
    "    else:\n",
    "        print(f\"\\draw ({coor0[0]/10:.3f}, {coor0[1]/10:.3f}) arc ({theta0*180/np.pi:.3f}:{theta1*180/np.pi:.3f}:{R/10:.3f});\")"
   ]
  },
  {
   "cell_type": "markdown",
   "metadata": {},
   "source": [
    "### Step 4: Account for intersections. \n",
    "Curved paths and intersections are automatically set up in the backend"
   ]
  },
  {
   "cell_type": "code",
   "execution_count": null,
   "metadata": {},
   "outputs": [],
   "source": [
    "printing_params = load_params(r'DATA/NT_Eel_0.2mm_og.json')\n",
    "# When no interpolation function is provided, linear interpolation is used. No other interpolation function is implemented (yet?).\n",
    "# net.jump_at_intersection(intersection_width = 2, intersection_height = 2, interpolation_function=None) # These settings are just for visibility, this would be way to much\n",
    "# These setting are more appropriate for printing\n",
    "net.jump_at_intersection(intersection_width = printing_params['d_nozzle']*1.5, intersection_height = printing_params['layer_height'], interpolation_function=None) \n",
    "net.net_plot(color=True, plot_type='arcs', elables=True)"
   ]
  },
  {
   "cell_type": "code",
   "execution_count": null,
   "metadata": {},
   "outputs": [],
   "source": [
    "model_name"
   ]
  },
  {
   "cell_type": "markdown",
   "metadata": {},
   "source": [
    "Add loops to easily attach the printed network to a frame"
   ]
  },
  {
   "cell_type": "code",
   "execution_count": null,
   "metadata": {},
   "outputs": [],
   "source": [
    "alpha_loop = np.deg2rad(30) # The angle of the loop\n",
    "L_loop  = 5                # The length of the loop\n",
    "n_points = 60               # The number of points in the loop\n",
    "\n",
    "start_loop_bools = [True, True, False]\n",
    "end_loop_bools = [True, True, False]\n",
    "\n",
    "net.all_loop_to_path(start_loop_bools, end_loop_bools, L_loop, alpha_loop, n_points)\n",
    "\n",
    "L_real = L_loop + L_loop*np.tan(alpha_loop)\n",
    "L_real"
   ]
  },
  {
   "cell_type": "markdown",
   "metadata": {},
   "source": [
    "Sometimes it takes a while before material starts extruding. This should preferably be fixed in the printer set up, but can me forced by adding a running start to a path"
   ]
  },
  {
   "cell_type": "code",
   "execution_count": null,
   "metadata": {},
   "outputs": [],
   "source": [
    "start_loop_bools = [True, True, True]\n",
    "end_loop_bools = [True, False, True]\n",
    "L_loop  = 1\n",
    "n_points = 5\n",
    "net.add_running_start(start_loop_bools, end_loop_bools, L_loop, n_points)"
   ]
  },
  {
   "cell_type": "code",
   "execution_count": null,
   "metadata": {},
   "outputs": [],
   "source": [
    "net.save_network(os.path.join(BYU_UW_root, 'networks', model_name + '_net2.pkl'))"
   ]
  },
  {
   "cell_type": "markdown",
   "metadata": {},
   "source": [
    "### Step 5: Generate G-code\n",
    "Import and finalize printing parameters for materials and starting and end .gcode for the top. The start gcode has additional settings for temperatures and Linear Advance (K-factor). Linear advance is important for TPU as it is very visco-elastic. Linear advance can account for this"
   ]
  },
  {
   "cell_type": "code",
   "execution_count": null,
   "metadata": {},
   "outputs": [],
   "source": [
    "printing_params = load_params(r'DATA/NT_Eel_0.2mm_og.json')\n",
    "start_gcode     = open(r'DATA/start_gcode.gcode', 'r').read()\n",
    "end_gcode       = open(r'DATA/end_gcode.gcode', 'r').read()\n",
    "\n",
    "temperature_settings = {'first_layer_bed_temperature': 65, 'first_layer_temperature':205, 'K-factor': 0.20}\n",
    "g_code = replace_brackets(start_gcode, temperature_settings)\n",
    "\n",
    "comment = ''\n",
    "\n",
    "bed_width = 230\n",
    "bed_height = 210\n",
    "\n",
    "gen = G_code_generator(printing_params=printing_params)\n",
    "\n",
    "printing_params['print_feedrate']"
   ]
  },
  {
   "cell_type": "markdown",
   "metadata": {},
   "source": [
    "Make a Purge Line"
   ]
  },
  {
   "cell_type": "code",
   "execution_count": null,
   "metadata": {},
   "outputs": [],
   "source": [
    "point0, point1 = [20,15,0.3], [90,15,0.3]\n",
    "point2, point3 = [90,10,0.3], [20,10,0.3]\n",
    "g_code += gen.move_to_point(point0[0:2], point0[2] + printing_params['nozzle_lift'], comment='Move to start point')\n",
    "g_code += gen.move_to_point(point0[0:2], point0[2], comment='Lower Nozzle')\n",
    "g_code += gen.unretract()\n",
    "g_code += gen._print_line(\n",
    "        point0=point0,\n",
    "        point1=point1,\n",
    "        move_to_start=False, # move to start point without extruding\n",
    "        extrude_factor=printing_params['extrude_factor']*2.5,\n",
    "        comment=comment)\n",
    "g_code += gen.retract()\n",
    "g_code += gen.move_to_point(point2[0:2], point2[2] + printing_params['nozzle_lift'], comment='Move to start point')\n",
    "g_code += gen.move_to_point(point2[0:2], point2[2], comment='Lower Nozzle')\n",
    "g_code += gen.unretract()\n",
    "g_code += gen._print_line(\n",
    "        point0=point2,\n",
    "        point1=point3,\n",
    "        move_to_start=False, # move to start point without extruding\n",
    "        extrude_factor=printing_params['extrude_factor']*2.5,\n",
    "        comment=comment)\n",
    "g_code += gen.retract()\n",
    "g_code += gen.wipe(2 * np.pi) # Wipe the nozzle horizontally"
   ]
  },
  {
   "cell_type": "markdown",
   "metadata": {},
   "source": [
    "Make the paths"
   ]
  },
  {
   "cell_type": "code",
   "execution_count": null,
   "metadata": {},
   "outputs": [],
   "source": [
    "for path_i, cor_list in enumerate(net.paths_xyz):\n",
    "    g_code += '\\n;Path (' + str(path_i) + ' ' + str(path_i) + ')\\n'\n",
    "    cor_list   = np.array(cor_list)\n",
    "    # Move the coordinates to the center of the bed and add the layer height\n",
    "    cor_list[:,0] += bed_width/2 -14\n",
    "    cor_list[:,1] += bed_height/2 \n",
    "    cor_list[:,2] += printing_params['layer_height']\n",
    "    g_code += '\\n'\n",
    "    # Move the coordinates to the start point\n",
    "    g_code += gen.move_to_point(cor_list[0][0:2], cor_list[0][2] + printing_params['nozzle_lift'], comment='Move to start point')\n",
    "    # Lower the nozzle\n",
    "    g_code += gen.move_to_point(cor_list[0][0:2], cor_list[0][2], comment='Lower Nozzle')\n",
    "    # Unretract the filament\n",
    "    g_code += gen.unretract()\n",
    "    # Print the path\n",
    "    for point0, point1 in zip(cor_list[:-1], cor_list[1:]):\n",
    "        g_code += gen._print_line(\n",
    "            point0=point0,\n",
    "            point1=point1,\n",
    "            move_to_start=False, # move to start point without extruding\n",
    "            extrude_factor = printing_params['extrude_factor'],\n",
    "            comment=comment)\n",
    "    # Retract the filament\n",
    "    g_code += gen.retract()\n",
    "    # Wipe the nozzle\n",
    "    g_code += gen.wipe_from_last_points(g_code)    \n",
    "    # Raise the nozzle\n",
    "    g_code += gen.move_to_point(point1[0:2], point1[2] + printing_params['nozzle_lift'], speed_factor=0.5, comment='Raise Nozzle')\n",
    "\n",
    "g_code += end_gcode\n",
    "with open(os.path.join('DATA', 'generated_gcodes', model_name + '.gcode'), \"w\") as g_code_file:\n",
    "    g_code_file.write(g_code)\n",
    "print('G-code generated')"
   ]
  },
  {
   "cell_type": "code",
   "execution_count": null,
   "metadata": {},
   "outputs": [],
   "source": [
    "minx, miny = 90, 90\n",
    "maxx, maxy = 0, 0\n",
    "for path_i, cor_list in enumerate(net.paths_xyz):\n",
    "    cor_list   = np.array(cor_list)\n",
    "    cor_list[:,0] += bed_width/2 -14\n",
    "    cor_list[:,1] += bed_height/2 \n",
    "    minx = min(minx, np.min(cor_list[:,0]))\n",
    "    miny = min(miny, np.min(cor_list[:,1]))\n",
    "    maxx = max(maxx, np.max(cor_list[:,0]))\n",
    "    maxy = max(maxy, np.max(cor_list[:,1]))\n",
    "\n",
    "minx , miny , maxx , maxy "
   ]
  }
 ],
 "metadata": {
  "kernelspec": {
   "display_name": "base",
   "language": "python",
   "name": "python3"
  },
  "language_info": {
   "codemirror_mode": {
    "name": "ipython",
    "version": 3
   },
   "file_extension": ".py",
   "mimetype": "text/x-python",
   "name": "python",
   "nbconvert_exporter": "python",
   "pygments_lexer": "ipython3",
   "version": "3.12.3"
  }
 },
 "nbformat": 4,
 "nbformat_minor": 2
}
