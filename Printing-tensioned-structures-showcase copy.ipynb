{
 "cells": [
  {
   "cell_type": "code",
   "execution_count": 8,
   "metadata": {},
   "outputs": [],
   "source": [
    "# Ensure you have the following installed:\n",
    "# numpy\n",
    "# os\n",
    "# compas\n",
    "# compas_fd\n",
    "# warnings\n",
    "# traceback\n",
    "# pickle\n",
    "\n",
    "# Install by running:\n",
    "# !pip install -r requirements.txt"
   ]
  },
  {
   "cell_type": "code",
   "execution_count": 1,
   "metadata": {},
   "outputs": [],
   "source": [
    "import numpy as np\n",
    "import pickle\n",
    "import pandas as pd\n",
    "\n",
    "# G-code generation codes are cloned from https://github.com/tibor-barsi/GcodeGenerator. Tibor Barsi is the author of the code, and was a PhD student at the Ladisk lab of the University of Ljubljana\n",
    "#  We should be careful with crediting the author of the code, if we ever want to make these code public.\n",
    "from src.g_code_generation_copy.gcode_generator import G_code_generator\n",
    "from src.g_code_generation_copy.tool_changer_functions import save_params, load_params, printer_start, load_tool, unload_tool, tool_change, take_photo, play_sound, printer_stop\n",
    "# from src.additional_functions import *\n",
    "from src.network import Network_custom, replace_brackets\n",
    "import os\n",
    "\n",
    "BYU_UW_root = r\"G:\\.shortcut-targets-by-id\\1k1B8zPb3T8H7y6x0irFZnzzmfQPHMRPx\\Illimited Lab Projects\\Research Projects\\Spiders\\BYU-UW\""
   ]
  },
  {
   "cell_type": "markdown",
   "metadata": {},
   "source": [
    "### Step 1: Define the network"
   ]
  },
  {
   "cell_type": "code",
   "execution_count": 2,
   "metadata": {},
   "outputs": [
    {
     "data": {
      "application/vnd.plotly.v1+json": {
       "config": {
        "plotlyServerURL": "https://plot.ly"
       },
       "data": [
        {
         "line": {
          "color": [
           0.5764297053970915,
           0.5764297053970915,
           0,
           0.09966001866713617,
           0.09966001866713617,
           0,
           0.18778232415299126,
           0.18778232415299126,
           0,
           0.5375477712051949,
           0.5375477712051949,
           0,
           0.494679429863042,
           0.494679429863042,
           0,
           0.08211273736016772,
           0.08211273736016772,
           0,
           0.08440517770681781,
           0.08440517770681781,
           0,
           0.5565424821606385,
           0.5565424821606385,
           0,
           0.28414251204841395,
           0.28414251204841395,
           0,
           0.2360261403190769,
           0.2360261403190769,
           0,
           0.2583416506144468,
           0.2583416506144468,
           0,
           0.4554434127926332,
           0.4554434127926332,
           0
          ],
          "colorbar": {
           "title": {
            "text": "Force"
           }
          },
          "colorscale": [
           [
            0,
            "#440154"
           ],
           [
            0.1111111111111111,
            "#482878"
           ],
           [
            0.2222222222222222,
            "#3e4989"
           ],
           [
            0.3333333333333333,
            "#31688e"
           ],
           [
            0.4444444444444444,
            "#26828e"
           ],
           [
            0.5555555555555556,
            "#1f9e89"
           ],
           [
            0.6666666666666666,
            "#35b779"
           ],
           [
            0.7777777777777778,
            "#6ece58"
           ],
           [
            0.8888888888888888,
            "#b5de2b"
           ],
           [
            1,
            "#fde725"
           ]
          ],
          "showscale": true,
          "width": 3
         },
         "mode": "lines",
         "type": "scatter3d",
         "x": [
          -110,
          -31.35839225902494,
          null,
          -31.35839225902494,
          22.352065500558247,
          null,
          22.352065500558247,
          36.10718273167102,
          null,
          36.10718273167102,
          110,
          null,
          0,
          3.4224041682173434,
          null,
          3.4224041682173434,
          22.352065500558247,
          null,
          22.352065500558247,
          -8.171194640863416,
          null,
          -8.171194640863416,
          0,
          null,
          -31.35839225902494,
          3.4224041682173434,
          null,
          3.4224041682173434,
          36.10718273167102,
          null,
          36.10718273167102,
          -8.171194640863416,
          null,
          -8.171194640863416,
          -31.35839225902494,
          null
         ],
         "y": [
          0,
          9.874209155191654,
          null,
          9.874209155191654,
          -1.0643840714551642,
          null,
          -1.0643840714551642,
          -1.7193896538891027,
          null,
          -1.7193896538891027,
          0,
          null,
          -110,
          -42.0677335318199,
          null,
          -42.0677335318199,
          -1.0643840714551642,
          null,
          -1.0643840714551642,
          33.91291403051729,
          null,
          33.91291403051729,
          110,
          null,
          9.874209155191654,
          -42.0677335318199,
          null,
          -42.0677335318199,
          -1.7193896538891027,
          null,
          -1.7193896538891027,
          33.91291403051729,
          null,
          33.91291403051729,
          9.874209155191654,
          null
         ],
         "z": [
          0,
          0,
          null,
          0,
          0,
          null,
          0,
          0,
          null,
          0,
          0,
          null,
          0,
          0,
          null,
          0,
          0,
          null,
          0,
          0,
          null,
          0,
          0,
          null,
          0,
          0,
          null,
          0,
          0,
          null,
          0,
          0,
          null,
          0,
          0,
          null
         ]
        },
        {
         "mode": "text",
         "text": [
          "0"
         ],
         "type": "scatter3d",
         "x": [
          -70.67919612951246
         ],
         "y": [
          4.937104577595827
         ],
         "z": [
          0
         ]
        },
        {
         "mode": "text",
         "text": [
          "1"
         ],
         "type": "scatter3d",
         "x": [
          -4.503163379233346
         ],
         "y": [
          4.404912541868245
         ],
         "z": [
          0
         ]
        },
        {
         "mode": "text",
         "text": [
          "2"
         ],
         "type": "scatter3d",
         "x": [
          29.229624116114632
         ],
         "y": [
          -1.3918868626721335
         ],
         "z": [
          0
         ]
        },
        {
         "mode": "text",
         "text": [
          "3"
         ],
         "type": "scatter3d",
         "x": [
          73.0535913658355
         ],
         "y": [
          -0.8596948269445513
         ],
         "z": [
          0
         ]
        },
        {
         "mode": "text",
         "text": [
          "4"
         ],
         "type": "scatter3d",
         "x": [
          1.7112020841086717
         ],
         "y": [
          -76.03386676590995
         ],
         "z": [
          0
         ]
        },
        {
         "mode": "text",
         "text": [
          "5"
         ],
         "type": "scatter3d",
         "x": [
          12.887234834387796
         ],
         "y": [
          -21.56605880163753
         ],
         "z": [
          0
         ]
        },
        {
         "mode": "text",
         "text": [
          "6"
         ],
         "type": "scatter3d",
         "x": [
          7.090435429847416
         ],
         "y": [
          16.424264979531063
         ],
         "z": [
          0
         ]
        },
        {
         "mode": "text",
         "text": [
          "7"
         ],
         "type": "scatter3d",
         "x": [
          -4.085597320431708
         ],
         "y": [
          71.95645701525865
         ],
         "z": [
          0
         ]
        },
        {
         "mode": "text",
         "text": [
          "8"
         ],
         "type": "scatter3d",
         "x": [
          -13.967994045403797
         ],
         "y": [
          -16.096762188314123
         ],
         "z": [
          0
         ]
        },
        {
         "mode": "text",
         "text": [
          "9"
         ],
         "type": "scatter3d",
         "x": [
          19.76479344994418
         ],
         "y": [
          -21.8935615928545
         ],
         "z": [
          0
         ]
        },
        {
         "mode": "text",
         "text": [
          "10"
         ],
         "type": "scatter3d",
         "x": [
          13.9679940454038
         ],
         "y": [
          16.096762188314095
         ],
         "z": [
          0
         ]
        },
        {
         "mode": "text",
         "text": [
          "11"
         ],
         "type": "scatter3d",
         "x": [
          -19.76479344994418
         ],
         "y": [
          21.893561592854475
         ],
         "z": [
          0
         ]
        }
       ],
       "layout": {
        "scene": {
         "aspectmode": "data",
         "camera": {
          "eye": {
           "x": 0,
           "y": 0,
           "z": 15
          }
         }
        },
        "template": {
         "data": {
          "bar": [
           {
            "error_x": {
             "color": "#2a3f5f"
            },
            "error_y": {
             "color": "#2a3f5f"
            },
            "marker": {
             "line": {
              "color": "#E5ECF6",
              "width": 0.5
             },
             "pattern": {
              "fillmode": "overlay",
              "size": 10,
              "solidity": 0.2
             }
            },
            "type": "bar"
           }
          ],
          "barpolar": [
           {
            "marker": {
             "line": {
              "color": "#E5ECF6",
              "width": 0.5
             },
             "pattern": {
              "fillmode": "overlay",
              "size": 10,
              "solidity": 0.2
             }
            },
            "type": "barpolar"
           }
          ],
          "carpet": [
           {
            "aaxis": {
             "endlinecolor": "#2a3f5f",
             "gridcolor": "white",
             "linecolor": "white",
             "minorgridcolor": "white",
             "startlinecolor": "#2a3f5f"
            },
            "baxis": {
             "endlinecolor": "#2a3f5f",
             "gridcolor": "white",
             "linecolor": "white",
             "minorgridcolor": "white",
             "startlinecolor": "#2a3f5f"
            },
            "type": "carpet"
           }
          ],
          "choropleth": [
           {
            "colorbar": {
             "outlinewidth": 0,
             "ticks": ""
            },
            "type": "choropleth"
           }
          ],
          "contour": [
           {
            "colorbar": {
             "outlinewidth": 0,
             "ticks": ""
            },
            "colorscale": [
             [
              0,
              "#0d0887"
             ],
             [
              0.1111111111111111,
              "#46039f"
             ],
             [
              0.2222222222222222,
              "#7201a8"
             ],
             [
              0.3333333333333333,
              "#9c179e"
             ],
             [
              0.4444444444444444,
              "#bd3786"
             ],
             [
              0.5555555555555556,
              "#d8576b"
             ],
             [
              0.6666666666666666,
              "#ed7953"
             ],
             [
              0.7777777777777778,
              "#fb9f3a"
             ],
             [
              0.8888888888888888,
              "#fdca26"
             ],
             [
              1,
              "#f0f921"
             ]
            ],
            "type": "contour"
           }
          ],
          "contourcarpet": [
           {
            "colorbar": {
             "outlinewidth": 0,
             "ticks": ""
            },
            "type": "contourcarpet"
           }
          ],
          "heatmap": [
           {
            "colorbar": {
             "outlinewidth": 0,
             "ticks": ""
            },
            "colorscale": [
             [
              0,
              "#0d0887"
             ],
             [
              0.1111111111111111,
              "#46039f"
             ],
             [
              0.2222222222222222,
              "#7201a8"
             ],
             [
              0.3333333333333333,
              "#9c179e"
             ],
             [
              0.4444444444444444,
              "#bd3786"
             ],
             [
              0.5555555555555556,
              "#d8576b"
             ],
             [
              0.6666666666666666,
              "#ed7953"
             ],
             [
              0.7777777777777778,
              "#fb9f3a"
             ],
             [
              0.8888888888888888,
              "#fdca26"
             ],
             [
              1,
              "#f0f921"
             ]
            ],
            "type": "heatmap"
           }
          ],
          "heatmapgl": [
           {
            "colorbar": {
             "outlinewidth": 0,
             "ticks": ""
            },
            "colorscale": [
             [
              0,
              "#0d0887"
             ],
             [
              0.1111111111111111,
              "#46039f"
             ],
             [
              0.2222222222222222,
              "#7201a8"
             ],
             [
              0.3333333333333333,
              "#9c179e"
             ],
             [
              0.4444444444444444,
              "#bd3786"
             ],
             [
              0.5555555555555556,
              "#d8576b"
             ],
             [
              0.6666666666666666,
              "#ed7953"
             ],
             [
              0.7777777777777778,
              "#fb9f3a"
             ],
             [
              0.8888888888888888,
              "#fdca26"
             ],
             [
              1,
              "#f0f921"
             ]
            ],
            "type": "heatmapgl"
           }
          ],
          "histogram": [
           {
            "marker": {
             "pattern": {
              "fillmode": "overlay",
              "size": 10,
              "solidity": 0.2
             }
            },
            "type": "histogram"
           }
          ],
          "histogram2d": [
           {
            "colorbar": {
             "outlinewidth": 0,
             "ticks": ""
            },
            "colorscale": [
             [
              0,
              "#0d0887"
             ],
             [
              0.1111111111111111,
              "#46039f"
             ],
             [
              0.2222222222222222,
              "#7201a8"
             ],
             [
              0.3333333333333333,
              "#9c179e"
             ],
             [
              0.4444444444444444,
              "#bd3786"
             ],
             [
              0.5555555555555556,
              "#d8576b"
             ],
             [
              0.6666666666666666,
              "#ed7953"
             ],
             [
              0.7777777777777778,
              "#fb9f3a"
             ],
             [
              0.8888888888888888,
              "#fdca26"
             ],
             [
              1,
              "#f0f921"
             ]
            ],
            "type": "histogram2d"
           }
          ],
          "histogram2dcontour": [
           {
            "colorbar": {
             "outlinewidth": 0,
             "ticks": ""
            },
            "colorscale": [
             [
              0,
              "#0d0887"
             ],
             [
              0.1111111111111111,
              "#46039f"
             ],
             [
              0.2222222222222222,
              "#7201a8"
             ],
             [
              0.3333333333333333,
              "#9c179e"
             ],
             [
              0.4444444444444444,
              "#bd3786"
             ],
             [
              0.5555555555555556,
              "#d8576b"
             ],
             [
              0.6666666666666666,
              "#ed7953"
             ],
             [
              0.7777777777777778,
              "#fb9f3a"
             ],
             [
              0.8888888888888888,
              "#fdca26"
             ],
             [
              1,
              "#f0f921"
             ]
            ],
            "type": "histogram2dcontour"
           }
          ],
          "mesh3d": [
           {
            "colorbar": {
             "outlinewidth": 0,
             "ticks": ""
            },
            "type": "mesh3d"
           }
          ],
          "parcoords": [
           {
            "line": {
             "colorbar": {
              "outlinewidth": 0,
              "ticks": ""
             }
            },
            "type": "parcoords"
           }
          ],
          "pie": [
           {
            "automargin": true,
            "type": "pie"
           }
          ],
          "scatter": [
           {
            "fillpattern": {
             "fillmode": "overlay",
             "size": 10,
             "solidity": 0.2
            },
            "type": "scatter"
           }
          ],
          "scatter3d": [
           {
            "line": {
             "colorbar": {
              "outlinewidth": 0,
              "ticks": ""
             }
            },
            "marker": {
             "colorbar": {
              "outlinewidth": 0,
              "ticks": ""
             }
            },
            "type": "scatter3d"
           }
          ],
          "scattercarpet": [
           {
            "marker": {
             "colorbar": {
              "outlinewidth": 0,
              "ticks": ""
             }
            },
            "type": "scattercarpet"
           }
          ],
          "scattergeo": [
           {
            "marker": {
             "colorbar": {
              "outlinewidth": 0,
              "ticks": ""
             }
            },
            "type": "scattergeo"
           }
          ],
          "scattergl": [
           {
            "marker": {
             "colorbar": {
              "outlinewidth": 0,
              "ticks": ""
             }
            },
            "type": "scattergl"
           }
          ],
          "scattermapbox": [
           {
            "marker": {
             "colorbar": {
              "outlinewidth": 0,
              "ticks": ""
             }
            },
            "type": "scattermapbox"
           }
          ],
          "scatterpolar": [
           {
            "marker": {
             "colorbar": {
              "outlinewidth": 0,
              "ticks": ""
             }
            },
            "type": "scatterpolar"
           }
          ],
          "scatterpolargl": [
           {
            "marker": {
             "colorbar": {
              "outlinewidth": 0,
              "ticks": ""
             }
            },
            "type": "scatterpolargl"
           }
          ],
          "scatterternary": [
           {
            "marker": {
             "colorbar": {
              "outlinewidth": 0,
              "ticks": ""
             }
            },
            "type": "scatterternary"
           }
          ],
          "surface": [
           {
            "colorbar": {
             "outlinewidth": 0,
             "ticks": ""
            },
            "colorscale": [
             [
              0,
              "#0d0887"
             ],
             [
              0.1111111111111111,
              "#46039f"
             ],
             [
              0.2222222222222222,
              "#7201a8"
             ],
             [
              0.3333333333333333,
              "#9c179e"
             ],
             [
              0.4444444444444444,
              "#bd3786"
             ],
             [
              0.5555555555555556,
              "#d8576b"
             ],
             [
              0.6666666666666666,
              "#ed7953"
             ],
             [
              0.7777777777777778,
              "#fb9f3a"
             ],
             [
              0.8888888888888888,
              "#fdca26"
             ],
             [
              1,
              "#f0f921"
             ]
            ],
            "type": "surface"
           }
          ],
          "table": [
           {
            "cells": {
             "fill": {
              "color": "#EBF0F8"
             },
             "line": {
              "color": "white"
             }
            },
            "header": {
             "fill": {
              "color": "#C8D4E3"
             },
             "line": {
              "color": "white"
             }
            },
            "type": "table"
           }
          ]
         },
         "layout": {
          "annotationdefaults": {
           "arrowcolor": "#2a3f5f",
           "arrowhead": 0,
           "arrowwidth": 1
          },
          "autotypenumbers": "strict",
          "coloraxis": {
           "colorbar": {
            "outlinewidth": 0,
            "ticks": ""
           }
          },
          "colorscale": {
           "diverging": [
            [
             0,
             "#8e0152"
            ],
            [
             0.1,
             "#c51b7d"
            ],
            [
             0.2,
             "#de77ae"
            ],
            [
             0.3,
             "#f1b6da"
            ],
            [
             0.4,
             "#fde0ef"
            ],
            [
             0.5,
             "#f7f7f7"
            ],
            [
             0.6,
             "#e6f5d0"
            ],
            [
             0.7,
             "#b8e186"
            ],
            [
             0.8,
             "#7fbc41"
            ],
            [
             0.9,
             "#4d9221"
            ],
            [
             1,
             "#276419"
            ]
           ],
           "sequential": [
            [
             0,
             "#0d0887"
            ],
            [
             0.1111111111111111,
             "#46039f"
            ],
            [
             0.2222222222222222,
             "#7201a8"
            ],
            [
             0.3333333333333333,
             "#9c179e"
            ],
            [
             0.4444444444444444,
             "#bd3786"
            ],
            [
             0.5555555555555556,
             "#d8576b"
            ],
            [
             0.6666666666666666,
             "#ed7953"
            ],
            [
             0.7777777777777778,
             "#fb9f3a"
            ],
            [
             0.8888888888888888,
             "#fdca26"
            ],
            [
             1,
             "#f0f921"
            ]
           ],
           "sequentialminus": [
            [
             0,
             "#0d0887"
            ],
            [
             0.1111111111111111,
             "#46039f"
            ],
            [
             0.2222222222222222,
             "#7201a8"
            ],
            [
             0.3333333333333333,
             "#9c179e"
            ],
            [
             0.4444444444444444,
             "#bd3786"
            ],
            [
             0.5555555555555556,
             "#d8576b"
            ],
            [
             0.6666666666666666,
             "#ed7953"
            ],
            [
             0.7777777777777778,
             "#fb9f3a"
            ],
            [
             0.8888888888888888,
             "#fdca26"
            ],
            [
             1,
             "#f0f921"
            ]
           ]
          },
          "colorway": [
           "#636efa",
           "#EF553B",
           "#00cc96",
           "#ab63fa",
           "#FFA15A",
           "#19d3f3",
           "#FF6692",
           "#B6E880",
           "#FF97FF",
           "#FECB52"
          ],
          "font": {
           "color": "#2a3f5f"
          },
          "geo": {
           "bgcolor": "white",
           "lakecolor": "white",
           "landcolor": "#E5ECF6",
           "showlakes": true,
           "showland": true,
           "subunitcolor": "white"
          },
          "hoverlabel": {
           "align": "left"
          },
          "hovermode": "closest",
          "mapbox": {
           "style": "light"
          },
          "paper_bgcolor": "white",
          "plot_bgcolor": "#E5ECF6",
          "polar": {
           "angularaxis": {
            "gridcolor": "white",
            "linecolor": "white",
            "ticks": ""
           },
           "bgcolor": "#E5ECF6",
           "radialaxis": {
            "gridcolor": "white",
            "linecolor": "white",
            "ticks": ""
           }
          },
          "scene": {
           "xaxis": {
            "backgroundcolor": "#E5ECF6",
            "gridcolor": "white",
            "gridwidth": 2,
            "linecolor": "white",
            "showbackground": true,
            "ticks": "",
            "zerolinecolor": "white"
           },
           "yaxis": {
            "backgroundcolor": "#E5ECF6",
            "gridcolor": "white",
            "gridwidth": 2,
            "linecolor": "white",
            "showbackground": true,
            "ticks": "",
            "zerolinecolor": "white"
           },
           "zaxis": {
            "backgroundcolor": "#E5ECF6",
            "gridcolor": "white",
            "gridwidth": 2,
            "linecolor": "white",
            "showbackground": true,
            "ticks": "",
            "zerolinecolor": "white"
           }
          },
          "shapedefaults": {
           "line": {
            "color": "#2a3f5f"
           }
          },
          "ternary": {
           "aaxis": {
            "gridcolor": "white",
            "linecolor": "white",
            "ticks": ""
           },
           "baxis": {
            "gridcolor": "white",
            "linecolor": "white",
            "ticks": ""
           },
           "bgcolor": "#E5ECF6",
           "caxis": {
            "gridcolor": "white",
            "linecolor": "white",
            "ticks": ""
           }
          },
          "title": {
           "x": 0.05
          },
          "xaxis": {
           "automargin": true,
           "gridcolor": "white",
           "linecolor": "white",
           "ticks": "",
           "title": {
            "standoff": 15
           },
           "zerolinecolor": "white",
           "zerolinewidth": 2
          },
          "yaxis": {
           "automargin": true,
           "gridcolor": "white",
           "linecolor": "white",
           "ticks": "",
           "title": {
            "standoff": 15
           },
           "zerolinecolor": "white",
           "zerolinewidth": 2
          }
         }
        },
        "title": {
         "text": "Plotly Plot"
        }
       }
      }
     },
     "metadata": {},
     "output_type": "display_data"
    },
    {
     "data": {
      "text/plain": [
       "7.362325514080923"
      ]
     },
     "execution_count": 2,
     "metadata": {},
     "output_type": "execute_result"
    }
   ],
   "source": [
    "# Note that the coordinates of the vertices will change after equilibrium is reached.\n",
    "vertices    = np.array([[-10, 0, 0], [-5, 0,0], [0, 0, 0], [5, 0, 0], [10, 0, 0], [0,-10,0], [0,-5,0], [0,5,0], [0,10,0]])*11  # The coordinates of the vertices in mm\n",
    "edges       = [[0, 1], [1, 2], [2, 3], [3, 4], [5, 6], [6, 2], [2, 7], [7, 8], [1, 6], [6, 3], [3, 7], [7,1]]                  # The edges of the network.\n",
    "paths       = [[0, 1, 2, 3], [4, 5, 6, 7], [8, 9, 10, 11]]   # 3D printable paths. Ensure an edge is not flipped.\n",
    "directions  = [1, 1, 1, 1, 1, 1, 1, 1, 1, 1, 1, 1]          # Flip the curvature of an edge by setting the direction to -1.\n",
    "\n",
    "scalar = 110\n",
    "q_ring      = .5\n",
    "q_connectors = .8\n",
    "q_center    = .2\n",
    "q           = np.array([q_connectors, q_center, q_center, q_connectors, q_connectors, q_center, q_center, q_connectors, q_ring, q_ring, q_ring, q_ring])/scalar\n",
    "q[2]        = 1.5/scalar\n",
    "q[-1]        = 1.5/scalar\n",
    "fixed       = [0, 4, 5, 8]\n",
    "# model_name  = 'VS_ring{}_connectors{}_center{}_as{}'.format(q_ring, q_connectors, q_center, q[2]*scalar)\n",
    "model_name  = 'VS_ring{}_connectors{}_center{}_as{}_asr{}_s{}'.format(q_ring, q_connectors, q_center, q[2]*scalar, q[-1]*scalar, scalar)\n",
    "\n",
    "# Create the network\n",
    "net = Network_custom.from_fd(vertices, edges, q, fixed, paths = paths, dir = directions)\n",
    "\n",
    "# The topology of structure is fixed after generation, but you can update force densities after making the network\n",
    "# q[0] = .10\n",
    "# net.update_shape(q)\n",
    "\n",
    "# Plot the network like this\n",
    "net.net_plot(color=True, elables = True, vlabels = False)\n",
    "\n",
    "(net.vertices == vertices).all() # Please understand that this is False\n",
    "np.max(net.f)/0.078294515\n",
    "\n",
    "# import matplotlib.pyplot as plt\n",
    "# cmap = plt.get_cmap('viridis')\n",
    "\n",
    "# Convert to TikZ RGB format\n",
    "# f_plot = (net.f - np.min(net.f)) / (np.max(net.f) - np.min(net.f))\n",
    "# for val in f_plot:\n",
    "#     r, g, b, _ = cmap(val)  # Get RGBA (ignore A)color={rgb,1:red,0.282;green,0.141;blue,0.458}\n",
    "#     print(\"\\draw[thick, color = {\" + f\"rgb,1:red,{r:.3f}; green,{g:.3f};blue, {b:.3f}\"+\"}]\")\n",
    "\n",
    "np.max(net.f)/0.078294515"
   ]
  },
  {
   "cell_type": "code",
   "execution_count": 3,
   "metadata": {},
   "outputs": [
    {
     "data": {
      "text/plain": [
       "array([[-110.        ,    0.        ,    0.        ],\n",
       "       [ -31.35839226,    9.87420916,    0.        ],\n",
       "       [  22.3520655 ,   -1.06438407,    0.        ],\n",
       "       [  36.10718273,   -1.71938965,    0.        ],\n",
       "       [ 110.        ,    0.        ,    0.        ],\n",
       "       [   0.        , -110.        ,    0.        ],\n",
       "       [   3.42240417,  -42.06773353,    0.        ],\n",
       "       [  -8.17119464,   33.91291403,    0.        ],\n",
       "       [   0.        ,  110.        ,    0.        ]])"
      ]
     },
     "execution_count": 3,
     "metadata": {},
     "output_type": "execute_result"
    }
   ],
   "source": [
    "net.vertices"
   ]
  },
  {
   "cell_type": "markdown",
   "metadata": {},
   "source": [
    "Here is the same network but elements 11 and 12 are combined into a single element."
   ]
  },
  {
   "cell_type": "code",
   "execution_count": 4,
   "metadata": {},
   "outputs": [],
   "source": [
    "# # Note that the coordinates of the vertices will change after equilibrium is reached.\n",
    "# model_name  = 'Validation_structure_1'\n",
    "# vertices    = np.array([[-10, 0, 0], [-5, 0,0], [0, 0, 0], [5, 0, 0], [10, 0, 0], [0,-10,0], [0,-5,0], [0,5,0], [0,10,0]])*10  # The coordinates of the vertices in mm\n",
    "# edges       = [[0, 1], [1, 2], [2, 3], [3, 4], [5, 6], [6, 2], [2, 7], [7, 8], [1, 6], [6, 3], [3, 7], [7,1]]                  # The edges of the network.\n",
    "# paths       = [[0, 1, 2, 3], [4, 5, 6,7], [11, 8, 9, 10]]   # 3D printable paths. Ensure an edge is not flipped.\n",
    "# directions  = [1, 1, 1, 1, 1, 1, 1, 1, 1, 1, 1, 1]          # Flip the curvature of an edge by setting the direction to -1.\n",
    "\n",
    "# q_ring      = .7\n",
    "# q_connectors = .5\n",
    "# q_center    = .1\n",
    "# q           = np.array([q_connectors, q_center, 2*q_center, q_connectors, q_connectors, q_center, q_center, q_connectors, q_ring, q_ring, q_ring, q_ring])/20\n",
    "# fixed       = [0, 4, 5, 8]\n",
    "\n",
    "# # Create the network\n",
    "# net = Network_custom.from_fd(vertices, edges, q, fixed, paths = paths, dir = directions)\n",
    "\n",
    "# # The topology of structure is fixed after generation, but you can update force densities after making the network\n",
    "# # q[0] = .10\n",
    "# # net.update_shape(q)\n",
    "\n",
    "# # Plot the network like this\n",
    "# net.net_plot(color=True, elables = True, vlabels = False)\n",
    "\n",
    "# (net.vertices == vertices).all() # Please understand that this is False"
   ]
  },
  {
   "cell_type": "markdown",
   "metadata": {},
   "source": [
    "### Step 2: Materialize"
   ]
  },
  {
   "cell_type": "code",
   "execution_count": 5,
   "metadata": {},
   "outputs": [
    {
     "data": {
      "text/plain": [
       "(array([66.37705898, 54.17817354, 13.42631463, 63.62056558, 60.0757708 ,\n",
       "        44.74401457, 45.97906874, 65.02207759, 59.72333052, 50.1583892 ,\n",
       "        54.634282  , 30.08702505]),\n",
       " 0.8374694131835344)"
      ]
     },
     "execution_count": 5,
     "metadata": {},
     "output_type": "execute_result"
    }
   ],
   "source": [
    "# TPUc = {'E':130, 'v':0.3897, 'p':1.18e-9, 'A':0.11*0.71, 'name': 'TPU conductive'} # Conductive TPU. Manufacturer Ninjatek Eel\n",
    "TPU = {'E':77, 'v':0.3897, 'p':1.18e-9, 'A':0.11*0.71, 'name': 'TPU non-conductive'} # Conductive TPU. Manufacturer Ninjatek Eel\n",
    "\n",
    "file_path = os.path.join(BYU_UW_root, 'Avg_Stress_Strain_Overture_TPU.csv')\n",
    "stress_data, strain_data = net.load_stress_strain_curve(file_path)\n",
    "\n",
    "TPU_nl = {'stress':strain_data, 'strain': stress_data, 'v':0.3897, 'p':1.18e-9, 'A': 0.078294515, 'name': 'TPU Overture'} # TPU Overture non-conductive\n",
    "\n",
    "net.set_material(TPU) # By saving the material properties in the network, we can easily see how the network was constructed.\n",
    "\n",
    "# If all elements will get the same material, you can use the following line\n",
    "# E = [TPU['E']]*len(net.edges)\n",
    "A = [TPU_nl['A']]*len(net.edges)\n",
    "l0, l_scalar = net.materialize_nonlinear(A, stress_data, strain_data, interpolation_kind = 'cubic')\n",
    "# l0, l_scalar = net.materialize(E, A)\n",
    "# Yielding the initial lengths of each element. And the following scalar: min(l0/l1)\n",
    "net.l0, net.l_scalar"
   ]
  },
  {
   "cell_type": "code",
   "execution_count": 6,
   "metadata": {},
   "outputs": [],
   "source": [
    "# # validate nl material method. This should be the same for the linear TPU\n",
    "# strain_data = np.linspace(0, 0.5, 100)\n",
    "# stress_data = TPU['E']*strain_data\n",
    "# TPU_check = {'stress':strain_data, 'strain': stress_data, 'v':0.3897, 'p':1.18e-9, 'A':0.11*0.71, 'name': 'TPU Check'}\n",
    "\n",
    "# net.set_material(TPU_check) # By saving the material properties in the network, we can easily see how the network was constructed.\n",
    "# l0, l_scalar = net.materialize_nonlinear(A, stress_data, strain_data, interpolation_kind = 'cubic')\n",
    "# net.l0, net.l_scalar"
   ]
  },
  {
   "cell_type": "markdown",
   "metadata": {},
   "source": [
    "### Step 3: Define elements as a curves\n",
    "An (optional) optimization algorithm finds the vertex locations minimizing abs(l1-l0). Next the (optimized) network is scaled down, and edges are defined as arcs.\n",
    "\n",
    "available error functions in the optimization algorithms are:\n",
    "- 'no optimization' : Network is scaled down directly, and no alogirthm is applied\n",
    "- 'standard'        : a standard L2-norm quantifies the error\n",
    "- 'sigmoid'         : a sigmoid function skews the L2-norm to penalize too short edges more (b>0) or too long edges more (b<0)\n",
    "\n",
    "Preliminary results shows best results using a standard L2 error function"
   ]
  },
  {
   "cell_type": "code",
   "execution_count": 7,
   "metadata": {},
   "outputs": [
    {
     "name": "stdout",
     "output_type": "stream",
     "text": [
      "Iteration 0: Current error = 421.68947271202177\n",
      "Iteration 100: Current error = 2.704114693394689\n",
      "Iteration 200: Current error = 2.219083376366829\n",
      "Iteration 300: Current error = 2.1998177117936497\n",
      "Iteration 400: Current error = 2.208145775205598\n",
      "Iteration 500: Current error = 2.2245776719508394\n",
      "Iteration 600: Current error = 2.215856299255486\n",
      "Iteration 700: Current error = 2.216123417514298\n",
      "Iteration 800: Current error = 2.2011461034380275\n",
      "Iteration 900: Current error = 2.2120828311106475\n",
      "Final error: 2.2078144859382163\n"
     ]
    },
    {
     "data": {
      "application/vnd.plotly.v1+json": {
       "config": {
        "plotlyServerURL": "https://plot.ly"
       },
       "data": [
        {
         "line": {
          "color": "black",
          "width": 3
         },
         "mode": "lines",
         "type": "scatter3d",
         "x": [
          -95.66818146687001,
          -88.35629906319082,
          -81.04441697802395,
          -73.73253524815664,
          -66.42065383633599,
          -59.1087727798149,
          -51.79689204087481,
          -44.48501165769994,
          -37.173131592571735,
          -29.86125188320875,
          null,
          -29.86125187263234,
          -24.557488560578552,
          -19.0623399207652,
          -13.404436993448662,
          -7.613258807695296,
          -1.7189787885816834,
          4.247692453575794,
          10.255667132853937,
          16.273642262532036,
          22.27026275114813,
          null,
          22.270262751148163,
          23.456886692532073,
          24.76230968569466,
          26.158643544153037,
          27.616057922309622,
          29.103417591067213,
          30.588947590105132,
          32.04091204694672,
          33.42829216098021,
          34.72144886843435,
          null,
          34.72144885500893,
          41.789362929353956,
          48.85727697936818,
          55.925190969137475,
          62.993104934634175,
          70.06101883976953,
          77.12893272074871,
          84.19684654142475,
          91.26476033776999,
          98.33267407381209,
          null,
          0.418015219271183,
          0.6147917732596397,
          0.8115659952163696,
          1.008337888866663,
          1.2051074542105198,
          1.40187469124794,
          1.5986395999789238,
          1.7954021729528904,
          1.992162425071001,
          2.188920345157385,
          null,
          2.188920340484337,
          5.8378665986775715,
          9.181570706001516,
          12.19501676708142,
          14.855659709458088,
          17.14359395436626,
          19.041702340161812,
          20.53578418422903,
          21.614661525273192,
          22.270262751148167,
          null,
          22.270262751148163,
          20.228789085324895,
          17.771463730240708,
          14.918511359375142,
          11.693412799161724,
          8.122711773322148,
          4.23579643845164,
          0.06465750889646316,
          -4.356375038357005,
          -8.990914511768054,
          null,
          -8.990914516150951,
          -8.141116358339787,
          -7.291320703923702,
          -6.4415275529026985,
          -5.591736905276775,
          -4.741948764771223,
          -3.8921631276607513,
          -3.04237999394536,
          -2.1925993636250496,
          -1.3428212404251099,
          null,
          -29.861251872632323,
          -27.7269219162486,
          -25.20860404427627,
          -22.315916756445546,
          -19.05990842445202,
          -15.453015093646073,
          -11.50901298462135,
          -7.242965876118163,
          -2.671167570209093,
          2.1889203404843585,
          null,
          2.1889203404842874,
          6.35997752421973,
          10.402391915066431,
          14.311448028273901,
          18.082585941798143,
          21.71140661546073,
          25.19367702243791,
          28.525335087095286,
          31.702494423407146,
          34.72144886843431,
          null,
          34.72144886665046,
          29.864524686709046,
          25.007599238306284,
          20.150672513991594,
          15.293744521215558,
          10.436815256252885,
          5.57988472096622,
          0.7229529153555632,
          -4.1339801624417305,
          -8.990914512425661,
          null,
          -8.990914511768057,
          -11.81525802967716,
          -14.53262192471643,
          -17.134091864906267,
          -19.611133709227154,
          -21.955621503931063,
          -24.15986413979177,
          -26.21663058284456,
          -28.119173595845503,
          -29.861251872632316,
          null
         ],
         "y": [
          1.5885191187262535,
          2.5530786477029324,
          3.517640732228756,
          4.482205364853144,
          5.446772553026676,
          6.411342293024063,
          7.375914588570595,
          8.3404894284904,
          9.30506682768464,
          10.269646774977446,
          null,
          10.269646776135772,
          7.424947628221915,
          4.970246029495911,
          2.918331563078624,
          1.2798951946819699,
          0.0634735701176794,
          -0.7245954626716014,
          -1.0802058753176738,
          -1.001504852417824,
          -0.4889024451467492,
          null,
          -0.4889024451467421,
          -1.3908240609790088,
          -2.110136085272641,
          -2.6314716155156095,
          -2.9436931870212018,
          -3.0401307062980845,
          -2.9187239464806165,
          -2.5820665606420174,
          -2.037350672719352,
          -1.296213229772798,
          null,
          -1.2962132282555103,
          -1.1750971637666225,
          -1.0539786331355572,
          -0.9328576326370239,
          -0.8117341659963131,
          -0.6906082332134247,
          -0.5694798305630684,
          -0.4483489617705345,
          -0.32721562683582306,
          -0.20607982575893402,
          null,
          -99.26354229426943,
          -92.59135770145804,
          -85.91917302284855,
          -79.24698829266708,
          -72.57480347668752,
          -65.90261860913597,
          -59.23043365590274,
          -52.5582486508647,
          -45.886063560144976,
          -39.213878417853266,
          null,
          -39.21387841651526,
          -35.83954047254838,
          -32.16250250729135,
          -28.210274250694955,
          -24.012424266660535,
          -19.600358736066784,
          -15.007086491680532,
          -10.26697206283963,
          -5.415478577503592,
          -0.4889024451467332,
          null,
          -0.48890244514674563,
          4.192354383611345,
          8.669332418436227,
          12.905184516257485,
          16.865048087386356,
          20.516332027196064,
          23.828984952661173,
          26.77574253607272,
          29.3323519002834,
          31.47777122862903,
          null,
          31.47777121560648,
          38.652293916326016,
          45.82681693183258,
          53.001340225338936,
          60.17586383456364,
          67.35038772178814,
          74.52491192379966,
          81.6994364047423,
          88.8739612000063,
          96.04848627373576,
          null,
          10.2696467761358,
          3.98743968941222,
          -2.150928606715212,
          -8.122013139529948,
          -13.90300786234242,
          -19.471832760234726,
          -24.807218182789093,
          -29.888786081698676,
          -34.69712784298029,
          -39.21387841651525,
          null,
          -39.2138784165153,
          -35.51802777538845,
          -31.68189484179706,
          -27.70995447274494,
          -23.606839944890652,
          -19.37733754982004,
          -15.026381010827734,
          -10.559045727718356,
          -5.98054285634268,
          -1.2962132297728743,
          null,
          -1.2962132301181555,
          2.3453473802655935,
          5.986906295642257,
          9.628463514149189,
          13.27001903951168,
          16.91157286800444,
          20.55312499962747,
          24.194675439968705,
          27.836224181577563,
          31.477771228179336,
          null,
          31.477771228629017,
          29.690120354606343,
          27.743701741746776,
          25.644900630436403,
          23.400602152953397,
          21.018168746741658,
          18.505416001881358,
          15.870587021988896,
          13.12232538265571,
          10.269646776135758,
          null
         ],
         "z": [
          0,
          0,
          0,
          0,
          0,
          0,
          0,
          0,
          0,
          0,
          null,
          0,
          0,
          0,
          0,
          0,
          0,
          0,
          0,
          0,
          0,
          null,
          0,
          0,
          0,
          0,
          0,
          0,
          0,
          0,
          0,
          0,
          null,
          0,
          0,
          0,
          0,
          0,
          0,
          0,
          0,
          0,
          0,
          null,
          0,
          0,
          0,
          0,
          0,
          0,
          0,
          0,
          0,
          0,
          null,
          0,
          0,
          0,
          0,
          0,
          0,
          0,
          0,
          0,
          0,
          null,
          0,
          0,
          0,
          0,
          0,
          0,
          0,
          0,
          0,
          0,
          null,
          0,
          0,
          0,
          0,
          0,
          0,
          0,
          0,
          0,
          0,
          null,
          0,
          0,
          0,
          0,
          0,
          0,
          0,
          0,
          0,
          0,
          null,
          0,
          0,
          0,
          0,
          0,
          0,
          0,
          0,
          0,
          0,
          null,
          0,
          0,
          0,
          0,
          0,
          0,
          0,
          0,
          0,
          0,
          null,
          0,
          0,
          0,
          0,
          0,
          0,
          0,
          0,
          0,
          0,
          null
         ]
        },
        {
         "mode": "text",
         "text": [
          "0"
         ],
         "type": "scatter3d",
         "x": [
          -62.764716664713504
         ],
         "y": [
          5.929082947117331
         ],
         "z": [
          0
         ]
        },
        {
         "mode": "text",
         "text": [
          "1"
         ],
         "type": "scatter3d",
         "x": [
          -3.7954945607420747
         ],
         "y": [
          4.890372165494505
         ],
         "z": [
          0
         ]
        },
        {
         "mode": "text",
         "text": [
          "2"
         ],
         "type": "scatter3d",
         "x": [
          28.49585580979126
         ],
         "y": [
          -0.8925578374597707
         ],
         "z": [
          0
         ]
        },
        {
         "mode": "text",
         "text": [
          "3"
         ],
         "type": "scatter3d",
         "x": [
          66.52706147795445
         ],
         "y": [
          -0.75114652800882
         ],
         "z": [
          0
         ]
        },
        {
         "mode": "text",
         "text": [
          "4"
         ],
         "type": "scatter3d",
         "x": [
          1.303467778666584
         ],
         "y": [
          -69.2387103548734
         ],
         "z": [
          0
         ]
        },
        {
         "mode": "text",
         "text": [
          "5"
         ],
         "type": "scatter3d",
         "x": [
          12.22959154581626
         ],
         "y": [
          -19.851390430831
         ],
         "z": [
          0
         ]
        },
        {
         "mode": "text",
         "text": [
          "6"
         ],
         "type": "scatter3d",
         "x": [
          6.639674119690059
         ],
         "y": [
          15.494434391741136
         ],
         "z": [
          0
         ]
        },
        {
         "mode": "text",
         "text": [
          "7"
         ],
         "type": "scatter3d",
         "x": [
          -5.166867873799845
         ],
         "y": [
          63.76312875803637
         ],
         "z": [
          0
         ]
        },
        {
         "mode": "text",
         "text": [
          "8"
         ],
         "type": "scatter3d",
         "x": [
          -13.83616576607398
         ],
         "y": [
          -14.472115820189751
         ],
         "z": [
          0
         ]
        },
        {
         "mode": "text",
         "text": [
          "9"
         ],
         "type": "scatter3d",
         "x": [
          18.45518460445935
         ],
         "y": [
          -20.255045823144027
         ],
         "z": [
          0
         ]
        },
        {
         "mode": "text",
         "text": [
          "10"
         ],
         "type": "scatter3d",
         "x": [
          12.865267178333152
         ],
         "y": [
          15.09077899942811
         ],
         "z": [
          0
         ]
        },
        {
         "mode": "text",
         "text": [
          "11"
         ],
         "type": "scatter3d",
         "x": [
          -19.42608319220018
         ],
         "y": [
          20.873709002382384
         ],
         "z": [
          0
         ]
        },
        {
         "mode": "text",
         "text": [
          "0"
         ],
         "type": "scatter3d",
         "x": [
          -95.66818145679468
         ],
         "y": [
          1.588519118098909
         ],
         "z": [
          0
         ]
        },
        {
         "mode": "text",
         "text": [
          "1"
         ],
         "type": "scatter3d",
         "x": [
          -29.861251872632316
         ],
         "y": [
          10.269646776135755
         ],
         "z": [
          0
         ]
        },
        {
         "mode": "text",
         "text": [
          "2"
         ],
         "type": "scatter3d",
         "x": [
          22.270262751148167
         ],
         "y": [
          -0.48890244514674414
         ],
         "z": [
          0
         ]
        },
        {
         "mode": "text",
         "text": [
          "3"
         ],
         "type": "scatter3d",
         "x": [
          34.72144886843435
         ],
         "y": [
          -1.2962132297727973
         ],
         "z": [
          0
         ]
        },
        {
         "mode": "text",
         "text": [
          "4"
         ],
         "type": "scatter3d",
         "x": [
          98.33267408747456
         ],
         "y": [
          -0.2060798262448427
         ],
         "z": [
          0
         ]
        },
        {
         "mode": "text",
         "text": [
          "5"
         ],
         "type": "scatter3d",
         "x": [
          0.41801521684881443
         ],
         "y": [
          -99.26354229323154
         ],
         "z": [
          0
         ]
        },
        {
         "mode": "text",
         "text": [
          "6"
         ],
         "type": "scatter3d",
         "x": [
          2.1889203404843536
         ],
         "y": [
          -39.21387841651526
         ],
         "z": [
          0
         ]
        },
        {
         "mode": "text",
         "text": [
          "7"
         ],
         "type": "scatter3d",
         "x": [
          -8.990914511768048
         ],
         "y": [
          31.477771228629017
         ],
         "z": [
          0
         ]
        },
        {
         "mode": "text",
         "text": [
          "8"
         ],
         "type": "scatter3d",
         "x": [
          -1.3428212358316411
         ],
         "y": [
          96.04848628744372
         ],
         "z": [
          0
         ]
        }
       ],
       "layout": {
        "scene": {
         "aspectmode": "data",
         "camera": {
          "eye": {
           "x": 0,
           "y": 0,
           "z": 15
          }
         }
        },
        "template": {
         "data": {
          "bar": [
           {
            "error_x": {
             "color": "#2a3f5f"
            },
            "error_y": {
             "color": "#2a3f5f"
            },
            "marker": {
             "line": {
              "color": "#E5ECF6",
              "width": 0.5
             },
             "pattern": {
              "fillmode": "overlay",
              "size": 10,
              "solidity": 0.2
             }
            },
            "type": "bar"
           }
          ],
          "barpolar": [
           {
            "marker": {
             "line": {
              "color": "#E5ECF6",
              "width": 0.5
             },
             "pattern": {
              "fillmode": "overlay",
              "size": 10,
              "solidity": 0.2
             }
            },
            "type": "barpolar"
           }
          ],
          "carpet": [
           {
            "aaxis": {
             "endlinecolor": "#2a3f5f",
             "gridcolor": "white",
             "linecolor": "white",
             "minorgridcolor": "white",
             "startlinecolor": "#2a3f5f"
            },
            "baxis": {
             "endlinecolor": "#2a3f5f",
             "gridcolor": "white",
             "linecolor": "white",
             "minorgridcolor": "white",
             "startlinecolor": "#2a3f5f"
            },
            "type": "carpet"
           }
          ],
          "choropleth": [
           {
            "colorbar": {
             "outlinewidth": 0,
             "ticks": ""
            },
            "type": "choropleth"
           }
          ],
          "contour": [
           {
            "colorbar": {
             "outlinewidth": 0,
             "ticks": ""
            },
            "colorscale": [
             [
              0,
              "#0d0887"
             ],
             [
              0.1111111111111111,
              "#46039f"
             ],
             [
              0.2222222222222222,
              "#7201a8"
             ],
             [
              0.3333333333333333,
              "#9c179e"
             ],
             [
              0.4444444444444444,
              "#bd3786"
             ],
             [
              0.5555555555555556,
              "#d8576b"
             ],
             [
              0.6666666666666666,
              "#ed7953"
             ],
             [
              0.7777777777777778,
              "#fb9f3a"
             ],
             [
              0.8888888888888888,
              "#fdca26"
             ],
             [
              1,
              "#f0f921"
             ]
            ],
            "type": "contour"
           }
          ],
          "contourcarpet": [
           {
            "colorbar": {
             "outlinewidth": 0,
             "ticks": ""
            },
            "type": "contourcarpet"
           }
          ],
          "heatmap": [
           {
            "colorbar": {
             "outlinewidth": 0,
             "ticks": ""
            },
            "colorscale": [
             [
              0,
              "#0d0887"
             ],
             [
              0.1111111111111111,
              "#46039f"
             ],
             [
              0.2222222222222222,
              "#7201a8"
             ],
             [
              0.3333333333333333,
              "#9c179e"
             ],
             [
              0.4444444444444444,
              "#bd3786"
             ],
             [
              0.5555555555555556,
              "#d8576b"
             ],
             [
              0.6666666666666666,
              "#ed7953"
             ],
             [
              0.7777777777777778,
              "#fb9f3a"
             ],
             [
              0.8888888888888888,
              "#fdca26"
             ],
             [
              1,
              "#f0f921"
             ]
            ],
            "type": "heatmap"
           }
          ],
          "heatmapgl": [
           {
            "colorbar": {
             "outlinewidth": 0,
             "ticks": ""
            },
            "colorscale": [
             [
              0,
              "#0d0887"
             ],
             [
              0.1111111111111111,
              "#46039f"
             ],
             [
              0.2222222222222222,
              "#7201a8"
             ],
             [
              0.3333333333333333,
              "#9c179e"
             ],
             [
              0.4444444444444444,
              "#bd3786"
             ],
             [
              0.5555555555555556,
              "#d8576b"
             ],
             [
              0.6666666666666666,
              "#ed7953"
             ],
             [
              0.7777777777777778,
              "#fb9f3a"
             ],
             [
              0.8888888888888888,
              "#fdca26"
             ],
             [
              1,
              "#f0f921"
             ]
            ],
            "type": "heatmapgl"
           }
          ],
          "histogram": [
           {
            "marker": {
             "pattern": {
              "fillmode": "overlay",
              "size": 10,
              "solidity": 0.2
             }
            },
            "type": "histogram"
           }
          ],
          "histogram2d": [
           {
            "colorbar": {
             "outlinewidth": 0,
             "ticks": ""
            },
            "colorscale": [
             [
              0,
              "#0d0887"
             ],
             [
              0.1111111111111111,
              "#46039f"
             ],
             [
              0.2222222222222222,
              "#7201a8"
             ],
             [
              0.3333333333333333,
              "#9c179e"
             ],
             [
              0.4444444444444444,
              "#bd3786"
             ],
             [
              0.5555555555555556,
              "#d8576b"
             ],
             [
              0.6666666666666666,
              "#ed7953"
             ],
             [
              0.7777777777777778,
              "#fb9f3a"
             ],
             [
              0.8888888888888888,
              "#fdca26"
             ],
             [
              1,
              "#f0f921"
             ]
            ],
            "type": "histogram2d"
           }
          ],
          "histogram2dcontour": [
           {
            "colorbar": {
             "outlinewidth": 0,
             "ticks": ""
            },
            "colorscale": [
             [
              0,
              "#0d0887"
             ],
             [
              0.1111111111111111,
              "#46039f"
             ],
             [
              0.2222222222222222,
              "#7201a8"
             ],
             [
              0.3333333333333333,
              "#9c179e"
             ],
             [
              0.4444444444444444,
              "#bd3786"
             ],
             [
              0.5555555555555556,
              "#d8576b"
             ],
             [
              0.6666666666666666,
              "#ed7953"
             ],
             [
              0.7777777777777778,
              "#fb9f3a"
             ],
             [
              0.8888888888888888,
              "#fdca26"
             ],
             [
              1,
              "#f0f921"
             ]
            ],
            "type": "histogram2dcontour"
           }
          ],
          "mesh3d": [
           {
            "colorbar": {
             "outlinewidth": 0,
             "ticks": ""
            },
            "type": "mesh3d"
           }
          ],
          "parcoords": [
           {
            "line": {
             "colorbar": {
              "outlinewidth": 0,
              "ticks": ""
             }
            },
            "type": "parcoords"
           }
          ],
          "pie": [
           {
            "automargin": true,
            "type": "pie"
           }
          ],
          "scatter": [
           {
            "fillpattern": {
             "fillmode": "overlay",
             "size": 10,
             "solidity": 0.2
            },
            "type": "scatter"
           }
          ],
          "scatter3d": [
           {
            "line": {
             "colorbar": {
              "outlinewidth": 0,
              "ticks": ""
             }
            },
            "marker": {
             "colorbar": {
              "outlinewidth": 0,
              "ticks": ""
             }
            },
            "type": "scatter3d"
           }
          ],
          "scattercarpet": [
           {
            "marker": {
             "colorbar": {
              "outlinewidth": 0,
              "ticks": ""
             }
            },
            "type": "scattercarpet"
           }
          ],
          "scattergeo": [
           {
            "marker": {
             "colorbar": {
              "outlinewidth": 0,
              "ticks": ""
             }
            },
            "type": "scattergeo"
           }
          ],
          "scattergl": [
           {
            "marker": {
             "colorbar": {
              "outlinewidth": 0,
              "ticks": ""
             }
            },
            "type": "scattergl"
           }
          ],
          "scattermapbox": [
           {
            "marker": {
             "colorbar": {
              "outlinewidth": 0,
              "ticks": ""
             }
            },
            "type": "scattermapbox"
           }
          ],
          "scatterpolar": [
           {
            "marker": {
             "colorbar": {
              "outlinewidth": 0,
              "ticks": ""
             }
            },
            "type": "scatterpolar"
           }
          ],
          "scatterpolargl": [
           {
            "marker": {
             "colorbar": {
              "outlinewidth": 0,
              "ticks": ""
             }
            },
            "type": "scatterpolargl"
           }
          ],
          "scatterternary": [
           {
            "marker": {
             "colorbar": {
              "outlinewidth": 0,
              "ticks": ""
             }
            },
            "type": "scatterternary"
           }
          ],
          "surface": [
           {
            "colorbar": {
             "outlinewidth": 0,
             "ticks": ""
            },
            "colorscale": [
             [
              0,
              "#0d0887"
             ],
             [
              0.1111111111111111,
              "#46039f"
             ],
             [
              0.2222222222222222,
              "#7201a8"
             ],
             [
              0.3333333333333333,
              "#9c179e"
             ],
             [
              0.4444444444444444,
              "#bd3786"
             ],
             [
              0.5555555555555556,
              "#d8576b"
             ],
             [
              0.6666666666666666,
              "#ed7953"
             ],
             [
              0.7777777777777778,
              "#fb9f3a"
             ],
             [
              0.8888888888888888,
              "#fdca26"
             ],
             [
              1,
              "#f0f921"
             ]
            ],
            "type": "surface"
           }
          ],
          "table": [
           {
            "cells": {
             "fill": {
              "color": "#EBF0F8"
             },
             "line": {
              "color": "white"
             }
            },
            "header": {
             "fill": {
              "color": "#C8D4E3"
             },
             "line": {
              "color": "white"
             }
            },
            "type": "table"
           }
          ]
         },
         "layout": {
          "annotationdefaults": {
           "arrowcolor": "#2a3f5f",
           "arrowhead": 0,
           "arrowwidth": 1
          },
          "autotypenumbers": "strict",
          "coloraxis": {
           "colorbar": {
            "outlinewidth": 0,
            "ticks": ""
           }
          },
          "colorscale": {
           "diverging": [
            [
             0,
             "#8e0152"
            ],
            [
             0.1,
             "#c51b7d"
            ],
            [
             0.2,
             "#de77ae"
            ],
            [
             0.3,
             "#f1b6da"
            ],
            [
             0.4,
             "#fde0ef"
            ],
            [
             0.5,
             "#f7f7f7"
            ],
            [
             0.6,
             "#e6f5d0"
            ],
            [
             0.7,
             "#b8e186"
            ],
            [
             0.8,
             "#7fbc41"
            ],
            [
             0.9,
             "#4d9221"
            ],
            [
             1,
             "#276419"
            ]
           ],
           "sequential": [
            [
             0,
             "#0d0887"
            ],
            [
             0.1111111111111111,
             "#46039f"
            ],
            [
             0.2222222222222222,
             "#7201a8"
            ],
            [
             0.3333333333333333,
             "#9c179e"
            ],
            [
             0.4444444444444444,
             "#bd3786"
            ],
            [
             0.5555555555555556,
             "#d8576b"
            ],
            [
             0.6666666666666666,
             "#ed7953"
            ],
            [
             0.7777777777777778,
             "#fb9f3a"
            ],
            [
             0.8888888888888888,
             "#fdca26"
            ],
            [
             1,
             "#f0f921"
            ]
           ],
           "sequentialminus": [
            [
             0,
             "#0d0887"
            ],
            [
             0.1111111111111111,
             "#46039f"
            ],
            [
             0.2222222222222222,
             "#7201a8"
            ],
            [
             0.3333333333333333,
             "#9c179e"
            ],
            [
             0.4444444444444444,
             "#bd3786"
            ],
            [
             0.5555555555555556,
             "#d8576b"
            ],
            [
             0.6666666666666666,
             "#ed7953"
            ],
            [
             0.7777777777777778,
             "#fb9f3a"
            ],
            [
             0.8888888888888888,
             "#fdca26"
            ],
            [
             1,
             "#f0f921"
            ]
           ]
          },
          "colorway": [
           "#636efa",
           "#EF553B",
           "#00cc96",
           "#ab63fa",
           "#FFA15A",
           "#19d3f3",
           "#FF6692",
           "#B6E880",
           "#FF97FF",
           "#FECB52"
          ],
          "font": {
           "color": "#2a3f5f"
          },
          "geo": {
           "bgcolor": "white",
           "lakecolor": "white",
           "landcolor": "#E5ECF6",
           "showlakes": true,
           "showland": true,
           "subunitcolor": "white"
          },
          "hoverlabel": {
           "align": "left"
          },
          "hovermode": "closest",
          "mapbox": {
           "style": "light"
          },
          "paper_bgcolor": "white",
          "plot_bgcolor": "#E5ECF6",
          "polar": {
           "angularaxis": {
            "gridcolor": "white",
            "linecolor": "white",
            "ticks": ""
           },
           "bgcolor": "#E5ECF6",
           "radialaxis": {
            "gridcolor": "white",
            "linecolor": "white",
            "ticks": ""
           }
          },
          "scene": {
           "xaxis": {
            "backgroundcolor": "#E5ECF6",
            "gridcolor": "white",
            "gridwidth": 2,
            "linecolor": "white",
            "showbackground": true,
            "ticks": "",
            "zerolinecolor": "white"
           },
           "yaxis": {
            "backgroundcolor": "#E5ECF6",
            "gridcolor": "white",
            "gridwidth": 2,
            "linecolor": "white",
            "showbackground": true,
            "ticks": "",
            "zerolinecolor": "white"
           },
           "zaxis": {
            "backgroundcolor": "#E5ECF6",
            "gridcolor": "white",
            "gridwidth": 2,
            "linecolor": "white",
            "showbackground": true,
            "ticks": "",
            "zerolinecolor": "white"
           }
          },
          "shapedefaults": {
           "line": {
            "color": "#2a3f5f"
           }
          },
          "ternary": {
           "aaxis": {
            "gridcolor": "white",
            "linecolor": "white",
            "ticks": ""
           },
           "baxis": {
            "gridcolor": "white",
            "linecolor": "white",
            "ticks": ""
           },
           "bgcolor": "#E5ECF6",
           "caxis": {
            "gridcolor": "white",
            "linecolor": "white",
            "ticks": ""
           }
          },
          "title": {
           "x": 0.05
          },
          "xaxis": {
           "automargin": true,
           "gridcolor": "white",
           "linecolor": "white",
           "ticks": "",
           "title": {
            "standoff": 15
           },
           "zerolinecolor": "white",
           "zerolinewidth": 2
          },
          "yaxis": {
           "automargin": true,
           "gridcolor": "white",
           "linecolor": "white",
           "ticks": "",
           "title": {
            "standoff": 15
           },
           "zerolinecolor": "white",
           "zerolinewidth": 2
          }
         }
        },
        "title": {
         "text": "Plotly Plot"
        }
       }
      }
     },
     "metadata": {},
     "output_type": "display_data"
    },
    {
     "data": {
      "text/plain": [
       "0.9846564330341213"
      ]
     },
     "execution_count": 7,
     "metadata": {},
     "output_type": "execute_result"
    }
   ],
   "source": [
    "# net.initialize_shape_optimizer(function_type = 'no optimization',  method = 'L-BFGS-B', params = None)\n",
    "# net.initialize_shape_optimizer(function_type = 'standard',  method = 'L-BFGS-B',options ={\"maxiter\": 10000, \"maxfun\": 1500000, \"maxls\": 5000})\n",
    "net.initialize_shape_optimizer(function_type = 'standard',  method = 'Gauss-Seidel',options ={\"maxiter\": 1000, \"damping\": .1, \"correction_scalar\": 1.5, \"tol\": 1e-6})\n",
    "# net.initialize_shape_optimizer(function_type = 'standard',  method = 'trust-constr')\n",
    "# net.initialize_shape_optimizer(function_type = 'sigmoid',  method = 'L-BFGS-B', params = {'a': 4, 'b': -1})\n",
    "net.optimize_vertices()\n",
    "reference_point = [0,0,0]                         # The network will be scaler relative to this point\n",
    "net.scale_vertices(reference_point, net.l_scalar, account_for_leafs = True) # If you don't provide a scalar, it will use network.l_scalar automatically\n",
    "\n",
    "# #  You can plot the scaled network like this\n",
    "# # net.net_plot(color=True, plot_type='scaled')\n",
    "\n",
    "# # Determine the Radius and Angle of the circle that define the arc of each element\n",
    "R, th = net.arc_param()\n",
    "# # for the arc length (net.l1 * net.l_scalar) is used unless specified otherwise, for the cord length (net.l0) is used unless specified otherwise\n",
    "xyz = net.arc_points(n = 10) \n",
    "\n",
    "net.net_plot(color=True, plot_type='arcs', elables=True, vlabels = True)\n",
    "# net.net_plot(color=True, plot_type='optimized', elables=False, vlabels = False)\n",
    "\n",
    "# np.min(R/net.l0), net.l_scalar, np.min(net.l0 - net.l1), np.max(net.l0 - net.l1)\n",
    "net.l_scalar"
   ]
  },
  {
   "cell_type": "code",
   "execution_count": null,
   "metadata": {},
   "outputs": [],
   "source": [
    "%matplotlib qt\n",
    "import matplotlib.animation as animation\n",
    "ani = net.ShapeOptimizer.animate_optimization()\n",
    "writer = animation.FFMpegWriter(fps=15)\n",
    "ani.save(os.path.join(BYU_UW_root, 'images', 'form finding animations', f'form_finding_{model_name}_{0}.mp4'), writer=writer)"
   ]
  },
  {
   "cell_type": "markdown",
   "metadata": {},
   "source": [
    "Flipping edge 2, 6, and 12 would make the network smoother"
   ]
  },
  {
   "cell_type": "code",
   "execution_count": 9,
   "metadata": {},
   "outputs": [
    {
     "data": {
      "application/vnd.plotly.v1+json": {
       "config": {
        "plotlyServerURL": "https://plot.ly"
       },
       "data": [
        {
         "line": {
          "color": "black",
          "width": 3
         },
         "mode": "lines",
         "type": "scatter3d",
         "x": [
          -95.6681814584881,
          -79.21645161975175,
          -62.76472007576376,
          -46.31298682745546,
          -29.861251874361187,
          null,
          -29.86125187263234,
          -17.661984203898044,
          -4.677097840974145,
          8.751511000799738,
          22.27026275114813,
          null,
          22.270262751148163,
          23.456886692532073,
          24.76230968569466,
          26.158643544153037,
          27.616057922309622,
          29.103417591067213,
          30.588947590105132,
          32.04091204694672,
          33.42829216098021,
          34.72144886843435,
          null,
          34.72144885500893,
          50.624255480768625,
          66.52706189249875,
          82.4298680901411,
          98.33267407381209,
          null,
          0.4180152155458927,
          0.8607238121330738,
          1.3034441955387592,
          1.7461763732135296,
          2.1889203414320946,
          null,
          2.1889203404843585,
          2.844521566359333,
          3.923398907403495,
          5.417480751470698,
          7.315589137266265,
          9.603523382174437,
          12.264166324551113,
          15.277612385631002,
          18.62131649295496,
          22.27026275114818,
          null,
          22.270262751148138,
          12.147100071277649,
          3.32985846315335,
          -3.8151044640407434,
          -8.990914511768054,
          null,
          -8.990914516150951,
          -7.0788721814751625,
          -5.166842520236969,
          -3.2548255436122417,
          -1.3428212404251099,
          null,
          -29.861251872632323,
          -27.7269219162486,
          -25.20860404427627,
          -22.315916756445546,
          -19.05990842445202,
          -15.453015093646073,
          -11.50901298462135,
          -7.242965876118163,
          -2.671167570209093,
          2.1889203404843585,
          null,
          2.1889203404842874,
          11.392339103950732,
          19.91505444755171,
          27.70675606061174,
          34.72144886843431,
          null,
          34.72144886292517,
          23.79334836639464,
          12.865254303440452,
          1.9371666759252548,
          -8.990914516150951,
          null,
          -8.990914511768057,
          -15.194194550172085,
          -20.80043805162169,
          -25.71664233648964,
          -29.861251872632316,
          null
         ],
         "y": [
          1.5885191224515438,
          3.758820418268442,
          5.929108791053295,
          8.099384244531393,
          10.269646778702736,
          null,
          10.269646776135772,
          4.419052170909566,
          0.6184844462030554,
          -1.031986232954921,
          -0.4889024451467492,
          null,
          -0.4889024451467421,
          -1.3908240609790088,
          -2.110136085272641,
          -2.6314716155156095,
          -2.9436931870212018,
          -3.0401307062980845,
          -2.9187239464806165,
          -2.5820665606420174,
          -2.037350672719352,
          -1.296213229772798,
          null,
          -1.2962132282555103,
          -1.0236986130475998,
          -0.7511715069413185,
          -0.4786319099366665,
          -0.20607982575893402,
          null,
          -99.26354229426943,
          -84.25112580356654,
          -69.23870966059621,
          -54.22629386535846,
          -39.213878417853266,
          null,
          -39.21387841651527,
          -34.287302284158436,
          -29.43580879882237,
          -24.695694369981492,
          -20.10242212559522,
          -15.690356595001468,
          -11.492506610967027,
          -7.540278354370649,
          -3.8632403891135993,
          -0.488902445146735,
          null,
          -0.4889024451467421,
          4.9141331936628205,
          12.257665530442623,
          21.236569780204448,
          31.477771228629035,
          null,
          31.47777121560648,
          47.62044772738591,
          63.76312574092299,
          79.90580525668338,
          96.04848627373576,
          null,
          10.2696467761358,
          3.98743968941222,
          -2.150928606715212,
          -8.122013139529948,
          -13.90300786234242,
          -19.471832760234726,
          -24.807218182789093,
          -29.888786081698676,
          -34.69712784298029,
          -39.21387841651525,
          null,
          -39.2138784165153,
          -30.701463375682692,
          -21.507582261862026,
          -11.686507334128237,
          -1.2962132297728743,
          null,
          -1.2962132263928652,
          6.8972700126469135,
          15.090761836618185,
          23.284262243658304,
          31.477771231904626,
          null,
          31.477771228629017,
          27.233026747705097,
          22.226174168923684,
          16.54027280039451,
          10.269646776135758,
          null
         ],
         "z": [
          0,
          0,
          0,
          0,
          0,
          null,
          0,
          0,
          0,
          0,
          0,
          null,
          0,
          0,
          0,
          0,
          0,
          0,
          0,
          0,
          0,
          0,
          null,
          0,
          0,
          0,
          0,
          0,
          null,
          0,
          0,
          0,
          0,
          0,
          null,
          0,
          0,
          0,
          0,
          0,
          0,
          0,
          0,
          0,
          0,
          null,
          0,
          0,
          0,
          0,
          0,
          null,
          0,
          0,
          0,
          0,
          0,
          null,
          0,
          0,
          0,
          0,
          0,
          0,
          0,
          0,
          0,
          0,
          null,
          0,
          0,
          0,
          0,
          0,
          null,
          0,
          0,
          0,
          0,
          0,
          null,
          0,
          0,
          0,
          0,
          0,
          null
         ]
        },
        {
         "mode": "text",
         "text": [
          "0"
         ],
         "type": "scatter3d",
         "x": [
          -62.764716664713504
         ],
         "y": [
          5.929082947117331
         ],
         "z": [
          0
         ]
        },
        {
         "mode": "text",
         "text": [
          "1"
         ],
         "type": "scatter3d",
         "x": [
          -3.7954945607420747
         ],
         "y": [
          4.890372165494505
         ],
         "z": [
          0
         ]
        },
        {
         "mode": "text",
         "text": [
          "2"
         ],
         "type": "scatter3d",
         "x": [
          28.49585580979126
         ],
         "y": [
          -0.8925578374597707
         ],
         "z": [
          0
         ]
        },
        {
         "mode": "text",
         "text": [
          "3"
         ],
         "type": "scatter3d",
         "x": [
          66.52706147795445
         ],
         "y": [
          -0.75114652800882
         ],
         "z": [
          0
         ]
        },
        {
         "mode": "text",
         "text": [
          "4"
         ],
         "type": "scatter3d",
         "x": [
          1.303467778666584
         ],
         "y": [
          -69.2387103548734
         ],
         "z": [
          0
         ]
        },
        {
         "mode": "text",
         "text": [
          "5"
         ],
         "type": "scatter3d",
         "x": [
          12.22959154581626
         ],
         "y": [
          -19.851390430831
         ],
         "z": [
          0
         ]
        },
        {
         "mode": "text",
         "text": [
          "6"
         ],
         "type": "scatter3d",
         "x": [
          6.639674119690059
         ],
         "y": [
          15.494434391741136
         ],
         "z": [
          0
         ]
        },
        {
         "mode": "text",
         "text": [
          "7"
         ],
         "type": "scatter3d",
         "x": [
          -5.166867873799845
         ],
         "y": [
          63.76312875803637
         ],
         "z": [
          0
         ]
        },
        {
         "mode": "text",
         "text": [
          "8"
         ],
         "type": "scatter3d",
         "x": [
          -13.83616576607398
         ],
         "y": [
          -14.472115820189751
         ],
         "z": [
          0
         ]
        },
        {
         "mode": "text",
         "text": [
          "9"
         ],
         "type": "scatter3d",
         "x": [
          18.45518460445935
         ],
         "y": [
          -20.255045823144027
         ],
         "z": [
          0
         ]
        },
        {
         "mode": "text",
         "text": [
          "10"
         ],
         "type": "scatter3d",
         "x": [
          12.865267178333152
         ],
         "y": [
          15.09077899942811
         ],
         "z": [
          0
         ]
        },
        {
         "mode": "text",
         "text": [
          "11"
         ],
         "type": "scatter3d",
         "x": [
          -19.42608319220018
         ],
         "y": [
          20.873709002382384
         ],
         "z": [
          0
         ]
        }
       ],
       "layout": {
        "scene": {
         "aspectmode": "data",
         "camera": {
          "eye": {
           "x": 0,
           "y": 0,
           "z": 15
          }
         }
        },
        "template": {
         "data": {
          "bar": [
           {
            "error_x": {
             "color": "#2a3f5f"
            },
            "error_y": {
             "color": "#2a3f5f"
            },
            "marker": {
             "line": {
              "color": "#E5ECF6",
              "width": 0.5
             },
             "pattern": {
              "fillmode": "overlay",
              "size": 10,
              "solidity": 0.2
             }
            },
            "type": "bar"
           }
          ],
          "barpolar": [
           {
            "marker": {
             "line": {
              "color": "#E5ECF6",
              "width": 0.5
             },
             "pattern": {
              "fillmode": "overlay",
              "size": 10,
              "solidity": 0.2
             }
            },
            "type": "barpolar"
           }
          ],
          "carpet": [
           {
            "aaxis": {
             "endlinecolor": "#2a3f5f",
             "gridcolor": "white",
             "linecolor": "white",
             "minorgridcolor": "white",
             "startlinecolor": "#2a3f5f"
            },
            "baxis": {
             "endlinecolor": "#2a3f5f",
             "gridcolor": "white",
             "linecolor": "white",
             "minorgridcolor": "white",
             "startlinecolor": "#2a3f5f"
            },
            "type": "carpet"
           }
          ],
          "choropleth": [
           {
            "colorbar": {
             "outlinewidth": 0,
             "ticks": ""
            },
            "type": "choropleth"
           }
          ],
          "contour": [
           {
            "colorbar": {
             "outlinewidth": 0,
             "ticks": ""
            },
            "colorscale": [
             [
              0,
              "#0d0887"
             ],
             [
              0.1111111111111111,
              "#46039f"
             ],
             [
              0.2222222222222222,
              "#7201a8"
             ],
             [
              0.3333333333333333,
              "#9c179e"
             ],
             [
              0.4444444444444444,
              "#bd3786"
             ],
             [
              0.5555555555555556,
              "#d8576b"
             ],
             [
              0.6666666666666666,
              "#ed7953"
             ],
             [
              0.7777777777777778,
              "#fb9f3a"
             ],
             [
              0.8888888888888888,
              "#fdca26"
             ],
             [
              1,
              "#f0f921"
             ]
            ],
            "type": "contour"
           }
          ],
          "contourcarpet": [
           {
            "colorbar": {
             "outlinewidth": 0,
             "ticks": ""
            },
            "type": "contourcarpet"
           }
          ],
          "heatmap": [
           {
            "colorbar": {
             "outlinewidth": 0,
             "ticks": ""
            },
            "colorscale": [
             [
              0,
              "#0d0887"
             ],
             [
              0.1111111111111111,
              "#46039f"
             ],
             [
              0.2222222222222222,
              "#7201a8"
             ],
             [
              0.3333333333333333,
              "#9c179e"
             ],
             [
              0.4444444444444444,
              "#bd3786"
             ],
             [
              0.5555555555555556,
              "#d8576b"
             ],
             [
              0.6666666666666666,
              "#ed7953"
             ],
             [
              0.7777777777777778,
              "#fb9f3a"
             ],
             [
              0.8888888888888888,
              "#fdca26"
             ],
             [
              1,
              "#f0f921"
             ]
            ],
            "type": "heatmap"
           }
          ],
          "heatmapgl": [
           {
            "colorbar": {
             "outlinewidth": 0,
             "ticks": ""
            },
            "colorscale": [
             [
              0,
              "#0d0887"
             ],
             [
              0.1111111111111111,
              "#46039f"
             ],
             [
              0.2222222222222222,
              "#7201a8"
             ],
             [
              0.3333333333333333,
              "#9c179e"
             ],
             [
              0.4444444444444444,
              "#bd3786"
             ],
             [
              0.5555555555555556,
              "#d8576b"
             ],
             [
              0.6666666666666666,
              "#ed7953"
             ],
             [
              0.7777777777777778,
              "#fb9f3a"
             ],
             [
              0.8888888888888888,
              "#fdca26"
             ],
             [
              1,
              "#f0f921"
             ]
            ],
            "type": "heatmapgl"
           }
          ],
          "histogram": [
           {
            "marker": {
             "pattern": {
              "fillmode": "overlay",
              "size": 10,
              "solidity": 0.2
             }
            },
            "type": "histogram"
           }
          ],
          "histogram2d": [
           {
            "colorbar": {
             "outlinewidth": 0,
             "ticks": ""
            },
            "colorscale": [
             [
              0,
              "#0d0887"
             ],
             [
              0.1111111111111111,
              "#46039f"
             ],
             [
              0.2222222222222222,
              "#7201a8"
             ],
             [
              0.3333333333333333,
              "#9c179e"
             ],
             [
              0.4444444444444444,
              "#bd3786"
             ],
             [
              0.5555555555555556,
              "#d8576b"
             ],
             [
              0.6666666666666666,
              "#ed7953"
             ],
             [
              0.7777777777777778,
              "#fb9f3a"
             ],
             [
              0.8888888888888888,
              "#fdca26"
             ],
             [
              1,
              "#f0f921"
             ]
            ],
            "type": "histogram2d"
           }
          ],
          "histogram2dcontour": [
           {
            "colorbar": {
             "outlinewidth": 0,
             "ticks": ""
            },
            "colorscale": [
             [
              0,
              "#0d0887"
             ],
             [
              0.1111111111111111,
              "#46039f"
             ],
             [
              0.2222222222222222,
              "#7201a8"
             ],
             [
              0.3333333333333333,
              "#9c179e"
             ],
             [
              0.4444444444444444,
              "#bd3786"
             ],
             [
              0.5555555555555556,
              "#d8576b"
             ],
             [
              0.6666666666666666,
              "#ed7953"
             ],
             [
              0.7777777777777778,
              "#fb9f3a"
             ],
             [
              0.8888888888888888,
              "#fdca26"
             ],
             [
              1,
              "#f0f921"
             ]
            ],
            "type": "histogram2dcontour"
           }
          ],
          "mesh3d": [
           {
            "colorbar": {
             "outlinewidth": 0,
             "ticks": ""
            },
            "type": "mesh3d"
           }
          ],
          "parcoords": [
           {
            "line": {
             "colorbar": {
              "outlinewidth": 0,
              "ticks": ""
             }
            },
            "type": "parcoords"
           }
          ],
          "pie": [
           {
            "automargin": true,
            "type": "pie"
           }
          ],
          "scatter": [
           {
            "fillpattern": {
             "fillmode": "overlay",
             "size": 10,
             "solidity": 0.2
            },
            "type": "scatter"
           }
          ],
          "scatter3d": [
           {
            "line": {
             "colorbar": {
              "outlinewidth": 0,
              "ticks": ""
             }
            },
            "marker": {
             "colorbar": {
              "outlinewidth": 0,
              "ticks": ""
             }
            },
            "type": "scatter3d"
           }
          ],
          "scattercarpet": [
           {
            "marker": {
             "colorbar": {
              "outlinewidth": 0,
              "ticks": ""
             }
            },
            "type": "scattercarpet"
           }
          ],
          "scattergeo": [
           {
            "marker": {
             "colorbar": {
              "outlinewidth": 0,
              "ticks": ""
             }
            },
            "type": "scattergeo"
           }
          ],
          "scattergl": [
           {
            "marker": {
             "colorbar": {
              "outlinewidth": 0,
              "ticks": ""
             }
            },
            "type": "scattergl"
           }
          ],
          "scattermapbox": [
           {
            "marker": {
             "colorbar": {
              "outlinewidth": 0,
              "ticks": ""
             }
            },
            "type": "scattermapbox"
           }
          ],
          "scatterpolar": [
           {
            "marker": {
             "colorbar": {
              "outlinewidth": 0,
              "ticks": ""
             }
            },
            "type": "scatterpolar"
           }
          ],
          "scatterpolargl": [
           {
            "marker": {
             "colorbar": {
              "outlinewidth": 0,
              "ticks": ""
             }
            },
            "type": "scatterpolargl"
           }
          ],
          "scatterternary": [
           {
            "marker": {
             "colorbar": {
              "outlinewidth": 0,
              "ticks": ""
             }
            },
            "type": "scatterternary"
           }
          ],
          "surface": [
           {
            "colorbar": {
             "outlinewidth": 0,
             "ticks": ""
            },
            "colorscale": [
             [
              0,
              "#0d0887"
             ],
             [
              0.1111111111111111,
              "#46039f"
             ],
             [
              0.2222222222222222,
              "#7201a8"
             ],
             [
              0.3333333333333333,
              "#9c179e"
             ],
             [
              0.4444444444444444,
              "#bd3786"
             ],
             [
              0.5555555555555556,
              "#d8576b"
             ],
             [
              0.6666666666666666,
              "#ed7953"
             ],
             [
              0.7777777777777778,
              "#fb9f3a"
             ],
             [
              0.8888888888888888,
              "#fdca26"
             ],
             [
              1,
              "#f0f921"
             ]
            ],
            "type": "surface"
           }
          ],
          "table": [
           {
            "cells": {
             "fill": {
              "color": "#EBF0F8"
             },
             "line": {
              "color": "white"
             }
            },
            "header": {
             "fill": {
              "color": "#C8D4E3"
             },
             "line": {
              "color": "white"
             }
            },
            "type": "table"
           }
          ]
         },
         "layout": {
          "annotationdefaults": {
           "arrowcolor": "#2a3f5f",
           "arrowhead": 0,
           "arrowwidth": 1
          },
          "autotypenumbers": "strict",
          "coloraxis": {
           "colorbar": {
            "outlinewidth": 0,
            "ticks": ""
           }
          },
          "colorscale": {
           "diverging": [
            [
             0,
             "#8e0152"
            ],
            [
             0.1,
             "#c51b7d"
            ],
            [
             0.2,
             "#de77ae"
            ],
            [
             0.3,
             "#f1b6da"
            ],
            [
             0.4,
             "#fde0ef"
            ],
            [
             0.5,
             "#f7f7f7"
            ],
            [
             0.6,
             "#e6f5d0"
            ],
            [
             0.7,
             "#b8e186"
            ],
            [
             0.8,
             "#7fbc41"
            ],
            [
             0.9,
             "#4d9221"
            ],
            [
             1,
             "#276419"
            ]
           ],
           "sequential": [
            [
             0,
             "#0d0887"
            ],
            [
             0.1111111111111111,
             "#46039f"
            ],
            [
             0.2222222222222222,
             "#7201a8"
            ],
            [
             0.3333333333333333,
             "#9c179e"
            ],
            [
             0.4444444444444444,
             "#bd3786"
            ],
            [
             0.5555555555555556,
             "#d8576b"
            ],
            [
             0.6666666666666666,
             "#ed7953"
            ],
            [
             0.7777777777777778,
             "#fb9f3a"
            ],
            [
             0.8888888888888888,
             "#fdca26"
            ],
            [
             1,
             "#f0f921"
            ]
           ],
           "sequentialminus": [
            [
             0,
             "#0d0887"
            ],
            [
             0.1111111111111111,
             "#46039f"
            ],
            [
             0.2222222222222222,
             "#7201a8"
            ],
            [
             0.3333333333333333,
             "#9c179e"
            ],
            [
             0.4444444444444444,
             "#bd3786"
            ],
            [
             0.5555555555555556,
             "#d8576b"
            ],
            [
             0.6666666666666666,
             "#ed7953"
            ],
            [
             0.7777777777777778,
             "#fb9f3a"
            ],
            [
             0.8888888888888888,
             "#fdca26"
            ],
            [
             1,
             "#f0f921"
            ]
           ]
          },
          "colorway": [
           "#636efa",
           "#EF553B",
           "#00cc96",
           "#ab63fa",
           "#FFA15A",
           "#19d3f3",
           "#FF6692",
           "#B6E880",
           "#FF97FF",
           "#FECB52"
          ],
          "font": {
           "color": "#2a3f5f"
          },
          "geo": {
           "bgcolor": "white",
           "lakecolor": "white",
           "landcolor": "#E5ECF6",
           "showlakes": true,
           "showland": true,
           "subunitcolor": "white"
          },
          "hoverlabel": {
           "align": "left"
          },
          "hovermode": "closest",
          "mapbox": {
           "style": "light"
          },
          "paper_bgcolor": "white",
          "plot_bgcolor": "#E5ECF6",
          "polar": {
           "angularaxis": {
            "gridcolor": "white",
            "linecolor": "white",
            "ticks": ""
           },
           "bgcolor": "#E5ECF6",
           "radialaxis": {
            "gridcolor": "white",
            "linecolor": "white",
            "ticks": ""
           }
          },
          "scene": {
           "xaxis": {
            "backgroundcolor": "#E5ECF6",
            "gridcolor": "white",
            "gridwidth": 2,
            "linecolor": "white",
            "showbackground": true,
            "ticks": "",
            "zerolinecolor": "white"
           },
           "yaxis": {
            "backgroundcolor": "#E5ECF6",
            "gridcolor": "white",
            "gridwidth": 2,
            "linecolor": "white",
            "showbackground": true,
            "ticks": "",
            "zerolinecolor": "white"
           },
           "zaxis": {
            "backgroundcolor": "#E5ECF6",
            "gridcolor": "white",
            "gridwidth": 2,
            "linecolor": "white",
            "showbackground": true,
            "ticks": "",
            "zerolinecolor": "white"
           }
          },
          "shapedefaults": {
           "line": {
            "color": "#2a3f5f"
           }
          },
          "ternary": {
           "aaxis": {
            "gridcolor": "white",
            "linecolor": "white",
            "ticks": ""
           },
           "baxis": {
            "gridcolor": "white",
            "linecolor": "white",
            "ticks": ""
           },
           "bgcolor": "#E5ECF6",
           "caxis": {
            "gridcolor": "white",
            "linecolor": "white",
            "ticks": ""
           }
          },
          "title": {
           "x": 0.05
          },
          "xaxis": {
           "automargin": true,
           "gridcolor": "white",
           "linecolor": "white",
           "ticks": "",
           "title": {
            "standoff": 15
           },
           "zerolinecolor": "white",
           "zerolinewidth": 2
          },
          "yaxis": {
           "automargin": true,
           "gridcolor": "white",
           "linecolor": "white",
           "ticks": "",
           "title": {
            "standoff": 15
           },
           "zerolinecolor": "white",
           "zerolinewidth": 2
          }
         }
        },
        "title": {
         "text": "Plotly Plot"
        }
       }
      }
     },
     "metadata": {},
     "output_type": "display_data"
    }
   ],
   "source": [
    "# net.flip_curve(2, n = 10)          # Flip the curvature of one edge\n",
    "net.auto_flip_curves(n = 10)        # Automatically flip the curvature of the edges. Directions will become 1, -1, 1, -1, ...\n",
    "net.flip_curves()                   # Flip all the edges.\n",
    "net.flip_curves([2, 5, 8], n = 10)       # Flip the curvature of multiple edges\n",
    "net.net_plot(color=True, plot_type='arcs', elables=True)"
   ]
  },
  {
   "cell_type": "code",
   "execution_count": null,
   "metadata": {},
   "outputs": [],
   "source": [
    "# for edge_i, edge in enumerate(net.edges): (-3.13, 0.987) arc (239.60: 277.368:8.4696);\n",
    "#     v0, v1 = edge\n",
    "#     coor0, coor1 = net.vertices[v0], net.vertices[v1]\n",
    "#     print(f'{edge_i}, starts at {coor0}, ends at {coor1}, and has a radius of {net.R[edge_i]} and an angle of {net.th[edge_i]}')\n",
    "for edge_i, edge in enumerate(net.edges):\n",
    "    v0, v1 = edge\n",
    "    coor0, coor1 = net.vertices[v0], net.vertices[v1]\n",
    "    R, th = net.R[edge_i], net.th[edge_i]\n",
    "    center, theta0, theta1 = net._points_on_arc(coor0[:2], coor1[:2], R, print_parameters = True)\n",
    "    # print(coor0[:2]/10, theta0*180/np.pi, theta1*180/np.pi, R)\n",
    "    if R/10 > 10000:\n",
    "        print(f\"\\draw ({coor0[0]/10:.3f}, {coor0[1]/10:.3f}) -- ({coor1[0]/10:.3f}, {coor1[1]/10:.3f});\")\n",
    "        continue\n",
    "    if theta0 > theta1:\n",
    "        print(f\"\\draw ({coor1[0]/10:.3f}, {coor1[1]/10:.3f}) arc ({theta0*180/np.pi:.3f}:{theta1*180/np.pi:.3f}:{-R/10:.3f});\")\n",
    "    else:\n",
    "        print(f\"\\draw ({coor0[0]/10:.3f}, {coor0[1]/10:.3f}) arc ({theta0*180/np.pi:.3f}:{theta1*180/np.pi:.3f}:{R/10:.3f});\")"
   ]
  },
  {
   "cell_type": "markdown",
   "metadata": {},
   "source": [
    "### Step 4: Account for intersections. \n",
    "Curved paths and intersections are automatically set up in the backend"
   ]
  },
  {
   "cell_type": "code",
   "execution_count": null,
   "metadata": {},
   "outputs": [],
   "source": [
    "printing_params = load_params(r'DATA/NT_Eel_0.2mm_og.json')\n",
    "# When no interpolation function is provided, linear interpolation is used. No other interpolation function is implemented (yet?).\n",
    "# net.jump_at_intersection(intersection_width = 2, intersection_height = 2, interpolation_function=None) # These settings are just for visibility, this would be way to much\n",
    "# These setting are more appropriate for printing\n",
    "net.jump_at_intersection(intersection_width = printing_params['d_nozzle']*1.5, intersection_height = printing_params['layer_height'], interpolation_function=None) \n",
    "net.net_plot(color=True, plot_type='arcs', elables=True)"
   ]
  },
  {
   "cell_type": "code",
   "execution_count": null,
   "metadata": {},
   "outputs": [],
   "source": [
    "model_name"
   ]
  },
  {
   "cell_type": "markdown",
   "metadata": {},
   "source": [
    "Add loops to easily attach the printed network to a frame"
   ]
  },
  {
   "cell_type": "code",
   "execution_count": null,
   "metadata": {},
   "outputs": [],
   "source": [
    "alpha_loop = np.deg2rad(30) # The angle of the loop\n",
    "L_loop  = 5                # The length of the loop\n",
    "n_points = 60               # The number of points in the loop\n",
    "\n",
    "start_loop_bools = [True, True, False]\n",
    "end_loop_bools = [True, True, False]\n",
    "\n",
    "net.all_loop_to_path(start_loop_bools, end_loop_bools, L_loop, alpha_loop, n_points)\n",
    "\n",
    "L_real = L_loop + L_loop*np.tan(alpha_loop)\n",
    "L_real"
   ]
  },
  {
   "cell_type": "markdown",
   "metadata": {},
   "source": [
    "Sometimes it takes a while before material starts extruding. This should preferably be fixed in the printer set up, but can me forced by adding a running start to a path"
   ]
  },
  {
   "cell_type": "code",
   "execution_count": null,
   "metadata": {},
   "outputs": [],
   "source": [
    "start_loop_bools = [True, True, True]\n",
    "end_loop_bools = [True, False, True]\n",
    "L_loop  = 1\n",
    "n_points = 5\n",
    "net.add_running_start(start_loop_bools, end_loop_bools, L_loop, n_points)"
   ]
  },
  {
   "cell_type": "code",
   "execution_count": null,
   "metadata": {},
   "outputs": [],
   "source": [
    "net.save_network(os.path.join(BYU_UW_root, 'networks', model_name + '_net.pkl'))"
   ]
  },
  {
   "cell_type": "markdown",
   "metadata": {},
   "source": [
    "### Step 5: Generate G-code\n",
    "Import and finalize printing parameters for materials and starting and end .gcode for the top. The start gcode has additional settings for temperatures and Linear Advance (K-factor). Linear advance is important for TPU as it is very visco-elastic. Linear advance can account for this"
   ]
  },
  {
   "cell_type": "code",
   "execution_count": null,
   "metadata": {},
   "outputs": [],
   "source": [
    "printing_params = load_params(r'DATA/NT_Eel_0.2mm_og.json')\n",
    "start_gcode     = open(r'DATA/start_gcode.gcode', 'r').read()\n",
    "end_gcode       = open(r'DATA/end_gcode.gcode', 'r').read()\n",
    "\n",
    "temperature_settings = {'first_layer_bed_temperature': 65, 'first_layer_temperature':205, 'K-factor': 0.20}\n",
    "g_code = replace_brackets(start_gcode, temperature_settings)\n",
    "\n",
    "comment = ''\n",
    "\n",
    "bed_width = 230\n",
    "bed_height = 210\n",
    "\n",
    "gen = G_code_generator(printing_params=printing_params)\n",
    "\n",
    "printing_params['print_feedrate']"
   ]
  },
  {
   "cell_type": "markdown",
   "metadata": {},
   "source": [
    "Make a Purge Line"
   ]
  },
  {
   "cell_type": "code",
   "execution_count": null,
   "metadata": {},
   "outputs": [],
   "source": [
    "point0, point1 = [20,15,0.3], [90,15,0.3]\n",
    "point2, point3 = [90,10,0.3], [20,10,0.3]\n",
    "g_code += gen.move_to_point(point0[0:2], point0[2] + printing_params['nozzle_lift'], comment='Move to start point')\n",
    "g_code += gen.move_to_point(point0[0:2], point0[2], comment='Lower Nozzle')\n",
    "g_code += gen.unretract()\n",
    "g_code += gen._print_line(\n",
    "        point0=point0,\n",
    "        point1=point1,\n",
    "        move_to_start=False, # move to start point without extruding\n",
    "        extrude_factor=printing_params['extrude_factor']*2.5,\n",
    "        comment=comment)\n",
    "g_code += gen.retract()\n",
    "g_code += gen.move_to_point(point2[0:2], point2[2] + printing_params['nozzle_lift'], comment='Move to start point')\n",
    "g_code += gen.move_to_point(point2[0:2], point2[2], comment='Lower Nozzle')\n",
    "g_code += gen.unretract()\n",
    "g_code += gen._print_line(\n",
    "        point0=point2,\n",
    "        point1=point3,\n",
    "        move_to_start=False, # move to start point without extruding\n",
    "        extrude_factor=printing_params['extrude_factor']*2.5,\n",
    "        comment=comment)\n",
    "g_code += gen.retract()\n",
    "g_code += gen.wipe(2 * np.pi) # Wipe the nozzle horizontally"
   ]
  },
  {
   "cell_type": "markdown",
   "metadata": {},
   "source": [
    "Make the paths"
   ]
  },
  {
   "cell_type": "code",
   "execution_count": null,
   "metadata": {},
   "outputs": [],
   "source": [
    "for path_i, cor_list in enumerate(net.paths_xyz):\n",
    "    g_code += '\\n;Path (' + str(path_i) + ' ' + str(path_i) + ')\\n'\n",
    "    cor_list   = np.array(cor_list)\n",
    "    # Move the coordinates to the center of the bed and add the layer height\n",
    "    cor_list[:,0] += bed_width/2 -14\n",
    "    cor_list[:,1] += bed_height/2 \n",
    "    cor_list[:,2] += printing_params['layer_height']\n",
    "    g_code += '\\n'\n",
    "    # Move the coordinates to the start point\n",
    "    g_code += gen.move_to_point(cor_list[0][0:2], cor_list[0][2] + printing_params['nozzle_lift'], comment='Move to start point')\n",
    "    # Lower the nozzle\n",
    "    g_code += gen.move_to_point(cor_list[0][0:2], cor_list[0][2], comment='Lower Nozzle')\n",
    "    # Unretract the filament\n",
    "    g_code += gen.unretract()\n",
    "    # Print the path\n",
    "    for point0, point1 in zip(cor_list[:-1], cor_list[1:]):\n",
    "        g_code += gen._print_line(\n",
    "            point0=point0,\n",
    "            point1=point1,\n",
    "            move_to_start=False, # move to start point without extruding\n",
    "            extrude_factor = printing_params['extrude_factor'],\n",
    "            comment=comment)\n",
    "    # Retract the filament\n",
    "    g_code += gen.retract()\n",
    "    # Wipe the nozzle\n",
    "    g_code += gen.wipe_from_last_points(g_code)    \n",
    "    # Raise the nozzle\n",
    "    g_code += gen.move_to_point(point1[0:2], point1[2] + printing_params['nozzle_lift'], speed_factor=0.5, comment='Raise Nozzle')\n",
    "\n",
    "g_code += end_gcode\n",
    "with open(os.path.join('DATA', 'generated_gcodes', model_name + '.gcode'), \"w\") as g_code_file:\n",
    "    g_code_file.write(g_code)\n",
    "print('G-code generated')"
   ]
  },
  {
   "cell_type": "code",
   "execution_count": null,
   "metadata": {},
   "outputs": [],
   "source": [
    "minx, miny = 90, 90\n",
    "maxx, maxy = 0, 0\n",
    "for path_i, cor_list in enumerate(net.paths_xyz):\n",
    "    cor_list   = np.array(cor_list)\n",
    "    cor_list[:,0] += bed_width/2 -14\n",
    "    cor_list[:,1] += bed_height/2 \n",
    "    minx = min(minx, np.min(cor_list[:,0]))\n",
    "    miny = min(miny, np.min(cor_list[:,1]))\n",
    "    maxx = max(maxx, np.max(cor_list[:,0]))\n",
    "    maxy = max(maxy, np.max(cor_list[:,1]))\n",
    "\n",
    "minx , miny , maxx , maxy "
   ]
  }
 ],
 "metadata": {
  "kernelspec": {
   "display_name": "base",
   "language": "python",
   "name": "python3"
  },
  "language_info": {
   "codemirror_mode": {
    "name": "ipython",
    "version": 3
   },
   "file_extension": ".py",
   "mimetype": "text/x-python",
   "name": "python",
   "nbconvert_exporter": "python",
   "pygments_lexer": "ipython3",
   "version": "3.12.3"
  }
 },
 "nbformat": 4,
 "nbformat_minor": 2
}
