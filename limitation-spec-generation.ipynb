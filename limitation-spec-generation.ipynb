{
 "cells": [
  {
   "cell_type": "code",
   "execution_count": 61,
   "metadata": {},
   "outputs": [],
   "source": [
    "# Ensure you have the following installed:\n",
    "# numpy\n",
    "# os\n",
    "# compas\n",
    "# compas_fd\n",
    "# warnings\n",
    "# traceback\n",
    "# pickle\n",
    "\n",
    "# Install by running:\n",
    "# !pip install -r requirements.txt"
   ]
  },
  {
   "cell_type": "code",
   "execution_count": 62,
   "metadata": {},
   "outputs": [],
   "source": [
    "import numpy as np\n",
    "import pickle\n",
    "import pandas as pd\n",
    "\n",
    "# G-code generation codes are cloned from https://github.com/tibor-barsi/GcodeGenerator. Tibor Barsi is the author of the code, and was a PhD student at the Ladisk lab of the University of Ljubljana\n",
    "#  We should be careful with crediting the author of the code, if we ever want to make these code public.\n",
    "from src.g_code_generation_copy.gcode_generator import G_code_generator\n",
    "from src.g_code_generation_copy.tool_changer_functions import save_params, load_params, printer_start, load_tool, unload_tool, tool_change, take_photo, play_sound, printer_stop\n",
    "# from src.additional_functions import *\n",
    "from src.network import Network_custom, replace_brackets\n",
    "import os\n",
    "\n",
    "BYU_UW_root = r\"G:\\.shortcut-targets-by-id\\1k1B8zPb3T8H7y6x0irFZnzzmfQPHMRPx\\Illimited Lab Projects\\Research Projects\\Spiders\\BYU-UW\""
   ]
  },
  {
   "cell_type": "markdown",
   "metadata": {},
   "source": [
    "### Step 1: Define the network"
   ]
  },
  {
   "cell_type": "code",
   "execution_count": 63,
   "metadata": {},
   "outputs": [
    {
     "data": {
      "application/vnd.plotly.v1+json": {
       "config": {
        "plotlyServerURL": "https://plot.ly"
       },
       "data": [
        {
         "line": {
          "color": [
           0.4444444444444445,
           0.4444444444444445,
           0,
           0.28712465461721,
           0.28712465461721,
           0,
           0.28712465461721,
           0.28712465461721,
           0,
           0.4444444444444445,
           0.4444444444444445,
           0,
           0.509090909090909,
           0.509090909090909,
           0,
           0.14545454545454545,
           0.14545454545454545,
           0,
           0.509090909090909,
           0.509090909090909,
           0,
           0.28712465461721,
           0.28712465461721,
           0,
           0.28712465461721,
           0.28712465461721,
           0
          ],
          "colorbar": {
           "title": {
            "text": "Force"
           }
          },
          "colorscale": [
           [
            0,
            "#440154"
           ],
           [
            0.1111111111111111,
            "#482878"
           ],
           [
            0.2222222222222222,
            "#3e4989"
           ],
           [
            0.3333333333333333,
            "#31688e"
           ],
           [
            0.4444444444444444,
            "#26828e"
           ],
           [
            0.5555555555555556,
            "#1f9e89"
           ],
           [
            0.6666666666666666,
            "#35b779"
           ],
           [
            0.7777777777777778,
            "#6ece58"
           ],
           [
            0.8888888888888888,
            "#b5de2b"
           ],
           [
            1,
            "#fde725"
           ]
          ],
          "showscale": true,
          "width": 3
         },
         "mode": "lines",
         "type": "scatter3d",
         "x": [
          -110,
          -48.888888888888886,
          null,
          -48.888888888888886,
          0,
          null,
          0,
          48.888888888888886,
          null,
          48.888888888888886,
          110,
          null,
          0,
          0,
          null,
          0,
          -3.3934736610349224e-15,
          null,
          -3.3934736610349224e-15,
          0,
          null,
          -48.888888888888886,
          -3.3934736610349224e-15,
          null,
          -3.3934736610349224e-15,
          48.888888888888886,
          null
         ],
         "y": [
          0,
          1.6961740653995446e-15,
          null,
          1.6961740653995446e-15,
          -40,
          null,
          -40,
          4.1495686957096e-15,
          null,
          4.1495686957096e-15,
          0,
          null,
          -110,
          -40,
          null,
          -40,
          40.00000000000001,
          null,
          40.00000000000001,
          110,
          null,
          1.6961740653995446e-15,
          40.00000000000001,
          null,
          40.00000000000001,
          4.1495686957096e-15,
          null
         ],
         "z": [
          0,
          0,
          null,
          0,
          0,
          null,
          0,
          0,
          null,
          0,
          0,
          null,
          0,
          0,
          null,
          0,
          0,
          null,
          0,
          0,
          null,
          0,
          0,
          null,
          0,
          0,
          null
         ]
        },
        {
         "mode": "text",
         "text": [
          "0"
         ],
         "type": "scatter3d",
         "x": [
          -79.44444444444444
         ],
         "y": [
          8.480870326997723e-16
         ],
         "z": [
          0
         ]
        },
        {
         "mode": "text",
         "text": [
          "1"
         ],
         "type": "scatter3d",
         "x": [
          -24.444444444444443
         ],
         "y": [
          -20
         ],
         "z": [
          0
         ]
        },
        {
         "mode": "text",
         "text": [
          "2"
         ],
         "type": "scatter3d",
         "x": [
          24.444444444444443
         ],
         "y": [
          -19.999999999999996
         ],
         "z": [
          0
         ]
        },
        {
         "mode": "text",
         "text": [
          "3"
         ],
         "type": "scatter3d",
         "x": [
          79.44444444444444
         ],
         "y": [
          2.0747843478548e-15
         ],
         "z": [
          0
         ]
        },
        {
         "mode": "text",
         "text": [
          "4"
         ],
         "type": "scatter3d",
         "x": [
          0
         ],
         "y": [
          -75
         ],
         "z": [
          0
         ]
        },
        {
         "mode": "text",
         "text": [
          "5"
         ],
         "type": "scatter3d",
         "x": [
          -1.6967368305174612e-15
         ],
         "y": [
          3.552713678800501e-15
         ],
         "z": [
          0
         ]
        },
        {
         "mode": "text",
         "text": [
          "6"
         ],
         "type": "scatter3d",
         "x": [
          -1.6967368305174612e-15
         ],
         "y": [
          75
         ],
         "z": [
          0
         ]
        },
        {
         "mode": "text",
         "text": [
          "7"
         ],
         "type": "scatter3d",
         "x": [
          -24.444444444444443
         ],
         "y": [
          20.000000000000004
         ],
         "z": [
          0
         ]
        },
        {
         "mode": "text",
         "text": [
          "8"
         ],
         "type": "scatter3d",
         "x": [
          24.444444444444443
         ],
         "y": [
          20.000000000000007
         ],
         "z": [
          0
         ]
        }
       ],
       "layout": {
        "scene": {
         "aspectmode": "data",
         "camera": {
          "eye": {
           "x": 0,
           "y": 0,
           "z": 15
          }
         }
        },
        "template": {
         "data": {
          "bar": [
           {
            "error_x": {
             "color": "#2a3f5f"
            },
            "error_y": {
             "color": "#2a3f5f"
            },
            "marker": {
             "line": {
              "color": "#E5ECF6",
              "width": 0.5
             },
             "pattern": {
              "fillmode": "overlay",
              "size": 10,
              "solidity": 0.2
             }
            },
            "type": "bar"
           }
          ],
          "barpolar": [
           {
            "marker": {
             "line": {
              "color": "#E5ECF6",
              "width": 0.5
             },
             "pattern": {
              "fillmode": "overlay",
              "size": 10,
              "solidity": 0.2
             }
            },
            "type": "barpolar"
           }
          ],
          "carpet": [
           {
            "aaxis": {
             "endlinecolor": "#2a3f5f",
             "gridcolor": "white",
             "linecolor": "white",
             "minorgridcolor": "white",
             "startlinecolor": "#2a3f5f"
            },
            "baxis": {
             "endlinecolor": "#2a3f5f",
             "gridcolor": "white",
             "linecolor": "white",
             "minorgridcolor": "white",
             "startlinecolor": "#2a3f5f"
            },
            "type": "carpet"
           }
          ],
          "choropleth": [
           {
            "colorbar": {
             "outlinewidth": 0,
             "ticks": ""
            },
            "type": "choropleth"
           }
          ],
          "contour": [
           {
            "colorbar": {
             "outlinewidth": 0,
             "ticks": ""
            },
            "colorscale": [
             [
              0,
              "#0d0887"
             ],
             [
              0.1111111111111111,
              "#46039f"
             ],
             [
              0.2222222222222222,
              "#7201a8"
             ],
             [
              0.3333333333333333,
              "#9c179e"
             ],
             [
              0.4444444444444444,
              "#bd3786"
             ],
             [
              0.5555555555555556,
              "#d8576b"
             ],
             [
              0.6666666666666666,
              "#ed7953"
             ],
             [
              0.7777777777777778,
              "#fb9f3a"
             ],
             [
              0.8888888888888888,
              "#fdca26"
             ],
             [
              1,
              "#f0f921"
             ]
            ],
            "type": "contour"
           }
          ],
          "contourcarpet": [
           {
            "colorbar": {
             "outlinewidth": 0,
             "ticks": ""
            },
            "type": "contourcarpet"
           }
          ],
          "heatmap": [
           {
            "colorbar": {
             "outlinewidth": 0,
             "ticks": ""
            },
            "colorscale": [
             [
              0,
              "#0d0887"
             ],
             [
              0.1111111111111111,
              "#46039f"
             ],
             [
              0.2222222222222222,
              "#7201a8"
             ],
             [
              0.3333333333333333,
              "#9c179e"
             ],
             [
              0.4444444444444444,
              "#bd3786"
             ],
             [
              0.5555555555555556,
              "#d8576b"
             ],
             [
              0.6666666666666666,
              "#ed7953"
             ],
             [
              0.7777777777777778,
              "#fb9f3a"
             ],
             [
              0.8888888888888888,
              "#fdca26"
             ],
             [
              1,
              "#f0f921"
             ]
            ],
            "type": "heatmap"
           }
          ],
          "heatmapgl": [
           {
            "colorbar": {
             "outlinewidth": 0,
             "ticks": ""
            },
            "colorscale": [
             [
              0,
              "#0d0887"
             ],
             [
              0.1111111111111111,
              "#46039f"
             ],
             [
              0.2222222222222222,
              "#7201a8"
             ],
             [
              0.3333333333333333,
              "#9c179e"
             ],
             [
              0.4444444444444444,
              "#bd3786"
             ],
             [
              0.5555555555555556,
              "#d8576b"
             ],
             [
              0.6666666666666666,
              "#ed7953"
             ],
             [
              0.7777777777777778,
              "#fb9f3a"
             ],
             [
              0.8888888888888888,
              "#fdca26"
             ],
             [
              1,
              "#f0f921"
             ]
            ],
            "type": "heatmapgl"
           }
          ],
          "histogram": [
           {
            "marker": {
             "pattern": {
              "fillmode": "overlay",
              "size": 10,
              "solidity": 0.2
             }
            },
            "type": "histogram"
           }
          ],
          "histogram2d": [
           {
            "colorbar": {
             "outlinewidth": 0,
             "ticks": ""
            },
            "colorscale": [
             [
              0,
              "#0d0887"
             ],
             [
              0.1111111111111111,
              "#46039f"
             ],
             [
              0.2222222222222222,
              "#7201a8"
             ],
             [
              0.3333333333333333,
              "#9c179e"
             ],
             [
              0.4444444444444444,
              "#bd3786"
             ],
             [
              0.5555555555555556,
              "#d8576b"
             ],
             [
              0.6666666666666666,
              "#ed7953"
             ],
             [
              0.7777777777777778,
              "#fb9f3a"
             ],
             [
              0.8888888888888888,
              "#fdca26"
             ],
             [
              1,
              "#f0f921"
             ]
            ],
            "type": "histogram2d"
           }
          ],
          "histogram2dcontour": [
           {
            "colorbar": {
             "outlinewidth": 0,
             "ticks": ""
            },
            "colorscale": [
             [
              0,
              "#0d0887"
             ],
             [
              0.1111111111111111,
              "#46039f"
             ],
             [
              0.2222222222222222,
              "#7201a8"
             ],
             [
              0.3333333333333333,
              "#9c179e"
             ],
             [
              0.4444444444444444,
              "#bd3786"
             ],
             [
              0.5555555555555556,
              "#d8576b"
             ],
             [
              0.6666666666666666,
              "#ed7953"
             ],
             [
              0.7777777777777778,
              "#fb9f3a"
             ],
             [
              0.8888888888888888,
              "#fdca26"
             ],
             [
              1,
              "#f0f921"
             ]
            ],
            "type": "histogram2dcontour"
           }
          ],
          "mesh3d": [
           {
            "colorbar": {
             "outlinewidth": 0,
             "ticks": ""
            },
            "type": "mesh3d"
           }
          ],
          "parcoords": [
           {
            "line": {
             "colorbar": {
              "outlinewidth": 0,
              "ticks": ""
             }
            },
            "type": "parcoords"
           }
          ],
          "pie": [
           {
            "automargin": true,
            "type": "pie"
           }
          ],
          "scatter": [
           {
            "fillpattern": {
             "fillmode": "overlay",
             "size": 10,
             "solidity": 0.2
            },
            "type": "scatter"
           }
          ],
          "scatter3d": [
           {
            "line": {
             "colorbar": {
              "outlinewidth": 0,
              "ticks": ""
             }
            },
            "marker": {
             "colorbar": {
              "outlinewidth": 0,
              "ticks": ""
             }
            },
            "type": "scatter3d"
           }
          ],
          "scattercarpet": [
           {
            "marker": {
             "colorbar": {
              "outlinewidth": 0,
              "ticks": ""
             }
            },
            "type": "scattercarpet"
           }
          ],
          "scattergeo": [
           {
            "marker": {
             "colorbar": {
              "outlinewidth": 0,
              "ticks": ""
             }
            },
            "type": "scattergeo"
           }
          ],
          "scattergl": [
           {
            "marker": {
             "colorbar": {
              "outlinewidth": 0,
              "ticks": ""
             }
            },
            "type": "scattergl"
           }
          ],
          "scattermapbox": [
           {
            "marker": {
             "colorbar": {
              "outlinewidth": 0,
              "ticks": ""
             }
            },
            "type": "scattermapbox"
           }
          ],
          "scatterpolar": [
           {
            "marker": {
             "colorbar": {
              "outlinewidth": 0,
              "ticks": ""
             }
            },
            "type": "scatterpolar"
           }
          ],
          "scatterpolargl": [
           {
            "marker": {
             "colorbar": {
              "outlinewidth": 0,
              "ticks": ""
             }
            },
            "type": "scatterpolargl"
           }
          ],
          "scatterternary": [
           {
            "marker": {
             "colorbar": {
              "outlinewidth": 0,
              "ticks": ""
             }
            },
            "type": "scatterternary"
           }
          ],
          "surface": [
           {
            "colorbar": {
             "outlinewidth": 0,
             "ticks": ""
            },
            "colorscale": [
             [
              0,
              "#0d0887"
             ],
             [
              0.1111111111111111,
              "#46039f"
             ],
             [
              0.2222222222222222,
              "#7201a8"
             ],
             [
              0.3333333333333333,
              "#9c179e"
             ],
             [
              0.4444444444444444,
              "#bd3786"
             ],
             [
              0.5555555555555556,
              "#d8576b"
             ],
             [
              0.6666666666666666,
              "#ed7953"
             ],
             [
              0.7777777777777778,
              "#fb9f3a"
             ],
             [
              0.8888888888888888,
              "#fdca26"
             ],
             [
              1,
              "#f0f921"
             ]
            ],
            "type": "surface"
           }
          ],
          "table": [
           {
            "cells": {
             "fill": {
              "color": "#EBF0F8"
             },
             "line": {
              "color": "white"
             }
            },
            "header": {
             "fill": {
              "color": "#C8D4E3"
             },
             "line": {
              "color": "white"
             }
            },
            "type": "table"
           }
          ]
         },
         "layout": {
          "annotationdefaults": {
           "arrowcolor": "#2a3f5f",
           "arrowhead": 0,
           "arrowwidth": 1
          },
          "autotypenumbers": "strict",
          "coloraxis": {
           "colorbar": {
            "outlinewidth": 0,
            "ticks": ""
           }
          },
          "colorscale": {
           "diverging": [
            [
             0,
             "#8e0152"
            ],
            [
             0.1,
             "#c51b7d"
            ],
            [
             0.2,
             "#de77ae"
            ],
            [
             0.3,
             "#f1b6da"
            ],
            [
             0.4,
             "#fde0ef"
            ],
            [
             0.5,
             "#f7f7f7"
            ],
            [
             0.6,
             "#e6f5d0"
            ],
            [
             0.7,
             "#b8e186"
            ],
            [
             0.8,
             "#7fbc41"
            ],
            [
             0.9,
             "#4d9221"
            ],
            [
             1,
             "#276419"
            ]
           ],
           "sequential": [
            [
             0,
             "#0d0887"
            ],
            [
             0.1111111111111111,
             "#46039f"
            ],
            [
             0.2222222222222222,
             "#7201a8"
            ],
            [
             0.3333333333333333,
             "#9c179e"
            ],
            [
             0.4444444444444444,
             "#bd3786"
            ],
            [
             0.5555555555555556,
             "#d8576b"
            ],
            [
             0.6666666666666666,
             "#ed7953"
            ],
            [
             0.7777777777777778,
             "#fb9f3a"
            ],
            [
             0.8888888888888888,
             "#fdca26"
            ],
            [
             1,
             "#f0f921"
            ]
           ],
           "sequentialminus": [
            [
             0,
             "#0d0887"
            ],
            [
             0.1111111111111111,
             "#46039f"
            ],
            [
             0.2222222222222222,
             "#7201a8"
            ],
            [
             0.3333333333333333,
             "#9c179e"
            ],
            [
             0.4444444444444444,
             "#bd3786"
            ],
            [
             0.5555555555555556,
             "#d8576b"
            ],
            [
             0.6666666666666666,
             "#ed7953"
            ],
            [
             0.7777777777777778,
             "#fb9f3a"
            ],
            [
             0.8888888888888888,
             "#fdca26"
            ],
            [
             1,
             "#f0f921"
            ]
           ]
          },
          "colorway": [
           "#636efa",
           "#EF553B",
           "#00cc96",
           "#ab63fa",
           "#FFA15A",
           "#19d3f3",
           "#FF6692",
           "#B6E880",
           "#FF97FF",
           "#FECB52"
          ],
          "font": {
           "color": "#2a3f5f"
          },
          "geo": {
           "bgcolor": "white",
           "lakecolor": "white",
           "landcolor": "#E5ECF6",
           "showlakes": true,
           "showland": true,
           "subunitcolor": "white"
          },
          "hoverlabel": {
           "align": "left"
          },
          "hovermode": "closest",
          "mapbox": {
           "style": "light"
          },
          "paper_bgcolor": "white",
          "plot_bgcolor": "#E5ECF6",
          "polar": {
           "angularaxis": {
            "gridcolor": "white",
            "linecolor": "white",
            "ticks": ""
           },
           "bgcolor": "#E5ECF6",
           "radialaxis": {
            "gridcolor": "white",
            "linecolor": "white",
            "ticks": ""
           }
          },
          "scene": {
           "xaxis": {
            "backgroundcolor": "#E5ECF6",
            "gridcolor": "white",
            "gridwidth": 2,
            "linecolor": "white",
            "showbackground": true,
            "ticks": "",
            "zerolinecolor": "white"
           },
           "yaxis": {
            "backgroundcolor": "#E5ECF6",
            "gridcolor": "white",
            "gridwidth": 2,
            "linecolor": "white",
            "showbackground": true,
            "ticks": "",
            "zerolinecolor": "white"
           },
           "zaxis": {
            "backgroundcolor": "#E5ECF6",
            "gridcolor": "white",
            "gridwidth": 2,
            "linecolor": "white",
            "showbackground": true,
            "ticks": "",
            "zerolinecolor": "white"
           }
          },
          "shapedefaults": {
           "line": {
            "color": "#2a3f5f"
           }
          },
          "ternary": {
           "aaxis": {
            "gridcolor": "white",
            "linecolor": "white",
            "ticks": ""
           },
           "baxis": {
            "gridcolor": "white",
            "linecolor": "white",
            "ticks": ""
           },
           "bgcolor": "#E5ECF6",
           "caxis": {
            "gridcolor": "white",
            "linecolor": "white",
            "ticks": ""
           }
          },
          "title": {
           "x": 0.05
          },
          "xaxis": {
           "automargin": true,
           "gridcolor": "white",
           "linecolor": "white",
           "ticks": "",
           "title": {
            "standoff": 15
           },
           "zerolinecolor": "white",
           "zerolinewidth": 2
          },
          "yaxis": {
           "automargin": true,
           "gridcolor": "white",
           "linecolor": "white",
           "ticks": "",
           "title": {
            "standoff": 15
           },
           "zerolinecolor": "white",
           "zerolinewidth": 2
          }
         }
        },
        "title": {
         "text": "Plotly Plot"
        }
       }
      }
     },
     "metadata": {},
     "output_type": "display_data"
    },
    {
     "data": {
      "text/plain": [
       "6.502255095275947"
      ]
     },
     "execution_count": 63,
     "metadata": {},
     "output_type": "execute_result"
    }
   ],
   "source": [
    "# Note that the coordinates of the vertices will change after equilibrium is reached.\n",
    "vertices    = np.array([[-10, 0, 0], [-5, 0,0], [5, 0, 0], [10, 0, 0], [0,-10,0], [0,-5,0], [0,5,0], [0,10,0]])*11  # The coordinates of the vertices in mm\n",
    "edges       = [[0, 1], [1, 5], [5, 2], [2, 3], [4, 5], [5, 6], [6,7], [1, 6], [6, 2]]                  # The edges of the network.\n",
    "paths       = [[0, 1, 2, 3], [4, 5, 6], [7, 8]]   # 3D printable paths. Ensure an edge is not flipped.\n",
    "directions  = [1, 1, 1, 1, 1, 1, 1, 1, 1]          # Flip the curvature of an edge by setting the direction to -1.\n",
    "\n",
    "scalar = 110\n",
    "q_ring      = .5\n",
    "q_connectors = .8\n",
    "q_center    = .2\n",
    "q           = np.array([q_connectors, q_ring, q_ring, q_connectors, q_connectors, q_center, q_connectors, q_ring, q_ring])/scalar\n",
    "# q[2]        = 1.5/scalar\n",
    "# q[-1]        = 1.5/scalar\n",
    "fixed       = [0, 3, 4, 7]\n",
    "# model_name  = 'VS_ring{}_connectors{}_center{}_as{}'.format(q_ring, q_connectors, q_center, q[2]*scalar)\n",
    "# model_name  = 'VS_ring{}_connectors{}_center{}_as{}_asr{}_s{}'.format(q_ring, q_connectors, q_center, q[2]*scalar, q[-1]*scalar, scalar)\n",
    "model_name  = 'unit_cell'\n",
    "\n",
    "# Create the network\n",
    "net = Network_custom.from_fd(vertices, edges, q, fixed, paths = paths, dir = directions)\n",
    "\n",
    "# The topology of structure is fixed after generation, but you can update force densities after making the network\n",
    "# q[0] = .10\n",
    "# net.update_shape(q)\n",
    "\n",
    "# Plot the network like this\n",
    "net.net_plot(color=True, elables = True, vlabels = False)\n",
    "\n",
    "(net.vertices == vertices).all() # Please understand that this is False\n",
    "np.max(net.f)/0.078294515\n",
    "\n",
    "# import matplotlib.pyplot as plt\n",
    "# cmap = plt.get_cmap('viridis')\n",
    "\n",
    "# Convert to TikZ RGB format\n",
    "# f_plot = (net.f - np.min(net.f)) / (np.max(net.f) - np.min(net.f))\n",
    "# for val in f_plot:\n",
    "#     r, g, b, _ = cmap(val)  # Get RGBA (ignore A)color={rgb,1:red,0.282;green,0.141;blue,0.458}\n",
    "#     print(\"\\draw[thick, color = {\" + f\"rgb,1:red,{r:.3f}; green,{g:.3f};blue, {b:.3f}\"+\"}]\")\n",
    "\n",
    "np.max(net.f)/0.078294515"
   ]
  },
  {
   "cell_type": "code",
   "execution_count": 64,
   "metadata": {},
   "outputs": [
    {
     "data": {
      "application/vnd.plotly.v1+json": {
       "config": {
        "plotlyServerURL": "https://plot.ly"
       },
       "data": [
        {
         "line": {
          "color": [
           0.5248331858990112,
           0.5248331858990112,
           0,
           0.17876134214762854,
           0.17876134214762854,
           0,
           0.17917671680801353,
           0.17917671680801353,
           0,
           0.5471772485491662,
           0.5471772485491662,
           0,
           0.5315010417183497,
           0.5315010417183497,
           0,
           0.16770394269237182,
           0.16770394269237182,
           0,
           0.18722658814767656,
           0.18722658814767656,
           0,
           0.5395965014414704,
           0.5395965014414704,
           0,
           0.24157457872752827,
           0.24157457872752827,
           0,
           0.2680492993560748,
           0.2680492993560748,
           0,
           0.253595392249549,
           0.253595392249549,
           0,
           0.24827605880322257,
           0.24827605880322257,
           0
          ],
          "colorbar": {
           "title": {
            "text": "Force"
           }
          },
          "colorscale": [
           [
            0,
            "#440154"
           ],
           [
            0.1111111111111111,
            "#482878"
           ],
           [
            0.2222222222222222,
            "#3e4989"
           ],
           [
            0.3333333333333333,
            "#31688e"
           ],
           [
            0.4444444444444444,
            "#26828e"
           ],
           [
            0.5555555555555556,
            "#1f9e89"
           ],
           [
            0.6666666666666666,
            "#35b779"
           ],
           [
            0.7777777777777778,
            "#6ece58"
           ],
           [
            0.8888888888888888,
            "#b5de2b"
           ],
           [
            1,
            "#fde725"
           ]
          ],
          "showscale": true,
          "width": 3
         },
         "mode": "lines",
         "type": "scatter3d",
         "x": [
          -77.78174593052023,
          -37.332344618959134,
          null,
          -37.332344618959134,
          3.2283932552718433,
          null,
          3.2283932552718433,
          39.58655044017717,
          null,
          39.58655044017717,
          77.78174593052023,
          null,
          -77.78174593052023,
          -38.035533094601504,
          null,
          -38.035533094601504,
          3.2283932552718433,
          null,
          3.2283932552718433,
          39.0581854734628,
          null,
          39.0581854734628,
          77.78174593052023,
          null,
          -37.332344618959134,
          -38.035533094601504,
          null,
          -38.035533094601504,
          39.58655044017717,
          null,
          39.58655044017717,
          39.0581854734628,
          null,
          39.0581854734628,
          -37.332344618959134,
          null
         ],
         "y": [
          77.78174593052023,
          38.80929804998811,
          null,
          38.80929804998811,
          1.6581144436634223,
          null,
          1.6581144436634223,
          -39.78515241451966,
          null,
          -39.78515241451966,
          -77.78174593052023,
          null,
          -77.78174593052023,
          -40.473599178198896,
          null,
          -40.473599178198896,
          1.6581144436634223,
          null,
          1.6581144436634223,
          38.242410151208254,
          null,
          38.242410151208254,
          77.78174593052023,
          null,
          38.80929804998811,
          -40.473599178198896,
          null,
          -40.473599178198896,
          -39.78515241451966,
          null,
          -39.78515241451966,
          38.242410151208254,
          null,
          38.242410151208254,
          38.80929804998811,
          null
         ],
         "z": [
          0,
          0,
          null,
          0,
          0,
          null,
          0,
          0,
          null,
          0,
          0,
          null,
          0,
          0,
          null,
          0,
          0,
          null,
          0,
          0,
          null,
          0,
          0,
          null,
          0,
          0,
          null,
          0,
          0,
          null,
          0,
          0,
          null,
          0,
          0,
          null
         ]
        },
        {
         "mode": "text",
         "text": [
          "0"
         ],
         "type": "scatter3d",
         "x": [
          -57.55704527473968
         ],
         "y": [
          58.29552199025417
         ],
         "z": [
          0
         ]
        },
        {
         "mode": "text",
         "text": [
          "1"
         ],
         "type": "scatter3d",
         "x": [
          -17.051975681843643
         ],
         "y": [
          20.233706246825765
         ],
         "z": [
          0
         ]
        },
        {
         "mode": "text",
         "text": [
          "2"
         ],
         "type": "scatter3d",
         "x": [
          21.40747184772451
         ],
         "y": [
          -19.063518985428118
         ],
         "z": [
          0
         ]
        },
        {
         "mode": "text",
         "text": [
          "3"
         ],
         "type": "scatter3d",
         "x": [
          58.684148185348704
         ],
         "y": [
          -58.783449172519944
         ],
         "z": [
          0
         ]
        },
        {
         "mode": "text",
         "text": [
          "4"
         ],
         "type": "scatter3d",
         "x": [
          -57.90863951256087
         ],
         "y": [
          -59.12767255435956
         ],
         "z": [
          0
         ]
        },
        {
         "mode": "text",
         "text": [
          "5"
         ],
         "type": "scatter3d",
         "x": [
          -17.403569919664832
         ],
         "y": [
          -19.407742367267737
         ],
         "z": [
          0
         ]
        },
        {
         "mode": "text",
         "text": [
          "6"
         ],
         "type": "scatter3d",
         "x": [
          21.14328936436732
         ],
         "y": [
          19.950262297435838
         ],
         "z": [
          0
         ]
        },
        {
         "mode": "text",
         "text": [
          "7"
         ],
         "type": "scatter3d",
         "x": [
          58.419965701991515
         ],
         "y": [
          58.01207804086424
         ],
         "z": [
          0
         ]
        },
        {
         "mode": "text",
         "text": [
          "8"
         ],
         "type": "scatter3d",
         "x": [
          -37.683938856780316
         ],
         "y": [
          -0.8321505641053939
         ],
         "z": [
          0
         ]
        },
        {
         "mode": "text",
         "text": [
          "9"
         ],
         "type": "scatter3d",
         "x": [
          0.7755086727878329
         ],
         "y": [
          -40.12937579635928
         ],
         "z": [
          0
         ]
        },
        {
         "mode": "text",
         "text": [
          "10"
         ],
         "type": "scatter3d",
         "x": [
          39.32236795681999
         ],
         "y": [
          -0.7713711316557017
         ],
         "z": [
          0
         ]
        },
        {
         "mode": "text",
         "text": [
          "11"
         ],
         "type": "scatter3d",
         "x": [
          0.8629204272518329
         ],
         "y": [
          38.52585410059818
         ],
         "z": [
          0
         ]
        }
       ],
       "layout": {
        "scene": {
         "aspectmode": "data",
         "camera": {
          "eye": {
           "x": 0,
           "y": 0,
           "z": 15
          }
         }
        },
        "template": {
         "data": {
          "bar": [
           {
            "error_x": {
             "color": "#2a3f5f"
            },
            "error_y": {
             "color": "#2a3f5f"
            },
            "marker": {
             "line": {
              "color": "#E5ECF6",
              "width": 0.5
             },
             "pattern": {
              "fillmode": "overlay",
              "size": 10,
              "solidity": 0.2
             }
            },
            "type": "bar"
           }
          ],
          "barpolar": [
           {
            "marker": {
             "line": {
              "color": "#E5ECF6",
              "width": 0.5
             },
             "pattern": {
              "fillmode": "overlay",
              "size": 10,
              "solidity": 0.2
             }
            },
            "type": "barpolar"
           }
          ],
          "carpet": [
           {
            "aaxis": {
             "endlinecolor": "#2a3f5f",
             "gridcolor": "white",
             "linecolor": "white",
             "minorgridcolor": "white",
             "startlinecolor": "#2a3f5f"
            },
            "baxis": {
             "endlinecolor": "#2a3f5f",
             "gridcolor": "white",
             "linecolor": "white",
             "minorgridcolor": "white",
             "startlinecolor": "#2a3f5f"
            },
            "type": "carpet"
           }
          ],
          "choropleth": [
           {
            "colorbar": {
             "outlinewidth": 0,
             "ticks": ""
            },
            "type": "choropleth"
           }
          ],
          "contour": [
           {
            "colorbar": {
             "outlinewidth": 0,
             "ticks": ""
            },
            "colorscale": [
             [
              0,
              "#0d0887"
             ],
             [
              0.1111111111111111,
              "#46039f"
             ],
             [
              0.2222222222222222,
              "#7201a8"
             ],
             [
              0.3333333333333333,
              "#9c179e"
             ],
             [
              0.4444444444444444,
              "#bd3786"
             ],
             [
              0.5555555555555556,
              "#d8576b"
             ],
             [
              0.6666666666666666,
              "#ed7953"
             ],
             [
              0.7777777777777778,
              "#fb9f3a"
             ],
             [
              0.8888888888888888,
              "#fdca26"
             ],
             [
              1,
              "#f0f921"
             ]
            ],
            "type": "contour"
           }
          ],
          "contourcarpet": [
           {
            "colorbar": {
             "outlinewidth": 0,
             "ticks": ""
            },
            "type": "contourcarpet"
           }
          ],
          "heatmap": [
           {
            "colorbar": {
             "outlinewidth": 0,
             "ticks": ""
            },
            "colorscale": [
             [
              0,
              "#0d0887"
             ],
             [
              0.1111111111111111,
              "#46039f"
             ],
             [
              0.2222222222222222,
              "#7201a8"
             ],
             [
              0.3333333333333333,
              "#9c179e"
             ],
             [
              0.4444444444444444,
              "#bd3786"
             ],
             [
              0.5555555555555556,
              "#d8576b"
             ],
             [
              0.6666666666666666,
              "#ed7953"
             ],
             [
              0.7777777777777778,
              "#fb9f3a"
             ],
             [
              0.8888888888888888,
              "#fdca26"
             ],
             [
              1,
              "#f0f921"
             ]
            ],
            "type": "heatmap"
           }
          ],
          "heatmapgl": [
           {
            "colorbar": {
             "outlinewidth": 0,
             "ticks": ""
            },
            "colorscale": [
             [
              0,
              "#0d0887"
             ],
             [
              0.1111111111111111,
              "#46039f"
             ],
             [
              0.2222222222222222,
              "#7201a8"
             ],
             [
              0.3333333333333333,
              "#9c179e"
             ],
             [
              0.4444444444444444,
              "#bd3786"
             ],
             [
              0.5555555555555556,
              "#d8576b"
             ],
             [
              0.6666666666666666,
              "#ed7953"
             ],
             [
              0.7777777777777778,
              "#fb9f3a"
             ],
             [
              0.8888888888888888,
              "#fdca26"
             ],
             [
              1,
              "#f0f921"
             ]
            ],
            "type": "heatmapgl"
           }
          ],
          "histogram": [
           {
            "marker": {
             "pattern": {
              "fillmode": "overlay",
              "size": 10,
              "solidity": 0.2
             }
            },
            "type": "histogram"
           }
          ],
          "histogram2d": [
           {
            "colorbar": {
             "outlinewidth": 0,
             "ticks": ""
            },
            "colorscale": [
             [
              0,
              "#0d0887"
             ],
             [
              0.1111111111111111,
              "#46039f"
             ],
             [
              0.2222222222222222,
              "#7201a8"
             ],
             [
              0.3333333333333333,
              "#9c179e"
             ],
             [
              0.4444444444444444,
              "#bd3786"
             ],
             [
              0.5555555555555556,
              "#d8576b"
             ],
             [
              0.6666666666666666,
              "#ed7953"
             ],
             [
              0.7777777777777778,
              "#fb9f3a"
             ],
             [
              0.8888888888888888,
              "#fdca26"
             ],
             [
              1,
              "#f0f921"
             ]
            ],
            "type": "histogram2d"
           }
          ],
          "histogram2dcontour": [
           {
            "colorbar": {
             "outlinewidth": 0,
             "ticks": ""
            },
            "colorscale": [
             [
              0,
              "#0d0887"
             ],
             [
              0.1111111111111111,
              "#46039f"
             ],
             [
              0.2222222222222222,
              "#7201a8"
             ],
             [
              0.3333333333333333,
              "#9c179e"
             ],
             [
              0.4444444444444444,
              "#bd3786"
             ],
             [
              0.5555555555555556,
              "#d8576b"
             ],
             [
              0.6666666666666666,
              "#ed7953"
             ],
             [
              0.7777777777777778,
              "#fb9f3a"
             ],
             [
              0.8888888888888888,
              "#fdca26"
             ],
             [
              1,
              "#f0f921"
             ]
            ],
            "type": "histogram2dcontour"
           }
          ],
          "mesh3d": [
           {
            "colorbar": {
             "outlinewidth": 0,
             "ticks": ""
            },
            "type": "mesh3d"
           }
          ],
          "parcoords": [
           {
            "line": {
             "colorbar": {
              "outlinewidth": 0,
              "ticks": ""
             }
            },
            "type": "parcoords"
           }
          ],
          "pie": [
           {
            "automargin": true,
            "type": "pie"
           }
          ],
          "scatter": [
           {
            "fillpattern": {
             "fillmode": "overlay",
             "size": 10,
             "solidity": 0.2
            },
            "type": "scatter"
           }
          ],
          "scatter3d": [
           {
            "line": {
             "colorbar": {
              "outlinewidth": 0,
              "ticks": ""
             }
            },
            "marker": {
             "colorbar": {
              "outlinewidth": 0,
              "ticks": ""
             }
            },
            "type": "scatter3d"
           }
          ],
          "scattercarpet": [
           {
            "marker": {
             "colorbar": {
              "outlinewidth": 0,
              "ticks": ""
             }
            },
            "type": "scattercarpet"
           }
          ],
          "scattergeo": [
           {
            "marker": {
             "colorbar": {
              "outlinewidth": 0,
              "ticks": ""
             }
            },
            "type": "scattergeo"
           }
          ],
          "scattergl": [
           {
            "marker": {
             "colorbar": {
              "outlinewidth": 0,
              "ticks": ""
             }
            },
            "type": "scattergl"
           }
          ],
          "scattermapbox": [
           {
            "marker": {
             "colorbar": {
              "outlinewidth": 0,
              "ticks": ""
             }
            },
            "type": "scattermapbox"
           }
          ],
          "scatterpolar": [
           {
            "marker": {
             "colorbar": {
              "outlinewidth": 0,
              "ticks": ""
             }
            },
            "type": "scatterpolar"
           }
          ],
          "scatterpolargl": [
           {
            "marker": {
             "colorbar": {
              "outlinewidth": 0,
              "ticks": ""
             }
            },
            "type": "scatterpolargl"
           }
          ],
          "scatterternary": [
           {
            "marker": {
             "colorbar": {
              "outlinewidth": 0,
              "ticks": ""
             }
            },
            "type": "scatterternary"
           }
          ],
          "surface": [
           {
            "colorbar": {
             "outlinewidth": 0,
             "ticks": ""
            },
            "colorscale": [
             [
              0,
              "#0d0887"
             ],
             [
              0.1111111111111111,
              "#46039f"
             ],
             [
              0.2222222222222222,
              "#7201a8"
             ],
             [
              0.3333333333333333,
              "#9c179e"
             ],
             [
              0.4444444444444444,
              "#bd3786"
             ],
             [
              0.5555555555555556,
              "#d8576b"
             ],
             [
              0.6666666666666666,
              "#ed7953"
             ],
             [
              0.7777777777777778,
              "#fb9f3a"
             ],
             [
              0.8888888888888888,
              "#fdca26"
             ],
             [
              1,
              "#f0f921"
             ]
            ],
            "type": "surface"
           }
          ],
          "table": [
           {
            "cells": {
             "fill": {
              "color": "#EBF0F8"
             },
             "line": {
              "color": "white"
             }
            },
            "header": {
             "fill": {
              "color": "#C8D4E3"
             },
             "line": {
              "color": "white"
             }
            },
            "type": "table"
           }
          ]
         },
         "layout": {
          "annotationdefaults": {
           "arrowcolor": "#2a3f5f",
           "arrowhead": 0,
           "arrowwidth": 1
          },
          "autotypenumbers": "strict",
          "coloraxis": {
           "colorbar": {
            "outlinewidth": 0,
            "ticks": ""
           }
          },
          "colorscale": {
           "diverging": [
            [
             0,
             "#8e0152"
            ],
            [
             0.1,
             "#c51b7d"
            ],
            [
             0.2,
             "#de77ae"
            ],
            [
             0.3,
             "#f1b6da"
            ],
            [
             0.4,
             "#fde0ef"
            ],
            [
             0.5,
             "#f7f7f7"
            ],
            [
             0.6,
             "#e6f5d0"
            ],
            [
             0.7,
             "#b8e186"
            ],
            [
             0.8,
             "#7fbc41"
            ],
            [
             0.9,
             "#4d9221"
            ],
            [
             1,
             "#276419"
            ]
           ],
           "sequential": [
            [
             0,
             "#0d0887"
            ],
            [
             0.1111111111111111,
             "#46039f"
            ],
            [
             0.2222222222222222,
             "#7201a8"
            ],
            [
             0.3333333333333333,
             "#9c179e"
            ],
            [
             0.4444444444444444,
             "#bd3786"
            ],
            [
             0.5555555555555556,
             "#d8576b"
            ],
            [
             0.6666666666666666,
             "#ed7953"
            ],
            [
             0.7777777777777778,
             "#fb9f3a"
            ],
            [
             0.8888888888888888,
             "#fdca26"
            ],
            [
             1,
             "#f0f921"
            ]
           ],
           "sequentialminus": [
            [
             0,
             "#0d0887"
            ],
            [
             0.1111111111111111,
             "#46039f"
            ],
            [
             0.2222222222222222,
             "#7201a8"
            ],
            [
             0.3333333333333333,
             "#9c179e"
            ],
            [
             0.4444444444444444,
             "#bd3786"
            ],
            [
             0.5555555555555556,
             "#d8576b"
            ],
            [
             0.6666666666666666,
             "#ed7953"
            ],
            [
             0.7777777777777778,
             "#fb9f3a"
            ],
            [
             0.8888888888888888,
             "#fdca26"
            ],
            [
             1,
             "#f0f921"
            ]
           ]
          },
          "colorway": [
           "#636efa",
           "#EF553B",
           "#00cc96",
           "#ab63fa",
           "#FFA15A",
           "#19d3f3",
           "#FF6692",
           "#B6E880",
           "#FF97FF",
           "#FECB52"
          ],
          "font": {
           "color": "#2a3f5f"
          },
          "geo": {
           "bgcolor": "white",
           "lakecolor": "white",
           "landcolor": "#E5ECF6",
           "showlakes": true,
           "showland": true,
           "subunitcolor": "white"
          },
          "hoverlabel": {
           "align": "left"
          },
          "hovermode": "closest",
          "mapbox": {
           "style": "light"
          },
          "paper_bgcolor": "white",
          "plot_bgcolor": "#E5ECF6",
          "polar": {
           "angularaxis": {
            "gridcolor": "white",
            "linecolor": "white",
            "ticks": ""
           },
           "bgcolor": "#E5ECF6",
           "radialaxis": {
            "gridcolor": "white",
            "linecolor": "white",
            "ticks": ""
           }
          },
          "scene": {
           "xaxis": {
            "backgroundcolor": "#E5ECF6",
            "gridcolor": "white",
            "gridwidth": 2,
            "linecolor": "white",
            "showbackground": true,
            "ticks": "",
            "zerolinecolor": "white"
           },
           "yaxis": {
            "backgroundcolor": "#E5ECF6",
            "gridcolor": "white",
            "gridwidth": 2,
            "linecolor": "white",
            "showbackground": true,
            "ticks": "",
            "zerolinecolor": "white"
           },
           "zaxis": {
            "backgroundcolor": "#E5ECF6",
            "gridcolor": "white",
            "gridwidth": 2,
            "linecolor": "white",
            "showbackground": true,
            "ticks": "",
            "zerolinecolor": "white"
           }
          },
          "shapedefaults": {
           "line": {
            "color": "#2a3f5f"
           }
          },
          "ternary": {
           "aaxis": {
            "gridcolor": "white",
            "linecolor": "white",
            "ticks": ""
           },
           "baxis": {
            "gridcolor": "white",
            "linecolor": "white",
            "ticks": ""
           },
           "bgcolor": "#E5ECF6",
           "caxis": {
            "gridcolor": "white",
            "linecolor": "white",
            "ticks": ""
           }
          },
          "title": {
           "x": 0.05
          },
          "xaxis": {
           "automargin": true,
           "gridcolor": "white",
           "linecolor": "white",
           "ticks": "",
           "title": {
            "standoff": 15
           },
           "zerolinecolor": "white",
           "zerolinewidth": 2
          },
          "yaxis": {
           "automargin": true,
           "gridcolor": "white",
           "linecolor": "white",
           "ticks": "",
           "title": {
            "standoff": 15
           },
           "zerolinecolor": "white",
           "zerolinewidth": 2
          }
         }
        },
        "title": {
         "text": "Plotly Plot"
        }
       }
      }
     },
     "metadata": {},
     "output_type": "display_data"
    },
    {
     "data": {
      "text/plain": [
       "array([[-77.78174593,  77.78174593,   0.        ],\n",
       "       [-37.33234462,  38.80929805,   0.        ],\n",
       "       [  3.22839326,   1.65811444,   0.        ],\n",
       "       [ 39.58655044, -39.78515241,   0.        ],\n",
       "       [ 77.78174593, -77.78174593,   0.        ],\n",
       "       [-77.78174593, -77.78174593,   0.        ],\n",
       "       [-38.03553309, -40.47359918,   0.        ],\n",
       "       [ 39.05818547,  38.24241015,   0.        ],\n",
       "       [ 77.78174593,  77.78174593,   0.        ]])"
      ]
     },
     "execution_count": 64,
     "metadata": {},
     "output_type": "execute_result"
    }
   ],
   "source": [
    "def R(theta):\n",
    "    \"\"\"\n",
    "    Rotation matrix around the z-axis\n",
    "    :param theta: angle in radians\n",
    "    :return: rotation matrix\n",
    "    \"\"\"\n",
    "    return np.array([[np.cos(theta), -np.sin(theta), 0],\n",
    "                     [np.sin(theta), np.cos(theta), 0],\n",
    "                     [0, 0, 1]])\n",
    "\n",
    "# Note that the coordinates of the vertices will change after equilibrium is reached.\n",
    "vertices    = np.array([[-10, 0, 0], [-5, 0,0], [0, 0, 0], [5, 0, 0], [10, 0, 0], [0,-10,0], [0,-5,0], [0,5,0], [0,10,0]])*11  # The coordinates of the vertices in mm\n",
    "vertices    = vertices@R(np.pi/4)\n",
    "edges       = [[0, 1], [1, 2], [2, 3], [3, 4], [5, 6], [6, 2], [2, 7], [7, 8], [1, 6], [6, 3], [3, 7], [7,1]]                  # The edges of the network.\n",
    "paths       = [[0, 1, 2, 3], [4, 5, 6, 7], [8, 9, 10, 11]]   # 3D printable paths. Ensure an edge is not flipped.\n",
    "directions  = [1, 1, 1, 1, 1, 1, 1, 1, 1, 1, 1, 1]          # Flip the curvature of an edge by setting the direction to -1.\n",
    "center_cross_path = [1, 2, 5, 6]\n",
    "connector_path = [0, 3, 4, 7]\n",
    "q_scalar = 1.3\n",
    "sum_q0 = 0.02*q_scalar\n",
    "sum_q1 = 0.02*q_scalar\n",
    "sum_q2 = 0.01*q_scalar\n",
    "offset = 1/64\n",
    "ratio_0 = np.array([3/8-offset, 1/8, 1/8, 3/8+offset])\n",
    "ratio_1 = np.array([3/8, 1/8-offset, 1/8+offset, 3/8])\n",
    "ratio_2 = np.array([2/8-offset, 2/8+offset, 2/8, 2/8])\n",
    "\n",
    "q = np.zeros(len(edges))\n",
    "q[paths[0]] = sum_q0*ratio_0\n",
    "q[paths[1]] = sum_q1*ratio_1\n",
    "q[paths[2]] = sum_q2*ratio_2\n",
    "\n",
    "fixed       = [0, 4, 5, 8]\n",
    "# Create the network\n",
    "net = Network_custom.from_fd(vertices, edges, q, fixed, paths = paths, dir = directions)\n",
    "net.net_plot(color=True, elables = True, vlabels = False)\n",
    "np.max(net.f)/0.078294515\n",
    "vertices"
   ]
  },
  {
   "cell_type": "code",
   "execution_count": 65,
   "metadata": {},
   "outputs": [],
   "source": [
    "file_path = os.path.join(BYU_UW_root, 'Avg_Stress_Strain_Overture_TPU.csv')\n",
    "stress_data, strain_data = net.load_stress_strain_curve(file_path)\n",
    "TPU_nl = {'stress':strain_data, 'strain': stress_data, 'v':0.3897, 'p':1.18e-9, 'A': 0.078294515, 'name': 'TPU Overture'} # TPU Overture non-conductive\n",
    "A = [TPU_nl['A']]*len(net.edges)\n",
    "l0, l_scalar = net.materialize_nonlinear(A, stress_data, strain_data, interpolation_kind = 'cubic')\n",
    "strain_to_stress = net.material_model(stress_data, strain_data, interpolation_kind = 'cubic')"
   ]
  },
  {
   "cell_type": "code",
   "execution_count": null,
   "metadata": {},
   "outputs": [],
   "source": [
    "# vertices = net.vertices.copy()*1.1\n",
    "vertices_equilibrium, l1, f = net.find_equilibrium(vertices, A, strain_to_stress)\n",
    "# net.net_plot(color=False, elables = True, vlabels = False, custom_vertices = vertices_equilibrium)\n",
    "# f/A"
   ]
  },
  {
   "cell_type": "markdown",
   "metadata": {},
   "source": [
    "Constant settings"
   ]
  },
  {
   "cell_type": "code",
   "execution_count": 67,
   "metadata": {},
   "outputs": [],
   "source": [
    "printing_params = load_params(r'DATA/NT_Eel_0.2mm_og.json')\n",
    "alpha_loop = np.deg2rad(30) # The angle of the loop\n",
    "L_loop  = 5                # The length of the loop\n",
    "n_points = 60               # The number of points in the loop\n",
    "\n",
    "start_gcode     = open(r'DATA/start_gcode.gcode', 'r').read()\n",
    "end_gcode       = open(r'DATA/end_gcode.gcode', 'r').read()\n",
    "\n",
    "temperature_settings = {'first_layer_bed_temperature': 65, 'first_layer_temperature':205, 'K-factor': 0.20}\n",
    "comment = ''\n",
    "\n",
    "bed_width = 230\n",
    "bed_height = 210\n",
    "\n",
    "start_loop_bools = [True, True, False]\n",
    "end_loop_bools = [True, True, False]\n",
    "file_path = os.path.join(BYU_UW_root, 'Avg_Stress_Strain_Overture_TPU.csv')\n",
    "stress_data, strain_data = net.load_stress_strain_curve(file_path)\n",
    "\n",
    "TPU_nl = {'stress':strain_data, 'strain': stress_data, 'v':0.3897, 'p':1.18e-9, 'A': 0.078294515, 'name': 'TPU Overture'} # TPU Overture non-conductive\n",
    "\n",
    "A = [TPU_nl['A']]*len(net.edges)\n",
    "\n",
    "# Purge line coors\n",
    "gen = G_code_generator(printing_params)\n",
    "point0, point1 = [20,15,0.3], [90,15,0.3]\n",
    "point2, point3 = [90,10,0.3], [20,10,0.3]\n",
    "\n",
    "def make_purge_line(g_code, printing_params, gen, point0, point1, comment=''):\n",
    "    \"\"\"\"\n",
    "    \"\"Make a purge line at the start of the print.\"\n",
    "    \"\"\"\n",
    "    g_code += gen.move_to_point(point0[0:2], point0[2] + printing_params['nozzle_lift'], comment='Move to start point')\n",
    "    g_code += gen.move_to_point(point0[0:2], point0[2], comment='Lower Nozzle')\n",
    "    g_code += gen.unretract()\n",
    "    g_code += gen._print_line(\n",
    "            point0=point0,\n",
    "            point1=point1,\n",
    "            move_to_start=False, # move to start point without extruding\n",
    "            extrude_factor=printing_params['extrude_factor']*2.5,\n",
    "            comment=comment)\n",
    "    g_code += gen.retract()\n",
    "    g_code += gen.wipe(2 * np.pi)\n",
    "    return g_code\n",
    "\n",
    "def add_net_to_gcode(g_code, printing_params, gen, net):\n",
    "    for path_i, cor_list in enumerate(net.paths_xyz):\n",
    "        g_code += '\\n;Path (' + str(path_i) + ' ' + str(path_i) + ')\\n'\n",
    "        cor_list   = np.array(cor_list)\n",
    "        # Move the coordinates to the center of the bed and add the layer height\n",
    "        cor_list[:,0] += bed_width/2 -14\n",
    "        cor_list[:,1] += bed_height/2 \n",
    "        cor_list[:,2] += printing_params['layer_height']\n",
    "        g_code += '\\n'\n",
    "        # Move the coordinates to the start point\n",
    "        g_code += gen.move_to_point(cor_list[0][0:2], cor_list[0][2] + printing_params['nozzle_lift'], comment='Move to start point')\n",
    "        # Lower the nozzle\n",
    "        g_code += gen.move_to_point(cor_list[0][0:2], cor_list[0][2], comment='Lower Nozzle')\n",
    "        # Unretract the filament\n",
    "        g_code += gen.unretract()\n",
    "        # Print the path\n",
    "        for point0, point1 in zip(cor_list[:-1], cor_list[1:]):\n",
    "                g_code += gen._print_line(\n",
    "                point0=point0,\n",
    "                point1=point1,\n",
    "                move_to_start=False, # move to start point without extruding\n",
    "                extrude_factor = printing_params['extrude_factor'],\n",
    "                comment=comment)\n",
    "        # Retract the filament\n",
    "        g_code += gen.retract()\n",
    "        # Wipe the nozzle\n",
    "        g_code += gen.wipe_from_last_points(g_code)    \n",
    "        # Raise the nozzle\n",
    "        g_code += gen.move_to_point(point1[0:2], point1[2] + printing_params['nozzle_lift'], speed_factor=0.5, comment='Raise Nozzle')\n",
    "    return g_code"
   ]
  },
  {
   "cell_type": "markdown",
   "metadata": {},
   "source": [
    "Generate 4 specimens only changing the tension"
   ]
  },
  {
   "cell_type": "code",
   "execution_count": 68,
   "metadata": {},
   "outputs": [
    {
     "name": "stdout",
     "output_type": "stream",
     "text": [
      "Iteration 0: Current error = 9.772632123710627\n",
      "Iteration 100: Current error = 0.10201245842409892\n",
      "Iteration 200: Current error = 0.09366358463771193\n",
      "Iteration 300: Current error = 0.09331641130239138\n",
      "Converged after 327 iterations.\n",
      "Final error: 0.09379495646014685\n"
     ]
    },
    {
     "data": {
      "application/vnd.plotly.v1+json": {
       "config": {
        "plotlyServerURL": "https://plot.ly"
       },
       "data": [
        {
         "line": {
          "color": "black",
          "width": 3
         },
         "mode": "lines",
         "type": "scatter3d",
         "x": [
          -76.41085483133793,
          -66.54727597162127,
          -56.68370458111167,
          -46.82014065794647,
          -36.95658420585096,
          null,
          -36.95658420241551,
          -27.922416875008565,
          -18.18094341063707,
          -7.781787989462842,
          3.222074901231835,
          null,
          3.2220749012318493,
          6.603839610360637,
          10.147415951792311,
          13.849095536134513,
          17.70500451731138,
          21.711107646583656,
          25.863212495478592,
          30.156973843209528,
          34.58789822399456,
          39.151348629515255,
          null,
          39.15134862810373,
          48.45951407216489,
          57.76768678240478,
          67.07586676068604,
          76.38405400328338,
          null,
          -76.38917246460915,
          -66.695814948529,
          -57.00245029293001,
          -47.30907849222422,
          -37.61569954641163,
          null,
          -37.61569954310818,
          -33.6693119516471,
          -29.565593978049577,
          -25.30842446244165,
          -20.9018272875677,
          -16.349967575410062,
          -11.657147750310372,
          -6.827803472311302,
          -1.866499444564937,
          3.222074901231906,
          null,
          3.2220749012318777,
          11.04438597439136,
          19.593866605532483,
          28.822612153543545,
          38.678911904936214,
          null,
          38.678911896422505,
          48.11473391391337,
          57.55054836161435,
          66.98635524138808,
          76.42215455137193,
          null,
          -36.95658420241557,
          -37.29326080025544,
          -37.56409989288886,
          -37.769086040676484,
          -37.908207558036565,
          -37.98145651411187,
          -37.98882873322236,
          -37.93032379510191,
          -37.8059450349233,
          -37.61569954310812,
          null,
          -37.61569954310829,
          -18.422290250355474,
          0.7741183294354812,
          19.96737976419185,
          39.15134862951449,
          null,
          39.15134862951527,
          38.82441989476911,
          38.636698896459166,
          38.588195392741,
          38.678911904936285,
          null,
          38.678911902447,
          19.770038043818204,
          0.8611640730814543,
          -18.047710009705042,
          -36.95658420457039,
          null
         ],
         "y": [
          76.45611075870693,
          66.94667195901275,
          57.43722541257739,
          47.927771117538214,
          38.41830907575786,
          null,
          38.418309077921606,
          28.179402239569725,
          18.61095997935925,
          9.761725036704803,
          1.6767764266745644,
          null,
          1.676776426674607,
          -3.380519064830466,
          -8.325783157753307,
          -13.153840581932357,
          -17.85963872520051,
          -22.438252920996007,
          -26.88489160207743,
          -31.19490131494794,
          -35.36377158974315,
          -39.38713966048428,
          null,
          -39.38713965937495,
          -48.63811575807631,
          -57.8890845477581,
          -67.14004602469504,
          -76.39100019261241,
          null,
          -76.46719059161842,
          -67.37301073595881,
          -58.278838500380516,
          -49.18467387184501,
          -40.09051685594022,
          null,
          -40.09051685389815,
          -34.91182850494508,
          -29.856901519241717,
          -24.930513821039398,
          -20.13732183907038,
          -15.481856105284265,
          -10.968516972583217,
          -6.601570455601546,
          -2.3851441984630526,
          1.6767764266746212,
          null,
          1.6767764266745502,
          11.690978546337874,
          21.091998467414825,
          29.82716018479654,
          37.8475186449553,
          null,
          37.84751863591373,
          47.48460499756038,
          57.12169876694679,
          66.75879994779825,
          76.3959085419774,
          null,
          38.4183090779218,
          29.699638952140212,
          20.97867535402615,
          12.255915436835688,
          3.5318564562271373,
          -5.193004258085909,
          -13.918169330685664,
          -22.64314136880388,
          -31.36742299067658,
          -40.09051685389812,
          null,
          -40.09051685389795,
          -40.4298679319827,
          -40.42573621413635,
          -40.078123023279204,
          -39.38713966048408,
          null,
          -39.3871396604832,
          -20.080254298139536,
          -0.7715136447714208,
          18.538078588167217,
          37.84751864495545,
          null,
          37.847518645226955,
          37.99023852869868,
          38.13294356316328,
          38.27563374862075,
          38.418309077620506,
          null
         ],
         "z": [
          0,
          0,
          0,
          0,
          0,
          null,
          0,
          0,
          0,
          0,
          0,
          null,
          0,
          0,
          0,
          0,
          0,
          0,
          0,
          0,
          0,
          0,
          null,
          0,
          0,
          0,
          0,
          0,
          null,
          0,
          0,
          0,
          0,
          0,
          null,
          0,
          0,
          0,
          0,
          0,
          0,
          0,
          0,
          0,
          0.19999999999997775,
          null,
          0.19999999999999302,
          0,
          0,
          0,
          0,
          null,
          0,
          0,
          0,
          0,
          0,
          null,
          0.19999999999991908,
          0,
          0,
          0,
          0,
          0,
          0,
          0,
          0,
          0.19999999999997817,
          null,
          0.1999999999999151,
          0,
          0,
          0,
          0.19999999999975468,
          null,
          0.1999999999996512,
          0,
          0,
          0,
          0.19999999999994594,
          null,
          0.19999999916533753,
          0,
          0,
          0,
          0.1999999992747217,
          null
         ]
        },
        {
         "mode": "text",
         "text": [
          "0"
         ],
         "type": "scatter3d",
         "x": [
          -56.683719516096566
         ],
         "y": [
          57.4372099198887
         ],
         "z": [
          0
         ]
        },
        {
         "mode": "text",
         "text": [
          "1"
         ],
         "type": "scatter3d",
         "x": [
          -16.86725465059181
         ],
         "y": [
          20.047542752298067
         ],
         "z": [
          0
         ]
        },
        {
         "mode": "text",
         "text": [
          "2"
         ],
         "type": "scatter3d",
         "x": [
          21.186711765373534
         ],
         "y": [
          -18.85518161690484
         ],
         "z": [
          0
         ]
        },
        {
         "mode": "text",
         "text": [
          "3"
         ],
         "type": "scatter3d",
         "x": [
          57.76770131703195
         ],
         "y": [
          -57.88906992700281
         ],
         "z": [
          0
         ]
        },
        {
         "mode": "text",
         "text": [
          "4"
         ],
         "type": "scatter3d",
         "x": [
          -57.00243600511465
         ],
         "y": [
          -58.27885372494663
         ],
         "z": [
          0
         ]
        },
        {
         "mode": "text",
         "text": [
          "5"
         ],
         "type": "scatter3d",
         "x": [
          -17.19681232093815
         ],
         "y": [
          -19.206870213611804
         ],
         "z": [
          0
         ]
        },
        {
         "mode": "text",
         "text": [
          "6"
         ],
         "type": "scatter3d",
         "x": [
          20.950493403084035
         ],
         "y": [
          19.762147535814936
         ],
         "z": [
          0
         ]
        },
        {
         "mode": "text",
         "text": [
          "7"
         ],
         "type": "scatter3d",
         "x": [
          57.55053323313426
         ],
         "y": [
          57.12171359695698
         ],
         "z": [
          0
         ]
        },
        {
         "mode": "text",
         "text": [
          "8"
         ],
         "type": "scatter3d",
         "x": [
          -37.286141872761824
         ],
         "y": [
          -0.8361038879883012
         ],
         "z": [
          0
         ]
        },
        {
         "mode": "text",
         "text": [
          "9"
         ],
         "type": "scatter3d",
         "x": [
          0.7678245432035204
         ],
         "y": [
          -39.73882825719121
         ],
         "z": [
          0
         ]
        },
        {
         "mode": "text",
         "text": [
          "10"
         ],
         "type": "scatter3d",
         "x": [
          38.915130267225706
         ],
         "y": [
          -0.7698105077644684
         ],
         "z": [
          0
         ]
        },
        {
         "mode": "text",
         "text": [
          "11"
         ],
         "type": "scatter3d",
         "x": [
          0.8611638512603612
         ],
         "y": [
          38.13291386143844
         ],
         "z": [
          0
         ]
        },
        {
         "mode": "text",
         "text": [
          "0"
         ],
         "type": "scatter3d",
         "x": [
          -76.41085482977765
         ],
         "y": [
          76.45611076185583
         ],
         "z": [
          0
         ]
        },
        {
         "mode": "text",
         "text": [
          "1"
         ],
         "type": "scatter3d",
         "x": [
          -36.956584202415485
         ],
         "y": [
          38.41830907792157
         ],
         "z": [
          0
         ]
        },
        {
         "mode": "text",
         "text": [
          "2"
         ],
         "type": "scatter3d",
         "x": [
          3.222074901231866
         ],
         "y": [
          1.6767764266745677
         ],
         "z": [
          0
         ]
        },
        {
         "mode": "text",
         "text": [
          "3"
         ],
         "type": "scatter3d",
         "x": [
          39.151348629515205
         ],
         "y": [
          -39.387139660484245
         ],
         "z": [
          0
         ]
        },
        {
         "mode": "text",
         "text": [
          "4"
         ],
         "type": "scatter3d",
         "x": [
          76.3840540045487
         ],
         "y": [
          -76.39100019352136
         ],
         "z": [
          0
         ]
        },
        {
         "mode": "text",
         "text": [
          "5"
         ],
         "type": "scatter3d",
         "x": [
          -76.38917246712114
         ],
         "y": [
          -76.46719059599509
         ],
         "z": [
          0
         ]
        },
        {
         "mode": "text",
         "text": [
          "6"
         ],
         "type": "scatter3d",
         "x": [
          -37.615699543108164
         ],
         "y": [
          -40.09051685389817
         ],
         "z": [
          0
         ]
        },
        {
         "mode": "text",
         "text": [
          "7"
         ],
         "type": "scatter3d",
         "x": [
          38.67891190493621
         ],
         "y": [
          37.84751864495531
         ],
         "z": [
          0
         ]
        },
        {
         "mode": "text",
         "text": [
          "8"
         ],
         "type": "scatter3d",
         "x": [
          76.4221545613323
         ],
         "y": [
          76.39590854895864
         ],
         "z": [
          0
         ]
        }
       ],
       "layout": {
        "scene": {
         "aspectmode": "data",
         "camera": {
          "eye": {
           "x": 0,
           "y": 0,
           "z": 15
          }
         }
        },
        "template": {
         "data": {
          "bar": [
           {
            "error_x": {
             "color": "#2a3f5f"
            },
            "error_y": {
             "color": "#2a3f5f"
            },
            "marker": {
             "line": {
              "color": "#E5ECF6",
              "width": 0.5
             },
             "pattern": {
              "fillmode": "overlay",
              "size": 10,
              "solidity": 0.2
             }
            },
            "type": "bar"
           }
          ],
          "barpolar": [
           {
            "marker": {
             "line": {
              "color": "#E5ECF6",
              "width": 0.5
             },
             "pattern": {
              "fillmode": "overlay",
              "size": 10,
              "solidity": 0.2
             }
            },
            "type": "barpolar"
           }
          ],
          "carpet": [
           {
            "aaxis": {
             "endlinecolor": "#2a3f5f",
             "gridcolor": "white",
             "linecolor": "white",
             "minorgridcolor": "white",
             "startlinecolor": "#2a3f5f"
            },
            "baxis": {
             "endlinecolor": "#2a3f5f",
             "gridcolor": "white",
             "linecolor": "white",
             "minorgridcolor": "white",
             "startlinecolor": "#2a3f5f"
            },
            "type": "carpet"
           }
          ],
          "choropleth": [
           {
            "colorbar": {
             "outlinewidth": 0,
             "ticks": ""
            },
            "type": "choropleth"
           }
          ],
          "contour": [
           {
            "colorbar": {
             "outlinewidth": 0,
             "ticks": ""
            },
            "colorscale": [
             [
              0,
              "#0d0887"
             ],
             [
              0.1111111111111111,
              "#46039f"
             ],
             [
              0.2222222222222222,
              "#7201a8"
             ],
             [
              0.3333333333333333,
              "#9c179e"
             ],
             [
              0.4444444444444444,
              "#bd3786"
             ],
             [
              0.5555555555555556,
              "#d8576b"
             ],
             [
              0.6666666666666666,
              "#ed7953"
             ],
             [
              0.7777777777777778,
              "#fb9f3a"
             ],
             [
              0.8888888888888888,
              "#fdca26"
             ],
             [
              1,
              "#f0f921"
             ]
            ],
            "type": "contour"
           }
          ],
          "contourcarpet": [
           {
            "colorbar": {
             "outlinewidth": 0,
             "ticks": ""
            },
            "type": "contourcarpet"
           }
          ],
          "heatmap": [
           {
            "colorbar": {
             "outlinewidth": 0,
             "ticks": ""
            },
            "colorscale": [
             [
              0,
              "#0d0887"
             ],
             [
              0.1111111111111111,
              "#46039f"
             ],
             [
              0.2222222222222222,
              "#7201a8"
             ],
             [
              0.3333333333333333,
              "#9c179e"
             ],
             [
              0.4444444444444444,
              "#bd3786"
             ],
             [
              0.5555555555555556,
              "#d8576b"
             ],
             [
              0.6666666666666666,
              "#ed7953"
             ],
             [
              0.7777777777777778,
              "#fb9f3a"
             ],
             [
              0.8888888888888888,
              "#fdca26"
             ],
             [
              1,
              "#f0f921"
             ]
            ],
            "type": "heatmap"
           }
          ],
          "heatmapgl": [
           {
            "colorbar": {
             "outlinewidth": 0,
             "ticks": ""
            },
            "colorscale": [
             [
              0,
              "#0d0887"
             ],
             [
              0.1111111111111111,
              "#46039f"
             ],
             [
              0.2222222222222222,
              "#7201a8"
             ],
             [
              0.3333333333333333,
              "#9c179e"
             ],
             [
              0.4444444444444444,
              "#bd3786"
             ],
             [
              0.5555555555555556,
              "#d8576b"
             ],
             [
              0.6666666666666666,
              "#ed7953"
             ],
             [
              0.7777777777777778,
              "#fb9f3a"
             ],
             [
              0.8888888888888888,
              "#fdca26"
             ],
             [
              1,
              "#f0f921"
             ]
            ],
            "type": "heatmapgl"
           }
          ],
          "histogram": [
           {
            "marker": {
             "pattern": {
              "fillmode": "overlay",
              "size": 10,
              "solidity": 0.2
             }
            },
            "type": "histogram"
           }
          ],
          "histogram2d": [
           {
            "colorbar": {
             "outlinewidth": 0,
             "ticks": ""
            },
            "colorscale": [
             [
              0,
              "#0d0887"
             ],
             [
              0.1111111111111111,
              "#46039f"
             ],
             [
              0.2222222222222222,
              "#7201a8"
             ],
             [
              0.3333333333333333,
              "#9c179e"
             ],
             [
              0.4444444444444444,
              "#bd3786"
             ],
             [
              0.5555555555555556,
              "#d8576b"
             ],
             [
              0.6666666666666666,
              "#ed7953"
             ],
             [
              0.7777777777777778,
              "#fb9f3a"
             ],
             [
              0.8888888888888888,
              "#fdca26"
             ],
             [
              1,
              "#f0f921"
             ]
            ],
            "type": "histogram2d"
           }
          ],
          "histogram2dcontour": [
           {
            "colorbar": {
             "outlinewidth": 0,
             "ticks": ""
            },
            "colorscale": [
             [
              0,
              "#0d0887"
             ],
             [
              0.1111111111111111,
              "#46039f"
             ],
             [
              0.2222222222222222,
              "#7201a8"
             ],
             [
              0.3333333333333333,
              "#9c179e"
             ],
             [
              0.4444444444444444,
              "#bd3786"
             ],
             [
              0.5555555555555556,
              "#d8576b"
             ],
             [
              0.6666666666666666,
              "#ed7953"
             ],
             [
              0.7777777777777778,
              "#fb9f3a"
             ],
             [
              0.8888888888888888,
              "#fdca26"
             ],
             [
              1,
              "#f0f921"
             ]
            ],
            "type": "histogram2dcontour"
           }
          ],
          "mesh3d": [
           {
            "colorbar": {
             "outlinewidth": 0,
             "ticks": ""
            },
            "type": "mesh3d"
           }
          ],
          "parcoords": [
           {
            "line": {
             "colorbar": {
              "outlinewidth": 0,
              "ticks": ""
             }
            },
            "type": "parcoords"
           }
          ],
          "pie": [
           {
            "automargin": true,
            "type": "pie"
           }
          ],
          "scatter": [
           {
            "fillpattern": {
             "fillmode": "overlay",
             "size": 10,
             "solidity": 0.2
            },
            "type": "scatter"
           }
          ],
          "scatter3d": [
           {
            "line": {
             "colorbar": {
              "outlinewidth": 0,
              "ticks": ""
             }
            },
            "marker": {
             "colorbar": {
              "outlinewidth": 0,
              "ticks": ""
             }
            },
            "type": "scatter3d"
           }
          ],
          "scattercarpet": [
           {
            "marker": {
             "colorbar": {
              "outlinewidth": 0,
              "ticks": ""
             }
            },
            "type": "scattercarpet"
           }
          ],
          "scattergeo": [
           {
            "marker": {
             "colorbar": {
              "outlinewidth": 0,
              "ticks": ""
             }
            },
            "type": "scattergeo"
           }
          ],
          "scattergl": [
           {
            "marker": {
             "colorbar": {
              "outlinewidth": 0,
              "ticks": ""
             }
            },
            "type": "scattergl"
           }
          ],
          "scattermapbox": [
           {
            "marker": {
             "colorbar": {
              "outlinewidth": 0,
              "ticks": ""
             }
            },
            "type": "scattermapbox"
           }
          ],
          "scatterpolar": [
           {
            "marker": {
             "colorbar": {
              "outlinewidth": 0,
              "ticks": ""
             }
            },
            "type": "scatterpolar"
           }
          ],
          "scatterpolargl": [
           {
            "marker": {
             "colorbar": {
              "outlinewidth": 0,
              "ticks": ""
             }
            },
            "type": "scatterpolargl"
           }
          ],
          "scatterternary": [
           {
            "marker": {
             "colorbar": {
              "outlinewidth": 0,
              "ticks": ""
             }
            },
            "type": "scatterternary"
           }
          ],
          "surface": [
           {
            "colorbar": {
             "outlinewidth": 0,
             "ticks": ""
            },
            "colorscale": [
             [
              0,
              "#0d0887"
             ],
             [
              0.1111111111111111,
              "#46039f"
             ],
             [
              0.2222222222222222,
              "#7201a8"
             ],
             [
              0.3333333333333333,
              "#9c179e"
             ],
             [
              0.4444444444444444,
              "#bd3786"
             ],
             [
              0.5555555555555556,
              "#d8576b"
             ],
             [
              0.6666666666666666,
              "#ed7953"
             ],
             [
              0.7777777777777778,
              "#fb9f3a"
             ],
             [
              0.8888888888888888,
              "#fdca26"
             ],
             [
              1,
              "#f0f921"
             ]
            ],
            "type": "surface"
           }
          ],
          "table": [
           {
            "cells": {
             "fill": {
              "color": "#EBF0F8"
             },
             "line": {
              "color": "white"
             }
            },
            "header": {
             "fill": {
              "color": "#C8D4E3"
             },
             "line": {
              "color": "white"
             }
            },
            "type": "table"
           }
          ]
         },
         "layout": {
          "annotationdefaults": {
           "arrowcolor": "#2a3f5f",
           "arrowhead": 0,
           "arrowwidth": 1
          },
          "autotypenumbers": "strict",
          "coloraxis": {
           "colorbar": {
            "outlinewidth": 0,
            "ticks": ""
           }
          },
          "colorscale": {
           "diverging": [
            [
             0,
             "#8e0152"
            ],
            [
             0.1,
             "#c51b7d"
            ],
            [
             0.2,
             "#de77ae"
            ],
            [
             0.3,
             "#f1b6da"
            ],
            [
             0.4,
             "#fde0ef"
            ],
            [
             0.5,
             "#f7f7f7"
            ],
            [
             0.6,
             "#e6f5d0"
            ],
            [
             0.7,
             "#b8e186"
            ],
            [
             0.8,
             "#7fbc41"
            ],
            [
             0.9,
             "#4d9221"
            ],
            [
             1,
             "#276419"
            ]
           ],
           "sequential": [
            [
             0,
             "#0d0887"
            ],
            [
             0.1111111111111111,
             "#46039f"
            ],
            [
             0.2222222222222222,
             "#7201a8"
            ],
            [
             0.3333333333333333,
             "#9c179e"
            ],
            [
             0.4444444444444444,
             "#bd3786"
            ],
            [
             0.5555555555555556,
             "#d8576b"
            ],
            [
             0.6666666666666666,
             "#ed7953"
            ],
            [
             0.7777777777777778,
             "#fb9f3a"
            ],
            [
             0.8888888888888888,
             "#fdca26"
            ],
            [
             1,
             "#f0f921"
            ]
           ],
           "sequentialminus": [
            [
             0,
             "#0d0887"
            ],
            [
             0.1111111111111111,
             "#46039f"
            ],
            [
             0.2222222222222222,
             "#7201a8"
            ],
            [
             0.3333333333333333,
             "#9c179e"
            ],
            [
             0.4444444444444444,
             "#bd3786"
            ],
            [
             0.5555555555555556,
             "#d8576b"
            ],
            [
             0.6666666666666666,
             "#ed7953"
            ],
            [
             0.7777777777777778,
             "#fb9f3a"
            ],
            [
             0.8888888888888888,
             "#fdca26"
            ],
            [
             1,
             "#f0f921"
            ]
           ]
          },
          "colorway": [
           "#636efa",
           "#EF553B",
           "#00cc96",
           "#ab63fa",
           "#FFA15A",
           "#19d3f3",
           "#FF6692",
           "#B6E880",
           "#FF97FF",
           "#FECB52"
          ],
          "font": {
           "color": "#2a3f5f"
          },
          "geo": {
           "bgcolor": "white",
           "lakecolor": "white",
           "landcolor": "#E5ECF6",
           "showlakes": true,
           "showland": true,
           "subunitcolor": "white"
          },
          "hoverlabel": {
           "align": "left"
          },
          "hovermode": "closest",
          "mapbox": {
           "style": "light"
          },
          "paper_bgcolor": "white",
          "plot_bgcolor": "#E5ECF6",
          "polar": {
           "angularaxis": {
            "gridcolor": "white",
            "linecolor": "white",
            "ticks": ""
           },
           "bgcolor": "#E5ECF6",
           "radialaxis": {
            "gridcolor": "white",
            "linecolor": "white",
            "ticks": ""
           }
          },
          "scene": {
           "xaxis": {
            "backgroundcolor": "#E5ECF6",
            "gridcolor": "white",
            "gridwidth": 2,
            "linecolor": "white",
            "showbackground": true,
            "ticks": "",
            "zerolinecolor": "white"
           },
           "yaxis": {
            "backgroundcolor": "#E5ECF6",
            "gridcolor": "white",
            "gridwidth": 2,
            "linecolor": "white",
            "showbackground": true,
            "ticks": "",
            "zerolinecolor": "white"
           },
           "zaxis": {
            "backgroundcolor": "#E5ECF6",
            "gridcolor": "white",
            "gridwidth": 2,
            "linecolor": "white",
            "showbackground": true,
            "ticks": "",
            "zerolinecolor": "white"
           }
          },
          "shapedefaults": {
           "line": {
            "color": "#2a3f5f"
           }
          },
          "ternary": {
           "aaxis": {
            "gridcolor": "white",
            "linecolor": "white",
            "ticks": ""
           },
           "baxis": {
            "gridcolor": "white",
            "linecolor": "white",
            "ticks": ""
           },
           "bgcolor": "#E5ECF6",
           "caxis": {
            "gridcolor": "white",
            "linecolor": "white",
            "ticks": ""
           }
          },
          "title": {
           "x": 0.05
          },
          "xaxis": {
           "automargin": true,
           "gridcolor": "white",
           "linecolor": "white",
           "ticks": "",
           "title": {
            "standoff": 15
           },
           "zerolinecolor": "white",
           "zerolinewidth": 2
          },
          "yaxis": {
           "automargin": true,
           "gridcolor": "white",
           "linecolor": "white",
           "ticks": "",
           "title": {
            "standoff": 15
           },
           "zerolinecolor": "white",
           "zerolinewidth": 2
          }
         }
        },
        "title": {
         "text": "Plotly Plot"
        }
       }
      }
     },
     "metadata": {},
     "output_type": "display_data"
    },
    {
     "name": "stdout",
     "output_type": "stream",
     "text": [
      "q_scalar: 0.35, l_scalar: 0.9743394583944192, max stress: 2.446046661023549\n",
      "Iteration 0: Current error = 42.31887101741464\n",
      "Iteration 100: Current error = 0.39211488399204797\n",
      "Iteration 200: Current error = 0.3567850727364139\n",
      "Iteration 300: Current error = 0.3546044822408199\n",
      "Iteration 400: Current error = 0.3577197233535002\n",
      "Iteration 500: Current error = 0.35506247067545843\n",
      "Iteration 600: Current error = 0.3560580197272298\n",
      "Iteration 700: Current error = 0.3553334546135922\n",
      "Iteration 800: Current error = 0.35777156325956855\n",
      "Iteration 900: Current error = 0.3579091868867941\n",
      "Final error: 0.35588650780842557\n"
     ]
    },
    {
     "data": {
      "application/vnd.plotly.v1+json": {
       "config": {
        "plotlyServerURL": "https://plot.ly"
       },
       "data": [
        {
         "line": {
          "color": "black",
          "width": 3
         },
         "mode": "lines",
         "type": "scatter3d",
         "x": [
          -74.92906174249947,
          -65.35117485746741,
          -55.77329522930086,
          -46.19542285613716,
          -36.61755773983896,
          null,
          -36.61755774153093,
          -28.090549611162203,
          -18.542487968620932,
          -8.07067546500457,
          3.2181714627237312,
          null,
          3.2181714627237454,
          6.31233943728094,
          9.637648536753147,
          13.187335015495194,
          16.954178739755832,
          20.93051787357517,
          25.108264463113173,
          29.478920887710714,
          34.033597144220934,
          38.76302892945465,
          null,
          38.76302892528474,
          47.78695437498391,
          56.810886865481734,
          65.83482639305294,
          74.85877295583487,
          null,
          -74.87976006790996,
          -65.46764384396374,
          -56.05552069097757,
          -46.643390607088804,
          -37.23125359416008,
          null,
          -37.23125359413072,
          -33.57617227496965,
          -29.69283080943002,
          -25.588529481021396,
          -21.270983955124194,
          -16.74831077433049,
          -12.029012100176587,
          -7.121959729951826,
          -2.0363784186299654,
          3.218171462723788,
          null,
          3.218171462723774,
          10.54084680700366,
          18.899427615308483,
          28.20216238949294,
          38.34693572600287,
          null,
          38.34693572111428,
          47.496701795607805,
          56.64646052569151,
          65.79621191695333,
          74.94595596194267,
          null,
          -36.617557741530845,
          -37.094380656620615,
          -37.469117099622736,
          -37.74171475408343,
          -37.91213556300829,
          -37.98035573417599,
          -37.94636574345952,
          -37.810170336156034,
          -37.57178852632455,
          -37.23125359413086,
          null,
          -37.23125359413077,
          -18.23206340635851,
          0.7750410381775437,
          19.777568045369293,
          38.763028929454684,
          null,
          38.76302892945478,
          38.47190004670756,
          38.30550438720638,
          38.26384902346217,
          38.34693572600281,
          null,
          38.34693572385004,
          19.605812524969224,
          0.8646892141259741,
          -17.876434208650608,
          -36.617557743389625,
          null
         ],
         "y": [
          75.02354743890464,
          65.78404775261879,
          56.54454054310918,
          47.30502581037581,
          38.06550355628133,
          null,
          38.065503553697454,
          27.507161054104472,
          17.86231876071696,
          9.22926559957007,
          1.695979527980512,
          null,
          1.6959795279805405,
          -3.500183052452499,
          -8.551549244883546,
          -13.447844468795552,
          -18.17910956114308,
          -22.73572103349018,
          -27.108410646379653,
          -31.28828426111876,
          -35.26683993063628,
          -39.03598519261395,
          null,
          -39.03598518669605,
          -47.99549279175699,
          -56.954993307590485,
          -65.91448673792183,
          -74.87397308088839,
          null,
          -75.04443455301225,
          -66.22079184278846,
          -57.397156523540616,
          -48.57352859713137,
          -39.749908063560724,
          null,
          -39.749908061570096,
          -34.404842402216104,
          -29.22323981088337,
          -24.214841168791395,
          -19.38906175150649,
          -14.754973529189812,
          -10.321288112224082,
          -6.0963403742801745,
          -2.0880727836096895,
          1.6959795279804837,
          null,
          1.6959795279805192,
          11.981050719220171,
          21.4435234656872,
          29.9795289324013,
          37.495368044398695,
          null,
          37.49536804296076,
          46.84416459873319,
          56.19296833872795,
          65.5417792648077,
          74.89059737883508,
          null,
          38.065503553697276,
          29.428204252824358,
          20.785874017089306,
          12.1397193906674,
          3.490947451652028,
          -5.159234356463924,
          -13.809618393357628,
          -22.458996990473363,
          -31.10616261962351,
          -39.74990806156997,
          null,
          -39.74990806157018,
          -40.30220121292973,
          -40.36728693085877,
          -39.94512244025282,
          -39.03598519261402,
          null,
          -39.03598519261381,
          -19.904570790908444,
          -0.7716649603609653,
          18.36191907051966,
          37.4953680443981,
          null,
          37.49536804482341,
          37.63792400062084,
          37.78046523779631,
          37.9229917563498,
          38.06550355628133,
          null
         ],
         "z": [
          0,
          0,
          0,
          0,
          0,
          null,
          0,
          0,
          0,
          0,
          0,
          null,
          0,
          0,
          0,
          0,
          0,
          0,
          0,
          0,
          0,
          0,
          null,
          0,
          0,
          0,
          0,
          0,
          null,
          0,
          0,
          0,
          0,
          0,
          null,
          0,
          0,
          0,
          0,
          0,
          0,
          0,
          0,
          0,
          0.1999999999999913,
          null,
          0.19999999999999502,
          0,
          0,
          0,
          0,
          null,
          0,
          0,
          0,
          0,
          0,
          null,
          0.19999999999994827,
          0,
          0,
          0,
          0,
          0,
          0,
          0,
          0,
          0.19999999999994453,
          null,
          0.1999999999999712,
          0,
          0,
          0,
          0.1999999999999894,
          null,
          0.19999999999993315,
          0,
          0,
          0,
          0.19999999999980017,
          null,
          0.1999999992685584,
          0,
          0,
          0,
          0.19999999893900164,
          null
         ]
        },
        {
         "mode": "text",
         "text": [
          "0"
         ],
         "type": "scatter3d",
         "x": [
          -55.77330974259707
         ],
         "y": [
          56.54452549510434
         ],
         "z": [
          0
         ]
        },
        {
         "mode": "text",
         "text": [
          "1"
         ],
         "type": "scatter3d",
         "x": [
          -16.699693139403557
         ],
         "y": [
          19.880741540838965
         ],
         "z": [
          0
         ]
        },
        {
         "mode": "text",
         "text": [
          "2"
         ],
         "type": "scatter3d",
         "x": [
          20.990600196089236
         ],
         "y": [
          -18.670002832316744
         ],
         "z": [
          0
         ]
        },
        {
         "mode": "text",
         "text": [
          "3"
         ],
         "type": "scatter3d",
         "x": [
          56.8109009430361
         ],
         "y": [
          -56.95497913649884
         ],
         "z": [
          0
         ]
        },
        {
         "mode": "text",
         "text": [
          "4"
         ],
         "type": "scatter3d",
         "x": [
          -56.05550683143046
         ],
         "y": [
          -57.39717130689061
         ],
         "z": [
          0
         ]
        },
        {
         "mode": "text",
         "text": [
          "5"
         ],
         "type": "scatter3d",
         "x": [
          -17.00654106570349
         ],
         "y": [
          -19.026964266794796
         ],
         "z": [
          0
         ]
        },
        {
         "mode": "text",
         "text": [
          "6"
         ],
         "type": "scatter3d",
         "x": [
          20.78255359436332
         ],
         "y": [
          19.5956737861896
         ],
         "z": [
          0
         ]
        },
        {
         "mode": "text",
         "text": [
          "7"
         ],
         "type": "scatter3d",
         "x": [
          56.64644584584667
         ],
         "y": [
          56.19298271236573
         ],
         "z": [
          0
         ]
        },
        {
         "mode": "text",
         "text": [
          "8"
         ],
         "type": "scatter3d",
         "x": [
          -36.924405667830825
         ],
         "y": [
          -0.8422022539363354
         ],
         "z": [
          0
         ]
        },
        {
         "mode": "text",
         "text": [
          "9"
         ],
         "type": "scatter3d",
         "x": [
          0.7658876676619712
         ],
         "y": [
          -39.392946627092044
         ],
         "z": [
          0
         ]
        },
        {
         "mode": "text",
         "text": [
          "10"
         ],
         "type": "scatter3d",
         "x": [
          38.55498232772878
         ],
         "y": [
          -0.7703085741076485
         ],
         "z": [
          0
         ]
        },
        {
         "mode": "text",
         "text": [
          "11"
         ],
         "type": "scatter3d",
         "x": [
          0.8646889922359904
         ],
         "y": [
          37.780435799048064
         ],
         "z": [
          0
         ]
        },
        {
         "mode": "text",
         "text": [
          "0"
         ],
         "type": "scatter3d",
         "x": [
          -74.92906174366325
         ],
         "y": [
          75.02354743651125
         ],
         "z": [
          0
         ]
        },
        {
         "mode": "text",
         "text": [
          "1"
         ],
         "type": "scatter3d",
         "x": [
          -36.61755774153089
         ],
         "y": [
          38.065503553697425
         ],
         "z": [
          0
         ]
        },
        {
         "mode": "text",
         "text": [
          "2"
         ],
         "type": "scatter3d",
         "x": [
          3.218171462723772
         ],
         "y": [
          1.6959795279805043
         ],
         "z": [
          0
         ]
        },
        {
         "mode": "text",
         "text": [
          "3"
         ],
         "type": "scatter3d",
         "x": [
          38.7630289294547
         ],
         "y": [
          -39.03598519261399
         ],
         "z": [
          0
         ]
        },
        {
         "mode": "text",
         "text": [
          "4"
         ],
         "type": "scatter3d",
         "x": [
          74.85877295661751
         ],
         "y": [
          -74.87397308038369
         ],
         "z": [
          0
         ]
        },
        {
         "mode": "text",
         "text": [
          "5"
         ],
         "type": "scatter3d",
         "x": [
          -74.87976006873016
         ],
         "y": [
          -75.04443455221113
         ],
         "z": [
          0
         ]
        },
        {
         "mode": "text",
         "text": [
          "6"
         ],
         "type": "scatter3d",
         "x": [
          -37.231253594130756
         ],
         "y": [
          -39.749908061570096
         ],
         "z": [
          0
         ]
        },
        {
         "mode": "text",
         "text": [
          "7"
         ],
         "type": "scatter3d",
         "x": [
          38.34693572600287
         ],
         "y": [
          37.495368044398695
         ],
         "z": [
          0
         ]
        },
        {
         "mode": "text",
         "text": [
          "8"
         ],
         "type": "scatter3d",
         "x": [
          74.94595596569047
         ],
         "y": [
          74.89059738033278
         ],
         "z": [
          0
         ]
        }
       ],
       "layout": {
        "scene": {
         "aspectmode": "data",
         "camera": {
          "eye": {
           "x": 0,
           "y": 0,
           "z": 15
          }
         }
        },
        "template": {
         "data": {
          "bar": [
           {
            "error_x": {
             "color": "#2a3f5f"
            },
            "error_y": {
             "color": "#2a3f5f"
            },
            "marker": {
             "line": {
              "color": "#E5ECF6",
              "width": 0.5
             },
             "pattern": {
              "fillmode": "overlay",
              "size": 10,
              "solidity": 0.2
             }
            },
            "type": "bar"
           }
          ],
          "barpolar": [
           {
            "marker": {
             "line": {
              "color": "#E5ECF6",
              "width": 0.5
             },
             "pattern": {
              "fillmode": "overlay",
              "size": 10,
              "solidity": 0.2
             }
            },
            "type": "barpolar"
           }
          ],
          "carpet": [
           {
            "aaxis": {
             "endlinecolor": "#2a3f5f",
             "gridcolor": "white",
             "linecolor": "white",
             "minorgridcolor": "white",
             "startlinecolor": "#2a3f5f"
            },
            "baxis": {
             "endlinecolor": "#2a3f5f",
             "gridcolor": "white",
             "linecolor": "white",
             "minorgridcolor": "white",
             "startlinecolor": "#2a3f5f"
            },
            "type": "carpet"
           }
          ],
          "choropleth": [
           {
            "colorbar": {
             "outlinewidth": 0,
             "ticks": ""
            },
            "type": "choropleth"
           }
          ],
          "contour": [
           {
            "colorbar": {
             "outlinewidth": 0,
             "ticks": ""
            },
            "colorscale": [
             [
              0,
              "#0d0887"
             ],
             [
              0.1111111111111111,
              "#46039f"
             ],
             [
              0.2222222222222222,
              "#7201a8"
             ],
             [
              0.3333333333333333,
              "#9c179e"
             ],
             [
              0.4444444444444444,
              "#bd3786"
             ],
             [
              0.5555555555555556,
              "#d8576b"
             ],
             [
              0.6666666666666666,
              "#ed7953"
             ],
             [
              0.7777777777777778,
              "#fb9f3a"
             ],
             [
              0.8888888888888888,
              "#fdca26"
             ],
             [
              1,
              "#f0f921"
             ]
            ],
            "type": "contour"
           }
          ],
          "contourcarpet": [
           {
            "colorbar": {
             "outlinewidth": 0,
             "ticks": ""
            },
            "type": "contourcarpet"
           }
          ],
          "heatmap": [
           {
            "colorbar": {
             "outlinewidth": 0,
             "ticks": ""
            },
            "colorscale": [
             [
              0,
              "#0d0887"
             ],
             [
              0.1111111111111111,
              "#46039f"
             ],
             [
              0.2222222222222222,
              "#7201a8"
             ],
             [
              0.3333333333333333,
              "#9c179e"
             ],
             [
              0.4444444444444444,
              "#bd3786"
             ],
             [
              0.5555555555555556,
              "#d8576b"
             ],
             [
              0.6666666666666666,
              "#ed7953"
             ],
             [
              0.7777777777777778,
              "#fb9f3a"
             ],
             [
              0.8888888888888888,
              "#fdca26"
             ],
             [
              1,
              "#f0f921"
             ]
            ],
            "type": "heatmap"
           }
          ],
          "heatmapgl": [
           {
            "colorbar": {
             "outlinewidth": 0,
             "ticks": ""
            },
            "colorscale": [
             [
              0,
              "#0d0887"
             ],
             [
              0.1111111111111111,
              "#46039f"
             ],
             [
              0.2222222222222222,
              "#7201a8"
             ],
             [
              0.3333333333333333,
              "#9c179e"
             ],
             [
              0.4444444444444444,
              "#bd3786"
             ],
             [
              0.5555555555555556,
              "#d8576b"
             ],
             [
              0.6666666666666666,
              "#ed7953"
             ],
             [
              0.7777777777777778,
              "#fb9f3a"
             ],
             [
              0.8888888888888888,
              "#fdca26"
             ],
             [
              1,
              "#f0f921"
             ]
            ],
            "type": "heatmapgl"
           }
          ],
          "histogram": [
           {
            "marker": {
             "pattern": {
              "fillmode": "overlay",
              "size": 10,
              "solidity": 0.2
             }
            },
            "type": "histogram"
           }
          ],
          "histogram2d": [
           {
            "colorbar": {
             "outlinewidth": 0,
             "ticks": ""
            },
            "colorscale": [
             [
              0,
              "#0d0887"
             ],
             [
              0.1111111111111111,
              "#46039f"
             ],
             [
              0.2222222222222222,
              "#7201a8"
             ],
             [
              0.3333333333333333,
              "#9c179e"
             ],
             [
              0.4444444444444444,
              "#bd3786"
             ],
             [
              0.5555555555555556,
              "#d8576b"
             ],
             [
              0.6666666666666666,
              "#ed7953"
             ],
             [
              0.7777777777777778,
              "#fb9f3a"
             ],
             [
              0.8888888888888888,
              "#fdca26"
             ],
             [
              1,
              "#f0f921"
             ]
            ],
            "type": "histogram2d"
           }
          ],
          "histogram2dcontour": [
           {
            "colorbar": {
             "outlinewidth": 0,
             "ticks": ""
            },
            "colorscale": [
             [
              0,
              "#0d0887"
             ],
             [
              0.1111111111111111,
              "#46039f"
             ],
             [
              0.2222222222222222,
              "#7201a8"
             ],
             [
              0.3333333333333333,
              "#9c179e"
             ],
             [
              0.4444444444444444,
              "#bd3786"
             ],
             [
              0.5555555555555556,
              "#d8576b"
             ],
             [
              0.6666666666666666,
              "#ed7953"
             ],
             [
              0.7777777777777778,
              "#fb9f3a"
             ],
             [
              0.8888888888888888,
              "#fdca26"
             ],
             [
              1,
              "#f0f921"
             ]
            ],
            "type": "histogram2dcontour"
           }
          ],
          "mesh3d": [
           {
            "colorbar": {
             "outlinewidth": 0,
             "ticks": ""
            },
            "type": "mesh3d"
           }
          ],
          "parcoords": [
           {
            "line": {
             "colorbar": {
              "outlinewidth": 0,
              "ticks": ""
             }
            },
            "type": "parcoords"
           }
          ],
          "pie": [
           {
            "automargin": true,
            "type": "pie"
           }
          ],
          "scatter": [
           {
            "fillpattern": {
             "fillmode": "overlay",
             "size": 10,
             "solidity": 0.2
            },
            "type": "scatter"
           }
          ],
          "scatter3d": [
           {
            "line": {
             "colorbar": {
              "outlinewidth": 0,
              "ticks": ""
             }
            },
            "marker": {
             "colorbar": {
              "outlinewidth": 0,
              "ticks": ""
             }
            },
            "type": "scatter3d"
           }
          ],
          "scattercarpet": [
           {
            "marker": {
             "colorbar": {
              "outlinewidth": 0,
              "ticks": ""
             }
            },
            "type": "scattercarpet"
           }
          ],
          "scattergeo": [
           {
            "marker": {
             "colorbar": {
              "outlinewidth": 0,
              "ticks": ""
             }
            },
            "type": "scattergeo"
           }
          ],
          "scattergl": [
           {
            "marker": {
             "colorbar": {
              "outlinewidth": 0,
              "ticks": ""
             }
            },
            "type": "scattergl"
           }
          ],
          "scattermapbox": [
           {
            "marker": {
             "colorbar": {
              "outlinewidth": 0,
              "ticks": ""
             }
            },
            "type": "scattermapbox"
           }
          ],
          "scatterpolar": [
           {
            "marker": {
             "colorbar": {
              "outlinewidth": 0,
              "ticks": ""
             }
            },
            "type": "scatterpolar"
           }
          ],
          "scatterpolargl": [
           {
            "marker": {
             "colorbar": {
              "outlinewidth": 0,
              "ticks": ""
             }
            },
            "type": "scatterpolargl"
           }
          ],
          "scatterternary": [
           {
            "marker": {
             "colorbar": {
              "outlinewidth": 0,
              "ticks": ""
             }
            },
            "type": "scatterternary"
           }
          ],
          "surface": [
           {
            "colorbar": {
             "outlinewidth": 0,
             "ticks": ""
            },
            "colorscale": [
             [
              0,
              "#0d0887"
             ],
             [
              0.1111111111111111,
              "#46039f"
             ],
             [
              0.2222222222222222,
              "#7201a8"
             ],
             [
              0.3333333333333333,
              "#9c179e"
             ],
             [
              0.4444444444444444,
              "#bd3786"
             ],
             [
              0.5555555555555556,
              "#d8576b"
             ],
             [
              0.6666666666666666,
              "#ed7953"
             ],
             [
              0.7777777777777778,
              "#fb9f3a"
             ],
             [
              0.8888888888888888,
              "#fdca26"
             ],
             [
              1,
              "#f0f921"
             ]
            ],
            "type": "surface"
           }
          ],
          "table": [
           {
            "cells": {
             "fill": {
              "color": "#EBF0F8"
             },
             "line": {
              "color": "white"
             }
            },
            "header": {
             "fill": {
              "color": "#C8D4E3"
             },
             "line": {
              "color": "white"
             }
            },
            "type": "table"
           }
          ]
         },
         "layout": {
          "annotationdefaults": {
           "arrowcolor": "#2a3f5f",
           "arrowhead": 0,
           "arrowwidth": 1
          },
          "autotypenumbers": "strict",
          "coloraxis": {
           "colorbar": {
            "outlinewidth": 0,
            "ticks": ""
           }
          },
          "colorscale": {
           "diverging": [
            [
             0,
             "#8e0152"
            ],
            [
             0.1,
             "#c51b7d"
            ],
            [
             0.2,
             "#de77ae"
            ],
            [
             0.3,
             "#f1b6da"
            ],
            [
             0.4,
             "#fde0ef"
            ],
            [
             0.5,
             "#f7f7f7"
            ],
            [
             0.6,
             "#e6f5d0"
            ],
            [
             0.7,
             "#b8e186"
            ],
            [
             0.8,
             "#7fbc41"
            ],
            [
             0.9,
             "#4d9221"
            ],
            [
             1,
             "#276419"
            ]
           ],
           "sequential": [
            [
             0,
             "#0d0887"
            ],
            [
             0.1111111111111111,
             "#46039f"
            ],
            [
             0.2222222222222222,
             "#7201a8"
            ],
            [
             0.3333333333333333,
             "#9c179e"
            ],
            [
             0.4444444444444444,
             "#bd3786"
            ],
            [
             0.5555555555555556,
             "#d8576b"
            ],
            [
             0.6666666666666666,
             "#ed7953"
            ],
            [
             0.7777777777777778,
             "#fb9f3a"
            ],
            [
             0.8888888888888888,
             "#fdca26"
            ],
            [
             1,
             "#f0f921"
            ]
           ],
           "sequentialminus": [
            [
             0,
             "#0d0887"
            ],
            [
             0.1111111111111111,
             "#46039f"
            ],
            [
             0.2222222222222222,
             "#7201a8"
            ],
            [
             0.3333333333333333,
             "#9c179e"
            ],
            [
             0.4444444444444444,
             "#bd3786"
            ],
            [
             0.5555555555555556,
             "#d8576b"
            ],
            [
             0.6666666666666666,
             "#ed7953"
            ],
            [
             0.7777777777777778,
             "#fb9f3a"
            ],
            [
             0.8888888888888888,
             "#fdca26"
            ],
            [
             1,
             "#f0f921"
            ]
           ]
          },
          "colorway": [
           "#636efa",
           "#EF553B",
           "#00cc96",
           "#ab63fa",
           "#FFA15A",
           "#19d3f3",
           "#FF6692",
           "#B6E880",
           "#FF97FF",
           "#FECB52"
          ],
          "font": {
           "color": "#2a3f5f"
          },
          "geo": {
           "bgcolor": "white",
           "lakecolor": "white",
           "landcolor": "#E5ECF6",
           "showlakes": true,
           "showland": true,
           "subunitcolor": "white"
          },
          "hoverlabel": {
           "align": "left"
          },
          "hovermode": "closest",
          "mapbox": {
           "style": "light"
          },
          "paper_bgcolor": "white",
          "plot_bgcolor": "#E5ECF6",
          "polar": {
           "angularaxis": {
            "gridcolor": "white",
            "linecolor": "white",
            "ticks": ""
           },
           "bgcolor": "#E5ECF6",
           "radialaxis": {
            "gridcolor": "white",
            "linecolor": "white",
            "ticks": ""
           }
          },
          "scene": {
           "xaxis": {
            "backgroundcolor": "#E5ECF6",
            "gridcolor": "white",
            "gridwidth": 2,
            "linecolor": "white",
            "showbackground": true,
            "ticks": "",
            "zerolinecolor": "white"
           },
           "yaxis": {
            "backgroundcolor": "#E5ECF6",
            "gridcolor": "white",
            "gridwidth": 2,
            "linecolor": "white",
            "showbackground": true,
            "ticks": "",
            "zerolinecolor": "white"
           },
           "zaxis": {
            "backgroundcolor": "#E5ECF6",
            "gridcolor": "white",
            "gridwidth": 2,
            "linecolor": "white",
            "showbackground": true,
            "ticks": "",
            "zerolinecolor": "white"
           }
          },
          "shapedefaults": {
           "line": {
            "color": "#2a3f5f"
           }
          },
          "ternary": {
           "aaxis": {
            "gridcolor": "white",
            "linecolor": "white",
            "ticks": ""
           },
           "baxis": {
            "gridcolor": "white",
            "linecolor": "white",
            "ticks": ""
           },
           "bgcolor": "#E5ECF6",
           "caxis": {
            "gridcolor": "white",
            "linecolor": "white",
            "ticks": ""
           }
          },
          "title": {
           "x": 0.05
          },
          "xaxis": {
           "automargin": true,
           "gridcolor": "white",
           "linecolor": "white",
           "ticks": "",
           "title": {
            "standoff": 15
           },
           "zerolinecolor": "white",
           "zerolinewidth": 2
          },
          "yaxis": {
           "automargin": true,
           "gridcolor": "white",
           "linecolor": "white",
           "ticks": "",
           "title": {
            "standoff": 15
           },
           "zerolinecolor": "white",
           "zerolinewidth": 2
          }
         }
        },
        "title": {
         "text": "Plotly Plot"
        }
       }
      }
     },
     "metadata": {},
     "output_type": "display_data"
    },
    {
     "name": "stdout",
     "output_type": "stream",
     "text": [
      "q_scalar: 0.6, l_scalar: 0.9441168173077795, max stress: 4.193222847468942\n",
      "Iteration 0: Current error = 243.87130038728026\n",
      "Iteration 100: Current error = 1.8448076145533707\n",
      "Iteration 200: Current error = 1.6775586871709767\n",
      "Iteration 300: Current error = 1.6729376563894738\n",
      "Iteration 400: Current error = 1.6683100667892796\n",
      "Iteration 500: Current error = 1.6712988086953744\n",
      "Iteration 600: Current error = 1.672156925946209\n",
      "Iteration 700: Current error = 1.6812526480875642\n",
      "Iteration 800: Current error = 1.6889040109704372\n",
      "Iteration 900: Current error = 1.673653285957224\n",
      "Final error: 1.6811150158562416\n"
     ]
    },
    {
     "data": {
      "application/vnd.plotly.v1+json": {
       "config": {
        "plotlyServerURL": "https://plot.ly"
       },
       "data": [
        {
         "line": {
          "color": "black",
          "width": 3
         },
         "mode": "lines",
         "type": "scatter3d",
         "x": [
          -70.9805707205087,
          -62.21102125942707,
          -53.44147844798863,
          -44.67194228246808,
          -35.902412766590714,
          null,
          -35.9024127673751,
          -28.24385805280015,
          -19.02439616256062,
          -8.451325529935005,
          3.2376196906130943,
          null,
          3.237619690613087,
          5.830987965347973,
          8.776403079794449,
          12.060868312604114,
          15.669890874899863,
          19.587545860086294,
          23.79654651291738,
          28.278320507756696,
          33.01309189945082,
          37.9799683852054,
          null,
          37.97996838390827,
          46.16205396130681,
          54.344145903363824,
          62.52624421566725,
          70.70834889262915,
          null,
          -70.82906416617334,
          -62.22271167859435,
          -53.61635287664831,
          -45.00998776033521,
          -36.403616327792406,
          null,
          -36.403616327337545,
          -33.24921536544616,
          -29.744139068209932,
          -25.902762273647966,
          -21.740839038022983,
          -17.275438026119033,
          -12.524872510114193,
          -7.50862526413394,
          -2.2472686625032807,
          3.237619690613087,
          null,
          3.2376196906131014,
          9.685067668673142,
          17.7128458147641,
          27.125931683965206,
          37.695648924357734,
          null,
          37.69564891979098,
          46.005054235458374,
          54.31445286795497,
          62.62384482100606,
          70.93323009088635,
          null,
          -35.9024127673751,
          -36.53441421012411,
          -37.022520268769426,
          -37.36659043928381,
          -37.56652567916666,
          -37.622268435953856,
          -37.5338026637848,
          -37.30115382802103,
          -36.924388897916,
          -36.4036163273376,
          null,
          -36.403616327337474,
          -17.80974776748549,
          0.8017491032496853,
          19.4064572102228,
          37.97996838520558,
          null,
          37.979968385205666,
          37.74663198037706,
          37.62146442963876,
          37.60446988951571,
          37.695648924357556,
          null,
          37.69564892485505,
          19.296133675437886,
          0.8966183103912044,
          -17.502897170284996,
          -35.90241276656161,
          null
         ],
         "y": [
          71.20795660093427,
          62.74350028298795,
          54.27903708256781,
          45.81456699222326,
          37.35009001381695,
          null,
          37.35009001359783,
          26.335342178543755,
          16.589591687155817,
          8.331970505273233,
          1.748150199630615,
          null,
          1.7481501996306505,
          -3.640724886970041,
          -8.845536460022203,
          -13.843318152118357,
          -18.612017120624095,
          -23.13059135642358,
          -27.379102532336248,
          -31.33880398150758,
          -34.992223417567715,
          -38.32324003155287,
          null,
          -38.32324003055692,
          -46.429911041632295,
          -54.53657562471926,
          -62.643233781680465,
          -70.7498855125159,
          null,
          -71.23581341467798,
          -63.194934291765094,
          -55.15406192652881,
          -47.11319632269442,
          -39.072337474673986,
          null,
          -39.072337474999195,
          -33.49261027784025,
          -28.12622963781388,
          -22.995203878251054,
          -18.12057609719311,
          -13.522337866524353,
          -9.21934724356889,
          -5.229251431399462,
          -1.5684144050386948,
          1.7481501996306434,
          null,
          1.7481501996306363,
          12.422263451549156,
          21.964855194975897,
          30.144102933222896,
          36.761304502067674,
          null,
          36.76130449771881,
          45.268847435712814,
          53.77639690041542,
          62.28395289182663,
          70.79151540994644,
          null,
          37.35009001359782,
          28.87390203237928,
          20.38821166611537,
          11.895461567687374,
          3.3980964221588286,
          -5.101437756939232,
          -13.600694331707693,
          -22.09722674415716,
          -30.58858922046409,
          -39.07233747499896,
          null,
          -39.07233747499919,
          -39.89590585769321,
          -40.04556257362418,
          -39.52111128290477,
          -38.323240031552984,
          null,
          -38.32324003155267,
          -19.55302999080008,
          -0.7817869862457556,
          17.989865632460827,
          36.76130450206784,
          null,
          36.76130449771881,
          36.90852255374193,
          37.055726155638695,
          37.20291531085968,
          37.35009001195431,
          null
         ],
         "z": [
          0,
          0,
          0,
          0,
          0,
          null,
          0,
          0,
          0,
          0,
          0,
          null,
          0,
          0,
          0,
          0,
          0,
          0,
          0,
          0,
          0,
          0,
          null,
          0,
          0,
          0,
          0,
          0,
          null,
          0,
          0,
          0,
          0,
          0,
          null,
          0,
          0,
          0,
          0,
          0,
          0,
          0,
          0,
          0,
          0.1999999999999957,
          null,
          0.19999999999999532,
          0,
          0,
          0,
          0,
          null,
          0,
          0,
          0,
          0,
          0,
          null,
          0.19999999999998816,
          0,
          0,
          0,
          0,
          0,
          0,
          0,
          0,
          0.19999999999991988,
          null,
          0.19999999999998344,
          0,
          0,
          0,
          0.19999999999993948,
          null,
          0.19999999999989104,
          0,
          0,
          0,
          0.1999999999999229,
          null,
          0.19999999854092884,
          0,
          0,
          0,
          0.1999999993887371,
          null
         ]
        },
        {
         "mode": "text",
         "text": [
          "0"
         ],
         "type": "scatter3d",
         "x": [
          -53.441491745012776
         ],
         "y": [
          54.27902330606331
         ],
         "z": [
          0
         ]
        },
        {
         "mode": "text",
         "text": [
          "1"
         ],
         "type": "scatter3d",
         "x": [
          -16.33239653838099
         ],
         "y": [
          19.549120106614215
         ],
         "z": [
          0
         ]
        },
        {
         "mode": "text",
         "text": [
          "2"
         ],
         "type": "scatter3d",
         "x": [
          20.608794037909256
         ],
         "y": [
          -18.28754491596113
         ],
         "z": [
          0
         ]
        },
        {
         "mode": "text",
         "text": [
          "3"
         ],
         "type": "scatter3d",
         "x": [
          54.344158639565116
         ],
         "y": [
          -54.53656277174139
         ],
         "z": [
          0
         ]
        },
        {
         "mode": "text",
         "text": [
          "4"
         ],
         "type": "scatter3d",
         "x": [
          -53.61634024624452
         ],
         "y": [
          -55.15407544470122
         ],
         "z": [
          0
         ]
        },
        {
         "mode": "text",
         "text": [
          "5"
         ],
         "type": "scatter3d",
         "x": [
          -16.58299831836222
         ],
         "y": [
          -18.66209363768428
         ],
         "z": [
          0
         ]
        },
        {
         "mode": "text",
         "text": [
          "6"
         ],
         "type": "scatter3d",
         "x": [
          20.466634307485407
         ],
         "y": [
          19.254727350849155
         ],
         "z": [
          0
         ]
        },
        {
         "mode": "text",
         "text": [
          "7"
         ],
         "type": "scatter3d",
         "x": [
          54.3144395102599
         ],
         "y": [
          53.776409958588545
         ],
         "z": [
          0
         ]
        },
        {
         "mode": "text",
         "text": [
          "8"
         ],
         "type": "scatter3d",
         "x": [
          -36.15301454735629
         ],
         "y": [
          -0.8611237307006938
         ],
         "z": [
          0
         ]
        },
        {
         "mode": "text",
         "text": [
          "9"
         ],
         "type": "scatter3d",
         "x": [
          0.7881760289339503
         ],
         "y": [
          -38.69778875327604
         ],
         "z": [
          0
         ]
        },
        {
         "mode": "text",
         "text": [
          "10"
         ],
         "type": "scatter3d",
         "x": [
          37.837808654781576
         ],
         "y": [
          -0.7809677647426057
         ],
         "z": [
          0
         ]
        },
        {
         "mode": "text",
         "text": [
          "11"
         ],
         "type": "scatter3d",
         "x": [
          0.8966180784913291
         ],
         "y": [
          37.05569725783274
         ],
         "z": [
          0
         ]
        },
        {
         "mode": "text",
         "text": [
          "0"
         ],
         "type": "scatter3d",
         "x": [
          -70.98057072265048
         ],
         "y": [
          71.20795659852881
         ],
         "z": [
          0
         ]
        },
        {
         "mode": "text",
         "text": [
          "1"
         ],
         "type": "scatter3d",
         "x": [
          -35.90241276737507
         ],
         "y": [
          37.3500900135978
         ],
         "z": [
          0
         ]
        },
        {
         "mode": "text",
         "text": [
          "2"
         ],
         "type": "scatter3d",
         "x": [
          3.2376196906130885
         ],
         "y": [
          1.7481501996306306
         ],
         "z": [
          0
         ]
        },
        {
         "mode": "text",
         "text": [
          "3"
         ],
         "type": "scatter3d",
         "x": [
          37.979968385205424
         ],
         "y": [
          -38.32324003155289
         ],
         "z": [
          0
         ]
        },
        {
         "mode": "text",
         "text": [
          "4"
         ],
         "type": "scatter3d",
         "x": [
          70.7083488939248
         ],
         "y": [
          -70.74988551192989
         ],
         "z": [
          0
         ]
        },
        {
         "mode": "text",
         "text": [
          "5"
         ],
         "type": "scatter3d",
         "x": [
          -70.82906416515152
         ],
         "y": [
          -71.23581341440325
         ],
         "z": [
          0
         ]
        },
        {
         "mode": "text",
         "text": [
          "6"
         ],
         "type": "scatter3d",
         "x": [
          -36.403616327337524
         ],
         "y": [
          -39.07233747499919
         ],
         "z": [
          0
         ]
        },
        {
         "mode": "text",
         "text": [
          "7"
         ],
         "type": "scatter3d",
         "x": [
          37.69564892435773
         ],
         "y": [
          36.76130450206768
         ],
         "z": [
          0
         ]
        },
        {
         "mode": "text",
         "text": [
          "8"
         ],
         "type": "scatter3d",
         "x": [
          70.93323009616208
         ],
         "y": [
          70.79151541510942
         ],
         "z": [
          0
         ]
        }
       ],
       "layout": {
        "scene": {
         "aspectmode": "data",
         "camera": {
          "eye": {
           "x": 0,
           "y": 0,
           "z": 15
          }
         }
        },
        "template": {
         "data": {
          "bar": [
           {
            "error_x": {
             "color": "#2a3f5f"
            },
            "error_y": {
             "color": "#2a3f5f"
            },
            "marker": {
             "line": {
              "color": "#E5ECF6",
              "width": 0.5
             },
             "pattern": {
              "fillmode": "overlay",
              "size": 10,
              "solidity": 0.2
             }
            },
            "type": "bar"
           }
          ],
          "barpolar": [
           {
            "marker": {
             "line": {
              "color": "#E5ECF6",
              "width": 0.5
             },
             "pattern": {
              "fillmode": "overlay",
              "size": 10,
              "solidity": 0.2
             }
            },
            "type": "barpolar"
           }
          ],
          "carpet": [
           {
            "aaxis": {
             "endlinecolor": "#2a3f5f",
             "gridcolor": "white",
             "linecolor": "white",
             "minorgridcolor": "white",
             "startlinecolor": "#2a3f5f"
            },
            "baxis": {
             "endlinecolor": "#2a3f5f",
             "gridcolor": "white",
             "linecolor": "white",
             "minorgridcolor": "white",
             "startlinecolor": "#2a3f5f"
            },
            "type": "carpet"
           }
          ],
          "choropleth": [
           {
            "colorbar": {
             "outlinewidth": 0,
             "ticks": ""
            },
            "type": "choropleth"
           }
          ],
          "contour": [
           {
            "colorbar": {
             "outlinewidth": 0,
             "ticks": ""
            },
            "colorscale": [
             [
              0,
              "#0d0887"
             ],
             [
              0.1111111111111111,
              "#46039f"
             ],
             [
              0.2222222222222222,
              "#7201a8"
             ],
             [
              0.3333333333333333,
              "#9c179e"
             ],
             [
              0.4444444444444444,
              "#bd3786"
             ],
             [
              0.5555555555555556,
              "#d8576b"
             ],
             [
              0.6666666666666666,
              "#ed7953"
             ],
             [
              0.7777777777777778,
              "#fb9f3a"
             ],
             [
              0.8888888888888888,
              "#fdca26"
             ],
             [
              1,
              "#f0f921"
             ]
            ],
            "type": "contour"
           }
          ],
          "contourcarpet": [
           {
            "colorbar": {
             "outlinewidth": 0,
             "ticks": ""
            },
            "type": "contourcarpet"
           }
          ],
          "heatmap": [
           {
            "colorbar": {
             "outlinewidth": 0,
             "ticks": ""
            },
            "colorscale": [
             [
              0,
              "#0d0887"
             ],
             [
              0.1111111111111111,
              "#46039f"
             ],
             [
              0.2222222222222222,
              "#7201a8"
             ],
             [
              0.3333333333333333,
              "#9c179e"
             ],
             [
              0.4444444444444444,
              "#bd3786"
             ],
             [
              0.5555555555555556,
              "#d8576b"
             ],
             [
              0.6666666666666666,
              "#ed7953"
             ],
             [
              0.7777777777777778,
              "#fb9f3a"
             ],
             [
              0.8888888888888888,
              "#fdca26"
             ],
             [
              1,
              "#f0f921"
             ]
            ],
            "type": "heatmap"
           }
          ],
          "heatmapgl": [
           {
            "colorbar": {
             "outlinewidth": 0,
             "ticks": ""
            },
            "colorscale": [
             [
              0,
              "#0d0887"
             ],
             [
              0.1111111111111111,
              "#46039f"
             ],
             [
              0.2222222222222222,
              "#7201a8"
             ],
             [
              0.3333333333333333,
              "#9c179e"
             ],
             [
              0.4444444444444444,
              "#bd3786"
             ],
             [
              0.5555555555555556,
              "#d8576b"
             ],
             [
              0.6666666666666666,
              "#ed7953"
             ],
             [
              0.7777777777777778,
              "#fb9f3a"
             ],
             [
              0.8888888888888888,
              "#fdca26"
             ],
             [
              1,
              "#f0f921"
             ]
            ],
            "type": "heatmapgl"
           }
          ],
          "histogram": [
           {
            "marker": {
             "pattern": {
              "fillmode": "overlay",
              "size": 10,
              "solidity": 0.2
             }
            },
            "type": "histogram"
           }
          ],
          "histogram2d": [
           {
            "colorbar": {
             "outlinewidth": 0,
             "ticks": ""
            },
            "colorscale": [
             [
              0,
              "#0d0887"
             ],
             [
              0.1111111111111111,
              "#46039f"
             ],
             [
              0.2222222222222222,
              "#7201a8"
             ],
             [
              0.3333333333333333,
              "#9c179e"
             ],
             [
              0.4444444444444444,
              "#bd3786"
             ],
             [
              0.5555555555555556,
              "#d8576b"
             ],
             [
              0.6666666666666666,
              "#ed7953"
             ],
             [
              0.7777777777777778,
              "#fb9f3a"
             ],
             [
              0.8888888888888888,
              "#fdca26"
             ],
             [
              1,
              "#f0f921"
             ]
            ],
            "type": "histogram2d"
           }
          ],
          "histogram2dcontour": [
           {
            "colorbar": {
             "outlinewidth": 0,
             "ticks": ""
            },
            "colorscale": [
             [
              0,
              "#0d0887"
             ],
             [
              0.1111111111111111,
              "#46039f"
             ],
             [
              0.2222222222222222,
              "#7201a8"
             ],
             [
              0.3333333333333333,
              "#9c179e"
             ],
             [
              0.4444444444444444,
              "#bd3786"
             ],
             [
              0.5555555555555556,
              "#d8576b"
             ],
             [
              0.6666666666666666,
              "#ed7953"
             ],
             [
              0.7777777777777778,
              "#fb9f3a"
             ],
             [
              0.8888888888888888,
              "#fdca26"
             ],
             [
              1,
              "#f0f921"
             ]
            ],
            "type": "histogram2dcontour"
           }
          ],
          "mesh3d": [
           {
            "colorbar": {
             "outlinewidth": 0,
             "ticks": ""
            },
            "type": "mesh3d"
           }
          ],
          "parcoords": [
           {
            "line": {
             "colorbar": {
              "outlinewidth": 0,
              "ticks": ""
             }
            },
            "type": "parcoords"
           }
          ],
          "pie": [
           {
            "automargin": true,
            "type": "pie"
           }
          ],
          "scatter": [
           {
            "fillpattern": {
             "fillmode": "overlay",
             "size": 10,
             "solidity": 0.2
            },
            "type": "scatter"
           }
          ],
          "scatter3d": [
           {
            "line": {
             "colorbar": {
              "outlinewidth": 0,
              "ticks": ""
             }
            },
            "marker": {
             "colorbar": {
              "outlinewidth": 0,
              "ticks": ""
             }
            },
            "type": "scatter3d"
           }
          ],
          "scattercarpet": [
           {
            "marker": {
             "colorbar": {
              "outlinewidth": 0,
              "ticks": ""
             }
            },
            "type": "scattercarpet"
           }
          ],
          "scattergeo": [
           {
            "marker": {
             "colorbar": {
              "outlinewidth": 0,
              "ticks": ""
             }
            },
            "type": "scattergeo"
           }
          ],
          "scattergl": [
           {
            "marker": {
             "colorbar": {
              "outlinewidth": 0,
              "ticks": ""
             }
            },
            "type": "scattergl"
           }
          ],
          "scattermapbox": [
           {
            "marker": {
             "colorbar": {
              "outlinewidth": 0,
              "ticks": ""
             }
            },
            "type": "scattermapbox"
           }
          ],
          "scatterpolar": [
           {
            "marker": {
             "colorbar": {
              "outlinewidth": 0,
              "ticks": ""
             }
            },
            "type": "scatterpolar"
           }
          ],
          "scatterpolargl": [
           {
            "marker": {
             "colorbar": {
              "outlinewidth": 0,
              "ticks": ""
             }
            },
            "type": "scatterpolargl"
           }
          ],
          "scatterternary": [
           {
            "marker": {
             "colorbar": {
              "outlinewidth": 0,
              "ticks": ""
             }
            },
            "type": "scatterternary"
           }
          ],
          "surface": [
           {
            "colorbar": {
             "outlinewidth": 0,
             "ticks": ""
            },
            "colorscale": [
             [
              0,
              "#0d0887"
             ],
             [
              0.1111111111111111,
              "#46039f"
             ],
             [
              0.2222222222222222,
              "#7201a8"
             ],
             [
              0.3333333333333333,
              "#9c179e"
             ],
             [
              0.4444444444444444,
              "#bd3786"
             ],
             [
              0.5555555555555556,
              "#d8576b"
             ],
             [
              0.6666666666666666,
              "#ed7953"
             ],
             [
              0.7777777777777778,
              "#fb9f3a"
             ],
             [
              0.8888888888888888,
              "#fdca26"
             ],
             [
              1,
              "#f0f921"
             ]
            ],
            "type": "surface"
           }
          ],
          "table": [
           {
            "cells": {
             "fill": {
              "color": "#EBF0F8"
             },
             "line": {
              "color": "white"
             }
            },
            "header": {
             "fill": {
              "color": "#C8D4E3"
             },
             "line": {
              "color": "white"
             }
            },
            "type": "table"
           }
          ]
         },
         "layout": {
          "annotationdefaults": {
           "arrowcolor": "#2a3f5f",
           "arrowhead": 0,
           "arrowwidth": 1
          },
          "autotypenumbers": "strict",
          "coloraxis": {
           "colorbar": {
            "outlinewidth": 0,
            "ticks": ""
           }
          },
          "colorscale": {
           "diverging": [
            [
             0,
             "#8e0152"
            ],
            [
             0.1,
             "#c51b7d"
            ],
            [
             0.2,
             "#de77ae"
            ],
            [
             0.3,
             "#f1b6da"
            ],
            [
             0.4,
             "#fde0ef"
            ],
            [
             0.5,
             "#f7f7f7"
            ],
            [
             0.6,
             "#e6f5d0"
            ],
            [
             0.7,
             "#b8e186"
            ],
            [
             0.8,
             "#7fbc41"
            ],
            [
             0.9,
             "#4d9221"
            ],
            [
             1,
             "#276419"
            ]
           ],
           "sequential": [
            [
             0,
             "#0d0887"
            ],
            [
             0.1111111111111111,
             "#46039f"
            ],
            [
             0.2222222222222222,
             "#7201a8"
            ],
            [
             0.3333333333333333,
             "#9c179e"
            ],
            [
             0.4444444444444444,
             "#bd3786"
            ],
            [
             0.5555555555555556,
             "#d8576b"
            ],
            [
             0.6666666666666666,
             "#ed7953"
            ],
            [
             0.7777777777777778,
             "#fb9f3a"
            ],
            [
             0.8888888888888888,
             "#fdca26"
            ],
            [
             1,
             "#f0f921"
            ]
           ],
           "sequentialminus": [
            [
             0,
             "#0d0887"
            ],
            [
             0.1111111111111111,
             "#46039f"
            ],
            [
             0.2222222222222222,
             "#7201a8"
            ],
            [
             0.3333333333333333,
             "#9c179e"
            ],
            [
             0.4444444444444444,
             "#bd3786"
            ],
            [
             0.5555555555555556,
             "#d8576b"
            ],
            [
             0.6666666666666666,
             "#ed7953"
            ],
            [
             0.7777777777777778,
             "#fb9f3a"
            ],
            [
             0.8888888888888888,
             "#fdca26"
            ],
            [
             1,
             "#f0f921"
            ]
           ]
          },
          "colorway": [
           "#636efa",
           "#EF553B",
           "#00cc96",
           "#ab63fa",
           "#FFA15A",
           "#19d3f3",
           "#FF6692",
           "#B6E880",
           "#FF97FF",
           "#FECB52"
          ],
          "font": {
           "color": "#2a3f5f"
          },
          "geo": {
           "bgcolor": "white",
           "lakecolor": "white",
           "landcolor": "#E5ECF6",
           "showlakes": true,
           "showland": true,
           "subunitcolor": "white"
          },
          "hoverlabel": {
           "align": "left"
          },
          "hovermode": "closest",
          "mapbox": {
           "style": "light"
          },
          "paper_bgcolor": "white",
          "plot_bgcolor": "#E5ECF6",
          "polar": {
           "angularaxis": {
            "gridcolor": "white",
            "linecolor": "white",
            "ticks": ""
           },
           "bgcolor": "#E5ECF6",
           "radialaxis": {
            "gridcolor": "white",
            "linecolor": "white",
            "ticks": ""
           }
          },
          "scene": {
           "xaxis": {
            "backgroundcolor": "#E5ECF6",
            "gridcolor": "white",
            "gridwidth": 2,
            "linecolor": "white",
            "showbackground": true,
            "ticks": "",
            "zerolinecolor": "white"
           },
           "yaxis": {
            "backgroundcolor": "#E5ECF6",
            "gridcolor": "white",
            "gridwidth": 2,
            "linecolor": "white",
            "showbackground": true,
            "ticks": "",
            "zerolinecolor": "white"
           },
           "zaxis": {
            "backgroundcolor": "#E5ECF6",
            "gridcolor": "white",
            "gridwidth": 2,
            "linecolor": "white",
            "showbackground": true,
            "ticks": "",
            "zerolinecolor": "white"
           }
          },
          "shapedefaults": {
           "line": {
            "color": "#2a3f5f"
           }
          },
          "ternary": {
           "aaxis": {
            "gridcolor": "white",
            "linecolor": "white",
            "ticks": ""
           },
           "baxis": {
            "gridcolor": "white",
            "linecolor": "white",
            "ticks": ""
           },
           "bgcolor": "#E5ECF6",
           "caxis": {
            "gridcolor": "white",
            "linecolor": "white",
            "ticks": ""
           }
          },
          "title": {
           "x": 0.05
          },
          "xaxis": {
           "automargin": true,
           "gridcolor": "white",
           "linecolor": "white",
           "ticks": "",
           "title": {
            "standoff": 15
           },
           "zerolinecolor": "white",
           "zerolinewidth": 2
          },
          "yaxis": {
           "automargin": true,
           "gridcolor": "white",
           "linecolor": "white",
           "ticks": "",
           "title": {
            "standoff": 15
           },
           "zerolinecolor": "white",
           "zerolinewidth": 2
          }
         }
        },
        "title": {
         "text": "Plotly Plot"
        }
       }
      }
     },
     "metadata": {},
     "output_type": "display_data"
    },
    {
     "name": "stdout",
     "output_type": "stream",
     "text": [
      "q_scalar: 1.0, l_scalar: 0.855151246107656, max stress: 6.988704745781568\n",
      "Iteration 0: Current error = 361.7307265964698\n",
      "Iteration 100: Current error = 2.566773105927049\n",
      "Iteration 200: Current error = 2.354738186598261\n",
      "Iteration 300: Current error = 2.332801458252311\n",
      "Iteration 400: Current error = 2.3400800324330038\n",
      "Iteration 500: Current error = 2.3556567435651896\n",
      "Iteration 600: Current error = 2.3269683273916075\n",
      "Iteration 700: Current error = 2.3502473054691735\n",
      "Iteration 800: Current error = 2.339494113476125\n",
      "Iteration 900: Current error = 2.3422311014479145\n",
      "Final error: 2.337028927553863\n"
     ]
    },
    {
     "data": {
      "application/vnd.plotly.v1+json": {
       "config": {
        "plotlyServerURL": "https://plot.ly"
       },
       "data": [
        {
         "line": {
          "color": "black",
          "width": 3
         },
         "mode": "lines",
         "type": "scatter3d",
         "x": [
          -69.50329342484474,
          -61.04827408492565,
          -52.59326115809381,
          -44.13825464062393,
          -35.68325453065336,
          null,
          -35.683254533308045,
          -28.245387333139476,
          -19.10985560007606,
          -8.516755689046846,
          3.2555088269154453,
          null,
          3.2555088269154595,
          5.697628523724205,
          8.528723099279276,
          11.733802102216671,
          15.295894859311097,
          19.19614033402545,
          23.413886994404088,
          27.92680216151625,
          32.71099025945757,
          37.74111934078339,
          null,
          37.74111934192479,
          45.58517668582499,
          53.4292401317507,
          61.273309675976634,
          69.11738532222807,
          null,
          -69.30114210769534,
          -61.00985170342028,
          -52.718555230647326,
          -44.42725268006325,
          -36.1359440498054,
          null,
          -36.135944049296526,
          -33.12827518718555,
          -29.733487767864304,
          -25.96821506556965,
          -21.850905603198,
          -17.40173276097802,
          -12.642495933944197,
          -7.5965137225048025,
          -2.288509679433467,
          3.2555088269154453,
          null,
          3.2555088269154595,
          9.461608906356659,
          17.398025346090904,
          26.836333929811147,
          37.50488330733035,
          null,
          37.50488330051303,
          45.48604402318597,
          53.46719831973314,
          61.4483461920172,
          69.42948764376342,
          null,
          -35.68325453330806,
          -36.35437572033061,
          -36.87051457407398,
          -37.231496759549714,
          -37.437200348666806,
          -37.48755586141493,
          -37.38254628933288,
          -37.122207101253025,
          -36.70662623132148,
          -36.1359440492966,
          null,
          -36.13594404929651,
          -17.67036902251381,
          0.8180877696767359,
          19.298791288142272,
          37.741119340783314,
          null,
          37.7411193407836,
          37.33775812325075,
          37.163919964587194,
          37.21963116927827,
          37.504883307330374,
          null,
          37.504883308691205,
          19.207849024853203,
          0.9108146235230379,
          -17.386219895328395,
          -35.68325453164289,
          null
         ],
         "y": [
          69.77940060384572,
          61.617068972438574,
          53.454730700701475,
          45.292385790497065,
          37.13003423623741,
          null,
          37.1300342351787,
          26.018659806061393,
          16.255127138754105,
          8.096037455073741,
          1.7558246544179497,
          null,
          1.7558246544179497,
          -3.6821653342448286,
          -8.92817212366095,
          -13.954418468127926,
          -18.73429073840809,
          -23.24247983906787,
          -27.45511521840023,
          -31.34989126135654,
          -34.90618539624674,
          -38.1051672898401,
          null,
          -38.10516728647053,
          -45.87163818255067,
          -53.6381029188633,
          -61.404561491683125,
          -69.17101390473545,
          null,
          -69.80459948070347,
          -62.07000428624451,
          -54.33541560731828,
          -46.600833432748914,
          -38.86625777371228,
          null,
          -38.86625777155807,
          -33.22707634870128,
          -27.81211028402241,
          -22.647891022472805,
          -17.759721437130054,
          -13.171551853945743,
          -8.905862703502365,
          -4.983554374744642,
          -1.4238448103638603,
          1.7558246544179354,
          null,
          1.7558246544179497,
          12.52027366593628,
          22.080730496691487,
          30.16202815214823,
          36.5315724762779,
          null,
          36.53157247416675,
          44.710653975605965,
          52.889741744846106,
          61.06883578374982,
          69.24793609045446,
          null,
          37.130034235178655,
          28.703018478930822,
          20.265092259332814,
          11.819105634580863,
          3.3679113854142115,
          -5.085635948460223,
          -13.538681032540532,
          -21.988368701967705,
          -30.43184492590948,
          -38.8662577715579,
          null,
          -38.86625777155808,
          -39.80440442441238,
          -39.99026903994212,
          -39.423543643834535,
          -38.1051672898401,
          null,
          -38.10516728983951,
          -19.448483951478543,
          -0.7882504654184661,
          17.872709577445278,
          36.531572476277624,
          null,
          36.531572476029396,
          36.68120947107673,
          36.830832093954086,
          36.980440348386765,
          37.13003423437476,
          null
         ],
         "z": [
          0,
          0,
          0,
          0,
          0,
          null,
          0,
          0,
          0,
          0,
          0,
          null,
          0,
          0,
          0,
          0,
          0,
          0,
          0,
          0,
          0,
          0,
          null,
          0,
          0,
          0,
          0,
          0,
          null,
          0,
          0,
          0,
          0,
          0,
          null,
          0,
          0,
          0,
          0,
          0,
          0,
          0,
          0,
          0,
          0.19999999999999202,
          null,
          0.19999999999999712,
          0,
          0,
          0,
          0,
          null,
          0,
          0,
          0,
          0,
          0,
          null,
          0.19999999999999024,
          0,
          0,
          0,
          0,
          0,
          0,
          0,
          0,
          0.19999999999993404,
          null,
          0.19999999999999526,
          0,
          0,
          0,
          0.19999999999996448,
          null,
          0.1999999999997947,
          0,
          0,
          0,
          0.1999999999999099,
          null,
          0.19999999953888395,
          0,
          0,
          0,
          0.19999999938365262,
          null
         ]
        },
        {
         "mode": "text",
         "text": [
          "0"
         ],
         "type": "scatter3d",
         "x": [
          -52.59327397949479
         ],
         "y": [
          53.45471741860169
         ],
         "z": [
          0
         ]
        },
        {
         "mode": "text",
         "text": [
          "1"
         ],
         "type": "scatter3d",
         "x": [
          -16.213872853196282
         ],
         "y": [
          19.442929444798303
         ],
         "z": [
          0
         ]
        },
        {
         "mode": "text",
         "text": [
          "2"
         ],
         "type": "scatter3d",
         "x": [
          20.498314083849444
         ],
         "y": [
          -18.174671317711077
         ],
         "z": [
          0
         ]
        },
        {
         "mode": "text",
         "text": [
          "3"
         ],
         "type": "scatter3d",
         "x": [
          53.429252330396466
         ],
         "y": [
          -53.638090599168336
         ],
         "z": [
          0
         ]
        },
        {
         "mode": "text",
         "text": [
          "4"
         ],
         "type": "scatter3d",
         "x": [
          -52.718543079843414
         ],
         "y": [
          -54.33542862712166
         ],
         "z": [
          0
         ]
        },
        {
         "mode": "text",
         "text": [
          "5"
         ],
         "type": "scatter3d",
         "x": [
          -16.44021761119053
         ],
         "y": [
          -18.55521655857007
         ],
         "z": [
          0
         ]
        },
        {
         "mode": "text",
         "text": [
          "6"
         ],
         "type": "scatter3d",
         "x": [
          20.380196067122913
         ],
         "y": [
          19.14369856534792
         ],
         "z": [
          0
         ]
        },
        {
         "mode": "text",
         "text": [
          "7"
         ],
         "type": "scatter3d",
         "x": [
          53.467185478661754
         ],
         "y": [
          52.889754283946786
         ],
         "z": [
          0
         ]
        },
        {
         "mode": "text",
         "text": [
          "8"
         ],
         "type": "scatter3d",
         "x": [
          -35.90959929130228
         ],
         "y": [
          -0.8681117681897099
         ],
         "z": [
          0
         ]
        },
        {
         "mode": "text",
         "text": [
          "9"
         ],
         "type": "scatter3d",
         "x": [
          0.8025876457434471
         ],
         "y": [
          -38.48571253069909
         ],
         "z": [
          0
         ]
        },
        {
         "mode": "text",
         "text": [
          "10"
         ],
         "type": "scatter3d",
         "x": [
          37.62300132405689
         ],
         "y": [
          -0.7867974067811012
         ],
         "z": [
          0
         ]
        },
        {
         "mode": "text",
         "text": [
          "11"
         ],
         "type": "scatter3d",
         "x": [
          0.9108143870111647
         ],
         "y": [
          36.83080335572828
         ],
         "z": [
          0
         ]
        },
        {
         "mode": "text",
         "text": [
          "0"
         ],
         "type": "scatter3d",
         "x": [
          -69.50329342568155
         ],
         "y": [
          69.77940060202471
         ],
         "z": [
          0
         ]
        },
        {
         "mode": "text",
         "text": [
          "1"
         ],
         "type": "scatter3d",
         "x": [
          -35.68325453330803
         ],
         "y": [
          37.13003423517866
         ],
         "z": [
          0
         ]
        },
        {
         "mode": "text",
         "text": [
          "2"
         ],
         "type": "scatter3d",
         "x": [
          3.255508826915467
         ],
         "y": [
          1.7558246544179454
         ],
         "z": [
          0
         ]
        },
        {
         "mode": "text",
         "text": [
          "3"
         ],
         "type": "scatter3d",
         "x": [
          37.74111934078342
         ],
         "y": [
          -38.1051672898401
         ],
         "z": [
          0
         ]
        },
        {
         "mode": "text",
         "text": [
          "4"
         ],
         "type": "scatter3d",
         "x": [
          69.11738532000952
         ],
         "y": [
          -69.17101390849658
         ],
         "z": [
          0
         ]
        },
        {
         "mode": "text",
         "text": [
          "5"
         ],
         "type": "scatter3d",
         "x": [
          -69.3011421103903
         ],
         "y": [
          -69.80459948268523
         ],
         "z": [
          0
         ]
        },
        {
         "mode": "text",
         "text": [
          "6"
         ],
         "type": "scatter3d",
         "x": [
          -36.135944049296526
         ],
         "y": [
          -38.86625777155808
         ],
         "z": [
          0
         ]
        },
        {
         "mode": "text",
         "text": [
          "7"
         ],
         "type": "scatter3d",
         "x": [
          37.50488330733036
         ],
         "y": [
          36.531572476277894
         ],
         "z": [
          0
         ]
        },
        {
         "mode": "text",
         "text": [
          "8"
         ],
         "type": "scatter3d",
         "x": [
          69.42948764999315
         ],
         "y": [
          69.24793609161568
         ],
         "z": [
          0
         ]
        }
       ],
       "layout": {
        "scene": {
         "aspectmode": "data",
         "camera": {
          "eye": {
           "x": 0,
           "y": 0,
           "z": 15
          }
         }
        },
        "template": {
         "data": {
          "bar": [
           {
            "error_x": {
             "color": "#2a3f5f"
            },
            "error_y": {
             "color": "#2a3f5f"
            },
            "marker": {
             "line": {
              "color": "#E5ECF6",
              "width": 0.5
             },
             "pattern": {
              "fillmode": "overlay",
              "size": 10,
              "solidity": 0.2
             }
            },
            "type": "bar"
           }
          ],
          "barpolar": [
           {
            "marker": {
             "line": {
              "color": "#E5ECF6",
              "width": 0.5
             },
             "pattern": {
              "fillmode": "overlay",
              "size": 10,
              "solidity": 0.2
             }
            },
            "type": "barpolar"
           }
          ],
          "carpet": [
           {
            "aaxis": {
             "endlinecolor": "#2a3f5f",
             "gridcolor": "white",
             "linecolor": "white",
             "minorgridcolor": "white",
             "startlinecolor": "#2a3f5f"
            },
            "baxis": {
             "endlinecolor": "#2a3f5f",
             "gridcolor": "white",
             "linecolor": "white",
             "minorgridcolor": "white",
             "startlinecolor": "#2a3f5f"
            },
            "type": "carpet"
           }
          ],
          "choropleth": [
           {
            "colorbar": {
             "outlinewidth": 0,
             "ticks": ""
            },
            "type": "choropleth"
           }
          ],
          "contour": [
           {
            "colorbar": {
             "outlinewidth": 0,
             "ticks": ""
            },
            "colorscale": [
             [
              0,
              "#0d0887"
             ],
             [
              0.1111111111111111,
              "#46039f"
             ],
             [
              0.2222222222222222,
              "#7201a8"
             ],
             [
              0.3333333333333333,
              "#9c179e"
             ],
             [
              0.4444444444444444,
              "#bd3786"
             ],
             [
              0.5555555555555556,
              "#d8576b"
             ],
             [
              0.6666666666666666,
              "#ed7953"
             ],
             [
              0.7777777777777778,
              "#fb9f3a"
             ],
             [
              0.8888888888888888,
              "#fdca26"
             ],
             [
              1,
              "#f0f921"
             ]
            ],
            "type": "contour"
           }
          ],
          "contourcarpet": [
           {
            "colorbar": {
             "outlinewidth": 0,
             "ticks": ""
            },
            "type": "contourcarpet"
           }
          ],
          "heatmap": [
           {
            "colorbar": {
             "outlinewidth": 0,
             "ticks": ""
            },
            "colorscale": [
             [
              0,
              "#0d0887"
             ],
             [
              0.1111111111111111,
              "#46039f"
             ],
             [
              0.2222222222222222,
              "#7201a8"
             ],
             [
              0.3333333333333333,
              "#9c179e"
             ],
             [
              0.4444444444444444,
              "#bd3786"
             ],
             [
              0.5555555555555556,
              "#d8576b"
             ],
             [
              0.6666666666666666,
              "#ed7953"
             ],
             [
              0.7777777777777778,
              "#fb9f3a"
             ],
             [
              0.8888888888888888,
              "#fdca26"
             ],
             [
              1,
              "#f0f921"
             ]
            ],
            "type": "heatmap"
           }
          ],
          "heatmapgl": [
           {
            "colorbar": {
             "outlinewidth": 0,
             "ticks": ""
            },
            "colorscale": [
             [
              0,
              "#0d0887"
             ],
             [
              0.1111111111111111,
              "#46039f"
             ],
             [
              0.2222222222222222,
              "#7201a8"
             ],
             [
              0.3333333333333333,
              "#9c179e"
             ],
             [
              0.4444444444444444,
              "#bd3786"
             ],
             [
              0.5555555555555556,
              "#d8576b"
             ],
             [
              0.6666666666666666,
              "#ed7953"
             ],
             [
              0.7777777777777778,
              "#fb9f3a"
             ],
             [
              0.8888888888888888,
              "#fdca26"
             ],
             [
              1,
              "#f0f921"
             ]
            ],
            "type": "heatmapgl"
           }
          ],
          "histogram": [
           {
            "marker": {
             "pattern": {
              "fillmode": "overlay",
              "size": 10,
              "solidity": 0.2
             }
            },
            "type": "histogram"
           }
          ],
          "histogram2d": [
           {
            "colorbar": {
             "outlinewidth": 0,
             "ticks": ""
            },
            "colorscale": [
             [
              0,
              "#0d0887"
             ],
             [
              0.1111111111111111,
              "#46039f"
             ],
             [
              0.2222222222222222,
              "#7201a8"
             ],
             [
              0.3333333333333333,
              "#9c179e"
             ],
             [
              0.4444444444444444,
              "#bd3786"
             ],
             [
              0.5555555555555556,
              "#d8576b"
             ],
             [
              0.6666666666666666,
              "#ed7953"
             ],
             [
              0.7777777777777778,
              "#fb9f3a"
             ],
             [
              0.8888888888888888,
              "#fdca26"
             ],
             [
              1,
              "#f0f921"
             ]
            ],
            "type": "histogram2d"
           }
          ],
          "histogram2dcontour": [
           {
            "colorbar": {
             "outlinewidth": 0,
             "ticks": ""
            },
            "colorscale": [
             [
              0,
              "#0d0887"
             ],
             [
              0.1111111111111111,
              "#46039f"
             ],
             [
              0.2222222222222222,
              "#7201a8"
             ],
             [
              0.3333333333333333,
              "#9c179e"
             ],
             [
              0.4444444444444444,
              "#bd3786"
             ],
             [
              0.5555555555555556,
              "#d8576b"
             ],
             [
              0.6666666666666666,
              "#ed7953"
             ],
             [
              0.7777777777777778,
              "#fb9f3a"
             ],
             [
              0.8888888888888888,
              "#fdca26"
             ],
             [
              1,
              "#f0f921"
             ]
            ],
            "type": "histogram2dcontour"
           }
          ],
          "mesh3d": [
           {
            "colorbar": {
             "outlinewidth": 0,
             "ticks": ""
            },
            "type": "mesh3d"
           }
          ],
          "parcoords": [
           {
            "line": {
             "colorbar": {
              "outlinewidth": 0,
              "ticks": ""
             }
            },
            "type": "parcoords"
           }
          ],
          "pie": [
           {
            "automargin": true,
            "type": "pie"
           }
          ],
          "scatter": [
           {
            "fillpattern": {
             "fillmode": "overlay",
             "size": 10,
             "solidity": 0.2
            },
            "type": "scatter"
           }
          ],
          "scatter3d": [
           {
            "line": {
             "colorbar": {
              "outlinewidth": 0,
              "ticks": ""
             }
            },
            "marker": {
             "colorbar": {
              "outlinewidth": 0,
              "ticks": ""
             }
            },
            "type": "scatter3d"
           }
          ],
          "scattercarpet": [
           {
            "marker": {
             "colorbar": {
              "outlinewidth": 0,
              "ticks": ""
             }
            },
            "type": "scattercarpet"
           }
          ],
          "scattergeo": [
           {
            "marker": {
             "colorbar": {
              "outlinewidth": 0,
              "ticks": ""
             }
            },
            "type": "scattergeo"
           }
          ],
          "scattergl": [
           {
            "marker": {
             "colorbar": {
              "outlinewidth": 0,
              "ticks": ""
             }
            },
            "type": "scattergl"
           }
          ],
          "scattermapbox": [
           {
            "marker": {
             "colorbar": {
              "outlinewidth": 0,
              "ticks": ""
             }
            },
            "type": "scattermapbox"
           }
          ],
          "scatterpolar": [
           {
            "marker": {
             "colorbar": {
              "outlinewidth": 0,
              "ticks": ""
             }
            },
            "type": "scatterpolar"
           }
          ],
          "scatterpolargl": [
           {
            "marker": {
             "colorbar": {
              "outlinewidth": 0,
              "ticks": ""
             }
            },
            "type": "scatterpolargl"
           }
          ],
          "scatterternary": [
           {
            "marker": {
             "colorbar": {
              "outlinewidth": 0,
              "ticks": ""
             }
            },
            "type": "scatterternary"
           }
          ],
          "surface": [
           {
            "colorbar": {
             "outlinewidth": 0,
             "ticks": ""
            },
            "colorscale": [
             [
              0,
              "#0d0887"
             ],
             [
              0.1111111111111111,
              "#46039f"
             ],
             [
              0.2222222222222222,
              "#7201a8"
             ],
             [
              0.3333333333333333,
              "#9c179e"
             ],
             [
              0.4444444444444444,
              "#bd3786"
             ],
             [
              0.5555555555555556,
              "#d8576b"
             ],
             [
              0.6666666666666666,
              "#ed7953"
             ],
             [
              0.7777777777777778,
              "#fb9f3a"
             ],
             [
              0.8888888888888888,
              "#fdca26"
             ],
             [
              1,
              "#f0f921"
             ]
            ],
            "type": "surface"
           }
          ],
          "table": [
           {
            "cells": {
             "fill": {
              "color": "#EBF0F8"
             },
             "line": {
              "color": "white"
             }
            },
            "header": {
             "fill": {
              "color": "#C8D4E3"
             },
             "line": {
              "color": "white"
             }
            },
            "type": "table"
           }
          ]
         },
         "layout": {
          "annotationdefaults": {
           "arrowcolor": "#2a3f5f",
           "arrowhead": 0,
           "arrowwidth": 1
          },
          "autotypenumbers": "strict",
          "coloraxis": {
           "colorbar": {
            "outlinewidth": 0,
            "ticks": ""
           }
          },
          "colorscale": {
           "diverging": [
            [
             0,
             "#8e0152"
            ],
            [
             0.1,
             "#c51b7d"
            ],
            [
             0.2,
             "#de77ae"
            ],
            [
             0.3,
             "#f1b6da"
            ],
            [
             0.4,
             "#fde0ef"
            ],
            [
             0.5,
             "#f7f7f7"
            ],
            [
             0.6,
             "#e6f5d0"
            ],
            [
             0.7,
             "#b8e186"
            ],
            [
             0.8,
             "#7fbc41"
            ],
            [
             0.9,
             "#4d9221"
            ],
            [
             1,
             "#276419"
            ]
           ],
           "sequential": [
            [
             0,
             "#0d0887"
            ],
            [
             0.1111111111111111,
             "#46039f"
            ],
            [
             0.2222222222222222,
             "#7201a8"
            ],
            [
             0.3333333333333333,
             "#9c179e"
            ],
            [
             0.4444444444444444,
             "#bd3786"
            ],
            [
             0.5555555555555556,
             "#d8576b"
            ],
            [
             0.6666666666666666,
             "#ed7953"
            ],
            [
             0.7777777777777778,
             "#fb9f3a"
            ],
            [
             0.8888888888888888,
             "#fdca26"
            ],
            [
             1,
             "#f0f921"
            ]
           ],
           "sequentialminus": [
            [
             0,
             "#0d0887"
            ],
            [
             0.1111111111111111,
             "#46039f"
            ],
            [
             0.2222222222222222,
             "#7201a8"
            ],
            [
             0.3333333333333333,
             "#9c179e"
            ],
            [
             0.4444444444444444,
             "#bd3786"
            ],
            [
             0.5555555555555556,
             "#d8576b"
            ],
            [
             0.6666666666666666,
             "#ed7953"
            ],
            [
             0.7777777777777778,
             "#fb9f3a"
            ],
            [
             0.8888888888888888,
             "#fdca26"
            ],
            [
             1,
             "#f0f921"
            ]
           ]
          },
          "colorway": [
           "#636efa",
           "#EF553B",
           "#00cc96",
           "#ab63fa",
           "#FFA15A",
           "#19d3f3",
           "#FF6692",
           "#B6E880",
           "#FF97FF",
           "#FECB52"
          ],
          "font": {
           "color": "#2a3f5f"
          },
          "geo": {
           "bgcolor": "white",
           "lakecolor": "white",
           "landcolor": "#E5ECF6",
           "showlakes": true,
           "showland": true,
           "subunitcolor": "white"
          },
          "hoverlabel": {
           "align": "left"
          },
          "hovermode": "closest",
          "mapbox": {
           "style": "light"
          },
          "paper_bgcolor": "white",
          "plot_bgcolor": "#E5ECF6",
          "polar": {
           "angularaxis": {
            "gridcolor": "white",
            "linecolor": "white",
            "ticks": ""
           },
           "bgcolor": "#E5ECF6",
           "radialaxis": {
            "gridcolor": "white",
            "linecolor": "white",
            "ticks": ""
           }
          },
          "scene": {
           "xaxis": {
            "backgroundcolor": "#E5ECF6",
            "gridcolor": "white",
            "gridwidth": 2,
            "linecolor": "white",
            "showbackground": true,
            "ticks": "",
            "zerolinecolor": "white"
           },
           "yaxis": {
            "backgroundcolor": "#E5ECF6",
            "gridcolor": "white",
            "gridwidth": 2,
            "linecolor": "white",
            "showbackground": true,
            "ticks": "",
            "zerolinecolor": "white"
           },
           "zaxis": {
            "backgroundcolor": "#E5ECF6",
            "gridcolor": "white",
            "gridwidth": 2,
            "linecolor": "white",
            "showbackground": true,
            "ticks": "",
            "zerolinecolor": "white"
           }
          },
          "shapedefaults": {
           "line": {
            "color": "#2a3f5f"
           }
          },
          "ternary": {
           "aaxis": {
            "gridcolor": "white",
            "linecolor": "white",
            "ticks": ""
           },
           "baxis": {
            "gridcolor": "white",
            "linecolor": "white",
            "ticks": ""
           },
           "bgcolor": "#E5ECF6",
           "caxis": {
            "gridcolor": "white",
            "linecolor": "white",
            "ticks": ""
           }
          },
          "title": {
           "x": 0.05
          },
          "xaxis": {
           "automargin": true,
           "gridcolor": "white",
           "linecolor": "white",
           "ticks": "",
           "title": {
            "standoff": 15
           },
           "zerolinecolor": "white",
           "zerolinewidth": 2
          },
          "yaxis": {
           "automargin": true,
           "gridcolor": "white",
           "linecolor": "white",
           "ticks": "",
           "title": {
            "standoff": 15
           },
           "zerolinecolor": "white",
           "zerolinewidth": 2
          }
         }
        },
        "title": {
         "text": "Plotly Plot"
        }
       }
      }
     },
     "metadata": {},
     "output_type": "display_data"
    },
    {
     "name": "stdout",
     "output_type": "stream",
     "text": [
      "q_scalar: 1.1, l_scalar: 0.819545949423485, max stress: 7.687575220359728\n"
     ]
    }
   ],
   "source": [
    "q0 = q.copy()\n",
    "q_scalars = [0.35, 0.6, 1.0, 1.1]\n",
    "for q_scalar in q_scalars:\n",
    "    q_new = q0*q_scalar\n",
    "    net.update_shape(q_new)\n",
    "    l0, l_scalar = net.materialize_nonlinear(A, stress_data, strain_data, interpolation_kind = 'cubic')\n",
    "    net.initialize_shape_optimizer(function_type = 'standard',  method = 'Gauss-Seidel',options ={\"maxiter\": 1000, \"damping\": .1, \"correction_scalar\": 1.5, \"tol\": 1e-6})\n",
    "    net.optimize_vertices()\n",
    "    reference_point = [0,0,0]                         # The network will be scaler relative to this point\n",
    "    net.scale_vertices(reference_point, net.l_scalar, account_for_leafs = True) # If you don't provide a scalar, it will use network.l_scalar automatically\n",
    "    R, th = net.arc_param()\n",
    "    xyz = net.arc_points(n = 10)\n",
    "    net.auto_flip_curves(n = 10)        # Automatically flip the curvature of the edges. Directions will become 1, -1, 1, -1, ...\n",
    "    net.flip_curves()                   # Flip all the edges.\n",
    "    net.flip_curves([2, 5, 8], n = 10)\n",
    "    net.jump_at_intersection(intersection_width = printing_params['d_nozzle']*1.5, intersection_height = printing_params['layer_height'], interpolation_function=None) \n",
    "    net.net_plot(color=True, plot_type='arcs', elables=True, vlabels = True)\n",
    "    net.all_loop_to_path(start_loop_bools, end_loop_bools, L_loop, alpha_loop, n_points)\n",
    "    net.save_network(os.path.join(BYU_UW_root, 'networks', model_name + f'_even_q_{q_scalar}.pkl'))\n",
    "    print(f\"q_scalar: {q_scalar}, l_scalar: {l_scalar}, max stress: {np.max(net.f)/TPU_nl['A']}\")\n",
    "\n",
    "    g_code = replace_brackets(start_gcode, temperature_settings)\n",
    "    g_code += make_purge_line(g_code, printing_params, gen, point0, point1, comment='Purge line')\n",
    "    g_code += make_purge_line(g_code, printing_params, gen, point2, point3, comment='Purge line')\n",
    "    g_code += add_net_to_gcode(g_code, printing_params, gen, net)\n",
    "\n",
    "    g_code += end_gcode\n",
    "    with open(os.path.join('DATA', 'generated_gcodes', model_name + f'_even_q_{q_scalar}.gcode'), \"w\") as g_code_file:\n",
    "        g_code_file.write(g_code)\n",
    "    "
   ]
  },
  {
   "cell_type": "markdown",
   "metadata": {},
   "source": [
    "Generate specimens making inner part iteratively smaller"
   ]
  },
  {
   "cell_type": "code",
   "execution_count": 80,
   "metadata": {},
   "outputs": [
    {
     "name": "stdout",
     "output_type": "stream",
     "text": [
      "Iteration 0: Current error = 518.9673677576009\n",
      "Iteration 100: Current error = 0.2592064004108588\n",
      "Iteration 200: Current error = 0.03311929374292738\n",
      "Converged after 251 iterations.\n",
      "Final error: 0.03284340672462335\n"
     ]
    },
    {
     "data": {
      "application/vnd.plotly.v1+json": {
       "config": {
        "plotlyServerURL": "https://plot.ly"
       },
       "data": [
        {
         "line": {
          "color": "black",
          "width": 3
         },
         "mode": "lines",
         "type": "scatter3d",
         "x": [
          -68.34366141445935,
          -56.89354023896158,
          -45.44342784397304,
          -33.99332422763109,
          -22.543229393661022,
          null,
          -22.543229392923678,
          -16.860497215081907,
          -10.739921507774824,
          -4.211394953769883,
          2.693197346159806,
          null,
          2.6931973461597494,
          4.839738099279245,
          7.0842452169409,
          9.424554605003962,
          11.858409799323255,
          14.383464141372258,
          16.99728304082859,
          19.697346322941726,
          22.48105065841817,
          25.345712073482716,
          null,
          25.345712065696716,
          36.0006938111037,
          46.65568390674889,
          57.310682356357574,
          67.96568915806711,
          null,
          -68.1111186221242,
          -56.87508383765817,
          -45.63904070854187,
          -34.402989234775305,
          -23.166929414495826,
          null,
          -23.166929412498817,
          -20.661036267357673,
          -18.057538118478476,
          -15.35877070639178,
          -12.56715524289271,
          -9.685196238839609,
          -6.715479257220522,
          -3.660668593503061,
          -0.5235048853493254,
          2.6931973461597494,
          null,
          2.6931973461597494,
          7.619494363314388,
          12.988681341416921,
          18.77243087409863,
          24.940228355700313,
          null,
          24.940228359773755,
          35.773577347397804,
          46.606917567551136,
          57.44024901278317,
          68.27357168868184,
          null,
          -22.543229392923763,
          -22.796159849841843,
          -23.003204748550957,
          -23.164349926125965,
          -23.27958435941582,
          -23.348900165798455,
          -23.372292603719643,
          -23.349760073017364,
          -23.281304115031844,
          -23.166929412498916,
          null,
          -23.166929412499094,
          -11.03613296237424,
          1.095588333867882,
          13.224210871488507,
          25.345712073482666,
          null,
          25.3457120734829,
          25.12184965763595,
          24.979644588207066,
          24.919103248384545,
          24.940228355700356,
          null,
          24.940228356863372,
          13.069364074093755,
          1.198499688442098,
          -10.672364800120704,
          -22.543229391536443,
          null
         ],
         "y": [
          68.5683016423136,
          57.38811581581831,
          46.207920994609594,
          35.02771718427539,
          23.847504379227757,
          null,
          23.84750437749679,
          17.379818101818515,
          11.324823157411132,
          5.712091932835364,
          0.569036815745207,
          null,
          0.5690368157452781,
          -2.6196741309966853,
          -5.7402033337827305,
          -8.789542061247857,
          -11.764750221992145,
          -14.662959199339085,
          -17.481374617179256,
          -20.21727903423391,
          -22.868034564139307,
          -25.431085418826967,
          null,
          -25.431085413321853,
          -36.06663716211915,
          -46.70218054577708,
          -57.33771555684507,
          -67.97324220091105,
          null,
          -68.61348865926266,
          -57.9879930075258,
          -47.36250617913902,
          -36.737028174102306,
          -26.111558996140957,
          null,
          -26.11155899533952,
          -22.815005072058284,
          -19.594979355895575,
          -16.454370707969986,
          -13.395996740006126,
          -10.422601286501191,
          -7.536851943081103,
          -4.741337673254492,
          -2.0385664857120105,
          0.5690368157452355,
          null,
          0.569036815745207,
          6.849520394944221,
          12.755848144399764,
          18.256858745463774,
          23.32352930074589,
          null,
          23.323529301211238,
          34.49084909632802,
          45.6581773981452,
          56.82551420852542,
          67.99285952746868,
          null,
          23.847504377496847,
          18.300562331215367,
          12.75171810103909,
          7.201351256173206,
          1.6498414699775168,
          -3.9024315060054695,
          -9.455087868026284,
          -15.007747786110796,
          -20.56003143004132,
          -26.111558995339237,
          null,
          -26.111558995339465,
          -26.27280941208096,
          -26.21312187932449,
          -25.93251619302748,
          -25.43108541882691,
          null,
          -25.431085418826534,
          -13.243724061858439,
          -1.055136410092679,
          11.13413042482156,
          23.32352930074604,
          null,
          23.323529301211238,
          23.454537054523826,
          23.58553548529744,
          23.716524593532085,
          23.847504377365112,
          null
         ],
         "z": [
          0,
          0,
          0,
          0,
          0,
          null,
          0,
          0,
          0,
          0,
          0,
          null,
          0,
          0,
          0,
          0,
          0,
          0,
          0,
          0,
          0,
          0,
          null,
          0,
          0,
          0,
          0,
          0,
          null,
          0,
          0,
          0,
          0,
          0,
          null,
          0,
          0,
          0,
          0,
          0,
          0,
          0,
          0,
          0,
          0.19999999999999463,
          null,
          0.19999999999998974,
          0,
          0,
          0,
          0,
          null,
          0,
          0,
          0,
          0,
          0,
          null,
          0.19999999999995993,
          0,
          0,
          0,
          0,
          0,
          0,
          0,
          0,
          0.19999999999990017,
          null,
          0.1999999999999015,
          0,
          0,
          0,
          0.19999999999995524,
          null,
          0.1999999999998311,
          0,
          0,
          0,
          0.19999999999995133,
          null,
          0.1999999995824338,
          0,
          0,
          0,
          0.19999999953551484,
          null
         ]
        },
        {
         "mode": "text",
         "text": [
          "0"
         ],
         "type": "scatter3d",
         "x": [
          -45.4434454038963
         ],
         "y": [
          46.20790300935472
         ],
         "z": [
          0
         ]
        },
        {
         "mode": "text",
         "text": [
          "1"
         ],
         "type": "scatter3d",
         "x": [
          -9.92501602338195
         ],
         "y": [
          12.208270596621006
         ],
         "z": [
          0
         ]
        },
        {
         "mode": "text",
         "text": [
          "2"
         ],
         "type": "scatter3d",
         "x": [
          14.019454709821257
         ],
         "y": [
          -12.431024301540893
         ],
         "z": [
          0
         ]
        },
        {
         "mode": "text",
         "text": [
          "3"
         ],
         "type": "scatter3d",
         "x": [
          46.65570061917061
         ],
         "y": [
          -46.70216381299991
         ],
         "z": [
          0
         ]
        },
        {
         "mode": "text",
         "text": [
          "4"
         ],
         "type": "scatter3d",
         "x": [
          -45.63902401753169
         ],
         "y": [
          -47.362523826775146
         ],
         "z": [
          0
         ]
        },
        {
         "mode": "text",
         "text": [
          "5"
         ],
         "type": "scatter3d",
         "x": [
          -10.23686603316952
         ],
         "y": [
          -12.771261089797141
         ],
         "z": [
          0
         ]
        },
        {
         "mode": "text",
         "text": [
          "6"
         ],
         "type": "scatter3d",
         "x": [
          13.816712850930038
         ],
         "y": [
          11.946283058245566
         ],
         "z": [
          0
         ]
        },
        {
         "mode": "text",
         "text": [
          "7"
         ],
         "type": "scatter3d",
         "x": [
          46.60690002027905
         ],
         "y": [
          45.6581944143188
         ],
         "z": [
          0
         ]
        },
        {
         "mode": "text",
         "text": [
          "8"
         ],
         "type": "scatter3d",
         "x": [
          -22.855079402711233
         ],
         "y": [
          -1.1320273089213675
         ],
         "z": [
          0
         ]
        },
        {
         "mode": "text",
         "text": [
          "9"
         ],
         "type": "scatter3d",
         "x": [
          1.0893913304919725
         ],
         "y": [
          -25.771322207083266
         ],
         "z": [
          0
         ]
        },
        {
         "mode": "text",
         "text": [
          "10"
         ],
         "type": "scatter3d",
         "x": [
          25.14297021459153
         ],
         "y": [
          -1.0537780590405585
         ],
         "z": [
          0
         ]
        },
        {
         "mode": "text",
         "text": [
          "11"
         ],
         "type": "scatter3d",
         "x": [
          1.198499481388323
         ],
         "y": [
          23.58551683912134
         ],
         "z": [
          0
         ]
        },
        {
         "mode": "text",
         "text": [
          "0"
         ],
         "type": "scatter3d",
         "x": [
          -68.34366141486893
         ],
         "y": [
          68.56830164121267
         ],
         "z": [
          0
         ]
        },
        {
         "mode": "text",
         "text": [
          "1"
         ],
         "type": "scatter3d",
         "x": [
          -22.543229392923664
         ],
         "y": [
          23.84750437749678
         ],
         "z": [
          0
         ]
        },
        {
         "mode": "text",
         "text": [
          "2"
         ],
         "type": "scatter3d",
         "x": [
          2.6931973461597654
         ],
         "y": [
          0.5690368157452333
         ],
         "z": [
          0
         ]
        },
        {
         "mode": "text",
         "text": [
          "3"
         ],
         "type": "scatter3d",
         "x": [
          25.345712073482748
         ],
         "y": [
          -25.431085418827017
         ],
         "z": [
          0
         ]
        },
        {
         "mode": "text",
         "text": [
          "4"
         ],
         "type": "scatter3d",
         "x": [
          67.96568916485847
         ],
         "y": [
          -67.9732422071728
         ],
         "z": [
          0
         ]
        },
        {
         "mode": "text",
         "text": [
          "5"
         ],
         "type": "scatter3d",
         "x": [
          -68.11111862256458
         ],
         "y": [
          -68.61348865821078
         ],
         "z": [
          0
         ]
        },
        {
         "mode": "text",
         "text": [
          "6"
         ],
         "type": "scatter3d",
         "x": [
          -23.166929412498803
         ],
         "y": [
          -26.111558995339514
         ],
         "z": [
          0
         ]
        },
        {
         "mode": "text",
         "text": [
          "7"
         ],
         "type": "scatter3d",
         "x": [
          24.94022835570031
         ],
         "y": [
          23.3235293007459
         ],
         "z": [
          0
         ]
        },
        {
         "mode": "text",
         "text": [
          "8"
         ],
         "type": "scatter3d",
         "x": [
          68.27357168485779
         ],
         "y": [
          67.9928595278917
         ],
         "z": [
          0
         ]
        }
       ],
       "layout": {
        "scene": {
         "aspectmode": "data",
         "camera": {
          "eye": {
           "x": 0,
           "y": 0,
           "z": 15
          }
         }
        },
        "template": {
         "data": {
          "bar": [
           {
            "error_x": {
             "color": "#2a3f5f"
            },
            "error_y": {
             "color": "#2a3f5f"
            },
            "marker": {
             "line": {
              "color": "#E5ECF6",
              "width": 0.5
             },
             "pattern": {
              "fillmode": "overlay",
              "size": 10,
              "solidity": 0.2
             }
            },
            "type": "bar"
           }
          ],
          "barpolar": [
           {
            "marker": {
             "line": {
              "color": "#E5ECF6",
              "width": 0.5
             },
             "pattern": {
              "fillmode": "overlay",
              "size": 10,
              "solidity": 0.2
             }
            },
            "type": "barpolar"
           }
          ],
          "carpet": [
           {
            "aaxis": {
             "endlinecolor": "#2a3f5f",
             "gridcolor": "white",
             "linecolor": "white",
             "minorgridcolor": "white",
             "startlinecolor": "#2a3f5f"
            },
            "baxis": {
             "endlinecolor": "#2a3f5f",
             "gridcolor": "white",
             "linecolor": "white",
             "minorgridcolor": "white",
             "startlinecolor": "#2a3f5f"
            },
            "type": "carpet"
           }
          ],
          "choropleth": [
           {
            "colorbar": {
             "outlinewidth": 0,
             "ticks": ""
            },
            "type": "choropleth"
           }
          ],
          "contour": [
           {
            "colorbar": {
             "outlinewidth": 0,
             "ticks": ""
            },
            "colorscale": [
             [
              0,
              "#0d0887"
             ],
             [
              0.1111111111111111,
              "#46039f"
             ],
             [
              0.2222222222222222,
              "#7201a8"
             ],
             [
              0.3333333333333333,
              "#9c179e"
             ],
             [
              0.4444444444444444,
              "#bd3786"
             ],
             [
              0.5555555555555556,
              "#d8576b"
             ],
             [
              0.6666666666666666,
              "#ed7953"
             ],
             [
              0.7777777777777778,
              "#fb9f3a"
             ],
             [
              0.8888888888888888,
              "#fdca26"
             ],
             [
              1,
              "#f0f921"
             ]
            ],
            "type": "contour"
           }
          ],
          "contourcarpet": [
           {
            "colorbar": {
             "outlinewidth": 0,
             "ticks": ""
            },
            "type": "contourcarpet"
           }
          ],
          "heatmap": [
           {
            "colorbar": {
             "outlinewidth": 0,
             "ticks": ""
            },
            "colorscale": [
             [
              0,
              "#0d0887"
             ],
             [
              0.1111111111111111,
              "#46039f"
             ],
             [
              0.2222222222222222,
              "#7201a8"
             ],
             [
              0.3333333333333333,
              "#9c179e"
             ],
             [
              0.4444444444444444,
              "#bd3786"
             ],
             [
              0.5555555555555556,
              "#d8576b"
             ],
             [
              0.6666666666666666,
              "#ed7953"
             ],
             [
              0.7777777777777778,
              "#fb9f3a"
             ],
             [
              0.8888888888888888,
              "#fdca26"
             ],
             [
              1,
              "#f0f921"
             ]
            ],
            "type": "heatmap"
           }
          ],
          "heatmapgl": [
           {
            "colorbar": {
             "outlinewidth": 0,
             "ticks": ""
            },
            "colorscale": [
             [
              0,
              "#0d0887"
             ],
             [
              0.1111111111111111,
              "#46039f"
             ],
             [
              0.2222222222222222,
              "#7201a8"
             ],
             [
              0.3333333333333333,
              "#9c179e"
             ],
             [
              0.4444444444444444,
              "#bd3786"
             ],
             [
              0.5555555555555556,
              "#d8576b"
             ],
             [
              0.6666666666666666,
              "#ed7953"
             ],
             [
              0.7777777777777778,
              "#fb9f3a"
             ],
             [
              0.8888888888888888,
              "#fdca26"
             ],
             [
              1,
              "#f0f921"
             ]
            ],
            "type": "heatmapgl"
           }
          ],
          "histogram": [
           {
            "marker": {
             "pattern": {
              "fillmode": "overlay",
              "size": 10,
              "solidity": 0.2
             }
            },
            "type": "histogram"
           }
          ],
          "histogram2d": [
           {
            "colorbar": {
             "outlinewidth": 0,
             "ticks": ""
            },
            "colorscale": [
             [
              0,
              "#0d0887"
             ],
             [
              0.1111111111111111,
              "#46039f"
             ],
             [
              0.2222222222222222,
              "#7201a8"
             ],
             [
              0.3333333333333333,
              "#9c179e"
             ],
             [
              0.4444444444444444,
              "#bd3786"
             ],
             [
              0.5555555555555556,
              "#d8576b"
             ],
             [
              0.6666666666666666,
              "#ed7953"
             ],
             [
              0.7777777777777778,
              "#fb9f3a"
             ],
             [
              0.8888888888888888,
              "#fdca26"
             ],
             [
              1,
              "#f0f921"
             ]
            ],
            "type": "histogram2d"
           }
          ],
          "histogram2dcontour": [
           {
            "colorbar": {
             "outlinewidth": 0,
             "ticks": ""
            },
            "colorscale": [
             [
              0,
              "#0d0887"
             ],
             [
              0.1111111111111111,
              "#46039f"
             ],
             [
              0.2222222222222222,
              "#7201a8"
             ],
             [
              0.3333333333333333,
              "#9c179e"
             ],
             [
              0.4444444444444444,
              "#bd3786"
             ],
             [
              0.5555555555555556,
              "#d8576b"
             ],
             [
              0.6666666666666666,
              "#ed7953"
             ],
             [
              0.7777777777777778,
              "#fb9f3a"
             ],
             [
              0.8888888888888888,
              "#fdca26"
             ],
             [
              1,
              "#f0f921"
             ]
            ],
            "type": "histogram2dcontour"
           }
          ],
          "mesh3d": [
           {
            "colorbar": {
             "outlinewidth": 0,
             "ticks": ""
            },
            "type": "mesh3d"
           }
          ],
          "parcoords": [
           {
            "line": {
             "colorbar": {
              "outlinewidth": 0,
              "ticks": ""
             }
            },
            "type": "parcoords"
           }
          ],
          "pie": [
           {
            "automargin": true,
            "type": "pie"
           }
          ],
          "scatter": [
           {
            "fillpattern": {
             "fillmode": "overlay",
             "size": 10,
             "solidity": 0.2
            },
            "type": "scatter"
           }
          ],
          "scatter3d": [
           {
            "line": {
             "colorbar": {
              "outlinewidth": 0,
              "ticks": ""
             }
            },
            "marker": {
             "colorbar": {
              "outlinewidth": 0,
              "ticks": ""
             }
            },
            "type": "scatter3d"
           }
          ],
          "scattercarpet": [
           {
            "marker": {
             "colorbar": {
              "outlinewidth": 0,
              "ticks": ""
             }
            },
            "type": "scattercarpet"
           }
          ],
          "scattergeo": [
           {
            "marker": {
             "colorbar": {
              "outlinewidth": 0,
              "ticks": ""
             }
            },
            "type": "scattergeo"
           }
          ],
          "scattergl": [
           {
            "marker": {
             "colorbar": {
              "outlinewidth": 0,
              "ticks": ""
             }
            },
            "type": "scattergl"
           }
          ],
          "scattermapbox": [
           {
            "marker": {
             "colorbar": {
              "outlinewidth": 0,
              "ticks": ""
             }
            },
            "type": "scattermapbox"
           }
          ],
          "scatterpolar": [
           {
            "marker": {
             "colorbar": {
              "outlinewidth": 0,
              "ticks": ""
             }
            },
            "type": "scatterpolar"
           }
          ],
          "scatterpolargl": [
           {
            "marker": {
             "colorbar": {
              "outlinewidth": 0,
              "ticks": ""
             }
            },
            "type": "scatterpolargl"
           }
          ],
          "scatterternary": [
           {
            "marker": {
             "colorbar": {
              "outlinewidth": 0,
              "ticks": ""
             }
            },
            "type": "scatterternary"
           }
          ],
          "surface": [
           {
            "colorbar": {
             "outlinewidth": 0,
             "ticks": ""
            },
            "colorscale": [
             [
              0,
              "#0d0887"
             ],
             [
              0.1111111111111111,
              "#46039f"
             ],
             [
              0.2222222222222222,
              "#7201a8"
             ],
             [
              0.3333333333333333,
              "#9c179e"
             ],
             [
              0.4444444444444444,
              "#bd3786"
             ],
             [
              0.5555555555555556,
              "#d8576b"
             ],
             [
              0.6666666666666666,
              "#ed7953"
             ],
             [
              0.7777777777777778,
              "#fb9f3a"
             ],
             [
              0.8888888888888888,
              "#fdca26"
             ],
             [
              1,
              "#f0f921"
             ]
            ],
            "type": "surface"
           }
          ],
          "table": [
           {
            "cells": {
             "fill": {
              "color": "#EBF0F8"
             },
             "line": {
              "color": "white"
             }
            },
            "header": {
             "fill": {
              "color": "#C8D4E3"
             },
             "line": {
              "color": "white"
             }
            },
            "type": "table"
           }
          ]
         },
         "layout": {
          "annotationdefaults": {
           "arrowcolor": "#2a3f5f",
           "arrowhead": 0,
           "arrowwidth": 1
          },
          "autotypenumbers": "strict",
          "coloraxis": {
           "colorbar": {
            "outlinewidth": 0,
            "ticks": ""
           }
          },
          "colorscale": {
           "diverging": [
            [
             0,
             "#8e0152"
            ],
            [
             0.1,
             "#c51b7d"
            ],
            [
             0.2,
             "#de77ae"
            ],
            [
             0.3,
             "#f1b6da"
            ],
            [
             0.4,
             "#fde0ef"
            ],
            [
             0.5,
             "#f7f7f7"
            ],
            [
             0.6,
             "#e6f5d0"
            ],
            [
             0.7,
             "#b8e186"
            ],
            [
             0.8,
             "#7fbc41"
            ],
            [
             0.9,
             "#4d9221"
            ],
            [
             1,
             "#276419"
            ]
           ],
           "sequential": [
            [
             0,
             "#0d0887"
            ],
            [
             0.1111111111111111,
             "#46039f"
            ],
            [
             0.2222222222222222,
             "#7201a8"
            ],
            [
             0.3333333333333333,
             "#9c179e"
            ],
            [
             0.4444444444444444,
             "#bd3786"
            ],
            [
             0.5555555555555556,
             "#d8576b"
            ],
            [
             0.6666666666666666,
             "#ed7953"
            ],
            [
             0.7777777777777778,
             "#fb9f3a"
            ],
            [
             0.8888888888888888,
             "#fdca26"
            ],
            [
             1,
             "#f0f921"
            ]
           ],
           "sequentialminus": [
            [
             0,
             "#0d0887"
            ],
            [
             0.1111111111111111,
             "#46039f"
            ],
            [
             0.2222222222222222,
             "#7201a8"
            ],
            [
             0.3333333333333333,
             "#9c179e"
            ],
            [
             0.4444444444444444,
             "#bd3786"
            ],
            [
             0.5555555555555556,
             "#d8576b"
            ],
            [
             0.6666666666666666,
             "#ed7953"
            ],
            [
             0.7777777777777778,
             "#fb9f3a"
            ],
            [
             0.8888888888888888,
             "#fdca26"
            ],
            [
             1,
             "#f0f921"
            ]
           ]
          },
          "colorway": [
           "#636efa",
           "#EF553B",
           "#00cc96",
           "#ab63fa",
           "#FFA15A",
           "#19d3f3",
           "#FF6692",
           "#B6E880",
           "#FF97FF",
           "#FECB52"
          ],
          "font": {
           "color": "#2a3f5f"
          },
          "geo": {
           "bgcolor": "white",
           "lakecolor": "white",
           "landcolor": "#E5ECF6",
           "showlakes": true,
           "showland": true,
           "subunitcolor": "white"
          },
          "hoverlabel": {
           "align": "left"
          },
          "hovermode": "closest",
          "mapbox": {
           "style": "light"
          },
          "paper_bgcolor": "white",
          "plot_bgcolor": "#E5ECF6",
          "polar": {
           "angularaxis": {
            "gridcolor": "white",
            "linecolor": "white",
            "ticks": ""
           },
           "bgcolor": "#E5ECF6",
           "radialaxis": {
            "gridcolor": "white",
            "linecolor": "white",
            "ticks": ""
           }
          },
          "scene": {
           "xaxis": {
            "backgroundcolor": "#E5ECF6",
            "gridcolor": "white",
            "gridwidth": 2,
            "linecolor": "white",
            "showbackground": true,
            "ticks": "",
            "zerolinecolor": "white"
           },
           "yaxis": {
            "backgroundcolor": "#E5ECF6",
            "gridcolor": "white",
            "gridwidth": 2,
            "linecolor": "white",
            "showbackground": true,
            "ticks": "",
            "zerolinecolor": "white"
           },
           "zaxis": {
            "backgroundcolor": "#E5ECF6",
            "gridcolor": "white",
            "gridwidth": 2,
            "linecolor": "white",
            "showbackground": true,
            "ticks": "",
            "zerolinecolor": "white"
           }
          },
          "shapedefaults": {
           "line": {
            "color": "#2a3f5f"
           }
          },
          "ternary": {
           "aaxis": {
            "gridcolor": "white",
            "linecolor": "white",
            "ticks": ""
           },
           "baxis": {
            "gridcolor": "white",
            "linecolor": "white",
            "ticks": ""
           },
           "bgcolor": "#E5ECF6",
           "caxis": {
            "gridcolor": "white",
            "linecolor": "white",
            "ticks": ""
           }
          },
          "title": {
           "x": 0.05
          },
          "xaxis": {
           "automargin": true,
           "gridcolor": "white",
           "linecolor": "white",
           "ticks": "",
           "title": {
            "standoff": 15
           },
           "zerolinecolor": "white",
           "zerolinewidth": 2
          },
          "yaxis": {
           "automargin": true,
           "gridcolor": "white",
           "linecolor": "white",
           "ticks": "",
           "title": {
            "standoff": 15
           },
           "zerolinecolor": "white",
           "zerolinewidth": 2
          }
         }
        },
        "title": {
         "text": "Plotly Plot"
        }
       }
      }
     },
     "metadata": {},
     "output_type": "display_data"
    },
    {
     "name": "stdout",
     "output_type": "stream",
     "text": [
      "l_scalar: 0.8276191236216445, max stress: 7.550804614575385\n",
      "Iteration 0: Current error = 639.6171521133917\n",
      "Iteration 100: Current error = 0.6941329975969883\n",
      "Iteration 200: Current error = 0.4425428936764285\n",
      "Iteration 300: Current error = 0.4423208446467706\n",
      "Iteration 400: Current error = 0.44371957840479537\n",
      "Iteration 500: Current error = 0.441287400377389\n",
      "Iteration 600: Current error = 0.44094638952688514\n",
      "Iteration 700: Current error = 0.44175969215554\n",
      "Iteration 800: Current error = 0.4391006979824658\n",
      "Converged after 800 iterations.\n",
      "Final error: 0.4391006979824658\n"
     ]
    },
    {
     "data": {
      "application/vnd.plotly.v1+json": {
       "config": {
        "plotlyServerURL": "https://plot.ly"
       },
       "data": [
        {
         "line": {
          "color": "black",
          "width": 3
         },
         "mode": "lines",
         "type": "scatter3d",
         "x": [
          -67.62089164182544,
          -52.90822849050164,
          -38.195576798170805,
          -23.482936549931765,
          -8.770307760685682,
          null,
          -8.77030776200288,
          -6.889924384427362,
          -4.385047016857806,
          -1.358591773799354,
          2.0650955311078105,
          null,
          2.0650955311078185,
          2.6412402978526224,
          3.356627691309953,
          4.205565879325505,
          5.181300460410297,
          6.276068203742133,
          7.481158815709499,
          8.786984241565001,
          10.183154950804246,
          11.658562599321016,
          null,
          11.65856259688735,
          25.521568678319454,
          39.38458560034633,
          53.24761336296797,
          67.11065196618438,
          null,
          -67.18344724923372,
          -52.61589725315571,
          -38.04833637550473,
          -23.480764605104923,
          -8.913181953132153,
          null,
          -8.913181949099705,
          -8.177239093508533,
          -7.302162573033094,
          -6.294366827630533,
          -5.161239148751028,
          -3.911085529401916,
          -2.5530697799939404,
          -1.0971463562593957,
          0.4460126083765452,
          2.0650955311078203,
          null,
          2.0650955311078203,
          3.6079649265356455,
          5.780090663797145,
          8.48487915282966,
          11.602049497350844,
          null,
          11.602049484848976,
          25.58763697743416,
          39.57321307435632,
          53.558777779340744,
          67.54433109238744,
          null,
          -8.7703077620029,
          -8.986655697939113,
          -9.152978298815782,
          -9.269202875273521,
          -9.335278632712232,
          -9.351176693490146,
          -9.316890109544616,
          -9.232433865428618,
          -9.097844871761936,
          -8.913181949099723,
          null,
          -8.913181949099718,
          -3.7710629996418086,
          1.3787901174084178,
          6.525591740575848,
          11.658562599321042,
          null,
          11.65856260061264,
          11.644428109750152,
          11.63029776327312,
          11.6161715593189,
          11.602049498818815,
          null,
          11.602049497350878,
          6.510870548609008,
          1.4175309301678678,
          -3.6766387737330906,
          -8.770307762002863,
          null
         ],
         "y": [
          67.7081214748323,
          53.12542895227671,
          38.54272487387061,
          23.96000923961401,
          9.377282053232193,
          null,
          9.377282054846734,
          6.0888596559247095,
          3.2471783061192454,
          0.9689921455611579,
          -0.6520966116054225,
          null,
          -0.6520966116054243,
          -2.2404225174399093,
          -3.7710899707669414,
          -5.231920531893462,
          -6.611291403946244,
          -7.898227907256508,
          -9.082490797133786,
          -10.154657730303068,
          -11.106198231834547,
          -11.929541566106803,
          null,
          -11.929541565477848,
          -25.73236696794629,
          -39.53518148139119,
          -53.33798510953784,
          -67.14077784866095,
          null,
          -67.6432938836515,
          -53.78142998740077,
          -39.91957753151655,
          -26.05773651972413,
          -12.195906948298216,
          null,
          -12.195906943669101,
          -10.53779842740621,
          -8.948717931738415,
          -7.440313651067049,
          -6.023642411238853,
          -4.709088621381806,
          -3.5062881546546336,
          -2.424057715875403,
          -1.4703302137748615,
          -0.6520966116054296,
          null,
          -0.6520966116054314,
          2.512200828484967,
          5.2825968366824805,
          7.535892975743589,
          9.171886039282725,
          null,
          9.171886026859283,
          23.67893524467945,
          38.18599544838071,
          52.69306663796306,
          67.20014880597591,
          null,
          9.377282054846729,
          6.986481630255369,
          4.591681034788708,
          2.1939268882096,
          -0.20573289890377233,
          -2.6062495831351793,
          -5.00657404657162,
          -7.405657255307807,
          -9.802450717914384,
          -12.195906943669087,
          null,
          -12.195906943669115,
          -12.482644877551735,
          -12.533819147535908,
          -12.349322576127506,
          -11.92954156610682,
          null,
          -11.929541564120882,
          -6.654184679446189,
          -1.3788277836647467,
          3.896529123205255,
          9.17188604117473,
          null,
          9.171886039282754,
          9.346716550557346,
          9.439238585785631,
          9.449427974507557,
          9.377282054846773,
          null
         ],
         "z": [
          0,
          0,
          0,
          0,
          0,
          null,
          0,
          0,
          0,
          0,
          0,
          null,
          0,
          0,
          0,
          0,
          0,
          0,
          0,
          0,
          0,
          0,
          null,
          0,
          0,
          0,
          0,
          0,
          null,
          0,
          0,
          0,
          0,
          0,
          null,
          0,
          0,
          0,
          0,
          0,
          0,
          0,
          0,
          0,
          0.19999999999999965,
          null,
          0.19999999999999907,
          0,
          0,
          0,
          0,
          null,
          0,
          0,
          0,
          0,
          0,
          null,
          0.1999999999999929,
          0,
          0,
          0,
          0,
          0,
          0,
          0,
          0,
          0.19999999999999205,
          null,
          0.19999999999999415,
          0,
          0,
          0,
          0.1999999999999937,
          null,
          0.19999999921033393,
          0,
          0,
          0,
          0.19999999920176484,
          null,
          0.19999999999998574,
          0,
          0,
          0,
          0.19999999999998427,
          null
         ]
        },
        {
         "mode": "text",
         "text": [
          "0"
         ],
         "type": "scatter3d",
         "x": [
          -38.195599701003076
         ],
         "y": [
          38.54270176400886
         ],
         "z": [
          0
         ]
        },
        {
         "mode": "text",
         "text": [
          "1"
         ],
         "type": "scatter3d",
         "x": [
          -3.3526061154475295
         ],
         "y": [
          4.362592721620651
         ],
         "z": [
          0
         ]
        },
        {
         "mode": "text",
         "text": [
          "2"
         ],
         "type": "scatter3d",
         "x": [
          6.861829065214425
         ],
         "y": [
          -6.290819088856117
         ],
         "z": [
          0
         ]
        },
        {
         "mode": "text",
         "text": [
          "3"
         ],
         "type": "scatter3d",
         "x": [
          39.384607281830306
         ],
         "y": [
          -39.535159708168706
         ],
         "z": [
          0
         ]
        },
        {
         "mode": "text",
         "text": [
          "4"
         ],
         "type": "scatter3d",
         "x": [
          -38.04831459844243
         ],
         "y": [
          -39.91960041138233
         ],
         "z": [
          0
         ]
        },
        {
         "mode": "text",
         "text": [
          "5"
         ],
         "type": "scatter3d",
         "x": [
          -3.4240432089959425
         ],
         "y": [
          -6.424001777637265
         ],
         "z": [
          0
         ]
        },
        {
         "mode": "text",
         "text": [
          "6"
         ],
         "type": "scatter3d",
         "x": [
          6.833572514229333
         ],
         "y": [
          4.259894713838649
         ],
         "z": [
          0
         ]
        },
        {
         "mode": "text",
         "text": [
          "7"
         ],
         "type": "scatter3d",
         "x": [
          39.573190299824894
         ],
         "y": [
          38.18601743066799
         ],
         "z": [
          0
         ]
        },
        {
         "mode": "text",
         "text": [
          "8"
         ],
         "type": "scatter3d",
         "x": [
          -8.841744855551292
         ],
         "y": [
          -1.4093124444111869
         ],
         "z": [
          0
         ]
        },
        {
         "mode": "text",
         "text": [
          "9"
         ],
         "type": "scatter3d",
         "x": [
          1.3726903251106624
         ],
         "y": [
          -12.062724254887954
         ],
         "z": [
          0
         ]
        },
        {
         "mode": "text",
         "text": [
          "10"
         ],
         "type": "scatter3d",
         "x": [
          11.630306048335939
         ],
         "y": [
          -1.3788277634120405
         ],
         "z": [
          0
         ]
        },
        {
         "mode": "text",
         "text": [
          "11"
         ],
         "type": "scatter3d",
         "x": [
          1.4158708676739833
         ],
         "y": [
          9.274584047064728
         ],
         "z": [
          0
         ]
        },
        {
         "mode": "text",
         "text": [
          "0"
         ],
         "type": "scatter3d",
         "x": [
          -67.62089164000326
         ],
         "y": [
          67.70812147317099
         ],
         "z": [
          0
         ]
        },
        {
         "mode": "text",
         "text": [
          "1"
         ],
         "type": "scatter3d",
         "x": [
          -8.77030776200288
         ],
         "y": [
          9.377282054846729
         ],
         "z": [
          0
         ]
        },
        {
         "mode": "text",
         "text": [
          "2"
         ],
         "type": "scatter3d",
         "x": [
          2.0650955311078207
         ],
         "y": [
          -0.6520966116054286
         ],
         "z": [
          0
         ]
        },
        {
         "mode": "text",
         "text": [
          "3"
         ],
         "type": "scatter3d",
         "x": [
          11.65856259932103
         ],
         "y": [
          -11.929541566106806
         ],
         "z": [
          0
         ]
        },
        {
         "mode": "text",
         "text": [
          "4"
         ],
         "type": "scatter3d",
         "x": [
          67.11065196433958
         ],
         "y": [
          -67.1407778502306
         ],
         "z": [
          0
         ]
        },
        {
         "mode": "text",
         "text": [
          "5"
         ],
         "type": "scatter3d",
         "x": [
          -67.18344724778515
         ],
         "y": [
          -67.64329387909557
         ],
         "z": [
          0
         ]
        },
        {
         "mode": "text",
         "text": [
          "6"
         ],
         "type": "scatter3d",
         "x": [
          -8.913181949099705
         ],
         "y": [
          -12.195906943669103
         ],
         "z": [
          0
         ]
        },
        {
         "mode": "text",
         "text": [
          "7"
         ],
         "type": "scatter3d",
         "x": [
          11.602049497350846
         ],
         "y": [
          9.171886039282725
         ],
         "z": [
          0
         ]
        },
        {
         "mode": "text",
         "text": [
          "8"
         ],
         "type": "scatter3d",
         "x": [
          67.54433110229894
         ],
         "y": [
          67.20014882205325
         ],
         "z": [
          0
         ]
        }
       ],
       "layout": {
        "scene": {
         "aspectmode": "data",
         "camera": {
          "eye": {
           "x": 0,
           "y": 0,
           "z": 15
          }
         }
        },
        "template": {
         "data": {
          "bar": [
           {
            "error_x": {
             "color": "#2a3f5f"
            },
            "error_y": {
             "color": "#2a3f5f"
            },
            "marker": {
             "line": {
              "color": "#E5ECF6",
              "width": 0.5
             },
             "pattern": {
              "fillmode": "overlay",
              "size": 10,
              "solidity": 0.2
             }
            },
            "type": "bar"
           }
          ],
          "barpolar": [
           {
            "marker": {
             "line": {
              "color": "#E5ECF6",
              "width": 0.5
             },
             "pattern": {
              "fillmode": "overlay",
              "size": 10,
              "solidity": 0.2
             }
            },
            "type": "barpolar"
           }
          ],
          "carpet": [
           {
            "aaxis": {
             "endlinecolor": "#2a3f5f",
             "gridcolor": "white",
             "linecolor": "white",
             "minorgridcolor": "white",
             "startlinecolor": "#2a3f5f"
            },
            "baxis": {
             "endlinecolor": "#2a3f5f",
             "gridcolor": "white",
             "linecolor": "white",
             "minorgridcolor": "white",
             "startlinecolor": "#2a3f5f"
            },
            "type": "carpet"
           }
          ],
          "choropleth": [
           {
            "colorbar": {
             "outlinewidth": 0,
             "ticks": ""
            },
            "type": "choropleth"
           }
          ],
          "contour": [
           {
            "colorbar": {
             "outlinewidth": 0,
             "ticks": ""
            },
            "colorscale": [
             [
              0,
              "#0d0887"
             ],
             [
              0.1111111111111111,
              "#46039f"
             ],
             [
              0.2222222222222222,
              "#7201a8"
             ],
             [
              0.3333333333333333,
              "#9c179e"
             ],
             [
              0.4444444444444444,
              "#bd3786"
             ],
             [
              0.5555555555555556,
              "#d8576b"
             ],
             [
              0.6666666666666666,
              "#ed7953"
             ],
             [
              0.7777777777777778,
              "#fb9f3a"
             ],
             [
              0.8888888888888888,
              "#fdca26"
             ],
             [
              1,
              "#f0f921"
             ]
            ],
            "type": "contour"
           }
          ],
          "contourcarpet": [
           {
            "colorbar": {
             "outlinewidth": 0,
             "ticks": ""
            },
            "type": "contourcarpet"
           }
          ],
          "heatmap": [
           {
            "colorbar": {
             "outlinewidth": 0,
             "ticks": ""
            },
            "colorscale": [
             [
              0,
              "#0d0887"
             ],
             [
              0.1111111111111111,
              "#46039f"
             ],
             [
              0.2222222222222222,
              "#7201a8"
             ],
             [
              0.3333333333333333,
              "#9c179e"
             ],
             [
              0.4444444444444444,
              "#bd3786"
             ],
             [
              0.5555555555555556,
              "#d8576b"
             ],
             [
              0.6666666666666666,
              "#ed7953"
             ],
             [
              0.7777777777777778,
              "#fb9f3a"
             ],
             [
              0.8888888888888888,
              "#fdca26"
             ],
             [
              1,
              "#f0f921"
             ]
            ],
            "type": "heatmap"
           }
          ],
          "heatmapgl": [
           {
            "colorbar": {
             "outlinewidth": 0,
             "ticks": ""
            },
            "colorscale": [
             [
              0,
              "#0d0887"
             ],
             [
              0.1111111111111111,
              "#46039f"
             ],
             [
              0.2222222222222222,
              "#7201a8"
             ],
             [
              0.3333333333333333,
              "#9c179e"
             ],
             [
              0.4444444444444444,
              "#bd3786"
             ],
             [
              0.5555555555555556,
              "#d8576b"
             ],
             [
              0.6666666666666666,
              "#ed7953"
             ],
             [
              0.7777777777777778,
              "#fb9f3a"
             ],
             [
              0.8888888888888888,
              "#fdca26"
             ],
             [
              1,
              "#f0f921"
             ]
            ],
            "type": "heatmapgl"
           }
          ],
          "histogram": [
           {
            "marker": {
             "pattern": {
              "fillmode": "overlay",
              "size": 10,
              "solidity": 0.2
             }
            },
            "type": "histogram"
           }
          ],
          "histogram2d": [
           {
            "colorbar": {
             "outlinewidth": 0,
             "ticks": ""
            },
            "colorscale": [
             [
              0,
              "#0d0887"
             ],
             [
              0.1111111111111111,
              "#46039f"
             ],
             [
              0.2222222222222222,
              "#7201a8"
             ],
             [
              0.3333333333333333,
              "#9c179e"
             ],
             [
              0.4444444444444444,
              "#bd3786"
             ],
             [
              0.5555555555555556,
              "#d8576b"
             ],
             [
              0.6666666666666666,
              "#ed7953"
             ],
             [
              0.7777777777777778,
              "#fb9f3a"
             ],
             [
              0.8888888888888888,
              "#fdca26"
             ],
             [
              1,
              "#f0f921"
             ]
            ],
            "type": "histogram2d"
           }
          ],
          "histogram2dcontour": [
           {
            "colorbar": {
             "outlinewidth": 0,
             "ticks": ""
            },
            "colorscale": [
             [
              0,
              "#0d0887"
             ],
             [
              0.1111111111111111,
              "#46039f"
             ],
             [
              0.2222222222222222,
              "#7201a8"
             ],
             [
              0.3333333333333333,
              "#9c179e"
             ],
             [
              0.4444444444444444,
              "#bd3786"
             ],
             [
              0.5555555555555556,
              "#d8576b"
             ],
             [
              0.6666666666666666,
              "#ed7953"
             ],
             [
              0.7777777777777778,
              "#fb9f3a"
             ],
             [
              0.8888888888888888,
              "#fdca26"
             ],
             [
              1,
              "#f0f921"
             ]
            ],
            "type": "histogram2dcontour"
           }
          ],
          "mesh3d": [
           {
            "colorbar": {
             "outlinewidth": 0,
             "ticks": ""
            },
            "type": "mesh3d"
           }
          ],
          "parcoords": [
           {
            "line": {
             "colorbar": {
              "outlinewidth": 0,
              "ticks": ""
             }
            },
            "type": "parcoords"
           }
          ],
          "pie": [
           {
            "automargin": true,
            "type": "pie"
           }
          ],
          "scatter": [
           {
            "fillpattern": {
             "fillmode": "overlay",
             "size": 10,
             "solidity": 0.2
            },
            "type": "scatter"
           }
          ],
          "scatter3d": [
           {
            "line": {
             "colorbar": {
              "outlinewidth": 0,
              "ticks": ""
             }
            },
            "marker": {
             "colorbar": {
              "outlinewidth": 0,
              "ticks": ""
             }
            },
            "type": "scatter3d"
           }
          ],
          "scattercarpet": [
           {
            "marker": {
             "colorbar": {
              "outlinewidth": 0,
              "ticks": ""
             }
            },
            "type": "scattercarpet"
           }
          ],
          "scattergeo": [
           {
            "marker": {
             "colorbar": {
              "outlinewidth": 0,
              "ticks": ""
             }
            },
            "type": "scattergeo"
           }
          ],
          "scattergl": [
           {
            "marker": {
             "colorbar": {
              "outlinewidth": 0,
              "ticks": ""
             }
            },
            "type": "scattergl"
           }
          ],
          "scattermapbox": [
           {
            "marker": {
             "colorbar": {
              "outlinewidth": 0,
              "ticks": ""
             }
            },
            "type": "scattermapbox"
           }
          ],
          "scatterpolar": [
           {
            "marker": {
             "colorbar": {
              "outlinewidth": 0,
              "ticks": ""
             }
            },
            "type": "scatterpolar"
           }
          ],
          "scatterpolargl": [
           {
            "marker": {
             "colorbar": {
              "outlinewidth": 0,
              "ticks": ""
             }
            },
            "type": "scatterpolargl"
           }
          ],
          "scatterternary": [
           {
            "marker": {
             "colorbar": {
              "outlinewidth": 0,
              "ticks": ""
             }
            },
            "type": "scatterternary"
           }
          ],
          "surface": [
           {
            "colorbar": {
             "outlinewidth": 0,
             "ticks": ""
            },
            "colorscale": [
             [
              0,
              "#0d0887"
             ],
             [
              0.1111111111111111,
              "#46039f"
             ],
             [
              0.2222222222222222,
              "#7201a8"
             ],
             [
              0.3333333333333333,
              "#9c179e"
             ],
             [
              0.4444444444444444,
              "#bd3786"
             ],
             [
              0.5555555555555556,
              "#d8576b"
             ],
             [
              0.6666666666666666,
              "#ed7953"
             ],
             [
              0.7777777777777778,
              "#fb9f3a"
             ],
             [
              0.8888888888888888,
              "#fdca26"
             ],
             [
              1,
              "#f0f921"
             ]
            ],
            "type": "surface"
           }
          ],
          "table": [
           {
            "cells": {
             "fill": {
              "color": "#EBF0F8"
             },
             "line": {
              "color": "white"
             }
            },
            "header": {
             "fill": {
              "color": "#C8D4E3"
             },
             "line": {
              "color": "white"
             }
            },
            "type": "table"
           }
          ]
         },
         "layout": {
          "annotationdefaults": {
           "arrowcolor": "#2a3f5f",
           "arrowhead": 0,
           "arrowwidth": 1
          },
          "autotypenumbers": "strict",
          "coloraxis": {
           "colorbar": {
            "outlinewidth": 0,
            "ticks": ""
           }
          },
          "colorscale": {
           "diverging": [
            [
             0,
             "#8e0152"
            ],
            [
             0.1,
             "#c51b7d"
            ],
            [
             0.2,
             "#de77ae"
            ],
            [
             0.3,
             "#f1b6da"
            ],
            [
             0.4,
             "#fde0ef"
            ],
            [
             0.5,
             "#f7f7f7"
            ],
            [
             0.6,
             "#e6f5d0"
            ],
            [
             0.7,
             "#b8e186"
            ],
            [
             0.8,
             "#7fbc41"
            ],
            [
             0.9,
             "#4d9221"
            ],
            [
             1,
             "#276419"
            ]
           ],
           "sequential": [
            [
             0,
             "#0d0887"
            ],
            [
             0.1111111111111111,
             "#46039f"
            ],
            [
             0.2222222222222222,
             "#7201a8"
            ],
            [
             0.3333333333333333,
             "#9c179e"
            ],
            [
             0.4444444444444444,
             "#bd3786"
            ],
            [
             0.5555555555555556,
             "#d8576b"
            ],
            [
             0.6666666666666666,
             "#ed7953"
            ],
            [
             0.7777777777777778,
             "#fb9f3a"
            ],
            [
             0.8888888888888888,
             "#fdca26"
            ],
            [
             1,
             "#f0f921"
            ]
           ],
           "sequentialminus": [
            [
             0,
             "#0d0887"
            ],
            [
             0.1111111111111111,
             "#46039f"
            ],
            [
             0.2222222222222222,
             "#7201a8"
            ],
            [
             0.3333333333333333,
             "#9c179e"
            ],
            [
             0.4444444444444444,
             "#bd3786"
            ],
            [
             0.5555555555555556,
             "#d8576b"
            ],
            [
             0.6666666666666666,
             "#ed7953"
            ],
            [
             0.7777777777777778,
             "#fb9f3a"
            ],
            [
             0.8888888888888888,
             "#fdca26"
            ],
            [
             1,
             "#f0f921"
            ]
           ]
          },
          "colorway": [
           "#636efa",
           "#EF553B",
           "#00cc96",
           "#ab63fa",
           "#FFA15A",
           "#19d3f3",
           "#FF6692",
           "#B6E880",
           "#FF97FF",
           "#FECB52"
          ],
          "font": {
           "color": "#2a3f5f"
          },
          "geo": {
           "bgcolor": "white",
           "lakecolor": "white",
           "landcolor": "#E5ECF6",
           "showlakes": true,
           "showland": true,
           "subunitcolor": "white"
          },
          "hoverlabel": {
           "align": "left"
          },
          "hovermode": "closest",
          "mapbox": {
           "style": "light"
          },
          "paper_bgcolor": "white",
          "plot_bgcolor": "#E5ECF6",
          "polar": {
           "angularaxis": {
            "gridcolor": "white",
            "linecolor": "white",
            "ticks": ""
           },
           "bgcolor": "#E5ECF6",
           "radialaxis": {
            "gridcolor": "white",
            "linecolor": "white",
            "ticks": ""
           }
          },
          "scene": {
           "xaxis": {
            "backgroundcolor": "#E5ECF6",
            "gridcolor": "white",
            "gridwidth": 2,
            "linecolor": "white",
            "showbackground": true,
            "ticks": "",
            "zerolinecolor": "white"
           },
           "yaxis": {
            "backgroundcolor": "#E5ECF6",
            "gridcolor": "white",
            "gridwidth": 2,
            "linecolor": "white",
            "showbackground": true,
            "ticks": "",
            "zerolinecolor": "white"
           },
           "zaxis": {
            "backgroundcolor": "#E5ECF6",
            "gridcolor": "white",
            "gridwidth": 2,
            "linecolor": "white",
            "showbackground": true,
            "ticks": "",
            "zerolinecolor": "white"
           }
          },
          "shapedefaults": {
           "line": {
            "color": "#2a3f5f"
           }
          },
          "ternary": {
           "aaxis": {
            "gridcolor": "white",
            "linecolor": "white",
            "ticks": ""
           },
           "baxis": {
            "gridcolor": "white",
            "linecolor": "white",
            "ticks": ""
           },
           "bgcolor": "#E5ECF6",
           "caxis": {
            "gridcolor": "white",
            "linecolor": "white",
            "ticks": ""
           }
          },
          "title": {
           "x": 0.05
          },
          "xaxis": {
           "automargin": true,
           "gridcolor": "white",
           "linecolor": "white",
           "ticks": "",
           "title": {
            "standoff": 15
           },
           "zerolinecolor": "white",
           "zerolinewidth": 2
          },
          "yaxis": {
           "automargin": true,
           "gridcolor": "white",
           "linecolor": "white",
           "ticks": "",
           "title": {
            "standoff": 15
           },
           "zerolinecolor": "white",
           "zerolinewidth": 2
          }
         }
        },
        "title": {
         "text": "Plotly Plot"
        }
       }
      }
     },
     "metadata": {},
     "output_type": "display_data"
    },
    {
     "name": "stdout",
     "output_type": "stream",
     "text": [
      "l_scalar: 0.845181197131859, max stress: 7.205982721276014\n",
      "Iteration 0: Current error = 212.72245552701546\n",
      "Iteration 100: Current error = 0.10670760923392335\n",
      "Iteration 200: Current error = 0.025318110299574408\n",
      "Iteration 300: Current error = 0.025143569161806923\n",
      "Converged after 324 iterations.\n",
      "Final error: 0.025230618770351463\n"
     ]
    },
    {
     "data": {
      "application/vnd.plotly.v1+json": {
       "config": {
        "plotlyServerURL": "https://plot.ly"
       },
       "data": [
        {
         "line": {
          "color": "black",
          "width": 3
         },
         "mode": "lines",
         "type": "scatter3d",
         "x": [
          -72.06009068712592,
          -54.87904413416982,
          -37.69801101461053,
          -20.516991332173347,
          -3.3359850868582726,
          null,
          -3.3359850951786534,
          -2.325117449599647,
          -1.1123067322654698,
          0.2770266506723962,
          1.813762393489955,
          null,
          1.813762393489963,
          2.162520367140795,
          2.5563006180637586,
          2.9934952526728758,
          3.4723191066609775,
          3.990817034228243,
          4.5468718913835104,
          5.138213180720722,
          5.762426322371992,
          6.416962513281816,
          null,
          6.4169625118374825,
          22.77153914794326,
          39.12612861022353,
          55.48073089122772,
          71.83534599840641,
          null,
          -71.83397774398327,
          -54.73384429514408,
          -37.633698005229235,
          -20.53353887051344,
          -3.433366894721985,
          null,
          -3.4333668909344564,
          -3.015661794168418,
          -2.5517486641286613,
          -2.0434678726588587,
          -1.492835800837117,
          -0.9020368398685576,
          -0.27341472547142587,
          0.3905367598662828,
          1.0871836798749328,
          1.8137623934899594,
          null,
          1.8137623934899612,
          2.675830878879694,
          3.736687571106838,
          4.9733483256593995,
          6.359020089617787,
          null,
          6.359020080417395,
          22.780987113714218,
          39.20294073596597,
          55.62488095462322,
          72.0468077622354,
          null,
          -3.335985095178657,
          -3.433100011780624,
          -3.5086769703331626,
          -3.562689193541459,
          -3.5951175446044275,
          -3.6059505339949283,
          -3.5951843235305887,
          -3.5628227277336677,
          -3.5088772124795824,
          -3.4333668909344652,
          null,
          -3.4333668909344657,
          -0.9707306093886153,
          1.494442964161724,
          3.958293443236656,
          6.416962513281799,
          null,
          6.416962512768805,
          6.40247393772006,
          6.387987342197448,
          6.373502726200968,
          6.359020089264959,
          null,
          6.3590200896177835,
          3.9358469709500756,
          1.5120832493222751,
          -0.9119633573355267,
          -3.3359850951786587,
          null
         ],
         "y": [
          72.08308974653482,
          54.97526129707694,
          37.867419354617596,
          20.75956391915679,
          3.6516949869692326,
          null,
          3.65169498291547,
          2.179787571380138,
          0.8692705020787024,
          -0.2523879022786648,
          -1.1616777800173619,
          null,
          -1.161677780017357,
          -1.8777588385573867,
          -2.5701036374602757,
          -3.2358851767461307,
          -3.8723849202156972,
          -4.477003895846867,
          -5.047273307983689,
          -5.580864617985865,
          -6.0755990521772745,
          -6.529456498270321,
          null,
          -6.5294564962387085,
          -22.857624858617783,
          -39.1857803799212,
          -55.513923056423664,
          -71.84205288812518,
          null,
          -72.0718521438539,
          -55.71963520720601,
          -39.367431696504354,
          -23.015241622924805,
          -6.6630649752914906,
          null,
          -6.663064970768538,
          -5.915899835061715,
          -5.196512668331,
          -4.507757323594603,
          -3.8523661355538916,
          -3.232939081254033,
          -2.6519334658155937,
          -2.1116541741543546,
          -1.6142445273614996,
          -1.1616777800173619,
          null,
          -1.1616777800173619,
          0.25614398182470577,
          1.5320607896189982,
          2.6384290827314594,
          3.5512786784609762,
          null,
          3.551278665661812,
          20.623259142041206,
          37.695252511650324,
          54.767258781939745,
          71.83927794918418,
          null,
          3.6516949829154726,
          2.5083216168573683,
          1.3633228899700427,
          0.2171044810349012,
          -0.9299274990271125,
          -2.0773666510428144,
          -3.2248064315759297,
          -4.371840296967499,
          -5.518061847376355,
          -6.663064970768514,
          null,
          -6.663064970768531,
          -6.775931025093634,
          -6.79127552489701,
          -6.709074441160887,
          -6.529456498270328,
          null,
          -6.529456496846251,
          -4.009272719740693,
          -1.4890889312555373,
          1.03109486860194,
          3.5512786798390152,
          null,
          3.5512786784609887,
          3.6173474529125826,
          3.656109131311041,
          3.6675587925234368,
          3.651694982915501,
          null
         ],
         "z": [
          0,
          0,
          0,
          0,
          0,
          null,
          0,
          0,
          0,
          0,
          0,
          null,
          0,
          0,
          0,
          0,
          0,
          0,
          0,
          0,
          0,
          0,
          null,
          0,
          0,
          0,
          0,
          0,
          null,
          0,
          0,
          0,
          0,
          0,
          null,
          0,
          0,
          0,
          0,
          0,
          0,
          0,
          0,
          0,
          0.19999999999999932,
          null,
          0.1999999999999998,
          0,
          0,
          0,
          0,
          null,
          0,
          0,
          0,
          0,
          0,
          null,
          0.1999999999999973,
          0,
          0,
          0,
          0,
          0,
          0,
          0,
          0,
          0.19999999999999116,
          null,
          0.1999999999999958,
          0,
          0,
          0,
          0.1999999999999929,
          null,
          0.19999999949544522,
          0,
          0,
          0,
          0.19999999952583644,
          null,
          0.19999999999999563,
          0,
          0,
          0,
          0.19999999999998833,
          null
         ]
        },
        {
         "mode": "text",
         "text": [
          "0"
         ],
         "type": "scatter3d",
         "x": [
          -37.698037893847
         ],
         "y": [
          37.8673923634789
         ],
         "z": [
          0
         ]
        },
        {
         "mode": "text",
         "text": [
          "1"
         ],
         "type": "scatter3d",
         "x": [
          -0.7611113508443449
         ],
         "y": [
          1.2450086014490522
         ],
         "z": [
          0
         ]
        },
        {
         "mode": "text",
         "text": [
          "2"
         ],
         "type": "scatter3d",
         "x": [
          4.115362453385891
         ],
         "y": [
          -3.8455671391438453
         ],
         "z": [
          0
         ]
        },
        {
         "mode": "text",
         "text": [
          "3"
         ],
         "type": "scatter3d",
         "x": [
          39.12615425723699
         ],
         "y": [
          -39.18575469591174
         ],
         "z": [
          0
         ]
        },
        {
         "mode": "text",
         "text": [
          "4"
         ],
         "type": "scatter3d",
         "x": [
          -37.63367231594889
         ],
         "y": [
          -39.36745855508543
         ],
         "z": [
          0
         ]
        },
        {
         "mode": "text",
         "text": [
          "5"
         ],
         "type": "scatter3d",
         "x": [
          -0.8098022487222473
         ],
         "y": [
          -3.9123713753929508
         ],
         "z": [
          0
         ]
        },
        {
         "mode": "text",
         "text": [
          "6"
         ],
         "type": "scatter3d",
         "x": [
          4.086391241553874
         ],
         "y": [
          1.1948004492218067
         ],
         "z": [
          0
         ]
        },
        {
         "mode": "text",
         "text": [
          "7"
         ],
         "type": "scatter3d",
         "x": [
          39.202913931369224
         ],
         "y": [
          37.6952783178123
         ],
         "z": [
          0
         ]
        },
        {
         "mode": "text",
         "text": [
          "8"
         ],
         "type": "scatter3d",
         "x": [
          -3.3846759930565535
         ],
         "y": [
          -1.505684993926536
         ],
         "z": [
          0
         ]
        },
        {
         "mode": "text",
         "text": [
          "9"
         ],
         "type": "scatter3d",
         "x": [
          1.4917978111736823
         ],
         "y": [
          -6.596260734519433
         ],
         "z": [
          0
         ]
        },
        {
         "mode": "text",
         "text": [
          "10"
         ],
         "type": "scatter3d",
         "x": [
          6.387991301449803
         ],
         "y": [
          -1.489088909904676
         ],
         "z": [
          0
         ]
        },
        {
         "mode": "text",
         "text": [
          "11"
         ],
         "type": "scatter3d",
         "x": [
          1.5115174972195675
         ],
         "y": [
          3.6014868306882213
         ],
         "z": [
          0
         ]
        },
        {
         "mode": "text",
         "text": [
          "0"
         ],
         "type": "scatter3d",
         "x": [
          -72.06009069251535
         ],
         "y": [
          72.08308974404233
         ],
         "z": [
          0
         ]
        },
        {
         "mode": "text",
         "text": [
          "1"
         ],
         "type": "scatter3d",
         "x": [
          -3.335985095178651
         ],
         "y": [
          3.651694982915467
         ],
         "z": [
          0
         ]
        },
        {
         "mode": "text",
         "text": [
          "2"
         ],
         "type": "scatter3d",
         "x": [
          1.8137623934899614
         ],
         "y": [
          -1.1616777800173625
         ],
         "z": [
          0
         ]
        },
        {
         "mode": "text",
         "text": [
          "3"
         ],
         "type": "scatter3d",
         "x": [
          6.41696251328182
         ],
         "y": [
          -6.529456498270328
         ],
         "z": [
          0
         ]
        },
        {
         "mode": "text",
         "text": [
          "4"
         ],
         "type": "scatter3d",
         "x": [
          71.83534600119216
         ],
         "y": [
          -71.84205289355316
         ],
         "z": [
          0
         ]
        },
        {
         "mode": "text",
         "text": [
          "5"
         ],
         "type": "scatter3d",
         "x": [
          -71.83397774096333
         ],
         "y": [
          -72.07185213940231
         ],
         "z": [
          0
         ]
        },
        {
         "mode": "text",
         "text": [
          "6"
         ],
         "type": "scatter3d",
         "x": [
          -3.433366890934456
         ],
         "y": [
          -6.663064970768539
         ],
         "z": [
          0
         ]
        },
        {
         "mode": "text",
         "text": [
          "7"
         ],
         "type": "scatter3d",
         "x": [
          6.359020089617786
         ],
         "y": [
          3.551278678460976
         ],
         "z": [
          0
         ]
        },
        {
         "mode": "text",
         "text": [
          "8"
         ],
         "type": "scatter3d",
         "x": [
          72.04680777312066
         ],
         "y": [
          71.83927795716363
         ],
         "z": [
          0
         ]
        }
       ],
       "layout": {
        "scene": {
         "aspectmode": "data",
         "camera": {
          "eye": {
           "x": 0,
           "y": 0,
           "z": 15
          }
         }
        },
        "template": {
         "data": {
          "bar": [
           {
            "error_x": {
             "color": "#2a3f5f"
            },
            "error_y": {
             "color": "#2a3f5f"
            },
            "marker": {
             "line": {
              "color": "#E5ECF6",
              "width": 0.5
             },
             "pattern": {
              "fillmode": "overlay",
              "size": 10,
              "solidity": 0.2
             }
            },
            "type": "bar"
           }
          ],
          "barpolar": [
           {
            "marker": {
             "line": {
              "color": "#E5ECF6",
              "width": 0.5
             },
             "pattern": {
              "fillmode": "overlay",
              "size": 10,
              "solidity": 0.2
             }
            },
            "type": "barpolar"
           }
          ],
          "carpet": [
           {
            "aaxis": {
             "endlinecolor": "#2a3f5f",
             "gridcolor": "white",
             "linecolor": "white",
             "minorgridcolor": "white",
             "startlinecolor": "#2a3f5f"
            },
            "baxis": {
             "endlinecolor": "#2a3f5f",
             "gridcolor": "white",
             "linecolor": "white",
             "minorgridcolor": "white",
             "startlinecolor": "#2a3f5f"
            },
            "type": "carpet"
           }
          ],
          "choropleth": [
           {
            "colorbar": {
             "outlinewidth": 0,
             "ticks": ""
            },
            "type": "choropleth"
           }
          ],
          "contour": [
           {
            "colorbar": {
             "outlinewidth": 0,
             "ticks": ""
            },
            "colorscale": [
             [
              0,
              "#0d0887"
             ],
             [
              0.1111111111111111,
              "#46039f"
             ],
             [
              0.2222222222222222,
              "#7201a8"
             ],
             [
              0.3333333333333333,
              "#9c179e"
             ],
             [
              0.4444444444444444,
              "#bd3786"
             ],
             [
              0.5555555555555556,
              "#d8576b"
             ],
             [
              0.6666666666666666,
              "#ed7953"
             ],
             [
              0.7777777777777778,
              "#fb9f3a"
             ],
             [
              0.8888888888888888,
              "#fdca26"
             ],
             [
              1,
              "#f0f921"
             ]
            ],
            "type": "contour"
           }
          ],
          "contourcarpet": [
           {
            "colorbar": {
             "outlinewidth": 0,
             "ticks": ""
            },
            "type": "contourcarpet"
           }
          ],
          "heatmap": [
           {
            "colorbar": {
             "outlinewidth": 0,
             "ticks": ""
            },
            "colorscale": [
             [
              0,
              "#0d0887"
             ],
             [
              0.1111111111111111,
              "#46039f"
             ],
             [
              0.2222222222222222,
              "#7201a8"
             ],
             [
              0.3333333333333333,
              "#9c179e"
             ],
             [
              0.4444444444444444,
              "#bd3786"
             ],
             [
              0.5555555555555556,
              "#d8576b"
             ],
             [
              0.6666666666666666,
              "#ed7953"
             ],
             [
              0.7777777777777778,
              "#fb9f3a"
             ],
             [
              0.8888888888888888,
              "#fdca26"
             ],
             [
              1,
              "#f0f921"
             ]
            ],
            "type": "heatmap"
           }
          ],
          "heatmapgl": [
           {
            "colorbar": {
             "outlinewidth": 0,
             "ticks": ""
            },
            "colorscale": [
             [
              0,
              "#0d0887"
             ],
             [
              0.1111111111111111,
              "#46039f"
             ],
             [
              0.2222222222222222,
              "#7201a8"
             ],
             [
              0.3333333333333333,
              "#9c179e"
             ],
             [
              0.4444444444444444,
              "#bd3786"
             ],
             [
              0.5555555555555556,
              "#d8576b"
             ],
             [
              0.6666666666666666,
              "#ed7953"
             ],
             [
              0.7777777777777778,
              "#fb9f3a"
             ],
             [
              0.8888888888888888,
              "#fdca26"
             ],
             [
              1,
              "#f0f921"
             ]
            ],
            "type": "heatmapgl"
           }
          ],
          "histogram": [
           {
            "marker": {
             "pattern": {
              "fillmode": "overlay",
              "size": 10,
              "solidity": 0.2
             }
            },
            "type": "histogram"
           }
          ],
          "histogram2d": [
           {
            "colorbar": {
             "outlinewidth": 0,
             "ticks": ""
            },
            "colorscale": [
             [
              0,
              "#0d0887"
             ],
             [
              0.1111111111111111,
              "#46039f"
             ],
             [
              0.2222222222222222,
              "#7201a8"
             ],
             [
              0.3333333333333333,
              "#9c179e"
             ],
             [
              0.4444444444444444,
              "#bd3786"
             ],
             [
              0.5555555555555556,
              "#d8576b"
             ],
             [
              0.6666666666666666,
              "#ed7953"
             ],
             [
              0.7777777777777778,
              "#fb9f3a"
             ],
             [
              0.8888888888888888,
              "#fdca26"
             ],
             [
              1,
              "#f0f921"
             ]
            ],
            "type": "histogram2d"
           }
          ],
          "histogram2dcontour": [
           {
            "colorbar": {
             "outlinewidth": 0,
             "ticks": ""
            },
            "colorscale": [
             [
              0,
              "#0d0887"
             ],
             [
              0.1111111111111111,
              "#46039f"
             ],
             [
              0.2222222222222222,
              "#7201a8"
             ],
             [
              0.3333333333333333,
              "#9c179e"
             ],
             [
              0.4444444444444444,
              "#bd3786"
             ],
             [
              0.5555555555555556,
              "#d8576b"
             ],
             [
              0.6666666666666666,
              "#ed7953"
             ],
             [
              0.7777777777777778,
              "#fb9f3a"
             ],
             [
              0.8888888888888888,
              "#fdca26"
             ],
             [
              1,
              "#f0f921"
             ]
            ],
            "type": "histogram2dcontour"
           }
          ],
          "mesh3d": [
           {
            "colorbar": {
             "outlinewidth": 0,
             "ticks": ""
            },
            "type": "mesh3d"
           }
          ],
          "parcoords": [
           {
            "line": {
             "colorbar": {
              "outlinewidth": 0,
              "ticks": ""
             }
            },
            "type": "parcoords"
           }
          ],
          "pie": [
           {
            "automargin": true,
            "type": "pie"
           }
          ],
          "scatter": [
           {
            "fillpattern": {
             "fillmode": "overlay",
             "size": 10,
             "solidity": 0.2
            },
            "type": "scatter"
           }
          ],
          "scatter3d": [
           {
            "line": {
             "colorbar": {
              "outlinewidth": 0,
              "ticks": ""
             }
            },
            "marker": {
             "colorbar": {
              "outlinewidth": 0,
              "ticks": ""
             }
            },
            "type": "scatter3d"
           }
          ],
          "scattercarpet": [
           {
            "marker": {
             "colorbar": {
              "outlinewidth": 0,
              "ticks": ""
             }
            },
            "type": "scattercarpet"
           }
          ],
          "scattergeo": [
           {
            "marker": {
             "colorbar": {
              "outlinewidth": 0,
              "ticks": ""
             }
            },
            "type": "scattergeo"
           }
          ],
          "scattergl": [
           {
            "marker": {
             "colorbar": {
              "outlinewidth": 0,
              "ticks": ""
             }
            },
            "type": "scattergl"
           }
          ],
          "scattermapbox": [
           {
            "marker": {
             "colorbar": {
              "outlinewidth": 0,
              "ticks": ""
             }
            },
            "type": "scattermapbox"
           }
          ],
          "scatterpolar": [
           {
            "marker": {
             "colorbar": {
              "outlinewidth": 0,
              "ticks": ""
             }
            },
            "type": "scatterpolar"
           }
          ],
          "scatterpolargl": [
           {
            "marker": {
             "colorbar": {
              "outlinewidth": 0,
              "ticks": ""
             }
            },
            "type": "scatterpolargl"
           }
          ],
          "scatterternary": [
           {
            "marker": {
             "colorbar": {
              "outlinewidth": 0,
              "ticks": ""
             }
            },
            "type": "scatterternary"
           }
          ],
          "surface": [
           {
            "colorbar": {
             "outlinewidth": 0,
             "ticks": ""
            },
            "colorscale": [
             [
              0,
              "#0d0887"
             ],
             [
              0.1111111111111111,
              "#46039f"
             ],
             [
              0.2222222222222222,
              "#7201a8"
             ],
             [
              0.3333333333333333,
              "#9c179e"
             ],
             [
              0.4444444444444444,
              "#bd3786"
             ],
             [
              0.5555555555555556,
              "#d8576b"
             ],
             [
              0.6666666666666666,
              "#ed7953"
             ],
             [
              0.7777777777777778,
              "#fb9f3a"
             ],
             [
              0.8888888888888888,
              "#fdca26"
             ],
             [
              1,
              "#f0f921"
             ]
            ],
            "type": "surface"
           }
          ],
          "table": [
           {
            "cells": {
             "fill": {
              "color": "#EBF0F8"
             },
             "line": {
              "color": "white"
             }
            },
            "header": {
             "fill": {
              "color": "#C8D4E3"
             },
             "line": {
              "color": "white"
             }
            },
            "type": "table"
           }
          ]
         },
         "layout": {
          "annotationdefaults": {
           "arrowcolor": "#2a3f5f",
           "arrowhead": 0,
           "arrowwidth": 1
          },
          "autotypenumbers": "strict",
          "coloraxis": {
           "colorbar": {
            "outlinewidth": 0,
            "ticks": ""
           }
          },
          "colorscale": {
           "diverging": [
            [
             0,
             "#8e0152"
            ],
            [
             0.1,
             "#c51b7d"
            ],
            [
             0.2,
             "#de77ae"
            ],
            [
             0.3,
             "#f1b6da"
            ],
            [
             0.4,
             "#fde0ef"
            ],
            [
             0.5,
             "#f7f7f7"
            ],
            [
             0.6,
             "#e6f5d0"
            ],
            [
             0.7,
             "#b8e186"
            ],
            [
             0.8,
             "#7fbc41"
            ],
            [
             0.9,
             "#4d9221"
            ],
            [
             1,
             "#276419"
            ]
           ],
           "sequential": [
            [
             0,
             "#0d0887"
            ],
            [
             0.1111111111111111,
             "#46039f"
            ],
            [
             0.2222222222222222,
             "#7201a8"
            ],
            [
             0.3333333333333333,
             "#9c179e"
            ],
            [
             0.4444444444444444,
             "#bd3786"
            ],
            [
             0.5555555555555556,
             "#d8576b"
            ],
            [
             0.6666666666666666,
             "#ed7953"
            ],
            [
             0.7777777777777778,
             "#fb9f3a"
            ],
            [
             0.8888888888888888,
             "#fdca26"
            ],
            [
             1,
             "#f0f921"
            ]
           ],
           "sequentialminus": [
            [
             0,
             "#0d0887"
            ],
            [
             0.1111111111111111,
             "#46039f"
            ],
            [
             0.2222222222222222,
             "#7201a8"
            ],
            [
             0.3333333333333333,
             "#9c179e"
            ],
            [
             0.4444444444444444,
             "#bd3786"
            ],
            [
             0.5555555555555556,
             "#d8576b"
            ],
            [
             0.6666666666666666,
             "#ed7953"
            ],
            [
             0.7777777777777778,
             "#fb9f3a"
            ],
            [
             0.8888888888888888,
             "#fdca26"
            ],
            [
             1,
             "#f0f921"
            ]
           ]
          },
          "colorway": [
           "#636efa",
           "#EF553B",
           "#00cc96",
           "#ab63fa",
           "#FFA15A",
           "#19d3f3",
           "#FF6692",
           "#B6E880",
           "#FF97FF",
           "#FECB52"
          ],
          "font": {
           "color": "#2a3f5f"
          },
          "geo": {
           "bgcolor": "white",
           "lakecolor": "white",
           "landcolor": "#E5ECF6",
           "showlakes": true,
           "showland": true,
           "subunitcolor": "white"
          },
          "hoverlabel": {
           "align": "left"
          },
          "hovermode": "closest",
          "mapbox": {
           "style": "light"
          },
          "paper_bgcolor": "white",
          "plot_bgcolor": "#E5ECF6",
          "polar": {
           "angularaxis": {
            "gridcolor": "white",
            "linecolor": "white",
            "ticks": ""
           },
           "bgcolor": "#E5ECF6",
           "radialaxis": {
            "gridcolor": "white",
            "linecolor": "white",
            "ticks": ""
           }
          },
          "scene": {
           "xaxis": {
            "backgroundcolor": "#E5ECF6",
            "gridcolor": "white",
            "gridwidth": 2,
            "linecolor": "white",
            "showbackground": true,
            "ticks": "",
            "zerolinecolor": "white"
           },
           "yaxis": {
            "backgroundcolor": "#E5ECF6",
            "gridcolor": "white",
            "gridwidth": 2,
            "linecolor": "white",
            "showbackground": true,
            "ticks": "",
            "zerolinecolor": "white"
           },
           "zaxis": {
            "backgroundcolor": "#E5ECF6",
            "gridcolor": "white",
            "gridwidth": 2,
            "linecolor": "white",
            "showbackground": true,
            "ticks": "",
            "zerolinecolor": "white"
           }
          },
          "shapedefaults": {
           "line": {
            "color": "#2a3f5f"
           }
          },
          "ternary": {
           "aaxis": {
            "gridcolor": "white",
            "linecolor": "white",
            "ticks": ""
           },
           "baxis": {
            "gridcolor": "white",
            "linecolor": "white",
            "ticks": ""
           },
           "bgcolor": "#E5ECF6",
           "caxis": {
            "gridcolor": "white",
            "linecolor": "white",
            "ticks": ""
           }
          },
          "title": {
           "x": 0.05
          },
          "xaxis": {
           "automargin": true,
           "gridcolor": "white",
           "linecolor": "white",
           "ticks": "",
           "title": {
            "standoff": 15
           },
           "zerolinecolor": "white",
           "zerolinewidth": 2
          },
          "yaxis": {
           "automargin": true,
           "gridcolor": "white",
           "linecolor": "white",
           "ticks": "",
           "title": {
            "standoff": 15
           },
           "zerolinecolor": "white",
           "zerolinewidth": 2
          }
         }
        },
        "title": {
         "text": "Plotly Plot"
        }
       }
      }
     },
     "metadata": {},
     "output_type": "display_data"
    },
    {
     "name": "stdout",
     "output_type": "stream",
     "text": [
      "l_scalar: 0.9187513072777099, max stress: 5.2206878430122785\n",
      "Iteration 0: Current error = 167.41298048550257\n",
      "Iteration 100: Current error = 0.05614612493810576\n",
      "Iteration 200: Current error = 0.0009070783602665063\n",
      "Converged after 216 iterations.\n",
      "Final error: 0.000876058595039811\n"
     ]
    },
    {
     "data": {
      "application/vnd.plotly.v1+json": {
       "config": {
        "plotlyServerURL": "https://plot.ly"
       },
       "data": [
        {
         "line": {
          "color": "black",
          "width": 3
         },
         "mode": "lines",
         "type": "scatter3d",
         "x": [
          -72.76452584192157,
          -54.65206975489855,
          -36.53962787613273,
          -18.427200194448233,
          -0.31478671729564667,
          null,
          -0.3147867164475988,
          0.11409817732450556,
          0.5940931200427775,
          1.1205692557904214,
          1.6884494848751008,
          null,
          1.688449484875103,
          1.8461373760406916,
          2.0154209361468247,
          2.195968222707548,
          2.387425206571436,
          2.5894164661255603,
          2.801545923447196,
          3.023397620959817,
          3.254536537070414,
          3.4945094391888567,
          null,
          3.4945094361901283,
          20.76853397488594,
          38.04257207363844,
          55.316623739898205,
          72.59068896248937,
          null,
          -72.57250668108463,
          -54.521942775696516,
          -36.47136528044939,
          -18.420774195343256,
          -0.3701695241034031,
          null,
          -0.37016952795150093,
          -0.1846223893943817,
          0.012647548372179074,
          0.2212740564045168,
          0.4408698224414618,
          0.6710271699442591,
          0.9113188149424971,
          1.1612986592809476,
          1.4205026187947105,
          1.688449484875103,
          null,
          1.6884494848751022,
          2.0577987509067395,
          2.4786772429528394,
          2.9467054205190735,
          3.4570131170493577,
          null,
          3.457013104110956,
          20.784817773848772,
          38.112608268857,
          55.44038459658623,
          72.76814675331116,
          null,
          -0.3147867164475926,
          -0.34233090342801376,
          -0.36453217352158873,
          -0.3813873604910256,
          -0.3928940605314253,
          -0.39905063261313245,
          -0.3998561987157174,
          -0.3953106439532874,
          -0.38541461659076504,
          -0.3701695279514965,
          null,
          -0.37016952795150804,
          0.5962670890938362,
          1.5629834799689866,
          2.529293036430659,
          3.4945094391888385,
          null,
          3.494509439188846,
          3.4729190737601385,
          3.4594723740765687,
          3.454170266720766,
          3.4570131170493568,
          null,
          3.4570131169512024,
          2.514063171849557,
          1.571113217903985,
          0.6281632551090297,
          -0.31478671652985213,
          null
         ],
         "y": [
          72.77344797551632,
          54.69180140644312,
          36.61014061421156,
          18.52846560254693,
          0.4467763565480709,
          null,
          0.4467763529497768,
          -0.09539671506003167,
          -0.5928891700238879,
          -1.0409034178657404,
          -1.4351190101446534,
          null,
          -1.4351190101446516,
          -1.7005369928615606,
          -1.9587137788969384,
          -2.2091431180034533,
          -2.451333951644008,
          -2.684811375892056,
          -2.909117572654856,
          -3.12381270739371,
          -3.3284757915808205,
          -3.5227055082016783,
          null,
          -3.5227055065333843,
          -20.7899404540658,
          -38.05716183781624,
          -55.32436965033412,
          -72.59156389907002,
          null,
          -72.77922996133566,
          -55.480336364358664,
          -38.181456942111254,
          -20.88259169831872,
          -3.583740632981062,
          null,
          -3.5837406406933345,
          -3.3076062203462078,
          -3.039720927019462,
          -2.7805820860993613,
          -2.5306707853028056,
          -2.2904509815445504,
          -2.060368639607539,
          -1.8408509042153778,
          -1.6323053070439952,
          -1.4351190101446551,
          null,
          -1.435119010144656,
          -0.9104508362127053,
          -0.4261401219102092,
          0.012773534814233933,
          0.40172292473167737,
          null,
          0.40172291547060013,
          18.444049328565598,
          36.486389353871346,
          54.528742987662554,
          72.57111022621393,
          null,
          0.4467763529497808,
          -0.0004667586116129385,
          -0.4480069095274406,
          -0.8957802737952976,
          -1.3437229921530245,
          -1.791771181186004,
          -2.239860942437903,
          -2.6879283715235616,
          -3.135909567242723,
          -3.583740640693316,
          null,
          -3.5837406406933283,
          -3.6071186066262797,
          -3.6047345616450386,
          -3.5765901990124362,
          -3.522705508201682,
          null,
          -3.5227055082016476,
          -2.5417489288380652,
          -1.560646925607228,
          -0.5794671040996549,
          0.4017229247316897,
          null,
          0.4017229247838259,
          0.4129873928613961,
          0.42425112007185817,
          0.43551410688087344,
          0.44677635305561125,
          null
         ],
         "z": [
          0,
          0,
          0,
          0,
          0,
          null,
          0,
          0,
          0,
          0,
          0,
          null,
          0,
          0,
          0,
          0,
          0,
          0,
          0,
          0,
          0,
          0,
          null,
          0,
          0,
          0,
          0,
          0,
          null,
          0,
          0,
          0,
          0,
          0,
          null,
          0,
          0,
          0,
          0,
          0,
          0,
          0,
          0,
          0.08910567656689306,
          0.19999999999999984,
          null,
          0.19999999999999943,
          0,
          0,
          0,
          0,
          null,
          0,
          0,
          0,
          0,
          0,
          null,
          0.19999999999999774,
          0.050636504878004834,
          0,
          0,
          0,
          0,
          0,
          0,
          0.05063650487799706,
          0.19999999999999393,
          null,
          0.199999999999997,
          0,
          0,
          0,
          0.19999999999999432,
          null,
          0.19999999999998905,
          0,
          0,
          0,
          0.19999999999999557,
          null,
          0.1999999999629506,
          0,
          0,
          0,
          0.19999999995531936,
          null
         ]
        },
        {
         "mode": "text",
         "text": [
          "0"
         ],
         "type": "scatter3d",
         "x": [
          -36.539656281188805
         ],
         "y": [
          36.610112162773554
         ],
         "z": [
          0
         ]
        },
        {
         "mode": "text",
         "text": [
          "1"
         ],
         "type": "scatter3d",
         "x": [
          0.6868313842137533
         ],
         "y": [
          -0.49417132859743973
         ],
         "z": [
          0
         ]
        },
        {
         "mode": "text",
         "text": [
          "2"
         ],
         "type": "scatter3d",
         "x": [
          2.5914794620319794
         ],
         "y": [
          -2.4789122591731667
         ],
         "z": [
          0
         ]
        },
        {
         "mode": "text",
         "text": [
          "3"
         ],
         "type": "scatter3d",
         "x": [
          38.04259920042391
         ],
         "y": [
          -38.057134704793036
         ],
         "z": [
          0
         ]
        },
        {
         "mode": "text",
         "text": [
          "4"
         ],
         "type": "scatter3d",
         "x": [
          -36.47133810673339
         ],
         "y": [
          -38.18148530428717
         ],
         "z": [
          0
         ]
        },
        {
         "mode": "text",
         "text": [
          "5"
         ],
         "type": "scatter3d",
         "x": [
          0.6591399784618013
         ],
         "y": [
          -2.5094298254189944
         ],
         "z": [
          0
         ]
        },
        {
         "mode": "text",
         "text": [
          "6"
         ],
         "type": "scatter3d",
         "x": [
          2.5727313009622303
         ],
         "y": [
          -0.5166980427064891
         ],
         "z": [
          0
         ]
        },
        {
         "mode": "text",
         "text": [
          "7"
         ],
         "type": "scatter3d",
         "x": [
          38.11257994004681
         ],
         "y": [
          36.486416581917766
         ],
         "z": [
          0
         ]
        },
        {
         "mode": "text",
         "text": [
          "8"
         ],
         "type": "scatter3d",
         "x": [
          -0.34247812219954865
         ],
         "y": [
          -1.5684821438717793
         ],
         "z": [
          0
         ]
        },
        {
         "mode": "text",
         "text": [
          "9"
         ],
         "type": "scatter3d",
         "x": [
          1.5621699556186772
         ],
         "y": [
          -3.5532230744475064
         ],
         "z": [
          0
         ]
        },
        {
         "mode": "text",
         "text": [
          "10"
         ],
         "type": "scatter3d",
         "x": [
          3.4757612781191063
         ],
         "y": [
          -1.5604912917350013
         ],
         "z": [
          0
         ]
        },
        {
         "mode": "text",
         "text": [
          "11"
         ],
         "type": "scatter3d",
         "x": [
          1.5711132003008803
         ],
         "y": [
          0.4242496388407258
         ],
         "z": [
          0
         ]
        },
        {
         "mode": "text",
         "text": [
          "0"
         ],
         "type": "scatter3d",
         "x": [
          -72.76452584593001
         ],
         "y": [
          72.77344797259734
         ],
         "z": [
          0
         ]
        },
        {
         "mode": "text",
         "text": [
          "1"
         ],
         "type": "scatter3d",
         "x": [
          -0.31478671644759654
         ],
         "y": [
          0.44677635294977525
         ],
         "z": [
          0
         ]
        },
        {
         "mode": "text",
         "text": [
          "2"
         ],
         "type": "scatter3d",
         "x": [
          1.6884494848751033
         ],
         "y": [
          -1.4351190101446547
         ],
         "z": [
          0
         ]
        },
        {
         "mode": "text",
         "text": [
          "3"
         ],
         "type": "scatter3d",
         "x": [
          3.4945094391888554
         ],
         "y": [
          -3.522705508201679
         ],
         "z": [
          0
         ]
        },
        {
         "mode": "text",
         "text": [
          "4"
         ],
         "type": "scatter3d",
         "x": [
          72.59068896165896
         ],
         "y": [
          -72.59156390138439
         ],
         "z": [
          0
         ]
        },
        {
         "mode": "text",
         "text": [
          "5"
         ],
         "type": "scatter3d",
         "x": [
          -72.57250668551528
         ],
         "y": [
          -72.77922996788101
         ],
         "z": [
          0
         ]
        },
        {
         "mode": "text",
         "text": [
          "6"
         ],
         "type": "scatter3d",
         "x": [
          -0.37016952795150077
         ],
         "y": [
          -3.5837406406933336
         ],
         "z": [
          0
         ]
        },
        {
         "mode": "text",
         "text": [
          "7"
         ],
         "type": "scatter3d",
         "x": [
          3.457013117049357
         ],
         "y": [
          0.40172292473167637
         ],
         "z": [
          0
         ]
        },
        {
         "mode": "text",
         "text": [
          "8"
         ],
         "type": "scatter3d",
         "x": [
          72.76814676304426
         ],
         "y": [
          72.57111023910386
         ],
         "z": [
          0
         ]
        }
       ],
       "layout": {
        "scene": {
         "aspectmode": "data",
         "camera": {
          "eye": {
           "x": 0,
           "y": 0,
           "z": 15
          }
         }
        },
        "template": {
         "data": {
          "bar": [
           {
            "error_x": {
             "color": "#2a3f5f"
            },
            "error_y": {
             "color": "#2a3f5f"
            },
            "marker": {
             "line": {
              "color": "#E5ECF6",
              "width": 0.5
             },
             "pattern": {
              "fillmode": "overlay",
              "size": 10,
              "solidity": 0.2
             }
            },
            "type": "bar"
           }
          ],
          "barpolar": [
           {
            "marker": {
             "line": {
              "color": "#E5ECF6",
              "width": 0.5
             },
             "pattern": {
              "fillmode": "overlay",
              "size": 10,
              "solidity": 0.2
             }
            },
            "type": "barpolar"
           }
          ],
          "carpet": [
           {
            "aaxis": {
             "endlinecolor": "#2a3f5f",
             "gridcolor": "white",
             "linecolor": "white",
             "minorgridcolor": "white",
             "startlinecolor": "#2a3f5f"
            },
            "baxis": {
             "endlinecolor": "#2a3f5f",
             "gridcolor": "white",
             "linecolor": "white",
             "minorgridcolor": "white",
             "startlinecolor": "#2a3f5f"
            },
            "type": "carpet"
           }
          ],
          "choropleth": [
           {
            "colorbar": {
             "outlinewidth": 0,
             "ticks": ""
            },
            "type": "choropleth"
           }
          ],
          "contour": [
           {
            "colorbar": {
             "outlinewidth": 0,
             "ticks": ""
            },
            "colorscale": [
             [
              0,
              "#0d0887"
             ],
             [
              0.1111111111111111,
              "#46039f"
             ],
             [
              0.2222222222222222,
              "#7201a8"
             ],
             [
              0.3333333333333333,
              "#9c179e"
             ],
             [
              0.4444444444444444,
              "#bd3786"
             ],
             [
              0.5555555555555556,
              "#d8576b"
             ],
             [
              0.6666666666666666,
              "#ed7953"
             ],
             [
              0.7777777777777778,
              "#fb9f3a"
             ],
             [
              0.8888888888888888,
              "#fdca26"
             ],
             [
              1,
              "#f0f921"
             ]
            ],
            "type": "contour"
           }
          ],
          "contourcarpet": [
           {
            "colorbar": {
             "outlinewidth": 0,
             "ticks": ""
            },
            "type": "contourcarpet"
           }
          ],
          "heatmap": [
           {
            "colorbar": {
             "outlinewidth": 0,
             "ticks": ""
            },
            "colorscale": [
             [
              0,
              "#0d0887"
             ],
             [
              0.1111111111111111,
              "#46039f"
             ],
             [
              0.2222222222222222,
              "#7201a8"
             ],
             [
              0.3333333333333333,
              "#9c179e"
             ],
             [
              0.4444444444444444,
              "#bd3786"
             ],
             [
              0.5555555555555556,
              "#d8576b"
             ],
             [
              0.6666666666666666,
              "#ed7953"
             ],
             [
              0.7777777777777778,
              "#fb9f3a"
             ],
             [
              0.8888888888888888,
              "#fdca26"
             ],
             [
              1,
              "#f0f921"
             ]
            ],
            "type": "heatmap"
           }
          ],
          "heatmapgl": [
           {
            "colorbar": {
             "outlinewidth": 0,
             "ticks": ""
            },
            "colorscale": [
             [
              0,
              "#0d0887"
             ],
             [
              0.1111111111111111,
              "#46039f"
             ],
             [
              0.2222222222222222,
              "#7201a8"
             ],
             [
              0.3333333333333333,
              "#9c179e"
             ],
             [
              0.4444444444444444,
              "#bd3786"
             ],
             [
              0.5555555555555556,
              "#d8576b"
             ],
             [
              0.6666666666666666,
              "#ed7953"
             ],
             [
              0.7777777777777778,
              "#fb9f3a"
             ],
             [
              0.8888888888888888,
              "#fdca26"
             ],
             [
              1,
              "#f0f921"
             ]
            ],
            "type": "heatmapgl"
           }
          ],
          "histogram": [
           {
            "marker": {
             "pattern": {
              "fillmode": "overlay",
              "size": 10,
              "solidity": 0.2
             }
            },
            "type": "histogram"
           }
          ],
          "histogram2d": [
           {
            "colorbar": {
             "outlinewidth": 0,
             "ticks": ""
            },
            "colorscale": [
             [
              0,
              "#0d0887"
             ],
             [
              0.1111111111111111,
              "#46039f"
             ],
             [
              0.2222222222222222,
              "#7201a8"
             ],
             [
              0.3333333333333333,
              "#9c179e"
             ],
             [
              0.4444444444444444,
              "#bd3786"
             ],
             [
              0.5555555555555556,
              "#d8576b"
             ],
             [
              0.6666666666666666,
              "#ed7953"
             ],
             [
              0.7777777777777778,
              "#fb9f3a"
             ],
             [
              0.8888888888888888,
              "#fdca26"
             ],
             [
              1,
              "#f0f921"
             ]
            ],
            "type": "histogram2d"
           }
          ],
          "histogram2dcontour": [
           {
            "colorbar": {
             "outlinewidth": 0,
             "ticks": ""
            },
            "colorscale": [
             [
              0,
              "#0d0887"
             ],
             [
              0.1111111111111111,
              "#46039f"
             ],
             [
              0.2222222222222222,
              "#7201a8"
             ],
             [
              0.3333333333333333,
              "#9c179e"
             ],
             [
              0.4444444444444444,
              "#bd3786"
             ],
             [
              0.5555555555555556,
              "#d8576b"
             ],
             [
              0.6666666666666666,
              "#ed7953"
             ],
             [
              0.7777777777777778,
              "#fb9f3a"
             ],
             [
              0.8888888888888888,
              "#fdca26"
             ],
             [
              1,
              "#f0f921"
             ]
            ],
            "type": "histogram2dcontour"
           }
          ],
          "mesh3d": [
           {
            "colorbar": {
             "outlinewidth": 0,
             "ticks": ""
            },
            "type": "mesh3d"
           }
          ],
          "parcoords": [
           {
            "line": {
             "colorbar": {
              "outlinewidth": 0,
              "ticks": ""
             }
            },
            "type": "parcoords"
           }
          ],
          "pie": [
           {
            "automargin": true,
            "type": "pie"
           }
          ],
          "scatter": [
           {
            "fillpattern": {
             "fillmode": "overlay",
             "size": 10,
             "solidity": 0.2
            },
            "type": "scatter"
           }
          ],
          "scatter3d": [
           {
            "line": {
             "colorbar": {
              "outlinewidth": 0,
              "ticks": ""
             }
            },
            "marker": {
             "colorbar": {
              "outlinewidth": 0,
              "ticks": ""
             }
            },
            "type": "scatter3d"
           }
          ],
          "scattercarpet": [
           {
            "marker": {
             "colorbar": {
              "outlinewidth": 0,
              "ticks": ""
             }
            },
            "type": "scattercarpet"
           }
          ],
          "scattergeo": [
           {
            "marker": {
             "colorbar": {
              "outlinewidth": 0,
              "ticks": ""
             }
            },
            "type": "scattergeo"
           }
          ],
          "scattergl": [
           {
            "marker": {
             "colorbar": {
              "outlinewidth": 0,
              "ticks": ""
             }
            },
            "type": "scattergl"
           }
          ],
          "scattermapbox": [
           {
            "marker": {
             "colorbar": {
              "outlinewidth": 0,
              "ticks": ""
             }
            },
            "type": "scattermapbox"
           }
          ],
          "scatterpolar": [
           {
            "marker": {
             "colorbar": {
              "outlinewidth": 0,
              "ticks": ""
             }
            },
            "type": "scatterpolar"
           }
          ],
          "scatterpolargl": [
           {
            "marker": {
             "colorbar": {
              "outlinewidth": 0,
              "ticks": ""
             }
            },
            "type": "scatterpolargl"
           }
          ],
          "scatterternary": [
           {
            "marker": {
             "colorbar": {
              "outlinewidth": 0,
              "ticks": ""
             }
            },
            "type": "scatterternary"
           }
          ],
          "surface": [
           {
            "colorbar": {
             "outlinewidth": 0,
             "ticks": ""
            },
            "colorscale": [
             [
              0,
              "#0d0887"
             ],
             [
              0.1111111111111111,
              "#46039f"
             ],
             [
              0.2222222222222222,
              "#7201a8"
             ],
             [
              0.3333333333333333,
              "#9c179e"
             ],
             [
              0.4444444444444444,
              "#bd3786"
             ],
             [
              0.5555555555555556,
              "#d8576b"
             ],
             [
              0.6666666666666666,
              "#ed7953"
             ],
             [
              0.7777777777777778,
              "#fb9f3a"
             ],
             [
              0.8888888888888888,
              "#fdca26"
             ],
             [
              1,
              "#f0f921"
             ]
            ],
            "type": "surface"
           }
          ],
          "table": [
           {
            "cells": {
             "fill": {
              "color": "#EBF0F8"
             },
             "line": {
              "color": "white"
             }
            },
            "header": {
             "fill": {
              "color": "#C8D4E3"
             },
             "line": {
              "color": "white"
             }
            },
            "type": "table"
           }
          ]
         },
         "layout": {
          "annotationdefaults": {
           "arrowcolor": "#2a3f5f",
           "arrowhead": 0,
           "arrowwidth": 1
          },
          "autotypenumbers": "strict",
          "coloraxis": {
           "colorbar": {
            "outlinewidth": 0,
            "ticks": ""
           }
          },
          "colorscale": {
           "diverging": [
            [
             0,
             "#8e0152"
            ],
            [
             0.1,
             "#c51b7d"
            ],
            [
             0.2,
             "#de77ae"
            ],
            [
             0.3,
             "#f1b6da"
            ],
            [
             0.4,
             "#fde0ef"
            ],
            [
             0.5,
             "#f7f7f7"
            ],
            [
             0.6,
             "#e6f5d0"
            ],
            [
             0.7,
             "#b8e186"
            ],
            [
             0.8,
             "#7fbc41"
            ],
            [
             0.9,
             "#4d9221"
            ],
            [
             1,
             "#276419"
            ]
           ],
           "sequential": [
            [
             0,
             "#0d0887"
            ],
            [
             0.1111111111111111,
             "#46039f"
            ],
            [
             0.2222222222222222,
             "#7201a8"
            ],
            [
             0.3333333333333333,
             "#9c179e"
            ],
            [
             0.4444444444444444,
             "#bd3786"
            ],
            [
             0.5555555555555556,
             "#d8576b"
            ],
            [
             0.6666666666666666,
             "#ed7953"
            ],
            [
             0.7777777777777778,
             "#fb9f3a"
            ],
            [
             0.8888888888888888,
             "#fdca26"
            ],
            [
             1,
             "#f0f921"
            ]
           ],
           "sequentialminus": [
            [
             0,
             "#0d0887"
            ],
            [
             0.1111111111111111,
             "#46039f"
            ],
            [
             0.2222222222222222,
             "#7201a8"
            ],
            [
             0.3333333333333333,
             "#9c179e"
            ],
            [
             0.4444444444444444,
             "#bd3786"
            ],
            [
             0.5555555555555556,
             "#d8576b"
            ],
            [
             0.6666666666666666,
             "#ed7953"
            ],
            [
             0.7777777777777778,
             "#fb9f3a"
            ],
            [
             0.8888888888888888,
             "#fdca26"
            ],
            [
             1,
             "#f0f921"
            ]
           ]
          },
          "colorway": [
           "#636efa",
           "#EF553B",
           "#00cc96",
           "#ab63fa",
           "#FFA15A",
           "#19d3f3",
           "#FF6692",
           "#B6E880",
           "#FF97FF",
           "#FECB52"
          ],
          "font": {
           "color": "#2a3f5f"
          },
          "geo": {
           "bgcolor": "white",
           "lakecolor": "white",
           "landcolor": "#E5ECF6",
           "showlakes": true,
           "showland": true,
           "subunitcolor": "white"
          },
          "hoverlabel": {
           "align": "left"
          },
          "hovermode": "closest",
          "mapbox": {
           "style": "light"
          },
          "paper_bgcolor": "white",
          "plot_bgcolor": "#E5ECF6",
          "polar": {
           "angularaxis": {
            "gridcolor": "white",
            "linecolor": "white",
            "ticks": ""
           },
           "bgcolor": "#E5ECF6",
           "radialaxis": {
            "gridcolor": "white",
            "linecolor": "white",
            "ticks": ""
           }
          },
          "scene": {
           "xaxis": {
            "backgroundcolor": "#E5ECF6",
            "gridcolor": "white",
            "gridwidth": 2,
            "linecolor": "white",
            "showbackground": true,
            "ticks": "",
            "zerolinecolor": "white"
           },
           "yaxis": {
            "backgroundcolor": "#E5ECF6",
            "gridcolor": "white",
            "gridwidth": 2,
            "linecolor": "white",
            "showbackground": true,
            "ticks": "",
            "zerolinecolor": "white"
           },
           "zaxis": {
            "backgroundcolor": "#E5ECF6",
            "gridcolor": "white",
            "gridwidth": 2,
            "linecolor": "white",
            "showbackground": true,
            "ticks": "",
            "zerolinecolor": "white"
           }
          },
          "shapedefaults": {
           "line": {
            "color": "#2a3f5f"
           }
          },
          "ternary": {
           "aaxis": {
            "gridcolor": "white",
            "linecolor": "white",
            "ticks": ""
           },
           "baxis": {
            "gridcolor": "white",
            "linecolor": "white",
            "ticks": ""
           },
           "bgcolor": "#E5ECF6",
           "caxis": {
            "gridcolor": "white",
            "linecolor": "white",
            "ticks": ""
           }
          },
          "title": {
           "x": 0.05
          },
          "xaxis": {
           "automargin": true,
           "gridcolor": "white",
           "linecolor": "white",
           "ticks": "",
           "title": {
            "standoff": 15
           },
           "zerolinecolor": "white",
           "zerolinewidth": 2
          },
          "yaxis": {
           "automargin": true,
           "gridcolor": "white",
           "linecolor": "white",
           "ticks": "",
           "title": {
            "standoff": 15
           },
           "zerolinecolor": "white",
           "zerolinewidth": 2
          }
         }
        },
        "title": {
         "text": "Plotly Plot"
        }
       }
      }
     },
     "metadata": {},
     "output_type": "display_data"
    },
    {
     "name": "stdout",
     "output_type": "stream",
     "text": [
      "l_scalar: 0.9308560046095378, max stress: 4.765086134736203\n"
     ]
    }
   ],
   "source": [
    "q0 = q.copy()\n",
    "q_scalars_connector = [.8, .6, .4, .35]\n",
    "q_scalars_ring = [ 1.5, 4, 6, 13]\n",
    "q_scalars_cross = [2, 3, 5, 14]\n",
    "for q_scalar_ring, q_scalar_cross, q_scalar_connector in zip(q_scalars_ring, q_scalars_cross, q_scalars_connector):\n",
    "    q_new = q.copy()\n",
    "    q_new[paths[2]]*= q_scalar_ring\n",
    "    q_new[center_cross_path] *= q_scalar_cross\n",
    "    q_new[connector_path] *= q_scalar_connector\n",
    "    net.update_shape(q_new)\n",
    "    l0, l_scalar = net.materialize_nonlinear(A, stress_data, strain_data, interpolation_kind = 'cubic')\n",
    "    net.initialize_shape_optimizer(function_type = 'standard',  method = 'Gauss-Seidel',options ={\"maxiter\": 1000, \"damping\": .1, \"correction_scalar\": 1.5, \"tol\": 1e-6})\n",
    "    net.optimize_vertices()\n",
    "    reference_point = [0,0,0]                         # The network will be scaler relative to this point\n",
    "    net.scale_vertices(reference_point, net.l_scalar, account_for_leafs = True) # If you don't provide a scalar, it will use network.l_scalar automatically\n",
    "    R, th = net.arc_param()\n",
    "    xyz = net.arc_points(n = 10)\n",
    "    net.auto_flip_curves(n = 10)        # Automatically flip the curvature of the edges. Directions will become 1, -1, 1, -1, ...\n",
    "    net.flip_curves()                   # Flip all the edges.\n",
    "    net.flip_curves([2, 5, 8], n = 10)\n",
    "    net.jump_at_intersection(intersection_width = printing_params['d_nozzle']*1.5, intersection_height = printing_params['layer_height'], interpolation_function=None) \n",
    "    net.net_plot(color=True, plot_type='arcs', elables=True, vlabels = True)\n",
    "    net.all_loop_to_path(start_loop_bools, end_loop_bools, L_loop, alpha_loop, n_points)\n",
    "    net.save_network(os.path.join(BYU_UW_root, 'networks', model_name + f'_loop_size_q_{q_scalar_ring, q_scalar_cross, q_scalar_connector}.pkl'))\n",
    "    print(f\"l_scalar: {l_scalar}, max stress: {np.max(net.f)/TPU_nl['A']}\")\n",
    "\n",
    "    g_code = replace_brackets(start_gcode, temperature_settings)\n",
    "    g_code += make_purge_line(g_code, printing_params, gen, point0, point1, comment='Purge line')\n",
    "    g_code += make_purge_line(g_code, printing_params, gen, point2, point3, comment='Purge line')\n",
    "    g_code += add_net_to_gcode(g_code, printing_params, gen, net)\n",
    "\n",
    "    g_code += end_gcode\n",
    "    with open(os.path.join('DATA', 'generated_gcodes', model_name + f'_loop_size_q_{q_scalar_ring, q_scalar_cross, q_scalar_connector}.gcode'), \"w\") as g_code_file:\n",
    "        g_code_file.write(g_code)"
   ]
  },
  {
   "cell_type": "markdown",
   "metadata": {},
   "source": [
    "Build figures:"
   ]
  },
  {
   "cell_type": "code",
   "execution_count": 81,
   "metadata": {},
   "outputs": [
    {
     "data": {
      "image/png": "[encoded data removed]",
      "text/plain": [
       "<Figure size 800x1200 with 3 Axes>"
      ]
     },
     "metadata": {},
     "output_type": "display_data"
    }
   ],
   "source": [
    "import matplotlib.pyplot as plt\n",
    "net_path = os.path.join(BYU_UW_root, 'networks')\n",
    "net_files = os.listdir(net_path)\n",
    "filtered_files = [file for file in net_files if file.startswith(model_name)]\n",
    "\n",
    "temp_error_all = np.linspace(0, 1, len(filtered_files))\n",
    "\n",
    "ystring = 'specemin'\n",
    "\n",
    "fig, ax = plt.subplots(3,1, figsize=(8, 12))\n",
    "ax[0].set_xlabel('Stress')\n",
    "ax[0].set_ylabel(ystring)\n",
    "ax[1].set_xlabel('Curvature')\n",
    "ax[1].set_ylabel(ystring)\n",
    "ax[2].set_xlabel('Length')\n",
    "ax[2].set_ylabel(ystring)\n",
    "\n",
    "for net_file, temp_error in zip(filtered_files, temp_error_all):\n",
    "    with open(os.path.join(net_path, net_file), 'rb') as f:\n",
    "        net = pickle.load(f)\n",
    "    for edge, fi, l0i, Ri in zip(net.edges, net.f, net.l0, net.R):\n",
    "        kappai = 1/Ri\n",
    "        ax[0].plot(fi/TPU_nl['A'], temp_error, 'o', color='black', markersize=2)\n",
    "        ax[1].plot(kappai, temp_error, 'o', color='black', markersize=2)\n",
    "        ax[2].plot(l0i, temp_error, 'o', color='black', markersize=2)"
   ]
  },
  {
   "cell_type": "code",
   "execution_count": 71,
   "metadata": {},
   "outputs": [
    {
     "name": "stdout",
     "output_type": "stream",
     "text": [
      "\\draw (-7.778, 7.778) -- (-0.034, 0.048);\n",
      "\\draw (-0.034, 0.048) arc (215.146:238.179:0.704);\n",
      "\\draw (0.170, -0.145) arc (209.326:232.697:0.697);\n",
      "\\draw (0.355, -0.358) -- (7.778, -7.778);\n",
      "\\draw (-7.778, -7.778) -- (-0.040, -0.364);\n",
      "\\draw (-0.040, -0.364) arc (304.882:327.348:0.780);\n",
      "\\draw (0.170, -0.145) arc (304.068:328.236:0.623);\n",
      "\\draw (0.351, 0.043) -- (7.778, 7.778);\n",
      "\\draw (-0.034, 0.048) arc (176.047:182.210:3.831);\n",
      "\\draw (-0.040, -0.364) arc (267.878:273.857:3.796);\n",
      "\\draw (0.355, -0.358) arc (359.187:362.071:7.972);\n",
      "\\draw (0.351, 0.043) -- (-0.034, 0.048);\n"
     ]
    },
    {
     "name": "stderr",
     "output_type": "stream",
     "text": [
      "<>:12: SyntaxWarning:\n",
      "\n",
      "invalid escape sequence '\\d'\n",
      "\n",
      "<>:15: SyntaxWarning:\n",
      "\n",
      "invalid escape sequence '\\d'\n",
      "\n",
      "<>:17: SyntaxWarning:\n",
      "\n",
      "invalid escape sequence '\\d'\n",
      "\n",
      "<>:12: SyntaxWarning:\n",
      "\n",
      "invalid escape sequence '\\d'\n",
      "\n",
      "<>:15: SyntaxWarning:\n",
      "\n",
      "invalid escape sequence '\\d'\n",
      "\n",
      "<>:17: SyntaxWarning:\n",
      "\n",
      "invalid escape sequence '\\d'\n",
      "\n",
      "C:\\Users\\thijs\\AppData\\Local\\Temp\\ipykernel_17804\\621585458.py:12: SyntaxWarning:\n",
      "\n",
      "invalid escape sequence '\\d'\n",
      "\n",
      "C:\\Users\\thijs\\AppData\\Local\\Temp\\ipykernel_17804\\621585458.py:15: SyntaxWarning:\n",
      "\n",
      "invalid escape sequence '\\d'\n",
      "\n",
      "C:\\Users\\thijs\\AppData\\Local\\Temp\\ipykernel_17804\\621585458.py:17: SyntaxWarning:\n",
      "\n",
      "invalid escape sequence '\\d'\n",
      "\n"
     ]
    }
   ],
   "source": [
    "# for edge_i, edge in enumerate(net.edges): (-3.13, 0.987) arc (239.60: 277.368:8.4696);\n",
    "#     v0, v1 = edge\n",
    "#     coor0, coor1 = net.vertices[v0], net.vertices[v1]\n",
    "#     print(f'{edge_i}, starts at {coor0}, ends at {coor1}, and has a radius of {net.R[edge_i]} and an angle of {net.th[edge_i]}')\n",
    "for edge_i, edge in enumerate(net.edges):\n",
    "    v0, v1 = edge\n",
    "    coor0, coor1 = net.vertices[v0], net.vertices[v1]\n",
    "    R, th = net.R[edge_i], net.th[edge_i]\n",
    "    center, theta0, theta1 = net._points_on_arc(coor0[:2], coor1[:2], R, print_parameters = True)\n",
    "    # print(coor0[:2]/10, theta0*180/np.pi, theta1*180/np.pi, R)\n",
    "    if R/10 > 10000:\n",
    "        print(f\"\\draw ({coor0[0]/10:.3f}, {coor0[1]/10:.3f}) -- ({coor1[0]/10:.3f}, {coor1[1]/10:.3f});\")\n",
    "        continue\n",
    "    if theta0 > theta1:\n",
    "        print(f\"\\draw ({coor1[0]/10:.3f}, {coor1[1]/10:.3f}) arc ({theta0*180/np.pi:.3f}:{theta1*180/np.pi:.3f}:{-R/10:.3f});\")\n",
    "    else:\n",
    "        print(f\"\\draw ({coor0[0]/10:.3f}, {coor0[1]/10:.3f}) arc ({theta0*180/np.pi:.3f}:{theta1*180/np.pi:.3f}:{R/10:.3f});\")"
   ]
  },
  {
   "cell_type": "markdown",
   "metadata": {},
   "source": [
    "Make the paths"
   ]
  },
  {
   "cell_type": "code",
   "execution_count": 72,
   "metadata": {},
   "outputs": [
    {
     "data": {
      "text/plain": [
       "(23.440900592640475, 27.505430651647288, 178.48737055607222, 182.5620892668117)"
      ]
     },
     "execution_count": 72,
     "metadata": {},
     "output_type": "execute_result"
    }
   ],
   "source": [
    "minx, miny = 90, 90\n",
    "maxx, maxy = 0, 0\n",
    "for path_i, cor_list in enumerate(net.paths_xyz):\n",
    "    cor_list   = np.array(cor_list)\n",
    "    cor_list[:,0] += bed_width/2 -14\n",
    "    cor_list[:,1] += bed_height/2 \n",
    "    minx = min(minx, np.min(cor_list[:,0]))\n",
    "    miny = min(miny, np.min(cor_list[:,1]))\n",
    "    maxx = max(maxx, np.max(cor_list[:,0]))\n",
    "    maxy = max(maxy, np.max(cor_list[:,1]))\n",
    "\n",
    "minx , miny , maxx , maxy "
   ]
  }
 ],
 "metadata": {
  "kernelspec": {
   "display_name": "base",
   "language": "python",
   "name": "python3"
  },
  "language_info": {
   "codemirror_mode": {
    "name": "ipython",
    "version": 3
   },
   "file_extension": ".py",
   "mimetype": "text/x-python",
   "name": "python",
   "nbconvert_exporter": "python",
   "pygments_lexer": "ipython3",
   "version": "3.12.3"
  }
 },
 "nbformat": 4,
 "nbformat_minor": 2
}
